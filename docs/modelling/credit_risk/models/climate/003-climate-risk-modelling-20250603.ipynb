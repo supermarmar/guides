{
 "cells": [
  {
   "cell_type": "markdown",
   "metadata": {},
   "source": [
    "# **Climate Risk Models** 🔴\n",
    "\n",
    "## **IFRS Accounting Standards**\n",
    "\n",
    "https://www.ifrs.org/content/dam/ifrs/supporting-implementation/documents/effects-of-climate-related-matters-on-financial-statements.pdf\n",
    "\n",
    "Climate change is a topic in which investors and other IFRS stakeholders are increasingly interested because of its potential effect on companies’ business models, cash flows, financial position and financial performance. Most industries have been, or are likely to be, affected by climate change and efforts to manage its impact. However some companies, industries and activities will be affected more than others. \n",
    "\n",
    "IFRS Accounting Standards do not refer explicitly to climate-related matters. However, companies must consider climate-related matters in applying IFRS Accounting Standards when the effect of those matters is material in the context of the financial statements taken as a whole. Information is material1 if omitting, misstating or obscuring it could reasonably be expected to influence decisions that primary users of financial statements (hereafter, investors) make on the basis of those financial statements, which provide financial information about a specific company. \n",
    "\n",
    "When banks invest in projects or lend money to businesses affected by climate-related risks, they will need to consider how the exposure to climate-related risk affects the expected credit losses of these loans and investments.  For example, if a bank’s loan portfolio has significant exposure to fossil-fuel-intensive projects, it would identify the extent of this exposure and how climate-related risks could affect the amounts recognised in its financial statements.\n",
    "\n",
    "The paragraph below sets out an example illustrating when IFRS Accounting Standards may require companies to consider the effects of climate-related matters in applying the principles in IFRS9. \n",
    "\n",
    "*\"Climate-related matters may affect the accounting for financial instruments in a number of ways. For example, loan contracts might include terms linking contractual cash flows to a company’s achievement of climate-related targets. Those targets may affect how the loan is classified and measured (ie the lender would need to consider those terms in assessing whether the contractual terms of the financial asset give rise to cash flows that are solely payments of principal and interest on the principal amount outstanding). For the borrower, those targets may affect whether there are embedded derivatives that need to be separated from the host contract.*\n",
    "\n",
    "*Climate-related matters may also affect a lender’s exposure to credit losses.  For example, wildfires, floods or policy and regulatory changes could negatively affect a borrower’s ability to meet its debt obligations to the lender. Further, assets could become inaccessible or uninsurable, affecting the value of collateral for lenders. In recognising and measuring expected credit losses, IFRS 9 requires use of all reasonable and supportable information that is available without undue cost or effort. Climate-related matters may therefore be relevant—for example, they could affect the range of potential future economic scenarios, the lender’s assessment of significant increases in credit risk, whether a financial asset is credit impaired and/or the measurement of expected credit losses.\"*"
   ]
  }
 ],
 "metadata": {
  "kernelspec": {
   "display_name": "Python 3",
   "language": "python",
   "name": "python3"
  },
  "language_info": {
   "codemirror_mode": {
    "name": "ipython",
    "version": 3
   },
   "file_extension": ".py",
   "mimetype": "text/x-python",
   "name": "python",
   "nbconvert_exporter": "python",
   "pygments_lexer": "ipython3",
   "version": "3.13.0"
  }
 },
 "nbformat": 4,
 "nbformat_minor": 2
}
