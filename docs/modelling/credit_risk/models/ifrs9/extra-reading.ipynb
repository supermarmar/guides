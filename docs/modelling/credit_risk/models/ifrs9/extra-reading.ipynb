{
 "cells": [
  {
   "cell_type": "markdown",
   "id": "3c6ab60b",
   "metadata": {},
   "source": [
    "https://github.com/andrija-djurovic/adsfcr\n",
    "https://www.bis.org/ifc/publ/ifcb59_39.pdf\n",
    "https://www.garp.org/risk-intelligence/credit/how-to-improve-lgd-unlocking-the-generalized-area-under-the-curve\n",
    "https://www.garp.org/white-paper/the-best-choice-for-measuring-credit-risk\n",
    "https://www.garp.org/risk-intelligence/credit/credit-risk-measurement-alternatives-250207\n",
    "http://garp.org/white-paper/credit-risk-analysis-using-machine-and-deep-learning-modelshttps://www.tandfonline.com/doi/pdf/10.1080/23322039.2020.1735681?download=true\n",
    "https://link.springer.com/content/pdf/10.1007/s10462-024-10904-1.pdf\n",
    "https://www.ssrn.com/index.cfm/en/journal-of-credit-risk1/\n",
    "\n",
    "https://www.researchgate.net/publication/391443830_Towards_modelling_lifetime_default_risk_Exploring_different_subtypes_of_recurrent_event_Cox-regression_models/fulltext/68182b47bd3f1930dd6c66c7/Towards-modelling-lifetime-default-risk-Exploring-different-subtypes-of-recurrent-event-Cox-regression-models.pdf?origin=publication_detail&_tp=eyJjb250ZXh0Ijp7ImZpcnN0UGFnZSI6InB1YmxpY2F0aW9uIiwicGFnZSI6InB1YmxpY2F0aW9uRG93bmxvYWQiLCJwcmV2aW91c1BhZ2UiOiJwdWJsaWNhdGlvbiJ9fQ\n",
    "\n",
    "https://papers.ssrn.com/sol3/papers.cfm?abstract_id=5162304\n"
   ]
  }
 ],
 "metadata": {
  "language_info": {
   "name": "python"
  }
 },
 "nbformat": 4,
 "nbformat_minor": 5
}
