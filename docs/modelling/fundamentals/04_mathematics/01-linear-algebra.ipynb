{
 "cells": [
  {
   "cell_type": "markdown",
   "id": "8b71b183",
   "metadata": {},
   "source": [
    "# **Linear Algebra** 🔢"
   ]
  },
  {
   "cell_type": "markdown",
   "id": "c85aa4b7",
   "metadata": {},
   "source": [
    "Vectors and matrices are fundamental building blocks of data science as they are used to organize and manipulate data we feed through learning models. Linear algebra focuses on the mathematics surrounding linear operations and solving systems of linear equations. While most of us learned about basic linear operations in algebra classes in high school and middle school, “linear algebra” extends these lessons to apply to multi-dimensional data.\n",
    "\n",
    "Linear algebra focuses on the mathematics surrounding linear operations and solving systems of linear equations. While most of us learned about basic linear operations in algebra classes in high school and middle school, “linear algebra” extends these lessons to apply to multi-dimensional data.\n",
    "\n",
    "The core of using NumPy effectively for linear algebra is using NumPy arrays. NumPy arrays are n-dimensional array data structures that can be used to represent both vectors (1-dimensional array) and matrices (2-dimensional arrays).\n",
    "\n",
    "A NumPy array is initialized using the `np.array()` function, and including a Python list \n",
    "argument or Python nested list argument for arrays with more than one dimension."
   ]
  },
  {
   "cell_type": "code",
   "execution_count": null,
   "id": "2245879b",
   "metadata": {},
   "outputs": [],
   "source": [
    "import numpy as np"
   ]
  },
  {
   "cell_type": "markdown",
   "id": "fd5a1f45",
   "metadata": {},
   "source": [
    "## **Vectors**\n",
    "\n",
    "The fundamental building blocks of linear algebra are vectors. Vectors are defined as quantities having both direction and magnitude, compared to scalar quantities that only have magnitude. In order to have direction and magnitude, vector quantities consist of two or more elements of data. The dimensionality of a vector is determined by the number of numerical elements in that vector."
   ]
  },
  {
   "cell_type": "markdown",
   "id": "21fc4258",
   "metadata": {},
   "source": [
    "Any vector can be multiplied by a scalar, which results in every element of that vector being multiplied by that scalar individually. Vectors can be added and subtracted from each other when they are of the same dimension (same number of components)."
   ]
  },
  {
   "cell_type": "code",
   "execution_count": null,
   "id": "1367c04e",
   "metadata": {},
   "outputs": [
    {
     "data": {
      "text/plain": [
       "array([1, 2, 3, 4, 5, 6])"
      ]
     },
     "metadata": {},
     "output_type": "display_data"
    }
   ],
   "source": [
    "v = np.array([1, 2, 3, 4, 5, 6])\n",
    "v"
   ]
  },
  {
   "cell_type": "markdown",
   "id": "489dd45f",
   "metadata": {},
   "source": [
    "### **Magnitude**\n",
    "\n",
    "The magnitude (or length) of a vector, $||v||$, can be calculated with the following formula:\n",
    "\n",
    "$||v||=\\sqrt{\\sum_{i=1}^nv_i^2}$"
   ]
  },
  {
   "cell_type": "markdown",
   "id": "aee81da2",
   "metadata": {},
   "source": [
    "The “norm” (or length/magnitude) of a vector can be found using `np.linalg.norm()`:"
   ]
  },
  {
   "cell_type": "code",
   "execution_count": null,
   "id": "940ab936",
   "metadata": {},
   "outputs": [
    {
     "name": "stdout",
     "output_type": "stream",
     "text": [
      "6.244997998398398\n"
     ]
    }
   ],
   "source": [
    "v = np.array([-2, -3, 0, 5, 1])\n",
    "v_norm = np.linalg.norm(v)\n",
    "print(v_norm)"
   ]
  },
  {
   "cell_type": "markdown",
   "id": "252ee457",
   "metadata": {},
   "source": [
    "### **Dot Product**\n",
    "\n",
    "An important vector operation in linear algebra is the dot product. A dot product takes two equal dimension vectors and returns a single scalar value by summing the products of the vectors’ corresponding components. This can be written out formulaically as:\n",
    "\n",
    "$a\\cdot b = \\sum_{i=1}^na_ib_i$\n",
    "\n",
    "The resulting scalar value represents how much one vector “goes into” the other vector. If two vectors are perpendicular (or orthogonal), their dot product is equal to 0, as neither vector “goes into the other.”\n",
    "\n",
    "To find the magnitude of a vector it is simply the square root of a vector’s dot product with itself.\n",
    "\n",
    "$||a|| = \\sqrt{a\\cdot a}$\n",
    "\n",
    "To find the angle between two vectors, we rely on the dot product between the two vectors and use the following equation.\n",
    "\n",
    "$\\theta=\\arccos\\Large\\frac{a\\cdot b}{||a|| ||b||}$"
   ]
  },
  {
   "cell_type": "markdown",
   "id": "11ef2aa1",
   "metadata": {},
   "source": [
    "Vector dot products can be computed using the `np.dot()` function:"
   ]
  },
  {
   "cell_type": "code",
   "execution_count": null,
   "id": "4596443b",
   "metadata": {},
   "outputs": [
    {
     "name": "stdout",
     "output_type": "stream",
     "text": [
      "-12\n"
     ]
    }
   ],
   "source": [
    "v = np.array([-1, -2, -3])\n",
    "u = np.array([2, 2, 2])\n",
    "print(np.dot(v, u))"
   ]
  },
  {
   "cell_type": "code",
   "execution_count": null,
   "id": "750c9034",
   "metadata": {},
   "outputs": [
    {
     "name": "stdout",
     "output_type": "stream",
     "text": [
      "55.46241621381916\n"
     ]
    }
   ],
   "source": [
    "v = np.array([3, -1, 2])\n",
    "u = np.array([0, -1, 1])\n",
    "theta = np.arccos(np.dot(v, u) / (np.linalg.norm(v) * np.linalg.norm(u)))\n",
    "degree_theta = np.degrees(theta)\n",
    "print(degree_theta)"
   ]
  },
  {
   "cell_type": "markdown",
   "id": "677cfc36",
   "metadata": {},
   "source": [
    "## **Matrices**\n",
    "\n",
    "A matrix is a quantity with m rows and n columns of data. For example, we can combine multiple vectors into a matrix where each column of that matrix is one of the vectors. Matrices are helpful because they allow us to perform operations on large amounts of data, such as representing entire systems of equations in a single matrix quantity. The shape of a matrix is said to be mxn, where there are m rows and n columns. \n",
    "\n",
    "We can again both multiply entire matrices by a scalar value, as well as add or subtract matrices with equal shapes."
   ]
  },
  {
   "cell_type": "code",
   "execution_count": null,
   "id": "704bdfbc",
   "metadata": {},
   "outputs": [
    {
     "name": "stdout",
     "output_type": "stream",
     "text": [
      "[[1 2]\n",
      " [3 4]]\n"
     ]
    }
   ],
   "source": [
    "A = np.array([[1, 2], [3, 4]])\n",
    "print(A)"
   ]
  },
  {
   "cell_type": "markdown",
   "id": "81c2c030",
   "metadata": {},
   "source": [
    "Matrices can also be created by combining existing vectors using the `np.column_stack()` function:"
   ]
  },
  {
   "cell_type": "code",
   "execution_count": null,
   "id": "7524e823",
   "metadata": {},
   "outputs": [
    {
     "name": "stdout",
     "output_type": "stream",
     "text": [
      "[[-2  0  3]\n",
      " [-2  0  3]\n",
      " [-2  0  3]\n",
      " [-2  0  3]]\n"
     ]
    }
   ],
   "source": [
    "v = np.array([-2, -2, -2, -2])\n",
    "u = np.array([0, 0, 0, 0])\n",
    "w = np.array([3, 3, 3, 3])\n",
    "\n",
    "A = np.column_stack((v, u, w))\n",
    "print(A)"
   ]
  },
  {
   "cell_type": "markdown",
   "id": "1869084e",
   "metadata": {},
   "source": [
    "To access the shape of a matrix or vector once it’s been created as a NumPy array, we call the `.shape` attribute of the array variable:"
   ]
  },
  {
   "cell_type": "code",
   "execution_count": null,
   "id": "cec7dbdc",
   "metadata": {},
   "outputs": [
    {
     "name": "stdout",
     "output_type": "stream",
     "text": [
      "(2, 2)\n"
     ]
    }
   ],
   "source": [
    "A = np.array([[1, 2], [3, 4]])\n",
    "print(A.shape)"
   ]
  },
  {
   "cell_type": "markdown",
   "id": "ef3eefa6",
   "metadata": {},
   "source": [
    "To access individual elements in a NumPy array, we can index the array using square brackets. Unlike regular Python lists, we can index into all dimensions in a single square bracket, separating the dimension indices with commas."
   ]
  },
  {
   "cell_type": "code",
   "execution_count": null,
   "id": "9be5af38",
   "metadata": {},
   "outputs": [
    {
     "name": "stdout",
     "output_type": "stream",
     "text": [
      "2\n"
     ]
    }
   ],
   "source": [
    "A = np.array([[1, 2], [3, 4]])\n",
    "print(A[0, 1])"
   ]
  },
  {
   "cell_type": "markdown",
   "id": "951936ff",
   "metadata": {},
   "source": [
    "We can also select a subset or entire dimension of a NumPy array using a colon. For example, if we want the entire second column of a matrix, we can index the second column and use an empty colon to select every row as such:"
   ]
  },
  {
   "cell_type": "code",
   "execution_count": null,
   "id": "fee7ffce",
   "metadata": {},
   "outputs": [
    {
     "name": "stdout",
     "output_type": "stream",
     "text": [
      "[2 4]\n"
     ]
    }
   ],
   "source": [
    "A = np.array([[1, 2], [3, 4]])\n",
    "print(A[:, 1])"
   ]
  },
  {
   "cell_type": "markdown",
   "id": "e372cbd7",
   "metadata": {},
   "source": [
    "To multiply a vector or matrix by a scalar, we use inbuilt Python multiplication between the NumPy array and the scalar:"
   ]
  },
  {
   "cell_type": "code",
   "execution_count": null,
   "id": "0878d100",
   "metadata": {},
   "outputs": [
    {
     "data": {
      "text/plain": [
       "array([[ 4,  8],\n",
       "       [12, 16]])"
      ]
     },
     "metadata": {},
     "output_type": "display_data"
    }
   ],
   "source": [
    "A = np.array([[1, 2], [3, 4]])\n",
    "4 * A"
   ]
  },
  {
   "cell_type": "markdown",
   "id": "49fdf4ee",
   "metadata": {},
   "source": [
    "To add equally sized vectors or matrices, we can again use inbuilt Python addition between the NumPy arrays."
   ]
  },
  {
   "cell_type": "code",
   "execution_count": null,
   "id": "69cd1b6d",
   "metadata": {},
   "outputs": [
    {
     "data": {
      "text/plain": [
       "array([[-3, -1],\n",
       "       [ 1,  3]])"
      ]
     },
     "metadata": {},
     "output_type": "display_data"
    }
   ],
   "source": [
    "A = np.array([[1, 2], [3, 4]])\n",
    "B = np.array([[-4, -3], [-2, -1]])\n",
    "A + B"
   ]
  },
  {
   "cell_type": "markdown",
   "id": "fa7e415e",
   "metadata": {},
   "source": [
    "### **Matrix Multiplication**\n",
    "\n",
    "A new and important operation we can now perform is matrix multiplication. Matrix multiplication works by computing the dot product between each row of the first matrix and each column of the second matrix.\n",
    "\n",
    "An important rule about matrix multiplication is that the shapes of the two matrices AB must be such that the number of columns in A is equal to the number of rows in B. "
   ]
  },
  {
   "cell_type": "markdown",
   "id": "ef9912a8",
   "metadata": {},
   "source": [
    "![image.png](attachment:image.png)"
   ]
  },
  {
   "cell_type": "markdown",
   "id": "14335554",
   "metadata": {},
   "source": [
    "Matrix multiplication is computed using either the `np.matmul()` function or using the `@` symbol as shorthand. It is important to note that using the typical Python multiplication symbol `*` will result in an elementwise multiplication instead."
   ]
  },
  {
   "cell_type": "code",
   "execution_count": null,
   "id": "fe655bd6",
   "metadata": {},
   "outputs": [
    {
     "data": {
      "text/plain": [
       "array([[  1,   1,  -4],\n",
       "       [-15,  13,  -4],\n",
       "       [ -2,   2,   4]])"
      ]
     },
     "metadata": {},
     "output_type": "display_data"
    }
   ],
   "source": [
    "A = np.array([[2, -3, 1], [-2, -1, 4], [0, 2, 2]])\n",
    "B = np.array([[3, -2, 1], [1, -1, 2], [-2, 2, 0]])\n",
    "\n",
    "# one way to matrix multiply\n",
    "np.matmul(A, B)"
   ]
  },
  {
   "cell_type": "code",
   "execution_count": null,
   "id": "2b8b2e79",
   "metadata": {},
   "outputs": [
    {
     "data": {
      "text/plain": [
       "array([[ -8,  -5],\n",
       "       [-20, -13]])"
      ]
     },
     "metadata": {},
     "output_type": "display_data"
    }
   ],
   "source": [
    "# another way to matrix multiply\n",
    "A @ B"
   ]
  },
  {
   "cell_type": "markdown",
   "id": "814f6b35",
   "metadata": {},
   "source": [
    "### **Special Matrices**\n",
    "\n",
    "#### **Identity Matrix**\n",
    "\n",
    "The identity matrix is a square matrix of elements equal to 0 except for the elements along the diagonal that are equal to 1. Any matrix multiplied by the identity matrix, either on the left or right side, will be equal to itself.\n",
    "\n",
    "$\n",
    "\\begin{bmatrix}\n",
    "1 & 0 & 0\\\\\n",
    "0 & 1 & 0\\\\\n",
    "0 & 0 & 1\n",
    "\\end{bmatrix}\n",
    "$\n"
   ]
  },
  {
   "cell_type": "markdown",
   "id": "1e95688c",
   "metadata": {},
   "source": [
    "An identity matrix can be constructed using the `np.eye()` functions, which takes an integer argument that determines the $n x n$ size of the square identity matrix."
   ]
  },
  {
   "cell_type": "code",
   "execution_count": null,
   "id": "8e9c498b",
   "metadata": {},
   "outputs": [
    {
     "data": {
      "text/plain": [
       "array([[1., 0., 0., 0.],\n",
       "       [0., 1., 0., 0.],\n",
       "       [0., 0., 1., 0.],\n",
       "       [0., 0., 0., 1.]])"
      ]
     },
     "metadata": {},
     "output_type": "display_data"
    }
   ],
   "source": [
    "# 4x4 identity matrix\n",
    "identity = np.eye(4)\n",
    "identity"
   ]
  },
  {
   "cell_type": "markdown",
   "id": "0aeba7a9",
   "metadata": {},
   "source": [
    "A matrix or vector of all zeros can be constructed using the `np.zeros()` function, which takes in a tuple argument for the shape of the NumPy array filled with zeros."
   ]
  },
  {
   "cell_type": "code",
   "execution_count": null,
   "id": "c82c00db",
   "metadata": {},
   "outputs": [
    {
     "data": {
      "text/plain": [
       "array([[0., 0.],\n",
       "       [0., 0.],\n",
       "       [0., 0.]])"
      ]
     },
     "metadata": {},
     "output_type": "display_data"
    }
   ],
   "source": [
    "# 3x2 matrix of zeros\n",
    "zero_matrix = np.zeros((3, 2))\n",
    "zero_matrix"
   ]
  },
  {
   "cell_type": "markdown",
   "id": "19a61940",
   "metadata": {},
   "source": [
    "\n",
    "#### **Permutation Matrix**\n",
    "\n",
    "A permutation matrix is a square matrix that allows us to flip rows and columns of a separate matrix. Similar to the identity matrix, a permutation matrix is made of elements equal to 0, except for one element in each row or column that is equal to 1. In order to flip rows in matrix A, we multiply a permutation matrix P on the left (PA). To flip columns, we multiply a permutation matrix P on the right (AP).\n",
    "\n",
    "$ P =\n",
    "\\begin{bmatrix}\n",
    "0 & 0 & 1\\\\\n",
    "0 & 0 & 1\\\\\n",
    "1 & 0 & 0\n",
    "\\end{bmatrix}\n",
    "$\n"
   ]
  },
  {
   "cell_type": "markdown",
   "id": "295473f1",
   "metadata": {},
   "source": [
    "\n",
    "#### **Transpose Matrix**\n",
    "\n",
    "The transpose of a matrix is computed by swapping the rows and columns of a matrix. The transpose operation is denoted by a superscript uppercase “T” ($A^T$).\n",
    "\n",
    "The transpose of a matrix can be accessed using the `.T` attribute of a NumPy array as shown below:"
   ]
  },
  {
   "cell_type": "code",
   "execution_count": null,
   "id": "439eb8bc",
   "metadata": {},
   "outputs": [
    {
     "data": {
      "text/plain": [
       "array([[1, 3],\n",
       "       [2, 4]])"
      ]
     },
     "metadata": {},
     "output_type": "display_data"
    }
   ],
   "source": [
    "A = np.array([[1, 2], [3, 4]])\n",
    "A_transpose = A.T\n",
    "A_transpose"
   ]
  },
  {
   "cell_type": "markdown",
   "id": "91053b51",
   "metadata": {},
   "source": [
    "## **Linear Systems**\n",
    "\n",
    "An extremely useful application of matrices is for solving systems of linear equations.\n",
    "\n",
    "$a_1x+b_1y+c_1z=d_1$\n",
    "\n",
    "$a_2x+b_2y+c_2z=d_2$\n",
    "\n",
    "$a_3x+b_3y+c_3z=d_3$\n",
    "\n",
    "This system of equations can be represented using vectors and their linear combination operations.\n",
    "\n",
    "![image.png](attachment:image.png)"
   ]
  },
  {
   "cell_type": "markdown",
   "id": "1fcb27c4",
   "metadata": {},
   "source": [
    "Our final goal is going to be to represent this system in form $Ax = b$.\n",
    "\n",
    "![image-2.png](attachment:image-2.png)"
   ]
  },
  {
   "cell_type": "markdown",
   "id": "4531e45d",
   "metadata": {},
   "source": [
    "This is what is known as an augmented matrix."
   ]
  },
  {
   "cell_type": "markdown",
   "id": "bfc2cf03",
   "metadata": {},
   "source": [
    "### **Gauss-Jordan Elimination**\n",
    "\n",
    "Now that we have our system of linear equations in augmented matrix form, we can solve for the unknown variables using a technique called Gauss-Jordan Elimination. In regular algebra, we may try to solve the system by combining equations to eliminate variables until we can solve for a single one. Having one variable solved for then allows us to solve for a second variable, and we can continue that process until all variables are solved for.\n",
    "\n",
    "To solve for the system, we want to put our augmented matrix into something called row echelon form where all elements below the diagonal are equal to zero.\n",
    "\n",
    "![image.png](attachment:image.png)"
   ]
  },
  {
   "cell_type": "markdown",
   "id": "bf510a58",
   "metadata": {},
   "source": [
    "Note that the values with apostrophes in the row echelon form matrix mean that they have been changed in the process of updating the matrix. Once in this form we can rewrite our original equation as:"
   ]
  },
  {
   "cell_type": "markdown",
   "id": "aa97b287",
   "metadata": {},
   "source": [
    "![image.png](attachment:image.png)"
   ]
  },
  {
   "cell_type": "markdown",
   "id": "c3722888",
   "metadata": {},
   "source": [
    "To get to row echelon form we swap rows and/or add or subtract rows against other rows. A typical strategy is to add or subtract row 1 against all rows below in order to make all elements in column 1 equal to 0 under the diagonal. Once this is achieved, we can do the same with row 2 and all rows below to make all elements below the diagonal in column 2 equal to 0.\n",
    "\n",
    "Once all elements below the diagonal are equal to 0, we can simply solve for the variable values, starting at the bottom of the matrix and working our way up.\n",
    "\n",
    "It’s important to realize that not all systems of equations are solvable!"
   ]
  },
  {
   "cell_type": "markdown",
   "id": "9b132609",
   "metadata": {},
   "source": [
    "Finally, we can actually solve for unknown variables in a system on linear equations in $Ax=b$ form using `np.linalg.solve()`, which takes in the $A$ and $b$ parameters."
   ]
  },
  {
   "cell_type": "code",
   "execution_count": null,
   "id": "77ea55fd",
   "metadata": {},
   "outputs": [
    {
     "name": "stdout",
     "output_type": "stream",
     "text": [
      "(np.float64(-0.3333333333333335), np.float64(-0.6666666666666666), np.float64(0.6666666666666669))\n"
     ]
    }
   ],
   "source": [
    "# each array in A is an equation from the above system of equations\n",
    "A = np.array([[2, -3, 1], [3, 1, 1], [-1, -2, -1]])\n",
    "# the solution to each equation\n",
    "b = np.array([2, -1, 1])\n",
    "# solve for x, y, and z\n",
    "x, y, z = np.linalg.solve(A, b)\n",
    "print((x, y, z))"
   ]
  },
  {
   "cell_type": "markdown",
   "id": "64e80d20",
   "metadata": {},
   "source": [
    "### **Inverse Matrics**\n",
    "\n",
    "The inverse of a matrix, $A^{-1}$, is one where the following equation is true:\n",
    "\n",
    "$AA^{−1}=A^{−1}A=I$\n",
    "\n",
    "This means that the product of a matrix and its inverse (in either order) is equal to the identity matrix. An important consideration to keep in mind is that not all matrices have inverses. Those matrices that do not have an inverse are referred to as singular matrices."
   ]
  },
  {
   "cell_type": "markdown",
   "id": "34a68144",
   "metadata": {},
   "source": [
    "To find the inverse matrix, we can again use Gauss-Jordan elimination. Knowing that $AA^{-1} = I$, we can create the augmented matrix $[ A | I ]$, where we attempt to perform row operations such that $[ A | I ] \\rightarrow [ I | A^{-1} ]$."
   ]
  },
  {
   "cell_type": "markdown",
   "id": "11c954ee",
   "metadata": {},
   "source": [
    "The inverse of a square matrix, if one exists, can be found using `np.linalg.inv()`:"
   ]
  },
  {
   "cell_type": "code",
   "execution_count": null,
   "id": "24657d8c",
   "metadata": {},
   "outputs": [
    {
     "name": "stdout",
     "output_type": "stream",
     "text": [
      "[[-2.   1. ]\n",
      " [ 1.5 -0.5]]\n"
     ]
    }
   ],
   "source": [
    "A = np.array([[1, 2], [3, 4]])\n",
    "print(np.linalg.inv(A))"
   ]
  },
  {
   "cell_type": "markdown",
   "id": "2870e6e3",
   "metadata": {},
   "source": [
    "# **Extra Reading**\n",
    "\n",
    "https://medium.com/@amehsunday178/a-deep-dive-into-vector-spaces-the-core-meaning-of-eigenvalues-eigenvectors-eigendecomposition-c496b8926554"
   ]
  }
 ],
 "metadata": {
  "language_info": {
   "name": "python"
  }
 },
 "nbformat": 4,
 "nbformat_minor": 5
}
