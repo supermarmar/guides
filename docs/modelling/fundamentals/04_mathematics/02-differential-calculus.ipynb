{
 "cells": [
  {
   "cell_type": "markdown",
   "id": "9224750e",
   "metadata": {},
   "source": [
    "# **Differential Calculus** 🔢"
   ]
  },
  {
   "cell_type": "markdown",
   "id": "13ad6dc6",
   "metadata": {},
   "source": [
    "Differential calculus deals with the study of rates of change. It allows us to quantify how one variable relates to another. In the field of data science, this is invaluable information to understand. Learning models are built upon quantifying how variables relate to each other to make predictions or understand patterns."
   ]
  },
  {
   "cell_type": "markdown",
   "id": "08713114",
   "metadata": {},
   "source": [
    "## **Limits**\n",
    "\n",
    "Limits quantify what happens to the values of a function as we approach a given point. This can be defined notationally as:\n",
    "\n",
    "$\\displaystyle{\\lim_{x \\to 6}} f(x)=L$"
   ]
  },
  {
   "cell_type": "markdown",
   "id": "692a3a53",
   "metadata": {},
   "source": [
    "We can read this in simple terms as “the limit as $x$ goes to 6 of $f(x)$ approaches some value $L$”. The limit as x approaches 6 exists only if the limit as x approaches 6 from the left side is equal to the limit as x approaches 6 from the right side."
   ]
  },
  {
   "cell_type": "markdown",
   "id": "0f0d03af",
   "metadata": {},
   "source": [
    "## **Derivatives**\n",
    "\n",
    "This is called the derivative at a point, which is the function’s slope (rate of change) at a specific point.\n",
    "\n",
    "$\\displaystyle{\\lim_{h \\to 0}} \\frac{f(x+h)-f(x)}{h}$\n",
    "\n",
    "Fortunately, many common functions have corresponding derivative functions. Derivative functions are often denoted $f’(x)$ (read `f` prime of `x`) or $\\frac{df}{dx}$ (read derivative of f at x). If $f(x)$ represents the function value at a point x, the corresponding derivative function $f’(x)$ represents how a function is changing at the same point x. \n",
    "\n",
    "- If $f’(x) > 0$, the corresponding function $f(x)$ is increasing.\n",
    "- Similarly, if $f’(x) < 0$, then the original function is decreasing.\n",
    "- If $f’(x) = 0$, then the function is not changing."
   ]
  },
  {
   "cell_type": "code",
   "execution_count": null,
   "id": "6d79f6ad",
   "metadata": {},
   "outputs": [],
   "source": [
    "from math import pow\n",
    "\n",
    "# dx is the \"step\" between each x value\n",
    "dx = 0.05\n",
    "\n",
    "\n",
    "def f(x):\n",
    "    # to calculate the y values of the function\n",
    "    return pow(x, 2) + 3\n",
    "\n",
    "\n",
    "# x values\n",
    "f_array_x = [x for x in np.arange(0, 4, dx)]\n",
    "# y values\n",
    "f_array_y = [f(x) for x in np.arange(0, 4, dx)]"
   ]
  },
  {
   "cell_type": "markdown",
   "id": "3b78cbe7",
   "metadata": {},
   "source": [
    "To compute the derivative of `f_array`, we use a NumPy function called `gradient()`."
   ]
  },
  {
   "cell_type": "code",
   "execution_count": null,
   "id": "02fd905a",
   "metadata": {},
   "outputs": [],
   "source": [
    "f_array_deriv = np.gradient(f_array_y, dx)"
   ]
  },
  {
   "cell_type": "markdown",
   "id": "9caeb90e",
   "metadata": {},
   "source": [
    "`gradient()` takes in an array (in this case, a one-dimensional array) as its first argument. We also need to specify the distance between the $x$ values, which is $dx$. For a one-dimensional array, `gradient()` calculates the rate of change"
   ]
  }
 ],
 "metadata": {
  "language_info": {
   "name": "python"
  }
 },
 "nbformat": 4,
 "nbformat_minor": 5
}
