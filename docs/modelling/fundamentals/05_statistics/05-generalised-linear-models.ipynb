{
 "cells": [
  {
   "cell_type": "markdown",
   "id": "413a3a36",
   "metadata": {},
   "source": [
    "# **Single Linear Regression**\n",
    "\n",
    "Linear regression is a powerful modeling technique that can be used to understand the relationship between a quantitative variable and one or more other variables, sometimes with the goal of making predictions. \n",
    "\n",
    "Like the name implies, LINEar regression involves fitting a line to a set of data points. In order to fit a line, it’s helpful to understand the equation for a line, which is often written as $y=mx+b$.\n"
   ]
  },
  {
   "cell_type": "code",
   "execution_count": 229,
   "id": "fc3d6657",
   "metadata": {},
   "outputs": [],
   "source": [
    "import os\n",
    "\n",
    "import matplotlib.pyplot as plt\n",
    "import numpy as np\n",
    "import pandas as pd\n",
    "import seaborn as sns\n",
    "\n",
    "from src.config import CREDIT_RISK_DATA_DIR"
   ]
  },
  {
   "cell_type": "code",
   "execution_count": 230,
   "id": "04c4cd37",
   "metadata": {},
   "outputs": [],
   "source": [
    "os.chdir(CREDIT_RISK_DATA_DIR)\n",
    "\n",
    "df = pd.read_csv(\"credit_risk_dataset.csv\")\n",
    "x = \"person_income\"\n",
    "Y = \"loan_amnt\""
   ]
  },
  {
   "cell_type": "markdown",
   "id": "dabf2ff6",
   "metadata": {},
   "source": [
    "\n",
    "In order to actually choose a line, we need to come up with some criteria for what “best” actually means. Depending on our ultimate goals and data, we might choose different criteria; however, a common choice for linear regression is ordinary least squares (OLS). In simple OLS regression, we assume that the relationship between two variables x and y can be modeled as:\n",
    "\n",
    "$y=mx+b+\\epsilon$\n",
    "\n",
    "We define “best” as the line that minimizes the total squared error for all data points. This total squared error is called the loss function in machine learning. Notice that we square each individual distance so that points below and above the line contribute equally to loss (when we square a negative number, the result is positive). To find the best-fit line, we need to find the slope and intercept of the line that minimizes loss.\n"
   ]
  },
  {
   "cell_type": "markdown",
   "id": "c1de8a3f",
   "metadata": {},
   "source": [
    "## **Gradient Descent**\n",
    "\n",
    "As we try to minimize loss, we take each parameter we are changing, and move it as long as we are decreasing loss. It’s like we are moving down a hill, and stop once we reach the bottom. The process by which we do this is called gradient descent. We move in the direction that decreases our loss the most. Gradient refers to the slope of the curve at any point.\n",
    "\n",
    "Now that we know how to calculate the gradient, we want to take a “step” in that direction. However, it’s important to think about whether that step is too big or too small. We don’t want to overshoot the minimum error!\n",
    "\n",
    "Gradient descent can be used for much more than just linear regression. In fact, it can be used to train any machine learning algorithm as long as the ML algorithm has a loss function that is a differentiable function of the ML algorithm’s parameters. In more intuitive terms, gradient descent can be used whenever the loss function looks like smooth terrain with hills and valleys (even if those hills and valleys live in a space with more than 3 dimensions).\n",
    "\n",
    "Gradient descent (or variations of it) can be used to find parameters in logistic regression models, support vector machines, neural networks, and other ML models. Gradient descent’s flexibility makes it an essential part of machine learning.\n",
    "\n",
    "We can scale the size of the step by multiplying the gradient by a learning rate. How do we know when we should stop changing the parameters m and b? How will we know when our program has learned enough?\n"
   ]
  },
  {
   "cell_type": "markdown",
   "id": "e82dbd7d",
   "metadata": {},
   "source": [
    "\n",
    "### **Convergence**\n",
    "\n",
    "To answer this, we have to define convergence. Convergence is when the loss stops changing (or changes very slowly) when parameters are changed.\n",
    "\n",
    "Hopefully, the algorithm will converge at the best values for the parameters `m` and `b`."
   ]
  },
  {
   "cell_type": "markdown",
   "id": "a3ad653f",
   "metadata": {},
   "source": [
    "### **Learning Rate**\n",
    "We want our program to be able to iteratively learn what the best `m` and `b` values are. So for each `m` and `b` pair that we guess, we want to move them in the direction of the gradients we’ve calculated. But how far do we move in that direction?\n",
    "\n",
    "We have to choose a learning rate, which will determine how far down the loss curve we go. A small learning rate will take a long time to converge — you might run out of time or cycles before getting an answer. A large learning rate might skip over the best value. It might never converge!"
   ]
  },
  {
   "cell_type": "markdown",
   "id": "b3002a37",
   "metadata": {},
   "source": [
    "## **Model Fitting**\n",
    "\n",
    "There are a number of Python libraries that can be used to fit a linear regression, but in this example, we will use the `OLS.from_formula()` function from `statsmodels.api` because it uses simple syntax and provides comprehensive model summaries."
   ]
  },
  {
   "cell_type": "markdown",
   "id": "e6382d9c",
   "metadata": {},
   "source": [
    "### **statsmodels.api.OLS**"
   ]
  },
  {
   "cell_type": "code",
   "execution_count": null,
   "id": "f5931f39",
   "metadata": {},
   "outputs": [],
   "source": [
    "import statsmodels.api as sm\n",
    "\n",
    "model = sm.OLS.from_formula(f\"{Y} ~ {x} \", data=df)"
   ]
  },
  {
   "cell_type": "markdown",
   "id": "645c974d",
   "metadata": {},
   "source": [
    "Then, we can fit the model using `.fit()`:"
   ]
  },
  {
   "cell_type": "code",
   "execution_count": 232,
   "id": "1d37d77c",
   "metadata": {},
   "outputs": [],
   "source": [
    "results = model.fit()"
   ]
  },
  {
   "cell_type": "markdown",
   "id": "cec2758d",
   "metadata": {},
   "source": [
    "Finally, we can inspect a summary of the results using `print(results.summary())`. "
   ]
  },
  {
   "cell_type": "code",
   "execution_count": 233,
   "id": "602ae194",
   "metadata": {},
   "outputs": [
    {
     "data": {
      "text/html": [
       "<table class=\"simpletable\">\n",
       "<caption>OLS Regression Results</caption>\n",
       "<tr>\n",
       "  <th>Dep. Variable:</th>        <td>loan_amnt</td>    <th>  R-squared:         </th>  <td>   0.071</td>  \n",
       "</tr>\n",
       "<tr>\n",
       "  <th>Model:</th>                   <td>OLS</td>       <th>  Adj. R-squared:    </th>  <td>   0.071</td>  \n",
       "</tr>\n",
       "<tr>\n",
       "  <th>Method:</th>             <td>Least Squares</td>  <th>  F-statistic:       </th>  <td>   2497.</td>  \n",
       "</tr>\n",
       "<tr>\n",
       "  <th>Date:</th>             <td>Tue, 24 Jun 2025</td> <th>  Prob (F-statistic):</th>   <td>  0.00</td>   \n",
       "</tr>\n",
       "<tr>\n",
       "  <th>Time:</th>                 <td>19:14:23</td>     <th>  Log-Likelihood:    </th> <td>-3.3017e+05</td>\n",
       "</tr>\n",
       "<tr>\n",
       "  <th>No. Observations:</th>      <td> 32581</td>      <th>  AIC:               </th>  <td>6.603e+05</td> \n",
       "</tr>\n",
       "<tr>\n",
       "  <th>Df Residuals:</th>          <td> 32579</td>      <th>  BIC:               </th>  <td>6.604e+05</td> \n",
       "</tr>\n",
       "<tr>\n",
       "  <th>Df Model:</th>              <td>     1</td>      <th>                     </th>      <td> </td>     \n",
       "</tr>\n",
       "<tr>\n",
       "  <th>Covariance Type:</th>      <td>nonrobust</td>    <th>                     </th>      <td> </td>     \n",
       "</tr>\n",
       "</table>\n",
       "<table class=\"simpletable\">\n",
       "<tr>\n",
       "        <td></td>           <th>coef</th>     <th>std err</th>      <th>t</th>      <th>P>|t|</th>  <th>[0.025</th>    <th>0.975]</th>  \n",
       "</tr>\n",
       "<tr>\n",
       "  <th>Intercept</th>     <td> 7791.1565</td> <td>   49.339</td> <td>  157.910</td> <td> 0.000</td> <td> 7694.450</td> <td> 7887.863</td>\n",
       "</tr>\n",
       "<tr>\n",
       "  <th>person_income</th> <td>    0.0272</td> <td>    0.001</td> <td>   49.972</td> <td> 0.000</td> <td>    0.026</td> <td>    0.028</td>\n",
       "</tr>\n",
       "</table>\n",
       "<table class=\"simpletable\">\n",
       "<tr>\n",
       "  <th>Omnibus:</th>       <td>8280.890</td> <th>  Durbin-Watson:     </th>  <td>   1.490</td> \n",
       "</tr>\n",
       "<tr>\n",
       "  <th>Prob(Omnibus):</th>  <td> 0.000</td>  <th>  Jarque-Bera (JB):  </th> <td>477655.243</td>\n",
       "</tr>\n",
       "<tr>\n",
       "  <th>Skew:</th>           <td> 0.333</td>  <th>  Prob(JB):          </th>  <td>    0.00</td> \n",
       "</tr>\n",
       "<tr>\n",
       "  <th>Kurtosis:</th>       <td>21.746</td>  <th>  Cond. No.          </th>  <td>1.32e+05</td> \n",
       "</tr>\n",
       "</table><br/><br/>Notes:<br/>[1] Standard Errors assume that the covariance matrix of the errors is correctly specified.<br/>[2] The condition number is large, 1.32e+05. This might indicate that there are<br/>strong multicollinearity or other numerical problems."
      ],
      "text/latex": [
       "\\begin{center}\n",
       "\\begin{tabular}{lclc}\n",
       "\\toprule\n",
       "\\textbf{Dep. Variable:}    &    loan\\_amnt    & \\textbf{  R-squared:         } &      0.071   \\\\\n",
       "\\textbf{Model:}            &       OLS        & \\textbf{  Adj. R-squared:    } &      0.071   \\\\\n",
       "\\textbf{Method:}           &  Least Squares   & \\textbf{  F-statistic:       } &      2497.   \\\\\n",
       "\\textbf{Date:}             & Tue, 24 Jun 2025 & \\textbf{  Prob (F-statistic):} &      0.00    \\\\\n",
       "\\textbf{Time:}             &     19:14:23     & \\textbf{  Log-Likelihood:    } & -3.3017e+05  \\\\\n",
       "\\textbf{No. Observations:} &       32581      & \\textbf{  AIC:               } &  6.603e+05   \\\\\n",
       "\\textbf{Df Residuals:}     &       32579      & \\textbf{  BIC:               } &  6.604e+05   \\\\\n",
       "\\textbf{Df Model:}         &           1      & \\textbf{                     } &              \\\\\n",
       "\\textbf{Covariance Type:}  &    nonrobust     & \\textbf{                     } &              \\\\\n",
       "\\bottomrule\n",
       "\\end{tabular}\n",
       "\\begin{tabular}{lcccccc}\n",
       "                        & \\textbf{coef} & \\textbf{std err} & \\textbf{t} & \\textbf{P$> |$t$|$} & \\textbf{[0.025} & \\textbf{0.975]}  \\\\\n",
       "\\midrule\n",
       "\\textbf{Intercept}      &    7791.1565  &       49.339     &   157.910  &         0.000        &     7694.450    &     7887.863     \\\\\n",
       "\\textbf{person\\_income} &       0.0272  &        0.001     &    49.972  &         0.000        &        0.026    &        0.028     \\\\\n",
       "\\bottomrule\n",
       "\\end{tabular}\n",
       "\\begin{tabular}{lclc}\n",
       "\\textbf{Omnibus:}       & 8280.890 & \\textbf{  Durbin-Watson:     } &     1.490   \\\\\n",
       "\\textbf{Prob(Omnibus):} &   0.000  & \\textbf{  Jarque-Bera (JB):  } & 477655.243  \\\\\n",
       "\\textbf{Skew:}          &   0.333  & \\textbf{  Prob(JB):          } &      0.00   \\\\\n",
       "\\textbf{Kurtosis:}      &  21.746  & \\textbf{  Cond. No.          } &  1.32e+05   \\\\\n",
       "\\bottomrule\n",
       "\\end{tabular}\n",
       "%\\caption{OLS Regression Results}\n",
       "\\end{center}\n",
       "\n",
       "Notes: \\newline\n",
       " [1] Standard Errors assume that the covariance matrix of the errors is correctly specified. \\newline\n",
       " [2] The condition number is large, 1.32e+05. This might indicate that there are \\newline\n",
       " strong multicollinearity or other numerical problems."
      ],
      "text/plain": [
       "<class 'statsmodels.iolib.summary.Summary'>\n",
       "\"\"\"\n",
       "                            OLS Regression Results                            \n",
       "==============================================================================\n",
       "Dep. Variable:              loan_amnt   R-squared:                       0.071\n",
       "Model:                            OLS   Adj. R-squared:                  0.071\n",
       "Method:                 Least Squares   F-statistic:                     2497.\n",
       "Date:                Tue, 24 Jun 2025   Prob (F-statistic):               0.00\n",
       "Time:                        19:14:23   Log-Likelihood:            -3.3017e+05\n",
       "No. Observations:               32581   AIC:                         6.603e+05\n",
       "Df Residuals:                   32579   BIC:                         6.604e+05\n",
       "Df Model:                           1                                         \n",
       "Covariance Type:            nonrobust                                         \n",
       "=================================================================================\n",
       "                    coef    std err          t      P>|t|      [0.025      0.975]\n",
       "---------------------------------------------------------------------------------\n",
       "Intercept      7791.1565     49.339    157.910      0.000    7694.450    7887.863\n",
       "person_income     0.0272      0.001     49.972      0.000       0.026       0.028\n",
       "==============================================================================\n",
       "Omnibus:                     8280.890   Durbin-Watson:                   1.490\n",
       "Prob(Omnibus):                  0.000   Jarque-Bera (JB):           477655.243\n",
       "Skew:                           0.333   Prob(JB):                         0.00\n",
       "Kurtosis:                      21.746   Cond. No.                     1.32e+05\n",
       "==============================================================================\n",
       "\n",
       "Notes:\n",
       "[1] Standard Errors assume that the covariance matrix of the errors is correctly specified.\n",
       "[2] The condition number is large, 1.32e+05. This might indicate that there are\n",
       "strong multicollinearity or other numerical problems.\n",
       "\"\"\""
      ]
     },
     "execution_count": 233,
     "metadata": {},
     "output_type": "execute_result"
    }
   ],
   "source": [
    "results.summary()"
   ]
  },
  {
   "cell_type": "markdown",
   "id": "0827765e",
   "metadata": {},
   "source": [
    "For now, we’ll only look at the coefficients using `results.params`, but the full summary table is useful because it contains other important diagnostic information."
   ]
  },
  {
   "cell_type": "code",
   "execution_count": 234,
   "id": "06d51de8",
   "metadata": {},
   "outputs": [
    {
     "data": {
      "application/vnd.microsoft.datawrangler.viewer.v0+json": {
       "columns": [
        {
         "name": "index",
         "rawType": "object",
         "type": "string"
        },
        {
         "name": "0",
         "rawType": "float64",
         "type": "float"
        }
       ],
       "ref": "1bc40991-f773-461a-902c-117772f878ce",
       "rows": [
        [
         "Intercept",
         "7791.156492854863"
        ],
        [
         "person_income",
         "0.027214812514049398"
        ]
       ],
       "shape": {
        "columns": 1,
        "rows": 2
       }
      },
      "text/plain": [
       "Intercept        7791.156493\n",
       "person_income       0.027215\n",
       "dtype: float64"
      ]
     },
     "execution_count": 234,
     "metadata": {},
     "output_type": "execute_result"
    }
   ],
   "source": [
    "results.params"
   ]
  },
  {
   "cell_type": "markdown",
   "id": "624562dd",
   "metadata": {},
   "source": [
    "In Python, we can calculate this by plugging in values or by accessing the intercept and slope from `results.params` using their indices (0 and 1, respectively):"
   ]
  },
  {
   "cell_type": "code",
   "execution_count": 235,
   "id": "c33369bd",
   "metadata": {},
   "outputs": [
    {
     "name": "stdout",
     "output_type": "stream",
     "text": [
      "7791.836863167715\n"
     ]
    }
   ],
   "source": [
    "print(results.params.iloc[0] + results.params.iloc[1] * 25)"
   ]
  },
  {
   "cell_type": "markdown",
   "id": "0ef5db6f",
   "metadata": {},
   "source": [
    "We can also do this calculation using the `.predict()` method on the fitted model."
   ]
  },
  {
   "cell_type": "code",
   "execution_count": 236,
   "id": "4f1f3ab5",
   "metadata": {},
   "outputs": [
    {
     "data": {
      "application/vnd.microsoft.datawrangler.viewer.v0+json": {
       "columns": [
        {
         "name": "index",
         "rawType": "int64",
         "type": "integer"
        },
        {
         "name": "0",
         "rawType": "float64",
         "type": "float"
        }
       ],
       "ref": "bf8c18b3-88df-400f-9555-95752fa184f8",
       "rows": [
        [
         "0",
         "7818.3713053689125"
        ]
       ],
       "shape": {
        "columns": 1,
        "rows": 1
       }
      },
      "text/plain": [
       "0    7818.371305\n",
       "dtype: float64"
      ]
     },
     "execution_count": 236,
     "metadata": {},
     "output_type": "execute_result"
    }
   ],
   "source": [
    "results.predict({x: [1000]})"
   ]
  },
  {
   "cell_type": "markdown",
   "id": "166393d1",
   "metadata": {},
   "source": [
    "Again consider our regression model to predict weight based on height (model formula `'weight ~ height'`). The fitted values are the predicted weights for each person in the dataset that was used to fit the model, while the residuals are the differences between the predicted weight and the true weight for each person. We can calculate the fitted values using `.predict()` by passing in the original data. The result is a pandas series containing predicted values for each person in the original dataset:"
   ]
  },
  {
   "cell_type": "code",
   "execution_count": 237,
   "id": "8ac2c2bc",
   "metadata": {},
   "outputs": [
    {
     "name": "stdout",
     "output_type": "stream",
     "text": [
      "0    9396.830431\n",
      "1    8052.418693\n",
      "2    8052.418693\n",
      "3    9573.726713\n",
      "4    9271.642294\n",
      "dtype: float64\n"
     ]
    }
   ],
   "source": [
    "fitted_values = results.predict(df[x])\n",
    "print(fitted_values.head())"
   ]
  },
  {
   "cell_type": "markdown",
   "id": "1bb16890",
   "metadata": {},
   "source": [
    "The residuals are the differences between each of these fitted values and the true values of the outcome variable. They can be calculated by subtracting the fitted values from the actual values. We can perform this element-wise subtraction in Python by simply subtracting one python series from the other, as shown below:"
   ]
  },
  {
   "cell_type": "code",
   "execution_count": 238,
   "id": "4b62fa7c",
   "metadata": {},
   "outputs": [
    {
     "name": "stdout",
     "output_type": "stream",
     "text": [
      "0    25603.169569\n",
      "1    -7052.418693\n",
      "2    -2552.418693\n",
      "3    25426.273287\n",
      "4    25728.357706\n",
      "dtype: float64\n"
     ]
    }
   ],
   "source": [
    "residuals = df[Y] - fitted_values\n",
    "print(residuals.head())"
   ]
  },
  {
   "cell_type": "markdown",
   "id": "b3db4715",
   "metadata": {},
   "source": [
    "### **Categorical Predictors**\n",
    "\n",
    "In the previous exercises, we used a quantitative predictor in our linear regression, but it’s important to note that we can also use categorical predictors. The simplest case of a categorical predictor is a binary variable (only two categories). You might have guessed (correctly!) that the best fit line for this plot is the one that goes through the mean height for each group. To re-create the scatter plot with the best fit line, we could use the following code:"
   ]
  },
  {
   "cell_type": "code",
   "execution_count": 239,
   "id": "73de227d",
   "metadata": {},
   "outputs": [
    {
     "data": {
      "text/plain": [
       "[<matplotlib.lines.Line2D at 0x20469ce47d0>]"
      ]
     },
     "execution_count": 239,
     "metadata": {},
     "output_type": "execute_result"
    },
    {
     "data": {
      "image/png": "[encoded data removed]",
      "text/plain": [
       "<Figure size 640x480 with 1 Axes>"
      ]
     },
     "metadata": {},
     "output_type": "display_data"
    }
   ],
   "source": [
    "# Calculate group means\n",
    "x = \"loan_grade\"\n",
    "group_means = df.groupby(x)[Y].mean()\n",
    "\n",
    "# Create the scatter plot here:\n",
    "sns.scatterplot(x=x, y=Y, data=df, hue=x)\n",
    "\n",
    "# # Add the additional line here:\n",
    "plt.plot(group_means.index, group_means, color=\"red\", linewidth=2, linestyle=\"--\")"
   ]
  },
  {
   "cell_type": "markdown",
   "id": "57b6a36e",
   "metadata": {},
   "source": [
    "Now that we’ve seen what a regression model with a binary predictor looks like visually, we can actually fit the model using `statsmodels.api.OLS.from_formula()`, the same way we did for a quantitative predictor:"
   ]
  },
  {
   "cell_type": "code",
   "execution_count": 240,
   "id": "4d0b53db",
   "metadata": {},
   "outputs": [
    {
     "data": {
      "text/html": [
       "<table class=\"simpletable\">\n",
       "<caption>OLS Regression Results</caption>\n",
       "<tr>\n",
       "  <th>Dep. Variable:</th>        <td>loan_amnt</td>    <th>  R-squared:         </th>  <td>   0.031</td>  \n",
       "</tr>\n",
       "<tr>\n",
       "  <th>Model:</th>                   <td>OLS</td>       <th>  Adj. R-squared:    </th>  <td>   0.031</td>  \n",
       "</tr>\n",
       "<tr>\n",
       "  <th>Method:</th>             <td>Least Squares</td>  <th>  F-statistic:       </th>  <td>   176.4</td>  \n",
       "</tr>\n",
       "<tr>\n",
       "  <th>Date:</th>             <td>Tue, 24 Jun 2025</td> <th>  Prob (F-statistic):</th>  <td>8.67e-222</td> \n",
       "</tr>\n",
       "<tr>\n",
       "  <th>Time:</th>                 <td>19:14:25</td>     <th>  Log-Likelihood:    </th> <td>-3.3085e+05</td>\n",
       "</tr>\n",
       "<tr>\n",
       "  <th>No. Observations:</th>      <td> 32581</td>      <th>  AIC:               </th>  <td>6.617e+05</td> \n",
       "</tr>\n",
       "<tr>\n",
       "  <th>Df Residuals:</th>          <td> 32574</td>      <th>  BIC:               </th>  <td>6.618e+05</td> \n",
       "</tr>\n",
       "<tr>\n",
       "  <th>Df Model:</th>              <td>     6</td>      <th>                     </th>      <td> </td>     \n",
       "</tr>\n",
       "<tr>\n",
       "  <th>Covariance Type:</th>      <td>nonrobust</td>    <th>                     </th>      <td> </td>     \n",
       "</tr>\n",
       "</table>\n",
       "<table class=\"simpletable\">\n",
       "<tr>\n",
       "         <td></td>            <th>coef</th>     <th>std err</th>      <th>t</th>      <th>P>|t|</th>  <th>[0.025</th>    <th>0.975]</th>  \n",
       "</tr>\n",
       "<tr>\n",
       "  <th>Intercept</th>       <td> 8539.2735</td> <td>   59.939</td> <td>  142.467</td> <td> 0.000</td> <td> 8421.791</td> <td> 8656.756</td>\n",
       "</tr>\n",
       "<tr>\n",
       "  <th>loan_grade[T.B]</th> <td> 1456.2102</td> <td>   85.425</td> <td>   17.047</td> <td> 0.000</td> <td> 1288.775</td> <td> 1623.646</td>\n",
       "</tr>\n",
       "<tr>\n",
       "  <th>loan_grade[T.C]</th> <td>  674.5892</td> <td>   97.918</td> <td>    6.889</td> <td> 0.000</td> <td>  482.665</td> <td>  866.513</td>\n",
       "</tr>\n",
       "<tr>\n",
       "  <th>loan_grade[T.D]</th> <td> 2309.9681</td> <td>  119.459</td> <td>   19.337</td> <td> 0.000</td> <td> 2075.823</td> <td> 2544.113</td>\n",
       "</tr>\n",
       "<tr>\n",
       "  <th>loan_grade[T.E]</th> <td> 4376.5720</td> <td>  209.181</td> <td>   20.922</td> <td> 0.000</td> <td> 3966.570</td> <td> 4786.574</td>\n",
       "</tr>\n",
       "<tr>\n",
       "  <th>loan_grade[T.F]</th> <td> 6178.0502</td> <td>  405.276</td> <td>   15.244</td> <td> 0.000</td> <td> 5383.695</td> <td> 6972.406</td>\n",
       "</tr>\n",
       "<tr>\n",
       "  <th>loan_grade[T.G]</th> <td> 8656.4297</td> <td>  780.104</td> <td>   11.097</td> <td> 0.000</td> <td> 7127.397</td> <td> 1.02e+04</td>\n",
       "</tr>\n",
       "</table>\n",
       "<table class=\"simpletable\">\n",
       "<tr>\n",
       "  <th>Omnibus:</th>       <td>5506.059</td> <th>  Durbin-Watson:     </th> <td>   1.383</td>\n",
       "</tr>\n",
       "<tr>\n",
       "  <th>Prob(Omnibus):</th>  <td> 0.000</td>  <th>  Jarque-Bera (JB):  </th> <td>9386.224</td>\n",
       "</tr>\n",
       "<tr>\n",
       "  <th>Skew:</th>           <td> 1.115</td>  <th>  Prob(JB):          </th> <td>    0.00</td>\n",
       "</tr>\n",
       "<tr>\n",
       "  <th>Kurtosis:</th>       <td> 4.394</td>  <th>  Cond. No.          </th> <td>    24.5</td>\n",
       "</tr>\n",
       "</table><br/><br/>Notes:<br/>[1] Standard Errors assume that the covariance matrix of the errors is correctly specified."
      ],
      "text/latex": [
       "\\begin{center}\n",
       "\\begin{tabular}{lclc}\n",
       "\\toprule\n",
       "\\textbf{Dep. Variable:}    &    loan\\_amnt    & \\textbf{  R-squared:         } &      0.031   \\\\\n",
       "\\textbf{Model:}            &       OLS        & \\textbf{  Adj. R-squared:    } &      0.031   \\\\\n",
       "\\textbf{Method:}           &  Least Squares   & \\textbf{  F-statistic:       } &      176.4   \\\\\n",
       "\\textbf{Date:}             & Tue, 24 Jun 2025 & \\textbf{  Prob (F-statistic):} &  8.67e-222   \\\\\n",
       "\\textbf{Time:}             &     19:14:25     & \\textbf{  Log-Likelihood:    } & -3.3085e+05  \\\\\n",
       "\\textbf{No. Observations:} &       32581      & \\textbf{  AIC:               } &  6.617e+05   \\\\\n",
       "\\textbf{Df Residuals:}     &       32574      & \\textbf{  BIC:               } &  6.618e+05   \\\\\n",
       "\\textbf{Df Model:}         &           6      & \\textbf{                     } &              \\\\\n",
       "\\textbf{Covariance Type:}  &    nonrobust     & \\textbf{                     } &              \\\\\n",
       "\\bottomrule\n",
       "\\end{tabular}\n",
       "\\begin{tabular}{lcccccc}\n",
       "                          & \\textbf{coef} & \\textbf{std err} & \\textbf{t} & \\textbf{P$> |$t$|$} & \\textbf{[0.025} & \\textbf{0.975]}  \\\\\n",
       "\\midrule\n",
       "\\textbf{Intercept}        &    8539.2735  &       59.939     &   142.467  &         0.000        &     8421.791    &     8656.756     \\\\\n",
       "\\textbf{loan\\_grade[T.B]} &    1456.2102  &       85.425     &    17.047  &         0.000        &     1288.775    &     1623.646     \\\\\n",
       "\\textbf{loan\\_grade[T.C]} &     674.5892  &       97.918     &     6.889  &         0.000        &      482.665    &      866.513     \\\\\n",
       "\\textbf{loan\\_grade[T.D]} &    2309.9681  &      119.459     &    19.337  &         0.000        &     2075.823    &     2544.113     \\\\\n",
       "\\textbf{loan\\_grade[T.E]} &    4376.5720  &      209.181     &    20.922  &         0.000        &     3966.570    &     4786.574     \\\\\n",
       "\\textbf{loan\\_grade[T.F]} &    6178.0502  &      405.276     &    15.244  &         0.000        &     5383.695    &     6972.406     \\\\\n",
       "\\textbf{loan\\_grade[T.G]} &    8656.4297  &      780.104     &    11.097  &         0.000        &     7127.397    &     1.02e+04     \\\\\n",
       "\\bottomrule\n",
       "\\end{tabular}\n",
       "\\begin{tabular}{lclc}\n",
       "\\textbf{Omnibus:}       & 5506.059 & \\textbf{  Durbin-Watson:     } &    1.383  \\\\\n",
       "\\textbf{Prob(Omnibus):} &   0.000  & \\textbf{  Jarque-Bera (JB):  } & 9386.224  \\\\\n",
       "\\textbf{Skew:}          &   1.115  & \\textbf{  Prob(JB):          } &     0.00  \\\\\n",
       "\\textbf{Kurtosis:}      &   4.394  & \\textbf{  Cond. No.          } &     24.5  \\\\\n",
       "\\bottomrule\n",
       "\\end{tabular}\n",
       "%\\caption{OLS Regression Results}\n",
       "\\end{center}\n",
       "\n",
       "Notes: \\newline\n",
       " [1] Standard Errors assume that the covariance matrix of the errors is correctly specified."
      ],
      "text/plain": [
       "<class 'statsmodels.iolib.summary.Summary'>\n",
       "\"\"\"\n",
       "                            OLS Regression Results                            \n",
       "==============================================================================\n",
       "Dep. Variable:              loan_amnt   R-squared:                       0.031\n",
       "Model:                            OLS   Adj. R-squared:                  0.031\n",
       "Method:                 Least Squares   F-statistic:                     176.4\n",
       "Date:                Tue, 24 Jun 2025   Prob (F-statistic):          8.67e-222\n",
       "Time:                        19:14:25   Log-Likelihood:            -3.3085e+05\n",
       "No. Observations:               32581   AIC:                         6.617e+05\n",
       "Df Residuals:                   32574   BIC:                         6.618e+05\n",
       "Df Model:                           6                                         \n",
       "Covariance Type:            nonrobust                                         \n",
       "===================================================================================\n",
       "                      coef    std err          t      P>|t|      [0.025      0.975]\n",
       "-----------------------------------------------------------------------------------\n",
       "Intercept        8539.2735     59.939    142.467      0.000    8421.791    8656.756\n",
       "loan_grade[T.B]  1456.2102     85.425     17.047      0.000    1288.775    1623.646\n",
       "loan_grade[T.C]   674.5892     97.918      6.889      0.000     482.665     866.513\n",
       "loan_grade[T.D]  2309.9681    119.459     19.337      0.000    2075.823    2544.113\n",
       "loan_grade[T.E]  4376.5720    209.181     20.922      0.000    3966.570    4786.574\n",
       "loan_grade[T.F]  6178.0502    405.276     15.244      0.000    5383.695    6972.406\n",
       "loan_grade[T.G]  8656.4297    780.104     11.097      0.000    7127.397    1.02e+04\n",
       "==============================================================================\n",
       "Omnibus:                     5506.059   Durbin-Watson:                   1.383\n",
       "Prob(Omnibus):                  0.000   Jarque-Bera (JB):             9386.224\n",
       "Skew:                           1.115   Prob(JB):                         0.00\n",
       "Kurtosis:                       4.394   Cond. No.                         24.5\n",
       "==============================================================================\n",
       "\n",
       "Notes:\n",
       "[1] Standard Errors assume that the covariance matrix of the errors is correctly specified.\n",
       "\"\"\""
      ]
     },
     "execution_count": 240,
     "metadata": {},
     "output_type": "execute_result"
    }
   ],
   "source": [
    "model = sm.OLS.from_formula(f\"{Y} ~ {x} \", data=df)\n",
    "results = model.fit()\n",
    "results.summary()"
   ]
  },
  {
   "cell_type": "markdown",
   "id": "f1221c47",
   "metadata": {},
   "source": [
    "Note that this will work if the `x` variable is coded with 0s and 1s, but it will also work if it is coded with Trues and Falses, or even if it is coded with strings like `'virginca'` and `'versicolor'` (in this case, the coefficient label will look something like `species[T.virginca]` in the params output, indicating that 'yes' corresponds to a 1).\n",
    "\n",
    "To interpret this output, we first need to remember that the intercept is the expected value of the outcome variable when the predictor is equal to zero. In this case, the intercept is therefore the mean of `y`.\n",
    "\n",
    "The slope is the expected difference in the outcome variable for a one unit difference in the predictor variable. In this case, a one unit difference in species is the difference between `'setosa'` and `'virginca'`. Therefore, the slope is the difference in mean."
   ]
  },
  {
   "cell_type": "markdown",
   "id": "676ad4b9",
   "metadata": {},
   "source": [
    "There are a few different Python libraries that can be used to fit linear regression models. It is therefore important to understand how this implementation differs for each library. In `statsmodels`, the creation of the `X` matrix happens completely “behind the scenes” once we pass in a model formula.\n",
    "\n",
    "In `scikit-learn` (another popular library for linear regression), we actually need to construct the indicator variables ourselves. Note that we do not have to construct the extra column of 1s that we saw in the X matrix — this also happens behind the scenes in `scikit-learn`. In order to construct those indicator variables, the pandas `get_dummies()` function is extremely useful:"
   ]
  },
  {
   "cell_type": "markdown",
   "id": "cea18447",
   "metadata": {},
   "source": [
    "## **Assumptions**\n",
    "\n",
    "There are a number of assumptions of simple linear regression, which are important to check if you are fitting a linear model. \n"
   ]
  },
  {
   "cell_type": "markdown",
   "id": "fdbd1b7f",
   "metadata": {},
   "source": [
    "\n",
    "### **Linear Relationship**\n",
    "\n",
    "The first assumption is that the relationship between the outcome variable and predictor is linear (can be described by a line). We can check this before fitting the regression by simply looking at a plot of the two variables. Once we’ve calculated the fitted values and residuals for a model, we can check the normality and homoscedasticity assumptions of linear regression.\n"
   ]
  },
  {
   "cell_type": "markdown",
   "id": "6ce2754b",
   "metadata": {},
   "source": [
    "\n",
    "### **Normality of Residuals**\n",
    "\n",
    "The normality assumption states that the residuals should be normally distributed. This assumption is made because, statistically, the residuals of any independent dataset will approach a normal distribution when the dataset is large enough. To check the normality assumption, we can inspect a histogram of the residuals and make sure that the distribution looks approximately normal (no skew or multiple “humps”):"
   ]
  },
  {
   "cell_type": "code",
   "execution_count": 241,
   "id": "f3e9608e",
   "metadata": {},
   "outputs": [
    {
     "data": {
      "text/plain": [
       "<Axes: ylabel='Count'>"
      ]
     },
     "execution_count": 241,
     "metadata": {},
     "output_type": "execute_result"
    },
    {
     "data": {
      "image/png": "[encoded data removed]",
      "text/plain": [
       "<Figure size 640x480 with 1 Axes>"
      ]
     },
     "metadata": {},
     "output_type": "display_data"
    }
   ],
   "source": [
    "sns.histplot(residuals, kde=True, color=\"purple\", linewidth=1.5, edgecolor=\"black\")"
   ]
  },
  {
   "cell_type": "markdown",
   "id": "359a1501",
   "metadata": {},
   "source": [
    "### **Homoscedasticity**\n",
    "\n",
    "Homoscedasticity is a fancy way of saying that the residuals have equal variation across all values of the predictor (independent) variable. When homoscedasticity is not met, this is called heteroscedasticity, meaning that the variation in the size of the error term differs across the independent variable. Since a linear regression seeks to minimize residuals and gives equal weight to all observations, heteroscedasticity can lead to bias in the results. A common way to check this is by plotting the residuals against the fitted values."
   ]
  },
  {
   "cell_type": "code",
   "execution_count": 242,
   "id": "5170f94e",
   "metadata": {},
   "outputs": [
    {
     "data": {
      "text/plain": [
       "<Axes: xlabel='None', ylabel='None'>"
      ]
     },
     "execution_count": 242,
     "metadata": {},
     "output_type": "execute_result"
    },
    {
     "data": {
      "image/png": "[encoded data removed]",
      "text/plain": [
       "<Figure size 640x480 with 1 Axes>"
      ]
     },
     "metadata": {},
     "output_type": "display_data"
    }
   ],
   "source": [
    "sns.scatterplot(x=fitted_values, y=residuals, color=\"purple\")"
   ]
  },
  {
   "cell_type": "markdown",
   "id": "03df814f",
   "metadata": {},
   "source": [
    "If the homoscedasticity assumption is met, then this plot will look like a random splatter of points, centered around $y=0$. If there are any patterns or asymmetry, that would indicate the assumption is NOT met and linear regression may not be appropriate."
   ]
  },
  {
   "cell_type": "markdown",
   "id": "558fed32",
   "metadata": {},
   "source": [
    "# **Multiple Linear Regression**\n",
    "\n",
    "Multiple Linear Regression uses two or more independent variables to predict the values of the dependent variable."
   ]
  },
  {
   "cell_type": "code",
   "execution_count": 243,
   "id": "557433b5",
   "metadata": {},
   "outputs": [],
   "source": [
    "from sklearn.model_selection import train_test_split\n",
    "from sklearn.preprocessing import OneHotEncoder, StandardScaler"
   ]
  },
  {
   "cell_type": "code",
   "execution_count": 244,
   "id": "8a161e8a",
   "metadata": {},
   "outputs": [
    {
     "data": {
      "text/plain": [
       "Index(['person_age', 'person_income', 'person_home_ownership',\n",
       "       'person_emp_length', 'loan_intent', 'loan_grade', 'loan_amnt',\n",
       "       'loan_int_rate', 'loan_status', 'loan_percent_income',\n",
       "       'cb_person_default_on_file', 'cb_person_cred_hist_length'],\n",
       "      dtype='object')"
      ]
     },
     "execution_count": 244,
     "metadata": {},
     "output_type": "execute_result"
    }
   ],
   "source": [
    "df.columns"
   ]
  },
  {
   "cell_type": "code",
   "execution_count": 245,
   "id": "5dc5b8a2",
   "metadata": {},
   "outputs": [],
   "source": [
    "x_numeric_cols = [\n",
    "    \"person_age\",\n",
    "    \"person_income\",\n",
    "    \"person_emp_length\",\n",
    "    \"loan_int_rate\",\n",
    "    \"loan_percent_income\",\n",
    "    \"cb_person_cred_hist_length\",\n",
    "]\n",
    "x_categorical_col = \"loan_grade\""
   ]
  },
  {
   "cell_type": "code",
   "execution_count": 246,
   "id": "d24a4f78",
   "metadata": {},
   "outputs": [],
   "source": [
    "scaler = StandardScaler()\n",
    "\n",
    "for vars in x_numeric_cols:\n",
    "    df[f\"{vars}_scaled\"] = scaler.fit_transform(df[[vars]])"
   ]
  },
  {
   "cell_type": "code",
   "execution_count": 247,
   "id": "10e5d6af",
   "metadata": {},
   "outputs": [],
   "source": [
    "encoder = OneHotEncoder()\n",
    "\n",
    "series = df[x_categorical_col]\n",
    "df = pd.get_dummies(data=df, columns=[x_categorical_col], drop_first=True)\n",
    "df[x_categorical_col] = series"
   ]
  },
  {
   "cell_type": "code",
   "execution_count": 248,
   "id": "96d198fb",
   "metadata": {},
   "outputs": [
    {
     "name": "stdout",
     "output_type": "stream",
     "text": [
      "32581\n"
     ]
    },
    {
     "data": {
      "application/vnd.microsoft.datawrangler.viewer.v0+json": {
       "columns": [
        {
         "name": "index",
         "rawType": "int64",
         "type": "integer"
        },
        {
         "name": "person_age_scaled",
         "rawType": "float64",
         "type": "float"
        },
        {
         "name": "person_income_scaled",
         "rawType": "float64",
         "type": "float"
        },
        {
         "name": "loan_grade_B",
         "rawType": "bool",
         "type": "boolean"
        },
        {
         "name": "loan_grade_C",
         "rawType": "bool",
         "type": "boolean"
        },
        {
         "name": "loan_grade_D",
         "rawType": "bool",
         "type": "boolean"
        },
        {
         "name": "loan_grade_E",
         "rawType": "bool",
         "type": "boolean"
        },
        {
         "name": "loan_grade_F",
         "rawType": "bool",
         "type": "boolean"
        },
        {
         "name": "loan_grade_G",
         "rawType": "bool",
         "type": "boolean"
        }
       ],
       "ref": "12cf1710-91ee-4984-9680-50a024b809c2",
       "rows": [
        [
         "0",
         "-0.9033738320142709",
         "-0.11414328837658244",
         "False",
         "False",
         "True",
         "False",
         "False",
         "False"
        ],
        [
         "1",
         "-1.06090423423681",
         "-0.9111467110985608",
         "True",
         "False",
         "False",
         "False",
         "False",
         "False"
        ],
        [
         "2",
         "-0.43078262534665396",
         "-0.9111467110985608",
         "False",
         "True",
         "False",
         "False",
         "False",
         "False"
        ],
        [
         "3",
         "-0.7458434297917319",
         "-0.009274416965795824",
         "False",
         "True",
         "False",
         "False",
         "False",
         "False"
        ],
        [
         "4",
         "-0.588313027569193",
         "-0.1883581819903699",
         "False",
         "True",
         "False",
         "False",
         "False",
         "False"
        ]
       ],
       "shape": {
        "columns": 8,
        "rows": 5
       }
      },
      "text/html": [
       "<div>\n",
       "<style scoped>\n",
       "    .dataframe tbody tr th:only-of-type {\n",
       "        vertical-align: middle;\n",
       "    }\n",
       "\n",
       "    .dataframe tbody tr th {\n",
       "        vertical-align: top;\n",
       "    }\n",
       "\n",
       "    .dataframe thead th {\n",
       "        text-align: right;\n",
       "    }\n",
       "</style>\n",
       "<table border=\"1\" class=\"dataframe\">\n",
       "  <thead>\n",
       "    <tr style=\"text-align: right;\">\n",
       "      <th></th>\n",
       "      <th>person_age_scaled</th>\n",
       "      <th>person_income_scaled</th>\n",
       "      <th>loan_grade_B</th>\n",
       "      <th>loan_grade_C</th>\n",
       "      <th>loan_grade_D</th>\n",
       "      <th>loan_grade_E</th>\n",
       "      <th>loan_grade_F</th>\n",
       "      <th>loan_grade_G</th>\n",
       "    </tr>\n",
       "  </thead>\n",
       "  <tbody>\n",
       "    <tr>\n",
       "      <th>0</th>\n",
       "      <td>-0.903374</td>\n",
       "      <td>-0.114143</td>\n",
       "      <td>False</td>\n",
       "      <td>False</td>\n",
       "      <td>True</td>\n",
       "      <td>False</td>\n",
       "      <td>False</td>\n",
       "      <td>False</td>\n",
       "    </tr>\n",
       "    <tr>\n",
       "      <th>1</th>\n",
       "      <td>-1.060904</td>\n",
       "      <td>-0.911147</td>\n",
       "      <td>True</td>\n",
       "      <td>False</td>\n",
       "      <td>False</td>\n",
       "      <td>False</td>\n",
       "      <td>False</td>\n",
       "      <td>False</td>\n",
       "    </tr>\n",
       "    <tr>\n",
       "      <th>2</th>\n",
       "      <td>-0.430783</td>\n",
       "      <td>-0.911147</td>\n",
       "      <td>False</td>\n",
       "      <td>True</td>\n",
       "      <td>False</td>\n",
       "      <td>False</td>\n",
       "      <td>False</td>\n",
       "      <td>False</td>\n",
       "    </tr>\n",
       "    <tr>\n",
       "      <th>3</th>\n",
       "      <td>-0.745843</td>\n",
       "      <td>-0.009274</td>\n",
       "      <td>False</td>\n",
       "      <td>True</td>\n",
       "      <td>False</td>\n",
       "      <td>False</td>\n",
       "      <td>False</td>\n",
       "      <td>False</td>\n",
       "    </tr>\n",
       "    <tr>\n",
       "      <th>4</th>\n",
       "      <td>-0.588313</td>\n",
       "      <td>-0.188358</td>\n",
       "      <td>False</td>\n",
       "      <td>True</td>\n",
       "      <td>False</td>\n",
       "      <td>False</td>\n",
       "      <td>False</td>\n",
       "      <td>False</td>\n",
       "    </tr>\n",
       "  </tbody>\n",
       "</table>\n",
       "</div>"
      ],
      "text/plain": [
       "   person_age_scaled  person_income_scaled  loan_grade_B  loan_grade_C  \\\n",
       "0          -0.903374             -0.114143         False         False   \n",
       "1          -1.060904             -0.911147          True         False   \n",
       "2          -0.430783             -0.911147         False          True   \n",
       "3          -0.745843             -0.009274         False          True   \n",
       "4          -0.588313             -0.188358         False          True   \n",
       "\n",
       "   loan_grade_D  loan_grade_E  loan_grade_F  loan_grade_G  \n",
       "0          True         False         False         False  \n",
       "1         False         False         False         False  \n",
       "2         False         False         False         False  \n",
       "3         False         False         False         False  \n",
       "4         False         False         False         False  "
      ]
     },
     "execution_count": 248,
     "metadata": {},
     "output_type": "execute_result"
    }
   ],
   "source": [
    "target_variable = Y\n",
    "transformed_feature_variables = [\n",
    "    \"person_age_scaled\",\n",
    "    \"person_income_scaled\",\n",
    "    \"loan_grade_B\",\n",
    "    \"loan_grade_C\",\n",
    "    \"loan_grade_D\",\n",
    "    \"loan_grade_E\",\n",
    "    \"loan_grade_F\",\n",
    "    \"loan_grade_G\",\n",
    "]\n",
    "y = df[[target_variable]]\n",
    "X = df[transformed_feature_variables]\n",
    "\n",
    "print(len(X))\n",
    "X.head()"
   ]
  },
  {
   "cell_type": "code",
   "execution_count": 249,
   "id": "6a51a98c",
   "metadata": {},
   "outputs": [
    {
     "name": "stdout",
     "output_type": "stream",
     "text": [
      "26064 6517\n"
     ]
    }
   ],
   "source": [
    "# First, split into Train (80%) and Temp (20%)\n",
    "X_train, X_test, y_train, y_test = train_test_split(X, y, test_size=0.2, random_state=42)\n",
    "print(len(X_train), len(X_test))"
   ]
  },
  {
   "cell_type": "markdown",
   "id": "c349b54c",
   "metadata": {},
   "source": [
    "## **Model Fitting**"
   ]
  },
  {
   "cell_type": "markdown",
   "id": "92d2e1a8",
   "metadata": {},
   "source": [
    "### **sklearn.linear_model.LinearRegression**"
   ]
  },
  {
   "cell_type": "code",
   "execution_count": null,
   "id": "22470b6a",
   "metadata": {},
   "outputs": [],
   "source": [
    "from sklearn.linear_model import LinearRegression\n",
    "\n",
    "model = LinearRegression()\n",
    "\n",
    "# finds the coefficients and the intercept value\n",
    "model.fit(X_train, y_train)\n",
    "\n",
    "# takes values calculated by `.fit()` and the `x` values, plugs them into the multiple linear regression equation, and calculates the predicted y values.\n",
    "y_predicted = model.predict(X_test)"
   ]
  },
  {
   "cell_type": "code",
   "execution_count": 251,
   "id": "af3977ce",
   "metadata": {},
   "outputs": [
    {
     "data": {
      "application/vnd.microsoft.datawrangler.viewer.v0+json": {
       "columns": [
        {
         "name": "index",
         "rawType": "int64",
         "type": "integer"
        },
        {
         "name": "sepal_length_predicted",
         "rawType": "float64",
         "type": "float"
        }
       ],
       "ref": "88bc58b3-c639-4126-a62c-458fd109b0bd",
       "rows": [
        [
         "0",
         "8999.174318270605"
        ],
        [
         "1",
         "9178.123336263729"
        ],
        [
         "2",
         "11271.11171262824"
        ],
        [
         "3",
         "7574.144899442032"
        ],
        [
         "4",
         "11945.240388284412"
        ]
       ],
       "shape": {
        "columns": 1,
        "rows": 5
       }
      },
      "text/html": [
       "<div>\n",
       "<style scoped>\n",
       "    .dataframe tbody tr th:only-of-type {\n",
       "        vertical-align: middle;\n",
       "    }\n",
       "\n",
       "    .dataframe tbody tr th {\n",
       "        vertical-align: top;\n",
       "    }\n",
       "\n",
       "    .dataframe thead th {\n",
       "        text-align: right;\n",
       "    }\n",
       "</style>\n",
       "<table border=\"1\" class=\"dataframe\">\n",
       "  <thead>\n",
       "    <tr style=\"text-align: right;\">\n",
       "      <th></th>\n",
       "      <th>sepal_length_predicted</th>\n",
       "    </tr>\n",
       "  </thead>\n",
       "  <tbody>\n",
       "    <tr>\n",
       "      <th>0</th>\n",
       "      <td>8999.174318</td>\n",
       "    </tr>\n",
       "    <tr>\n",
       "      <th>1</th>\n",
       "      <td>9178.123336</td>\n",
       "    </tr>\n",
       "    <tr>\n",
       "      <th>2</th>\n",
       "      <td>11271.111713</td>\n",
       "    </tr>\n",
       "    <tr>\n",
       "      <th>3</th>\n",
       "      <td>7574.144899</td>\n",
       "    </tr>\n",
       "    <tr>\n",
       "      <th>4</th>\n",
       "      <td>11945.240388</td>\n",
       "    </tr>\n",
       "  </tbody>\n",
       "</table>\n",
       "</div>"
      ],
      "text/plain": [
       "   sepal_length_predicted\n",
       "0             8999.174318\n",
       "1             9178.123336\n",
       "2            11271.111713\n",
       "3             7574.144899\n",
       "4            11945.240388"
      ]
     },
     "execution_count": 251,
     "metadata": {},
     "output_type": "execute_result"
    }
   ],
   "source": [
    "y_predicted_df = pd.DataFrame(y_predicted, columns=[\"sepal_length_predicted\"])\n",
    "y_predicted_df.head()"
   ]
  },
  {
   "cell_type": "markdown",
   "id": "8f903e1f",
   "metadata": {},
   "source": [
    "The `.fit()` method gives the model two variables that are useful to us:\n",
    "\n",
    "- `.coef_`, which contains the coefficients\n",
    "- `.intercept_`, which contains the intercept\n",
    "\n",
    "After performing multiple linear regression, you can print the coefficients using `.coef_`.\n",
    "\n",
    "Coefficients are most helpful in determining which independent variable carries more weight. For example, a coefficient of -1.345 will impact the rent more than a coefficient of 0.238, with the former impacting prices negatively and latter positively."
   ]
  },
  {
   "cell_type": "code",
   "execution_count": 252,
   "id": "aa5e62c4",
   "metadata": {},
   "outputs": [
    {
     "data": {
      "application/vnd.microsoft.datawrangler.viewer.v0+json": {
       "columns": [
        {
         "name": "index",
         "rawType": "int64",
         "type": "integer"
        },
        {
         "name": "Feature",
         "rawType": "object",
         "type": "string"
        },
        {
         "name": "Coefficient",
         "rawType": "float64",
         "type": "float"
        }
       ],
       "ref": "9eba304d-31dd-42a9-9d7e-dab320252cdb",
       "rows": [
        [
         "0",
         "person_age_scaled",
         "-12.119794265501367"
        ],
        [
         "1",
         "person_income_scaled",
         "1599.095770918535"
        ],
        [
         "2",
         "loan_grade_B",
         "1426.8354577440566"
        ],
        [
         "3",
         "loan_grade_C",
         "682.7378338008177"
        ],
        [
         "4",
         "loan_grade_D",
         "2567.422674070306"
        ],
        [
         "5",
         "loan_grade_E",
         "3958.6687003399643"
        ],
        [
         "6",
         "loan_grade_F",
         "5638.6709880371"
        ],
        [
         "7",
         "loan_grade_G",
         "8071.279217500145"
        ]
       ],
       "shape": {
        "columns": 2,
        "rows": 8
       }
      },
      "text/html": [
       "<div>\n",
       "<style scoped>\n",
       "    .dataframe tbody tr th:only-of-type {\n",
       "        vertical-align: middle;\n",
       "    }\n",
       "\n",
       "    .dataframe tbody tr th {\n",
       "        vertical-align: top;\n",
       "    }\n",
       "\n",
       "    .dataframe thead th {\n",
       "        text-align: right;\n",
       "    }\n",
       "</style>\n",
       "<table border=\"1\" class=\"dataframe\">\n",
       "  <thead>\n",
       "    <tr style=\"text-align: right;\">\n",
       "      <th></th>\n",
       "      <th>Feature</th>\n",
       "      <th>Coefficient</th>\n",
       "    </tr>\n",
       "  </thead>\n",
       "  <tbody>\n",
       "    <tr>\n",
       "      <th>0</th>\n",
       "      <td>person_age_scaled</td>\n",
       "      <td>-12.119794</td>\n",
       "    </tr>\n",
       "    <tr>\n",
       "      <th>1</th>\n",
       "      <td>person_income_scaled</td>\n",
       "      <td>1599.095771</td>\n",
       "    </tr>\n",
       "    <tr>\n",
       "      <th>2</th>\n",
       "      <td>loan_grade_B</td>\n",
       "      <td>1426.835458</td>\n",
       "    </tr>\n",
       "    <tr>\n",
       "      <th>3</th>\n",
       "      <td>loan_grade_C</td>\n",
       "      <td>682.737834</td>\n",
       "    </tr>\n",
       "    <tr>\n",
       "      <th>4</th>\n",
       "      <td>loan_grade_D</td>\n",
       "      <td>2567.422674</td>\n",
       "    </tr>\n",
       "    <tr>\n",
       "      <th>5</th>\n",
       "      <td>loan_grade_E</td>\n",
       "      <td>3958.668700</td>\n",
       "    </tr>\n",
       "    <tr>\n",
       "      <th>6</th>\n",
       "      <td>loan_grade_F</td>\n",
       "      <td>5638.670988</td>\n",
       "    </tr>\n",
       "    <tr>\n",
       "      <th>7</th>\n",
       "      <td>loan_grade_G</td>\n",
       "      <td>8071.279218</td>\n",
       "    </tr>\n",
       "  </tbody>\n",
       "</table>\n",
       "</div>"
      ],
      "text/plain": [
       "                Feature  Coefficient\n",
       "0     person_age_scaled   -12.119794\n",
       "1  person_income_scaled  1599.095771\n",
       "2          loan_grade_B  1426.835458\n",
       "3          loan_grade_C   682.737834\n",
       "4          loan_grade_D  2567.422674\n",
       "5          loan_grade_E  3958.668700\n",
       "6          loan_grade_F  5638.670988\n",
       "7          loan_grade_G  8071.279218"
      ]
     },
     "execution_count": 252,
     "metadata": {},
     "output_type": "execute_result"
    }
   ],
   "source": [
    "coefficients_df = pd.DataFrame(\n",
    "    {\"Feature\": model.feature_names_in_, \"Coefficient\": model.coef_.flatten()}\n",
    ")\n",
    "coefficients_df"
   ]
  },
  {
   "cell_type": "code",
   "execution_count": 253,
   "id": "f3c73d43",
   "metadata": {},
   "outputs": [
    {
     "data": {
      "text/plain": [
       "<Axes: ylabel='Count'>"
      ]
     },
     "execution_count": 253,
     "metadata": {},
     "output_type": "execute_result"
    },
    {
     "data": {
      "image/png": "[encoded data removed]",
      "text/plain": [
       "<Figure size 640x480 with 1 Axes>"
      ]
     },
     "metadata": {},
     "output_type": "display_data"
    }
   ],
   "source": [
    "fitted_values = model.predict(df[transformed_feature_variables])\n",
    "fitted_values_df = pd.DataFrame(fitted_values, columns=[\"fitted_values\"])\n",
    "residuals = df[target_variable] - fitted_values_df[\"fitted_values\"]\n",
    "sns.histplot(residuals, kde=True, color=\"purple\", linewidth=1.5, edgecolor=\"black\")"
   ]
  },
  {
   "cell_type": "code",
   "execution_count": 254,
   "id": "793ffa2d",
   "metadata": {},
   "outputs": [
    {
     "data": {
      "text/plain": [
       "<Axes: xlabel='fitted_values', ylabel='None'>"
      ]
     },
     "execution_count": 254,
     "metadata": {},
     "output_type": "execute_result"
    },
    {
     "data": {
      "image/png": "[encoded data removed]",
      "text/plain": [
       "<Figure size 640x480 with 1 Axes>"
      ]
     },
     "metadata": {},
     "output_type": "display_data"
    }
   ],
   "source": [
    "sns.scatterplot(x=fitted_values_df[\"fitted_values\"], y=residuals, color=\"purple\")"
   ]
  },
  {
   "cell_type": "markdown",
   "id": "08aa2b58",
   "metadata": {},
   "source": [
    "### **statsmodels.api.OLS**"
   ]
  },
  {
   "cell_type": "markdown",
   "id": "d511e9c7",
   "metadata": {},
   "source": [
    "Alternatively, you can use statsmodels package."
   ]
  },
  {
   "cell_type": "code",
   "execution_count": 255,
   "id": "8d5bfb34",
   "metadata": {},
   "outputs": [
    {
     "data": {
      "text/html": [
       "<table class=\"simpletable\">\n",
       "<caption>OLS Regression Results</caption>\n",
       "<tr>\n",
       "  <th>Dep. Variable:</th>        <td>loan_amnt</td>    <th>  R-squared:         </th>  <td>   0.102</td>  \n",
       "</tr>\n",
       "<tr>\n",
       "  <th>Model:</th>                   <td>OLS</td>       <th>  Adj. R-squared:    </th>  <td>   0.102</td>  \n",
       "</tr>\n",
       "<tr>\n",
       "  <th>Method:</th>             <td>Least Squares</td>  <th>  F-statistic:       </th>  <td>   461.6</td>  \n",
       "</tr>\n",
       "<tr>\n",
       "  <th>Date:</th>             <td>Tue, 24 Jun 2025</td> <th>  Prob (F-statistic):</th>   <td>  0.00</td>   \n",
       "</tr>\n",
       "<tr>\n",
       "  <th>Time:</th>                 <td>19:14:27</td>     <th>  Log-Likelihood:    </th> <td>-3.2962e+05</td>\n",
       "</tr>\n",
       "<tr>\n",
       "  <th>No. Observations:</th>      <td> 32581</td>      <th>  AIC:               </th>  <td>6.593e+05</td> \n",
       "</tr>\n",
       "<tr>\n",
       "  <th>Df Residuals:</th>          <td> 32572</td>      <th>  BIC:               </th>  <td>6.593e+05</td> \n",
       "</tr>\n",
       "<tr>\n",
       "  <th>Df Model:</th>              <td>     8</td>      <th>                     </th>      <td> </td>     \n",
       "</tr>\n",
       "<tr>\n",
       "  <th>Covariance Type:</th>      <td>nonrobust</td>    <th>                     </th>      <td> </td>     \n",
       "</tr>\n",
       "</table>\n",
       "<table class=\"simpletable\">\n",
       "<tr>\n",
       "            <td></td>              <th>coef</th>     <th>std err</th>      <th>t</th>      <th>P>|t|</th>  <th>[0.025</th>    <th>0.975]</th>  \n",
       "</tr>\n",
       "<tr>\n",
       "  <th>Intercept</th>            <td> 8526.1527</td> <td>   57.725</td> <td>  147.704</td> <td> 0.000</td> <td> 8413.010</td> <td> 8639.295</td>\n",
       "</tr>\n",
       "<tr>\n",
       "  <th>loan_grade_B[T.True]</th> <td> 1461.9096</td> <td>   82.266</td> <td>   17.770</td> <td> 0.000</td> <td> 1300.665</td> <td> 1623.154</td>\n",
       "</tr>\n",
       "<tr>\n",
       "  <th>loan_grade_C[T.True]</th> <td>  718.6592</td> <td>   94.306</td> <td>    7.621</td> <td> 0.000</td> <td>  533.816</td> <td>  903.502</td>\n",
       "</tr>\n",
       "<tr>\n",
       "  <th>loan_grade_D[T.True]</th> <td> 2387.8007</td> <td>  115.061</td> <td>   20.752</td> <td> 0.000</td> <td> 2162.276</td> <td> 2613.325</td>\n",
       "</tr>\n",
       "<tr>\n",
       "  <th>loan_grade_E[T.True]</th> <td> 4259.6968</td> <td>  201.460</td> <td>   21.144</td> <td> 0.000</td> <td> 3864.827</td> <td> 4654.566</td>\n",
       "</tr>\n",
       "<tr>\n",
       "  <th>loan_grade_F[T.True]</th> <td> 5894.0331</td> <td>  390.339</td> <td>   15.100</td> <td> 0.000</td> <td> 5128.954</td> <td> 6659.112</td>\n",
       "</tr>\n",
       "<tr>\n",
       "  <th>loan_grade_G[T.True]</th> <td> 8378.5247</td> <td>  751.285</td> <td>   11.152</td> <td> 0.000</td> <td> 6905.979</td> <td> 9851.071</td>\n",
       "</tr>\n",
       "<tr>\n",
       "  <th>person_age_scaled</th>    <td>   18.4983</td> <td>   33.712</td> <td>    0.549</td> <td> 0.583</td> <td>  -47.578</td> <td>   84.575</td>\n",
       "</tr>\n",
       "<tr>\n",
       "  <th>person_income_scaled</th> <td> 1674.2097</td> <td>   33.720</td> <td>   49.650</td> <td> 0.000</td> <td> 1608.117</td> <td> 1740.302</td>\n",
       "</tr>\n",
       "</table>\n",
       "<table class=\"simpletable\">\n",
       "<tr>\n",
       "  <th>Omnibus:</th>       <td>8128.472</td> <th>  Durbin-Watson:     </th>  <td>   1.506</td> \n",
       "</tr>\n",
       "<tr>\n",
       "  <th>Prob(Omnibus):</th>  <td> 0.000</td>  <th>  Jarque-Bera (JB):  </th> <td>508960.950</td>\n",
       "</tr>\n",
       "<tr>\n",
       "  <th>Skew:</th>           <td> 0.244</td>  <th>  Prob(JB):          </th>  <td>    0.00</td> \n",
       "</tr>\n",
       "<tr>\n",
       "  <th>Kurtosis:</th>       <td>22.357</td>  <th>  Cond. No.          </th>  <td>    24.5</td> \n",
       "</tr>\n",
       "</table><br/><br/>Notes:<br/>[1] Standard Errors assume that the covariance matrix of the errors is correctly specified."
      ],
      "text/latex": [
       "\\begin{center}\n",
       "\\begin{tabular}{lclc}\n",
       "\\toprule\n",
       "\\textbf{Dep. Variable:}         &    loan\\_amnt    & \\textbf{  R-squared:         } &      0.102   \\\\\n",
       "\\textbf{Model:}                 &       OLS        & \\textbf{  Adj. R-squared:    } &      0.102   \\\\\n",
       "\\textbf{Method:}                &  Least Squares   & \\textbf{  F-statistic:       } &      461.6   \\\\\n",
       "\\textbf{Date:}                  & Tue, 24 Jun 2025 & \\textbf{  Prob (F-statistic):} &      0.00    \\\\\n",
       "\\textbf{Time:}                  &     19:14:27     & \\textbf{  Log-Likelihood:    } & -3.2962e+05  \\\\\n",
       "\\textbf{No. Observations:}      &       32581      & \\textbf{  AIC:               } &  6.593e+05   \\\\\n",
       "\\textbf{Df Residuals:}          &       32572      & \\textbf{  BIC:               } &  6.593e+05   \\\\\n",
       "\\textbf{Df Model:}              &           8      & \\textbf{                     } &              \\\\\n",
       "\\textbf{Covariance Type:}       &    nonrobust     & \\textbf{                     } &              \\\\\n",
       "\\bottomrule\n",
       "\\end{tabular}\n",
       "\\begin{tabular}{lcccccc}\n",
       "                                & \\textbf{coef} & \\textbf{std err} & \\textbf{t} & \\textbf{P$> |$t$|$} & \\textbf{[0.025} & \\textbf{0.975]}  \\\\\n",
       "\\midrule\n",
       "\\textbf{Intercept}              &    8526.1527  &       57.725     &   147.704  &         0.000        &     8413.010    &     8639.295     \\\\\n",
       "\\textbf{loan\\_grade\\_B[T.True]} &    1461.9096  &       82.266     &    17.770  &         0.000        &     1300.665    &     1623.154     \\\\\n",
       "\\textbf{loan\\_grade\\_C[T.True]} &     718.6592  &       94.306     &     7.621  &         0.000        &      533.816    &      903.502     \\\\\n",
       "\\textbf{loan\\_grade\\_D[T.True]} &    2387.8007  &      115.061     &    20.752  &         0.000        &     2162.276    &     2613.325     \\\\\n",
       "\\textbf{loan\\_grade\\_E[T.True]} &    4259.6968  &      201.460     &    21.144  &         0.000        &     3864.827    &     4654.566     \\\\\n",
       "\\textbf{loan\\_grade\\_F[T.True]} &    5894.0331  &      390.339     &    15.100  &         0.000        &     5128.954    &     6659.112     \\\\\n",
       "\\textbf{loan\\_grade\\_G[T.True]} &    8378.5247  &      751.285     &    11.152  &         0.000        &     6905.979    &     9851.071     \\\\\n",
       "\\textbf{person\\_age\\_scaled}    &      18.4983  &       33.712     &     0.549  &         0.583        &      -47.578    &       84.575     \\\\\n",
       "\\textbf{person\\_income\\_scaled} &    1674.2097  &       33.720     &    49.650  &         0.000        &     1608.117    &     1740.302     \\\\\n",
       "\\bottomrule\n",
       "\\end{tabular}\n",
       "\\begin{tabular}{lclc}\n",
       "\\textbf{Omnibus:}       & 8128.472 & \\textbf{  Durbin-Watson:     } &     1.506   \\\\\n",
       "\\textbf{Prob(Omnibus):} &   0.000  & \\textbf{  Jarque-Bera (JB):  } & 508960.950  \\\\\n",
       "\\textbf{Skew:}          &   0.244  & \\textbf{  Prob(JB):          } &      0.00   \\\\\n",
       "\\textbf{Kurtosis:}      &  22.357  & \\textbf{  Cond. No.          } &      24.5   \\\\\n",
       "\\bottomrule\n",
       "\\end{tabular}\n",
       "%\\caption{OLS Regression Results}\n",
       "\\end{center}\n",
       "\n",
       "Notes: \\newline\n",
       " [1] Standard Errors assume that the covariance matrix of the errors is correctly specified."
      ],
      "text/plain": [
       "<class 'statsmodels.iolib.summary.Summary'>\n",
       "\"\"\"\n",
       "                            OLS Regression Results                            \n",
       "==============================================================================\n",
       "Dep. Variable:              loan_amnt   R-squared:                       0.102\n",
       "Model:                            OLS   Adj. R-squared:                  0.102\n",
       "Method:                 Least Squares   F-statistic:                     461.6\n",
       "Date:                Tue, 24 Jun 2025   Prob (F-statistic):               0.00\n",
       "Time:                        19:14:27   Log-Likelihood:            -3.2962e+05\n",
       "No. Observations:               32581   AIC:                         6.593e+05\n",
       "Df Residuals:                   32572   BIC:                         6.593e+05\n",
       "Df Model:                           8                                         \n",
       "Covariance Type:            nonrobust                                         \n",
       "========================================================================================\n",
       "                           coef    std err          t      P>|t|      [0.025      0.975]\n",
       "----------------------------------------------------------------------------------------\n",
       "Intercept             8526.1527     57.725    147.704      0.000    8413.010    8639.295\n",
       "loan_grade_B[T.True]  1461.9096     82.266     17.770      0.000    1300.665    1623.154\n",
       "loan_grade_C[T.True]   718.6592     94.306      7.621      0.000     533.816     903.502\n",
       "loan_grade_D[T.True]  2387.8007    115.061     20.752      0.000    2162.276    2613.325\n",
       "loan_grade_E[T.True]  4259.6968    201.460     21.144      0.000    3864.827    4654.566\n",
       "loan_grade_F[T.True]  5894.0331    390.339     15.100      0.000    5128.954    6659.112\n",
       "loan_grade_G[T.True]  8378.5247    751.285     11.152      0.000    6905.979    9851.071\n",
       "person_age_scaled       18.4983     33.712      0.549      0.583     -47.578      84.575\n",
       "person_income_scaled  1674.2097     33.720     49.650      0.000    1608.117    1740.302\n",
       "==============================================================================\n",
       "Omnibus:                     8128.472   Durbin-Watson:                   1.506\n",
       "Prob(Omnibus):                  0.000   Jarque-Bera (JB):           508960.950\n",
       "Skew:                           0.244   Prob(JB):                         0.00\n",
       "Kurtosis:                      22.357   Cond. No.                         24.5\n",
       "==============================================================================\n",
       "\n",
       "Notes:\n",
       "[1] Standard Errors assume that the covariance matrix of the errors is correctly specified.\n",
       "\"\"\""
      ]
     },
     "execution_count": 255,
     "metadata": {},
     "output_type": "execute_result"
    }
   ],
   "source": [
    "features_plus_string = \" + \".join(transformed_feature_variables)\n",
    "ols = sm.OLS.from_formula(f\"{target_variable} ~ {features_plus_string}\", data=df)\n",
    "results = ols.fit()\n",
    "results.summary()"
   ]
  },
  {
   "cell_type": "markdown",
   "id": "16c44148",
   "metadata": {},
   "source": [
    "### **sklearn.linear_model.SDGRegressor**\n",
    "\n",
    "Scikit-learn’s SGDRegressor model uses a variant of gradient descent called stochastic gradient descent (or SGD for short). SGD is very similar to gradient descent, but instead of using the actual gradient it uses an approximation of the gradient that is more efficient to compute. This model is also sophisticated enough to adjust the learning rate as the SGD algorithm iterates, so in many cases you won’t have to worry about setting the learning rate.\n",
    "\n",
    "SGDRegressor also uses a technique called regularization that encourages the model to find smaller parameters. Regularization is beyond the scope of this article, but it’s important to note that the use of regularization can sometimes result in finding different coefficients than OLS would have.\n",
    "\n",
    "If your data set is simply too large for your computer to handle OLS, you can use SGDRegressor. It will not find the exact optimal parameters, but it will get close enough for all practical purposes and it will do so without using too much computing power. Here’s an example.\n",
    "\n",
    "```python\n",
    "from sklearn.datasets import load_diabetes\n",
    "from sklearn.linear_model import SGDRegressor\n",
    "\n",
    "# Import the data set\n",
    "X, y = load_diabetes(return_X_y=True)\n",
    "\n",
    "# Create the SGD linear regression model\n",
    "# max_iter is the maximum number of iterations of SGD to try before halting\n",
    "sgd = SGDRegressor(max_iter = 10000)\n",
    "\n",
    "# Fit the model to the data\n",
    "sgd.fit(X, y)\n",
    "\n",
    "# Print the coefficients of the model\n",
    "print(sgd.coef_)\n",
    "```"
   ]
  },
  {
   "cell_type": "markdown",
   "id": "3cf034b4",
   "metadata": {},
   "source": [
    "# **Logistic Regression**\n",
    "\n",
    "Logistic regression is a supervised machine learning algorithm that predicts the probability, ranging from 0 to 1, of a datapoint belonging to a specific category, or class. These probabilities can then be used to assign, or classify, observations to the more probable group. For example, we could use a logistic regression model to predict the probability that an incoming email is spam. If that probability is greater than 0.5, we could automatically send it to a spam folder. This is called binary classification because there are only two groups.\n",
    "\n",
    "\n"
   ]
  },
  {
   "cell_type": "markdown",
   "id": "ab56d995",
   "metadata": {},
   "source": [
    "## **Logit Link Function**\n",
    "\n",
    "We saw that predicted outcomes from a linear regression model range from negative to positive infinity. These predictions don’t really make sense for a classification problem. Step in logistic regression! To build a logistic regression model, we apply a logit link function to the left-hand side of our linear regression function.\n",
    "\n",
    "$\\ln(\\Large\\frac{y}{1-y})$ $=b_0+b_1x_1+...+b_nx_n$"
   ]
  },
  {
   "cell_type": "markdown",
   "id": "be772cee",
   "metadata": {},
   "source": [
    "![image](images/logistic-curve.png)"
   ]
  },
  {
   "cell_type": "markdown",
   "id": "5b24be30",
   "metadata": {},
   "source": [
    "Note that we’ve replaced y with the letter p because we are going to interpret it as a probability (eg., the probability of a student passing the exam). The whole left-hand side of this equation is called log-odds because it is the natural logarithm (ln) of odds (p/(1-p)). \n",
    "\n",
    "Odds $=(\\Large\\frac{p}{1-p})$ $=\\large e^{b_0+b_1x_1+...+b_nx_n}$"
   ]
  },
  {
   "cell_type": "code",
   "execution_count": 256,
   "id": "2d72d23f",
   "metadata": {},
   "outputs": [
    {
     "data": {
      "text/plain": [
       "Index(['person_age', 'person_income', 'person_home_ownership',\n",
       "       'person_emp_length', 'loan_intent', 'loan_amnt', 'loan_int_rate',\n",
       "       'loan_status', 'loan_percent_income', 'cb_person_default_on_file',\n",
       "       'cb_person_cred_hist_length', 'person_age_scaled',\n",
       "       'person_income_scaled', 'person_emp_length_scaled',\n",
       "       'loan_int_rate_scaled', 'loan_percent_income_scaled',\n",
       "       'cb_person_cred_hist_length_scaled', 'loan_grade_B', 'loan_grade_C',\n",
       "       'loan_grade_D', 'loan_grade_E', 'loan_grade_F', 'loan_grade_G',\n",
       "       'loan_grade'],\n",
       "      dtype='object')"
      ]
     },
     "execution_count": 256,
     "metadata": {},
     "output_type": "execute_result"
    }
   ],
   "source": [
    "df.columns"
   ]
  },
  {
   "cell_type": "code",
   "execution_count": 257,
   "id": "de585904",
   "metadata": {},
   "outputs": [
    {
     "name": "stdout",
     "output_type": "stream",
     "text": [
      "32581\n"
     ]
    },
    {
     "data": {
      "application/vnd.microsoft.datawrangler.viewer.v0+json": {
       "columns": [
        {
         "name": "index",
         "rawType": "int64",
         "type": "integer"
        },
        {
         "name": "person_age_scaled",
         "rawType": "float64",
         "type": "float"
        },
        {
         "name": "person_income_scaled",
         "rawType": "float64",
         "type": "float"
        },
        {
         "name": "loan_grade_B",
         "rawType": "bool",
         "type": "boolean"
        },
        {
         "name": "loan_grade_C",
         "rawType": "bool",
         "type": "boolean"
        },
        {
         "name": "loan_grade_D",
         "rawType": "bool",
         "type": "boolean"
        },
        {
         "name": "loan_grade_E",
         "rawType": "bool",
         "type": "boolean"
        },
        {
         "name": "loan_grade_F",
         "rawType": "bool",
         "type": "boolean"
        },
        {
         "name": "loan_grade_G",
         "rawType": "bool",
         "type": "boolean"
        }
       ],
       "ref": "6d04a2a3-c9de-4016-9188-82ba62a54a27",
       "rows": [
        [
         "0",
         "-0.9033738320142709",
         "-0.11414328837658244",
         "False",
         "False",
         "True",
         "False",
         "False",
         "False"
        ],
        [
         "1",
         "-1.06090423423681",
         "-0.9111467110985608",
         "True",
         "False",
         "False",
         "False",
         "False",
         "False"
        ],
        [
         "2",
         "-0.43078262534665396",
         "-0.9111467110985608",
         "False",
         "True",
         "False",
         "False",
         "False",
         "False"
        ],
        [
         "3",
         "-0.7458434297917319",
         "-0.009274416965795824",
         "False",
         "True",
         "False",
         "False",
         "False",
         "False"
        ],
        [
         "4",
         "-0.588313027569193",
         "-0.1883581819903699",
         "False",
         "True",
         "False",
         "False",
         "False",
         "False"
        ]
       ],
       "shape": {
        "columns": 8,
        "rows": 5
       }
      },
      "text/html": [
       "<div>\n",
       "<style scoped>\n",
       "    .dataframe tbody tr th:only-of-type {\n",
       "        vertical-align: middle;\n",
       "    }\n",
       "\n",
       "    .dataframe tbody tr th {\n",
       "        vertical-align: top;\n",
       "    }\n",
       "\n",
       "    .dataframe thead th {\n",
       "        text-align: right;\n",
       "    }\n",
       "</style>\n",
       "<table border=\"1\" class=\"dataframe\">\n",
       "  <thead>\n",
       "    <tr style=\"text-align: right;\">\n",
       "      <th></th>\n",
       "      <th>person_age_scaled</th>\n",
       "      <th>person_income_scaled</th>\n",
       "      <th>loan_grade_B</th>\n",
       "      <th>loan_grade_C</th>\n",
       "      <th>loan_grade_D</th>\n",
       "      <th>loan_grade_E</th>\n",
       "      <th>loan_grade_F</th>\n",
       "      <th>loan_grade_G</th>\n",
       "    </tr>\n",
       "  </thead>\n",
       "  <tbody>\n",
       "    <tr>\n",
       "      <th>0</th>\n",
       "      <td>-0.903374</td>\n",
       "      <td>-0.114143</td>\n",
       "      <td>False</td>\n",
       "      <td>False</td>\n",
       "      <td>True</td>\n",
       "      <td>False</td>\n",
       "      <td>False</td>\n",
       "      <td>False</td>\n",
       "    </tr>\n",
       "    <tr>\n",
       "      <th>1</th>\n",
       "      <td>-1.060904</td>\n",
       "      <td>-0.911147</td>\n",
       "      <td>True</td>\n",
       "      <td>False</td>\n",
       "      <td>False</td>\n",
       "      <td>False</td>\n",
       "      <td>False</td>\n",
       "      <td>False</td>\n",
       "    </tr>\n",
       "    <tr>\n",
       "      <th>2</th>\n",
       "      <td>-0.430783</td>\n",
       "      <td>-0.911147</td>\n",
       "      <td>False</td>\n",
       "      <td>True</td>\n",
       "      <td>False</td>\n",
       "      <td>False</td>\n",
       "      <td>False</td>\n",
       "      <td>False</td>\n",
       "    </tr>\n",
       "    <tr>\n",
       "      <th>3</th>\n",
       "      <td>-0.745843</td>\n",
       "      <td>-0.009274</td>\n",
       "      <td>False</td>\n",
       "      <td>True</td>\n",
       "      <td>False</td>\n",
       "      <td>False</td>\n",
       "      <td>False</td>\n",
       "      <td>False</td>\n",
       "    </tr>\n",
       "    <tr>\n",
       "      <th>4</th>\n",
       "      <td>-0.588313</td>\n",
       "      <td>-0.188358</td>\n",
       "      <td>False</td>\n",
       "      <td>True</td>\n",
       "      <td>False</td>\n",
       "      <td>False</td>\n",
       "      <td>False</td>\n",
       "      <td>False</td>\n",
       "    </tr>\n",
       "  </tbody>\n",
       "</table>\n",
       "</div>"
      ],
      "text/plain": [
       "   person_age_scaled  person_income_scaled  loan_grade_B  loan_grade_C  \\\n",
       "0          -0.903374             -0.114143         False         False   \n",
       "1          -1.060904             -0.911147          True         False   \n",
       "2          -0.430783             -0.911147         False          True   \n",
       "3          -0.745843             -0.009274         False          True   \n",
       "4          -0.588313             -0.188358         False          True   \n",
       "\n",
       "   loan_grade_D  loan_grade_E  loan_grade_F  loan_grade_G  \n",
       "0          True         False         False         False  \n",
       "1         False         False         False         False  \n",
       "2         False         False         False         False  \n",
       "3         False         False         False         False  \n",
       "4         False         False         False         False  "
      ]
     },
     "execution_count": 257,
     "metadata": {},
     "output_type": "execute_result"
    }
   ],
   "source": [
    "target_variable = \"loan_status\"\n",
    "transformed_feature_variables = [\n",
    "    \"person_age_scaled\",\n",
    "    \"person_income_scaled\",\n",
    "    \"loan_grade_B\",\n",
    "    \"loan_grade_C\",\n",
    "    \"loan_grade_D\",\n",
    "    \"loan_grade_E\",\n",
    "    \"loan_grade_F\",\n",
    "    \"loan_grade_G\",\n",
    "]\n",
    "y = df[[target_variable]]\n",
    "X = df[transformed_feature_variables]\n",
    "\n",
    "print(len(X))\n",
    "X.head()"
   ]
  },
  {
   "cell_type": "code",
   "execution_count": 258,
   "id": "381e911c",
   "metadata": {},
   "outputs": [
    {
     "name": "stdout",
     "output_type": "stream",
     "text": [
      "26064 6517\n"
     ]
    }
   ],
   "source": [
    "# First, split into Train (80%) and Temp (20%)\n",
    "X_train, X_test, y_train, y_test = train_test_split(X, y, test_size=0.2, random_state=42)\n",
    "print(len(X_train), len(X_test))"
   ]
  },
  {
   "cell_type": "markdown",
   "id": "039db928",
   "metadata": {},
   "source": [
    "## **Model Fitting**\n"
   ]
  },
  {
   "cell_type": "markdown",
   "id": "cf8fe99b",
   "metadata": {},
   "source": [
    "### **sklearn.linear_model.LogisticRegression**\n",
    "\n",
    "One important note is that sklearn‘s logistic regression implementation requires the features to be standardized because regularization is implemented by default."
   ]
  },
  {
   "cell_type": "code",
   "execution_count": 259,
   "id": "70b1dfc9",
   "metadata": {},
   "outputs": [
    {
     "data": {
      "text/html": [
       "<style>#sk-container-id-6 {\n",
       "  /* Definition of color scheme common for light and dark mode */\n",
       "  --sklearn-color-text: #000;\n",
       "  --sklearn-color-text-muted: #666;\n",
       "  --sklearn-color-line: gray;\n",
       "  /* Definition of color scheme for unfitted estimators */\n",
       "  --sklearn-color-unfitted-level-0: #fff5e6;\n",
       "  --sklearn-color-unfitted-level-1: #f6e4d2;\n",
       "  --sklearn-color-unfitted-level-2: #ffe0b3;\n",
       "  --sklearn-color-unfitted-level-3: chocolate;\n",
       "  /* Definition of color scheme for fitted estimators */\n",
       "  --sklearn-color-fitted-level-0: #f0f8ff;\n",
       "  --sklearn-color-fitted-level-1: #d4ebff;\n",
       "  --sklearn-color-fitted-level-2: #b3dbfd;\n",
       "  --sklearn-color-fitted-level-3: cornflowerblue;\n",
       "\n",
       "  /* Specific color for light theme */\n",
       "  --sklearn-color-text-on-default-background: var(--sg-text-color, var(--theme-code-foreground, var(--jp-content-font-color1, black)));\n",
       "  --sklearn-color-background: var(--sg-background-color, var(--theme-background, var(--jp-layout-color0, white)));\n",
       "  --sklearn-color-border-box: var(--sg-text-color, var(--theme-code-foreground, var(--jp-content-font-color1, black)));\n",
       "  --sklearn-color-icon: #696969;\n",
       "\n",
       "  @media (prefers-color-scheme: dark) {\n",
       "    /* Redefinition of color scheme for dark theme */\n",
       "    --sklearn-color-text-on-default-background: var(--sg-text-color, var(--theme-code-foreground, var(--jp-content-font-color1, white)));\n",
       "    --sklearn-color-background: var(--sg-background-color, var(--theme-background, var(--jp-layout-color0, #111)));\n",
       "    --sklearn-color-border-box: var(--sg-text-color, var(--theme-code-foreground, var(--jp-content-font-color1, white)));\n",
       "    --sklearn-color-icon: #878787;\n",
       "  }\n",
       "}\n",
       "\n",
       "#sk-container-id-6 {\n",
       "  color: var(--sklearn-color-text);\n",
       "}\n",
       "\n",
       "#sk-container-id-6 pre {\n",
       "  padding: 0;\n",
       "}\n",
       "\n",
       "#sk-container-id-6 input.sk-hidden--visually {\n",
       "  border: 0;\n",
       "  clip: rect(1px 1px 1px 1px);\n",
       "  clip: rect(1px, 1px, 1px, 1px);\n",
       "  height: 1px;\n",
       "  margin: -1px;\n",
       "  overflow: hidden;\n",
       "  padding: 0;\n",
       "  position: absolute;\n",
       "  width: 1px;\n",
       "}\n",
       "\n",
       "#sk-container-id-6 div.sk-dashed-wrapped {\n",
       "  border: 1px dashed var(--sklearn-color-line);\n",
       "  margin: 0 0.4em 0.5em 0.4em;\n",
       "  box-sizing: border-box;\n",
       "  padding-bottom: 0.4em;\n",
       "  background-color: var(--sklearn-color-background);\n",
       "}\n",
       "\n",
       "#sk-container-id-6 div.sk-container {\n",
       "  /* jupyter's `normalize.less` sets `[hidden] { display: none; }`\n",
       "     but bootstrap.min.css set `[hidden] { display: none !important; }`\n",
       "     so we also need the `!important` here to be able to override the\n",
       "     default hidden behavior on the sphinx rendered scikit-learn.org.\n",
       "     See: https://github.com/scikit-learn/scikit-learn/issues/21755 */\n",
       "  display: inline-block !important;\n",
       "  position: relative;\n",
       "}\n",
       "\n",
       "#sk-container-id-6 div.sk-text-repr-fallback {\n",
       "  display: none;\n",
       "}\n",
       "\n",
       "div.sk-parallel-item,\n",
       "div.sk-serial,\n",
       "div.sk-item {\n",
       "  /* draw centered vertical line to link estimators */\n",
       "  background-image: linear-gradient(var(--sklearn-color-text-on-default-background), var(--sklearn-color-text-on-default-background));\n",
       "  background-size: 2px 100%;\n",
       "  background-repeat: no-repeat;\n",
       "  background-position: center center;\n",
       "}\n",
       "\n",
       "/* Parallel-specific style estimator block */\n",
       "\n",
       "#sk-container-id-6 div.sk-parallel-item::after {\n",
       "  content: \"\";\n",
       "  width: 100%;\n",
       "  border-bottom: 2px solid var(--sklearn-color-text-on-default-background);\n",
       "  flex-grow: 1;\n",
       "}\n",
       "\n",
       "#sk-container-id-6 div.sk-parallel {\n",
       "  display: flex;\n",
       "  align-items: stretch;\n",
       "  justify-content: center;\n",
       "  background-color: var(--sklearn-color-background);\n",
       "  position: relative;\n",
       "}\n",
       "\n",
       "#sk-container-id-6 div.sk-parallel-item {\n",
       "  display: flex;\n",
       "  flex-direction: column;\n",
       "}\n",
       "\n",
       "#sk-container-id-6 div.sk-parallel-item:first-child::after {\n",
       "  align-self: flex-end;\n",
       "  width: 50%;\n",
       "}\n",
       "\n",
       "#sk-container-id-6 div.sk-parallel-item:last-child::after {\n",
       "  align-self: flex-start;\n",
       "  width: 50%;\n",
       "}\n",
       "\n",
       "#sk-container-id-6 div.sk-parallel-item:only-child::after {\n",
       "  width: 0;\n",
       "}\n",
       "\n",
       "/* Serial-specific style estimator block */\n",
       "\n",
       "#sk-container-id-6 div.sk-serial {\n",
       "  display: flex;\n",
       "  flex-direction: column;\n",
       "  align-items: center;\n",
       "  background-color: var(--sklearn-color-background);\n",
       "  padding-right: 1em;\n",
       "  padding-left: 1em;\n",
       "}\n",
       "\n",
       "\n",
       "/* Toggleable style: style used for estimator/Pipeline/ColumnTransformer box that is\n",
       "clickable and can be expanded/collapsed.\n",
       "- Pipeline and ColumnTransformer use this feature and define the default style\n",
       "- Estimators will overwrite some part of the style using the `sk-estimator` class\n",
       "*/\n",
       "\n",
       "/* Pipeline and ColumnTransformer style (default) */\n",
       "\n",
       "#sk-container-id-6 div.sk-toggleable {\n",
       "  /* Default theme specific background. It is overwritten whether we have a\n",
       "  specific estimator or a Pipeline/ColumnTransformer */\n",
       "  background-color: var(--sklearn-color-background);\n",
       "}\n",
       "\n",
       "/* Toggleable label */\n",
       "#sk-container-id-6 label.sk-toggleable__label {\n",
       "  cursor: pointer;\n",
       "  display: flex;\n",
       "  width: 100%;\n",
       "  margin-bottom: 0;\n",
       "  padding: 0.5em;\n",
       "  box-sizing: border-box;\n",
       "  text-align: center;\n",
       "  align-items: start;\n",
       "  justify-content: space-between;\n",
       "  gap: 0.5em;\n",
       "}\n",
       "\n",
       "#sk-container-id-6 label.sk-toggleable__label .caption {\n",
       "  font-size: 0.6rem;\n",
       "  font-weight: lighter;\n",
       "  color: var(--sklearn-color-text-muted);\n",
       "}\n",
       "\n",
       "#sk-container-id-6 label.sk-toggleable__label-arrow:before {\n",
       "  /* Arrow on the left of the label */\n",
       "  content: \"▸\";\n",
       "  float: left;\n",
       "  margin-right: 0.25em;\n",
       "  color: var(--sklearn-color-icon);\n",
       "}\n",
       "\n",
       "#sk-container-id-6 label.sk-toggleable__label-arrow:hover:before {\n",
       "  color: var(--sklearn-color-text);\n",
       "}\n",
       "\n",
       "/* Toggleable content - dropdown */\n",
       "\n",
       "#sk-container-id-6 div.sk-toggleable__content {\n",
       "  display: none;\n",
       "  text-align: left;\n",
       "  /* unfitted */\n",
       "  background-color: var(--sklearn-color-unfitted-level-0);\n",
       "}\n",
       "\n",
       "#sk-container-id-6 div.sk-toggleable__content.fitted {\n",
       "  /* fitted */\n",
       "  background-color: var(--sklearn-color-fitted-level-0);\n",
       "}\n",
       "\n",
       "#sk-container-id-6 div.sk-toggleable__content pre {\n",
       "  margin: 0.2em;\n",
       "  border-radius: 0.25em;\n",
       "  color: var(--sklearn-color-text);\n",
       "  /* unfitted */\n",
       "  background-color: var(--sklearn-color-unfitted-level-0);\n",
       "}\n",
       "\n",
       "#sk-container-id-6 div.sk-toggleable__content.fitted pre {\n",
       "  /* unfitted */\n",
       "  background-color: var(--sklearn-color-fitted-level-0);\n",
       "}\n",
       "\n",
       "#sk-container-id-6 input.sk-toggleable__control:checked~div.sk-toggleable__content {\n",
       "  /* Expand drop-down */\n",
       "  display: block;\n",
       "  width: 100%;\n",
       "  overflow: visible;\n",
       "}\n",
       "\n",
       "#sk-container-id-6 input.sk-toggleable__control:checked~label.sk-toggleable__label-arrow:before {\n",
       "  content: \"▾\";\n",
       "}\n",
       "\n",
       "/* Pipeline/ColumnTransformer-specific style */\n",
       "\n",
       "#sk-container-id-6 div.sk-label input.sk-toggleable__control:checked~label.sk-toggleable__label {\n",
       "  color: var(--sklearn-color-text);\n",
       "  background-color: var(--sklearn-color-unfitted-level-2);\n",
       "}\n",
       "\n",
       "#sk-container-id-6 div.sk-label.fitted input.sk-toggleable__control:checked~label.sk-toggleable__label {\n",
       "  background-color: var(--sklearn-color-fitted-level-2);\n",
       "}\n",
       "\n",
       "/* Estimator-specific style */\n",
       "\n",
       "/* Colorize estimator box */\n",
       "#sk-container-id-6 div.sk-estimator input.sk-toggleable__control:checked~label.sk-toggleable__label {\n",
       "  /* unfitted */\n",
       "  background-color: var(--sklearn-color-unfitted-level-2);\n",
       "}\n",
       "\n",
       "#sk-container-id-6 div.sk-estimator.fitted input.sk-toggleable__control:checked~label.sk-toggleable__label {\n",
       "  /* fitted */\n",
       "  background-color: var(--sklearn-color-fitted-level-2);\n",
       "}\n",
       "\n",
       "#sk-container-id-6 div.sk-label label.sk-toggleable__label,\n",
       "#sk-container-id-6 div.sk-label label {\n",
       "  /* The background is the default theme color */\n",
       "  color: var(--sklearn-color-text-on-default-background);\n",
       "}\n",
       "\n",
       "/* On hover, darken the color of the background */\n",
       "#sk-container-id-6 div.sk-label:hover label.sk-toggleable__label {\n",
       "  color: var(--sklearn-color-text);\n",
       "  background-color: var(--sklearn-color-unfitted-level-2);\n",
       "}\n",
       "\n",
       "/* Label box, darken color on hover, fitted */\n",
       "#sk-container-id-6 div.sk-label.fitted:hover label.sk-toggleable__label.fitted {\n",
       "  color: var(--sklearn-color-text);\n",
       "  background-color: var(--sklearn-color-fitted-level-2);\n",
       "}\n",
       "\n",
       "/* Estimator label */\n",
       "\n",
       "#sk-container-id-6 div.sk-label label {\n",
       "  font-family: monospace;\n",
       "  font-weight: bold;\n",
       "  display: inline-block;\n",
       "  line-height: 1.2em;\n",
       "}\n",
       "\n",
       "#sk-container-id-6 div.sk-label-container {\n",
       "  text-align: center;\n",
       "}\n",
       "\n",
       "/* Estimator-specific */\n",
       "#sk-container-id-6 div.sk-estimator {\n",
       "  font-family: monospace;\n",
       "  border: 1px dotted var(--sklearn-color-border-box);\n",
       "  border-radius: 0.25em;\n",
       "  box-sizing: border-box;\n",
       "  margin-bottom: 0.5em;\n",
       "  /* unfitted */\n",
       "  background-color: var(--sklearn-color-unfitted-level-0);\n",
       "}\n",
       "\n",
       "#sk-container-id-6 div.sk-estimator.fitted {\n",
       "  /* fitted */\n",
       "  background-color: var(--sklearn-color-fitted-level-0);\n",
       "}\n",
       "\n",
       "/* on hover */\n",
       "#sk-container-id-6 div.sk-estimator:hover {\n",
       "  /* unfitted */\n",
       "  background-color: var(--sklearn-color-unfitted-level-2);\n",
       "}\n",
       "\n",
       "#sk-container-id-6 div.sk-estimator.fitted:hover {\n",
       "  /* fitted */\n",
       "  background-color: var(--sklearn-color-fitted-level-2);\n",
       "}\n",
       "\n",
       "/* Specification for estimator info (e.g. \"i\" and \"?\") */\n",
       "\n",
       "/* Common style for \"i\" and \"?\" */\n",
       "\n",
       ".sk-estimator-doc-link,\n",
       "a:link.sk-estimator-doc-link,\n",
       "a:visited.sk-estimator-doc-link {\n",
       "  float: right;\n",
       "  font-size: smaller;\n",
       "  line-height: 1em;\n",
       "  font-family: monospace;\n",
       "  background-color: var(--sklearn-color-background);\n",
       "  border-radius: 1em;\n",
       "  height: 1em;\n",
       "  width: 1em;\n",
       "  text-decoration: none !important;\n",
       "  margin-left: 0.5em;\n",
       "  text-align: center;\n",
       "  /* unfitted */\n",
       "  border: var(--sklearn-color-unfitted-level-1) 1pt solid;\n",
       "  color: var(--sklearn-color-unfitted-level-1);\n",
       "}\n",
       "\n",
       ".sk-estimator-doc-link.fitted,\n",
       "a:link.sk-estimator-doc-link.fitted,\n",
       "a:visited.sk-estimator-doc-link.fitted {\n",
       "  /* fitted */\n",
       "  border: var(--sklearn-color-fitted-level-1) 1pt solid;\n",
       "  color: var(--sklearn-color-fitted-level-1);\n",
       "}\n",
       "\n",
       "/* On hover */\n",
       "div.sk-estimator:hover .sk-estimator-doc-link:hover,\n",
       ".sk-estimator-doc-link:hover,\n",
       "div.sk-label-container:hover .sk-estimator-doc-link:hover,\n",
       ".sk-estimator-doc-link:hover {\n",
       "  /* unfitted */\n",
       "  background-color: var(--sklearn-color-unfitted-level-3);\n",
       "  color: var(--sklearn-color-background);\n",
       "  text-decoration: none;\n",
       "}\n",
       "\n",
       "div.sk-estimator.fitted:hover .sk-estimator-doc-link.fitted:hover,\n",
       ".sk-estimator-doc-link.fitted:hover,\n",
       "div.sk-label-container:hover .sk-estimator-doc-link.fitted:hover,\n",
       ".sk-estimator-doc-link.fitted:hover {\n",
       "  /* fitted */\n",
       "  background-color: var(--sklearn-color-fitted-level-3);\n",
       "  color: var(--sklearn-color-background);\n",
       "  text-decoration: none;\n",
       "}\n",
       "\n",
       "/* Span, style for the box shown on hovering the info icon */\n",
       ".sk-estimator-doc-link span {\n",
       "  display: none;\n",
       "  z-index: 9999;\n",
       "  position: relative;\n",
       "  font-weight: normal;\n",
       "  right: .2ex;\n",
       "  padding: .5ex;\n",
       "  margin: .5ex;\n",
       "  width: min-content;\n",
       "  min-width: 20ex;\n",
       "  max-width: 50ex;\n",
       "  color: var(--sklearn-color-text);\n",
       "  box-shadow: 2pt 2pt 4pt #999;\n",
       "  /* unfitted */\n",
       "  background: var(--sklearn-color-unfitted-level-0);\n",
       "  border: .5pt solid var(--sklearn-color-unfitted-level-3);\n",
       "}\n",
       "\n",
       ".sk-estimator-doc-link.fitted span {\n",
       "  /* fitted */\n",
       "  background: var(--sklearn-color-fitted-level-0);\n",
       "  border: var(--sklearn-color-fitted-level-3);\n",
       "}\n",
       "\n",
       ".sk-estimator-doc-link:hover span {\n",
       "  display: block;\n",
       "}\n",
       "\n",
       "/* \"?\"-specific style due to the `<a>` HTML tag */\n",
       "\n",
       "#sk-container-id-6 a.estimator_doc_link {\n",
       "  float: right;\n",
       "  font-size: 1rem;\n",
       "  line-height: 1em;\n",
       "  font-family: monospace;\n",
       "  background-color: var(--sklearn-color-background);\n",
       "  border-radius: 1rem;\n",
       "  height: 1rem;\n",
       "  width: 1rem;\n",
       "  text-decoration: none;\n",
       "  /* unfitted */\n",
       "  color: var(--sklearn-color-unfitted-level-1);\n",
       "  border: var(--sklearn-color-unfitted-level-1) 1pt solid;\n",
       "}\n",
       "\n",
       "#sk-container-id-6 a.estimator_doc_link.fitted {\n",
       "  /* fitted */\n",
       "  border: var(--sklearn-color-fitted-level-1) 1pt solid;\n",
       "  color: var(--sklearn-color-fitted-level-1);\n",
       "}\n",
       "\n",
       "/* On hover */\n",
       "#sk-container-id-6 a.estimator_doc_link:hover {\n",
       "  /* unfitted */\n",
       "  background-color: var(--sklearn-color-unfitted-level-3);\n",
       "  color: var(--sklearn-color-background);\n",
       "  text-decoration: none;\n",
       "}\n",
       "\n",
       "#sk-container-id-6 a.estimator_doc_link.fitted:hover {\n",
       "  /* fitted */\n",
       "  background-color: var(--sklearn-color-fitted-level-3);\n",
       "}\n",
       "\n",
       ".estimator-table summary {\n",
       "    padding: .5rem;\n",
       "    font-family: monospace;\n",
       "    cursor: pointer;\n",
       "}\n",
       "\n",
       ".estimator-table details[open] {\n",
       "    padding-left: 0.1rem;\n",
       "    padding-right: 0.1rem;\n",
       "    padding-bottom: 0.3rem;\n",
       "}\n",
       "\n",
       ".estimator-table .parameters-table {\n",
       "    margin-left: auto !important;\n",
       "    margin-right: auto !important;\n",
       "}\n",
       "\n",
       ".estimator-table .parameters-table tr:nth-child(odd) {\n",
       "    background-color: #fff;\n",
       "}\n",
       "\n",
       ".estimator-table .parameters-table tr:nth-child(even) {\n",
       "    background-color: #f6f6f6;\n",
       "}\n",
       "\n",
       ".estimator-table .parameters-table tr:hover {\n",
       "    background-color: #e0e0e0;\n",
       "}\n",
       "\n",
       ".estimator-table table td {\n",
       "    border: 1px solid rgba(106, 105, 104, 0.232);\n",
       "}\n",
       "\n",
       ".user-set td {\n",
       "    color:rgb(255, 94, 0);\n",
       "    text-align: left;\n",
       "}\n",
       "\n",
       ".user-set td.value pre {\n",
       "    color:rgb(255, 94, 0) !important;\n",
       "    background-color: transparent !important;\n",
       "}\n",
       "\n",
       ".default td {\n",
       "    color: black;\n",
       "    text-align: left;\n",
       "}\n",
       "\n",
       ".user-set td i,\n",
       ".default td i {\n",
       "    color: black;\n",
       "}\n",
       "\n",
       ".copy-paste-icon {\n",
       "    background-image: url(data:image/svg+xml;base64,PHN2ZyB4bWxucz0iaHR0cDovL3d3dy53My5vcmcvMjAwMC9zdmciIHZpZXdCb3g9IjAgMCA0NDggNTEyIj48IS0tIUZvbnQgQXdlc29tZSBGcmVlIDYuNy4yIGJ5IEBmb250YXdlc29tZSAtIGh0dHBzOi8vZm9udGF3ZXNvbWUuY29tIExpY2Vuc2UgLSBodHRwczovL2ZvbnRhd2Vzb21lLmNvbS9saWNlbnNlL2ZyZWUgQ29weXJpZ2h0IDIwMjUgRm9udGljb25zLCBJbmMuLS0+PHBhdGggZD0iTTIwOCAwTDMzMi4xIDBjMTIuNyAwIDI0LjkgNS4xIDMzLjkgMTQuMWw2Ny45IDY3LjljOSA5IDE0LjEgMjEuMiAxNC4xIDMzLjlMNDQ4IDMzNmMwIDI2LjUtMjEuNSA0OC00OCA0OGwtMTkyIDBjLTI2LjUgMC00OC0yMS41LTQ4LTQ4bDAtMjg4YzAtMjYuNSAyMS41LTQ4IDQ4LTQ4ek00OCAxMjhsODAgMCAwIDY0LTY0IDAgMCAyNTYgMTkyIDAgMC0zMiA2NCAwIDAgNDhjMCAyNi41LTIxLjUgNDgtNDggNDhMNDggNTEyYy0yNi41IDAtNDgtMjEuNS00OC00OEwwIDE3NmMwLTI2LjUgMjEuNS00OCA0OC00OHoiLz48L3N2Zz4=);\n",
       "    background-repeat: no-repeat;\n",
       "    background-size: 14px 14px;\n",
       "    background-position: 0;\n",
       "    display: inline-block;\n",
       "    width: 14px;\n",
       "    height: 14px;\n",
       "    cursor: pointer;\n",
       "}\n",
       "</style><body><div id=\"sk-container-id-6\" class=\"sk-top-container\"><div class=\"sk-text-repr-fallback\"><pre>LogisticRegression()</pre><b>In a Jupyter environment, please rerun this cell to show the HTML representation or trust the notebook. <br />On GitHub, the HTML representation is unable to render, please try loading this page with nbviewer.org.</b></div><div class=\"sk-container\" hidden><div class=\"sk-item\"><div class=\"sk-estimator fitted sk-toggleable\"><input class=\"sk-toggleable__control sk-hidden--visually\" id=\"sk-estimator-id-6\" type=\"checkbox\" checked><label for=\"sk-estimator-id-6\" class=\"sk-toggleable__label fitted sk-toggleable__label-arrow\"><div><div>LogisticRegression</div></div><div><a class=\"sk-estimator-doc-link fitted\" rel=\"noreferrer\" target=\"_blank\" href=\"https://scikit-learn.org/1.7/modules/generated/sklearn.linear_model.LogisticRegression.html\">?<span>Documentation for LogisticRegression</span></a><span class=\"sk-estimator-doc-link fitted\">i<span>Fitted</span></span></div></label><div class=\"sk-toggleable__content fitted\" data-param-prefix=\"\">\n",
       "        <div class=\"estimator-table\">\n",
       "            <details>\n",
       "                <summary>Parameters</summary>\n",
       "                <table class=\"parameters-table\">\n",
       "                  <tbody>\n",
       "                    \n",
       "        <tr class=\"default\">\n",
       "            <td><i class=\"copy-paste-icon\"\n",
       "                 onclick=\"copyToClipboard('penalty',\n",
       "                          this.parentElement.nextElementSibling)\"\n",
       "            ></i></td>\n",
       "            <td class=\"param\">penalty&nbsp;</td>\n",
       "            <td class=\"value\">&#x27;l2&#x27;</td>\n",
       "        </tr>\n",
       "    \n",
       "\n",
       "        <tr class=\"default\">\n",
       "            <td><i class=\"copy-paste-icon\"\n",
       "                 onclick=\"copyToClipboard('dual',\n",
       "                          this.parentElement.nextElementSibling)\"\n",
       "            ></i></td>\n",
       "            <td class=\"param\">dual&nbsp;</td>\n",
       "            <td class=\"value\">False</td>\n",
       "        </tr>\n",
       "    \n",
       "\n",
       "        <tr class=\"default\">\n",
       "            <td><i class=\"copy-paste-icon\"\n",
       "                 onclick=\"copyToClipboard('tol',\n",
       "                          this.parentElement.nextElementSibling)\"\n",
       "            ></i></td>\n",
       "            <td class=\"param\">tol&nbsp;</td>\n",
       "            <td class=\"value\">0.0001</td>\n",
       "        </tr>\n",
       "    \n",
       "\n",
       "        <tr class=\"default\">\n",
       "            <td><i class=\"copy-paste-icon\"\n",
       "                 onclick=\"copyToClipboard('C',\n",
       "                          this.parentElement.nextElementSibling)\"\n",
       "            ></i></td>\n",
       "            <td class=\"param\">C&nbsp;</td>\n",
       "            <td class=\"value\">1.0</td>\n",
       "        </tr>\n",
       "    \n",
       "\n",
       "        <tr class=\"default\">\n",
       "            <td><i class=\"copy-paste-icon\"\n",
       "                 onclick=\"copyToClipboard('fit_intercept',\n",
       "                          this.parentElement.nextElementSibling)\"\n",
       "            ></i></td>\n",
       "            <td class=\"param\">fit_intercept&nbsp;</td>\n",
       "            <td class=\"value\">True</td>\n",
       "        </tr>\n",
       "    \n",
       "\n",
       "        <tr class=\"default\">\n",
       "            <td><i class=\"copy-paste-icon\"\n",
       "                 onclick=\"copyToClipboard('intercept_scaling',\n",
       "                          this.parentElement.nextElementSibling)\"\n",
       "            ></i></td>\n",
       "            <td class=\"param\">intercept_scaling&nbsp;</td>\n",
       "            <td class=\"value\">1</td>\n",
       "        </tr>\n",
       "    \n",
       "\n",
       "        <tr class=\"default\">\n",
       "            <td><i class=\"copy-paste-icon\"\n",
       "                 onclick=\"copyToClipboard('class_weight',\n",
       "                          this.parentElement.nextElementSibling)\"\n",
       "            ></i></td>\n",
       "            <td class=\"param\">class_weight&nbsp;</td>\n",
       "            <td class=\"value\">None</td>\n",
       "        </tr>\n",
       "    \n",
       "\n",
       "        <tr class=\"default\">\n",
       "            <td><i class=\"copy-paste-icon\"\n",
       "                 onclick=\"copyToClipboard('random_state',\n",
       "                          this.parentElement.nextElementSibling)\"\n",
       "            ></i></td>\n",
       "            <td class=\"param\">random_state&nbsp;</td>\n",
       "            <td class=\"value\">None</td>\n",
       "        </tr>\n",
       "    \n",
       "\n",
       "        <tr class=\"default\">\n",
       "            <td><i class=\"copy-paste-icon\"\n",
       "                 onclick=\"copyToClipboard('solver',\n",
       "                          this.parentElement.nextElementSibling)\"\n",
       "            ></i></td>\n",
       "            <td class=\"param\">solver&nbsp;</td>\n",
       "            <td class=\"value\">&#x27;lbfgs&#x27;</td>\n",
       "        </tr>\n",
       "    \n",
       "\n",
       "        <tr class=\"default\">\n",
       "            <td><i class=\"copy-paste-icon\"\n",
       "                 onclick=\"copyToClipboard('max_iter',\n",
       "                          this.parentElement.nextElementSibling)\"\n",
       "            ></i></td>\n",
       "            <td class=\"param\">max_iter&nbsp;</td>\n",
       "            <td class=\"value\">100</td>\n",
       "        </tr>\n",
       "    \n",
       "\n",
       "        <tr class=\"default\">\n",
       "            <td><i class=\"copy-paste-icon\"\n",
       "                 onclick=\"copyToClipboard('multi_class',\n",
       "                          this.parentElement.nextElementSibling)\"\n",
       "            ></i></td>\n",
       "            <td class=\"param\">multi_class&nbsp;</td>\n",
       "            <td class=\"value\">&#x27;deprecated&#x27;</td>\n",
       "        </tr>\n",
       "    \n",
       "\n",
       "        <tr class=\"default\">\n",
       "            <td><i class=\"copy-paste-icon\"\n",
       "                 onclick=\"copyToClipboard('verbose',\n",
       "                          this.parentElement.nextElementSibling)\"\n",
       "            ></i></td>\n",
       "            <td class=\"param\">verbose&nbsp;</td>\n",
       "            <td class=\"value\">0</td>\n",
       "        </tr>\n",
       "    \n",
       "\n",
       "        <tr class=\"default\">\n",
       "            <td><i class=\"copy-paste-icon\"\n",
       "                 onclick=\"copyToClipboard('warm_start',\n",
       "                          this.parentElement.nextElementSibling)\"\n",
       "            ></i></td>\n",
       "            <td class=\"param\">warm_start&nbsp;</td>\n",
       "            <td class=\"value\">False</td>\n",
       "        </tr>\n",
       "    \n",
       "\n",
       "        <tr class=\"default\">\n",
       "            <td><i class=\"copy-paste-icon\"\n",
       "                 onclick=\"copyToClipboard('n_jobs',\n",
       "                          this.parentElement.nextElementSibling)\"\n",
       "            ></i></td>\n",
       "            <td class=\"param\">n_jobs&nbsp;</td>\n",
       "            <td class=\"value\">None</td>\n",
       "        </tr>\n",
       "    \n",
       "\n",
       "        <tr class=\"default\">\n",
       "            <td><i class=\"copy-paste-icon\"\n",
       "                 onclick=\"copyToClipboard('l1_ratio',\n",
       "                          this.parentElement.nextElementSibling)\"\n",
       "            ></i></td>\n",
       "            <td class=\"param\">l1_ratio&nbsp;</td>\n",
       "            <td class=\"value\">None</td>\n",
       "        </tr>\n",
       "    \n",
       "                  </tbody>\n",
       "                </table>\n",
       "            </details>\n",
       "        </div>\n",
       "    </div></div></div></div></div><script>function copyToClipboard(text, element) {\n",
       "    // Get the parameter prefix from the closest toggleable content\n",
       "    const toggleableContent = element.closest('.sk-toggleable__content');\n",
       "    const paramPrefix = toggleableContent ? toggleableContent.dataset.paramPrefix : '';\n",
       "    const fullParamName = paramPrefix ? `${paramPrefix}${text}` : text;\n",
       "\n",
       "    const originalStyle = element.style;\n",
       "    const computedStyle = window.getComputedStyle(element);\n",
       "    const originalWidth = computedStyle.width;\n",
       "    const originalHTML = element.innerHTML.replace('Copied!', '');\n",
       "\n",
       "    navigator.clipboard.writeText(fullParamName)\n",
       "        .then(() => {\n",
       "            element.style.width = originalWidth;\n",
       "            element.style.color = 'green';\n",
       "            element.innerHTML = \"Copied!\";\n",
       "\n",
       "            setTimeout(() => {\n",
       "                element.innerHTML = originalHTML;\n",
       "                element.style = originalStyle;\n",
       "            }, 2000);\n",
       "        })\n",
       "        .catch(err => {\n",
       "            console.error('Failed to copy:', err);\n",
       "            element.style.color = 'red';\n",
       "            element.innerHTML = \"Failed!\";\n",
       "            setTimeout(() => {\n",
       "                element.innerHTML = originalHTML;\n",
       "                element.style = originalStyle;\n",
       "            }, 2000);\n",
       "        });\n",
       "    return false;\n",
       "}\n",
       "\n",
       "document.querySelectorAll('.fa-regular.fa-copy').forEach(function(element) {\n",
       "    const toggleableContent = element.closest('.sk-toggleable__content');\n",
       "    const paramPrefix = toggleableContent ? toggleableContent.dataset.paramPrefix : '';\n",
       "    const paramName = element.parentElement.nextElementSibling.textContent.trim();\n",
       "    const fullParamName = paramPrefix ? `${paramPrefix}${paramName}` : paramName;\n",
       "\n",
       "    element.setAttribute('title', fullParamName);\n",
       "});\n",
       "</script></body>"
      ],
      "text/plain": [
       "LogisticRegression()"
      ]
     },
     "execution_count": 259,
     "metadata": {},
     "output_type": "execute_result"
    }
   ],
   "source": [
    "from sklearn.linear_model import LogisticRegression\n",
    "\n",
    "log_reg = LogisticRegression()\n",
    "\n",
    "# finds the coefficients and the intercept value\n",
    "log_reg.fit(X_train, np.ravel(y_train))"
   ]
  },
  {
   "cell_type": "markdown",
   "id": "8757ca46",
   "metadata": {},
   "source": [
    "- Large positive coefficient: a one unit increase in that feature is associated with a large increase in the log odds (and therefore probability) of a datapoint belonging to the positive class (the outcome group labeled as 1)\n",
    "- Large negative coefficient: a one unit increase in that feature is associated with a large decrease in the log odds/probability of belonging to the positive class.\n",
    "- Coefficient of 0: The feature is not associated with the outcome."
   ]
  },
  {
   "cell_type": "code",
   "execution_count": 260,
   "id": "f954a513",
   "metadata": {},
   "outputs": [
    {
     "data": {
      "application/vnd.microsoft.datawrangler.viewer.v0+json": {
       "columns": [
        {
         "name": "index",
         "rawType": "int64",
         "type": "integer"
        },
        {
         "name": "Feature",
         "rawType": "object",
         "type": "string"
        },
        {
         "name": "Coefficient",
         "rawType": "float64",
         "type": "float"
        }
       ],
       "ref": "aa9395c1-ba00-4b53-8690-97c5522188f3",
       "rows": [
        [
         "0",
         "person_age_scaled",
         "-0.004386644478663808"
        ],
        [
         "1",
         "person_income_scaled",
         "-1.4777499630425315"
        ],
        [
         "2",
         "loan_grade_B",
         "0.5337017964062462"
        ],
        [
         "3",
         "loan_grade_C",
         "0.7891590128354898"
        ],
        [
         "4",
         "loan_grade_D",
         "2.6905739355694"
        ],
        [
         "5",
         "loan_grade_E",
         "3.011318557874734"
        ],
        [
         "6",
         "loan_grade_F",
         "3.5511379430421868"
        ],
        [
         "7",
         "loan_grade_G",
         "4.967854517209547"
        ]
       ],
       "shape": {
        "columns": 2,
        "rows": 8
       }
      },
      "text/html": [
       "<div>\n",
       "<style scoped>\n",
       "    .dataframe tbody tr th:only-of-type {\n",
       "        vertical-align: middle;\n",
       "    }\n",
       "\n",
       "    .dataframe tbody tr th {\n",
       "        vertical-align: top;\n",
       "    }\n",
       "\n",
       "    .dataframe thead th {\n",
       "        text-align: right;\n",
       "    }\n",
       "</style>\n",
       "<table border=\"1\" class=\"dataframe\">\n",
       "  <thead>\n",
       "    <tr style=\"text-align: right;\">\n",
       "      <th></th>\n",
       "      <th>Feature</th>\n",
       "      <th>Coefficient</th>\n",
       "    </tr>\n",
       "  </thead>\n",
       "  <tbody>\n",
       "    <tr>\n",
       "      <th>0</th>\n",
       "      <td>person_age_scaled</td>\n",
       "      <td>-0.004387</td>\n",
       "    </tr>\n",
       "    <tr>\n",
       "      <th>1</th>\n",
       "      <td>person_income_scaled</td>\n",
       "      <td>-1.477750</td>\n",
       "    </tr>\n",
       "    <tr>\n",
       "      <th>2</th>\n",
       "      <td>loan_grade_B</td>\n",
       "      <td>0.533702</td>\n",
       "    </tr>\n",
       "    <tr>\n",
       "      <th>3</th>\n",
       "      <td>loan_grade_C</td>\n",
       "      <td>0.789159</td>\n",
       "    </tr>\n",
       "    <tr>\n",
       "      <th>4</th>\n",
       "      <td>loan_grade_D</td>\n",
       "      <td>2.690574</td>\n",
       "    </tr>\n",
       "    <tr>\n",
       "      <th>5</th>\n",
       "      <td>loan_grade_E</td>\n",
       "      <td>3.011319</td>\n",
       "    </tr>\n",
       "    <tr>\n",
       "      <th>6</th>\n",
       "      <td>loan_grade_F</td>\n",
       "      <td>3.551138</td>\n",
       "    </tr>\n",
       "    <tr>\n",
       "      <th>7</th>\n",
       "      <td>loan_grade_G</td>\n",
       "      <td>4.967855</td>\n",
       "    </tr>\n",
       "  </tbody>\n",
       "</table>\n",
       "</div>"
      ],
      "text/plain": [
       "                Feature  Coefficient\n",
       "0     person_age_scaled    -0.004387\n",
       "1  person_income_scaled    -1.477750\n",
       "2          loan_grade_B     0.533702\n",
       "3          loan_grade_C     0.789159\n",
       "4          loan_grade_D     2.690574\n",
       "5          loan_grade_E     3.011319\n",
       "6          loan_grade_F     3.551138\n",
       "7          loan_grade_G     4.967855"
      ]
     },
     "execution_count": 260,
     "metadata": {},
     "output_type": "execute_result"
    }
   ],
   "source": [
    "coefficients_df = pd.DataFrame(\n",
    "    {\"Feature\": log_reg.feature_names_in_, \"Coefficient\": log_reg.coef_.flatten()}\n",
    ")\n",
    "coefficients_df"
   ]
  },
  {
   "cell_type": "code",
   "execution_count": 261,
   "id": "34d067d3",
   "metadata": {},
   "outputs": [
    {
     "name": "stderr",
     "output_type": "stream",
     "text": [
      "C:\\Users\\mervedosa\\AppData\\Local\\Temp\\ipykernel_4380\\2020322580.py:1: FutureWarning: \n",
      "\n",
      "Passing `palette` without assigning `hue` is deprecated and will be removed in v0.14.0. Assign the `y` variable to `hue` and set `legend=False` for the same effect.\n",
      "\n",
      "  sns.barplot(\n"
     ]
    },
    {
     "data": {
      "text/plain": [
       "<Axes: xlabel='Coefficient', ylabel='Feature'>"
      ]
     },
     "execution_count": 261,
     "metadata": {},
     "output_type": "execute_result"
    },
    {
     "data": {
      "image/png": "[encoded data removed]",
      "text/plain": [
       "<Figure size 640x480 with 1 Axes>"
      ]
     },
     "metadata": {},
     "output_type": "display_data"
    }
   ],
   "source": [
    "sns.barplot(\n",
    "    x=\"Coefficient\",\n",
    "    y=\"Feature\",\n",
    "    data=coefficients_df.sort_values(\"Coefficient\"),\n",
    "    palette=\"coolwarm\",\n",
    ")"
   ]
  },
  {
   "cell_type": "markdown",
   "id": "a9fb6248",
   "metadata": {},
   "source": [
    "Using a trained model, we can predict whether new datapoints belong to the positive class (the group labeled as 1) using the `predict()`method. The input is a matrix of features and the output is a vector of predicted labels, 1 or 0."
   ]
  },
  {
   "cell_type": "code",
   "execution_count": 262,
   "id": "5478bcdc",
   "metadata": {},
   "outputs": [
    {
     "data": {
      "text/plain": [
       "array([0, 0, 1, ..., 0, 0, 0], shape=(6517,))"
      ]
     },
     "execution_count": 262,
     "metadata": {},
     "output_type": "execute_result"
    }
   ],
   "source": [
    "# takes values calculated by `.fit()` and the `x` values, plugs them into the multiple linear regression equation, and calculates the predicted y values.\n",
    "y_predicted = log_reg.predict(X_test)\n",
    "y_predicted"
   ]
  },
  {
   "cell_type": "markdown",
   "id": "ace03b70",
   "metadata": {},
   "source": [
    "If we are more interested in the predicted probability of group membership, we can use the `.predict_proba()` method. The input to `predict_proba()` is also a matrix of features and the output is an array of probabilities, ranging from 0 to 1:"
   ]
  },
  {
   "cell_type": "code",
   "execution_count": 263,
   "id": "ff66eff7",
   "metadata": {},
   "outputs": [
    {
     "data": {
      "text/plain": [
       "array([0.27338946, 0.17045523, 0.53219771, ..., 0.04621322, 0.03813339,\n",
       "       0.11616232], shape=(6517,))"
      ]
     },
     "execution_count": 263,
     "metadata": {},
     "output_type": "execute_result"
    }
   ],
   "source": [
    "y_predicted_probs = log_reg.predict_proba(X_test)[:, 1]\n",
    "y_predicted_probs"
   ]
  },
  {
   "cell_type": "markdown",
   "id": "239a233c",
   "metadata": {},
   "source": [
    "As we’ve seen, logistic regression is used to predict the probability of group membership. Once we have this probability, we need to make a decision about what class a datapoint belongs to. This is where the classification threshold comes in!"
   ]
  },
  {
   "cell_type": "markdown",
   "id": "9ab7f55d",
   "metadata": {},
   "source": [
    "By default, `.predict_proba()` returns the probability of class membership for both possible groups. In the example code above, we’ve only printed out the probability of belonging to the positive class. Notice that datapoints with predicted probabilities greater than 0.5 (the second and third datapoints in this example) were classified as 1s by the `.predict()` method. This is a process known as thresholding. As we can see here, sklearn sets the default classification `threshold` probability as 0.5."
   ]
  },
  {
   "cell_type": "code",
   "execution_count": 264,
   "id": "d924b333",
   "metadata": {},
   "outputs": [
    {
     "data": {
      "text/plain": [
       "array([0., 0., 0., ..., 0., 0., 0.], shape=(6517,))"
      ]
     },
     "execution_count": 264,
     "metadata": {},
     "output_type": "execute_result"
    }
   ],
   "source": [
    "threshold = 0.6\n",
    "\n",
    "y_pred_class = (y_predicted_probs > threshold) * 1.0\n",
    "y_pred_class"
   ]
  },
  {
   "cell_type": "markdown",
   "id": "ab5dad4f",
   "metadata": {},
   "source": [
    "If we want to find the threshold that best maximises FPR and TPR is done as so:"
   ]
  },
  {
   "cell_type": "code",
   "execution_count": null,
   "id": "76fbf146",
   "metadata": {},
   "outputs": [
    {
     "name": "stdout",
     "output_type": "stream",
     "text": [
      "Optimal threshold: 0.203624203922761\n"
     ]
    }
   ],
   "source": [
    "from sklearn.metrics import roc_curve\n",
    "\n",
    "# Print optimal threshold value\n",
    "f = roc_curve(y_test, log_reg.predict_proba(X_test)[:, 1])\n",
    "\n",
    "fpr = f[0]\n",
    "tpr = f[1]\n",
    "thresholds = f[2]\n",
    "optimal_idx = np.argmax(tpr - fpr)\n",
    "optimal_threshold = thresholds[optimal_idx]\n",
    "print(f\"Optimal threshold: {optimal_threshold}\")"
   ]
  },
  {
   "cell_type": "markdown",
   "id": "e1ff8b5c",
   "metadata": {},
   "source": [
    "## **Assumptions**\n",
    "\n",
    "We’re going to begin with the primary assumptions about the data that need to be checked before implementing a logistic regression model.\n",
    "\n",
    "### **Binary Target**\n",
    "\n",
    "One of the most basic assumptions of logistic regression is that the outcome variable needs to be binary, which means there are two possible outcomes. Multinomial logistic regression is an exception to this assumption and is beyond the scope of this lesson.\n"
   ]
  },
  {
   "cell_type": "code",
   "execution_count": 266,
   "id": "09fce8aa",
   "metadata": {},
   "outputs": [
    {
     "name": "stdout",
     "output_type": "stream",
     "text": [
      "loan_status\n",
      "0    25473\n",
      "1     7108\n",
      "Name: count, dtype: int64\n"
     ]
    }
   ],
   "source": [
    "print(df.loan_status.value_counts())"
   ]
  },
  {
   "cell_type": "markdown",
   "id": "67598a59",
   "metadata": {},
   "source": [
    "\n",
    "### **Independent Observations**\n",
    "\n",
    "While often overlooked, checking for independent observations in a data set is important for logistic regression. This can be violated if, in this case, patients are biopsied multiple times (repeated sampling of the same individual).\n"
   ]
  },
  {
   "cell_type": "code",
   "execution_count": 267,
   "id": "9db63b5d",
   "metadata": {},
   "outputs": [
    {
     "name": "stdout",
     "output_type": "stream",
     "text": [
      "True\n"
     ]
    }
   ],
   "source": [
    "unique_ids = df.index.nunique() == df.shape[0]\n",
    "print(unique_ids)"
   ]
  },
  {
   "cell_type": "markdown",
   "id": "9fd2047e",
   "metadata": {},
   "source": [
    "\n",
    "### **Large Enough Sample**\n",
    "\n",
    "Since logistic regression is fit using maximum likelihood estimation instead of least squares minimization, there must be a large enough sample to get convergence. When a model fails to converge, this causes the estimates to be extremely inaccurate. Now, what does a “large enough” sample mean? Often a rule of thumb is that there should be at least 10 samples per feature for the smallest class in the outcome variable.\n",
    "\n",
    "For example, if there were 100 samples and the outcome variable diagnosis had 60 benign tumors and 40 malignant tumors, then the max number of features allowed would be 4. To get 4 we took the smallest of the classes in the outcome variable, 40, and divided it by 10.\n"
   ]
  },
  {
   "cell_type": "code",
   "execution_count": 268,
   "id": "bb0e84d9",
   "metadata": {},
   "outputs": [
    {
     "name": "stdout",
     "output_type": "stream",
     "text": [
      "8\n",
      "710.8\n"
     ]
    }
   ],
   "source": [
    "max_features = min(df.loan_status.value_counts() / 10)\n",
    "print(X_train.shape[1])\n",
    "print(max_features)"
   ]
  },
  {
   "cell_type": "markdown",
   "id": "e969773d",
   "metadata": {},
   "source": [
    "\n",
    "### **No Influencial Outliers**\n",
    "\n",
    "Logistic regression is sensitive to outliers, so we must remove any extremely influential outliers for model building. Outliers are a broad topic with many different definitions – z-scores, scaler of the interquartile range, Cook’s distance/influence/leverage, etc – so there are many ways to identify them. But here, we will use visual tools to rule out obvious outliers."
   ]
  },
  {
   "cell_type": "code",
   "execution_count": 269,
   "id": "3029bf33",
   "metadata": {},
   "outputs": [
    {
     "name": "stderr",
     "output_type": "stream",
     "text": [
      "c:\\Users\\mervedosa\\OneDrive - Deloitte (O365D)\\Documents\\Deloitte\\Non-Billable\\Azure\\crm_codelib\\UK SRTA CRM Credit Library\\.venv\\Lib\\site-packages\\pandas\\core\\internals\\blocks.py:395: RuntimeWarning: invalid value encountered in log\n",
      "  result = func(self.values, **kwargs)\n"
     ]
    },
    {
     "data": {
      "text/plain": [
       "<Axes: >"
      ]
     },
     "execution_count": 269,
     "metadata": {},
     "output_type": "execute_result"
    },
    {
     "data": {
      "image/png": "[encoded data removed]",
      "text/plain": [
       "<Figure size 640x480 with 1 Axes>"
      ]
     },
     "metadata": {},
     "output_type": "display_data"
    }
   ],
   "source": [
    "from scipy.stats import zscore\n",
    "\n",
    "sns.boxplot(data=np.log(df[transformed_feature_variables] + 0.01).apply(zscore), orient=\"h\")"
   ]
  },
  {
   "cell_type": "markdown",
   "id": "658799c3",
   "metadata": {},
   "source": [
    "### **Features Linearly Related to Log-odds**\n",
    "Similar to linear regression, the underlying assumption of logistic regression is that the features are linearly related to the logit of the outcome. To test this visually, we can use Seaborn’s `regplot`, with the parameter `logistic= True` and the x value as our feature of interest. If this condition is met, the fit model will resemble a sigmoidal curve (as is the case when x=radius_mean).\n"
   ]
  },
  {
   "cell_type": "code",
   "execution_count": 270,
   "id": "2b4941e7",
   "metadata": {},
   "outputs": [
    {
     "data": {
      "text/plain": [
       "<Axes: xlabel='loan_grade_G', ylabel='loan_status'>"
      ]
     },
     "execution_count": 270,
     "metadata": {},
     "output_type": "execute_result"
    },
    {
     "data": {
      "image/png": "[encoded data removed]",
      "text/plain": [
       "<Figure size 640x480 with 1 Axes>"
      ]
     },
     "metadata": {},
     "output_type": "display_data"
    }
   ],
   "source": [
    "sns.regplot(\n",
    "    x=\"loan_grade_G\",\n",
    "    y=\"loan_status\",\n",
    "    data=df,\n",
    "    logistic=True,\n",
    ")"
   ]
  },
  {
   "cell_type": "markdown",
   "id": "da8897e9",
   "metadata": {},
   "source": [
    "\n",
    "### **Multicollinearity**\n",
    "\n",
    "Like in linear regression, one of the assumptions is that there is no multicollinearity in the data. Meaning the features should not be highly correlated. Multicollinearity can cause the coefficients and p-values to be inaccurate. With a correlation plot, we can see which features are highly correlated and then we can drop one of the features.\n",
    "\n",
    "We’re going to look at the “mean” features which are highly correlated with each other using a heatmap correlation plot."
   ]
  },
  {
   "cell_type": "code",
   "execution_count": 271,
   "id": "88d743f3",
   "metadata": {},
   "outputs": [
    {
     "data": {
      "text/plain": [
       "<Axes: >"
      ]
     },
     "execution_count": 271,
     "metadata": {},
     "output_type": "execute_result"
    },
    {
     "data": {
      "image/png": "[encoded data removed]",
      "text/plain": [
       "<Figure size 640x480 with 2 Axes>"
      ]
     },
     "metadata": {},
     "output_type": "display_data"
    }
   ],
   "source": [
    "sns.heatmap(df[transformed_feature_variables].corr(), annot=True)"
   ]
  },
  {
   "cell_type": "markdown",
   "id": "df7c34d6",
   "metadata": {},
   "source": [
    "### **Class Imbalance**\n",
    "\n",
    "Class imbalance is when your binary classes for the outcome variable are not evenly split. Technically, anything different from a 50/50 distribution would be imbalanced and need appropriate care. In the case of rare events, sometimes the positive class can be less than 1% of the total. If your classes are significantly imbalanced, this could create a bias towards the majority class since the model learns that it can have a higher accuracy if it predicts the majority class more often.\n"
   ]
  },
  {
   "cell_type": "markdown",
   "id": "fb8e8916",
   "metadata": {},
   "source": [
    "\n",
    "#### **Positivity Rate**\n",
    "\n",
    "We can use the positivity rate to tell us how balanced our classes are. The positivity rate is the rate of occurrence for the positive class. With our breast cancer data, the formula is Positivity Rate = Total Malignant Cases / Total Cases. If our positivity rate is close to .5, then our classes are balanced.\n"
   ]
  },
  {
   "cell_type": "code",
   "execution_count": 272,
   "id": "ccbb133c",
   "metadata": {},
   "outputs": [
    {
     "data": {
      "text/plain": [
       "array([5663])"
      ]
     },
     "execution_count": 272,
     "metadata": {},
     "output_type": "execute_result"
    }
   ],
   "source": [
    "sum(y_train.values)"
   ]
  },
  {
   "cell_type": "code",
   "execution_count": 273,
   "id": "b3d9819f",
   "metadata": {},
   "outputs": [
    {
     "name": "stdout",
     "output_type": "stream",
     "text": [
      "Train positivity rate: \n",
      "0.21727286678944138\n",
      "Test positivity rate: \n",
      "0.22172778885990485\n"
     ]
    }
   ],
   "source": [
    "print(\"Train positivity rate: \")\n",
    "print(sum(y_train[\"loan_status\"]) / y_train.shape[0])\n",
    "print(\"Test positivity rate: \")\n",
    "print(sum(y_test[\"loan_status\"]) / y_test.shape[0])"
   ]
  },
  {
   "cell_type": "markdown",
   "id": "3e8d8a00",
   "metadata": {},
   "source": [
    "\n",
    "#### **Stratification**\n",
    "If your classes are imbalanced (more likely to happen with smaller datasets) then this difference can become even greater after you split your data into a training and testing dataset. One way to mitigate this is to randomly split using stratification on the class labels. Stratification is when the data is sorted into subgroups to ensure a nearly equal class distribution in your train and test sets. After using stratification, the training and testing datasets should have a very similar positivity rate (but stratification does not necessarily cause the positivity rate of the dataset to reach closer to .5).\n"
   ]
  },
  {
   "cell_type": "code",
   "execution_count": 274,
   "id": "f973479d",
   "metadata": {},
   "outputs": [],
   "source": [
    "# First, split into Train (80%) and Temp (20%)\n",
    "X_train_str, X_test_str, y_train_str, y_test_str = train_test_split(\n",
    "    X, y, test_size=0.3, random_state=42, stratify=y\n",
    ")"
   ]
  },
  {
   "cell_type": "code",
   "execution_count": 275,
   "id": "896645bb",
   "metadata": {},
   "outputs": [
    {
     "name": "stdout",
     "output_type": "stream",
     "text": [
      "Stratified train positivity rate: \n",
      "[0.21814435]\n",
      "Stratified test positivity rate: \n",
      "[0.21820972]\n"
     ]
    }
   ],
   "source": [
    "print(\"Stratified train positivity rate: \")\n",
    "str_train_positivity_rate = sum(y_train_str.values) / y_train_str.shape[0]\n",
    "print(str_train_positivity_rate)\n",
    "\n",
    "print(\"Stratified test positivity rate: \")\n",
    "str_test_positivity_rate = sum(y_test_str.values) / y_test_str.shape[0]\n",
    "print(str_test_positivity_rate)"
   ]
  },
  {
   "cell_type": "markdown",
   "id": "ce7f46bc",
   "metadata": {},
   "source": [
    "\n",
    "#### **Undersampling/Oversampling**\n",
    "\n",
    "To bring the positivity rate of the dataset closer to .5, we can undersample the majority class or oversample the minority class. For oversampling, repeated samples (with replacement) are taken from the minority class until the size is equal to that of the majority class. This causes the same data to be used multiple times, giving a higher weight to these samples. Alternatively, undersampling leaves out some of the majority class data to have the same number of samples as the minority class, leaving fewer data to build the model. We will not be practicing undersampling/oversampling in this exercise even though it can be a useful way to balance the classes.\n"
   ]
  },
  {
   "cell_type": "markdown",
   "id": "198af690",
   "metadata": {},
   "source": [
    "\n",
    "#### **Balance the Class Weight**\n",
    "\n",
    "When training a model, it is the default for every sample to be weighted equally. However, in the case of class imbalance, this can result in poor predictive power for the smaller of the two classes. A way to counteract this in logistic regression is to use the parameter `class_weight='balanced'`. This applies a weight inversely proportional to the class frequency, therefore supplying higher weight to misclassified instances in the smaller class. While overall accuracy may not increase, this can increase the accuracy for the smaller class (e.g. increase the number of malignant cases correctly diagnosed).\n",
    "\n",
    "Keep in mind that we want the recall score (also known as the True Positive Rate) to be as high as we can get it for our breast cancer data."
   ]
  },
  {
   "cell_type": "code",
   "execution_count": 276,
   "id": "86d1ae17",
   "metadata": {},
   "outputs": [],
   "source": [
    "log_reg_bal = LogisticRegression(class_weight=\"balanced\")"
   ]
  },
  {
   "cell_type": "markdown",
   "id": "a567dedd",
   "metadata": {},
   "source": [
    "# **Generalised Linear Models** "
   ]
  },
  {
   "cell_type": "markdown",
   "id": "457a3809",
   "metadata": {},
   "source": [
    "Generalized Linear Models (GLMs) extend linear regression by allowing the dependent variable (Y) to follow different distributions from the exponential family (e.g., Normal, Poisson, Binomial). GLMs consist of:\n",
    "\n",
    "1. A linear predictor $\\eta=X\\beta$ where 𝑋 is the matrix of independent variables and 𝛽 is the coefficient vector.\n",
    "2. A link function $g(⋅)$ that transforms the expectation of $Y$ into a linear form e.g. $\\log(Y)=\\eta$\n",
    "3. A distribution from the exponential family (Normal, Poisson, Gamma, etc.).\n",
    "\n",
    "Common GLMs:\n",
    "- Linear Regression: Identity link function, Normal distribution.\n",
    "- Logistic Regression: Logit link function, Binomial distribution.\n",
    "- Poisson Regression: Log link function, Poisson distribution (used for count data).\n",
    "- Negative Binomial: Log link function, overdispersed count similar to Poisson but handles variance > mean (e.g., accident counts)\n",
    "- Gamma Regression: Inverse, continuous (>0) data, modeling skewed data (e.g., insurance claims, waiting times)\n",
    "\n",
    "GLMs require assumptions about distributions (Normal, Poisson, etc.), while ML models (e.g., Random Forests, Neural Networks) learn from patterns in the data. GLMs are interpretable (coefficients have real-world meaning), whereas ML models often act as black boxes. GLMs assume independence of observations, while time series models (e.g., ARIMA, SARIMA) explicitly model temporal dependence."
   ]
  },
  {
   "cell_type": "markdown",
   "id": "323e7985",
   "metadata": {},
   "source": [
    "![image](images/glm_vs_ml.png)"
   ]
  },
  {
   "cell_type": "markdown",
   "id": "8580fca6",
   "metadata": {},
   "source": [
    "![image](images/glm_vs_time_series.png)"
   ]
  },
  {
   "cell_type": "markdown",
   "id": "4ac14b49",
   "metadata": {},
   "source": [
    "## **Binomial Distribution (Logistic Regression)**\n",
    "\n",
    "Use when the outcome is binary (success/failure) and you want to model the number or probability of successes in a fixed number of trials. \n",
    "\n",
    "Examples\n",
    "- Predicting if a user will click an ad (yes/no). \n",
    "\n",
    "Assumptions\n",
    "- Fixed number of trials\n",
    "- Each trial is independent\n",
    "- Constant probability of success"
   ]
  },
  {
   "cell_type": "code",
   "execution_count": 277,
   "id": "50ac7ead",
   "metadata": {},
   "outputs": [],
   "source": [
    "for col in transformed_feature_variables:\n",
    "    if type(X_train[col].values[0]) == np.bool:\n",
    "        X_train[col] = X_train[col].astype(int)\n",
    "        X_test[col] = X_test[col].astype(int)"
   ]
  },
  {
   "cell_type": "code",
   "execution_count": 278,
   "id": "ffb553fe",
   "metadata": {},
   "outputs": [],
   "source": [
    "# Add intercept term for GLM\n",
    "X_train_glm = sm.add_constant(X_train.values)\n",
    "X_test_glm = sm.add_constant(X_test)"
   ]
  },
  {
   "cell_type": "code",
   "execution_count": null,
   "id": "18ee3421",
   "metadata": {},
   "outputs": [
    {
     "name": "stdout",
     "output_type": "stream",
     "text": [
      "                 Generalized Linear Model Regression Results                  \n",
      "==============================================================================\n",
      "Dep. Variable:            loan_status   No. Observations:                26064\n",
      "Model:                            GLM   Df Residuals:                    26055\n",
      "Model Family:                Binomial   Df Model:                            8\n",
      "Link Function:                  Logit   Scale:                          1.0000\n",
      "Method:                          IRLS   Log-Likelihood:                -10849.\n",
      "Date:                Tue, 24 Jun 2025   Deviance:                       21697.\n",
      "Time:                        19:16:10   Pearson chi2:                 1.07e+07\n",
      "No. Iterations:                     7   Pseudo R-squ. (CS):             0.1930\n",
      "Covariance Type:            nonrobust                                         \n",
      "==============================================================================\n",
      "                 coef    std err          z      P>|z|      [0.025      0.975]\n",
      "------------------------------------------------------------------------------\n",
      "const         -2.4510      0.038    -63.703      0.000      -2.526      -2.376\n",
      "x1            -0.0047      0.018     -0.271      0.786      -0.039       0.030\n",
      "x2            -1.4930      0.043    -34.886      0.000      -1.577      -1.409\n",
      "x3             0.5611      0.048     11.800      0.000       0.468       0.654\n",
      "x4             0.8163      0.051     16.031      0.000       0.716       0.916\n",
      "x5             2.7197      0.055     49.153      0.000       2.611       2.828\n",
      "x6             3.0712      0.091     33.711      0.000       2.893       3.250\n",
      "x7             3.6918      0.187     19.730      0.000       3.325       4.059\n",
      "x8             7.6200      1.202      6.337      0.000       5.263       9.977\n",
      "==============================================================================\n"
     ]
    }
   ],
   "source": [
    "model = sm.GLM(y_train, X_train_glm, family=sm.families.Binomial())\n",
    "result = model.fit()\n",
    "print(result.summary())"
   ]
  },
  {
   "cell_type": "markdown",
   "id": "4142479c",
   "metadata": {},
   "source": [
    "## **Beta Distribution**\n",
    "\n",
    "Proportions or percentages (values between 0 and 1). It's particularly useful when the proportions are not clustered near 0 or 1.\n",
    "\n",
    "Examples:\n",
    "\n",
    "- Market share of a product.\n",
    "- Proportion of defective items in a batch.\n",
    "- Conversion rates (e.g., percentage of website visitors who make a purchase).\n",
    "\n",
    "Assumptions:\n",
    "\n",
    "- The data are proportions or percentages, ranging from 0 to 1.\n",
    "- The data are not concentrated near 0 or 1. If the data are clustered near the boundaries, transformations might be necessary.\n",
    "- Remember that the choice of distribution should be guided by the characteristics of your data and the underlying process generating the data. Visual inspection of histograms and other descriptive statistics is crucial before selecting a GLM.\n",
    "\n",
    "\n"
   ]
  },
  {
   "cell_type": "markdown",
   "id": "f876213c",
   "metadata": {},
   "source": [
    "## **Poisson Distribution**\n",
    "\n",
    "Use for modeling count data where the event rate is constant and the events happen independently.\n",
    "\n",
    "Examples:\n",
    "- Number of customer complaints per day\n",
    "\n",
    "Assumptions:\n",
    "- Events are independent\n",
    "- Mean equals the variance (equidispersion)\n",
    "- Counts are non-negative integers"
   ]
  },
  {
   "cell_type": "markdown",
   "id": "c99b44f7",
   "metadata": {},
   "source": [
    "```python\n",
    "model = sm.GLM(y, X, family=sm.families.Poisson())\n",
    "result = model.fit()\n",
    "print(result.summary())\n",
    "```"
   ]
  },
  {
   "cell_type": "markdown",
   "id": "6654bc1c",
   "metadata": {},
   "source": [
    "## **Negative Binomial Distribution**\n",
    "\n",
    "Use when modeling count data with overdispersion (i.e., variance > mean). It's a generalization of the Poisson model.\n",
    "\n",
    "Examples:\n",
    "- Overdispersed counts of claims or visits\n",
    "\n",
    "Assumptions:\n",
    "- Like Poisson but allows for extra variability\n",
    "- Dispersion is modeled separately"
   ]
  },
  {
   "cell_type": "markdown",
   "id": "36929c31",
   "metadata": {},
   "source": [
    "```python\n",
    "from statsmodels.discrete.discrete_model import NegativeBinomial\n",
    "\n",
    "model = NegativeBinomial(y, X)\n",
    "result = model.fit()\n",
    "print(result.summary())\n",
    "\n",
    "model = sm.GLM(y, X, family=sm.families.NegativeBinomial())\n",
    "result = model.fit()\n",
    "print(result.summary())\n",
    "```"
   ]
  },
  {
   "cell_type": "markdown",
   "id": "90a185a7",
   "metadata": {},
   "source": [
    "## **Zero-Inflated Poisson (ZIP) Distribution**\n",
    "\n",
    "Count data with an excess of zeros compared to a standard Poisson distribution. This means you observe many more zero counts than a typical Poisson model would predict.\n",
    "\n",
    "Examples:\n",
    "\n",
    "- Number of accidents per driver (many drivers have zero accidents).\n",
    "- Number of hospital visits per patient (many patients have zero visits).\n",
    "- Number of purchases per customer (many customers make zero purchases).\n",
    "\n",
    "Assumptions:\n",
    "\n",
    "- The data are counts (non-negative integers).\n",
    "- There are two processes generating the data: a process that determines whether a count is zero or positive, and a separate process that generates the positive counts (often modeled using a Poisson distribution).\n",
    "- The positive counts follow a Poisson distribution (or a different distribution if a Zero-Inflated Negative Binomial is more appropriate).\n"
   ]
  },
  {
   "cell_type": "markdown",
   "id": "7f25fa35",
   "metadata": {},
   "source": [
    "\n",
    "## **Zero-Inflated Negative Binomial (ZINB) Distribution**\n",
    "\n",
    "Count data with an excess of zeros and overdispersion (variance greater than the mean). This is a common scenario when the data exhibit both extra zeros and more variability than a Poisson distribution can account for.\n",
    "\n",
    "Examples:\n",
    "\n",
    "- Number of claims filed by an insurance policyholder.\n",
    "- Number of defects in a manufacturing process.\n",
    "- Number of species observed in an ecological survey.\n",
    "\n",
    "Assumptions:\n",
    "\n",
    "- The data are counts (non-negative integers).\n",
    "- There are two processes generating the data: a process determining whether a count is zero or positive, and a separate process generating the positive counts (often modeled using a Negative Binomial distribution).\n",
    "- The positive counts follow a Negative Binomial distribution (which accounts for overdispersion).\n"
   ]
  },
  {
   "cell_type": "markdown",
   "id": "03649c07",
   "metadata": {},
   "source": [
    "## **Tweedie Distribution**\n",
    "\n",
    "For data that are a mix of discrete (often 0s) and continuous positive values. Used in insurance and advertising (zero-inflated spend).\n",
    "\n",
    "Examples:\n",
    "- Insurance claim amounts\n",
    "- Marketing spend data (many 0s and positive skew)\n",
    "\n",
    "Assumptions:\n",
    "- A compound Poisson-Gamma model\n",
    "- Flexible variance structure: $\\sigma^2 = φ  μ^p$"
   ]
  },
  {
   "cell_type": "markdown",
   "id": "b1371462",
   "metadata": {},
   "source": [
    "A Gamma Regression assumes that its power parameter $p=2$ whereas a Tweedie allows the following $1<p<2$ . This parameter describes how the variance increases with the mean."
   ]
  },
  {
   "cell_type": "markdown",
   "id": "60fa6297",
   "metadata": {},
   "source": [
    "```python\n",
    "tweedie_family = sm.families.Tweedie(var_power=1.5, link=sm.families.links.log())\n",
    "model = sm.GLM(y, X, family=tweedie_family)\n",
    "result = model.fit()\n",
    "print(result.summary())\n",
    "```"
   ]
  },
  {
   "cell_type": "markdown",
   "id": "390ecc72",
   "metadata": {},
   "source": [
    "## **Gamma Distribution**\n",
    "\n",
    "When modeling continuous, skewed strictly positive data, such as duration or cost, where variance increases with the mean.\n",
    "\n",
    "Examples:\n",
    "- Insurance claim sizes\n",
    "- Time until failure\n",
    "\n",
    "Assumptions:\n",
    "- Positive continuous values\n",
    "- Variance increases with the square of the mean"
   ]
  },
  {
   "cell_type": "markdown",
   "id": "b582ceac",
   "metadata": {},
   "source": [
    "## **Inverse Gaussian Distribution**\n",
    "\n",
    "Continuous, positive data with a heavier right tail than the Gamma distribution. This means there's a higher probability of observing very large values compared to a Gamma distribution.\n",
    "\n",
    "Examples:\n",
    "\n",
    "- Time to repair a machine.\n",
    "- Length of hospital stays.\n",
    "- Waiting times in a queue.\n",
    "\n",
    "Assumptions:\n",
    "\n",
    "- The data are continuous and positive.\n",
    "- The distribution is right-skewed, with a heavier tail than the Gamma distribution.\n"
   ]
  },
  {
   "cell_type": "markdown",
   "id": "b3a0723a",
   "metadata": {},
   "source": [
    "\n",
    "## **Generalized Gamma Distribution**\n",
    "\n",
    "Flexible modeling of continuous, positive data. It can accommodate various shapes of distributions, including those that are symmetric, right-skewed, or even left-skewed (though less common for positive data). It's a generalization of several other distributions (Gamma, Weibull, Exponential).\n",
    "\n",
    "Examples:\n",
    "\n",
    "- Modeling data where the shape is uncertain or varies across subgroups.\n",
    "- Situations where other distributions (Gamma, Weibull) don't provide a good fit.\n",
    "\n",
    "Assumptions:\n",
    "\n",
    "- The data are continuous and positive.\n",
    "- The shape of the distribution is flexible and can be estimated from the data. This flexibility comes at the cost of potentially more complex estimation.\n"
   ]
  },
  {
   "cell_type": "markdown",
   "id": "83fc7d89",
   "metadata": {},
   "source": [
    "## **Lognormal Distribution (Lognormal Regression)**\n",
    "\n",
    "Use when the outcome variable is always positive and right-skewed. This distribution models the logarithm of the outcome variable as normally distributed.\n",
    "\n",
    "Examples:\n",
    "\n",
    "- Modeling income levels (always positive and often right-skewed).\n",
    "- Predicting the lifespan of a machine (positive and often right-skewed).\n",
    "- Modeling stock prices (positive and often right-skewed).\n",
    "\n",
    "Assumptions:\n",
    "\n",
    "- The outcome variable is always positive (Y > 0).\n",
    "- The logarithm of the outcome variable, log(Y), is approximately normally distributed. This means that after a log transformation, the data should roughly follow a bell curve.\n",
    "- The errors in the model applied to log(Y) are independent and identically distributed (i.i.d.). This is a standard assumption for many regression models. \n",
    "\n",
    "Important Note: In a lognormal regression, you typically model the logarithm of the response variable as a linear function of the predictor variables. The coefficients are then interpreted on the log scale, and back-transformation is needed to obtain predictions and interpretations on the original scale. This back-transformation often involves exponentiation."
   ]
  },
  {
   "cell_type": "markdown",
   "id": "b11a0329",
   "metadata": {},
   "source": [
    "# **Parameter Estimation Methods**\n",
    "\n",
    "Maximum Likelihood Estimation (MLE) and Ordinary Least Squares (OLS), including Weighted OLS (WOLS), are all methods used to estimate the parameters of a statistical model, but they differ in their approaches and assumptions."
   ]
  },
  {
   "cell_type": "markdown",
   "id": "4bc0ead1",
   "metadata": {},
   "source": [
    "## **Ordinary Least Squares (OLS)**\n",
    "\n",
    "In OLS, we minimize the sum of squared residuals:\n",
    "\n",
    "$\\min_\\beta\\displaystyle\\sum_{i=1}^{n}(y_i-X_i\\beta)^2$\n",
    "\n",
    "Advantages: Relatively simple to compute and interpret. Efficient under its assumptions.\n",
    "\n",
    "Disadvantages: Sensitive to outliers and violations of its assumptions. Can produce biased and inefficient estimates if assumptions are violated."
   ]
  },
  {
   "cell_type": "markdown",
   "id": "27176ba7",
   "metadata": {},
   "source": [
    "## **Weighted Least Squares (WLS)**\n",
    "\n",
    "Weighting a model with a variable means assigning different importance (or reliability) to each observation during model fitting. This is particularly valuable when certain data points are more representative, come from more precise measurements, or are aggregated values (e.g., a row represents 100 people rather than 1). In regression models, weighting can ensure the model fits more accurately to influential or higher-confidence data points, which might otherwise be underrepresented in an unweighted model.\n",
    "\n",
    "Why would you use weights?\n",
    "- Unequal Importance: Some observations may carry more importance due to sampling design, frequency, or relevance. For instance, in survey data, weights correct for stratified or oversampled populations.\n",
    "- Aggregation: When data is aggregated (e.g., one row = 1,000 customers), weighting by the count ensures the model reflects the total population, not just the number of rows.\n",
    "- Heteroscedasticity: In linear models, if the variance of errors differs across observations (non-constant variance), weighted least squares (WLS) can reduce bias and improve efficiency.\n",
    "- Bias Correction: If certain groups are over- or under-represented, weights can adjust to better reflect the target population.\n",
    "\n",
    "In WLS, each observation is given a weight and we instead minimize the weighted sum of squared residuals:\n",
    "\n",
    "$\\min_\\beta\\displaystyle\\sum_{i=1}^{n}w_i\\cdot(y_i-X_i\\beta)^2$"
   ]
  },
  {
   "cell_type": "markdown",
   "id": "374a04b6",
   "metadata": {},
   "source": [
    "In OLS, each residual is treated equally. In WLS, the model penalizes errors more or less based on the associated weight:\n",
    "- High weight → Model must explain that observation well.\n",
    "- Low weight → Model is “allowed” to fit it poorly.\n",
    "\n",
    "Advantages: More robust to heteroscedasticity than OLS. Produces more efficient estimates when heteroscedasticity is present.\n",
    "\n",
    "Disadvantages: Requires knowledge or estimation of the error variances. Can be more complex to implement than OLS."
   ]
  },
  {
   "cell_type": "markdown",
   "id": "e6f79813",
   "metadata": {},
   "source": [
    "## **Maximum Likelihood Estimation (MLE)**"
   ]
  },
  {
   "cell_type": "markdown",
   "id": "426adb04",
   "metadata": {},
   "source": [
    "The likelihood function is a crucial concept in statistics and machine learning, particularly in the context of parameter estimation for GLMs. It's a function that describes the probability of observing the data you have, given a specific set of parameter values for your statistical model. Let's break it down:\n",
    "\n",
    "Imagine you have a statistical model (e.g., a linear regression, a probability distribution like a normal distribution) with some unknown parameters (e.g., the slope and intercept in linear regression, the mean and standard deviation in a normal distribution). You collect some data. The likelihood function quantifies how likely it is that you would have observed your data if the model's parameters had specific values.\n",
    "\n",
    "Let's say:\n",
    "- $θ$ (theta) represents the vector of unknown parameters in your model.\n",
    "- $X$ represents your observed data.\n",
    "\n",
    "The likelihood function, denoted as $L(θ|X)$, is a function of the parameters $θ$, given the observed data $X$. It's defined as the probability (or probability density) of observing the data $X$, given the parameters $θ$:\n",
    "\n",
    "$L(\\theta|X) = P(X|\\theta)$"
   ]
  },
  {
   "cell_type": "markdown",
   "id": "52431f8d",
   "metadata": {},
   "source": [
    "Let's say you have a sample of data that you believe follows a normal distribution with an unknown mean ($μ$) and standard deviation ($σ$). Your observed data is $X = {x₁, x₂, ..., xₙ}$. The likelihood function for this scenario would be:\n",
    "\n",
    "$L(\\mu, \\sigma|X) = \\prod_{i=1}^{n} \\frac{1}{\\sigma\\sqrt{2\\pi}} \\exp\\left(-\\frac{(x_i - \\mu)^2}{2\\sigma^2}\\right)$\n",
    "\n",
    "This equation calculates the probability density of observing each data point xᵢ given the mean μ and standard deviation σ, and then multiplies these probabilities together (assuming independence of observations). The goal of maximum likelihood estimation (MLE) is to find the values of μ and σ that maximize this likelihood function.\n",
    "\n",
    "Advantages: Generally consistent, asymptotically efficient, and asymptotically normal (under certain regularity conditions). Can be applied to a wide range of models.\n",
    "\n",
    "Disadvantages: Can be computationally intensive. May not always yield a closed-form solution. Can be sensitive to the choice of starting values for iterative methods. May produce biased estimates in small samples."
   ]
  },
  {
   "cell_type": "markdown",
   "id": "84778292",
   "metadata": {},
   "source": [
    "## **Log-Likelihood Function**\n",
    "\n",
    "Because likelihood functions often involve products of probabilities, which can lead to very small numbers that cause computational issues, it's often more convenient to work with the log-likelihood function:\n",
    "\n",
    "$\\ell(\\theta|X) = \\log L(\\theta|X)$ \n",
    "\n",
    "Maximizing the log-likelihood function is equivalent to maximizing the likelihood function because the logarithm is a monotonically increasing function."
   ]
  },
  {
   "cell_type": "markdown",
   "id": "5fbef9f1",
   "metadata": {},
   "source": [
    "## **Weighted Log-Likelihoods**\n",
    "\n",
    "When using weights, we maximize a weighted log-likelihood:\n",
    "\n",
    "$\\ell_w(\\theta|X) = \\displaystyle\\sum_{i=1}^{n}w_i\\cdot\\log L(\\theta|X)$ \n",
    "\n",
    "Weights here can reflect:\n",
    "\n",
    "- Frequency weights (e.g. 1 row = 10 obs)\n",
    "- Importance weights (e.g. higher confidence in some rows)"
   ]
  },
  {
   "cell_type": "markdown",
   "id": "e6b51ac0",
   "metadata": {},
   "source": [
    "## **statsmodels.api**\n",
    "\n",
    "```python\n",
    "import statsmodels.api as sm\n",
    "\n",
    "# Weighted Linear Regression\n",
    "model = sm.WLS(y, X, weights=weights_array)\n",
    "results = model.fit()\n",
    "\n",
    "# Weighted GLM\n",
    "glm_model = sm.GLM(y, X, family=sm.families.Poisson(), weights=weights_array)\n",
    "glm_results = glm_model.fit()\n",
    "\n",
    "```"
   ]
  },
  {
   "cell_type": "markdown",
   "id": "f00156f8",
   "metadata": {},
   "source": [
    "The model accounts for weights during likelihood estimation or residual minimization, often leading to more realistic estimates when data quality or representation is uneven."
   ]
  },
  {
   "cell_type": "markdown",
   "id": "fea72396",
   "metadata": {},
   "source": [
    "## **sklearn**\n",
    "\n",
    "```python\n",
    "from sklearn.linear_model import LinearRegression\n",
    "\n",
    "model = LinearRegression()\n",
    "model.fit(X, y, sample_weight=weights_array)\n",
    "```\n",
    "\n",
    "This is available in models such as:\n",
    "- LinearRegression\n",
    "- LogisticRegression\n",
    "- Tree-based models (DecisionTreeClassifier, RandomForestRegressor, etc.)\n",
    "- SGDRegressor, GradientBoosting, etc."
   ]
  },
  {
   "cell_type": "markdown",
   "id": "606dd820",
   "metadata": {},
   "source": [
    "## **Example: Normal Distribution**\n",
    "\n",
    "Let's illustrate the application of OLS and MLE to a linear regression model predicting ice cream sales ($Y$) based on temperature ($X$). We'll keep the example relatively simple for clarity. We assume a simple linear relationship:\n",
    "\n",
    "$ Y_i = \\beta_0 + \\beta_1 X_i + \\epsilon_i $\n",
    "\n",
    "Where:\n",
    "\n",
    "- $Yᵢ$ is the ice cream sales on day i.\n",
    "- $Xᵢ$ is the temperature on day i.\n",
    "- $β₀$ is the y-intercept (sales when temperature is 0).\n",
    "- $β₁$ is the slope (change in sales per unit change in temperature).\n",
    "- $εᵢ$ is the error term (random variation not explained by temperature).\n",
    "\n",
    "### **Ordinary Least Squares (OLS)**\n",
    "\n",
    "OLS aims to find the values of $β₀$ and $β₁$ that minimize the sum of squared errors:\n",
    "\n",
    "$\\displaystyle\\sum_{i=1}^{n} \\epsilon_i^2 = \\displaystyle\\sum_{i=1}^{n} (Y_i - (\\beta_0 + \\beta_1 X_i))^2$ \n",
    "\n",
    "This is done using linear algebra; the solution involves calculating the means and variances of X and Y, and their covariance. The formulas for the OLS estimators are:\n",
    "\n",
    "$\\hat{\\beta}_1 = \\frac{\\sum_{i=1}^n (X_i - \\bar{X})(Y_i - \\bar{Y})}{\\sum_{i=1}^n (X_i - \\bar{X})^2} $\n",
    "\n",
    "$\\hat{\\beta}_0 = \\bar{Y} - \\hat{\\beta}_1 \\bar{X}$ \n",
    "\n",
    "Where:\n",
    "\n",
    "$\\hat{\\beta}_0$ and $\\hat{\\beta}_1$ are the OLS estimates of the intercept and slope.\n",
    "$\\bar{X}$ and $\\bar{Y}$ are the sample means of X and Y.\n",
    "\n",
    "### **Maximum Likelihood Estimation (MLE)**\n",
    "\n",
    "To use MLE, we need to make an assumption about the distribution of the error term, $εᵢ$. A common assumption is that the errors are normally distributed with a mean of 0 and a constant variance ($σ²$):\n",
    "\n",
    "$\\epsilon_i \\sim N(0, \\sigma^2) $\n",
    "\n",
    "This implies that $Yᵢ$ is also normally distributed:\n",
    "\n",
    "$Y_i \\sim N(\\beta_0 + \\beta_1 X_i, \\sigma^2)$ \n",
    "\n",
    "The likelihood function is the product of the probability density functions of each Yᵢ:\n",
    "\n",
    "$L(\\beta_0, \\beta_1, \\sigma^2 | X, Y) = \\prod_{i=1}^n \\frac{1}{\\sqrt{2\\pi\\sigma^2}} \\exp\\left(-\\frac{(Y_i - (\\beta_0 + \\beta_1 X_i))^2}{2\\sigma^2}\\right) $\n",
    "\n",
    "To maximize this likelihood function, we typically work with the log-likelihood function (for computational ease):\n",
    "\n",
    "$\\ell(\\beta_0, \\beta_1, \\sigma^2 | X, Y) = \\log L(\\beta_0, \\beta_1, \\sigma^2 | X, Y) = -\\frac{n}{2} \\log(2\\pi) - n \\log(\\sigma) - \\frac{1}{2\\sigma^2} \\sum_{i=1}^n (Y_i - (\\beta_0 + \\beta_1 X_i))^2 $\n",
    "\n",
    "Maximizing this log-likelihood function with respect to β₀, β₁, and σ² will lead to the MLE estimates. It turns out that, under the assumption of normally distributed errors, the MLE estimates for β₀ and β₁ are identical to the OLS estimates. The MLE estimate for σ² is slightly different from the OLS estimate of the variance of the residuals.\n",
    "\n",
    "For this linear regression example with normally distributed errors, OLS and MLE yield the same estimates for the regression coefficients (β₀ and β₁). The difference lies primarily in the underlying assumptions and the approach to estimation (minimizing squared errors vs. maximizing likelihood). The choice between them might become more relevant if the error distribution were not normal, or if you were working with a more complex model."
   ]
  },
  {
   "cell_type": "markdown",
   "id": "1e9b5d09",
   "metadata": {},
   "source": [
    "## **Example: Y is Skewed**\n",
    "\n",
    "If we knew that the ice cream sales (Y) had a skewed distribution, the simple linear regression model with the assumption of normally distributed errors would be inappropriate. Here's how the example would change:\n",
    "\n",
    "1. OLS is no longer optimal:\n",
    "\n",
    "    The OLS method relies on the assumption of normally distributed errors. If Y is skewed, the errors will likely also be skewed, violating this assumption. Consequently, OLS estimates might be inefficient (not the best possible estimates) and potentially biased. The standard errors of the OLS estimates would also be unreliable.\n",
    "\n",
    "2. MLE with a different error distribution:\n",
    "\n",
    "    To use MLE appropriately, we'd need to choose a different error distribution that better reflects the skewed nature of Y. Several options exist, depending on the type of skewness:\n",
    "    - Gamma distribution: If Y is strictly positive and right-skewed (a common scenario for sales data), the gamma distribution is a suitable candidate. The likelihood function would then be based on the gamma probability density function.\n",
    "    - Log-normal distribution: If the logarithm of Y is approximately normally distributed, a log-normal distribution would be appropriate. You would model log(Y) instead of Y directly.\n",
    "    - Other skewed distributions: Other distributions like Weibull, or even transformations of the normal distribution (e.g., using a Box-Cox transformation), could be considered depending on the specific shape of the skewness.\n",
    "\n",
    "3. Modified Likelihood Function:\n",
    "\n",
    "    The likelihood function would change to reflect the chosen distribution. For example, if we used the gamma distribution, the likelihood function would be the product of gamma probability density functions for each Yᵢ, with parameters that depend on β₀, β₁, and the shape and scale parameters of the gamma distribution. Maximizing this likelihood function would provide MLE estimates for the regression coefficients and the gamma distribution parameters.\n",
    "\n",
    "4. Interpretation of Coefficients:\n",
    "\n",
    "    The interpretation of the regression coefficients (β₀ and β₁) would remain largely the same, but their values would likely differ from the OLS estimates."
   ]
  },
  {
   "cell_type": "markdown",
   "id": "811c17b0",
   "metadata": {},
   "source": [
    "## **Example: X is Skewed**\n",
    "\n",
    "The skewness of the predictor variable (X) doesn't directly violate the assumptions of OLS or MLE in the same way that the skewness of the response variable (Y) does. OLS and MLE don't require X to be normally distributed. \n",
    "\n",
    "As discussed previously, the skewness of Y directly violates the assumption of normally distributed errors in OLS and requires a different approach for MLE (using a distribution that accounts for the skewness). This is a more fundamental issue than the skewness of X.\n",
    "\n",
    "If both X and Y are skewed, you should address the skewness of Y first. This is because the skewness of Y directly affects the validity of the model's assumptions. Once you've chosen a suitable distribution for Y (e.g., Gamma, Log-normal), you can then consider transformations of X if a linear relationship doesn't seem appropriate based on the data and the chosen model for Y. The decision to transform X should be based on the data and the chosen model for Y. It's a modelling choice, not a direct response to a violated assumption."
   ]
  },
  {
   "cell_type": "markdown",
   "id": "332c2cc1",
   "metadata": {},
   "source": [
    "# **Extra Reading**\n",
    "\n",
    "https://medium.com/data-science/how-to-find-the-best-theoretical-distribution-for-your-data-a26e5673b4bd\n",
    "\n",
    "https://medium.com/@sahin.samia/a-comprehensive-introduction-to-generalized-linear-models-fd773d460c1d\n",
    "\n",
    "https://abhic159.medium.com/generalized-linear-models-glms-7b6e6c475d82\n",
    "\n",
    "https://towardsdatascience.com/an-introduction-to-the-generalized-linear-model-glm-e32602ce6a92/\n",
    "\n",
    "https://python.plainenglish.io/an-overview-of-generalized-linear-models-98db0c730e65"
   ]
  }
 ],
 "metadata": {
  "kernelspec": {
   "display_name": "src-py3.13",
   "language": "python",
   "name": "python3"
  },
  "language_info": {
   "codemirror_mode": {
    "name": "ipython",
    "version": 3
   },
   "file_extension": ".py",
   "mimetype": "text/x-python",
   "name": "python",
   "nbconvert_exporter": "python",
   "pygments_lexer": "ipython3",
   "version": "3.13.0"
  }
 },
 "nbformat": 4,
 "nbformat_minor": 5
}
