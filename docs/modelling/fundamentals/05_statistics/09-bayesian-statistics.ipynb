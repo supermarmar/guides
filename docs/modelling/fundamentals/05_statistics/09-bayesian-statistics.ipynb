{
 "cells": [
  {
   "cell_type": "markdown",
   "id": "fbd8f61d",
   "metadata": {},
   "source": [
    "# **Bayesian Statistics**\n",
    "\n",
    "Bayesian statistics is a branch of statistics that uses Bayes' theorem to update the probability of a hypothesis as more evidence or information becomes available. Unlike frequentist statistics, which focuses on the frequency of events in the long run, Bayesian statistics incorporates prior beliefs about the hypothesis and updates these beliefs based on observed data. This makes it particularly useful in situations with limited data or where prior knowledge is valuable."
   ]
  },
  {
   "cell_type": "markdown",
   "id": "f9cf0ffe",
   "metadata": {},
   "source": [
    "## **Bayes' Theorem**"
   ]
  },
  {
   "cell_type": "markdown",
   "id": "ef64a78c",
   "metadata": {},
   "source": [
    "If two events are independent, then the occurrence of one event does not affect the probability of the other event. If two events are dependent, then when one event occurs, the probability of the other event occurring changes in a predictable way.\n",
    "\n",
    "Suppose you are a doctor and you need to test if a patient has a certain rare disease. The test is very accurate: it’s correct 99% of the time. The disease is very rare: only 1 in 100,000 patients have it:\n",
    "- The patient had the disease, and the test correctly diagnosed the disease ≈ 0.00001\n",
    "- The patient didn’t have the disease and the test incorrectly diagnosed that they had the disease ≈ 0.01\n",
    "Both events are rare, but we can see that it was about 1,000 times more likely that the test was incorrect than that the patient had this rare disease.\n",
    "\n",
    "We’re able to come to this conclusion because we had more information than just the accuracy of the test; we also knew the prevalence of this disease. \n",
    "\n",
    "In statistics, if we have two events (A and B), we write the probability that event A will happen, given that event B already happened as $P(A|B)$. In our example, we want to find $P$(rare disease | positive result). In other words, we want to find the probability that the patient has the disease given the test came back positive."
   ]
  },
  {
   "cell_type": "markdown",
   "id": "127fad76",
   "metadata": {},
   "source": [
    "Bayes’ Theorem is the basis of a branch of statistics called Bayesian Statistics, where we take prior knowledge into account before calculating new probabilities.\n",
    "\n",
    "$P(A|B) = \\Large\\frac{P(B|A)P(A)}{P(B)}$"
   ]
  }
 ],
 "metadata": {
  "language_info": {
   "name": "python"
  }
 },
 "nbformat": 4,
 "nbformat_minor": 5
}
