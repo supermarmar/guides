{
 "cells": [
  {
   "cell_type": "markdown",
   "metadata": {},
   "source": [
    "# **DML (Manipulation)** 🔠"
   ]
  },
  {
   "cell_type": "code",
   "execution_count": null,
   "metadata": {},
   "outputs": [],
   "source": [
    "import os\n",
    "\n",
    "import duckdb as dd\n",
    "\n",
    "from src.config import DATABASE_DIR"
   ]
  },
  {
   "cell_type": "code",
   "execution_count": null,
   "metadata": {},
   "outputs": [],
   "source": [
    "# Create a persistent DuckDB database\n",
    "os.chdir(DATABASE_DIR)\n",
    "con = dd.connect(\"duckdb_test.db\")"
   ]
  },
  {
   "cell_type": "code",
   "execution_count": null,
   "metadata": {},
   "outputs": [],
   "source": [
    "# con.close()"
   ]
  },
  {
   "cell_type": "markdown",
   "metadata": {},
   "source": [
    "## **Inserting Rows**\n"
   ]
  },
  {
   "cell_type": "code",
   "execution_count": null,
   "metadata": {},
   "outputs": [
    {
     "name": "stdout",
     "output_type": "stream",
     "text": [
      "Query executed successfully\n"
     ]
    }
   ],
   "source": [
    "query = \"\"\"\n",
    "    INSERT INTO users\n",
    "    VALUES (999, 'Charlie Bobby', 45, 'charchar@gmail.com', '2021-01-01 00:00:00'),\n",
    "    (1000, 'Alice Smith', 35, 'aliceinworderland@gmail.com', '2021-01-01 00:00:00');\n",
    "\"\"\"\n",
    "con.execute(query)"
   ]
  },
  {
   "cell_type": "code",
   "execution_count": 17,
   "metadata": {},
   "outputs": [
    {
     "data": {
      "text/plain": [
       "<duckdb.duckdb.DuckDBPyConnection at 0x28c0bf7eab0>"
      ]
     },
     "execution_count": 17,
     "metadata": {},
     "output_type": "execute_result"
    }
   ],
   "source": [
    "query = \"\"\"\n",
    "    INSERT INTO users(id, name, age, email, created_at)\n",
    "    VALUES (999, 'Charlie Bobby', 45, 'charchar@gmail.com', '2021-01-01 00:00:00'),\n",
    "    (1000, 'Alice Smith', 35, 'aliceinworderland@gmail.com', '2021-01-01 00:00:00');\n",
    "\"\"\"\n",
    "con.execute(query)"
   ]
  },
  {
   "cell_type": "markdown",
   "metadata": {},
   "source": [
    "### **Subquery: Inserting from another table**"
   ]
  },
  {
   "cell_type": "code",
   "execution_count": null,
   "metadata": {},
   "outputs": [],
   "source": [
    "query = \"\"\"\n",
    "    INSERT INTO users (id, name, email)\n",
    "    \n",
    "    SELECT id, name, email\n",
    "    FROM archived_users\n",
    "    WHERE id NOT IN (\n",
    "        SELECT id\n",
    "        FROM users\n",
    "    );\n",
    "\"\"\""
   ]
  },
  {
   "cell_type": "markdown",
   "metadata": {},
   "source": [
    "### **Subquery: Inserting from a dataframe**"
   ]
  },
  {
   "cell_type": "code",
   "execution_count": 18,
   "metadata": {},
   "outputs": [],
   "source": [
    "query = \"\"\"\n",
    "    INSERT INTO users FROM dummy_df;\n",
    "\"\"\""
   ]
  },
  {
   "cell_type": "markdown",
   "metadata": {},
   "source": [
    "### **Subquery: Inserting from a file**"
   ]
  },
  {
   "cell_type": "code",
   "execution_count": null,
   "metadata": {},
   "outputs": [],
   "source": [
    "file_path = \"C:Users/Documents\"\n",
    "\n",
    "query = f\"\"\"\n",
    "    INSERT INTO users FROM \"{file_path}/users.parquet\";\n",
    "\"\"\""
   ]
  },
  {
   "cell_type": "markdown",
   "metadata": {},
   "source": [
    "## **Deleting Rows**\n",
    "\n",
    "The DELETE statement is used to delete records (rows) in a table. The WHERE clause specifies which record or records that should be deleted. If the WHERE clause is omitted, all records will be deleted."
   ]
  },
  {
   "cell_type": "code",
   "execution_count": 21,
   "metadata": {},
   "outputs": [
    {
     "data": {
      "text/plain": [
       "<duckdb.duckdb.DuckDBPyConnection at 0x28c0bf7eab0>"
      ]
     },
     "execution_count": 21,
     "metadata": {},
     "output_type": "execute_result"
    }
   ],
   "source": [
    "# Insert into columns in order:\n",
    "query = \"\"\"\n",
    "    DELETE FROM users\n",
    "    WHERE name = 'Charlie Bobby';\n",
    "\"\"\"\n",
    "con.execute(query)"
   ]
  },
  {
   "cell_type": "markdown",
   "metadata": {},
   "source": [
    "### **Subquery: Deleting from another table**"
   ]
  },
  {
   "cell_type": "code",
   "execution_count": null,
   "metadata": {},
   "outputs": [],
   "source": [
    "query = \"\"\"\n",
    "    DELETE FROM users\n",
    "    WHERE id IN (\n",
    "        SELECT id\n",
    "        FROM users\n",
    "        LEFT JOIN activity_log\n",
    "        ON users.id = activity_log.user_id\n",
    "        WHERE last_active < DATE('now', '-6 months') OR last_active IS NULL\n",
    "    );\n",
    "\"\"\""
   ]
  },
  {
   "cell_type": "markdown",
   "metadata": {},
   "source": [
    "## **Updating Rows**\n",
    "\n",
    "The UPDATE statement is used to edit records (rows) in a table. It includes a SET clause that indicates the column to edit and a WHERE clause for specifying the record(s)."
   ]
  },
  {
   "cell_type": "code",
   "execution_count": 23,
   "metadata": {},
   "outputs": [
    {
     "data": {
      "text/plain": [
       "<duckdb.duckdb.DuckDBPyConnection at 0x28c0bf7eab0>"
      ]
     },
     "execution_count": 23,
     "metadata": {},
     "output_type": "execute_result"
    }
   ],
   "source": [
    "# Insert into columns in order:\n",
    "query = \"\"\"\n",
    "    UPDATE users\n",
    "    SET name = 'Bob Charlie'\n",
    "    WHERE name = 'Charlie Bobby';\n",
    "\"\"\"\n",
    "con.execute(query)"
   ]
  },
  {
   "cell_type": "markdown",
   "metadata": {},
   "source": [
    "### **Subquery: Updating with conditional logic**"
   ]
  },
  {
   "cell_type": "code",
   "execution_count": null,
   "metadata": {},
   "outputs": [],
   "source": [
    "query = \"\"\"\n",
    "    UPDATE employees\n",
    "    SET salary = salary * 1.1\n",
    "    WHERE id IN (\n",
    "        SELECT employee_id\n",
    "        FROM performance\n",
    "        WHERE rating = 5\n",
    "    );\n",
    "\"\"\""
   ]
  },
  {
   "cell_type": "markdown",
   "metadata": {},
   "source": [
    "### **Subquery: Updating from another table**\n",
    "\n",
    "Without the second WHERE clause, the UPDATE statement will attempt to update every row in the users table. For rows in users that do not have a corresponding match in the promotions table, the subquery will return NULL."
   ]
  },
  {
   "cell_type": "code",
   "execution_count": null,
   "metadata": {},
   "outputs": [],
   "source": [
    "query = \"\"\"\n",
    "    UPDATE users\n",
    "    SET discount = (\n",
    "        SELECT discount\n",
    "        FROM promotions\n",
    "        WHERE promotions.user_id = users.id\n",
    "    )\n",
    "    WHERE id IN (\n",
    "        SELECT user_id\n",
    "        FROM promotions\n",
    "    );\n",
    "\"\"\""
   ]
  }
 ],
 "metadata": {
  "kernelspec": {
   "display_name": "Python 3",
   "language": "python",
   "name": "python3"
  },
  "language_info": {
   "codemirror_mode": {
    "name": "ipython",
    "version": 3
   },
   "file_extension": ".py",
   "mimetype": "text/x-python",
   "name": "python",
   "nbconvert_exporter": "python",
   "pygments_lexer": "ipython3",
   "version": "3.13.0"
  }
 },
 "nbformat": 4,
 "nbformat_minor": 2
}
