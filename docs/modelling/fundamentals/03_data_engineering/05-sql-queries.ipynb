{
 "cells": [
  {
   "cell_type": "markdown",
   "metadata": {},
   "source": [
    "# **DQL (Queries)** ❓\n",
    "\n",
    "DQL (Data Query Language) is a subset of SQL (Structured Query Language) used to retrieve and query data from a database. It allows you to perform operations such as filtering, sorting, and grouping data but does not modify the data itself (e.g., no updates or deletions). The primary and most common command in DQL is the SELECT statement."
   ]
  },
  {
   "cell_type": "code",
   "execution_count": 3,
   "metadata": {},
   "outputs": [],
   "source": [
    "import os\n",
    "\n",
    "import duckdb as dd\n",
    "\n",
    "from src.config import DATABASE_DIR"
   ]
  },
  {
   "cell_type": "code",
   "execution_count": 4,
   "metadata": {},
   "outputs": [],
   "source": [
    "# Create a persistent DuckDB database\n",
    "os.chdir(DATABASE_DIR)\n",
    "con = dd.connect(\"duckdb_test.db\")"
   ]
  },
  {
   "cell_type": "code",
   "execution_count": 10,
   "metadata": {},
   "outputs": [],
   "source": [
    "con.close()"
   ]
  },
  {
   "cell_type": "markdown",
   "metadata": {},
   "source": [
    "## **Information Schema**\n",
    "\n",
    "As part of an international SQL standard, the information schema is a database containing meta information about objects in the database including tables, columns and constraints. This schema provides users with read-only views of many topics of interest.\n",
    "For example, to determine if a column has been designated correctly as a primary key, we can query a special view, key_column_usage, generated from this database. This view identifies all columns in the current database that are restricted by some constraint such as primary key or foreign key.\n",
    "\n",
    "The view columns contain information about all table columns (or view columns) in the database. The view tables contain all tables and views defined in the current database. The view views contain all views defined in the current database."
   ]
  },
  {
   "cell_type": "code",
   "execution_count": 5,
   "metadata": {},
   "outputs": [
    {
     "data": {
      "text/plain": [
       "┌───────────────┬──────────────┬────────────┬────────────┬──────────────────────────────┬──────────────────────┬───────────────────────────┬──────────────────────────┬────────────────────────┬────────────────────┬──────────┬───────────────┬───────────────┐\n",
       "│ table_catalog │ table_schema │ table_name │ table_type │ self_referencing_column_name │ reference_generation │ user_defined_type_catalog │ user_defined_type_schema │ user_defined_type_name │ is_insertable_into │ is_typed │ commit_action │ TABLE_COMMENT │\n",
       "│    varchar    │   varchar    │  varchar   │  varchar   │           varchar            │       varchar        │          varchar          │         varchar          │        varchar         │      varchar       │ varchar  │    varchar    │    varchar    │\n",
       "├───────────────┼──────────────┼────────────┼────────────┼──────────────────────────────┼──────────────────────┼───────────────────────────┼──────────────────────────┼────────────────────────┼────────────────────┼──────────┼───────────────┼───────────────┤\n",
       "│ duckdb_test   │ main         │ reporting  │ BASE TABLE │ NULL                         │ NULL                 │ NULL                      │ NULL                     │ NULL                   │ YES                │ NO       │ NULL          │ NULL          │\n",
       "│ duckdb_test   │ main         │ storage    │ BASE TABLE │ NULL                         │ NULL                 │ NULL                      │ NULL                     │ NULL                   │ YES                │ NO       │ NULL          │ NULL          │\n",
       "│ duckdb_test   │ main         │ users      │ BASE TABLE │ NULL                         │ NULL                 │ NULL                      │ NULL                     │ NULL                   │ YES                │ NO       │ NULL          │ NULL          │\n",
       "└───────────────┴──────────────┴────────────┴────────────┴──────────────────────────────┴──────────────────────┴───────────────────────────┴──────────────────────────┴────────────────────────┴────────────────────┴──────────┴───────────────┴───────────────┘"
      ]
     },
     "execution_count": 5,
     "metadata": {},
     "output_type": "execute_result"
    }
   ],
   "source": [
    "query = \"\"\"\n",
    "    SELECT *\n",
    "    FROM information_schema.tables\n",
    "\"\"\"\n",
    "con.sql(query)"
   ]
  },
  {
   "cell_type": "code",
   "execution_count": 6,
   "metadata": {},
   "outputs": [
    {
     "data": {
      "text/plain": [
       "┌─────────────────┬────────────┬─────────────┐\n",
       "│ constraint_name │ table_name │ column_name │\n",
       "│     varchar     │  varchar   │   varchar   │\n",
       "├─────────────────┼────────────┼─────────────┤\n",
       "│ users_id_pkey   │ users      │ id          │\n",
       "│ users_email_key │ users      │ email       │\n",
       "└─────────────────┴────────────┴─────────────┘"
      ]
     },
     "execution_count": 6,
     "metadata": {},
     "output_type": "execute_result"
    }
   ],
   "source": [
    "query = \"\"\"\n",
    "    SELECT constraint_name, table_name, column_name\n",
    "    FROM information_schema.key_column_usage\n",
    "    WHERE table_name = 'users';\n",
    "\"\"\"\n",
    "con.sql(query)"
   ]
  },
  {
   "cell_type": "code",
   "execution_count": 7,
   "metadata": {},
   "outputs": [
    {
     "data": {
      "text/plain": [
       "┌─────────────┬───────────┬──────────────────┬───────────────────┬─────────────┬──────────────────────────┐\n",
       "│ column_name │ data_type │ ordinal_position │  column_default   │ is_nullable │ character_maximum_length │\n",
       "│   varchar   │  varchar  │      int32       │      varchar      │   varchar   │          int32           │\n",
       "├─────────────┼───────────┼──────────────────┼───────────────────┼─────────────┼──────────────────────────┤\n",
       "│ id          │ INTEGER   │                1 │ NULL              │ NO          │                     NULL │\n",
       "│ name        │ VARCHAR   │                2 │ NULL              │ NO          │                     NULL │\n",
       "│ age         │ INTEGER   │                3 │ NULL              │ YES         │                     NULL │\n",
       "│ created_at  │ TIMESTAMP │                4 │ CURRENT_TIMESTAMP │ YES         │                     NULL │\n",
       "│ email       │ VARCHAR   │                5 │ NULL              │ YES         │                     NULL │\n",
       "└─────────────┴───────────┴──────────────────┴───────────────────┴─────────────┴──────────────────────────┘"
      ]
     },
     "execution_count": 7,
     "metadata": {},
     "output_type": "execute_result"
    }
   ],
   "source": [
    "query = \"\"\"\n",
    "    SELECT column_name, data_type, ordinal_position, column_default, is_nullable,  character_maximum_length\n",
    "    FROM information_schema.columns\n",
    "    WHERE table_name = 'users';\n",
    "\"\"\"\n",
    "con.sql(query)"
   ]
  },
  {
   "cell_type": "markdown",
   "metadata": {},
   "source": [
    "## **Selecting Columns**\n",
    "\n",
    "The SELECT clause specifies the columns or expressions you want to retrieve from a table. You can specify specific columns or use * to select all columns. Columns or tables can be aliased using the AS clause. This allows columns or tables to be specifically renamed in the returned result set.\n"
   ]
  },
  {
   "cell_type": "markdown",
   "metadata": {},
   "source": [
    "## **Distinct Values** "
   ]
  },
  {
   "cell_type": "code",
   "execution_count": 8,
   "metadata": {},
   "outputs": [
    {
     "data": {
      "application/vnd.microsoft.datawrangler.viewer.v0+json": {
       "columns": [
        {
         "name": "index",
         "rawType": "int64",
         "type": "integer"
        },
        {
         "name": "age",
         "rawType": "int32",
         "type": "integer"
        }
       ],
       "ref": "8418ebfc-51d6-4e16-9579-cbdb0b7f307c",
       "rows": [
        [
         "0",
         "19"
        ],
        [
         "1",
         "45"
        ],
        [
         "2",
         "35"
        ],
        [
         "3",
         "74"
        ],
        [
         "4",
         "37"
        ]
       ],
       "shape": {
        "columns": 1,
        "rows": 5
       }
      },
      "text/html": [
       "<div>\n",
       "<style scoped>\n",
       "    .dataframe tbody tr th:only-of-type {\n",
       "        vertical-align: middle;\n",
       "    }\n",
       "\n",
       "    .dataframe tbody tr th {\n",
       "        vertical-align: top;\n",
       "    }\n",
       "\n",
       "    .dataframe thead th {\n",
       "        text-align: right;\n",
       "    }\n",
       "</style>\n",
       "<table border=\"1\" class=\"dataframe\">\n",
       "  <thead>\n",
       "    <tr style=\"text-align: right;\">\n",
       "      <th></th>\n",
       "      <th>age</th>\n",
       "    </tr>\n",
       "  </thead>\n",
       "  <tbody>\n",
       "    <tr>\n",
       "      <th>0</th>\n",
       "      <td>19</td>\n",
       "    </tr>\n",
       "    <tr>\n",
       "      <th>1</th>\n",
       "      <td>45</td>\n",
       "    </tr>\n",
       "    <tr>\n",
       "      <th>2</th>\n",
       "      <td>35</td>\n",
       "    </tr>\n",
       "    <tr>\n",
       "      <th>3</th>\n",
       "      <td>74</td>\n",
       "    </tr>\n",
       "    <tr>\n",
       "      <th>4</th>\n",
       "      <td>37</td>\n",
       "    </tr>\n",
       "  </tbody>\n",
       "</table>\n",
       "</div>"
      ],
      "text/plain": [
       "   age\n",
       "0   19\n",
       "1   45\n",
       "2   35\n",
       "3   74\n",
       "4   37"
      ]
     },
     "execution_count": 8,
     "metadata": {},
     "output_type": "execute_result"
    }
   ],
   "source": [
    "query = \"\"\"\n",
    "    SELECT DISTINCT age\n",
    "    FROM users;\n",
    "\"\"\"\n",
    "con.sql(query).df().head()"
   ]
  },
  {
   "cell_type": "markdown",
   "metadata": {},
   "source": [
    "## **Limiting Values** "
   ]
  },
  {
   "cell_type": "code",
   "execution_count": 9,
   "metadata": {},
   "outputs": [
    {
     "data": {
      "application/vnd.microsoft.datawrangler.viewer.v0+json": {
       "columns": [
        {
         "name": "index",
         "rawType": "int64",
         "type": "integer"
        },
        {
         "name": "name",
         "rawType": "object",
         "type": "string"
        }
       ],
       "ref": "4ae2c549-fdcc-45b0-8713-96b7c4d54376",
       "rows": [
        [
         "0",
         "Jeffrey Thomas"
        ],
        [
         "1",
         "Heather Brown"
        ],
        [
         "2",
         "Sarah Baldwin"
        ]
       ],
       "shape": {
        "columns": 1,
        "rows": 3
       }
      },
      "text/html": [
       "<div>\n",
       "<style scoped>\n",
       "    .dataframe tbody tr th:only-of-type {\n",
       "        vertical-align: middle;\n",
       "    }\n",
       "\n",
       "    .dataframe tbody tr th {\n",
       "        vertical-align: top;\n",
       "    }\n",
       "\n",
       "    .dataframe thead th {\n",
       "        text-align: right;\n",
       "    }\n",
       "</style>\n",
       "<table border=\"1\" class=\"dataframe\">\n",
       "  <thead>\n",
       "    <tr style=\"text-align: right;\">\n",
       "      <th></th>\n",
       "      <th>name</th>\n",
       "    </tr>\n",
       "  </thead>\n",
       "  <tbody>\n",
       "    <tr>\n",
       "      <th>0</th>\n",
       "      <td>Jeffrey Thomas</td>\n",
       "    </tr>\n",
       "    <tr>\n",
       "      <th>1</th>\n",
       "      <td>Heather Brown</td>\n",
       "    </tr>\n",
       "    <tr>\n",
       "      <th>2</th>\n",
       "      <td>Sarah Baldwin</td>\n",
       "    </tr>\n",
       "  </tbody>\n",
       "</table>\n",
       "</div>"
      ],
      "text/plain": [
       "             name\n",
       "0  Jeffrey Thomas\n",
       "1   Heather Brown\n",
       "2   Sarah Baldwin"
      ]
     },
     "execution_count": 9,
     "metadata": {},
     "output_type": "execute_result"
    }
   ],
   "source": [
    "query = \"\"\"\n",
    "    SELECT name\n",
    "    FROM users\n",
    "    LIMIT 3;\n",
    "\"\"\"\n",
    "con.sql(query).df()"
   ]
  },
  {
   "cell_type": "markdown",
   "metadata": {},
   "source": [
    "## **Column Aliases** "
   ]
  },
  {
   "cell_type": "code",
   "execution_count": 12,
   "metadata": {},
   "outputs": [
    {
     "data": {
      "application/vnd.microsoft.datawrangler.viewer.v0+json": {
       "columns": [
        {
         "name": "index",
         "rawType": "int64",
         "type": "integer"
        },
        {
         "name": "Name",
         "rawType": "object",
         "type": "string"
        },
        {
         "name": "Age",
         "rawType": "int32",
         "type": "integer"
        },
        {
         "name": "Registration Date",
         "rawType": "datetime64[us]",
         "type": "unknown"
        }
       ],
       "ref": "c9a01a53-7816-415e-abd5-8aa76aca839f",
       "rows": [
        [
         "0",
         "Jeffrey Thomas",
         "19",
         "2024-05-05 15:02:40"
        ],
        [
         "1",
         "Heather Brown",
         "25",
         "2022-03-20 00:15:17"
        ],
        [
         "2",
         "Sarah Baldwin",
         "45",
         "2022-03-27 19:31:44"
        ],
        [
         "3",
         "Stephanie Russell",
         "37",
         "2021-06-28 18:09:47"
        ],
        [
         "4",
         "Michael Farmer",
         "61",
         "2023-05-27 01:58:12"
        ]
       ],
       "shape": {
        "columns": 3,
        "rows": 5
       }
      },
      "text/html": [
       "<div>\n",
       "<style scoped>\n",
       "    .dataframe tbody tr th:only-of-type {\n",
       "        vertical-align: middle;\n",
       "    }\n",
       "\n",
       "    .dataframe tbody tr th {\n",
       "        vertical-align: top;\n",
       "    }\n",
       "\n",
       "    .dataframe thead th {\n",
       "        text-align: right;\n",
       "    }\n",
       "</style>\n",
       "<table border=\"1\" class=\"dataframe\">\n",
       "  <thead>\n",
       "    <tr style=\"text-align: right;\">\n",
       "      <th></th>\n",
       "      <th>Name</th>\n",
       "      <th>Age</th>\n",
       "      <th>Registration Date</th>\n",
       "    </tr>\n",
       "  </thead>\n",
       "  <tbody>\n",
       "    <tr>\n",
       "      <th>0</th>\n",
       "      <td>Jeffrey Thomas</td>\n",
       "      <td>19</td>\n",
       "      <td>2024-05-05 15:02:40</td>\n",
       "    </tr>\n",
       "    <tr>\n",
       "      <th>1</th>\n",
       "      <td>Heather Brown</td>\n",
       "      <td>25</td>\n",
       "      <td>2022-03-20 00:15:17</td>\n",
       "    </tr>\n",
       "    <tr>\n",
       "      <th>2</th>\n",
       "      <td>Sarah Baldwin</td>\n",
       "      <td>45</td>\n",
       "      <td>2022-03-27 19:31:44</td>\n",
       "    </tr>\n",
       "    <tr>\n",
       "      <th>3</th>\n",
       "      <td>Stephanie Russell</td>\n",
       "      <td>37</td>\n",
       "      <td>2021-06-28 18:09:47</td>\n",
       "    </tr>\n",
       "    <tr>\n",
       "      <th>4</th>\n",
       "      <td>Michael Farmer</td>\n",
       "      <td>61</td>\n",
       "      <td>2023-05-27 01:58:12</td>\n",
       "    </tr>\n",
       "  </tbody>\n",
       "</table>\n",
       "</div>"
      ],
      "text/plain": [
       "                Name  Age   Registration Date\n",
       "0     Jeffrey Thomas   19 2024-05-05 15:02:40\n",
       "1      Heather Brown   25 2022-03-20 00:15:17\n",
       "2      Sarah Baldwin   45 2022-03-27 19:31:44\n",
       "3  Stephanie Russell   37 2021-06-28 18:09:47\n",
       "4     Michael Farmer   61 2023-05-27 01:58:12"
      ]
     },
     "execution_count": 12,
     "metadata": {},
     "output_type": "execute_result"
    }
   ],
   "source": [
    "query = \"\"\"\n",
    "    SELECT name AS \"Name\", age AS \"Age\", created_at AS \"Registration Date\" \n",
    "    FROM users;\n",
    "\"\"\"\n",
    "con.sql(query).df().head()"
   ]
  },
  {
   "cell_type": "markdown",
   "metadata": {},
   "source": [
    "## **Type Casting** \n",
    "\n",
    "The `CAST` function is used to convert the value of an expression into another data type."
   ]
  },
  {
   "cell_type": "code",
   "execution_count": 13,
   "metadata": {},
   "outputs": [
    {
     "data": {
      "application/vnd.microsoft.datawrangler.viewer.v0+json": {
       "columns": [
        {
         "name": "index",
         "rawType": "int64",
         "type": "integer"
        },
        {
         "name": "age_float",
         "rawType": "float32",
         "type": "float"
        },
        {
         "name": "registration_date",
         "rawType": "datetime64[us]",
         "type": "unknown"
        }
       ],
       "ref": "ba93b915-9f0b-414e-b229-323deea72e69",
       "rows": [
        [
         "0",
         "19.0",
         "2024-05-05 00:00:00"
        ],
        [
         "1",
         "25.0",
         "2022-03-20 00:00:00"
        ],
        [
         "2",
         "45.0",
         "2022-03-27 00:00:00"
        ],
        [
         "3",
         "37.0",
         "2021-06-28 00:00:00"
        ],
        [
         "4",
         "61.0",
         "2023-05-27 00:00:00"
        ]
       ],
       "shape": {
        "columns": 2,
        "rows": 5
       }
      },
      "text/html": [
       "<div>\n",
       "<style scoped>\n",
       "    .dataframe tbody tr th:only-of-type {\n",
       "        vertical-align: middle;\n",
       "    }\n",
       "\n",
       "    .dataframe tbody tr th {\n",
       "        vertical-align: top;\n",
       "    }\n",
       "\n",
       "    .dataframe thead th {\n",
       "        text-align: right;\n",
       "    }\n",
       "</style>\n",
       "<table border=\"1\" class=\"dataframe\">\n",
       "  <thead>\n",
       "    <tr style=\"text-align: right;\">\n",
       "      <th></th>\n",
       "      <th>age_float</th>\n",
       "      <th>registration_date</th>\n",
       "    </tr>\n",
       "  </thead>\n",
       "  <tbody>\n",
       "    <tr>\n",
       "      <th>0</th>\n",
       "      <td>19.0</td>\n",
       "      <td>2024-05-05</td>\n",
       "    </tr>\n",
       "    <tr>\n",
       "      <th>1</th>\n",
       "      <td>25.0</td>\n",
       "      <td>2022-03-20</td>\n",
       "    </tr>\n",
       "    <tr>\n",
       "      <th>2</th>\n",
       "      <td>45.0</td>\n",
       "      <td>2022-03-27</td>\n",
       "    </tr>\n",
       "    <tr>\n",
       "      <th>3</th>\n",
       "      <td>37.0</td>\n",
       "      <td>2021-06-28</td>\n",
       "    </tr>\n",
       "    <tr>\n",
       "      <th>4</th>\n",
       "      <td>61.0</td>\n",
       "      <td>2023-05-27</td>\n",
       "    </tr>\n",
       "  </tbody>\n",
       "</table>\n",
       "</div>"
      ],
      "text/plain": [
       "   age_float registration_date\n",
       "0       19.0        2024-05-05\n",
       "1       25.0        2022-03-20\n",
       "2       45.0        2022-03-27\n",
       "3       37.0        2021-06-28\n",
       "4       61.0        2023-05-27"
      ]
     },
     "execution_count": 13,
     "metadata": {},
     "output_type": "execute_result"
    }
   ],
   "source": [
    "query = \"\"\"\n",
    "    SELECT \n",
    "        CAST(age AS FLOAT) AS age_float,\n",
    "        created_at::DATE AS registration_date\n",
    "    FROM users;\n",
    "\"\"\"\n",
    "con.sql(query).df().head()"
   ]
  },
  {
   "cell_type": "markdown",
   "metadata": {},
   "source": [
    "## **Concatenate Strings** \n",
    "\n",
    "`||` is used to concatenate strings together."
   ]
  },
  {
   "cell_type": "code",
   "execution_count": 14,
   "metadata": {},
   "outputs": [
    {
     "data": {
      "application/vnd.microsoft.datawrangler.viewer.v0+json": {
       "columns": [
        {
         "name": "index",
         "rawType": "int64",
         "type": "integer"
        },
        {
         "name": "name_age",
         "rawType": "object",
         "type": "string"
        }
       ],
       "ref": "c969b8c8-f16a-498c-896a-6b8233f529f2",
       "rows": [
        [
         "0",
         "Jeffrey Thomas 19"
        ],
        [
         "1",
         "Heather Brown 25"
        ],
        [
         "2",
         "Sarah Baldwin 45"
        ],
        [
         "3",
         "Stephanie Russell 37"
        ],
        [
         "4",
         "Michael Farmer 61"
        ]
       ],
       "shape": {
        "columns": 1,
        "rows": 5
       }
      },
      "text/html": [
       "<div>\n",
       "<style scoped>\n",
       "    .dataframe tbody tr th:only-of-type {\n",
       "        vertical-align: middle;\n",
       "    }\n",
       "\n",
       "    .dataframe tbody tr th {\n",
       "        vertical-align: top;\n",
       "    }\n",
       "\n",
       "    .dataframe thead th {\n",
       "        text-align: right;\n",
       "    }\n",
       "</style>\n",
       "<table border=\"1\" class=\"dataframe\">\n",
       "  <thead>\n",
       "    <tr style=\"text-align: right;\">\n",
       "      <th></th>\n",
       "      <th>name_age</th>\n",
       "    </tr>\n",
       "  </thead>\n",
       "  <tbody>\n",
       "    <tr>\n",
       "      <th>0</th>\n",
       "      <td>Jeffrey Thomas 19</td>\n",
       "    </tr>\n",
       "    <tr>\n",
       "      <th>1</th>\n",
       "      <td>Heather Brown 25</td>\n",
       "    </tr>\n",
       "    <tr>\n",
       "      <th>2</th>\n",
       "      <td>Sarah Baldwin 45</td>\n",
       "    </tr>\n",
       "    <tr>\n",
       "      <th>3</th>\n",
       "      <td>Stephanie Russell 37</td>\n",
       "    </tr>\n",
       "    <tr>\n",
       "      <th>4</th>\n",
       "      <td>Michael Farmer 61</td>\n",
       "    </tr>\n",
       "  </tbody>\n",
       "</table>\n",
       "</div>"
      ],
      "text/plain": [
       "               name_age\n",
       "0     Jeffrey Thomas 19\n",
       "1      Heather Brown 25\n",
       "2      Sarah Baldwin 45\n",
       "3  Stephanie Russell 37\n",
       "4     Michael Farmer 61"
      ]
     },
     "execution_count": 14,
     "metadata": {},
     "output_type": "execute_result"
    }
   ],
   "source": [
    "query = \"\"\"\n",
    "    SELECT (name || ' ' || age) AS name_age\n",
    "    FROM users;\n",
    "\"\"\"\n",
    "con.sql(query).df().head()"
   ]
  },
  {
   "cell_type": "markdown",
   "metadata": {},
   "source": [
    "## **If-Else Statements** \n",
    "\n",
    "A CASE statement allows us to create different outputs (usually in the statement). It is SQL’s way of handling if-then logic."
   ]
  },
  {
   "cell_type": "code",
   "execution_count": 15,
   "metadata": {},
   "outputs": [
    {
     "data": {
      "application/vnd.microsoft.datawrangler.viewer.v0+json": {
       "columns": [
        {
         "name": "index",
         "rawType": "int64",
         "type": "integer"
        },
        {
         "name": "name",
         "rawType": "object",
         "type": "string"
        },
        {
         "name": "age_group",
         "rawType": "object",
         "type": "string"
        }
       ],
       "ref": "f6d27fac-9e1f-46e3-879b-e3acd2b108a4",
       "rows": [
        [
         "0",
         "Jeffrey Thomas",
         "Adult"
        ],
        [
         "1",
         "Heather Brown",
         "Adult"
        ],
        [
         "2",
         "Sarah Baldwin",
         "Adult"
        ],
        [
         "3",
         "Stephanie Russell",
         "Adult"
        ],
        [
         "4",
         "Michael Farmer",
         "Adult"
        ]
       ],
       "shape": {
        "columns": 2,
        "rows": 5
       }
      },
      "text/html": [
       "<div>\n",
       "<style scoped>\n",
       "    .dataframe tbody tr th:only-of-type {\n",
       "        vertical-align: middle;\n",
       "    }\n",
       "\n",
       "    .dataframe tbody tr th {\n",
       "        vertical-align: top;\n",
       "    }\n",
       "\n",
       "    .dataframe thead th {\n",
       "        text-align: right;\n",
       "    }\n",
       "</style>\n",
       "<table border=\"1\" class=\"dataframe\">\n",
       "  <thead>\n",
       "    <tr style=\"text-align: right;\">\n",
       "      <th></th>\n",
       "      <th>name</th>\n",
       "      <th>age_group</th>\n",
       "    </tr>\n",
       "  </thead>\n",
       "  <tbody>\n",
       "    <tr>\n",
       "      <th>0</th>\n",
       "      <td>Jeffrey Thomas</td>\n",
       "      <td>Adult</td>\n",
       "    </tr>\n",
       "    <tr>\n",
       "      <th>1</th>\n",
       "      <td>Heather Brown</td>\n",
       "      <td>Adult</td>\n",
       "    </tr>\n",
       "    <tr>\n",
       "      <th>2</th>\n",
       "      <td>Sarah Baldwin</td>\n",
       "      <td>Adult</td>\n",
       "    </tr>\n",
       "    <tr>\n",
       "      <th>3</th>\n",
       "      <td>Stephanie Russell</td>\n",
       "      <td>Adult</td>\n",
       "    </tr>\n",
       "    <tr>\n",
       "      <th>4</th>\n",
       "      <td>Michael Farmer</td>\n",
       "      <td>Adult</td>\n",
       "    </tr>\n",
       "  </tbody>\n",
       "</table>\n",
       "</div>"
      ],
      "text/plain": [
       "                name age_group\n",
       "0     Jeffrey Thomas     Adult\n",
       "1      Heather Brown     Adult\n",
       "2      Sarah Baldwin     Adult\n",
       "3  Stephanie Russell     Adult\n",
       "4     Michael Farmer     Adult"
      ]
     },
     "execution_count": 15,
     "metadata": {},
     "output_type": "execute_result"
    }
   ],
   "source": [
    "query = \"\"\"\n",
    "    SELECT name,\n",
    "    CASE \n",
    "        WHEN age < 18 THEN 'Child'\n",
    "        WHEN age < 65 THEN 'Adult'\n",
    "        ELSE 'Senior'\n",
    "    END AS age_group\n",
    "    FROM users;\n",
    "\"\"\"\n",
    "con.sql(query).df().head()"
   ]
  },
  {
   "cell_type": "markdown",
   "metadata": {},
   "source": [
    "## **Date & Time** \n",
    "\n",
    "In SQL, dates are typically written in one of the following formats:\n",
    "- Date: YYYY-MM-DD\n",
    "- Datetime or Timestamp: YYYY-MM-DD hh:mm:ss"
   ]
  },
  {
   "cell_type": "markdown",
   "metadata": {},
   "source": [
    "### **Extraction**\n",
    "The DATE() function allows us to extract just the date portion of a time string, which consists of the year, month and day.\n",
    "\n",
    "For SQLite:\n",
    "- The DATETIME() function will return the entire time string which includes the date and time portions. To obtain the current date and time, you can provide the string 'now' to the function, which returns the date and time in UTC.\n",
    "- The TIME() function allows us to extract just the time portion of a time string, which consists of the hour, minute and second.\n"
   ]
  },
  {
   "cell_type": "code",
   "execution_count": 16,
   "metadata": {},
   "outputs": [
    {
     "data": {
      "application/vnd.microsoft.datawrangler.viewer.v0+json": {
       "columns": [
        {
         "name": "index",
         "rawType": "int64",
         "type": "integer"
        },
        {
         "name": "created_at",
         "rawType": "datetime64[us]",
         "type": "unknown"
        },
        {
         "name": "registration_date",
         "rawType": "datetime64[us]",
         "type": "unknown"
        },
        {
         "name": "registration_time",
         "rawType": "object",
         "type": "unknown"
        },
        {
         "name": "hour",
         "rawType": "int64",
         "type": "integer"
        },
        {
         "name": "minute",
         "rawType": "int64",
         "type": "integer"
        },
        {
         "name": "temp_date",
         "rawType": "datetime64[us]",
         "type": "unknown"
        }
       ],
       "ref": "29f62433-a535-42ad-be71-e3310bf79397",
       "rows": [
        [
         "0",
         "2024-05-05 15:02:40",
         "2024-05-05 00:00:00",
         "15:02:40",
         "15",
         "2",
         "2020-02-10 00:00:00"
        ],
        [
         "1",
         "2022-03-20 00:15:17",
         "2022-03-20 00:00:00",
         "00:15:17",
         "0",
         "15",
         "2020-02-10 00:00:00"
        ],
        [
         "2",
         "2022-03-27 19:31:44",
         "2022-03-27 00:00:00",
         "19:31:44",
         "19",
         "31",
         "2020-02-10 00:00:00"
        ],
        [
         "3",
         "2021-06-28 18:09:47",
         "2021-06-28 00:00:00",
         "18:09:47",
         "18",
         "9",
         "2020-02-10 00:00:00"
        ],
        [
         "4",
         "2023-05-27 01:58:12",
         "2023-05-27 00:00:00",
         "01:58:12",
         "1",
         "58",
         "2020-02-10 00:00:00"
        ]
       ],
       "shape": {
        "columns": 6,
        "rows": 5
       }
      },
      "text/html": [
       "<div>\n",
       "<style scoped>\n",
       "    .dataframe tbody tr th:only-of-type {\n",
       "        vertical-align: middle;\n",
       "    }\n",
       "\n",
       "    .dataframe tbody tr th {\n",
       "        vertical-align: top;\n",
       "    }\n",
       "\n",
       "    .dataframe thead th {\n",
       "        text-align: right;\n",
       "    }\n",
       "</style>\n",
       "<table border=\"1\" class=\"dataframe\">\n",
       "  <thead>\n",
       "    <tr style=\"text-align: right;\">\n",
       "      <th></th>\n",
       "      <th>created_at</th>\n",
       "      <th>registration_date</th>\n",
       "      <th>registration_time</th>\n",
       "      <th>hour</th>\n",
       "      <th>minute</th>\n",
       "      <th>temp_date</th>\n",
       "    </tr>\n",
       "  </thead>\n",
       "  <tbody>\n",
       "    <tr>\n",
       "      <th>0</th>\n",
       "      <td>2024-05-05 15:02:40</td>\n",
       "      <td>2024-05-05</td>\n",
       "      <td>15:02:40</td>\n",
       "      <td>15</td>\n",
       "      <td>2</td>\n",
       "      <td>2020-02-10</td>\n",
       "    </tr>\n",
       "    <tr>\n",
       "      <th>1</th>\n",
       "      <td>2022-03-20 00:15:17</td>\n",
       "      <td>2022-03-20</td>\n",
       "      <td>00:15:17</td>\n",
       "      <td>0</td>\n",
       "      <td>15</td>\n",
       "      <td>2020-02-10</td>\n",
       "    </tr>\n",
       "    <tr>\n",
       "      <th>2</th>\n",
       "      <td>2022-03-27 19:31:44</td>\n",
       "      <td>2022-03-27</td>\n",
       "      <td>19:31:44</td>\n",
       "      <td>19</td>\n",
       "      <td>31</td>\n",
       "      <td>2020-02-10</td>\n",
       "    </tr>\n",
       "    <tr>\n",
       "      <th>3</th>\n",
       "      <td>2021-06-28 18:09:47</td>\n",
       "      <td>2021-06-28</td>\n",
       "      <td>18:09:47</td>\n",
       "      <td>18</td>\n",
       "      <td>9</td>\n",
       "      <td>2020-02-10</td>\n",
       "    </tr>\n",
       "    <tr>\n",
       "      <th>4</th>\n",
       "      <td>2023-05-27 01:58:12</td>\n",
       "      <td>2023-05-27</td>\n",
       "      <td>01:58:12</td>\n",
       "      <td>1</td>\n",
       "      <td>58</td>\n",
       "      <td>2020-02-10</td>\n",
       "    </tr>\n",
       "  </tbody>\n",
       "</table>\n",
       "</div>"
      ],
      "text/plain": [
       "           created_at registration_date registration_time  hour  minute  \\\n",
       "0 2024-05-05 15:02:40        2024-05-05          15:02:40    15       2   \n",
       "1 2022-03-20 00:15:17        2022-03-20          00:15:17     0      15   \n",
       "2 2022-03-27 19:31:44        2022-03-27          19:31:44    19      31   \n",
       "3 2021-06-28 18:09:47        2021-06-28          18:09:47    18       9   \n",
       "4 2023-05-27 01:58:12        2023-05-27          01:58:12     1      58   \n",
       "\n",
       "   temp_date  \n",
       "0 2020-02-10  \n",
       "1 2020-02-10  \n",
       "2 2020-02-10  \n",
       "3 2020-02-10  \n",
       "4 2020-02-10  "
      ]
     },
     "execution_count": 16,
     "metadata": {},
     "output_type": "execute_result"
    }
   ],
   "source": [
    "query = \"\"\"\n",
    "    SELECT \n",
    "        created_at,\n",
    "        DATE(created_at) AS registration_date,\n",
    "        created_at::TIME AS registration_time,\n",
    "        EXTRACT(HOUR FROM created_at) AS hour,\n",
    "        DATE_PART('minute', created_at) AS minute,\n",
    "        DATE('2020-02-10') AS temp_date\n",
    "    FROM users;\n",
    "\"\"\"\n",
    "con.sql(query).df().head()"
   ]
  },
  {
   "cell_type": "markdown",
   "metadata": {},
   "source": [
    "\n",
    "### **Modifiers**\n",
    "\n",
    "SQLite provide additional arguments, called modifiers, to date functions in addition to the time string. Modifiers are applied from left to right as they are listed in the function, so order matters. The following modifiers can be used to shift the date backwards to a specified part of the date.\n",
    "- start of year: shifts the date to the beginning of the current year.\n",
    "- start of month: shifts the date to the beginning of the current month.\n",
    "- start of day: shifts the date to the beginning of the current day.\n",
    "\n",
    "The following modifiers add a specified amount to the date and time of the time string.\n",
    "- '+-N years': offsets the year\n",
    "- '+-N months': offsets the month\n",
    "- '+-N days': offsets the day\n",
    "- '+-N hours': offsets the hour\n",
    "- '+-N minutes': offsets the minute\n",
    "- '+-N seconds': offsets the second\n",
    "\n",
    "`SELECT DATETIME('2020-02-10', 'start of month', '-1 day', '+7 hours');`"
   ]
  },
  {
   "cell_type": "code",
   "execution_count": 25,
   "metadata": {},
   "outputs": [
    {
     "data": {
      "application/vnd.microsoft.datawrangler.viewer.v0+json": {
       "columns": [
        {
         "name": "index",
         "rawType": "int64",
         "type": "integer"
        },
        {
         "name": "created_at",
         "rawType": "datetime64[us]",
         "type": "unknown"
        },
        {
         "name": "start_of_month",
         "rawType": "datetime64[us]",
         "type": "unknown"
        },
        {
         "name": "start_of_year",
         "rawType": "datetime64[us]",
         "type": "unknown"
        },
        {
         "name": "start_of_previous_month",
         "rawType": "datetime64[us]",
         "type": "unknown"
        }
       ],
       "ref": "46cbcaa3-563c-4d85-b05e-ff43f17835e9",
       "rows": [
        [
         "0",
         "2024-05-05 15:02:40",
         "2024-05-01 00:00:00",
         "2024-01-01 00:00:00",
         "2024-04-01 00:00:00"
        ],
        [
         "1",
         "2022-03-20 00:15:17",
         "2022-03-01 00:00:00",
         "2022-01-01 00:00:00",
         "2022-02-01 00:00:00"
        ],
        [
         "2",
         "2022-03-27 19:31:44",
         "2022-03-01 00:00:00",
         "2022-01-01 00:00:00",
         "2022-02-01 00:00:00"
        ],
        [
         "3",
         "2021-06-28 18:09:47",
         "2021-06-01 00:00:00",
         "2021-01-01 00:00:00",
         "2021-05-01 00:00:00"
        ],
        [
         "4",
         "2023-05-27 01:58:12",
         "2023-05-01 00:00:00",
         "2023-01-01 00:00:00",
         "2023-04-01 00:00:00"
        ]
       ],
       "shape": {
        "columns": 4,
        "rows": 5
       }
      },
      "text/html": [
       "<div>\n",
       "<style scoped>\n",
       "    .dataframe tbody tr th:only-of-type {\n",
       "        vertical-align: middle;\n",
       "    }\n",
       "\n",
       "    .dataframe tbody tr th {\n",
       "        vertical-align: top;\n",
       "    }\n",
       "\n",
       "    .dataframe thead th {\n",
       "        text-align: right;\n",
       "    }\n",
       "</style>\n",
       "<table border=\"1\" class=\"dataframe\">\n",
       "  <thead>\n",
       "    <tr style=\"text-align: right;\">\n",
       "      <th></th>\n",
       "      <th>created_at</th>\n",
       "      <th>start_of_month</th>\n",
       "      <th>start_of_year</th>\n",
       "      <th>start_of_previous_month</th>\n",
       "    </tr>\n",
       "  </thead>\n",
       "  <tbody>\n",
       "    <tr>\n",
       "      <th>0</th>\n",
       "      <td>2024-05-05 15:02:40</td>\n",
       "      <td>2024-05-01</td>\n",
       "      <td>2024-01-01</td>\n",
       "      <td>2024-04-01</td>\n",
       "    </tr>\n",
       "    <tr>\n",
       "      <th>1</th>\n",
       "      <td>2022-03-20 00:15:17</td>\n",
       "      <td>2022-03-01</td>\n",
       "      <td>2022-01-01</td>\n",
       "      <td>2022-02-01</td>\n",
       "    </tr>\n",
       "    <tr>\n",
       "      <th>2</th>\n",
       "      <td>2022-03-27 19:31:44</td>\n",
       "      <td>2022-03-01</td>\n",
       "      <td>2022-01-01</td>\n",
       "      <td>2022-02-01</td>\n",
       "    </tr>\n",
       "    <tr>\n",
       "      <th>3</th>\n",
       "      <td>2021-06-28 18:09:47</td>\n",
       "      <td>2021-06-01</td>\n",
       "      <td>2021-01-01</td>\n",
       "      <td>2021-05-01</td>\n",
       "    </tr>\n",
       "    <tr>\n",
       "      <th>4</th>\n",
       "      <td>2023-05-27 01:58:12</td>\n",
       "      <td>2023-05-01</td>\n",
       "      <td>2023-01-01</td>\n",
       "      <td>2023-04-01</td>\n",
       "    </tr>\n",
       "  </tbody>\n",
       "</table>\n",
       "</div>"
      ],
      "text/plain": [
       "           created_at start_of_month start_of_year start_of_previous_month\n",
       "0 2024-05-05 15:02:40     2024-05-01    2024-01-01              2024-04-01\n",
       "1 2022-03-20 00:15:17     2022-03-01    2022-01-01              2022-02-01\n",
       "2 2022-03-27 19:31:44     2022-03-01    2022-01-01              2022-02-01\n",
       "3 2021-06-28 18:09:47     2021-06-01    2021-01-01              2021-05-01\n",
       "4 2023-05-27 01:58:12     2023-05-01    2023-01-01              2023-04-01"
      ]
     },
     "execution_count": 25,
     "metadata": {},
     "output_type": "execute_result"
    }
   ],
   "source": [
    "query = \"\"\"\n",
    "    SELECT \n",
    "        created_at,\n",
    "        DATE_TRUNC('month', created_at) AS start_of_month,\n",
    "        DATE_TRUNC('year', created_at) AS start_of_year,\n",
    "        DATE_TRUNC('month', created_at - INTERVAL '1 month') AS start_of_previous_month\n",
    "    FROM users;\n",
    "\"\"\"\n",
    "con.sql(query).df().head()"
   ]
  },
  {
   "cell_type": "markdown",
   "metadata": {},
   "source": [
    "\n",
    "### **Formatting**\n",
    "\n",
    "In SQLite the STRFTIME() function allows you to return a formatted date, as specified in a format string.\n",
    "\n",
    "`STRFTIME(format, timestring, modifier1, modifier2, ...)`\n",
    "\n",
    "\n",
    "The first argument, format, is the format string. The second argument is the time string. The remaining arguments are 0 or more optional modifiers to transform the time string. The substitutions to extract each part of the date and time are the following:\n",
    "- %Y returns the year (YYYY)\n",
    "- %m returns the month (01-12)\n",
    "- %d returns the day of month (01-31)\n",
    "- %H returns the hour (00-23)\n",
    "- %M returns the minute (00-59)\n",
    "- %S returns the second (00-59)"
   ]
  },
  {
   "cell_type": "code",
   "execution_count": 27,
   "metadata": {},
   "outputs": [],
   "source": [
    "# query = \"\"\"\n",
    "#     SELECT\n",
    "#         created_at,\n",
    "#         TO_CHAR(created_at, 'DY Month YYYY') AS day_month_year\n",
    "#     FROM users;\n",
    "# \"\"\"\n",
    "# con.sql(query).df().head()"
   ]
  },
  {
   "cell_type": "markdown",
   "metadata": {},
   "source": [
    "## **Ordering Rows**\n",
    "\n",
    "Order rows using the `ORDER BY` clause."
   ]
  },
  {
   "cell_type": "code",
   "execution_count": 28,
   "metadata": {},
   "outputs": [
    {
     "data": {
      "application/vnd.microsoft.datawrangler.viewer.v0+json": {
       "columns": [
        {
         "name": "index",
         "rawType": "int64",
         "type": "integer"
        },
        {
         "name": "name",
         "rawType": "object",
         "type": "string"
        },
        {
         "name": "age",
         "rawType": "int32",
         "type": "integer"
        }
       ],
       "ref": "d115d6da-211c-4c06-9469-232feb3daea5",
       "rows": [
        [
         "0",
         "Timothy Wolf",
         "69"
        ],
        [
         "1",
         "Timothy Hopkins",
         "52"
        ],
        [
         "2",
         "Thomas Simmons",
         "57"
        ],
        [
         "3",
         "Sylvia Mason",
         "68"
        ],
        [
         "4",
         "Stephen Smith",
         "39"
        ]
       ],
       "shape": {
        "columns": 2,
        "rows": 5
       }
      },
      "text/html": [
       "<div>\n",
       "<style scoped>\n",
       "    .dataframe tbody tr th:only-of-type {\n",
       "        vertical-align: middle;\n",
       "    }\n",
       "\n",
       "    .dataframe tbody tr th {\n",
       "        vertical-align: top;\n",
       "    }\n",
       "\n",
       "    .dataframe thead th {\n",
       "        text-align: right;\n",
       "    }\n",
       "</style>\n",
       "<table border=\"1\" class=\"dataframe\">\n",
       "  <thead>\n",
       "    <tr style=\"text-align: right;\">\n",
       "      <th></th>\n",
       "      <th>name</th>\n",
       "      <th>age</th>\n",
       "    </tr>\n",
       "  </thead>\n",
       "  <tbody>\n",
       "    <tr>\n",
       "      <th>0</th>\n",
       "      <td>Timothy Wolf</td>\n",
       "      <td>69</td>\n",
       "    </tr>\n",
       "    <tr>\n",
       "      <th>1</th>\n",
       "      <td>Timothy Hopkins</td>\n",
       "      <td>52</td>\n",
       "    </tr>\n",
       "    <tr>\n",
       "      <th>2</th>\n",
       "      <td>Thomas Simmons</td>\n",
       "      <td>57</td>\n",
       "    </tr>\n",
       "    <tr>\n",
       "      <th>3</th>\n",
       "      <td>Sylvia Mason</td>\n",
       "      <td>68</td>\n",
       "    </tr>\n",
       "    <tr>\n",
       "      <th>4</th>\n",
       "      <td>Stephen Smith</td>\n",
       "      <td>39</td>\n",
       "    </tr>\n",
       "  </tbody>\n",
       "</table>\n",
       "</div>"
      ],
      "text/plain": [
       "              name  age\n",
       "0     Timothy Wolf   69\n",
       "1  Timothy Hopkins   52\n",
       "2   Thomas Simmons   57\n",
       "3     Sylvia Mason   68\n",
       "4    Stephen Smith   39"
      ]
     },
     "execution_count": 28,
     "metadata": {},
     "output_type": "execute_result"
    }
   ],
   "source": [
    "query = \"\"\"\n",
    "    SELECT name, age\n",
    "    FROM users\n",
    "    ORDER BY name DESC;\n",
    "\"\"\"\n",
    "con.sql(query).df().head()"
   ]
  },
  {
   "cell_type": "markdown",
   "metadata": {},
   "source": [
    "## **Filtering Rows**\n",
    "\n",
    "Filter rows using the `WHERE` clause with conditions."
   ]
  },
  {
   "cell_type": "markdown",
   "metadata": {},
   "source": [
    "### **IN Operator**"
   ]
  },
  {
   "cell_type": "code",
   "execution_count": 29,
   "metadata": {},
   "outputs": [
    {
     "data": {
      "application/vnd.microsoft.datawrangler.viewer.v0+json": {
       "columns": [
        {
         "name": "index",
         "rawType": "int64",
         "type": "integer"
        },
        {
         "name": "name",
         "rawType": "object",
         "type": "string"
        },
        {
         "name": "age",
         "rawType": "int32",
         "type": "integer"
        }
       ],
       "ref": "6bcfa199-7e41-4669-b1b9-01277e1ce51d",
       "rows": [
        [
         "0",
         "Amy Nichols",
         "40"
        ],
        [
         "1",
         "John Moyer",
         "60"
        ],
        [
         "2",
         "Meghan Short",
         "60"
        ],
        [
         "3",
         "Megan Long",
         "50"
        ],
        [
         "4",
         "James Hall MD",
         "60"
        ]
       ],
       "shape": {
        "columns": 2,
        "rows": 5
       }
      },
      "text/html": [
       "<div>\n",
       "<style scoped>\n",
       "    .dataframe tbody tr th:only-of-type {\n",
       "        vertical-align: middle;\n",
       "    }\n",
       "\n",
       "    .dataframe tbody tr th {\n",
       "        vertical-align: top;\n",
       "    }\n",
       "\n",
       "    .dataframe thead th {\n",
       "        text-align: right;\n",
       "    }\n",
       "</style>\n",
       "<table border=\"1\" class=\"dataframe\">\n",
       "  <thead>\n",
       "    <tr style=\"text-align: right;\">\n",
       "      <th></th>\n",
       "      <th>name</th>\n",
       "      <th>age</th>\n",
       "    </tr>\n",
       "  </thead>\n",
       "  <tbody>\n",
       "    <tr>\n",
       "      <th>0</th>\n",
       "      <td>Amy Nichols</td>\n",
       "      <td>40</td>\n",
       "    </tr>\n",
       "    <tr>\n",
       "      <th>1</th>\n",
       "      <td>John Moyer</td>\n",
       "      <td>60</td>\n",
       "    </tr>\n",
       "    <tr>\n",
       "      <th>2</th>\n",
       "      <td>Meghan Short</td>\n",
       "      <td>60</td>\n",
       "    </tr>\n",
       "    <tr>\n",
       "      <th>3</th>\n",
       "      <td>Megan Long</td>\n",
       "      <td>50</td>\n",
       "    </tr>\n",
       "    <tr>\n",
       "      <th>4</th>\n",
       "      <td>James Hall MD</td>\n",
       "      <td>60</td>\n",
       "    </tr>\n",
       "  </tbody>\n",
       "</table>\n",
       "</div>"
      ],
      "text/plain": [
       "            name  age\n",
       "0    Amy Nichols   40\n",
       "1     John Moyer   60\n",
       "2   Meghan Short   60\n",
       "3     Megan Long   50\n",
       "4  James Hall MD   60"
      ]
     },
     "execution_count": 29,
     "metadata": {},
     "output_type": "execute_result"
    }
   ],
   "source": [
    "query = \"\"\"\n",
    "    SELECT name, age\n",
    "    FROM users\n",
    "    WHERE age IN (40, 50, 60)\n",
    "\"\"\"\n",
    "con.sql(query).df().head()"
   ]
  },
  {
   "cell_type": "markdown",
   "metadata": {},
   "source": [
    "### **NOT IN Operator**"
   ]
  },
  {
   "cell_type": "code",
   "execution_count": 30,
   "metadata": {},
   "outputs": [
    {
     "data": {
      "application/vnd.microsoft.datawrangler.viewer.v0+json": {
       "columns": [
        {
         "name": "index",
         "rawType": "int64",
         "type": "integer"
        },
        {
         "name": "name",
         "rawType": "object",
         "type": "string"
        },
        {
         "name": "age",
         "rawType": "int32",
         "type": "integer"
        }
       ],
       "ref": "87a6c1f7-934b-427b-83f5-fc95d5e70fc8",
       "rows": [
        [
         "0",
         "Jeffrey Thomas",
         "19"
        ],
        [
         "1",
         "Heather Brown",
         "25"
        ],
        [
         "2",
         "Sarah Baldwin",
         "45"
        ],
        [
         "3",
         "Stephanie Russell",
         "37"
        ],
        [
         "4",
         "Michael Farmer",
         "61"
        ]
       ],
       "shape": {
        "columns": 2,
        "rows": 5
       }
      },
      "text/html": [
       "<div>\n",
       "<style scoped>\n",
       "    .dataframe tbody tr th:only-of-type {\n",
       "        vertical-align: middle;\n",
       "    }\n",
       "\n",
       "    .dataframe tbody tr th {\n",
       "        vertical-align: top;\n",
       "    }\n",
       "\n",
       "    .dataframe thead th {\n",
       "        text-align: right;\n",
       "    }\n",
       "</style>\n",
       "<table border=\"1\" class=\"dataframe\">\n",
       "  <thead>\n",
       "    <tr style=\"text-align: right;\">\n",
       "      <th></th>\n",
       "      <th>name</th>\n",
       "      <th>age</th>\n",
       "    </tr>\n",
       "  </thead>\n",
       "  <tbody>\n",
       "    <tr>\n",
       "      <th>0</th>\n",
       "      <td>Jeffrey Thomas</td>\n",
       "      <td>19</td>\n",
       "    </tr>\n",
       "    <tr>\n",
       "      <th>1</th>\n",
       "      <td>Heather Brown</td>\n",
       "      <td>25</td>\n",
       "    </tr>\n",
       "    <tr>\n",
       "      <th>2</th>\n",
       "      <td>Sarah Baldwin</td>\n",
       "      <td>45</td>\n",
       "    </tr>\n",
       "    <tr>\n",
       "      <th>3</th>\n",
       "      <td>Stephanie Russell</td>\n",
       "      <td>37</td>\n",
       "    </tr>\n",
       "    <tr>\n",
       "      <th>4</th>\n",
       "      <td>Michael Farmer</td>\n",
       "      <td>61</td>\n",
       "    </tr>\n",
       "  </tbody>\n",
       "</table>\n",
       "</div>"
      ],
      "text/plain": [
       "                name  age\n",
       "0     Jeffrey Thomas   19\n",
       "1      Heather Brown   25\n",
       "2      Sarah Baldwin   45\n",
       "3  Stephanie Russell   37\n",
       "4     Michael Farmer   61"
      ]
     },
     "execution_count": 30,
     "metadata": {},
     "output_type": "execute_result"
    }
   ],
   "source": [
    "query = \"\"\"\n",
    "    SELECT name, age\n",
    "    FROM users\n",
    "    WHERE age NOT IN (40, 50, 60)\n",
    "\"\"\"\n",
    "con.sql(query).df().head()"
   ]
  },
  {
   "cell_type": "markdown",
   "metadata": {},
   "source": [
    "### **LIKE Operator**\n",
    "\n",
    "The `LIKE` operator can be used inside of a WHERE clause to match a specified pattern. \n",
    "- The `%` wildcard can be used in a LIKE operator pattern to match zero or more unspecified character(s).\n",
    "- The `_` wildcard can be used in a LIKE operator pattern to match any single unspecified character. "
   ]
  },
  {
   "cell_type": "code",
   "execution_count": 31,
   "metadata": {},
   "outputs": [
    {
     "data": {
      "application/vnd.microsoft.datawrangler.viewer.v0+json": {
       "columns": [
        {
         "name": "index",
         "rawType": "int64",
         "type": "integer"
        },
        {
         "name": "name",
         "rawType": "object",
         "type": "string"
        },
        {
         "name": "age",
         "rawType": "int32",
         "type": "integer"
        }
       ],
       "ref": "883a3950-9e2e-43ae-a88c-aa458ccf6748",
       "rows": [
        [
         "0",
         "Alicia Morse",
         "36"
        ],
        [
         "1",
         "Amy Nichols",
         "40"
        ],
        [
         "2",
         "Austin Torres",
         "21"
        ],
        [
         "3",
         "Arthur Griffith",
         "27"
        ],
        [
         "4",
         "Alexis Chan",
         "66"
        ]
       ],
       "shape": {
        "columns": 2,
        "rows": 5
       }
      },
      "text/html": [
       "<div>\n",
       "<style scoped>\n",
       "    .dataframe tbody tr th:only-of-type {\n",
       "        vertical-align: middle;\n",
       "    }\n",
       "\n",
       "    .dataframe tbody tr th {\n",
       "        vertical-align: top;\n",
       "    }\n",
       "\n",
       "    .dataframe thead th {\n",
       "        text-align: right;\n",
       "    }\n",
       "</style>\n",
       "<table border=\"1\" class=\"dataframe\">\n",
       "  <thead>\n",
       "    <tr style=\"text-align: right;\">\n",
       "      <th></th>\n",
       "      <th>name</th>\n",
       "      <th>age</th>\n",
       "    </tr>\n",
       "  </thead>\n",
       "  <tbody>\n",
       "    <tr>\n",
       "      <th>0</th>\n",
       "      <td>Alicia Morse</td>\n",
       "      <td>36</td>\n",
       "    </tr>\n",
       "    <tr>\n",
       "      <th>1</th>\n",
       "      <td>Amy Nichols</td>\n",
       "      <td>40</td>\n",
       "    </tr>\n",
       "    <tr>\n",
       "      <th>2</th>\n",
       "      <td>Austin Torres</td>\n",
       "      <td>21</td>\n",
       "    </tr>\n",
       "    <tr>\n",
       "      <th>3</th>\n",
       "      <td>Arthur Griffith</td>\n",
       "      <td>27</td>\n",
       "    </tr>\n",
       "    <tr>\n",
       "      <th>4</th>\n",
       "      <td>Alexis Chan</td>\n",
       "      <td>66</td>\n",
       "    </tr>\n",
       "  </tbody>\n",
       "</table>\n",
       "</div>"
      ],
      "text/plain": [
       "              name  age\n",
       "0     Alicia Morse   36\n",
       "1      Amy Nichols   40\n",
       "2    Austin Torres   21\n",
       "3  Arthur Griffith   27\n",
       "4      Alexis Chan   66"
      ]
     },
     "execution_count": 31,
     "metadata": {},
     "output_type": "execute_result"
    }
   ],
   "source": [
    "query = \"\"\"\n",
    "    SELECT name, age\n",
    "    FROM users\n",
    "    WHERE name LIKE 'A%'\n",
    "\"\"\"\n",
    "con.sql(query).df().head()"
   ]
  },
  {
   "cell_type": "code",
   "execution_count": 32,
   "metadata": {},
   "outputs": [
    {
     "data": {
      "application/vnd.microsoft.datawrangler.viewer.v0+json": {
       "columns": [
        {
         "name": "index",
         "rawType": "int64",
         "type": "integer"
        },
        {
         "name": "name",
         "rawType": "object",
         "type": "string"
        },
        {
         "name": "age",
         "rawType": "int32",
         "type": "integer"
        }
       ],
       "ref": "f1e4bbf2-a31c-4abb-99d2-d6faf31dca27",
       "rows": [],
       "shape": {
        "columns": 2,
        "rows": 0
       }
      },
      "text/html": [
       "<div>\n",
       "<style scoped>\n",
       "    .dataframe tbody tr th:only-of-type {\n",
       "        vertical-align: middle;\n",
       "    }\n",
       "\n",
       "    .dataframe tbody tr th {\n",
       "        vertical-align: top;\n",
       "    }\n",
       "\n",
       "    .dataframe thead th {\n",
       "        text-align: right;\n",
       "    }\n",
       "</style>\n",
       "<table border=\"1\" class=\"dataframe\">\n",
       "  <thead>\n",
       "    <tr style=\"text-align: right;\">\n",
       "      <th></th>\n",
       "      <th>name</th>\n",
       "      <th>age</th>\n",
       "    </tr>\n",
       "  </thead>\n",
       "  <tbody>\n",
       "  </tbody>\n",
       "</table>\n",
       "</div>"
      ],
      "text/plain": [
       "Empty DataFrame\n",
       "Columns: [name, age]\n",
       "Index: []"
      ]
     },
     "execution_count": 32,
     "metadata": {},
     "output_type": "execute_result"
    }
   ],
   "source": [
    "query = \"\"\"\n",
    "    SELECT name, age\n",
    "    FROM users\n",
    "    WHERE name LIKE '_aron Hernandez'\n",
    "\"\"\"\n",
    "con.sql(query).df().head()"
   ]
  },
  {
   "cell_type": "markdown",
   "metadata": {},
   "source": [
    "### **IS NULL Operator**\n",
    "\n",
    "Column values can be NULL, or have no value. These records can be matched (or not matched) using the IS NULL and IS NOT NULL operators in combination with the WHERE clause. The given query will match all addresses where the address has a value or is not NULL."
   ]
  },
  {
   "cell_type": "markdown",
   "metadata": {},
   "source": [
    "## **Aggregating Rows**\n",
    "\n",
    "Group rows and apply aggregate functions (`COUNT`, `SUM`, `AVG`, etc.)."
   ]
  },
  {
   "cell_type": "markdown",
   "metadata": {},
   "source": [
    "### **Grouping Rows**\n",
    "\n",
    "The `GROUP BY` clause will group records in a result set by identical values in one or more columns. It is often used in combination with aggregate functions to query information of similar records. The `GROUP BY` clause can come after `FROM` or `WHERE` but must come before any `ORDER BY` or `LIMIT` clause."
   ]
  },
  {
   "cell_type": "code",
   "execution_count": 33,
   "metadata": {},
   "outputs": [
    {
     "data": {
      "application/vnd.microsoft.datawrangler.viewer.v0+json": {
       "columns": [
        {
         "name": "index",
         "rawType": "int64",
         "type": "integer"
        },
        {
         "name": "age",
         "rawType": "int32",
         "type": "integer"
        },
        {
         "name": "count_star()",
         "rawType": "int64",
         "type": "integer"
        }
       ],
       "ref": "39244e85-fbb6-49ff-808a-5a8570ce9140",
       "rows": [
        [
         "0",
         "40",
         "1"
        ],
        [
         "1",
         "50",
         "1"
        ],
        [
         "2",
         "60",
         "3"
        ]
       ],
       "shape": {
        "columns": 2,
        "rows": 3
       }
      },
      "text/html": [
       "<div>\n",
       "<style scoped>\n",
       "    .dataframe tbody tr th:only-of-type {\n",
       "        vertical-align: middle;\n",
       "    }\n",
       "\n",
       "    .dataframe tbody tr th {\n",
       "        vertical-align: top;\n",
       "    }\n",
       "\n",
       "    .dataframe thead th {\n",
       "        text-align: right;\n",
       "    }\n",
       "</style>\n",
       "<table border=\"1\" class=\"dataframe\">\n",
       "  <thead>\n",
       "    <tr style=\"text-align: right;\">\n",
       "      <th></th>\n",
       "      <th>age</th>\n",
       "      <th>count_star()</th>\n",
       "    </tr>\n",
       "  </thead>\n",
       "  <tbody>\n",
       "    <tr>\n",
       "      <th>0</th>\n",
       "      <td>40</td>\n",
       "      <td>1</td>\n",
       "    </tr>\n",
       "    <tr>\n",
       "      <th>1</th>\n",
       "      <td>50</td>\n",
       "      <td>1</td>\n",
       "    </tr>\n",
       "    <tr>\n",
       "      <th>2</th>\n",
       "      <td>60</td>\n",
       "      <td>3</td>\n",
       "    </tr>\n",
       "  </tbody>\n",
       "</table>\n",
       "</div>"
      ],
      "text/plain": [
       "   age  count_star()\n",
       "0   40             1\n",
       "1   50             1\n",
       "2   60             3"
      ]
     },
     "execution_count": 33,
     "metadata": {},
     "output_type": "execute_result"
    }
   ],
   "source": [
    "query = \"\"\"\n",
    "    SELECT age, COUNT(*)\n",
    "    FROM users\n",
    "    WHERE age IN (40, 50, 60)\n",
    "    GROUP BY age\n",
    "\"\"\"\n",
    "con.sql(query).df().head()"
   ]
  },
  {
   "cell_type": "markdown",
   "metadata": {},
   "source": [
    "### **Filtering Aggregated Results**\n",
    "\n",
    "The `HAVING` clause is used to further filter the result set groups provided by the `GROUP BY` clause. `HAVING` is often used with aggregate functions to filter the result set groups based on an aggregate property. The `HAVING` clause must always come after a `GROUP BY` clause but must come before any `ORDER BY` or `LIMIT` clause."
   ]
  },
  {
   "cell_type": "code",
   "execution_count": 34,
   "metadata": {},
   "outputs": [
    {
     "data": {
      "application/vnd.microsoft.datawrangler.viewer.v0+json": {
       "columns": [
        {
         "name": "index",
         "rawType": "int64",
         "type": "integer"
        },
        {
         "name": "age",
         "rawType": "int32",
         "type": "integer"
        },
        {
         "name": "count_star()",
         "rawType": "int64",
         "type": "integer"
        }
       ],
       "ref": "71dc16ca-397a-41dd-8037-20916f393783",
       "rows": [
        [
         "0",
         "60",
         "3"
        ]
       ],
       "shape": {
        "columns": 2,
        "rows": 1
       }
      },
      "text/html": [
       "<div>\n",
       "<style scoped>\n",
       "    .dataframe tbody tr th:only-of-type {\n",
       "        vertical-align: middle;\n",
       "    }\n",
       "\n",
       "    .dataframe tbody tr th {\n",
       "        vertical-align: top;\n",
       "    }\n",
       "\n",
       "    .dataframe thead th {\n",
       "        text-align: right;\n",
       "    }\n",
       "</style>\n",
       "<table border=\"1\" class=\"dataframe\">\n",
       "  <thead>\n",
       "    <tr style=\"text-align: right;\">\n",
       "      <th></th>\n",
       "      <th>age</th>\n",
       "      <th>count_star()</th>\n",
       "    </tr>\n",
       "  </thead>\n",
       "  <tbody>\n",
       "    <tr>\n",
       "      <th>0</th>\n",
       "      <td>60</td>\n",
       "      <td>3</td>\n",
       "    </tr>\n",
       "  </tbody>\n",
       "</table>\n",
       "</div>"
      ],
      "text/plain": [
       "   age  count_star()\n",
       "0   60             3"
      ]
     },
     "execution_count": 34,
     "metadata": {},
     "output_type": "execute_result"
    }
   ],
   "source": [
    "query = \"\"\"\n",
    "    SELECT age, COUNT(*)\n",
    "    FROM users\n",
    "    WHERE age IN (40, 50, 60)\n",
    "    GROUP BY age\n",
    "    HAVING COUNT(*) > 1\n",
    "\"\"\"\n",
    "con.sql(query).df().head()"
   ]
  },
  {
   "cell_type": "markdown",
   "metadata": {},
   "source": [
    "## **Joining Tables**"
   ]
  },
  {
   "cell_type": "markdown",
   "metadata": {},
   "source": [
    "### **Merging Tables**"
   ]
  },
  {
   "cell_type": "markdown",
   "metadata": {},
   "source": [
    "1. **INNER JOIN**:\n",
    "   Returns only the rows that have matching values in both tables.\n",
    "     ```sql\n",
    "     SELECT columns\n",
    "     FROM table1\n",
    "     INNER JOIN table2\n",
    "     ON table1.column = table2.column;\n",
    "     ```\n",
    "\n",
    "2. **LEFT JOIN (or LEFT OUTER JOIN)**:\n",
    "   - Returns all rows from the left table, and the matched rows from the right table. If no match is found, NULL values are returned for columns from the right table.\n",
    "     ```sql\n",
    "     SELECT columns\n",
    "     FROM table1\n",
    "     LEFT JOIN table2\n",
    "     ON table1.column = table2.column;\n",
    "     ```\n",
    "\n",
    "3. **RIGHT JOIN (or RIGHT OUTER JOIN)**:\n",
    "   - Returns all rows from the right table, and the matched rows from the left table. If no match is found, NULL values are returned for columns from the left table.\n",
    "     ```sql\n",
    "     SELECT columns\n",
    "     FROM table1\n",
    "     RIGHT JOIN table2\n",
    "     ON table1.column = table2.column;\n",
    "     ```\n",
    "\n",
    "4. **FULL JOIN (or FULL OUTER JOIN)**:\n",
    "   - Returns all rows when there is a match in either left or right table. Rows without a match in one of the tables will have NULL values for columns from that table.\n",
    "     ```sql\n",
    "     SELECT columns\n",
    "     FROM table1\n",
    "     FULL JOIN table2\n",
    "     ON table1.column = table2.column;\n",
    "     ```\n",
    "\n",
    "5. **CROSS JOIN**:\n",
    "   - Returns the Cartesian product of the two tables, i.e., it returns all possible combinations of rows from both tables.\n",
    "     ```sql\n",
    "     SELECT columns\n",
    "     FROM table1\n",
    "     CROSS JOIN table2;\n",
    "     ```\n",
    "\n",
    "6. **SELF JOIN**:\n",
    "   - A self join is a regular join but the table is joined with itself.\n",
    "     ```sql\n",
    "     SELECT a.columns, b.columns\n",
    "     FROM table a, table b\n",
    "     WHERE condition;\n",
    "     ```"
   ]
  },
  {
   "cell_type": "code",
   "execution_count": 35,
   "metadata": {},
   "outputs": [
    {
     "data": {
      "application/vnd.microsoft.datawrangler.viewer.v0+json": {
       "columns": [
        {
         "name": "index",
         "rawType": "int64",
         "type": "integer"
        },
        {
         "name": "name",
         "rawType": "object",
         "type": "string"
        },
        {
         "name": "space",
         "rawType": "Int32",
         "type": "integer"
        },
        {
         "name": "price",
         "rawType": "float32",
         "type": "float"
        }
       ],
       "ref": "34eb9f89-1b8d-466c-ab3e-b9f049e7d463",
       "rows": [
        [
         "0",
         "Sarah Baldwin",
         "740",
         "24733.0"
        ],
        [
         "1",
         "Stephanie Russell",
         "143",
         "84623.0"
        ],
        [
         "2",
         "Alicia Morse",
         "907",
         "32985.0"
        ],
        [
         "3",
         "Amy Nichols",
         "389",
         "30685.0"
        ],
        [
         "4",
         "Melinda Morgan",
         "923",
         "1024.0"
        ]
       ],
       "shape": {
        "columns": 3,
        "rows": 5
       }
      },
      "text/html": [
       "<div>\n",
       "<style scoped>\n",
       "    .dataframe tbody tr th:only-of-type {\n",
       "        vertical-align: middle;\n",
       "    }\n",
       "\n",
       "    .dataframe tbody tr th {\n",
       "        vertical-align: top;\n",
       "    }\n",
       "\n",
       "    .dataframe thead th {\n",
       "        text-align: right;\n",
       "    }\n",
       "</style>\n",
       "<table border=\"1\" class=\"dataframe\">\n",
       "  <thead>\n",
       "    <tr style=\"text-align: right;\">\n",
       "      <th></th>\n",
       "      <th>name</th>\n",
       "      <th>space</th>\n",
       "      <th>price</th>\n",
       "    </tr>\n",
       "  </thead>\n",
       "  <tbody>\n",
       "    <tr>\n",
       "      <th>0</th>\n",
       "      <td>Sarah Baldwin</td>\n",
       "      <td>740</td>\n",
       "      <td>24733.0</td>\n",
       "    </tr>\n",
       "    <tr>\n",
       "      <th>1</th>\n",
       "      <td>Stephanie Russell</td>\n",
       "      <td>143</td>\n",
       "      <td>84623.0</td>\n",
       "    </tr>\n",
       "    <tr>\n",
       "      <th>2</th>\n",
       "      <td>Alicia Morse</td>\n",
       "      <td>907</td>\n",
       "      <td>32985.0</td>\n",
       "    </tr>\n",
       "    <tr>\n",
       "      <th>3</th>\n",
       "      <td>Amy Nichols</td>\n",
       "      <td>389</td>\n",
       "      <td>30685.0</td>\n",
       "    </tr>\n",
       "    <tr>\n",
       "      <th>4</th>\n",
       "      <td>Melinda Morgan</td>\n",
       "      <td>923</td>\n",
       "      <td>1024.0</td>\n",
       "    </tr>\n",
       "  </tbody>\n",
       "</table>\n",
       "</div>"
      ],
      "text/plain": [
       "                name  space    price\n",
       "0      Sarah Baldwin    740  24733.0\n",
       "1  Stephanie Russell    143  84623.0\n",
       "2       Alicia Morse    907  32985.0\n",
       "3        Amy Nichols    389  30685.0\n",
       "4     Melinda Morgan    923   1024.0"
      ]
     },
     "execution_count": 35,
     "metadata": {},
     "output_type": "execute_result"
    }
   ],
   "source": [
    "query = \"\"\"\n",
    "    SELECT u.name, s.space, s.price\n",
    "    FROM users AS u\n",
    "    LEFT JOIN storage s ON s.user_id = u.id\n",
    "    \n",
    "\"\"\"\n",
    "con.sql(query).df().head()"
   ]
  },
  {
   "cell_type": "markdown",
   "metadata": {},
   "source": [
    "### **Temporary Tables**\n",
    "\n",
    "Often, we want to combine two tables, but one of the tables is the result of another calculation. The `WITH` clause stores the result of a query in a temporary table using an alias. Multiple temporary tables can be defined with one instance of the `WITH` keyword.\n",
    "\n",
    "When you have a complex query that involves multiple subqueries or aggregations, a WITH clause makes the code more readable by allowing you to define subqueries as named, reusable expressions. You can use these expressions multiple times within the main query, keeping the code cleaner and reducing redundancy.\n"
   ]
  },
  {
   "cell_type": "code",
   "execution_count": 36,
   "metadata": {},
   "outputs": [
    {
     "data": {
      "application/vnd.microsoft.datawrangler.viewer.v0+json": {
       "columns": [
        {
         "name": "index",
         "rawType": "int64",
         "type": "integer"
        },
        {
         "name": "age",
         "rawType": "int32",
         "type": "integer"
        },
        {
         "name": "count",
         "rawType": "int64",
         "type": "integer"
        }
       ],
       "ref": "2fc513ff-6444-416e-815c-6fedd7626f8e",
       "rows": [
        [
         "0",
         "19",
         "4"
        ],
        [
         "1",
         "20",
         "4"
        ],
        [
         "2",
         "24",
         "3"
        ],
        [
         "3",
         "25",
         "3"
        ],
        [
         "4",
         "29",
         "2"
        ]
       ],
       "shape": {
        "columns": 2,
        "rows": 5
       }
      },
      "text/html": [
       "<div>\n",
       "<style scoped>\n",
       "    .dataframe tbody tr th:only-of-type {\n",
       "        vertical-align: middle;\n",
       "    }\n",
       "\n",
       "    .dataframe tbody tr th {\n",
       "        vertical-align: top;\n",
       "    }\n",
       "\n",
       "    .dataframe thead th {\n",
       "        text-align: right;\n",
       "    }\n",
       "</style>\n",
       "<table border=\"1\" class=\"dataframe\">\n",
       "  <thead>\n",
       "    <tr style=\"text-align: right;\">\n",
       "      <th></th>\n",
       "      <th>age</th>\n",
       "      <th>count</th>\n",
       "    </tr>\n",
       "  </thead>\n",
       "  <tbody>\n",
       "    <tr>\n",
       "      <th>0</th>\n",
       "      <td>19</td>\n",
       "      <td>4</td>\n",
       "    </tr>\n",
       "    <tr>\n",
       "      <th>1</th>\n",
       "      <td>20</td>\n",
       "      <td>4</td>\n",
       "    </tr>\n",
       "    <tr>\n",
       "      <th>2</th>\n",
       "      <td>24</td>\n",
       "      <td>3</td>\n",
       "    </tr>\n",
       "    <tr>\n",
       "      <th>3</th>\n",
       "      <td>25</td>\n",
       "      <td>3</td>\n",
       "    </tr>\n",
       "    <tr>\n",
       "      <th>4</th>\n",
       "      <td>29</td>\n",
       "      <td>2</td>\n",
       "    </tr>\n",
       "  </tbody>\n",
       "</table>\n",
       "</div>"
      ],
      "text/plain": [
       "   age  count\n",
       "0   19      4\n",
       "1   20      4\n",
       "2   24      3\n",
       "3   25      3\n",
       "4   29      2"
      ]
     },
     "execution_count": 36,
     "metadata": {},
     "output_type": "execute_result"
    }
   ],
   "source": [
    "query = \"\"\"\n",
    "    WITH user_counts AS (\n",
    "        SELECT age, COUNT(*) AS count\n",
    "        FROM users\n",
    "        GROUP BY age\n",
    "    )\n",
    "    SELECT *\n",
    "    FROM user_counts\n",
    "    WHERE count > 1\n",
    "\"\"\"\n",
    "con.sql(query).df().head()"
   ]
  },
  {
   "cell_type": "markdown",
   "metadata": {},
   "source": [
    "### **Concatenating Tables**"
   ]
  },
  {
   "cell_type": "markdown",
   "metadata": {},
   "source": [
    "\n",
    "The `UNION` clause is used to combine results that appear from multiple SELECT statements and filter duplicates.\n",
    "\n",
    "```sql\n",
    "SELECT name\n",
    "FROM first_names\n",
    "UNION\n",
    "SELECT name\n",
    "FROM last_names\n",
    "```"
   ]
  },
  {
   "cell_type": "markdown",
   "metadata": {},
   "source": [
    "### **Subqueries**"
   ]
  },
  {
   "cell_type": "markdown",
   "metadata": {},
   "source": [
    "\n",
    "What happens when we query a database but we really only need a subset of the results returned? How is this situation handled when the subset of data needed spans across multiple tables? \n",
    "\n",
    "As the name suggests, a subquery is an internal query nested inside of an external query. They can be nested inside of SELECT, INSERT, UPDATE, or DELETE statements. Anytime a subquery is present, it gets executed before the external statement is run. Subqueries are very similar to joins in terms of functionality; however, joins are more efficient and subqueries are typically more readable. \n",
    "\n",
    "One of the more common ways to use subqueries is with the use of an IN or NOT IN clause. When an IN clause is used, results retrieved from the external query must appear within the subquery results. Similarly, when a NOT IN clause is used, results retrieved from the external query must not appear within the subquery results.\n",
    "\n",
    "```sql\n",
    "DELETE FROM statistics_students\n",
    "WHERE id NOT IN (\n",
    "  SELECT id \n",
    "  FROM history_students);\n",
    "```\n",
    "\n",
    "Subqueries have the unique ability to take the place of expressions in SQL queries. As such, one way of using subqueries in SQL statements is with comparison operators. We can use operators such as <, >, =, and != to compare the results of the external query to those of the inner query.\n",
    "\n",
    "```sql\n",
    "SELECT * \n",
    "FROM history_students\n",
    "WHERE grade <= (\n",
    "  SELECT grade\n",
    "  FROM statistics_students\n",
    "  WHERE id = 1);\n",
    "\n",
    "```\n"
   ]
  },
  {
   "cell_type": "markdown",
   "metadata": {},
   "source": [
    "### **EXISTS Operator**\n",
    "\n",
    "If we compare this functionality in terms of efficiency, EXISTS/NOT EXISTS are usually more efficient than IN/NOT IN clauses; this is because the IN/NOT IN clause has to return all rows meeting the specific criteria whereas the EXISTS/NOT EXISTS only needs to find the presence of one row to determine if a true or false value needs to be returned.\n",
    "\n",
    "Note that with EXISTS, we must include a WHERE clause within the subquery that defines the criteria we are checking. Here, we specify that in order for the subquery to return true, it must locate a row with the same id value as the outer query.\n",
    "```sql\n",
    "SELECT * \n",
    "FROM statistics_students\n",
    "WHERE EXISTS (\n",
    "  SELECT * \n",
    "  FROM history_students\n",
    "  WHERE id = statistics_students.id\n",
    ");\n",
    "```\n"
   ]
  },
  {
   "cell_type": "markdown",
   "metadata": {},
   "source": [
    "## **Window Functions**\n",
    "\n",
    "Window functions allow you to maintain the values of your original table while displaying grouped or summative information alongside in another column. This is why many Data Scientists and Data Engineers love to use window functions for complex data analysis."
   ]
  },
  {
   "cell_type": "markdown",
   "metadata": {},
   "source": [
    "### **OVER Clause**\n",
    "\n",
    "This is the clause that designates the aggregate function as a window function. The `ORDER BY` statement declares what we would like our window function to do. Hence you can find the running totals, running averages or running counts.\n",
    "\n",
    "```sql\n",
    "SELECT \n",
    "   month,\n",
    "   change_in_followers,\n",
    "   SUM(change_in_followers) OVER (\n",
    "      ORDER BY month\n",
    "   ) AS 'running_total'\n",
    "FROM\n",
    "   social_media;\n",
    "```\n"
   ]
  },
  {
   "cell_type": "markdown",
   "metadata": {},
   "source": [
    "\n",
    "### **PARTITION BY Subclause**\n",
    "\n",
    "`PARTITION BY` is a subclause of the `OVER` clause and divides a query’s result set into parts. It’s very similar to `GROUP BY` except it does not reduce the number of rows returned. While using `GROUP BY` only allows one row to be returned for each group, `PARTITION BY` allows you to see all of the resultant rows.\n",
    "\n",
    "```sql\n",
    "SELECT \n",
    "    username,\n",
    "    month,\n",
    "    change_in_followers,\n",
    "    SUM(change_in_followers) OVER (\n",
    "      PARTITION BY username \n",
    "      ORDER BY month\n",
    "    ) 'running_total_followers_change'\n",
    "FROM\n",
    "    social_media;\n",
    "```\n"
   ]
  },
  {
   "cell_type": "markdown",
   "metadata": {},
   "source": [
    "\n",
    "### **FIRST_VALUE Operator**\n",
    "\n",
    "In the past, when we wanted to get the first or last value of a query, we might use the `LIMIT` clause, probably in conjunction with `ORDER BY`, which would return one result showing us the first or last value from our dataset. With window functions, we can return our first or last values alongside our other data by using the `FIRST_VALUE` or `LAST_VALUE` functions.\n",
    "\n",
    "```sql\n",
    "SELECT username,\n",
    "   posts,\n",
    "   FIRST_VALUE (posts) OVER (\n",
    "      PARTITION BY username \n",
    "      ORDER BY posts\n",
    "   ) AS 'fewest_posts'\n",
    "FROM social_media;\n",
    "```\n"
   ]
  },
  {
   "cell_type": "markdown",
   "metadata": {},
   "source": [
    "\n",
    "### **LAST_VALUE Operator**\n",
    "\n",
    "To get `LAST_VALUE` to show us the most posts for a user, we need to specify a frame for our window function.\n",
    "```sql\n",
    "SELECT\n",
    "   username,\n",
    "   posts,\n",
    "   LAST_VALUE (posts) OVER (\n",
    "      PARTITION BY username \n",
    "      ORDER BY posts\n",
    "      RANGE BETWEEN UNBOUNDED PRECEDING AND \n",
    "      UNBOUNDED FOLLOWING\n",
    "    ) most_posts\n",
    "FROM\n",
    "    social_media;\n",
    "```\n",
    "\n",
    "`RANGE BETWEEN UNBOUNDED PRECEDING AND UNBOUNDED FOLLOWING` specifies the frame for our window function as the current partition and thus returns the highest number of posts in one month for each user.\n"
   ]
  },
  {
   "cell_type": "markdown",
   "metadata": {},
   "source": [
    "### **LAG and LEAD Operator**\n",
    "Window functions can use `LAG` or `LEAD` in order to access information from a row at a specified offset which comes before (`LAG`) or after (`LEAD`) the current row. This means that by using `LAG` or `LEAD` you can access any row before or after the current row, which can be very useful in calculating the difference between the current and adjacent row. \n",
    "```sql\n",
    "SELECT\n",
    "   artist,\n",
    "   week,\n",
    "   streams_millions,\n",
    "   LAG(streams_millions, 1, 0) OVER (\n",
    "      PARTITION BY artist\n",
    "      ORDER BY week \n",
    "   ) previous_week_streams \n",
    "FROM\n",
    "   streams;\n",
    "```\n"
   ]
  },
  {
   "cell_type": "markdown",
   "metadata": {},
   "source": [
    "\n",
    "### **ROW_NUMBER Operator**\n",
    "The most straight-forward way to order our results is by using the `ROW_NUMBER` function which adds a sequential integer number to each row. Adding a `ROW_NUMBER` to each row can be useful for seeing where in your result set the row falls.\n",
    "```sql\n",
    "SELECT \n",
    "   ROW_NUMBER() OVER (\n",
    "      PARTITION BY week\n",
    "      ORDER BY streams_millions DESC\n",
    "   ) AS 'row_num', \n",
    "   artist, \n",
    "   week,\n",
    "   streams_millions\n",
    "FROM streams;\n",
    "```\n"
   ]
  },
  {
   "cell_type": "markdown",
   "metadata": {},
   "source": [
    "### **RANK Operator**\n",
    "Now that we understand how to use `ROW_NUMBER`, there is another function that is similar but provides an actual ranking: RANK. If you were to modify your `ROW_NUMBER` query to use `RANK` instead, it might appear to be exactly the same at first glance. But if you look more closely, you can see that `RANK` will follow standard ranking rules so that when two values are the same, they will have the same rank whereas with `ROW_NUMBER` they would not.\n",
    "```sql\n",
    "SELECT \n",
    "   RANK() OVER (\n",
    "      PARTITION BY week\n",
    "      ORDER BY streams_millions DESC\n",
    "   ) AS 'rank', \n",
    "   artist, \n",
    "   week,\n",
    "   streams_millions\n",
    "FROM streams;\n",
    "```"
   ]
  },
  {
   "cell_type": "markdown",
   "metadata": {},
   "source": [
    "### **NTILE Operator**\n",
    "`NTILE` allows you to break your data into roughly equal groups, based on what nth tile you’d like. When using `NTILE` you are required to provide a bucket, which represents the number of groups you’d like your data broken down into.\n",
    "```sql\n",
    "SELECT \n",
    "   NTILE(4) OVER (\n",
    "      PARTITION BY week\n",
    "      ORDER BY streams_millions DESC\n",
    "   ) AS 'quartile', \n",
    "   artist, \n",
    "   week,\n",
    "FROM streams;\n",
    "```"
   ]
  }
 ],
 "metadata": {
  "kernelspec": {
   "display_name": "Python 3",
   "language": "python",
   "name": "python3"
  },
  "language_info": {
   "codemirror_mode": {
    "name": "ipython",
    "version": 3
   },
   "file_extension": ".py",
   "mimetype": "text/x-python",
   "name": "python",
   "nbconvert_exporter": "python",
   "pygments_lexer": "ipython3",
   "version": "3.13.0"
  }
 },
 "nbformat": 4,
 "nbformat_minor": 2
}
