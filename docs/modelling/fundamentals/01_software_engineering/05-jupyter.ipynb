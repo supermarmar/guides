{
 "cells": [
  {
   "cell_type": "markdown",
   "id": "310244e5",
   "metadata": {},
   "source": [
    "# **Special Commands**\n",
    "\n",
    "These special commands — prefixed with % or %%—unlock powerful shortcuts and tools that make working in Jupyter faster, cleaner, and more efficient."
   ]
  },
  {
   "cell_type": "markdown",
   "id": "1e47b6d5",
   "metadata": {},
   "source": [
    "## **Visualize Data Instantly**"
   ]
  },
  {
   "cell_type": "markdown",
   "id": "178a31bf",
   "metadata": {},
   "source": [
    "When working with pollinator datasets, visualization is key. This magic ensures your plots appear directly in the notebook."
   ]
  },
  {
   "cell_type": "code",
   "execution_count": null,
   "id": "3b0a6f83",
   "metadata": {},
   "outputs": [
    {
     "data": {
      "image/png": "[encoded data removed]",
      "text/plain": [
       "<Figure size 640x480 with 1 Axes>"
      ]
     },
     "metadata": {},
     "output_type": "display_data"
    }
   ],
   "source": [
    "%matplotlib inline\n",
    "import matplotlib.pyplot as plt\n",
    "\n",
    "plt.plot([1, 2, 3], [10, 20, 15])\n",
    "plt.title(\"Sample Bee Population Trend\")\n",
    "plt.show()"
   ]
  },
  {
   "cell_type": "markdown",
   "id": "e79ff664",
   "metadata": {},
   "source": [
    "This magic ensures that your matplotlib plots are displayed directly below the code cell in your notebook, making it easy to visualize data as you work."
   ]
  },
  {
   "cell_type": "markdown",
   "id": "b9e3b863",
   "metadata": {},
   "source": [
    "## **Measure Performance**\n",
    "\n",
    "Optimizing code is crucial, especially with large datasets.\n",
    "\n",
    "```python\n",
    "# How long does it take to filter bee observations?\n",
    "%time bee_data = df[df['species'] == 'bee']\n",
    "\n",
    "# Which method is faster for counting butterflies?\n",
    "%timeit df[df['species'] == 'butterfly'].count()\n",
    "```"
   ]
  },
  {
   "cell_type": "markdown",
   "id": "24039431",
   "metadata": {},
   "source": [
    "## **Import External Scripts**\n",
    "\n",
    "Reuse code from previous analyses or collaborators by loading scripts directly into your notebook cell.\n",
    "\n",
    "```python\n",
    "# Loads the contents of pollinator_utils.py into the cell\n",
    "%load pollinator_utils.py\n",
    "```\n",
    "\n",
    "Very useful for reusing code without copy-pasting."
   ]
  },
  {
   "cell_type": "markdown",
   "id": "6fee1de0",
   "metadata": {},
   "source": [
    "## **Execute Python Files**\n",
    "\n",
    "Executes an entire Python script as if you had typed it into the notebook.\n",
    "\n",
    "```python\n",
    "# Run a script that cleans bat observation data\n",
    "%run clean_bat_data.py\n",
    "```\n",
    "\n",
    "Great for modular projects.\n",
    "\n"
   ]
  },
  {
   "cell_type": "markdown",
   "id": "af669e4d",
   "metadata": {},
   "source": [
    "## **Manage Your Workspace**\n",
    "\n",
    "Keep track of variables and clean up your environment to avoid confusion.\n",
    "\n",
    "```python\n",
    "# List all variables\n",
    "%who\n",
    "\n",
    "# Detailed variable info\n",
    "%whos\n",
    "\n",
    "# Remove all variables (use with caution!)\n",
    "%reset -f\n",
    "```\n",
    "\n",
    "`%who` lists variable names, `%whos` gives detailed info, and `%reset` clears everything."
   ]
  },
  {
   "cell_type": "markdown",
   "id": "81e70f7e",
   "metadata": {},
   "source": [
    "## **Save Variables Between Sessions**\n",
    "Persist important results, like a cleaned DataFrame of bee sightings, for use in future sessions.\n",
    "\n",
    "```python\n",
    "# Save a variable\n",
    "%store bee_data\n",
    "\n",
    "# Later, in a new notebook\n",
    "%store -r bee_data\n",
    "```\n",
    "\n",
    "`%store` allows you to persist variables between notebook sessions, so you don’t have to rerun expensive computations."
   ]
  },
  {
   "cell_type": "markdown",
   "id": "691b439c",
   "metadata": {},
   "source": [
    "# **Interactive Widgets**\n",
    "\n",
    "With `ipywidgets`, you can turn your functions into interactive tools. Just wrap them with `interact()`, and sliders or dropdowns appear instantly."
   ]
  },
  {
   "cell_type": "code",
   "execution_count": 1,
   "id": "7a9af284",
   "metadata": {},
   "outputs": [],
   "source": [
    "from ipywidgets import interact\n",
    "\n",
    "\n",
    "def f(x):\n",
    "    return x**2"
   ]
  },
  {
   "cell_type": "code",
   "execution_count": null,
   "id": "a98d7210",
   "metadata": {},
   "outputs": [
    {
     "data": {
      "application/vnd.jupyter.widget-view+json": {
       "model_id": "3b771bbd1b104e07b2b8731b9b139aa1",
       "version_major": 2,
       "version_minor": 0
      },
      "text/plain": [
       "interactive(children=(IntSlider(value=10, description='x', max=30, min=-10), Output()), _dom_classes=('widget-…"
      ]
     },
     "metadata": {},
     "output_type": "display_data"
    },
    {
     "data": {
      "text/plain": [
       "<function __main__.f(x)>"
      ]
     },
     "execution_count": 2,
     "metadata": {},
     "output_type": "execute_result"
    }
   ],
   "source": [
    "interact(f, x=10)"
   ]
  },
  {
   "cell_type": "markdown",
   "id": "c00b912a",
   "metadata": {},
   "source": [
    "# **Live Code Reloading**\n",
    "\n",
    "Editing external `.py` files while using Jupyter is painful — unless you use `%autoreload`."
   ]
  },
  {
   "cell_type": "code",
   "execution_count": 3,
   "id": "6687e307",
   "metadata": {},
   "outputs": [],
   "source": [
    "%load_ext autoreload  \n",
    "%autoreload 2"
   ]
  },
  {
   "cell_type": "markdown",
   "id": "b41ddc71",
   "metadata": {},
   "source": [
    "Now your imports update automatically when the file changes. No more restarting the kernel every time you tweak `utils.py`."
   ]
  },
  {
   "cell_type": "markdown",
   "id": "71aae01f",
   "metadata": {},
   "source": [
    "# **Export Notebooks**\n",
    "\n",
    "Sharing raw `.ipynb` files is rough for clients. Use nbconvert to export clean reports.\n",
    "\n",
    "```bash\n",
    "jupyter nbconvert my_notebook.ipynb --to slides\n",
    "jupyter nbconvert my_notebook.ipynb --to pdf\n",
    "jupyter nbconvert my_notebook.ipynb --to html\n",
    "```\n",
    "You get a polished HTML file, no setup needed on the other side. You can also convert to PDF or slides."
   ]
  }
 ],
 "metadata": {
  "kernelspec": {
   "display_name": "src-py3.13",
   "language": "python",
   "name": "python3"
  },
  "language_info": {
   "codemirror_mode": {
    "name": "ipython",
    "version": 3
   },
   "file_extension": ".py",
   "mimetype": "text/x-python",
   "name": "python",
   "nbconvert_exporter": "python",
   "pygments_lexer": "ipython3",
   "version": "3.13.0"
  }
 },
 "nbformat": 4,
 "nbformat_minor": 5
}
