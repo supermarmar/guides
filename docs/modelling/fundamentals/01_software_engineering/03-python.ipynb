{
 "cells": [
  {
   "cell_type": "markdown",
   "metadata": {},
   "source": [
    "# **Python** 🐍\n"
   ]
  },
  {
   "cell_type": "markdown",
   "metadata": {},
   "source": [
    "## **Lists**\n"
   ]
  },
  {
   "cell_type": "markdown",
   "metadata": {},
   "source": [
    "\n",
    "### **Adding Elements**\n",
    "- The `append` function in Python can only add one item at a time to a list. \n",
    "- However, we do have another list method to help prevent repetition, `extend`, which takes a list as its input to append to an existing list.  When we want to add multiple items to a list, we can use `+` to combine two lists (this is also known as concatenation). \n",
    "- The Python list method `insert` allows us to add an element to a specific index in a list. \n"
   ]
  },
  {
   "cell_type": "markdown",
   "metadata": {},
   "source": [
    "\n",
    "### **Removing Elements**\n",
    "- We can remove elements in a list using the `remove` method.\n",
    "- Python gives us a method to remove elements at a specific index using a method called `pop`. This method takes an optional single input, the index for the element you want to remove, otherwise it will always remove the last item if nothing is specified. The `pop` is unique in that it will return the value that was removed. If we wanted to know what element was deleted, simply assign a variable to the call of the `pop` method.\n"
   ]
  },
  {
   "cell_type": "markdown",
   "metadata": {},
   "source": [
    "\n",
    "### **Sorting Elements**\n",
    "- The `sort` method sorted our list of names in alphabetical order, `sort` also provides us the option to go in reverse. Instead of sorting in ascending order like we just saw, we can do so in descending order `names.sort(reverse=True)`.\n",
    "-  A second way of sorting a list in Python is to use the built-in function `sorted`. This function is different from the `sort` method in two ways:\n",
    "    - It comes before a list, instead of after as all built-in functions do.\n",
    "    - It generates a new list rather than modifying the one that already exists.\n",
    "\n",
    "    \n"
   ]
  },
  {
   "cell_type": "markdown",
   "metadata": {},
   "source": [
    "### **Indexing**\n",
    "- What if we want to select the last element of a list? We can use the index `-1` to select the last item of a list, even when we don’t know how many elements are in a list. \n",
    "- If we want to select the first n elements of a list, we could use the following `fruits[:n]`. \n",
    "- We can do something similar when we want to slice the last n elements in a list  `fruits[n:]`. \n",
    "\n"
   ]
  },
  {
   "cell_type": "markdown",
   "metadata": {},
   "source": [
    "### **2D Lists**\n",
    "We’ve seen that the items in a list can be numbers or strings. Lists can contain other lists! We will commonly refer to these as two-dimensional (2D) lists. Two-dimensional lists can be accessed like their one-dimensional counterpart. Instead of providing a single pair of brackets `[]` we will use an additional set for each dimension past the first. \n"
   ]
  },
  {
   "cell_type": "markdown",
   "metadata": {},
   "source": [
    "### **Range Function**\n",
    "The function `range` takes a single input and generates numbers starting at 0 and ending at the number before the input.  The `range` function is unique in that it creates a `range` object. It is not a typical list like the ones we have been working with. To use this object as a list, we must first convert it using another built-in function called `list`. If we use a third input, we can create a list that “skips” numbers. Note that, `range` objects do not need to be converted to lists to determine their length. "
   ]
  },
  {
   "cell_type": "code",
   "execution_count": 1,
   "metadata": {},
   "outputs": [
    {
     "data": {
      "text/plain": [
       "[0, 2, 4, 6, 8]"
      ]
     },
     "execution_count": 1,
     "metadata": {},
     "output_type": "execute_result"
    }
   ],
   "source": [
    "list(range(0, 10, 2))"
   ]
  },
  {
   "cell_type": "markdown",
   "metadata": {},
   "source": [
    "### **Iterating Lists**\n",
    "There’s a way of iterating through the entire list (or string) to determine if an element (or substring) is in a list (string). We can do this type of check more efficiently using `in`. `in` checks if one string is part of another string.\n"
   ]
  },
  {
   "cell_type": "code",
   "execution_count": 2,
   "metadata": {},
   "outputs": [
    {
     "name": "stdout",
     "output_type": "stream",
     "text": [
      "found\n"
     ]
    }
   ],
   "source": [
    "word = [\"a\", \"b\", \"c\", \"d\", \"e\"]\n",
    "letter = \"c\"\n",
    "if letter in word:\n",
    "    print(\"found\")"
   ]
  },
  {
   "cell_type": "markdown",
   "metadata": {},
   "source": [
    "## **Strings**\n",
    "\n",
    "A string can be thought of as a list of characters. Like any other list, each character in a string has an index. When we slice a string we are creating a substring - a brand new string that starts at (and includes) the first index and ends at (but excludes) the last index.\n",
    "\n",
    "Strings are immutable. This means that we cannot change a string once it is created. We can use it to create other strings, but we cannot change the string itself.\n"
   ]
  },
  {
   "cell_type": "code",
   "execution_count": 7,
   "metadata": {},
   "outputs": [],
   "source": [
    "word = \"I am a great coder\""
   ]
  },
  {
   "cell_type": "markdown",
   "metadata": {},
   "source": [
    "### **Capitalisation**\n",
    "- `lower` returns the string with all lowercase characters.\n",
    "- `upper` returns the string with all uppercase characters.\n",
    "- `title` returns the string in title case, which means the first letter of each word is capitalized.\n"
   ]
  },
  {
   "cell_type": "code",
   "execution_count": 10,
   "metadata": {},
   "outputs": [
    {
     "data": {
      "text/plain": [
       "'i am a great coder'"
      ]
     },
     "execution_count": 10,
     "metadata": {},
     "output_type": "execute_result"
    }
   ],
   "source": [
    "word.lower()"
   ]
  },
  {
   "cell_type": "code",
   "execution_count": 11,
   "metadata": {},
   "outputs": [
    {
     "data": {
      "text/plain": [
       "'I AM A GREAT CODER'"
      ]
     },
     "execution_count": 11,
     "metadata": {},
     "output_type": "execute_result"
    }
   ],
   "source": [
    "str.upper(word)"
   ]
  },
  {
   "cell_type": "code",
   "execution_count": 12,
   "metadata": {},
   "outputs": [
    {
     "data": {
      "text/plain": [
       "'I Am A Great Coder'"
      ]
     },
     "execution_count": 12,
     "metadata": {},
     "output_type": "execute_result"
    }
   ],
   "source": [
    "word.title()"
   ]
  },
  {
   "cell_type": "markdown",
   "metadata": {},
   "source": [
    "### **Splitting**\n",
    "`split` is performed on a string, takes one argument, and returns a list of substrings found between the given argument. If you do not provide an argument, it will default to splitting at spaces. We can also `split` using escape sequences. Escape sequences are used to indicate that we want to split by something in a string that is not necessarily a character. \n"
   ]
  },
  {
   "cell_type": "code",
   "execution_count": 13,
   "metadata": {},
   "outputs": [
    {
     "data": {
      "text/plain": [
       "['I', 'am', 'a', 'great', 'coder']"
      ]
     },
     "execution_count": 13,
     "metadata": {},
     "output_type": "execute_result"
    }
   ],
   "source": [
    "word.split()"
   ]
  },
  {
   "cell_type": "markdown",
   "metadata": {},
   "source": [
    "\n",
    "### **Concatenation**\n",
    "`join` is essentially the opposite of split; it joins a list of strings together with a given delimiter. "
   ]
  },
  {
   "cell_type": "code",
   "execution_count": 4,
   "metadata": {},
   "outputs": [
    {
     "data": {
      "text/plain": [
       "'charlie brown is a'"
      ]
     },
     "execution_count": 4,
     "metadata": {},
     "output_type": "execute_result"
    }
   ],
   "source": [
    "\" \".join(\n",
    "    [\n",
    "        \"charlie\",\n",
    "        \"brown\",\n",
    "        \"is\",\n",
    "        \"a\",\n",
    "    ]\n",
    ")"
   ]
  },
  {
   "cell_type": "markdown",
   "metadata": {},
   "source": [
    "Now this may seem a little weird, because with `split` the argument was the delimiter, but now the argument is the list. This is because `join` is still a string method, which means it has to act on a string. You can also join using escape sequences as the delimiter.\n"
   ]
  },
  {
   "cell_type": "markdown",
   "metadata": {},
   "source": [
    "### **Remove Whitespace**\n",
    "When working with strings that come from real data, you will often find that the strings aren’t super clean. You’ll find lots of extra whitespace, unnecessary line breaks, and rogue tabs. `strip` removes all whitespace characters from the beginning and end. You can also use it with a character argument, which will `strip` that character from either end of the string.\n"
   ]
  },
  {
   "cell_type": "code",
   "execution_count": 17,
   "metadata": {},
   "outputs": [
    {
     "data": {
      "text/plain": [
       "'I am a great coder'"
      ]
     },
     "execution_count": 17,
     "metadata": {},
     "output_type": "execute_result"
    }
   ],
   "source": [
    "word = \"I am a great coder    \"\n",
    "word.strip()"
   ]
  },
  {
   "cell_type": "markdown",
   "metadata": {},
   "source": [
    "### **Replacement**\n",
    "`replace` takes two arguments and replaces all instances of the first argument in a string with the second argument.\n"
   ]
  },
  {
   "cell_type": "code",
   "execution_count": 19,
   "metadata": {},
   "outputs": [
    {
     "data": {
      "text/plain": [
       "'I am an excellent coder    '"
      ]
     },
     "execution_count": 19,
     "metadata": {},
     "output_type": "execute_result"
    }
   ],
   "source": [
    "word.replace(\"a great\", \"an excellent\")"
   ]
  },
  {
   "cell_type": "markdown",
   "metadata": {},
   "source": [
    "### **Searching**\n",
    "Another interesting string method is `find` which takes a string as an argument and searching the string it was run on for that string. It then returns the first index value where that string is located.\n"
   ]
  },
  {
   "cell_type": "code",
   "execution_count": 23,
   "metadata": {},
   "outputs": [
    {
     "data": {
      "text/plain": [
       "2"
      ]
     },
     "execution_count": 23,
     "metadata": {},
     "output_type": "execute_result"
    }
   ],
   "source": [
    "word.find(\"am\")"
   ]
  },
  {
   "cell_type": "markdown",
   "metadata": {},
   "source": [
    "### **Formatting**\n",
    "\n",
    "`format` method uses placeholders `{}` and requires you to call it after the string, passing the values as arguments. It can be less readable in complex cases due to additional syntax.\n"
   ]
  },
  {
   "cell_type": "code",
   "execution_count": 24,
   "metadata": {},
   "outputs": [
    {
     "data": {
      "text/plain": [
       "'Alice is 10 years old.'"
      ]
     },
     "execution_count": 24,
     "metadata": {},
     "output_type": "execute_result"
    }
   ],
   "source": [
    "name = \"Alice\"\n",
    "age = 10\n",
    "\"{} is {} years old.\".format(name, age)"
   ]
  },
  {
   "cell_type": "markdown",
   "metadata": {},
   "source": [
    "Introduced in Python 3.6, f-strings are formatted by prefixing the string with an `f` or `F` and inserting variables directly within `{}` braces inside the string. They tend to be more concise and readable.\n"
   ]
  },
  {
   "cell_type": "code",
   "execution_count": 26,
   "metadata": {},
   "outputs": [
    {
     "data": {
      "text/plain": [
       "'Alice is 10 years old.'"
      ]
     },
     "execution_count": 26,
     "metadata": {},
     "output_type": "execute_result"
    }
   ],
   "source": [
    "f\"{name} is {age} years old.\""
   ]
  },
  {
   "cell_type": "markdown",
   "metadata": {},
   "source": [
    "### **Quoting**\n",
    "\n",
    "In Python, there is no difference between using `'` or `\"` to surround a string. This is because Python does not have a char type, and any characters are just strings with a length of 1.  When constructing a program that involves literal strings, it is a good practice to use either double or single quotations throughout the entire program. If the string contains single quotes, it can be more convenient to wrap the entire string in double quotes. And if the string contains double quotes, you might use single quotes to wrap the string instead.\n",
    "\n",
    "By using three quote-marks (`\"\"\"` or `'''`) instead of one, we tell the program that the string doesn’t end until the next triple-quote. This method is useful if the string being defined contains a lot of quotation marks and we want to be sure we don’t close it prematurely. Alternatively, the backslash character `\\` can be used to indicate that the string continues on the next line.\n",
    "\n",
    "However, using triple quote solution for comments is messier since it is meant for multiline strings or docstrings. It’s a good habit to get used to the escape character `\\` in this case.\n",
    " \n"
   ]
  },
  {
   "cell_type": "markdown",
   "metadata": {},
   "source": [
    "## **Tuples**\n",
    "\n",
    "Tuples are one of the built-in data structures in Python. Just like lists, tuples can hold a sequence of items and have a few key advantages:\n",
    "- Tuples are more memory efficient than lists\n",
    "- Tuples have a slightly higher time efficiency than lists\n",
    "\n",
    "This is mostly because tuples are immutable, meaning we can’t modify a tuple’s elements after creating one, and do not require an extra memory block like lists. Because of this, tuples are great to work with if you are working with data that won’t need to be changed in your code. In contrast to lists, tuples have a limited number of built-in functions as they are immutable. \n"
   ]
  },
  {
   "cell_type": "markdown",
   "metadata": {},
   "source": [
    "\n",
    "### **Zip Function**\n",
    "In Python, we have an assortment of built-in functions that allow us to build our programs faster and cleaner. One of those functions is `zip`. The `zip` function allows us to quickly combine associated datasets without needing to rely on multi-dimensional lists. While `zip` can work with many different scenarios, we are going to explore only a single one in this article. \n",
    "\n",
    "The `zip` function takes two (or more) lists as inputs and returns an object that contains a list of pairs. Each pair contains one element from each of the inputs. This zip object contains the location of this variable in our computer’s memory. Don’t worry though, it is fairly simple to convert this object into a useable list by using the built-in function `list`: \n",
    "\n"
   ]
  },
  {
   "cell_type": "code",
   "execution_count": 28,
   "metadata": {},
   "outputs": [
    {
     "data": {
      "text/plain": [
       "[('Jenny', 61), ('Alexus', 70), ('Sam', 67), ('Grace', 64)]"
      ]
     },
     "execution_count": 28,
     "metadata": {},
     "output_type": "execute_result"
    }
   ],
   "source": [
    "names = [\"Jenny\", \"Alexus\", \"Sam\", \"Grace\"]\n",
    "heights = [61, 70, 67, 64]\n",
    "list(zip(names, heights))"
   ]
  },
  {
   "cell_type": "markdown",
   "metadata": {},
   "source": [
    "Notice two things:\n",
    "1.\tOur data set has been converted from a zip memory object to an actual list (denoted by `[ ]`)\n",
    "2.\tOur inner lists don’t use square brackets `[ ]` around the values. This is because they have been converted into tuples (an immutable type of list).\n",
    " \n"
   ]
  },
  {
   "cell_type": "markdown",
   "metadata": {},
   "source": [
    "## **Dictionaries**\n",
    "\n",
    "A dictionary is an unordered set of `key:value` pairs. It provides us with a way to map pieces of data to each other so that we can quickly find values that are associated with one another. We can also mix and match key and value types. \n"
   ]
  },
  {
   "cell_type": "code",
   "execution_count": 1,
   "metadata": {},
   "outputs": [],
   "source": [
    "test_dict = {\"Mercedes\": 1980, \"Ferrari\": 1990, \"McLaren\": 2000}"
   ]
  },
  {
   "cell_type": "markdown",
   "metadata": {},
   "source": [
    "\n",
    "### **Adding Items**\n",
    "\n",
    "If we wanted to add multiple `key:value` pairs to a dictionary at once, we can use the update method.\n"
   ]
  },
  {
   "cell_type": "code",
   "execution_count": 3,
   "metadata": {},
   "outputs": [
    {
     "data": {
      "text/plain": [
       "{'Mercedes': 1980, 'Ferrari': 1990, 'McLaren': 2000, 'Red Bull': 2010}"
      ]
     },
     "execution_count": 3,
     "metadata": {},
     "output_type": "execute_result"
    }
   ],
   "source": [
    "test_dict.update({\"Red Bull\": 2010})\n",
    "test_dict"
   ]
  },
  {
   "cell_type": "markdown",
   "metadata": {},
   "source": [
    "### **Searching Values**\n",
    "\n",
    "Dictionaries have a `get` method to search for a value instead of the dict[key] notation we have been using. If the key you are trying to get does not exist, it will return `None` by default. You can also specify a value to return if the key doesn’t exist.\n"
   ]
  },
  {
   "cell_type": "code",
   "execution_count": 5,
   "metadata": {},
   "outputs": [
    {
     "data": {
      "text/plain": [
       "1980"
      ]
     },
     "execution_count": 5,
     "metadata": {},
     "output_type": "execute_result"
    }
   ],
   "source": [
    "test_dict[\"Mercedes\"]"
   ]
  },
  {
   "cell_type": "code",
   "execution_count": 6,
   "metadata": {},
   "outputs": [
    {
     "data": {
      "text/plain": [
       "1990"
      ]
     },
     "execution_count": 6,
     "metadata": {},
     "output_type": "execute_result"
    }
   ],
   "source": [
    "test_dict.get(\"Ferrari\")"
   ]
  },
  {
   "cell_type": "code",
   "execution_count": 7,
   "metadata": {},
   "outputs": [
    {
     "data": {
      "text/plain": [
       "'Team not found'"
      ]
     },
     "execution_count": 7,
     "metadata": {},
     "output_type": "execute_result"
    }
   ],
   "source": [
    "test_dict.get(\"Williams\", \"Team not found\")"
   ]
  },
  {
   "cell_type": "markdown",
   "metadata": {},
   "source": [
    "\n",
    "One way to avoid a Key error is to first check if the key exists in the dictionary\n"
   ]
  },
  {
   "cell_type": "code",
   "execution_count": 4,
   "metadata": {},
   "outputs": [
    {
     "name": "stdout",
     "output_type": "stream",
     "text": [
      "found\n"
     ]
    }
   ],
   "source": [
    "if \"Mercedes\" in test_dict:\n",
    "    print(\"found\")"
   ]
  },
  {
   "cell_type": "markdown",
   "metadata": {},
   "source": [
    "### **Removing Items**\n",
    "\n",
    "Sometimes we want to get a key and remove it from the dictionary. We can use `pop` to do this. `pop` works to delete items from a dictionary, when you know the key value. Just like with `get`, we can provide a default value to return if the key does not exist in the dictionary.\n"
   ]
  },
  {
   "cell_type": "code",
   "execution_count": 8,
   "metadata": {},
   "outputs": [
    {
     "data": {
      "text/plain": [
       "1980"
      ]
     },
     "execution_count": 8,
     "metadata": {},
     "output_type": "execute_result"
    }
   ],
   "source": [
    "test_dict.pop(\"Mercedes\")"
   ]
  },
  {
   "cell_type": "code",
   "execution_count": 9,
   "metadata": {},
   "outputs": [
    {
     "data": {
      "text/plain": [
       "'Team not found'"
      ]
     },
     "execution_count": 9,
     "metadata": {},
     "output_type": "execute_result"
    }
   ],
   "source": [
    "test_dict.pop(\"Williams\", \"Team not found\")"
   ]
  },
  {
   "cell_type": "markdown",
   "metadata": {},
   "source": [
    "### **Returning Keys, Values & Items**\n",
    "\n",
    "Dictionaries also have a `keys` method that returns a `dict_keys` object. A `dict_keys` object is a view object, which provides a look at the current state of the dictionary, without the user being able to modify anything. \n"
   ]
  },
  {
   "cell_type": "code",
   "execution_count": 10,
   "metadata": {},
   "outputs": [
    {
     "data": {
      "text/plain": [
       "dict_keys(['Ferrari', 'McLaren', 'Red Bull'])"
      ]
     },
     "execution_count": 10,
     "metadata": {},
     "output_type": "execute_result"
    }
   ],
   "source": [
    "test_dict.keys()"
   ]
  },
  {
   "cell_type": "code",
   "execution_count": 16,
   "metadata": {},
   "outputs": [
    {
     "name": "stdout",
     "output_type": "stream",
     "text": [
      "Ferrari\n",
      "McLaren\n",
      "Red Bull\n"
     ]
    }
   ],
   "source": [
    "for key in test_dict:\n",
    "    print(key)"
   ]
  },
  {
   "cell_type": "markdown",
   "metadata": {},
   "source": [
    "Dictionaries have a `values` method that returns a `dict_values` object (just like a `dict_keys` object but for values) with all of the values in the dictionary. It can be used in the place of a list for iteration. There is no built-in function to get all of the values as a list, but if you really want to, you can use the `list` method. \n"
   ]
  },
  {
   "cell_type": "code",
   "execution_count": 11,
   "metadata": {},
   "outputs": [
    {
     "data": {
      "text/plain": [
       "dict_values([1990, 2000, 2010])"
      ]
     },
     "execution_count": 11,
     "metadata": {},
     "output_type": "execute_result"
    }
   ],
   "source": [
    "test_dict.values()"
   ]
  },
  {
   "cell_type": "code",
   "execution_count": 15,
   "metadata": {},
   "outputs": [
    {
     "name": "stdout",
     "output_type": "stream",
     "text": [
      "1990\n",
      "2000\n",
      "2010\n"
     ]
    }
   ],
   "source": [
    "for value in test_dict.values():\n",
    "    print(value)"
   ]
  },
  {
   "cell_type": "markdown",
   "metadata": {},
   "source": [
    "You can get both the keys and the values with the `items` method. Like `keys` and `values`, it returns a `dict_list` object. Each element of the `dict_list` returned by items is a tuple consisting of (key, value).\n"
   ]
  },
  {
   "cell_type": "code",
   "execution_count": 12,
   "metadata": {},
   "outputs": [
    {
     "data": {
      "text/plain": [
       "dict_items([('Ferrari', 1990), ('McLaren', 2000), ('Red Bull', 2010)])"
      ]
     },
     "execution_count": 12,
     "metadata": {},
     "output_type": "execute_result"
    }
   ],
   "source": [
    "test_dict.items()"
   ]
  },
  {
   "cell_type": "code",
   "execution_count": 13,
   "metadata": {},
   "outputs": [
    {
     "name": "stdout",
     "output_type": "stream",
     "text": [
      "Ferrari 1990\n",
      "McLaren 2000\n",
      "Red Bull 2010\n"
     ]
    }
   ],
   "source": [
    "for key, value in test_dict.items():\n",
    "    print(key, value)"
   ]
  },
  {
   "cell_type": "markdown",
   "metadata": {},
   "source": [
    "### **JSON Files**\n",
    "\n",
    "JSON, an abbreviation of JavaScript Object Notation, is a file format inspired by the programming language JavaScript. JSON’s format is endearingly similar to Python dictionary syntax, and so JSON files might be easy to read from a Python developer standpoint. Nonetheless, Python comes with a JSON package that will help us parse JSON files into actual Python dictionaries.\n"
   ]
  },
  {
   "cell_type": "code",
   "execution_count": null,
   "metadata": {},
   "outputs": [],
   "source": [
    "import json\n",
    "\n",
    "with open(\"message.json\") as message_json:\n",
    "    message = json.load(message_json)"
   ]
  },
  {
   "cell_type": "markdown",
   "metadata": {},
   "source": [
    "## **Loops**\n",
    "\n",
    "Programming best practices suggest we make our temporary variables as descriptive as possible. Since each iteration (step) of our loop is accessing an ingredient, it makes more sense to call our temporary variable `ingredient` rather than `i` or `item`.\n"
   ]
  },
  {
   "cell_type": "markdown",
   "metadata": {},
   "source": [
    "### **Loop Control: Break**\n",
    "\n",
    "Thankfully you can stop iteration from inside the loop by using `break` loop control statement. When the program hits a `break` statement it immediately terminates a loop. \n"
   ]
  },
  {
   "cell_type": "code",
   "execution_count": 17,
   "metadata": {},
   "outputs": [
    {
     "name": "stdout",
     "output_type": "stream",
     "text": [
      "blue shirt\n",
      "knit dress\n"
     ]
    }
   ],
   "source": [
    "items_on_sale = [\"blue shirt\", \"knit dress\", \"red headband\", \"dinosaur onesie\"]\n",
    "\n",
    "for item in items_on_sale:\n",
    "    print(item)\n",
    "    if item == \"knit dress\":\n",
    "        break"
   ]
  },
  {
   "cell_type": "markdown",
   "metadata": {},
   "source": [
    "### **Loop Control: Continue**\n",
    "\n",
    "While the `break` control statement will come in handy, there are other situations where we don’t want to end the loop entirely. What if we only want to skip the current iteration of the loop? What if we want to print out all of the numbers in a list, but only if they are positive integers. We can use another common loop control statement called `continue`.\n",
    "\n"
   ]
  },
  {
   "cell_type": "code",
   "execution_count": 18,
   "metadata": {},
   "outputs": [
    {
     "name": "stdout",
     "output_type": "stream",
     "text": [
      "1\n",
      "2\n",
      "4\n",
      "5\n",
      "2\n"
     ]
    }
   ],
   "source": [
    "big_number_list = [1, 2, -1, 4, -5, 5, 2, -9]\n",
    "\n",
    "for i in big_number_list:\n",
    "    if i <= 0:\n",
    "        continue\n",
    "    print(i)"
   ]
  },
  {
   "cell_type": "markdown",
   "metadata": {},
   "source": [
    "### **List Comprehensions**\n",
    "```python\n",
    "new_list = [<expression> for <element> in <collection>]\n",
    "```\n"
   ]
  },
  {
   "cell_type": "markdown",
   "metadata": {},
   "source": [
    "List comprehensions are very flexible. We even can expand our examples to incorporate conditional logic using an if-stamement.\n",
    "\n",
    "```python\n",
    "new_list = [<expression> for <element> in <collection> if <condition>]\n",
    "```\n",
    "\n",
    "We can also use if-else conditions directly in our comprehensions. For example, let’s say we wanted to double every negative number but triple all positive numbers. Here is what our code might look like:\n",
    "\n",
    "```python\n",
    "new_list = [<expression_1> if <condition> else <expression_2> for <element> in <collection>]\n",
    "```\n"
   ]
  },
  {
   "cell_type": "markdown",
   "metadata": {},
   "source": [
    "\n",
    "The placement of the conditional expression within the comprehension is dependent on whether or not an else clause is used. When an if statement is used without else, the conditional must go after for <element> in <collection>. If the conditional expression includes an else clause, the conditional must go before for. Attempting to write the expressions in any other order will result in a `SyntaxError`.\n"
   ]
  },
  {
   "cell_type": "markdown",
   "metadata": {},
   "source": [
    "\n",
    "### **Dictionary Comprehensions**\n",
    "\n",
    "Python allows you to create a dictionary using a dictionary comprehension using two lists. Remember that `zip` combines two lists into an iterator of tuples with the list elements paired together. \n"
   ]
  },
  {
   "cell_type": "code",
   "execution_count": 19,
   "metadata": {},
   "outputs": [
    {
     "data": {
      "text/plain": [
       "{'Jenny': 61, 'Alexus': 70, 'Sam': 67, 'Grace': 64}"
      ]
     },
     "execution_count": 19,
     "metadata": {},
     "output_type": "execute_result"
    }
   ],
   "source": [
    "name = [\"Jenny\", \"Alexus\", \"Sam\", \"Grace\"]\n",
    "heights = [61, 70, 67, 64]\n",
    "students = {key: value for key, value in zip(name, heights)}\n",
    "students"
   ]
  },
  {
   "cell_type": "markdown",
   "metadata": {},
   "source": [
    "## **Match Statements**\n",
    "We use the match, case, and default keywords to define match-case statements in Python. It has the following syntax.\n",
    "\n"
   ]
  },
  {
   "cell_type": "code",
   "execution_count": 20,
   "metadata": {},
   "outputs": [
    {
     "name": "stdout",
     "output_type": "stream",
     "text": [
      "Get off my computer Dave!\n"
     ]
    }
   ],
   "source": [
    "user_name = \"Dave\"\n",
    "match user_name:\n",
    "    case \"Dave\":\n",
    "        print(\"Get off my computer Dave!\")\n",
    "    case \"angela_catlady_87\":\n",
    "        print(\"I know it is you, Dave! Go away!\")\n",
    "    case \"Cockamamie\":\n",
    "        print(\"Access Granted.\")\n",
    "    case default:\n",
    "        print(\"Username not recognized.\")"
   ]
  },
  {
   "cell_type": "markdown",
   "metadata": {},
   "source": [
    "We can use match-case statements for the following use cases:\n",
    "- Match-case statements can be an efficient alternative to if-elif-else statements. When a variable or expression can take multiple values, and we need to perform a different action for each possible value, we can use match statements.\n",
    "- A match-case block can be used for other tasks, like structural pattern matching, in addition to replacing if-else blocks. This helps us check for different conditions on Python objects like lists, tuples, and strings.\n",
    "- Match-case statements are more readable compared to if-elif-else statements. Hence, in cases where we must check for many values that an expression or variable can take, we should use match-case statements.\n"
   ]
  },
  {
   "cell_type": "markdown",
   "metadata": {},
   "source": [
    "## **Functions**\n"
   ]
  },
  {
   "cell_type": "markdown",
   "metadata": {},
   "source": [
    "### **First Order Functions**\n",
    "\n",
    "There are two distinct categories for functions in the world of Python. What we have been writing so far in our exercises are called User Defined Functions. There is another category called built-in functions - functions that come built into Python for us to use. Remember when we were using `print` or `str`? Both functions are built into the language for us, which means we have been using built-in functions all along.\n",
    "\n",
    "Sometimes we may want to return more than one value from a function. We can return several values by separating them with a comma. We can get our returned function values by assigning them to variables when we call the function:\n",
    "\n",
    "```python\n",
    "Monday, Tuesday, Wednesday = weather_report(weather_data)\n",
    "```\n"
   ]
  },
  {
   "cell_type": "markdown",
   "metadata": {},
   "source": [
    "### **Arguments**\n",
    "To summarize, here is a quick breakdown of the distinction between a parameter and an argument:\n",
    "- The parameter is the name defined in the parenthesis of the function and can be used in the function body.\n",
    "- The argument is the data that is passed in when we call the function, which is then assigned to the parameter name.\n",
    "\n",
    "In Python, there are 3 different types of arguments we can give a function.\n",
    "- **Positional arguments**: arguments that can be called by their position in the function definition. \n",
    "```python\n",
    "    calculate_taxi_price(100, 10, 5)\n",
    "```\n",
    "- **Keyword arguments**: arguments that can be called by their name.\n",
    "```python\n",
    "    calculate_taxi_price (rate=0.5, discount=10, miles_to_travel=100)\n",
    "```\n",
    "- Default arguments: arguments that are given default values.\n",
    "```python\n",
    "    # Using the default value of 10 for discount.\n",
    "    calculate_taxi_price (10, 0.5)\n",
    "```\n"
   ]
  },
  {
   "cell_type": "markdown",
   "metadata": {},
   "source": [
    "#### **Mutable Objects**\n",
    "A mutable object refers to various containers in Python that are intended to be changed. A list for example has `append` and `remove` operations that change the elements of the list. Sets and dictionaries are also two other mutable objects in Python as they can be changed on the fly.\n",
    "\n",
    "It might be helpful to note some of the objects in Python that are not mutable (and therefore OK to use as default arguments). int, float, and other numbers can’t be mutated (arithmetic operations will return a new number). Tuples are a kind of immutable list, and strings are also immutable since operations that update a string will all return a completely new string. \n",
    "If we want an empty list as a potential default argument value, we can use `None` as a special value to indicate we did not receive anything. \n"
   ]
  },
  {
   "cell_type": "markdown",
   "metadata": {},
   "source": [
    "\n",
    "#### **Args**\n",
    "There is an additional operator called the unpacking operator `*`. The unpacking operator allows us to give our functions a variable number of arguments by performing what’s known as positional argument packing.\n"
   ]
  },
  {
   "cell_type": "code",
   "execution_count": 22,
   "metadata": {},
   "outputs": [
    {
     "name": "stdout",
     "output_type": "stream",
     "text": [
      "(1, 2, 3)\n"
     ]
    }
   ],
   "source": [
    "def my_function(*args):\n",
    "    print(args)\n",
    "\n",
    "\n",
    "my_function(1, 2, 3)"
   ]
  },
  {
   "cell_type": "markdown",
   "metadata": {},
   "source": [
    "\n",
    "Utilizing iteration and other positional arguments are two common ways we can increase the utility of our functions when using the unpacking operator `*`. Using `*args` in function definitions can be especially helpful in data science for making functions more flexible and reusable. Here’s how and when to use it in a data science context:\n",
    "\n",
    "1.\t**Custom Aggregations and Calculations**: You might use `*args` in a function to allow for various metrics or operations to be applied to data. This is useful when creating custom summary statistics or aggregations that may need to adjust based on different datasets or analyses.\n",
    "\n",
    "```python\n",
    "    import pandas as pd\n",
    "\n",
    "    df = pd.read_csv(\"file_name.csv\")\n",
    "\n",
    "\n",
    "    def calculate_metrics(data, *metrics):\n",
    "        results = {}\n",
    "        for metric in metrics:\n",
    "            if metric == \"mean\":\n",
    "                results[\"mean\"] = data.mean()\n",
    "            elif metric == \"median\":\n",
    "                results[\"median\"] = data.median()\n",
    "            elif metric == \"std\":\n",
    "                results[\"std\"] = data.std()\n",
    "        return results\n",
    "\n",
    "\n",
    "    # Usage\n",
    "    calculate_metrics(df[\"column_name\"], \"mean\", \"std\")\n",
    "```"
   ]
  },
  {
   "cell_type": "markdown",
   "metadata": {},
   "source": [
    "\n",
    "2.\t**Data Preprocessing Pipelines**: When creating preprocessing functions for data pipelines, you may need to apply a set of transformations to different parts of the data. *args lets you create a flexible pipeline, making it easy to add or remove steps.\n",
    "\n",
    "```python\n",
    "    def preprocess_data(data, *functions):\n",
    "        for func in functions:\n",
    "            data = func(data)\n",
    "        return data\n",
    "\n",
    "    # Usage\n",
    "    preprocess_data(df, fill_missing_values, normalize, encode_categorical)\n",
    "```"
   ]
  },
  {
   "cell_type": "markdown",
   "metadata": {},
   "source": [
    "\n",
    "3.\t**Machine Learning Models with Custom Features**: In situations where you’re dynamically selecting or engineering features for a machine learning model, *args allows you to pass in feature names or transformation functions that may change between experiments.\n",
    "\n",
    "```python\n",
    "    def train_model(data, target, *features):\n",
    "        X = data[list(features)]\n",
    "        y = data[target]\n",
    "        # Train model here\n",
    "        # ...\n",
    "        return model\n",
    "        \n",
    "    # Usage\n",
    "    train_model(df, \"target_column\", \"feature1\", \"feature2\", \"feature3\")\n",
    "```\n"
   ]
  },
  {
   "cell_type": "markdown",
   "metadata": {},
   "source": [
    "#### **Kwargs**\n",
    "Python doesn’t stop at allowing us to accept unlimited positional arguments; it also gives us the power to define functions with unlimited keyword arguments. The syntax is very similar but uses two asterisks `**` instead of one. We typically call these `kwargs` as a shorthand for keyword arguments.\n"
   ]
  },
  {
   "cell_type": "code",
   "execution_count": null,
   "metadata": {},
   "outputs": [],
   "source": [
    "def arbitrary_keyword_args(**kwargs):\n",
    "    print(kwargs)\n",
    "    # See if there's an 'anything_goes' keyword arg and print it\n",
    "    print(kwargs.get(\"anything_goes\"))\n",
    "\n",
    "\n",
    "arbitrary_keyword_args(this_arg=\"wowzers\", anything_goes=101)"
   ]
  },
  {
   "cell_type": "markdown",
   "metadata": {},
   "source": [
    "`**kwargs` takes the form of a dictionary with all the keyword argument values passed to arbitrary_keyword_args. Since `**kwargs` is a dictionary, we can use standard dictionary functions like get to retrieve values. Since `**` generates a standard dictionary, we can use iteration just like we did earlier by taking advantage of the `values` method. \n",
    "We can also combine our use of `**` with regular positional arguments. However, Python requires that all positional arguments come first in our function definition. So far we have seen how both `*args` and `**kwargs` can be combined with standard arguments. We may want to use all three types together. Thankfully Python allows us to do so if we follow the correct order in our function definition. The order is as follows:\n",
    "1.\tStandard positional arguments\n",
    "2.\t`*args`\n",
    "3.\tStandard keyword arguments\n",
    "4.\t`**kwargs`\n",
    "\n",
    "As an example, this is what our function definition might look like if we wanted a function that printed animals utilizing all three types:\n"
   ]
  },
  {
   "cell_type": "code",
   "execution_count": 23,
   "metadata": {},
   "outputs": [
    {
     "name": "stdout",
     "output_type": "stream",
     "text": [
      "Snake Fish\n",
      "('Guinea Pig', 'Owl')\n",
      "Cat\n",
      "{'animal5': 'Dog'}\n"
     ]
    }
   ],
   "source": [
    "def print_animals(animal1, animal2, *args, animal4, **kwargs):\n",
    "    print(animal1, animal2)\n",
    "    print(args)\n",
    "    print(animal4)\n",
    "    print(kwargs)\n",
    "\n",
    "\n",
    "print_animals(\"Snake\", \"Fish\", \"Guinea Pig\", \"Owl\", animal4=\"Cat\", animal5=\"Dog\")"
   ]
  },
  {
   "cell_type": "markdown",
   "metadata": {},
   "source": [
    "#### **Unpacking** \n",
    "Not only can we use the operators when defining parameters, but we can also use them in function calls. By using the unpacking operator `*` we are spreading the contents of our list into the individual arguments in our function definition. We are immediately saved the hassle of writing loops and are given the flexibility to use any iterable with three elements.\n"
   ]
  },
  {
   "cell_type": "code",
   "execution_count": 24,
   "metadata": {},
   "outputs": [
    {
     "name": "stdout",
     "output_type": "stream",
     "text": [
      "18\n"
     ]
    }
   ],
   "source": [
    "my_num_list = [3, 6, 9]\n",
    "\n",
    "\n",
    "def sum(num1, num2, num3):\n",
    "    print(num1 + num2 + num3)\n",
    "\n",
    "\n",
    "sum(*my_num_list)"
   ]
  },
  {
   "cell_type": "markdown",
   "metadata": {},
   "source": [
    "This way of using the `*` in a function call also applies to our keyword operator `**`. If the keywords match the function parameter names, we can accomplish the same goal:\n"
   ]
  },
  {
   "cell_type": "code",
   "execution_count": 25,
   "metadata": {},
   "outputs": [
    {
     "name": "stdout",
     "output_type": "stream",
     "text": [
      "18\n"
     ]
    }
   ],
   "source": [
    "numbers = {\"num1\": 3, \"num2\": 6, \"num3\": 9}\n",
    "\n",
    "\n",
    "def sum(num1, num2, num3):\n",
    "    print(num1 + num2 + num3)\n",
    "\n",
    "\n",
    "sum(**numbers)"
   ]
  },
  {
   "cell_type": "markdown",
   "metadata": {},
   "source": [
    "We can even use the operators inside of built-in functions. For example, instead of manually providing the `range` built-in function with a start and stop value, we can unpack a list directly into it.\n"
   ]
  },
  {
   "cell_type": "markdown",
   "metadata": {},
   "source": [
    "### **Higher Order Functions**\n",
    "In Python, all functions, including the ones we’ve written, are classified as first-class objects (sometimes also called first-class citizens or first-class functions). This means they have four important characteristics:\n",
    "- First-class objects can be stored as variables.\n",
    "- First-class objects can be passed as arguments to a function.\n",
    "- First-class objects can be returned by a function.\n",
    "- First-class objects can be stored in data structures (e.g., lists, dictionaries, etc.).\n"
   ]
  },
  {
   "cell_type": "code",
   "execution_count": 26,
   "metadata": {},
   "outputs": [],
   "source": [
    "# Here, we assign a function to a variable\n",
    "uppercase = str.upper\n",
    "\n",
    "# And then call it\n",
    "big_pie = uppercase(\"pumpkinpie\")\n",
    "\n",
    "# Here we store two functions in a list\n",
    "string_manipulation_functions = [str.upper, str.lower]"
   ]
  },
  {
   "cell_type": "markdown",
   "metadata": {},
   "source": [
    "\n",
    "But the fact that functions are first-class objects in Python, and therefore have all the flexibility of objects, enables us to write even more powerful types of functions called higher-order functions.\n",
    "Higher-order functions operate on other functions via arguments or via return values. This means higher-order functions do one or both of the following:\n",
    "- Accept a function as an argument\n",
    "- Have a return value that is a function\n"
   ]
  },
  {
   "cell_type": "markdown",
   "metadata": {},
   "source": [
    "#### **Map Function**\n",
    "\n",
    "The `map` higher order function is a built-in function in Python that applies a given function to each item in an iterable (like a list, tuple, or string) and returns a new iterable `map` object as a result. We will usually convert the map into a list to enable viewing and further use.\n",
    "\n",
    "```python\n",
    "map(function, iterable, [iterable2, iterable3, ...]) \n",
    "```\n",
    "- `function` is the function to apply to each item in the iterable(s)\n",
    "- `iterable` is the iterable (or optionally multiple iterables) to process\n",
    "\n",
    "Use `map` when:\n",
    "- We need to apply a function to every item in an iterable.\n",
    "- We want to transform data without explicitly writing a for loop.\n",
    "- We’re working with large datasets and want to avoid creating intermediate lists.\n",
    "\n",
    "While `map` is powerful, there also are alternatives:\n",
    "1.\tList Comprehensions: Often more readable for simple operations.\n",
    "2.\tGenerator Expressions: Similar to list comprehensions but return an iterator.\n",
    "3.\tFor Loops: More verbose but sometimes clearer for complex operations.\n",
    " \n"
   ]
  },
  {
   "cell_type": "markdown",
   "metadata": {},
   "source": [
    "### **Lambda Functions**\n",
    "Python is known for its simplicity and readability, and one of its powerful features is the ability to create functions. While you’re probably familiar with defining functions using the `def` keyword, Python also offers a more concise way to create small, anonymous functions called `lambda` functions.\n",
    "\n",
    "Lambda functions, also known as anonymous functions, are small, inline functions that can have any number of arguments but only one expression. They are defined using the `lambda` keyword and are typically used for short, simple operations.\n",
    "Unlike regular functions defined with `def`, `lambda` functions don’t have a name and are usually used in situations where you need a simple function for a short period of time.\n",
    "\n",
    "Let’s compare a regular function with a lambda function:\n"
   ]
  },
  {
   "cell_type": "code",
   "execution_count": null,
   "metadata": {},
   "outputs": [
    {
     "data": {
      "text/plain": [
       "16"
      ]
     },
     "execution_count": 27,
     "metadata": {},
     "output_type": "execute_result"
    }
   ],
   "source": [
    "# Regular function\n",
    "\n",
    "\n",
    "def square(x, y):\n",
    "    return x**y\n",
    "\n",
    "\n",
    "# Lambda function\n",
    "square_lambda = lambda x, y: x**y\n",
    "square_lambda(4, 2)"
   ]
  },
  {
   "cell_type": "markdown",
   "metadata": {},
   "source": [
    "\n",
    "The basic syntax of a lambda function is: \n",
    "\n",
    "```python\n",
    "lambda [arguments]: [expression] \n",
    "```\n",
    "\n",
    "Lambda functions are most commonly used as arguments to higher-order functions such as `map`, `filter`, and `sorted`. Higher-order functions are functions that can accept other functions, such as lambda functions, as arguments. \n"
   ]
  },
  {
   "cell_type": "markdown",
   "metadata": {},
   "source": [
    "\n",
    "#### **Map Function**\n",
    "The map function applies the given `lambda` function to each item in a list:\n"
   ]
  },
  {
   "cell_type": "code",
   "execution_count": 28,
   "metadata": {},
   "outputs": [
    {
     "name": "stdout",
     "output_type": "stream",
     "text": [
      "[1, 4, 9, 16, 25]\n"
     ]
    }
   ],
   "source": [
    "numbers = [1, 2, 3, 4, 5]\n",
    "squared = list(map(lambda x: x**2, numbers))\n",
    "print(squared)"
   ]
  },
  {
   "cell_type": "markdown",
   "metadata": {},
   "source": [
    "\n",
    "\n",
    "In this example, the lambda function `lambda x: x ** 2` squares each number in the numbers list. The `map` function applies this `lambda` to each element, resulting in a new list where every number is squared.\n"
   ]
  },
  {
   "cell_type": "markdown",
   "metadata": {},
   "source": [
    "#### **Filter Function**\n",
    "The filter function creates a new list of elements for which the given lambda function returns True:\n"
   ]
  },
  {
   "cell_type": "code",
   "execution_count": 29,
   "metadata": {},
   "outputs": [
    {
     "name": "stdout",
     "output_type": "stream",
     "text": [
      "[2, 4, 6, 8, 10]\n"
     ]
    }
   ],
   "source": [
    "numbers = [1, 2, 3, 4, 5, 6, 7, 8, 9, 10]\n",
    "even_numbers = list(filter(lambda x: x % 2 == 0, numbers))\n",
    "print(even_numbers)  # Output: [2, 4, 6, 8, 10]"
   ]
  },
  {
   "cell_type": "markdown",
   "metadata": {},
   "source": [
    "\n",
    "\n",
    "Here, the lambda function `lambda x: x % 2 == 0` checks if a number is even. The filter function uses this lambda to keep only the even numbers from the original list, creating a new list containing only even numbers.\n"
   ]
  },
  {
   "cell_type": "markdown",
   "metadata": {},
   "source": [
    "#### **Reduce Function**\n",
    "In contrast to the `map` and `filter` functions that are always available, the `reduce` function must be imported from the `functools` module to use it. Rather than returning a reduce object as might be expected after learning about `map()` and `filter()`, `reduce()` returns a single value. To get to this single value, `reduce()` cumulatively applies a passed function to each sequential pair of elements in an iterable.\n"
   ]
  },
  {
   "cell_type": "code",
   "execution_count": 30,
   "metadata": {},
   "outputs": [
    {
     "name": "stdout",
     "output_type": "stream",
     "text": [
      "1944\n"
     ]
    }
   ],
   "source": [
    "from functools import reduce\n",
    "\n",
    "int_list = [3, 6, 9, 12]\n",
    "reduced_int_list = reduce(lambda x, y: x * y, int_list)\n",
    "\n",
    "print(reduced_int_list)"
   ]
  },
  {
   "cell_type": "markdown",
   "metadata": {},
   "source": [
    "#### **Sorted Function**\n",
    "The sorted function can use a lambda function as a key for custom sorting:\n"
   ]
  },
  {
   "cell_type": "code",
   "execution_count": 31,
   "metadata": {},
   "outputs": [
    {
     "name": "stdout",
     "output_type": "stream",
     "text": [
      "[('Bob', 'B', 12), ('Alice', 'A', 15), ('Charlie', 'A', 20)]\n"
     ]
    }
   ],
   "source": [
    "students = [(\"Alice\", \"A\", 15), (\"Bob\", \"B\", 12), (\"Charlie\", \"A\", 20)]\n",
    "sorted_students = sorted(students, key=lambda x: x[2])\n",
    "print(sorted_students)"
   ]
  },
  {
   "cell_type": "markdown",
   "metadata": {},
   "source": [
    "\n",
    "In this case, the lambda function  `lambda x: x[2]` is used as the key for sorting. It tells the sorted function to use the third element (index 2) of each tuple for comparison. As a result, the list of students is sorted based on their age (the third element in each tuple).\n"
   ]
  },
  {
   "cell_type": "markdown",
   "metadata": {},
   "source": [
    "### **Decorators**\n",
    "In Python, decorators are a way to modify or enhance the behaviour of functions or classes without changing their actual code. They allow us to \"wrap\" another function, adding functionality before or after the wrapped function runs. Decorators are commonly used for logging, timing, access control, and more, making them useful in data science and application development. \n",
    "\n",
    "A decorator is essentially a function that takes another function as an argument and returns a new function that enhances or modifies the original one. They are applied to functions using the `@decorator_name` syntax. \n",
    "\n",
    " \n"
   ]
  },
  {
   "cell_type": "code",
   "execution_count": 34,
   "metadata": {},
   "outputs": [],
   "source": [
    "def log_execution(func):\n",
    "    def wrapper(*args, **kwargs):\n",
    "        print(f\"Executing {func.__name__} with arguments {args} and {kwargs}\")\n",
    "        result = func(*args, **kwargs)\n",
    "        print(f\"Finished executing: {func.__name__}\")\n",
    "        return result\n",
    "\n",
    "    return wrapper"
   ]
  },
  {
   "cell_type": "code",
   "execution_count": 35,
   "metadata": {},
   "outputs": [
    {
     "name": "stdout",
     "output_type": "stream",
     "text": [
      "Executing add with arguments (3, 5) and {}\n",
      "Finished executing: add\n"
     ]
    },
    {
     "data": {
      "text/plain": [
       "8"
      ]
     },
     "execution_count": 35,
     "metadata": {},
     "output_type": "execute_result"
    }
   ],
   "source": [
    "# Using the decorator\n",
    "\n",
    "\n",
    "@log_execution\n",
    "def add(a, b):\n",
    "    return a + b\n",
    "\n",
    "\n",
    "# Calling the decorated function\n",
    "add(3, 5)"
   ]
  },
  {
   "cell_type": "markdown",
   "metadata": {},
   "source": [
    "### **functools**\n",
    "\n",
    "As we build more complex programs in Python, we tend to repeat ourselves while coding, like calling the same function over and over again with the same input and performing the same computation. That happens because Python doesn’t remember what it did before, so it performs the same task again, unknowingly wasting our computing resources.\n",
    "\n",
    "That’s where Python’s `functools` module comes in. It’s packed with tools that help you reuse code logic without rewriting it, making your functions more readable, concise, and efficient."
   ]
  },
  {
   "cell_type": "markdown",
   "metadata": {},
   "source": [
    "#### **Combine Items in One Value**\n",
    "\n",
    "`reduce()` takes a list (or any iterable) and reduces it to a single value by applying a function you provide. Let’s say you want to multiply all numbers in a list:"
   ]
  },
  {
   "cell_type": "code",
   "execution_count": 1,
   "metadata": {},
   "outputs": [
    {
     "name": "stdout",
     "output_type": "stream",
     "text": [
      "24\n"
     ]
    }
   ],
   "source": [
    "from functools import reduce\n",
    "\n",
    "numbers = [2, 3, 4]\n",
    "\n",
    "result = reduce(lambda x, y: x * y, numbers)\n",
    "\n",
    "print(result)  # Output: 24"
   ]
  },
  {
   "cell_type": "markdown",
   "metadata": {},
   "source": [
    "In this code, `reduce()` applies the lambda function repeatedly, multiplying each pair of numbers until only one value remains.\n",
    "\n",
    "Why not just use a loop? You could use a loop, yes. But `reduce()` lets you express the logic in one clean line. It also encourages a functional style of coding, which can make your code easier to understand."
   ]
  },
  {
   "cell_type": "markdown",
   "metadata": {},
   "source": [
    "#### **Pre-Fill Function Arguments**\n",
    "\n",
    "Want to fix some arguments of a function while leaving others flexible? That’s exactly what `partial()` from the Python’s functools module does. It creates a “shorter” version of your function. This makes your code more reusable, especially when working with `map`, `filter`, and callbacks.\n",
    "\n",
    "Let’s say you want to create custom functions for squaring and cubing numbers without rewriting the logic each time:"
   ]
  },
  {
   "cell_type": "code",
   "execution_count": 2,
   "metadata": {},
   "outputs": [
    {
     "name": "stdout",
     "output_type": "stream",
     "text": [
      "25\n",
      "8\n"
     ]
    }
   ],
   "source": [
    "from functools import partial\n",
    "\n",
    "\n",
    "def power(base, exponent):\n",
    "    return base**exponent\n",
    "\n",
    "\n",
    "square = partial(power, exponent=2)\n",
    "cube = partial(power, exponent=3)\n",
    "\n",
    "print(square(5))  # Output: 25\n",
    "print(cube(2))  # Output: 8"
   ]
  },
  {
   "cell_type": "markdown",
   "metadata": {},
   "source": [
    "In this example code, `partial(power, exponent=2)` creates a new function called square where the exponent is fixed at 2. Similarly, cube is a version of power with `exponent=3`.\n",
    "\n",
    "When you call `square(5)`, it runs `power(5, 2)`, and for `cube(2)`, it runs `power(2, 3)`."
   ]
  },
  {
   "cell_type": "markdown",
   "metadata": {},
   "source": [
    "## **Classes**\n",
    "\n",
    "A class is a template for a data type. It describes the kinds of information that class will hold and how a programmer will interact with that data. A class must be instantiated. In other words, we must create an instance of the class, in order to breathe life into the schematic. Instantiating a class looks a lot like calling a function. \n"
   ]
  },
  {
   "cell_type": "code",
   "execution_count": 36,
   "metadata": {},
   "outputs": [],
   "source": [
    "class CoolClass:\n",
    "    pass\n",
    "\n",
    "\n",
    "cool_instance = CoolClass()"
   ]
  },
  {
   "cell_type": "markdown",
   "metadata": {},
   "source": [
    "A class instance is also called an object. The pattern of defining classes and creating objects to represent the responsibilities of a program is known as Object Oriented Programming (OOP). OOP is a software development paradigm which encourages sculpting desired entities with properties and methods in named classes to create applications.\n"
   ]
  },
  {
   "cell_type": "markdown",
   "metadata": {},
   "source": [
    "### **Methods**\n",
    "Methods are functions that are defined as part of a class. The first argument in a method is always the object that is calling the method. Convention recommends that we name this first argument `self`. Methods always have at least this one argument. Methods can also take more arguments than just `self`. \n"
   ]
  },
  {
   "cell_type": "code",
   "execution_count": 37,
   "metadata": {},
   "outputs": [],
   "source": [
    "class DistanceConverter:\n",
    "\n",
    "    kms_in_a_mile = 1.609\n",
    "\n",
    "    def how_many_kms(self, miles):\n",
    "        return miles * self.kms_in_a_mile"
   ]
  },
  {
   "cell_type": "markdown",
   "metadata": {},
   "source": [
    "### **Dunder Methods**\n",
    "There are several methods that we can define in a Python class that have special behavior because they behave differently from regular methods. Another popular term is dunder methods since they use a special syntax to perform class-specific operations in Python. So-named because they have two underscores (double-underscore abbreviated to “dunder”) on either side of them.\n",
    "\n",
    "#### **Constructors**\n",
    "The first dunder method we’re going to use is the `__init__` method (note the two underscores before and after the word “init”). This method is used to initialize a newly created object. It is called every time the class is instantiated.\n",
    "Methods that are used to prepare an object being instantiated are called constructors. The word “constructor” is used to describe similar features in other object-oriented programming languages, but programmers who refer to a constructor in Python are usually talking about the `__init__` method. We can pass parameters to the `__init__` function.\n",
    "\n",
    "This method should either have no return statement at all (the most common and preferred usage) or it may have a return statement that returns the value `None`.\n"
   ]
  },
  {
   "cell_type": "markdown",
   "metadata": {},
   "source": [
    "#### **String Representation**\n",
    "One of the first things we learn as programmers is how to print out information that we need for debugging. Unfortunately, when we print out an object, we get a default representation that seems fairly useless. There is a method we can use to tell Python what we want the string representation of the class to be. `__repr__` can only have one parameter, `self`, and must return a string.\n",
    "\n"
   ]
  },
  {
   "cell_type": "code",
   "execution_count": 38,
   "metadata": {},
   "outputs": [
    {
     "name": "stdout",
     "output_type": "stream",
     "text": [
      "Argus Filch\n"
     ]
    }
   ],
   "source": [
    "class Employee:\n",
    "    def __init__(self, name):\n",
    "        self.name = name\n",
    "\n",
    "    def __repr__(self):\n",
    "        return self.name\n",
    "\n",
    "\n",
    "argus = Employee(\"Argus Filch\")\n",
    "print(argus)"
   ]
  },
  {
   "cell_type": "markdown",
   "metadata": {},
   "source": [
    "While you are allowed to include or exclude any information from the object that you want, the Python documentation recommends that the implementation for `__repr__` should contain as much information as possible and if, at all possible, it should contain whatever is necessary to recreate the object. \n"
   ]
  },
  {
   "cell_type": "markdown",
   "metadata": {},
   "source": [
    "\n",
    "### **Attributes**\n",
    "Instance variables and class variables are both accessed similarly in Python. This is no mistake; they are both considered attributes of an object. Attributes can be added to user-defined objects after instantiation, so it’s possible for an object to have some attributes that are not explicitly defined in an object’s constructor. We can use the `dir` function to investigate an object’s attributes at runtime. `dir` is short for directory and offers an organized presentation of object attributes.\n",
    "\n",
    "#### **Class Variables**\n",
    "When we want the same data to be available to every instance of a class we use a class variable. A class variable is a variable that’s the same for every instance of the class. You can define a class variable by including it in the indented part of your class definition, and you can access all of an object’s class variables with `object.variable` syntax.\n",
    "\n",
    "#### **Instance Variables**\n",
    "The data held by an object is referred to as an instance variable. Instance variables aren’t shared by all instances of a class — they are variables that are specific to the object they are attached to.\n",
    "\n"
   ]
  },
  {
   "cell_type": "code",
   "execution_count": 39,
   "metadata": {},
   "outputs": [
    {
     "name": "stdout",
     "output_type": "stream",
     "text": [
      "https://www.codecademy.com\n",
      "https://www.wikipedia.org\n"
     ]
    }
   ],
   "source": [
    "class SearchEngineEntry:\n",
    "    secure_prefix = \"https://\"\n",
    "\n",
    "    def __init__(self, url):\n",
    "        self.url = url\n",
    "\n",
    "    def secure(self):\n",
    "        return \"{prefix}{site}\".format(prefix=self.secure_prefix, site=self.url)\n",
    "\n",
    "\n",
    "codecademy = SearchEngineEntry(\"www.codecademy.com\")\n",
    "wikipedia = SearchEngineEntry(\"www.wikipedia.org\")\n",
    "\n",
    "print(codecademy.secure())\n",
    "# prints \"https://www.codecademy.com\"\n",
    "\n",
    "print(wikipedia.secure())\n",
    "# prints \"https://www.wikipedia.org\""
   ]
  },
  {
   "cell_type": "markdown",
   "metadata": {},
   "source": [
    "\n",
    "\n",
    "Above, we define our secure method to take just the one required argument, `self`. We access both the class variable `self.secure_prefix` and the instance variable `self.url` to return a secure URL.\n",
    "\n",
    "When do you create a new method and when do you put it in the `__init__`? Instance variables can change, thus you can’t rely on the fact that you can instantiate a class once and that everything will stay the same, so you can’t push everything in the `__init__` method.\n",
    " \n"
   ]
  },
  {
   "cell_type": "markdown",
   "metadata": {},
   "source": [
    "## **Object Orientated Programming**\n",
    "\n",
    "### **Inheritance** \n",
    "We have an `Animal` class with a `eat()` method, but how do we actually get the `Dog` and `Cat` class to inherit this method so it can be shared with both classes? Well here is what the base structure will look like:\n",
    "\n",
    "```python\n",
    "class ParentClass:\n",
    "  #class methods/properties...\n",
    "\n",
    "class ChildClass(ParentClass):\n",
    "  #class methods/properties...\n",
    "```"
   ]
  },
  {
   "cell_type": "markdown",
   "metadata": {},
   "source": [
    "Not only are we able to reuse methods across multiple classes using our parent class, but we are also able to create parent-child relationships between entities.\n"
   ]
  },
  {
   "cell_type": "markdown",
   "metadata": {},
   "source": [
    "### **Overriding** \n",
    "When implementing inheritance, a child class may want to change the behaviour of a method from its parent class. In Python, all we must do is override a method definition. An overriding method in a subclass is one that has the same definition as the parent class but contains different behaviour.\n",
    "\n",
    "The animal class above has one attribute, `self.name` and one method, `make_noise()`. The `make_noise()` method outputs a somewhat generic animal sound, \"Rex says, Grrrr\". If we define a subclass of `Animal` we may want to make a different sound.\n",
    "\n"
   ]
  },
  {
   "cell_type": "code",
   "execution_count": 41,
   "metadata": {},
   "outputs": [
    {
     "name": "stdout",
     "output_type": "stream",
     "text": [
      "Rex says, Grrrr\n",
      "Maisy says, Meow!\n"
     ]
    }
   ],
   "source": [
    "class Animal:\n",
    "    def __init__(self, name):\n",
    "        self.name = name\n",
    "\n",
    "    def make_noise(self):\n",
    "        print(\"{} says, Grrrr\".format(self.name))\n",
    "\n",
    "\n",
    "pet1 = Animal(\"Rex\")\n",
    "pet1.make_noise()  # Rex says, Grrrr\n",
    "\n",
    "\n",
    "class Cat(Animal):\n",
    "\n",
    "    def make_noise(self):\n",
    "        print(\"{} says, Meow!\".format(self.name))\n",
    "\n",
    "\n",
    "pet2 = Cat(\"Maisy\")\n",
    "pet2.make_noise()  # Maisy says, Meow!"
   ]
  },
  {
   "cell_type": "markdown",
   "metadata": {},
   "source": [
    "### **Super Function**\n",
    "When overriding methods, we sometimes want to still access the behaviour of the parent method. To do that we need a way to call the method of the parent class. Python gives us a way to do that using `super`. This gives us a proxy object. With this proxy object, we can invoke the method of an object’s parent class (also called its superclass). \n"
   ]
  },
  {
   "cell_type": "code",
   "execution_count": 42,
   "metadata": {},
   "outputs": [
    {
     "name": "stdout",
     "output_type": "stream",
     "text": [
      "Rachel says, Meow!\n"
     ]
    }
   ],
   "source": [
    "class Animal:\n",
    "    def __init__(self, name, sound=\"Grrrr\"):\n",
    "        self.name = name\n",
    "        self.sound = sound\n",
    "\n",
    "    def make_noise(self):\n",
    "        print(\"{} says, {}\".format(self.name, self.sound))\n",
    "\n",
    "\n",
    "class Cat(Animal):\n",
    "    def __init__(self, name):\n",
    "        super().__init__(name, \"Meow!\")\n",
    "\n",
    "\n",
    "pet_cat = Cat(\"Rachel\")\n",
    "pet_cat.make_noise()  # Rachel says, Meow!"
   ]
  },
  {
   "cell_type": "markdown",
   "metadata": {},
   "source": [
    "### **Getters, Setters and Deleters**\n",
    "\n",
    "Using getter, setter, and deleter functions are one way to implement encapsulation within Python where the state of class attributes can be handled within the class. These functions are useful in making sure that the data being handled is appropriate for the defined class functionality.\n"
   ]
  },
  {
   "cell_type": "code",
   "execution_count": 43,
   "metadata": {},
   "outputs": [],
   "source": [
    "class Animal:\n",
    "    def __init__(self, name):\n",
    "        self._name = name\n",
    "        self._age = None\n",
    "\n",
    "    def get_age(self):\n",
    "        return self._age\n",
    "\n",
    "    def set_age(self, new_age):\n",
    "        if isinstance(new_age, int):\n",
    "            self._age = new_age\n",
    "        else:\n",
    "            raise TypeError\n",
    "\n",
    "    def delete_age(self):\n",
    "        del self._age\n",
    "        print(\"_age Deleted\")"
   ]
  },
  {
   "cell_type": "markdown",
   "metadata": {},
   "source": [
    "## **Modules**\n",
    "A module is a collection of Python declarations intended broadly to be used as a tool. Modules are also often referred to as “libraries” or “packages” — a package is really a directory that holds a collection of modules. Often, a library will include a lot of code that you don’t need that may slow down your program or conflict with existing code. Because of this, it makes sense to only import what you need. \n"
   ]
  },
  {
   "attachments": {
    "image-2.png": {
     "image/png": "[encoded data removed]"
    }
   },
   "cell_type": "markdown",
   "metadata": {},
   "source": [
    "\n",
    "### **Namespace**\n",
    "\n",
    "A namespace is a collection of names and the objects that they reference. Python will host a dictionary where the keys are the names that have been defined and the mapped values are the objects that they reference. A namespace isolates the functions, classes and variables defined in the module from the code in the file doing the importing. \n",
    "\n",
    "![image-2.png](attachment:image-2.png)"
   ]
  },
  {
   "cell_type": "markdown",
   "metadata": {},
   "source": [
    "#### **Built-in Namespace**\n",
    "One of the four main types of namespaces that exist in Python is the built-in namespace. Ever wonder why functions like print and str are available to us in all our programs? Well, Python knows these function names because they exist in the highest level of namespaces and thus can be called in any program we write.\n",
    "\n",
    "Whenever we run a Python application, we are provided a built-in namespace that is created when the interpreter is started and has a lifetime until the interpreter terminates (usually when our program is finished running). Since Python provides the namespace, these objects are accessible without the need to import a separate module.\n"
   ]
  },
  {
   "cell_type": "code",
   "execution_count": 45,
   "metadata": {},
   "outputs": [
    {
     "data": {
      "text/plain": [
       "['ArithmeticError',\n",
       " 'AssertionError',\n",
       " 'AttributeError',\n",
       " 'BaseException',\n",
       " 'BaseExceptionGroup',\n",
       " 'BlockingIOError',\n",
       " 'BrokenPipeError',\n",
       " 'BufferError',\n",
       " 'BytesWarning',\n",
       " 'ChildProcessError',\n",
       " 'ConnectionAbortedError',\n",
       " 'ConnectionError',\n",
       " 'ConnectionRefusedError',\n",
       " 'ConnectionResetError',\n",
       " 'DeprecationWarning',\n",
       " 'EOFError',\n",
       " 'Ellipsis',\n",
       " 'EncodingWarning',\n",
       " 'EnvironmentError',\n",
       " 'Exception',\n",
       " 'ExceptionGroup',\n",
       " 'False',\n",
       " 'FileExistsError',\n",
       " 'FileNotFoundError',\n",
       " 'FloatingPointError',\n",
       " 'FutureWarning',\n",
       " 'GeneratorExit',\n",
       " 'IOError',\n",
       " 'ImportError',\n",
       " 'ImportWarning',\n",
       " 'IndentationError',\n",
       " 'IndexError',\n",
       " 'InterruptedError',\n",
       " 'IsADirectoryError',\n",
       " 'KeyError',\n",
       " 'KeyboardInterrupt',\n",
       " 'LookupError',\n",
       " 'MemoryError',\n",
       " 'ModuleNotFoundError',\n",
       " 'NameError',\n",
       " 'None',\n",
       " 'NotADirectoryError',\n",
       " 'NotImplemented',\n",
       " 'NotImplementedError',\n",
       " 'OSError',\n",
       " 'OverflowError',\n",
       " 'PendingDeprecationWarning',\n",
       " 'PermissionError',\n",
       " 'ProcessLookupError',\n",
       " 'PythonFinalizationError',\n",
       " 'RecursionError',\n",
       " 'ReferenceError',\n",
       " 'ResourceWarning',\n",
       " 'RuntimeError',\n",
       " 'RuntimeWarning',\n",
       " 'StopAsyncIteration',\n",
       " 'StopIteration',\n",
       " 'SyntaxError',\n",
       " 'SyntaxWarning',\n",
       " 'SystemError',\n",
       " 'SystemExit',\n",
       " 'TabError',\n",
       " 'TimeoutError',\n",
       " 'True',\n",
       " 'TypeError',\n",
       " 'UnboundLocalError',\n",
       " 'UnicodeDecodeError',\n",
       " 'UnicodeEncodeError',\n",
       " 'UnicodeError',\n",
       " 'UnicodeTranslateError',\n",
       " 'UnicodeWarning',\n",
       " 'UserWarning',\n",
       " 'ValueError',\n",
       " 'Warning',\n",
       " 'WindowsError',\n",
       " 'ZeroDivisionError',\n",
       " '_IncompleteInputError',\n",
       " '__IPYTHON__',\n",
       " '__build_class__',\n",
       " '__debug__',\n",
       " '__doc__',\n",
       " '__import__',\n",
       " '__loader__',\n",
       " '__name__',\n",
       " '__package__',\n",
       " '__spec__',\n",
       " 'abs',\n",
       " 'aiter',\n",
       " 'all',\n",
       " 'anext',\n",
       " 'any',\n",
       " 'ascii',\n",
       " 'bin',\n",
       " 'bool',\n",
       " 'breakpoint',\n",
       " 'bytearray',\n",
       " 'bytes',\n",
       " 'callable',\n",
       " 'chr',\n",
       " 'classmethod',\n",
       " 'compile',\n",
       " 'complex',\n",
       " 'copyright',\n",
       " 'credits',\n",
       " 'delattr',\n",
       " 'dict',\n",
       " 'dir',\n",
       " 'display',\n",
       " 'divmod',\n",
       " 'enumerate',\n",
       " 'eval',\n",
       " 'exec',\n",
       " 'execfile',\n",
       " 'filter',\n",
       " 'float',\n",
       " 'format',\n",
       " 'frozenset',\n",
       " 'get_ipython',\n",
       " 'getattr',\n",
       " 'globals',\n",
       " 'hasattr',\n",
       " 'hash',\n",
       " 'help',\n",
       " 'hex',\n",
       " 'id',\n",
       " 'input',\n",
       " 'int',\n",
       " 'isinstance',\n",
       " 'issubclass',\n",
       " 'iter',\n",
       " 'len',\n",
       " 'license',\n",
       " 'list',\n",
       " 'locals',\n",
       " 'map',\n",
       " 'max',\n",
       " 'memoryview',\n",
       " 'min',\n",
       " 'next',\n",
       " 'object',\n",
       " 'oct',\n",
       " 'open',\n",
       " 'ord',\n",
       " 'pow',\n",
       " 'print',\n",
       " 'property',\n",
       " 'range',\n",
       " 'repr',\n",
       " 'reversed',\n",
       " 'round',\n",
       " 'runfile',\n",
       " 'set',\n",
       " 'setattr',\n",
       " 'slice',\n",
       " 'sorted',\n",
       " 'staticmethod',\n",
       " 'str',\n",
       " 'sum',\n",
       " 'super',\n",
       " 'tuple',\n",
       " 'type',\n",
       " 'vars',\n",
       " 'zip']"
      ]
     },
     "execution_count": 45,
     "metadata": {},
     "output_type": "execute_result"
    }
   ],
   "source": [
    "dir(__builtins__)"
   ]
  },
  {
   "cell_type": "markdown",
   "metadata": {},
   "source": [
    "\n",
    "#### **Global Namespace**\n",
    "The global namespace exists one level below the built-in namespace. Generally, it includes all non-nested names in the module (file) we are choosing to run the Python interpreter on. The global namespace is created when we run our main program.\n",
    "Thankfully, in order to see what objects exist in the global namespace, Python provides the `globals` built-in function.\n"
   ]
  },
  {
   "cell_type": "code",
   "execution_count": 46,
   "metadata": {},
   "outputs": [
    {
     "data": {
      "text/plain": [
       "{'__name__': '__main__',\n",
       " '__doc__': 'Automatically created module for IPython interactive environment',\n",
       " '__package__': None,\n",
       " '__loader__': None,\n",
       " '__spec__': None,\n",
       " '__builtin__': <module 'builtins' (built-in)>,\n",
       " '__builtins__': <module 'builtins' (built-in)>,\n",
       " '_ih': ['',\n",
       "  \"test_dict = {'Mercedes':1980, 'Ferrari':1990, 'McLaren':2000}\",\n",
       "  \"test_dict.update({'Red Bull':2010})\",\n",
       "  \"# test_dict.update({'Red Bull':2010})\\ntest_dict\",\n",
       "  \"if 'Mercedes' in test_dict:\\n    print('found')\",\n",
       "  \"test_dict['Mercedes']\",\n",
       "  \"test_dict.get('Ferrari')\",\n",
       "  \"test_dict.get('Williams', 'Team not found')\",\n",
       "  \"test_dict.pop('Mercedes')\",\n",
       "  \"test_dict.pop('Williams', 'Team not found')\",\n",
       "  'test_dict.keys()',\n",
       "  'test_dict.values()',\n",
       "  'test_dict.items()',\n",
       "  'for key, value in test_dict.items():\\n    print(key, value)',\n",
       "  'for key in test_dict:\\n    print(key)',\n",
       "  'for value in test_dict.values():\\n    print(value)',\n",
       "  'for key in test_dict:\\n    print(key)',\n",
       "  'items_on_sale = [\"blue shirt\", \"knit dress\", \"red headband\", \"dinosaur onesie\"]\\n\\nfor item in items_on_sale:\\n    print(item)\\n    if item == \"knit dress\":\\n        break',\n",
       "  'big_number_list = [1, 2, -1, 4, -5, 5, 2, -9]\\n\\nfor i in big_number_list:\\n    if i <= 0:\\n        continue\\n    print(i)',\n",
       "  'name = [\"Jenny\", \"Alexus\", \"Sam\", \"Grace\"]\\nheights = [61, 70, 67, 64]\\nstudents = {key:value for key, value in zip(name, heights)}\\nstudents',\n",
       "  'user_name = \"Dave\"  \\nmatch user_name:  \\n    case \"Dave\":  \\n        print(\"Get off my computer Dave!\")  \\n    case \"angela_catlady_87\":  \\n        print(\"I know it is you, Dave! Go away!\")   \\n    case \"Cockamamie\":  \\n        print(\"Access Granted.\")  \\n    case default:  \\n        print(\"Username not recognized.\") ',\n",
       "  'def my_function(*args):\\n    print(args)',\n",
       "  'def my_function(*args):\\n    print(args)\\n\\nmy_function(1, 2, 3)',\n",
       "  \"def print_animals(animal1, animal2, *args, animal4, **kwargs):\\n    print(animal1, animal2)\\n    print(args)\\n    print(animal4)\\n    print(kwargs)\\n\\nprint_animals('Snake', 'Fish', 'Guinea Pig', 'Owl', animal4='Cat', animal5='Dog')\",\n",
       "  'my_num_list = [3, 6, 9]\\n\\ndef sum(num1, num2, num3):\\n    print(num1 + num2 + num3)\\n\\nsum(*my_num_list)',\n",
       "  \"numbers = {'num1': 3, 'num2': 6, 'num3': 9}\\n\\ndef sum(num1, num2, num3):\\n    print(num1 + num2 + num3)\\n\\nsum(**numbers)\",\n",
       "  '# Here, we assign a function to a variable\\nuppercase = str.upper \\n\\n# And then call it \\nbig_pie = uppercase(\"pumpkinpie\")\\n\\n# Here we store two functions in a list\\nstring_manipulation_functions = [str.upper, str.lower] ',\n",
       "  '# Regular function \\ndef square(x, y): \\n    return x ** y \\n\\n# Lambda function \\nsquare_lambda = lambda x, y: x ** y \\nsquare_lambda(4,2)',\n",
       "  'numbers = [1, 2, 3, 4, 5] \\nsquared = list(map(lambda x: x ** 2, numbers)) \\nprint(squared)  # Output: [1, 4, 9, 16, 25] ',\n",
       "  'numbers = [1, 2, 3, 4, 5, 6, 7, 8, 9, 10] \\neven_numbers = list(filter(lambda x: x % 2 == 0, numbers)) \\nprint(even_numbers)  # Output: [2, 4, 6, 8, 10] ',\n",
       "  'from functools import reduce\\n \\nint_list = [3, 6, 9, 12]\\nreduced_int_list = reduce(lambda x,y: x*y, int_list)\\n\\nprint(reduced_int_list)\\n# 1944',\n",
       "  \"students = [('Alice', 'A', 15), ('Bob', 'B', 12), ('Charlie', 'A', 20)] \\nsorted_students = sorted(students, key=lambda x: x[2]) \\nprint(sorted_students) \",\n",
       "  'def log_execution(func):\\n    def wrapper(*args, **kwargs):\\n        print(f\"Executing {func.__name__} with arguments {args} and {kwargs}\")\\n        result = func(*args, **kwargs)\\n        print(f\"Finished executing {func.__name__}\")\\n        return result\\n    return wrapper',\n",
       "  '# Using the decorator\\n@log_execution\\ndef add(a, b):\\n    return a + b\\n\\n# Calling the decorated function\\nadd(3, 5)',\n",
       "  'def log_execution(func):\\n    def wrapper(*args, **kwargs):\\n        print(f\"Executing {func.__name__} with arguments {args} and {kwargs}\")\\n        result = func(*args, **kwargs)\\n        print(f\"Finished executing: {func.__name__}\")\\n        return result\\n    return wrapper',\n",
       "  '# Using the decorator\\n@log_execution\\ndef add(a, b):\\n    return a + b\\n\\n# Calling the decorated function\\nadd(3, 5)',\n",
       "  'class CoolClass:\\n    pass\\n\\ncool_instance = CoolClass()',\n",
       "  'class DistanceConverter:\\n    \\n    kms_in_a_mile = 1.609\\n    \\n    def how_many_kms(self, miles):\\n        return miles * self.kms_in_a_mile',\n",
       "  'class Employee():\\n    def __init__(self, name):\\n        self.name = name\\n\\n    def __repr__(self):\\n        return self.name\\n\\nargus = Employee(\"Argus Filch\")\\nprint(argus)',\n",
       "  'class SearchEngineEntry:\\n    secure_prefix = \"https://\"\\n    def __init__(self, url):\\n        self.url = url\\n\\n    def secure(self):\\n        return \"{prefix}{site}\".format(prefix=self.secure_prefix, site=self.url)\\n\\ncodecademy = SearchEngineEntry(\"www.codecademy.com\")\\nwikipedia = SearchEngineEntry(\"www.wikipedia.org\")\\n\\nprint(codecademy.secure())\\n# prints \"https://www.codecademy.com\"\\n\\nprint(wikipedia.secure())\\n# prints \"https://www.wikipedia.org\"',\n",
       "  'class ParentClass:\\n  #class methods/properties...\\n\\nclass ChildClass(ParentClass):\\n  #class methods/properties...',\n",
       "  'class Animal:\\n  def __init__(self, name):\\n    self.name = name\\n\\n  def make_noise(self):\\n    print(\"{} says, Grrrr\".format(self.name))\\n\\npet1 = Animal(\"Rex\")\\npet1.make_noise() # Rex says, Grrrr\\n\\nclass Cat(Animal):\\n\\n  def make_noise(self):\\n    print(\"{} says, Meow!\".format(self.name))\\n\\npet2 = Cat(\"Maisy\")\\npet2.make_noise() # Maisy says, Meow!',\n",
       "  'class Animal:\\n  def __init__(self, name, sound=\"Grrrr\"):\\n    self.name = name\\n    self.sound = sound\\n\\n  def make_noise(self):\\n    print(\"{} says, {}\".format(self.name, self.sound))\\n\\nclass Cat(Animal):\\n  def __init__(self, name):\\n    super().__init__(name, \"Meow!\") \\n\\npet_cat = Cat(\"Rachel\")\\npet_cat.make_noise() # Rachel says, Meow!',\n",
       "  'class Animal:\\n  def __init__(self, name):\\n    self._name = name\\n    self._age = None\\n\\n  def get_age(self):\\n    return self._age\\n\\n  def set_age(self, new_age):\\n    if isinstance(new_age, int):\\n      self._age = new_age\\n    else:\\n      raise TypeError\\n\\n  def delete_age(self):\\n    del self._age\\n    print(\"_age Deleted\")',\n",
       "  'print(dir(__builtins__))',\n",
       "  'dir(__builtins__)',\n",
       "  'globals()'],\n",
       " '_oh': {3: {'Ferrari': 1990, 'McLaren': 2000, 'Red Bull': 2010},\n",
       "  5: 1980,\n",
       "  6: 1990,\n",
       "  7: 'Team not found',\n",
       "  8: 1980,\n",
       "  9: 'Team not found',\n",
       "  10: dict_keys(['Ferrari', 'McLaren', 'Red Bull']),\n",
       "  11: dict_values([1990, 2000, 2010]),\n",
       "  12: dict_items([('Ferrari', 1990), ('McLaren', 2000), ('Red Bull', 2010)]),\n",
       "  19: {'Jenny': 61, 'Alexus': 70, 'Sam': 67, 'Grace': 64},\n",
       "  27: 16,\n",
       "  33: 8,\n",
       "  35: 8,\n",
       "  45: ['ArithmeticError',\n",
       "   'AssertionError',\n",
       "   'AttributeError',\n",
       "   'BaseException',\n",
       "   'BaseExceptionGroup',\n",
       "   'BlockingIOError',\n",
       "   'BrokenPipeError',\n",
       "   'BufferError',\n",
       "   'BytesWarning',\n",
       "   'ChildProcessError',\n",
       "   'ConnectionAbortedError',\n",
       "   'ConnectionError',\n",
       "   'ConnectionRefusedError',\n",
       "   'ConnectionResetError',\n",
       "   'DeprecationWarning',\n",
       "   'EOFError',\n",
       "   'Ellipsis',\n",
       "   'EncodingWarning',\n",
       "   'EnvironmentError',\n",
       "   'Exception',\n",
       "   'ExceptionGroup',\n",
       "   'False',\n",
       "   'FileExistsError',\n",
       "   'FileNotFoundError',\n",
       "   'FloatingPointError',\n",
       "   'FutureWarning',\n",
       "   'GeneratorExit',\n",
       "   'IOError',\n",
       "   'ImportError',\n",
       "   'ImportWarning',\n",
       "   'IndentationError',\n",
       "   'IndexError',\n",
       "   'InterruptedError',\n",
       "   'IsADirectoryError',\n",
       "   'KeyError',\n",
       "   'KeyboardInterrupt',\n",
       "   'LookupError',\n",
       "   'MemoryError',\n",
       "   'ModuleNotFoundError',\n",
       "   'NameError',\n",
       "   'None',\n",
       "   'NotADirectoryError',\n",
       "   'NotImplemented',\n",
       "   'NotImplementedError',\n",
       "   'OSError',\n",
       "   'OverflowError',\n",
       "   'PendingDeprecationWarning',\n",
       "   'PermissionError',\n",
       "   'ProcessLookupError',\n",
       "   'PythonFinalizationError',\n",
       "   'RecursionError',\n",
       "   'ReferenceError',\n",
       "   'ResourceWarning',\n",
       "   'RuntimeError',\n",
       "   'RuntimeWarning',\n",
       "   'StopAsyncIteration',\n",
       "   'StopIteration',\n",
       "   'SyntaxError',\n",
       "   'SyntaxWarning',\n",
       "   'SystemError',\n",
       "   'SystemExit',\n",
       "   'TabError',\n",
       "   'TimeoutError',\n",
       "   'True',\n",
       "   'TypeError',\n",
       "   'UnboundLocalError',\n",
       "   'UnicodeDecodeError',\n",
       "   'UnicodeEncodeError',\n",
       "   'UnicodeError',\n",
       "   'UnicodeTranslateError',\n",
       "   'UnicodeWarning',\n",
       "   'UserWarning',\n",
       "   'ValueError',\n",
       "   'Warning',\n",
       "   'WindowsError',\n",
       "   'ZeroDivisionError',\n",
       "   '_IncompleteInputError',\n",
       "   '__IPYTHON__',\n",
       "   '__build_class__',\n",
       "   '__debug__',\n",
       "   '__doc__',\n",
       "   '__import__',\n",
       "   '__loader__',\n",
       "   '__name__',\n",
       "   '__package__',\n",
       "   '__spec__',\n",
       "   'abs',\n",
       "   'aiter',\n",
       "   'all',\n",
       "   'anext',\n",
       "   'any',\n",
       "   'ascii',\n",
       "   'bin',\n",
       "   'bool',\n",
       "   'breakpoint',\n",
       "   'bytearray',\n",
       "   'bytes',\n",
       "   'callable',\n",
       "   'chr',\n",
       "   'classmethod',\n",
       "   'compile',\n",
       "   'complex',\n",
       "   'copyright',\n",
       "   'credits',\n",
       "   'delattr',\n",
       "   'dict',\n",
       "   'dir',\n",
       "   'display',\n",
       "   'divmod',\n",
       "   'enumerate',\n",
       "   'eval',\n",
       "   'exec',\n",
       "   'execfile',\n",
       "   'filter',\n",
       "   'float',\n",
       "   'format',\n",
       "   'frozenset',\n",
       "   'get_ipython',\n",
       "   'getattr',\n",
       "   'globals',\n",
       "   'hasattr',\n",
       "   'hash',\n",
       "   'help',\n",
       "   'hex',\n",
       "   'id',\n",
       "   'input',\n",
       "   'int',\n",
       "   'isinstance',\n",
       "   'issubclass',\n",
       "   'iter',\n",
       "   'len',\n",
       "   'license',\n",
       "   'list',\n",
       "   'locals',\n",
       "   'map',\n",
       "   'max',\n",
       "   'memoryview',\n",
       "   'min',\n",
       "   'next',\n",
       "   'object',\n",
       "   'oct',\n",
       "   'open',\n",
       "   'ord',\n",
       "   'pow',\n",
       "   'print',\n",
       "   'property',\n",
       "   'range',\n",
       "   'repr',\n",
       "   'reversed',\n",
       "   'round',\n",
       "   'runfile',\n",
       "   'set',\n",
       "   'setattr',\n",
       "   'slice',\n",
       "   'sorted',\n",
       "   'staticmethod',\n",
       "   'str',\n",
       "   'sum',\n",
       "   'super',\n",
       "   'tuple',\n",
       "   'type',\n",
       "   'vars',\n",
       "   'zip']},\n",
       " '_dh': [WindowsPath('c:/Users/mario/OneDrive/Documents/Education/Guides')],\n",
       " 'In': ['',\n",
       "  \"test_dict = {'Mercedes':1980, 'Ferrari':1990, 'McLaren':2000}\",\n",
       "  \"test_dict.update({'Red Bull':2010})\",\n",
       "  \"# test_dict.update({'Red Bull':2010})\\ntest_dict\",\n",
       "  \"if 'Mercedes' in test_dict:\\n    print('found')\",\n",
       "  \"test_dict['Mercedes']\",\n",
       "  \"test_dict.get('Ferrari')\",\n",
       "  \"test_dict.get('Williams', 'Team not found')\",\n",
       "  \"test_dict.pop('Mercedes')\",\n",
       "  \"test_dict.pop('Williams', 'Team not found')\",\n",
       "  'test_dict.keys()',\n",
       "  'test_dict.values()',\n",
       "  'test_dict.items()',\n",
       "  'for key, value in test_dict.items():\\n    print(key, value)',\n",
       "  'for key in test_dict:\\n    print(key)',\n",
       "  'for value in test_dict.values():\\n    print(value)',\n",
       "  'for key in test_dict:\\n    print(key)',\n",
       "  'items_on_sale = [\"blue shirt\", \"knit dress\", \"red headband\", \"dinosaur onesie\"]\\n\\nfor item in items_on_sale:\\n    print(item)\\n    if item == \"knit dress\":\\n        break',\n",
       "  'big_number_list = [1, 2, -1, 4, -5, 5, 2, -9]\\n\\nfor i in big_number_list:\\n    if i <= 0:\\n        continue\\n    print(i)',\n",
       "  'name = [\"Jenny\", \"Alexus\", \"Sam\", \"Grace\"]\\nheights = [61, 70, 67, 64]\\nstudents = {key:value for key, value in zip(name, heights)}\\nstudents',\n",
       "  'user_name = \"Dave\"  \\nmatch user_name:  \\n    case \"Dave\":  \\n        print(\"Get off my computer Dave!\")  \\n    case \"angela_catlady_87\":  \\n        print(\"I know it is you, Dave! Go away!\")   \\n    case \"Cockamamie\":  \\n        print(\"Access Granted.\")  \\n    case default:  \\n        print(\"Username not recognized.\") ',\n",
       "  'def my_function(*args):\\n    print(args)',\n",
       "  'def my_function(*args):\\n    print(args)\\n\\nmy_function(1, 2, 3)',\n",
       "  \"def print_animals(animal1, animal2, *args, animal4, **kwargs):\\n    print(animal1, animal2)\\n    print(args)\\n    print(animal4)\\n    print(kwargs)\\n\\nprint_animals('Snake', 'Fish', 'Guinea Pig', 'Owl', animal4='Cat', animal5='Dog')\",\n",
       "  'my_num_list = [3, 6, 9]\\n\\ndef sum(num1, num2, num3):\\n    print(num1 + num2 + num3)\\n\\nsum(*my_num_list)',\n",
       "  \"numbers = {'num1': 3, 'num2': 6, 'num3': 9}\\n\\ndef sum(num1, num2, num3):\\n    print(num1 + num2 + num3)\\n\\nsum(**numbers)\",\n",
       "  '# Here, we assign a function to a variable\\nuppercase = str.upper \\n\\n# And then call it \\nbig_pie = uppercase(\"pumpkinpie\")\\n\\n# Here we store two functions in a list\\nstring_manipulation_functions = [str.upper, str.lower] ',\n",
       "  '# Regular function \\ndef square(x, y): \\n    return x ** y \\n\\n# Lambda function \\nsquare_lambda = lambda x, y: x ** y \\nsquare_lambda(4,2)',\n",
       "  'numbers = [1, 2, 3, 4, 5] \\nsquared = list(map(lambda x: x ** 2, numbers)) \\nprint(squared)  # Output: [1, 4, 9, 16, 25] ',\n",
       "  'numbers = [1, 2, 3, 4, 5, 6, 7, 8, 9, 10] \\neven_numbers = list(filter(lambda x: x % 2 == 0, numbers)) \\nprint(even_numbers)  # Output: [2, 4, 6, 8, 10] ',\n",
       "  'from functools import reduce\\n \\nint_list = [3, 6, 9, 12]\\nreduced_int_list = reduce(lambda x,y: x*y, int_list)\\n\\nprint(reduced_int_list)\\n# 1944',\n",
       "  \"students = [('Alice', 'A', 15), ('Bob', 'B', 12), ('Charlie', 'A', 20)] \\nsorted_students = sorted(students, key=lambda x: x[2]) \\nprint(sorted_students) \",\n",
       "  'def log_execution(func):\\n    def wrapper(*args, **kwargs):\\n        print(f\"Executing {func.__name__} with arguments {args} and {kwargs}\")\\n        result = func(*args, **kwargs)\\n        print(f\"Finished executing {func.__name__}\")\\n        return result\\n    return wrapper',\n",
       "  '# Using the decorator\\n@log_execution\\ndef add(a, b):\\n    return a + b\\n\\n# Calling the decorated function\\nadd(3, 5)',\n",
       "  'def log_execution(func):\\n    def wrapper(*args, **kwargs):\\n        print(f\"Executing {func.__name__} with arguments {args} and {kwargs}\")\\n        result = func(*args, **kwargs)\\n        print(f\"Finished executing: {func.__name__}\")\\n        return result\\n    return wrapper',\n",
       "  '# Using the decorator\\n@log_execution\\ndef add(a, b):\\n    return a + b\\n\\n# Calling the decorated function\\nadd(3, 5)',\n",
       "  'class CoolClass:\\n    pass\\n\\ncool_instance = CoolClass()',\n",
       "  'class DistanceConverter:\\n    \\n    kms_in_a_mile = 1.609\\n    \\n    def how_many_kms(self, miles):\\n        return miles * self.kms_in_a_mile',\n",
       "  'class Employee():\\n    def __init__(self, name):\\n        self.name = name\\n\\n    def __repr__(self):\\n        return self.name\\n\\nargus = Employee(\"Argus Filch\")\\nprint(argus)',\n",
       "  'class SearchEngineEntry:\\n    secure_prefix = \"https://\"\\n    def __init__(self, url):\\n        self.url = url\\n\\n    def secure(self):\\n        return \"{prefix}{site}\".format(prefix=self.secure_prefix, site=self.url)\\n\\ncodecademy = SearchEngineEntry(\"www.codecademy.com\")\\nwikipedia = SearchEngineEntry(\"www.wikipedia.org\")\\n\\nprint(codecademy.secure())\\n# prints \"https://www.codecademy.com\"\\n\\nprint(wikipedia.secure())\\n# prints \"https://www.wikipedia.org\"',\n",
       "  'class ParentClass:\\n  #class methods/properties...\\n\\nclass ChildClass(ParentClass):\\n  #class methods/properties...',\n",
       "  'class Animal:\\n  def __init__(self, name):\\n    self.name = name\\n\\n  def make_noise(self):\\n    print(\"{} says, Grrrr\".format(self.name))\\n\\npet1 = Animal(\"Rex\")\\npet1.make_noise() # Rex says, Grrrr\\n\\nclass Cat(Animal):\\n\\n  def make_noise(self):\\n    print(\"{} says, Meow!\".format(self.name))\\n\\npet2 = Cat(\"Maisy\")\\npet2.make_noise() # Maisy says, Meow!',\n",
       "  'class Animal:\\n  def __init__(self, name, sound=\"Grrrr\"):\\n    self.name = name\\n    self.sound = sound\\n\\n  def make_noise(self):\\n    print(\"{} says, {}\".format(self.name, self.sound))\\n\\nclass Cat(Animal):\\n  def __init__(self, name):\\n    super().__init__(name, \"Meow!\") \\n\\npet_cat = Cat(\"Rachel\")\\npet_cat.make_noise() # Rachel says, Meow!',\n",
       "  'class Animal:\\n  def __init__(self, name):\\n    self._name = name\\n    self._age = None\\n\\n  def get_age(self):\\n    return self._age\\n\\n  def set_age(self, new_age):\\n    if isinstance(new_age, int):\\n      self._age = new_age\\n    else:\\n      raise TypeError\\n\\n  def delete_age(self):\\n    del self._age\\n    print(\"_age Deleted\")',\n",
       "  'print(dir(__builtins__))',\n",
       "  'dir(__builtins__)',\n",
       "  'globals()'],\n",
       " 'Out': {3: {'Ferrari': 1990, 'McLaren': 2000, 'Red Bull': 2010},\n",
       "  5: 1980,\n",
       "  6: 1990,\n",
       "  7: 'Team not found',\n",
       "  8: 1980,\n",
       "  9: 'Team not found',\n",
       "  10: dict_keys(['Ferrari', 'McLaren', 'Red Bull']),\n",
       "  11: dict_values([1990, 2000, 2010]),\n",
       "  12: dict_items([('Ferrari', 1990), ('McLaren', 2000), ('Red Bull', 2010)]),\n",
       "  19: {'Jenny': 61, 'Alexus': 70, 'Sam': 67, 'Grace': 64},\n",
       "  27: 16,\n",
       "  33: 8,\n",
       "  35: 8,\n",
       "  45: ['ArithmeticError',\n",
       "   'AssertionError',\n",
       "   'AttributeError',\n",
       "   'BaseException',\n",
       "   'BaseExceptionGroup',\n",
       "   'BlockingIOError',\n",
       "   'BrokenPipeError',\n",
       "   'BufferError',\n",
       "   'BytesWarning',\n",
       "   'ChildProcessError',\n",
       "   'ConnectionAbortedError',\n",
       "   'ConnectionError',\n",
       "   'ConnectionRefusedError',\n",
       "   'ConnectionResetError',\n",
       "   'DeprecationWarning',\n",
       "   'EOFError',\n",
       "   'Ellipsis',\n",
       "   'EncodingWarning',\n",
       "   'EnvironmentError',\n",
       "   'Exception',\n",
       "   'ExceptionGroup',\n",
       "   'False',\n",
       "   'FileExistsError',\n",
       "   'FileNotFoundError',\n",
       "   'FloatingPointError',\n",
       "   'FutureWarning',\n",
       "   'GeneratorExit',\n",
       "   'IOError',\n",
       "   'ImportError',\n",
       "   'ImportWarning',\n",
       "   'IndentationError',\n",
       "   'IndexError',\n",
       "   'InterruptedError',\n",
       "   'IsADirectoryError',\n",
       "   'KeyError',\n",
       "   'KeyboardInterrupt',\n",
       "   'LookupError',\n",
       "   'MemoryError',\n",
       "   'ModuleNotFoundError',\n",
       "   'NameError',\n",
       "   'None',\n",
       "   'NotADirectoryError',\n",
       "   'NotImplemented',\n",
       "   'NotImplementedError',\n",
       "   'OSError',\n",
       "   'OverflowError',\n",
       "   'PendingDeprecationWarning',\n",
       "   'PermissionError',\n",
       "   'ProcessLookupError',\n",
       "   'PythonFinalizationError',\n",
       "   'RecursionError',\n",
       "   'ReferenceError',\n",
       "   'ResourceWarning',\n",
       "   'RuntimeError',\n",
       "   'RuntimeWarning',\n",
       "   'StopAsyncIteration',\n",
       "   'StopIteration',\n",
       "   'SyntaxError',\n",
       "   'SyntaxWarning',\n",
       "   'SystemError',\n",
       "   'SystemExit',\n",
       "   'TabError',\n",
       "   'TimeoutError',\n",
       "   'True',\n",
       "   'TypeError',\n",
       "   'UnboundLocalError',\n",
       "   'UnicodeDecodeError',\n",
       "   'UnicodeEncodeError',\n",
       "   'UnicodeError',\n",
       "   'UnicodeTranslateError',\n",
       "   'UnicodeWarning',\n",
       "   'UserWarning',\n",
       "   'ValueError',\n",
       "   'Warning',\n",
       "   'WindowsError',\n",
       "   'ZeroDivisionError',\n",
       "   '_IncompleteInputError',\n",
       "   '__IPYTHON__',\n",
       "   '__build_class__',\n",
       "   '__debug__',\n",
       "   '__doc__',\n",
       "   '__import__',\n",
       "   '__loader__',\n",
       "   '__name__',\n",
       "   '__package__',\n",
       "   '__spec__',\n",
       "   'abs',\n",
       "   'aiter',\n",
       "   'all',\n",
       "   'anext',\n",
       "   'any',\n",
       "   'ascii',\n",
       "   'bin',\n",
       "   'bool',\n",
       "   'breakpoint',\n",
       "   'bytearray',\n",
       "   'bytes',\n",
       "   'callable',\n",
       "   'chr',\n",
       "   'classmethod',\n",
       "   'compile',\n",
       "   'complex',\n",
       "   'copyright',\n",
       "   'credits',\n",
       "   'delattr',\n",
       "   'dict',\n",
       "   'dir',\n",
       "   'display',\n",
       "   'divmod',\n",
       "   'enumerate',\n",
       "   'eval',\n",
       "   'exec',\n",
       "   'execfile',\n",
       "   'filter',\n",
       "   'float',\n",
       "   'format',\n",
       "   'frozenset',\n",
       "   'get_ipython',\n",
       "   'getattr',\n",
       "   'globals',\n",
       "   'hasattr',\n",
       "   'hash',\n",
       "   'help',\n",
       "   'hex',\n",
       "   'id',\n",
       "   'input',\n",
       "   'int',\n",
       "   'isinstance',\n",
       "   'issubclass',\n",
       "   'iter',\n",
       "   'len',\n",
       "   'license',\n",
       "   'list',\n",
       "   'locals',\n",
       "   'map',\n",
       "   'max',\n",
       "   'memoryview',\n",
       "   'min',\n",
       "   'next',\n",
       "   'object',\n",
       "   'oct',\n",
       "   'open',\n",
       "   'ord',\n",
       "   'pow',\n",
       "   'print',\n",
       "   'property',\n",
       "   'range',\n",
       "   'repr',\n",
       "   'reversed',\n",
       "   'round',\n",
       "   'runfile',\n",
       "   'set',\n",
       "   'setattr',\n",
       "   'slice',\n",
       "   'sorted',\n",
       "   'staticmethod',\n",
       "   'str',\n",
       "   'sum',\n",
       "   'super',\n",
       "   'tuple',\n",
       "   'type',\n",
       "   'vars',\n",
       "   'zip']},\n",
       " 'get_ipython': <bound method InteractiveShell.get_ipython of <ipykernel.zmqshell.ZMQInteractiveShell object at 0x00000251C84FEF90>>,\n",
       " 'exit': <IPython.core.autocall.ZMQExitAutocall at 0x251c8590830>,\n",
       " 'quit': <IPython.core.autocall.ZMQExitAutocall at 0x251c8590830>,\n",
       " 'open': <function _io.open(file, mode='r', buffering=-1, encoding=None, errors=None, newline=None, closefd=True, opener=None)>,\n",
       " '_': ['ArithmeticError',\n",
       "  'AssertionError',\n",
       "  'AttributeError',\n",
       "  'BaseException',\n",
       "  'BaseExceptionGroup',\n",
       "  'BlockingIOError',\n",
       "  'BrokenPipeError',\n",
       "  'BufferError',\n",
       "  'BytesWarning',\n",
       "  'ChildProcessError',\n",
       "  'ConnectionAbortedError',\n",
       "  'ConnectionError',\n",
       "  'ConnectionRefusedError',\n",
       "  'ConnectionResetError',\n",
       "  'DeprecationWarning',\n",
       "  'EOFError',\n",
       "  'Ellipsis',\n",
       "  'EncodingWarning',\n",
       "  'EnvironmentError',\n",
       "  'Exception',\n",
       "  'ExceptionGroup',\n",
       "  'False',\n",
       "  'FileExistsError',\n",
       "  'FileNotFoundError',\n",
       "  'FloatingPointError',\n",
       "  'FutureWarning',\n",
       "  'GeneratorExit',\n",
       "  'IOError',\n",
       "  'ImportError',\n",
       "  'ImportWarning',\n",
       "  'IndentationError',\n",
       "  'IndexError',\n",
       "  'InterruptedError',\n",
       "  'IsADirectoryError',\n",
       "  'KeyError',\n",
       "  'KeyboardInterrupt',\n",
       "  'LookupError',\n",
       "  'MemoryError',\n",
       "  'ModuleNotFoundError',\n",
       "  'NameError',\n",
       "  'None',\n",
       "  'NotADirectoryError',\n",
       "  'NotImplemented',\n",
       "  'NotImplementedError',\n",
       "  'OSError',\n",
       "  'OverflowError',\n",
       "  'PendingDeprecationWarning',\n",
       "  'PermissionError',\n",
       "  'ProcessLookupError',\n",
       "  'PythonFinalizationError',\n",
       "  'RecursionError',\n",
       "  'ReferenceError',\n",
       "  'ResourceWarning',\n",
       "  'RuntimeError',\n",
       "  'RuntimeWarning',\n",
       "  'StopAsyncIteration',\n",
       "  'StopIteration',\n",
       "  'SyntaxError',\n",
       "  'SyntaxWarning',\n",
       "  'SystemError',\n",
       "  'SystemExit',\n",
       "  'TabError',\n",
       "  'TimeoutError',\n",
       "  'True',\n",
       "  'TypeError',\n",
       "  'UnboundLocalError',\n",
       "  'UnicodeDecodeError',\n",
       "  'UnicodeEncodeError',\n",
       "  'UnicodeError',\n",
       "  'UnicodeTranslateError',\n",
       "  'UnicodeWarning',\n",
       "  'UserWarning',\n",
       "  'ValueError',\n",
       "  'Warning',\n",
       "  'WindowsError',\n",
       "  'ZeroDivisionError',\n",
       "  '_IncompleteInputError',\n",
       "  '__IPYTHON__',\n",
       "  '__build_class__',\n",
       "  '__debug__',\n",
       "  '__doc__',\n",
       "  '__import__',\n",
       "  '__loader__',\n",
       "  '__name__',\n",
       "  '__package__',\n",
       "  '__spec__',\n",
       "  'abs',\n",
       "  'aiter',\n",
       "  'all',\n",
       "  'anext',\n",
       "  'any',\n",
       "  'ascii',\n",
       "  'bin',\n",
       "  'bool',\n",
       "  'breakpoint',\n",
       "  'bytearray',\n",
       "  'bytes',\n",
       "  'callable',\n",
       "  'chr',\n",
       "  'classmethod',\n",
       "  'compile',\n",
       "  'complex',\n",
       "  'copyright',\n",
       "  'credits',\n",
       "  'delattr',\n",
       "  'dict',\n",
       "  'dir',\n",
       "  'display',\n",
       "  'divmod',\n",
       "  'enumerate',\n",
       "  'eval',\n",
       "  'exec',\n",
       "  'execfile',\n",
       "  'filter',\n",
       "  'float',\n",
       "  'format',\n",
       "  'frozenset',\n",
       "  'get_ipython',\n",
       "  'getattr',\n",
       "  'globals',\n",
       "  'hasattr',\n",
       "  'hash',\n",
       "  'help',\n",
       "  'hex',\n",
       "  'id',\n",
       "  'input',\n",
       "  'int',\n",
       "  'isinstance',\n",
       "  'issubclass',\n",
       "  'iter',\n",
       "  'len',\n",
       "  'license',\n",
       "  'list',\n",
       "  'locals',\n",
       "  'map',\n",
       "  'max',\n",
       "  'memoryview',\n",
       "  'min',\n",
       "  'next',\n",
       "  'object',\n",
       "  'oct',\n",
       "  'open',\n",
       "  'ord',\n",
       "  'pow',\n",
       "  'print',\n",
       "  'property',\n",
       "  'range',\n",
       "  'repr',\n",
       "  'reversed',\n",
       "  'round',\n",
       "  'runfile',\n",
       "  'set',\n",
       "  'setattr',\n",
       "  'slice',\n",
       "  'sorted',\n",
       "  'staticmethod',\n",
       "  'str',\n",
       "  'sum',\n",
       "  'super',\n",
       "  'tuple',\n",
       "  'type',\n",
       "  'vars',\n",
       "  'zip'],\n",
       " '__': 8,\n",
       " '___': 8,\n",
       " '__vsc_ipynb_file__': 'c:\\\\Users\\\\mario\\\\OneDrive\\\\Documents\\\\Education\\\\Guides\\\\Software Engineering Guide.ipynb',\n",
       " '_i': 'dir(__builtins__)',\n",
       " '_ii': 'print(dir(__builtins__))',\n",
       " '_iii': 'class Animal:\\n  def __init__(self, name):\\n    self._name = name\\n    self._age = None\\n\\n  def get_age(self):\\n    return self._age\\n\\n  def set_age(self, new_age):\\n    if isinstance(new_age, int):\\n      self._age = new_age\\n    else:\\n      raise TypeError\\n\\n  def delete_age(self):\\n    del self._age\\n    print(\"_age Deleted\")',\n",
       " '_i1': \"test_dict = {'Mercedes':1980, 'Ferrari':1990, 'McLaren':2000}\",\n",
       " 'test_dict': {'Ferrari': 1990, 'McLaren': 2000, 'Red Bull': 2010},\n",
       " '_i2': \"test_dict.update({'Red Bull':2010})\",\n",
       " '_i3': \"# test_dict.update({'Red Bull':2010})\\ntest_dict\",\n",
       " '_3': {'Ferrari': 1990, 'McLaren': 2000, 'Red Bull': 2010},\n",
       " '_i4': \"if 'Mercedes' in test_dict:\\n    print('found')\",\n",
       " '_i5': \"test_dict['Mercedes']\",\n",
       " '_5': 1980,\n",
       " '_i6': \"test_dict.get('Ferrari')\",\n",
       " '_6': 1990,\n",
       " '_i7': \"test_dict.get('Williams', 'Team not found')\",\n",
       " '_7': 'Team not found',\n",
       " '_i8': \"test_dict.pop('Mercedes')\",\n",
       " '_8': 1980,\n",
       " '_i9': \"test_dict.pop('Williams', 'Team not found')\",\n",
       " '_9': 'Team not found',\n",
       " '_i10': 'test_dict.keys()',\n",
       " '_10': dict_keys(['Ferrari', 'McLaren', 'Red Bull']),\n",
       " '_i11': 'test_dict.values()',\n",
       " '_11': dict_values([1990, 2000, 2010]),\n",
       " '_i12': 'test_dict.items()',\n",
       " '_12': dict_items([('Ferrari', 1990), ('McLaren', 2000), ('Red Bull', 2010)]),\n",
       " '_i13': 'for key, value in test_dict.items():\\n    print(key, value)',\n",
       " 'key': 'Red Bull',\n",
       " 'value': 2010,\n",
       " '_i14': 'for key in test_dict:\\n    print(key)',\n",
       " '_i15': 'for value in test_dict.values():\\n    print(value)',\n",
       " '_i16': 'for key in test_dict:\\n    print(key)',\n",
       " '_i17': 'items_on_sale = [\"blue shirt\", \"knit dress\", \"red headband\", \"dinosaur onesie\"]\\n\\nfor item in items_on_sale:\\n    print(item)\\n    if item == \"knit dress\":\\n        break',\n",
       " 'items_on_sale': ['blue shirt',\n",
       "  'knit dress',\n",
       "  'red headband',\n",
       "  'dinosaur onesie'],\n",
       " 'item': 'knit dress',\n",
       " '_i18': 'big_number_list = [1, 2, -1, 4, -5, 5, 2, -9]\\n\\nfor i in big_number_list:\\n    if i <= 0:\\n        continue\\n    print(i)',\n",
       " 'big_number_list': [1, 2, -1, 4, -5, 5, 2, -9],\n",
       " 'i': -9,\n",
       " '_i19': 'name = [\"Jenny\", \"Alexus\", \"Sam\", \"Grace\"]\\nheights = [61, 70, 67, 64]\\nstudents = {key:value for key, value in zip(name, heights)}\\nstudents',\n",
       " 'name': ['Jenny', 'Alexus', 'Sam', 'Grace'],\n",
       " 'heights': [61, 70, 67, 64],\n",
       " 'students': [('Alice', 'A', 15), ('Bob', 'B', 12), ('Charlie', 'A', 20)],\n",
       " '_19': {'Jenny': 61, 'Alexus': 70, 'Sam': 67, 'Grace': 64},\n",
       " '_i20': 'user_name = \"Dave\"  \\nmatch user_name:  \\n    case \"Dave\":  \\n        print(\"Get off my computer Dave!\")  \\n    case \"angela_catlady_87\":  \\n        print(\"I know it is you, Dave! Go away!\")   \\n    case \"Cockamamie\":  \\n        print(\"Access Granted.\")  \\n    case default:  \\n        print(\"Username not recognized.\") ',\n",
       " 'user_name': 'Dave',\n",
       " '_i21': 'def my_function(*args):\\n    print(args)',\n",
       " 'my_function': <function __main__.my_function(*args)>,\n",
       " '_i22': 'def my_function(*args):\\n    print(args)\\n\\nmy_function(1, 2, 3)',\n",
       " '_i23': \"def print_animals(animal1, animal2, *args, animal4, **kwargs):\\n    print(animal1, animal2)\\n    print(args)\\n    print(animal4)\\n    print(kwargs)\\n\\nprint_animals('Snake', 'Fish', 'Guinea Pig', 'Owl', animal4='Cat', animal5='Dog')\",\n",
       " 'print_animals': <function __main__.print_animals(animal1, animal2, *args, animal4, **kwargs)>,\n",
       " '_i24': 'my_num_list = [3, 6, 9]\\n\\ndef sum(num1, num2, num3):\\n    print(num1 + num2 + num3)\\n\\nsum(*my_num_list)',\n",
       " 'my_num_list': [3, 6, 9],\n",
       " 'sum': <function __main__.sum(num1, num2, num3)>,\n",
       " '_i25': \"numbers = {'num1': 3, 'num2': 6, 'num3': 9}\\n\\ndef sum(num1, num2, num3):\\n    print(num1 + num2 + num3)\\n\\nsum(**numbers)\",\n",
       " 'numbers': [1, 2, 3, 4, 5, 6, 7, 8, 9, 10],\n",
       " '_i26': '# Here, we assign a function to a variable\\nuppercase = str.upper \\n\\n# And then call it \\nbig_pie = uppercase(\"pumpkinpie\")\\n\\n# Here we store two functions in a list\\nstring_manipulation_functions = [str.upper, str.lower] ',\n",
       " 'uppercase': <method 'upper' of 'str' objects>,\n",
       " 'big_pie': 'PUMPKINPIE',\n",
       " 'string_manipulation_functions': [<method 'upper' of 'str' objects>,\n",
       "  <method 'lower' of 'str' objects>],\n",
       " '_i27': '# Regular function \\ndef square(x, y): \\n    return x ** y \\n\\n# Lambda function \\nsquare_lambda = lambda x, y: x ** y \\nsquare_lambda(4,2)',\n",
       " 'square': <function __main__.square(x, y)>,\n",
       " 'square_lambda': <function __main__.<lambda>(x, y)>,\n",
       " '_27': 16,\n",
       " '_i28': 'numbers = [1, 2, 3, 4, 5] \\nsquared = list(map(lambda x: x ** 2, numbers)) \\nprint(squared)  # Output: [1, 4, 9, 16, 25] ',\n",
       " 'squared': [1, 4, 9, 16, 25],\n",
       " '_i29': 'numbers = [1, 2, 3, 4, 5, 6, 7, 8, 9, 10] \\neven_numbers = list(filter(lambda x: x % 2 == 0, numbers)) \\nprint(even_numbers)  # Output: [2, 4, 6, 8, 10] ',\n",
       " 'even_numbers': [2, 4, 6, 8, 10],\n",
       " '_i30': 'from functools import reduce\\n \\nint_list = [3, 6, 9, 12]\\nreduced_int_list = reduce(lambda x,y: x*y, int_list)\\n\\nprint(reduced_int_list)\\n# 1944',\n",
       " 'reduce': <function _functools.reduce>,\n",
       " 'int_list': [3, 6, 9, 12],\n",
       " 'reduced_int_list': 1944,\n",
       " '_i31': \"\\nstudents = [('Alice', 'A', 15), ('Bob', 'B', 12), ('Charlie', 'A', 20)] \\nsorted_students = sorted(students, key=lambda x: x[2]) \\nprint(sorted_students) \",\n",
       " 'sorted_students': [('Bob', 'B', 12),\n",
       "  ('Alice', 'A', 15),\n",
       "  ('Charlie', 'A', 20)],\n",
       " '_i32': 'def log_execution(func):\\n    def wrapper(*args, **kwargs):\\n        print(f\"Executing {func.__name__} with arguments {args} and {kwargs}\")\\n        result = func(*args, **kwargs)\\n        print(f\"Finished executing {func.__name__}\")\\n        return result\\n    return wrapper',\n",
       " 'log_execution': <function __main__.log_execution(func)>,\n",
       " '_i33': '# Using the decorator\\n@log_execution\\ndef add(a, b):\\n    return a + b\\n\\n# Calling the decorated function\\nadd(3, 5)',\n",
       " 'add': <function __main__.log_execution.<locals>.wrapper(*args, **kwargs)>,\n",
       " '_33': 8,\n",
       " '_i34': 'def log_execution(func):\\n    def wrapper(*args, **kwargs):\\n        print(f\"Executing {func.__name__} with arguments {args} and {kwargs}\")\\n        result = func(*args, **kwargs)\\n        print(f\"Finished executing: {func.__name__}\")\\n        return result\\n    return wrapper',\n",
       " '_i35': '# Using the decorator\\n@log_execution\\ndef add(a, b):\\n    return a + b\\n\\n# Calling the decorated function\\nadd(3, 5)',\n",
       " '_35': 8,\n",
       " '_i36': 'class CoolClass:\\n    pass\\n\\ncool_instance = CoolClass()',\n",
       " 'CoolClass': __main__.CoolClass,\n",
       " 'cool_instance': <__main__.CoolClass at 0x251c87b1940>,\n",
       " '_i37': 'class DistanceConverter:\\n    \\n    kms_in_a_mile = 1.609\\n    \\n    def how_many_kms(self, miles):\\n        return miles * self.kms_in_a_mile',\n",
       " 'DistanceConverter': __main__.DistanceConverter,\n",
       " '_i38': 'class Employee():\\n    def __init__(self, name):\\n        self.name = name\\n\\n    def __repr__(self):\\n        return self.name\\n\\nargus = Employee(\"Argus Filch\")\\nprint(argus)',\n",
       " 'Employee': __main__.Employee,\n",
       " 'argus': Argus Filch,\n",
       " '_i39': 'class SearchEngineEntry:\\n    secure_prefix = \"https://\"\\n    def __init__(self, url):\\n        self.url = url\\n\\n    def secure(self):\\n        return \"{prefix}{site}\".format(prefix=self.secure_prefix, site=self.url)\\n\\ncodecademy = SearchEngineEntry(\"www.codecademy.com\")\\nwikipedia = SearchEngineEntry(\"www.wikipedia.org\")\\n\\nprint(codecademy.secure())\\n# prints \"https://www.codecademy.com\"\\n\\nprint(wikipedia.secure())\\n# prints \"https://www.wikipedia.org\"',\n",
       " 'SearchEngineEntry': __main__.SearchEngineEntry,\n",
       " 'codecademy': <__main__.SearchEngineEntry at 0x251c87b17f0>,\n",
       " 'wikipedia': <__main__.SearchEngineEntry at 0x251c854b890>,\n",
       " '_i40': 'class ParentClass:\\n  #class methods/properties...\\n\\nclass ChildClass(ParentClass):\\n  #class methods/properties...',\n",
       " '_i41': 'class Animal:\\n  def __init__(self, name):\\n    self.name = name\\n\\n  def make_noise(self):\\n    print(\"{} says, Grrrr\".format(self.name))\\n\\npet1 = Animal(\"Rex\")\\npet1.make_noise() # Rex says, Grrrr\\n\\nclass Cat(Animal):\\n\\n  def make_noise(self):\\n    print(\"{} says, Meow!\".format(self.name))\\n\\npet2 = Cat(\"Maisy\")\\npet2.make_noise() # Maisy says, Meow!',\n",
       " 'Animal': __main__.Animal,\n",
       " 'pet1': <__main__.Animal at 0x251c87b1be0>,\n",
       " 'Cat': __main__.Cat,\n",
       " 'pet2': <__main__.Cat at 0x251c87b1d30>,\n",
       " '_i42': 'class Animal:\\n  def __init__(self, name, sound=\"Grrrr\"):\\n    self.name = name\\n    self.sound = sound\\n\\n  def make_noise(self):\\n    print(\"{} says, {}\".format(self.name, self.sound))\\n\\nclass Cat(Animal):\\n  def __init__(self, name):\\n    super().__init__(name, \"Meow!\") \\n\\npet_cat = Cat(\"Rachel\")\\npet_cat.make_noise() # Rachel says, Meow!',\n",
       " 'pet_cat': <__main__.Cat at 0x251c87b1e80>,\n",
       " '_i43': 'class Animal:\\n  def __init__(self, name):\\n    self._name = name\\n    self._age = None\\n\\n  def get_age(self):\\n    return self._age\\n\\n  def set_age(self, new_age):\\n    if isinstance(new_age, int):\\n      self._age = new_age\\n    else:\\n      raise TypeError\\n\\n  def delete_age(self):\\n    del self._age\\n    print(\"_age Deleted\")',\n",
       " '_i44': 'print(dir(__builtins__))',\n",
       " '_i45': 'dir(__builtins__)',\n",
       " '_45': ['ArithmeticError',\n",
       "  'AssertionError',\n",
       "  'AttributeError',\n",
       "  'BaseException',\n",
       "  'BaseExceptionGroup',\n",
       "  'BlockingIOError',\n",
       "  'BrokenPipeError',\n",
       "  'BufferError',\n",
       "  'BytesWarning',\n",
       "  'ChildProcessError',\n",
       "  'ConnectionAbortedError',\n",
       "  'ConnectionError',\n",
       "  'ConnectionRefusedError',\n",
       "  'ConnectionResetError',\n",
       "  'DeprecationWarning',\n",
       "  'EOFError',\n",
       "  'Ellipsis',\n",
       "  'EncodingWarning',\n",
       "  'EnvironmentError',\n",
       "  'Exception',\n",
       "  'ExceptionGroup',\n",
       "  'False',\n",
       "  'FileExistsError',\n",
       "  'FileNotFoundError',\n",
       "  'FloatingPointError',\n",
       "  'FutureWarning',\n",
       "  'GeneratorExit',\n",
       "  'IOError',\n",
       "  'ImportError',\n",
       "  'ImportWarning',\n",
       "  'IndentationError',\n",
       "  'IndexError',\n",
       "  'InterruptedError',\n",
       "  'IsADirectoryError',\n",
       "  'KeyError',\n",
       "  'KeyboardInterrupt',\n",
       "  'LookupError',\n",
       "  'MemoryError',\n",
       "  'ModuleNotFoundError',\n",
       "  'NameError',\n",
       "  'None',\n",
       "  'NotADirectoryError',\n",
       "  'NotImplemented',\n",
       "  'NotImplementedError',\n",
       "  'OSError',\n",
       "  'OverflowError',\n",
       "  'PendingDeprecationWarning',\n",
       "  'PermissionError',\n",
       "  'ProcessLookupError',\n",
       "  'PythonFinalizationError',\n",
       "  'RecursionError',\n",
       "  'ReferenceError',\n",
       "  'ResourceWarning',\n",
       "  'RuntimeError',\n",
       "  'RuntimeWarning',\n",
       "  'StopAsyncIteration',\n",
       "  'StopIteration',\n",
       "  'SyntaxError',\n",
       "  'SyntaxWarning',\n",
       "  'SystemError',\n",
       "  'SystemExit',\n",
       "  'TabError',\n",
       "  'TimeoutError',\n",
       "  'True',\n",
       "  'TypeError',\n",
       "  'UnboundLocalError',\n",
       "  'UnicodeDecodeError',\n",
       "  'UnicodeEncodeError',\n",
       "  'UnicodeError',\n",
       "  'UnicodeTranslateError',\n",
       "  'UnicodeWarning',\n",
       "  'UserWarning',\n",
       "  'ValueError',\n",
       "  'Warning',\n",
       "  'WindowsError',\n",
       "  'ZeroDivisionError',\n",
       "  '_IncompleteInputError',\n",
       "  '__IPYTHON__',\n",
       "  '__build_class__',\n",
       "  '__debug__',\n",
       "  '__doc__',\n",
       "  '__import__',\n",
       "  '__loader__',\n",
       "  '__name__',\n",
       "  '__package__',\n",
       "  '__spec__',\n",
       "  'abs',\n",
       "  'aiter',\n",
       "  'all',\n",
       "  'anext',\n",
       "  'any',\n",
       "  'ascii',\n",
       "  'bin',\n",
       "  'bool',\n",
       "  'breakpoint',\n",
       "  'bytearray',\n",
       "  'bytes',\n",
       "  'callable',\n",
       "  'chr',\n",
       "  'classmethod',\n",
       "  'compile',\n",
       "  'complex',\n",
       "  'copyright',\n",
       "  'credits',\n",
       "  'delattr',\n",
       "  'dict',\n",
       "  'dir',\n",
       "  'display',\n",
       "  'divmod',\n",
       "  'enumerate',\n",
       "  'eval',\n",
       "  'exec',\n",
       "  'execfile',\n",
       "  'filter',\n",
       "  'float',\n",
       "  'format',\n",
       "  'frozenset',\n",
       "  'get_ipython',\n",
       "  'getattr',\n",
       "  'globals',\n",
       "  'hasattr',\n",
       "  'hash',\n",
       "  'help',\n",
       "  'hex',\n",
       "  'id',\n",
       "  'input',\n",
       "  'int',\n",
       "  'isinstance',\n",
       "  'issubclass',\n",
       "  'iter',\n",
       "  'len',\n",
       "  'license',\n",
       "  'list',\n",
       "  'locals',\n",
       "  'map',\n",
       "  'max',\n",
       "  'memoryview',\n",
       "  'min',\n",
       "  'next',\n",
       "  'object',\n",
       "  'oct',\n",
       "  'open',\n",
       "  'ord',\n",
       "  'pow',\n",
       "  'print',\n",
       "  'property',\n",
       "  'range',\n",
       "  'repr',\n",
       "  'reversed',\n",
       "  'round',\n",
       "  'runfile',\n",
       "  'set',\n",
       "  'setattr',\n",
       "  'slice',\n",
       "  'sorted',\n",
       "  'staticmethod',\n",
       "  'str',\n",
       "  'sum',\n",
       "  'super',\n",
       "  'tuple',\n",
       "  'type',\n",
       "  'vars',\n",
       "  'zip'],\n",
       " '_i46': 'globals()'}"
      ]
     },
     "execution_count": 46,
     "metadata": {},
     "output_type": "execute_result"
    }
   ],
   "source": [
    "globals()"
   ]
  },
  {
   "cell_type": "markdown",
   "metadata": {},
   "source": [
    "\n",
    "#### **Local Namespace**\n",
    "In Python, whenever the interpreter executes a function, it will generate a local namespace for that specific function. This namespace only exists inside of the function and remains in existence until the function terminates.\n",
    "\n",
    "You might also occasionally encounter import *. The * is known as a “wildcard” and matches anything and everything. This syntax is considered dangerous because it could pollute our local namespace.\n",
    "\n",
    "Python provides a function called `locals` to see any generated local namespace.\n"
   ]
  },
  {
   "cell_type": "code",
   "execution_count": 47,
   "metadata": {},
   "outputs": [
    {
     "data": {
      "text/plain": [
       "{'__name__': '__main__',\n",
       " '__doc__': 'Automatically created module for IPython interactive environment',\n",
       " '__package__': None,\n",
       " '__loader__': None,\n",
       " '__spec__': None,\n",
       " '__builtin__': <module 'builtins' (built-in)>,\n",
       " '__builtins__': <module 'builtins' (built-in)>,\n",
       " '_ih': ['',\n",
       "  \"test_dict = {'Mercedes':1980, 'Ferrari':1990, 'McLaren':2000}\",\n",
       "  \"test_dict.update({'Red Bull':2010})\",\n",
       "  \"# test_dict.update({'Red Bull':2010})\\ntest_dict\",\n",
       "  \"if 'Mercedes' in test_dict:\\n    print('found')\",\n",
       "  \"test_dict['Mercedes']\",\n",
       "  \"test_dict.get('Ferrari')\",\n",
       "  \"test_dict.get('Williams', 'Team not found')\",\n",
       "  \"test_dict.pop('Mercedes')\",\n",
       "  \"test_dict.pop('Williams', 'Team not found')\",\n",
       "  'test_dict.keys()',\n",
       "  'test_dict.values()',\n",
       "  'test_dict.items()',\n",
       "  'for key, value in test_dict.items():\\n    print(key, value)',\n",
       "  'for key in test_dict:\\n    print(key)',\n",
       "  'for value in test_dict.values():\\n    print(value)',\n",
       "  'for key in test_dict:\\n    print(key)',\n",
       "  'items_on_sale = [\"blue shirt\", \"knit dress\", \"red headband\", \"dinosaur onesie\"]\\n\\nfor item in items_on_sale:\\n    print(item)\\n    if item == \"knit dress\":\\n        break',\n",
       "  'big_number_list = [1, 2, -1, 4, -5, 5, 2, -9]\\n\\nfor i in big_number_list:\\n    if i <= 0:\\n        continue\\n    print(i)',\n",
       "  'name = [\"Jenny\", \"Alexus\", \"Sam\", \"Grace\"]\\nheights = [61, 70, 67, 64]\\nstudents = {key:value for key, value in zip(name, heights)}\\nstudents',\n",
       "  'user_name = \"Dave\"  \\nmatch user_name:  \\n    case \"Dave\":  \\n        print(\"Get off my computer Dave!\")  \\n    case \"angela_catlady_87\":  \\n        print(\"I know it is you, Dave! Go away!\")   \\n    case \"Cockamamie\":  \\n        print(\"Access Granted.\")  \\n    case default:  \\n        print(\"Username not recognized.\") ',\n",
       "  'def my_function(*args):\\n    print(args)',\n",
       "  'def my_function(*args):\\n    print(args)\\n\\nmy_function(1, 2, 3)',\n",
       "  \"def print_animals(animal1, animal2, *args, animal4, **kwargs):\\n    print(animal1, animal2)\\n    print(args)\\n    print(animal4)\\n    print(kwargs)\\n\\nprint_animals('Snake', 'Fish', 'Guinea Pig', 'Owl', animal4='Cat', animal5='Dog')\",\n",
       "  'my_num_list = [3, 6, 9]\\n\\ndef sum(num1, num2, num3):\\n    print(num1 + num2 + num3)\\n\\nsum(*my_num_list)',\n",
       "  \"numbers = {'num1': 3, 'num2': 6, 'num3': 9}\\n\\ndef sum(num1, num2, num3):\\n    print(num1 + num2 + num3)\\n\\nsum(**numbers)\",\n",
       "  '# Here, we assign a function to a variable\\nuppercase = str.upper \\n\\n# And then call it \\nbig_pie = uppercase(\"pumpkinpie\")\\n\\n# Here we store two functions in a list\\nstring_manipulation_functions = [str.upper, str.lower] ',\n",
       "  '# Regular function \\ndef square(x, y): \\n    return x ** y \\n\\n# Lambda function \\nsquare_lambda = lambda x, y: x ** y \\nsquare_lambda(4,2)',\n",
       "  'numbers = [1, 2, 3, 4, 5] \\nsquared = list(map(lambda x: x ** 2, numbers)) \\nprint(squared)  # Output: [1, 4, 9, 16, 25] ',\n",
       "  'numbers = [1, 2, 3, 4, 5, 6, 7, 8, 9, 10] \\neven_numbers = list(filter(lambda x: x % 2 == 0, numbers)) \\nprint(even_numbers)  # Output: [2, 4, 6, 8, 10] ',\n",
       "  'from functools import reduce\\n \\nint_list = [3, 6, 9, 12]\\nreduced_int_list = reduce(lambda x,y: x*y, int_list)\\n\\nprint(reduced_int_list)\\n# 1944',\n",
       "  \"students = [('Alice', 'A', 15), ('Bob', 'B', 12), ('Charlie', 'A', 20)] \\nsorted_students = sorted(students, key=lambda x: x[2]) \\nprint(sorted_students) \",\n",
       "  'def log_execution(func):\\n    def wrapper(*args, **kwargs):\\n        print(f\"Executing {func.__name__} with arguments {args} and {kwargs}\")\\n        result = func(*args, **kwargs)\\n        print(f\"Finished executing {func.__name__}\")\\n        return result\\n    return wrapper',\n",
       "  '# Using the decorator\\n@log_execution\\ndef add(a, b):\\n    return a + b\\n\\n# Calling the decorated function\\nadd(3, 5)',\n",
       "  'def log_execution(func):\\n    def wrapper(*args, **kwargs):\\n        print(f\"Executing {func.__name__} with arguments {args} and {kwargs}\")\\n        result = func(*args, **kwargs)\\n        print(f\"Finished executing: {func.__name__}\")\\n        return result\\n    return wrapper',\n",
       "  '# Using the decorator\\n@log_execution\\ndef add(a, b):\\n    return a + b\\n\\n# Calling the decorated function\\nadd(3, 5)',\n",
       "  'class CoolClass:\\n    pass\\n\\ncool_instance = CoolClass()',\n",
       "  'class DistanceConverter:\\n    \\n    kms_in_a_mile = 1.609\\n    \\n    def how_many_kms(self, miles):\\n        return miles * self.kms_in_a_mile',\n",
       "  'class Employee():\\n    def __init__(self, name):\\n        self.name = name\\n\\n    def __repr__(self):\\n        return self.name\\n\\nargus = Employee(\"Argus Filch\")\\nprint(argus)',\n",
       "  'class SearchEngineEntry:\\n    secure_prefix = \"https://\"\\n    def __init__(self, url):\\n        self.url = url\\n\\n    def secure(self):\\n        return \"{prefix}{site}\".format(prefix=self.secure_prefix, site=self.url)\\n\\ncodecademy = SearchEngineEntry(\"www.codecademy.com\")\\nwikipedia = SearchEngineEntry(\"www.wikipedia.org\")\\n\\nprint(codecademy.secure())\\n# prints \"https://www.codecademy.com\"\\n\\nprint(wikipedia.secure())\\n# prints \"https://www.wikipedia.org\"',\n",
       "  'class ParentClass:\\n  #class methods/properties...\\n\\nclass ChildClass(ParentClass):\\n  #class methods/properties...',\n",
       "  'class Animal:\\n  def __init__(self, name):\\n    self.name = name\\n\\n  def make_noise(self):\\n    print(\"{} says, Grrrr\".format(self.name))\\n\\npet1 = Animal(\"Rex\")\\npet1.make_noise() # Rex says, Grrrr\\n\\nclass Cat(Animal):\\n\\n  def make_noise(self):\\n    print(\"{} says, Meow!\".format(self.name))\\n\\npet2 = Cat(\"Maisy\")\\npet2.make_noise() # Maisy says, Meow!',\n",
       "  'class Animal:\\n  def __init__(self, name, sound=\"Grrrr\"):\\n    self.name = name\\n    self.sound = sound\\n\\n  def make_noise(self):\\n    print(\"{} says, {}\".format(self.name, self.sound))\\n\\nclass Cat(Animal):\\n  def __init__(self, name):\\n    super().__init__(name, \"Meow!\") \\n\\npet_cat = Cat(\"Rachel\")\\npet_cat.make_noise() # Rachel says, Meow!',\n",
       "  'class Animal:\\n  def __init__(self, name):\\n    self._name = name\\n    self._age = None\\n\\n  def get_age(self):\\n    return self._age\\n\\n  def set_age(self, new_age):\\n    if isinstance(new_age, int):\\n      self._age = new_age\\n    else:\\n      raise TypeError\\n\\n  def delete_age(self):\\n    del self._age\\n    print(\"_age Deleted\")',\n",
       "  'print(dir(__builtins__))',\n",
       "  'dir(__builtins__)',\n",
       "  'globals()',\n",
       "  'locals()'],\n",
       " '_oh': {3: {'Ferrari': 1990, 'McLaren': 2000, 'Red Bull': 2010},\n",
       "  5: 1980,\n",
       "  6: 1990,\n",
       "  7: 'Team not found',\n",
       "  8: 1980,\n",
       "  9: 'Team not found',\n",
       "  10: dict_keys(['Ferrari', 'McLaren', 'Red Bull']),\n",
       "  11: dict_values([1990, 2000, 2010]),\n",
       "  12: dict_items([('Ferrari', 1990), ('McLaren', 2000), ('Red Bull', 2010)]),\n",
       "  19: {'Jenny': 61, 'Alexus': 70, 'Sam': 67, 'Grace': 64},\n",
       "  27: 16,\n",
       "  33: 8,\n",
       "  35: 8,\n",
       "  45: ['ArithmeticError',\n",
       "   'AssertionError',\n",
       "   'AttributeError',\n",
       "   'BaseException',\n",
       "   'BaseExceptionGroup',\n",
       "   'BlockingIOError',\n",
       "   'BrokenPipeError',\n",
       "   'BufferError',\n",
       "   'BytesWarning',\n",
       "   'ChildProcessError',\n",
       "   'ConnectionAbortedError',\n",
       "   'ConnectionError',\n",
       "   'ConnectionRefusedError',\n",
       "   'ConnectionResetError',\n",
       "   'DeprecationWarning',\n",
       "   'EOFError',\n",
       "   'Ellipsis',\n",
       "   'EncodingWarning',\n",
       "   'EnvironmentError',\n",
       "   'Exception',\n",
       "   'ExceptionGroup',\n",
       "   'False',\n",
       "   'FileExistsError',\n",
       "   'FileNotFoundError',\n",
       "   'FloatingPointError',\n",
       "   'FutureWarning',\n",
       "   'GeneratorExit',\n",
       "   'IOError',\n",
       "   'ImportError',\n",
       "   'ImportWarning',\n",
       "   'IndentationError',\n",
       "   'IndexError',\n",
       "   'InterruptedError',\n",
       "   'IsADirectoryError',\n",
       "   'KeyError',\n",
       "   'KeyboardInterrupt',\n",
       "   'LookupError',\n",
       "   'MemoryError',\n",
       "   'ModuleNotFoundError',\n",
       "   'NameError',\n",
       "   'None',\n",
       "   'NotADirectoryError',\n",
       "   'NotImplemented',\n",
       "   'NotImplementedError',\n",
       "   'OSError',\n",
       "   'OverflowError',\n",
       "   'PendingDeprecationWarning',\n",
       "   'PermissionError',\n",
       "   'ProcessLookupError',\n",
       "   'PythonFinalizationError',\n",
       "   'RecursionError',\n",
       "   'ReferenceError',\n",
       "   'ResourceWarning',\n",
       "   'RuntimeError',\n",
       "   'RuntimeWarning',\n",
       "   'StopAsyncIteration',\n",
       "   'StopIteration',\n",
       "   'SyntaxError',\n",
       "   'SyntaxWarning',\n",
       "   'SystemError',\n",
       "   'SystemExit',\n",
       "   'TabError',\n",
       "   'TimeoutError',\n",
       "   'True',\n",
       "   'TypeError',\n",
       "   'UnboundLocalError',\n",
       "   'UnicodeDecodeError',\n",
       "   'UnicodeEncodeError',\n",
       "   'UnicodeError',\n",
       "   'UnicodeTranslateError',\n",
       "   'UnicodeWarning',\n",
       "   'UserWarning',\n",
       "   'ValueError',\n",
       "   'Warning',\n",
       "   'WindowsError',\n",
       "   'ZeroDivisionError',\n",
       "   '_IncompleteInputError',\n",
       "   '__IPYTHON__',\n",
       "   '__build_class__',\n",
       "   '__debug__',\n",
       "   '__doc__',\n",
       "   '__import__',\n",
       "   '__loader__',\n",
       "   '__name__',\n",
       "   '__package__',\n",
       "   '__spec__',\n",
       "   'abs',\n",
       "   'aiter',\n",
       "   'all',\n",
       "   'anext',\n",
       "   'any',\n",
       "   'ascii',\n",
       "   'bin',\n",
       "   'bool',\n",
       "   'breakpoint',\n",
       "   'bytearray',\n",
       "   'bytes',\n",
       "   'callable',\n",
       "   'chr',\n",
       "   'classmethod',\n",
       "   'compile',\n",
       "   'complex',\n",
       "   'copyright',\n",
       "   'credits',\n",
       "   'delattr',\n",
       "   'dict',\n",
       "   'dir',\n",
       "   'display',\n",
       "   'divmod',\n",
       "   'enumerate',\n",
       "   'eval',\n",
       "   'exec',\n",
       "   'execfile',\n",
       "   'filter',\n",
       "   'float',\n",
       "   'format',\n",
       "   'frozenset',\n",
       "   'get_ipython',\n",
       "   'getattr',\n",
       "   'globals',\n",
       "   'hasattr',\n",
       "   'hash',\n",
       "   'help',\n",
       "   'hex',\n",
       "   'id',\n",
       "   'input',\n",
       "   'int',\n",
       "   'isinstance',\n",
       "   'issubclass',\n",
       "   'iter',\n",
       "   'len',\n",
       "   'license',\n",
       "   'list',\n",
       "   'locals',\n",
       "   'map',\n",
       "   'max',\n",
       "   'memoryview',\n",
       "   'min',\n",
       "   'next',\n",
       "   'object',\n",
       "   'oct',\n",
       "   'open',\n",
       "   'ord',\n",
       "   'pow',\n",
       "   'print',\n",
       "   'property',\n",
       "   'range',\n",
       "   'repr',\n",
       "   'reversed',\n",
       "   'round',\n",
       "   'runfile',\n",
       "   'set',\n",
       "   'setattr',\n",
       "   'slice',\n",
       "   'sorted',\n",
       "   'staticmethod',\n",
       "   'str',\n",
       "   'sum',\n",
       "   'super',\n",
       "   'tuple',\n",
       "   'type',\n",
       "   'vars',\n",
       "   'zip'],\n",
       "  46: {...}},\n",
       " '_dh': [WindowsPath('c:/Users/mario/OneDrive/Documents/Education/Guides')],\n",
       " 'In': ['',\n",
       "  \"test_dict = {'Mercedes':1980, 'Ferrari':1990, 'McLaren':2000}\",\n",
       "  \"test_dict.update({'Red Bull':2010})\",\n",
       "  \"# test_dict.update({'Red Bull':2010})\\ntest_dict\",\n",
       "  \"if 'Mercedes' in test_dict:\\n    print('found')\",\n",
       "  \"test_dict['Mercedes']\",\n",
       "  \"test_dict.get('Ferrari')\",\n",
       "  \"test_dict.get('Williams', 'Team not found')\",\n",
       "  \"test_dict.pop('Mercedes')\",\n",
       "  \"test_dict.pop('Williams', 'Team not found')\",\n",
       "  'test_dict.keys()',\n",
       "  'test_dict.values()',\n",
       "  'test_dict.items()',\n",
       "  'for key, value in test_dict.items():\\n    print(key, value)',\n",
       "  'for key in test_dict:\\n    print(key)',\n",
       "  'for value in test_dict.values():\\n    print(value)',\n",
       "  'for key in test_dict:\\n    print(key)',\n",
       "  'items_on_sale = [\"blue shirt\", \"knit dress\", \"red headband\", \"dinosaur onesie\"]\\n\\nfor item in items_on_sale:\\n    print(item)\\n    if item == \"knit dress\":\\n        break',\n",
       "  'big_number_list = [1, 2, -1, 4, -5, 5, 2, -9]\\n\\nfor i in big_number_list:\\n    if i <= 0:\\n        continue\\n    print(i)',\n",
       "  'name = [\"Jenny\", \"Alexus\", \"Sam\", \"Grace\"]\\nheights = [61, 70, 67, 64]\\nstudents = {key:value for key, value in zip(name, heights)}\\nstudents',\n",
       "  'user_name = \"Dave\"  \\nmatch user_name:  \\n    case \"Dave\":  \\n        print(\"Get off my computer Dave!\")  \\n    case \"angela_catlady_87\":  \\n        print(\"I know it is you, Dave! Go away!\")   \\n    case \"Cockamamie\":  \\n        print(\"Access Granted.\")  \\n    case default:  \\n        print(\"Username not recognized.\") ',\n",
       "  'def my_function(*args):\\n    print(args)',\n",
       "  'def my_function(*args):\\n    print(args)\\n\\nmy_function(1, 2, 3)',\n",
       "  \"def print_animals(animal1, animal2, *args, animal4, **kwargs):\\n    print(animal1, animal2)\\n    print(args)\\n    print(animal4)\\n    print(kwargs)\\n\\nprint_animals('Snake', 'Fish', 'Guinea Pig', 'Owl', animal4='Cat', animal5='Dog')\",\n",
       "  'my_num_list = [3, 6, 9]\\n\\ndef sum(num1, num2, num3):\\n    print(num1 + num2 + num3)\\n\\nsum(*my_num_list)',\n",
       "  \"numbers = {'num1': 3, 'num2': 6, 'num3': 9}\\n\\ndef sum(num1, num2, num3):\\n    print(num1 + num2 + num3)\\n\\nsum(**numbers)\",\n",
       "  '# Here, we assign a function to a variable\\nuppercase = str.upper \\n\\n# And then call it \\nbig_pie = uppercase(\"pumpkinpie\")\\n\\n# Here we store two functions in a list\\nstring_manipulation_functions = [str.upper, str.lower] ',\n",
       "  '# Regular function \\ndef square(x, y): \\n    return x ** y \\n\\n# Lambda function \\nsquare_lambda = lambda x, y: x ** y \\nsquare_lambda(4,2)',\n",
       "  'numbers = [1, 2, 3, 4, 5] \\nsquared = list(map(lambda x: x ** 2, numbers)) \\nprint(squared)  # Output: [1, 4, 9, 16, 25] ',\n",
       "  'numbers = [1, 2, 3, 4, 5, 6, 7, 8, 9, 10] \\neven_numbers = list(filter(lambda x: x % 2 == 0, numbers)) \\nprint(even_numbers)  # Output: [2, 4, 6, 8, 10] ',\n",
       "  'from functools import reduce\\n \\nint_list = [3, 6, 9, 12]\\nreduced_int_list = reduce(lambda x,y: x*y, int_list)\\n\\nprint(reduced_int_list)\\n# 1944',\n",
       "  \"students = [('Alice', 'A', 15), ('Bob', 'B', 12), ('Charlie', 'A', 20)] \\nsorted_students = sorted(students, key=lambda x: x[2]) \\nprint(sorted_students) \",\n",
       "  'def log_execution(func):\\n    def wrapper(*args, **kwargs):\\n        print(f\"Executing {func.__name__} with arguments {args} and {kwargs}\")\\n        result = func(*args, **kwargs)\\n        print(f\"Finished executing {func.__name__}\")\\n        return result\\n    return wrapper',\n",
       "  '# Using the decorator\\n@log_execution\\ndef add(a, b):\\n    return a + b\\n\\n# Calling the decorated function\\nadd(3, 5)',\n",
       "  'def log_execution(func):\\n    def wrapper(*args, **kwargs):\\n        print(f\"Executing {func.__name__} with arguments {args} and {kwargs}\")\\n        result = func(*args, **kwargs)\\n        print(f\"Finished executing: {func.__name__}\")\\n        return result\\n    return wrapper',\n",
       "  '# Using the decorator\\n@log_execution\\ndef add(a, b):\\n    return a + b\\n\\n# Calling the decorated function\\nadd(3, 5)',\n",
       "  'class CoolClass:\\n    pass\\n\\ncool_instance = CoolClass()',\n",
       "  'class DistanceConverter:\\n    \\n    kms_in_a_mile = 1.609\\n    \\n    def how_many_kms(self, miles):\\n        return miles * self.kms_in_a_mile',\n",
       "  'class Employee():\\n    def __init__(self, name):\\n        self.name = name\\n\\n    def __repr__(self):\\n        return self.name\\n\\nargus = Employee(\"Argus Filch\")\\nprint(argus)',\n",
       "  'class SearchEngineEntry:\\n    secure_prefix = \"https://\"\\n    def __init__(self, url):\\n        self.url = url\\n\\n    def secure(self):\\n        return \"{prefix}{site}\".format(prefix=self.secure_prefix, site=self.url)\\n\\ncodecademy = SearchEngineEntry(\"www.codecademy.com\")\\nwikipedia = SearchEngineEntry(\"www.wikipedia.org\")\\n\\nprint(codecademy.secure())\\n# prints \"https://www.codecademy.com\"\\n\\nprint(wikipedia.secure())\\n# prints \"https://www.wikipedia.org\"',\n",
       "  'class ParentClass:\\n  #class methods/properties...\\n\\nclass ChildClass(ParentClass):\\n  #class methods/properties...',\n",
       "  'class Animal:\\n  def __init__(self, name):\\n    self.name = name\\n\\n  def make_noise(self):\\n    print(\"{} says, Grrrr\".format(self.name))\\n\\npet1 = Animal(\"Rex\")\\npet1.make_noise() # Rex says, Grrrr\\n\\nclass Cat(Animal):\\n\\n  def make_noise(self):\\n    print(\"{} says, Meow!\".format(self.name))\\n\\npet2 = Cat(\"Maisy\")\\npet2.make_noise() # Maisy says, Meow!',\n",
       "  'class Animal:\\n  def __init__(self, name, sound=\"Grrrr\"):\\n    self.name = name\\n    self.sound = sound\\n\\n  def make_noise(self):\\n    print(\"{} says, {}\".format(self.name, self.sound))\\n\\nclass Cat(Animal):\\n  def __init__(self, name):\\n    super().__init__(name, \"Meow!\") \\n\\npet_cat = Cat(\"Rachel\")\\npet_cat.make_noise() # Rachel says, Meow!',\n",
       "  'class Animal:\\n  def __init__(self, name):\\n    self._name = name\\n    self._age = None\\n\\n  def get_age(self):\\n    return self._age\\n\\n  def set_age(self, new_age):\\n    if isinstance(new_age, int):\\n      self._age = new_age\\n    else:\\n      raise TypeError\\n\\n  def delete_age(self):\\n    del self._age\\n    print(\"_age Deleted\")',\n",
       "  'print(dir(__builtins__))',\n",
       "  'dir(__builtins__)',\n",
       "  'globals()',\n",
       "  'locals()'],\n",
       " 'Out': {3: {'Ferrari': 1990, 'McLaren': 2000, 'Red Bull': 2010},\n",
       "  5: 1980,\n",
       "  6: 1990,\n",
       "  7: 'Team not found',\n",
       "  8: 1980,\n",
       "  9: 'Team not found',\n",
       "  10: dict_keys(['Ferrari', 'McLaren', 'Red Bull']),\n",
       "  11: dict_values([1990, 2000, 2010]),\n",
       "  12: dict_items([('Ferrari', 1990), ('McLaren', 2000), ('Red Bull', 2010)]),\n",
       "  19: {'Jenny': 61, 'Alexus': 70, 'Sam': 67, 'Grace': 64},\n",
       "  27: 16,\n",
       "  33: 8,\n",
       "  35: 8,\n",
       "  45: ['ArithmeticError',\n",
       "   'AssertionError',\n",
       "   'AttributeError',\n",
       "   'BaseException',\n",
       "   'BaseExceptionGroup',\n",
       "   'BlockingIOError',\n",
       "   'BrokenPipeError',\n",
       "   'BufferError',\n",
       "   'BytesWarning',\n",
       "   'ChildProcessError',\n",
       "   'ConnectionAbortedError',\n",
       "   'ConnectionError',\n",
       "   'ConnectionRefusedError',\n",
       "   'ConnectionResetError',\n",
       "   'DeprecationWarning',\n",
       "   'EOFError',\n",
       "   'Ellipsis',\n",
       "   'EncodingWarning',\n",
       "   'EnvironmentError',\n",
       "   'Exception',\n",
       "   'ExceptionGroup',\n",
       "   'False',\n",
       "   'FileExistsError',\n",
       "   'FileNotFoundError',\n",
       "   'FloatingPointError',\n",
       "   'FutureWarning',\n",
       "   'GeneratorExit',\n",
       "   'IOError',\n",
       "   'ImportError',\n",
       "   'ImportWarning',\n",
       "   'IndentationError',\n",
       "   'IndexError',\n",
       "   'InterruptedError',\n",
       "   'IsADirectoryError',\n",
       "   'KeyError',\n",
       "   'KeyboardInterrupt',\n",
       "   'LookupError',\n",
       "   'MemoryError',\n",
       "   'ModuleNotFoundError',\n",
       "   'NameError',\n",
       "   'None',\n",
       "   'NotADirectoryError',\n",
       "   'NotImplemented',\n",
       "   'NotImplementedError',\n",
       "   'OSError',\n",
       "   'OverflowError',\n",
       "   'PendingDeprecationWarning',\n",
       "   'PermissionError',\n",
       "   'ProcessLookupError',\n",
       "   'PythonFinalizationError',\n",
       "   'RecursionError',\n",
       "   'ReferenceError',\n",
       "   'ResourceWarning',\n",
       "   'RuntimeError',\n",
       "   'RuntimeWarning',\n",
       "   'StopAsyncIteration',\n",
       "   'StopIteration',\n",
       "   'SyntaxError',\n",
       "   'SyntaxWarning',\n",
       "   'SystemError',\n",
       "   'SystemExit',\n",
       "   'TabError',\n",
       "   'TimeoutError',\n",
       "   'True',\n",
       "   'TypeError',\n",
       "   'UnboundLocalError',\n",
       "   'UnicodeDecodeError',\n",
       "   'UnicodeEncodeError',\n",
       "   'UnicodeError',\n",
       "   'UnicodeTranslateError',\n",
       "   'UnicodeWarning',\n",
       "   'UserWarning',\n",
       "   'ValueError',\n",
       "   'Warning',\n",
       "   'WindowsError',\n",
       "   'ZeroDivisionError',\n",
       "   '_IncompleteInputError',\n",
       "   '__IPYTHON__',\n",
       "   '__build_class__',\n",
       "   '__debug__',\n",
       "   '__doc__',\n",
       "   '__import__',\n",
       "   '__loader__',\n",
       "   '__name__',\n",
       "   '__package__',\n",
       "   '__spec__',\n",
       "   'abs',\n",
       "   'aiter',\n",
       "   'all',\n",
       "   'anext',\n",
       "   'any',\n",
       "   'ascii',\n",
       "   'bin',\n",
       "   'bool',\n",
       "   'breakpoint',\n",
       "   'bytearray',\n",
       "   'bytes',\n",
       "   'callable',\n",
       "   'chr',\n",
       "   'classmethod',\n",
       "   'compile',\n",
       "   'complex',\n",
       "   'copyright',\n",
       "   'credits',\n",
       "   'delattr',\n",
       "   'dict',\n",
       "   'dir',\n",
       "   'display',\n",
       "   'divmod',\n",
       "   'enumerate',\n",
       "   'eval',\n",
       "   'exec',\n",
       "   'execfile',\n",
       "   'filter',\n",
       "   'float',\n",
       "   'format',\n",
       "   'frozenset',\n",
       "   'get_ipython',\n",
       "   'getattr',\n",
       "   'globals',\n",
       "   'hasattr',\n",
       "   'hash',\n",
       "   'help',\n",
       "   'hex',\n",
       "   'id',\n",
       "   'input',\n",
       "   'int',\n",
       "   'isinstance',\n",
       "   'issubclass',\n",
       "   'iter',\n",
       "   'len',\n",
       "   'license',\n",
       "   'list',\n",
       "   'locals',\n",
       "   'map',\n",
       "   'max',\n",
       "   'memoryview',\n",
       "   'min',\n",
       "   'next',\n",
       "   'object',\n",
       "   'oct',\n",
       "   'open',\n",
       "   'ord',\n",
       "   'pow',\n",
       "   'print',\n",
       "   'property',\n",
       "   'range',\n",
       "   'repr',\n",
       "   'reversed',\n",
       "   'round',\n",
       "   'runfile',\n",
       "   'set',\n",
       "   'setattr',\n",
       "   'slice',\n",
       "   'sorted',\n",
       "   'staticmethod',\n",
       "   'str',\n",
       "   'sum',\n",
       "   'super',\n",
       "   'tuple',\n",
       "   'type',\n",
       "   'vars',\n",
       "   'zip'],\n",
       "  46: {...}},\n",
       " 'get_ipython': <bound method InteractiveShell.get_ipython of <ipykernel.zmqshell.ZMQInteractiveShell object at 0x00000251C84FEF90>>,\n",
       " 'exit': <IPython.core.autocall.ZMQExitAutocall at 0x251c8590830>,\n",
       " 'quit': <IPython.core.autocall.ZMQExitAutocall at 0x251c8590830>,\n",
       " 'open': <function _io.open(file, mode='r', buffering=-1, encoding=None, errors=None, newline=None, closefd=True, opener=None)>,\n",
       " '_': {...},\n",
       " '__': ['ArithmeticError',\n",
       "  'AssertionError',\n",
       "  'AttributeError',\n",
       "  'BaseException',\n",
       "  'BaseExceptionGroup',\n",
       "  'BlockingIOError',\n",
       "  'BrokenPipeError',\n",
       "  'BufferError',\n",
       "  'BytesWarning',\n",
       "  'ChildProcessError',\n",
       "  'ConnectionAbortedError',\n",
       "  'ConnectionError',\n",
       "  'ConnectionRefusedError',\n",
       "  'ConnectionResetError',\n",
       "  'DeprecationWarning',\n",
       "  'EOFError',\n",
       "  'Ellipsis',\n",
       "  'EncodingWarning',\n",
       "  'EnvironmentError',\n",
       "  'Exception',\n",
       "  'ExceptionGroup',\n",
       "  'False',\n",
       "  'FileExistsError',\n",
       "  'FileNotFoundError',\n",
       "  'FloatingPointError',\n",
       "  'FutureWarning',\n",
       "  'GeneratorExit',\n",
       "  'IOError',\n",
       "  'ImportError',\n",
       "  'ImportWarning',\n",
       "  'IndentationError',\n",
       "  'IndexError',\n",
       "  'InterruptedError',\n",
       "  'IsADirectoryError',\n",
       "  'KeyError',\n",
       "  'KeyboardInterrupt',\n",
       "  'LookupError',\n",
       "  'MemoryError',\n",
       "  'ModuleNotFoundError',\n",
       "  'NameError',\n",
       "  'None',\n",
       "  'NotADirectoryError',\n",
       "  'NotImplemented',\n",
       "  'NotImplementedError',\n",
       "  'OSError',\n",
       "  'OverflowError',\n",
       "  'PendingDeprecationWarning',\n",
       "  'PermissionError',\n",
       "  'ProcessLookupError',\n",
       "  'PythonFinalizationError',\n",
       "  'RecursionError',\n",
       "  'ReferenceError',\n",
       "  'ResourceWarning',\n",
       "  'RuntimeError',\n",
       "  'RuntimeWarning',\n",
       "  'StopAsyncIteration',\n",
       "  'StopIteration',\n",
       "  'SyntaxError',\n",
       "  'SyntaxWarning',\n",
       "  'SystemError',\n",
       "  'SystemExit',\n",
       "  'TabError',\n",
       "  'TimeoutError',\n",
       "  'True',\n",
       "  'TypeError',\n",
       "  'UnboundLocalError',\n",
       "  'UnicodeDecodeError',\n",
       "  'UnicodeEncodeError',\n",
       "  'UnicodeError',\n",
       "  'UnicodeTranslateError',\n",
       "  'UnicodeWarning',\n",
       "  'UserWarning',\n",
       "  'ValueError',\n",
       "  'Warning',\n",
       "  'WindowsError',\n",
       "  'ZeroDivisionError',\n",
       "  '_IncompleteInputError',\n",
       "  '__IPYTHON__',\n",
       "  '__build_class__',\n",
       "  '__debug__',\n",
       "  '__doc__',\n",
       "  '__import__',\n",
       "  '__loader__',\n",
       "  '__name__',\n",
       "  '__package__',\n",
       "  '__spec__',\n",
       "  'abs',\n",
       "  'aiter',\n",
       "  'all',\n",
       "  'anext',\n",
       "  'any',\n",
       "  'ascii',\n",
       "  'bin',\n",
       "  'bool',\n",
       "  'breakpoint',\n",
       "  'bytearray',\n",
       "  'bytes',\n",
       "  'callable',\n",
       "  'chr',\n",
       "  'classmethod',\n",
       "  'compile',\n",
       "  'complex',\n",
       "  'copyright',\n",
       "  'credits',\n",
       "  'delattr',\n",
       "  'dict',\n",
       "  'dir',\n",
       "  'display',\n",
       "  'divmod',\n",
       "  'enumerate',\n",
       "  'eval',\n",
       "  'exec',\n",
       "  'execfile',\n",
       "  'filter',\n",
       "  'float',\n",
       "  'format',\n",
       "  'frozenset',\n",
       "  'get_ipython',\n",
       "  'getattr',\n",
       "  'globals',\n",
       "  'hasattr',\n",
       "  'hash',\n",
       "  'help',\n",
       "  'hex',\n",
       "  'id',\n",
       "  'input',\n",
       "  'int',\n",
       "  'isinstance',\n",
       "  'issubclass',\n",
       "  'iter',\n",
       "  'len',\n",
       "  'license',\n",
       "  'list',\n",
       "  'locals',\n",
       "  'map',\n",
       "  'max',\n",
       "  'memoryview',\n",
       "  'min',\n",
       "  'next',\n",
       "  'object',\n",
       "  'oct',\n",
       "  'open',\n",
       "  'ord',\n",
       "  'pow',\n",
       "  'print',\n",
       "  'property',\n",
       "  'range',\n",
       "  'repr',\n",
       "  'reversed',\n",
       "  'round',\n",
       "  'runfile',\n",
       "  'set',\n",
       "  'setattr',\n",
       "  'slice',\n",
       "  'sorted',\n",
       "  'staticmethod',\n",
       "  'str',\n",
       "  'sum',\n",
       "  'super',\n",
       "  'tuple',\n",
       "  'type',\n",
       "  'vars',\n",
       "  'zip'],\n",
       " '___': 8,\n",
       " '__vsc_ipynb_file__': 'c:\\\\Users\\\\mario\\\\OneDrive\\\\Documents\\\\Education\\\\Guides\\\\Software Engineering Guide.ipynb',\n",
       " '_i': 'globals()',\n",
       " '_ii': 'dir(__builtins__)',\n",
       " '_iii': 'print(dir(__builtins__))',\n",
       " '_i1': \"test_dict = {'Mercedes':1980, 'Ferrari':1990, 'McLaren':2000}\",\n",
       " 'test_dict': {'Ferrari': 1990, 'McLaren': 2000, 'Red Bull': 2010},\n",
       " '_i2': \"test_dict.update({'Red Bull':2010})\",\n",
       " '_i3': \"# test_dict.update({'Red Bull':2010})\\ntest_dict\",\n",
       " '_3': {'Ferrari': 1990, 'McLaren': 2000, 'Red Bull': 2010},\n",
       " '_i4': \"if 'Mercedes' in test_dict:\\n    print('found')\",\n",
       " '_i5': \"test_dict['Mercedes']\",\n",
       " '_5': 1980,\n",
       " '_i6': \"test_dict.get('Ferrari')\",\n",
       " '_6': 1990,\n",
       " '_i7': \"test_dict.get('Williams', 'Team not found')\",\n",
       " '_7': 'Team not found',\n",
       " '_i8': \"test_dict.pop('Mercedes')\",\n",
       " '_8': 1980,\n",
       " '_i9': \"test_dict.pop('Williams', 'Team not found')\",\n",
       " '_9': 'Team not found',\n",
       " '_i10': 'test_dict.keys()',\n",
       " '_10': dict_keys(['Ferrari', 'McLaren', 'Red Bull']),\n",
       " '_i11': 'test_dict.values()',\n",
       " '_11': dict_values([1990, 2000, 2010]),\n",
       " '_i12': 'test_dict.items()',\n",
       " '_12': dict_items([('Ferrari', 1990), ('McLaren', 2000), ('Red Bull', 2010)]),\n",
       " '_i13': 'for key, value in test_dict.items():\\n    print(key, value)',\n",
       " 'key': 'Red Bull',\n",
       " 'value': 2010,\n",
       " '_i14': 'for key in test_dict:\\n    print(key)',\n",
       " '_i15': 'for value in test_dict.values():\\n    print(value)',\n",
       " '_i16': 'for key in test_dict:\\n    print(key)',\n",
       " '_i17': 'items_on_sale = [\"blue shirt\", \"knit dress\", \"red headband\", \"dinosaur onesie\"]\\n\\nfor item in items_on_sale:\\n    print(item)\\n    if item == \"knit dress\":\\n        break',\n",
       " 'items_on_sale': ['blue shirt',\n",
       "  'knit dress',\n",
       "  'red headband',\n",
       "  'dinosaur onesie'],\n",
       " 'item': 'knit dress',\n",
       " '_i18': 'big_number_list = [1, 2, -1, 4, -5, 5, 2, -9]\\n\\nfor i in big_number_list:\\n    if i <= 0:\\n        continue\\n    print(i)',\n",
       " 'big_number_list': [1, 2, -1, 4, -5, 5, 2, -9],\n",
       " 'i': -9,\n",
       " '_i19': 'name = [\"Jenny\", \"Alexus\", \"Sam\", \"Grace\"]\\nheights = [61, 70, 67, 64]\\nstudents = {key:value for key, value in zip(name, heights)}\\nstudents',\n",
       " 'name': ['Jenny', 'Alexus', 'Sam', 'Grace'],\n",
       " 'heights': [61, 70, 67, 64],\n",
       " 'students': [('Alice', 'A', 15), ('Bob', 'B', 12), ('Charlie', 'A', 20)],\n",
       " '_19': {'Jenny': 61, 'Alexus': 70, 'Sam': 67, 'Grace': 64},\n",
       " '_i20': 'user_name = \"Dave\"  \\nmatch user_name:  \\n    case \"Dave\":  \\n        print(\"Get off my computer Dave!\")  \\n    case \"angela_catlady_87\":  \\n        print(\"I know it is you, Dave! Go away!\")   \\n    case \"Cockamamie\":  \\n        print(\"Access Granted.\")  \\n    case default:  \\n        print(\"Username not recognized.\") ',\n",
       " 'user_name': 'Dave',\n",
       " '_i21': 'def my_function(*args):\\n    print(args)',\n",
       " 'my_function': <function __main__.my_function(*args)>,\n",
       " '_i22': 'def my_function(*args):\\n    print(args)\\n\\nmy_function(1, 2, 3)',\n",
       " '_i23': \"def print_animals(animal1, animal2, *args, animal4, **kwargs):\\n    print(animal1, animal2)\\n    print(args)\\n    print(animal4)\\n    print(kwargs)\\n\\nprint_animals('Snake', 'Fish', 'Guinea Pig', 'Owl', animal4='Cat', animal5='Dog')\",\n",
       " 'print_animals': <function __main__.print_animals(animal1, animal2, *args, animal4, **kwargs)>,\n",
       " '_i24': 'my_num_list = [3, 6, 9]\\n\\ndef sum(num1, num2, num3):\\n    print(num1 + num2 + num3)\\n\\nsum(*my_num_list)',\n",
       " 'my_num_list': [3, 6, 9],\n",
       " 'sum': <function __main__.sum(num1, num2, num3)>,\n",
       " '_i25': \"numbers = {'num1': 3, 'num2': 6, 'num3': 9}\\n\\ndef sum(num1, num2, num3):\\n    print(num1 + num2 + num3)\\n\\nsum(**numbers)\",\n",
       " 'numbers': [1, 2, 3, 4, 5, 6, 7, 8, 9, 10],\n",
       " '_i26': '# Here, we assign a function to a variable\\nuppercase = str.upper \\n\\n# And then call it \\nbig_pie = uppercase(\"pumpkinpie\")\\n\\n# Here we store two functions in a list\\nstring_manipulation_functions = [str.upper, str.lower] ',\n",
       " 'uppercase': <method 'upper' of 'str' objects>,\n",
       " 'big_pie': 'PUMPKINPIE',\n",
       " 'string_manipulation_functions': [<method 'upper' of 'str' objects>,\n",
       "  <method 'lower' of 'str' objects>],\n",
       " '_i27': '# Regular function \\ndef square(x, y): \\n    return x ** y \\n\\n# Lambda function \\nsquare_lambda = lambda x, y: x ** y \\nsquare_lambda(4,2)',\n",
       " 'square': <function __main__.square(x, y)>,\n",
       " 'square_lambda': <function __main__.<lambda>(x, y)>,\n",
       " '_27': 16,\n",
       " '_i28': 'numbers = [1, 2, 3, 4, 5] \\nsquared = list(map(lambda x: x ** 2, numbers)) \\nprint(squared)  # Output: [1, 4, 9, 16, 25] ',\n",
       " 'squared': [1, 4, 9, 16, 25],\n",
       " '_i29': 'numbers = [1, 2, 3, 4, 5, 6, 7, 8, 9, 10] \\neven_numbers = list(filter(lambda x: x % 2 == 0, numbers)) \\nprint(even_numbers)  # Output: [2, 4, 6, 8, 10] ',\n",
       " 'even_numbers': [2, 4, 6, 8, 10],\n",
       " '_i30': 'from functools import reduce\\n \\nint_list = [3, 6, 9, 12]\\nreduced_int_list = reduce(lambda x,y: x*y, int_list)\\n\\nprint(reduced_int_list)\\n# 1944',\n",
       " 'reduce': <function _functools.reduce>,\n",
       " 'int_list': [3, 6, 9, 12],\n",
       " 'reduced_int_list': 1944,\n",
       " '_i31': \"\\nstudents = [('Alice', 'A', 15), ('Bob', 'B', 12), ('Charlie', 'A', 20)] \\nsorted_students = sorted(students, key=lambda x: x[2]) \\nprint(sorted_students) \",\n",
       " 'sorted_students': [('Bob', 'B', 12),\n",
       "  ('Alice', 'A', 15),\n",
       "  ('Charlie', 'A', 20)],\n",
       " '_i32': 'def log_execution(func):\\n    def wrapper(*args, **kwargs):\\n        print(f\"Executing {func.__name__} with arguments {args} and {kwargs}\")\\n        result = func(*args, **kwargs)\\n        print(f\"Finished executing {func.__name__}\")\\n        return result\\n    return wrapper',\n",
       " 'log_execution': <function __main__.log_execution(func)>,\n",
       " '_i33': '# Using the decorator\\n@log_execution\\ndef add(a, b):\\n    return a + b\\n\\n# Calling the decorated function\\nadd(3, 5)',\n",
       " 'add': <function __main__.log_execution.<locals>.wrapper(*args, **kwargs)>,\n",
       " '_33': 8,\n",
       " '_i34': 'def log_execution(func):\\n    def wrapper(*args, **kwargs):\\n        print(f\"Executing {func.__name__} with arguments {args} and {kwargs}\")\\n        result = func(*args, **kwargs)\\n        print(f\"Finished executing: {func.__name__}\")\\n        return result\\n    return wrapper',\n",
       " '_i35': '# Using the decorator\\n@log_execution\\ndef add(a, b):\\n    return a + b\\n\\n# Calling the decorated function\\nadd(3, 5)',\n",
       " '_35': 8,\n",
       " '_i36': 'class CoolClass:\\n    pass\\n\\ncool_instance = CoolClass()',\n",
       " 'CoolClass': __main__.CoolClass,\n",
       " 'cool_instance': <__main__.CoolClass at 0x251c87b1940>,\n",
       " '_i37': 'class DistanceConverter:\\n    \\n    kms_in_a_mile = 1.609\\n    \\n    def how_many_kms(self, miles):\\n        return miles * self.kms_in_a_mile',\n",
       " 'DistanceConverter': __main__.DistanceConverter,\n",
       " '_i38': 'class Employee():\\n    def __init__(self, name):\\n        self.name = name\\n\\n    def __repr__(self):\\n        return self.name\\n\\nargus = Employee(\"Argus Filch\")\\nprint(argus)',\n",
       " 'Employee': __main__.Employee,\n",
       " 'argus': Argus Filch,\n",
       " '_i39': 'class SearchEngineEntry:\\n    secure_prefix = \"https://\"\\n    def __init__(self, url):\\n        self.url = url\\n\\n    def secure(self):\\n        return \"{prefix}{site}\".format(prefix=self.secure_prefix, site=self.url)\\n\\ncodecademy = SearchEngineEntry(\"www.codecademy.com\")\\nwikipedia = SearchEngineEntry(\"www.wikipedia.org\")\\n\\nprint(codecademy.secure())\\n# prints \"https://www.codecademy.com\"\\n\\nprint(wikipedia.secure())\\n# prints \"https://www.wikipedia.org\"',\n",
       " 'SearchEngineEntry': __main__.SearchEngineEntry,\n",
       " 'codecademy': <__main__.SearchEngineEntry at 0x251c87b17f0>,\n",
       " 'wikipedia': <__main__.SearchEngineEntry at 0x251c854b890>,\n",
       " '_i40': 'class ParentClass:\\n  #class methods/properties...\\n\\nclass ChildClass(ParentClass):\\n  #class methods/properties...',\n",
       " '_i41': 'class Animal:\\n  def __init__(self, name):\\n    self.name = name\\n\\n  def make_noise(self):\\n    print(\"{} says, Grrrr\".format(self.name))\\n\\npet1 = Animal(\"Rex\")\\npet1.make_noise() # Rex says, Grrrr\\n\\nclass Cat(Animal):\\n\\n  def make_noise(self):\\n    print(\"{} says, Meow!\".format(self.name))\\n\\npet2 = Cat(\"Maisy\")\\npet2.make_noise() # Maisy says, Meow!',\n",
       " 'Animal': __main__.Animal,\n",
       " 'pet1': <__main__.Animal at 0x251c87b1be0>,\n",
       " 'Cat': __main__.Cat,\n",
       " 'pet2': <__main__.Cat at 0x251c87b1d30>,\n",
       " '_i42': 'class Animal:\\n  def __init__(self, name, sound=\"Grrrr\"):\\n    self.name = name\\n    self.sound = sound\\n\\n  def make_noise(self):\\n    print(\"{} says, {}\".format(self.name, self.sound))\\n\\nclass Cat(Animal):\\n  def __init__(self, name):\\n    super().__init__(name, \"Meow!\") \\n\\npet_cat = Cat(\"Rachel\")\\npet_cat.make_noise() # Rachel says, Meow!',\n",
       " 'pet_cat': <__main__.Cat at 0x251c87b1e80>,\n",
       " '_i43': 'class Animal:\\n  def __init__(self, name):\\n    self._name = name\\n    self._age = None\\n\\n  def get_age(self):\\n    return self._age\\n\\n  def set_age(self, new_age):\\n    if isinstance(new_age, int):\\n      self._age = new_age\\n    else:\\n      raise TypeError\\n\\n  def delete_age(self):\\n    del self._age\\n    print(\"_age Deleted\")',\n",
       " '_i44': 'print(dir(__builtins__))',\n",
       " '_i45': 'dir(__builtins__)',\n",
       " '_45': ['ArithmeticError',\n",
       "  'AssertionError',\n",
       "  'AttributeError',\n",
       "  'BaseException',\n",
       "  'BaseExceptionGroup',\n",
       "  'BlockingIOError',\n",
       "  'BrokenPipeError',\n",
       "  'BufferError',\n",
       "  'BytesWarning',\n",
       "  'ChildProcessError',\n",
       "  'ConnectionAbortedError',\n",
       "  'ConnectionError',\n",
       "  'ConnectionRefusedError',\n",
       "  'ConnectionResetError',\n",
       "  'DeprecationWarning',\n",
       "  'EOFError',\n",
       "  'Ellipsis',\n",
       "  'EncodingWarning',\n",
       "  'EnvironmentError',\n",
       "  'Exception',\n",
       "  'ExceptionGroup',\n",
       "  'False',\n",
       "  'FileExistsError',\n",
       "  'FileNotFoundError',\n",
       "  'FloatingPointError',\n",
       "  'FutureWarning',\n",
       "  'GeneratorExit',\n",
       "  'IOError',\n",
       "  'ImportError',\n",
       "  'ImportWarning',\n",
       "  'IndentationError',\n",
       "  'IndexError',\n",
       "  'InterruptedError',\n",
       "  'IsADirectoryError',\n",
       "  'KeyError',\n",
       "  'KeyboardInterrupt',\n",
       "  'LookupError',\n",
       "  'MemoryError',\n",
       "  'ModuleNotFoundError',\n",
       "  'NameError',\n",
       "  'None',\n",
       "  'NotADirectoryError',\n",
       "  'NotImplemented',\n",
       "  'NotImplementedError',\n",
       "  'OSError',\n",
       "  'OverflowError',\n",
       "  'PendingDeprecationWarning',\n",
       "  'PermissionError',\n",
       "  'ProcessLookupError',\n",
       "  'PythonFinalizationError',\n",
       "  'RecursionError',\n",
       "  'ReferenceError',\n",
       "  'ResourceWarning',\n",
       "  'RuntimeError',\n",
       "  'RuntimeWarning',\n",
       "  'StopAsyncIteration',\n",
       "  'StopIteration',\n",
       "  'SyntaxError',\n",
       "  'SyntaxWarning',\n",
       "  'SystemError',\n",
       "  'SystemExit',\n",
       "  'TabError',\n",
       "  'TimeoutError',\n",
       "  'True',\n",
       "  'TypeError',\n",
       "  'UnboundLocalError',\n",
       "  'UnicodeDecodeError',\n",
       "  'UnicodeEncodeError',\n",
       "  'UnicodeError',\n",
       "  'UnicodeTranslateError',\n",
       "  'UnicodeWarning',\n",
       "  'UserWarning',\n",
       "  'ValueError',\n",
       "  'Warning',\n",
       "  'WindowsError',\n",
       "  'ZeroDivisionError',\n",
       "  '_IncompleteInputError',\n",
       "  '__IPYTHON__',\n",
       "  '__build_class__',\n",
       "  '__debug__',\n",
       "  '__doc__',\n",
       "  '__import__',\n",
       "  '__loader__',\n",
       "  '__name__',\n",
       "  '__package__',\n",
       "  '__spec__',\n",
       "  'abs',\n",
       "  'aiter',\n",
       "  'all',\n",
       "  'anext',\n",
       "  'any',\n",
       "  'ascii',\n",
       "  'bin',\n",
       "  'bool',\n",
       "  'breakpoint',\n",
       "  'bytearray',\n",
       "  'bytes',\n",
       "  'callable',\n",
       "  'chr',\n",
       "  'classmethod',\n",
       "  'compile',\n",
       "  'complex',\n",
       "  'copyright',\n",
       "  'credits',\n",
       "  'delattr',\n",
       "  'dict',\n",
       "  'dir',\n",
       "  'display',\n",
       "  'divmod',\n",
       "  'enumerate',\n",
       "  'eval',\n",
       "  'exec',\n",
       "  'execfile',\n",
       "  'filter',\n",
       "  'float',\n",
       "  'format',\n",
       "  'frozenset',\n",
       "  'get_ipython',\n",
       "  'getattr',\n",
       "  'globals',\n",
       "  'hasattr',\n",
       "  'hash',\n",
       "  'help',\n",
       "  'hex',\n",
       "  'id',\n",
       "  'input',\n",
       "  'int',\n",
       "  'isinstance',\n",
       "  'issubclass',\n",
       "  'iter',\n",
       "  'len',\n",
       "  'license',\n",
       "  'list',\n",
       "  'locals',\n",
       "  'map',\n",
       "  'max',\n",
       "  'memoryview',\n",
       "  'min',\n",
       "  'next',\n",
       "  'object',\n",
       "  'oct',\n",
       "  'open',\n",
       "  'ord',\n",
       "  'pow',\n",
       "  'print',\n",
       "  'property',\n",
       "  'range',\n",
       "  'repr',\n",
       "  'reversed',\n",
       "  'round',\n",
       "  'runfile',\n",
       "  'set',\n",
       "  'setattr',\n",
       "  'slice',\n",
       "  'sorted',\n",
       "  'staticmethod',\n",
       "  'str',\n",
       "  'sum',\n",
       "  'super',\n",
       "  'tuple',\n",
       "  'type',\n",
       "  'vars',\n",
       "  'zip'],\n",
       " '_i46': 'globals()',\n",
       " '_46': {...},\n",
       " '_i47': 'locals()'}"
      ]
     },
     "execution_count": 47,
     "metadata": {},
     "output_type": "execute_result"
    }
   ],
   "source": [
    "locals()"
   ]
  },
  {
   "cell_type": "markdown",
   "metadata": {},
   "source": [
    "\n",
    "#### **Enclosing Namespace**\n",
    "Enclosing namespaces are created specifically when we work with nested functions and just like with the local namespace, will only exist until the function is done executing. \n"
   ]
  },
  {
   "attachments": {
    "image.png": {
     "image/png": "[encoded data removed]"
    }
   },
   "cell_type": "markdown",
   "metadata": {},
   "source": [
    "### **Scope**\n",
    "\n",
    "Scope defines which namespaces our program will investigate (to check names) and in what order. While multiple namespaces usually exist at once, this does not mean we can access all of them in different parts of our program.\n",
    "\n",
    "![image.png](attachment:image.png)\n"
   ]
  },
  {
   "cell_type": "markdown",
   "metadata": {},
   "source": [
    "#### **Local Scope**\n",
    "Whenever we decide to call a function, a new local scope will be generated. Each subsequent function call will generate a new local scope. Since the local scope is the deepest level of the four scopes, names in a local scope cannot be accessed or modified by any code called in outer scopes. As a rule of thumb, any names created in a local namespace are usually also locally scoped.\n",
    "\n",
    "#### **Enclosing Scope**\n",
    "Enclosing scope allows any value defined in an enclosing function to be accessed in nested functions below it.\n",
    "The flow of scope access only flows upwards. This means that the deepest level has access to every enclosing namespace above it, but not the other way around. Immutable objects, such as strings or numbers, can be accessed in nested functions, but cannot be modified.\n"
   ]
  },
  {
   "cell_type": "code",
   "execution_count": null,
   "metadata": {},
   "outputs": [],
   "source": [
    "def outer_function():\n",
    "    enclosing_value = \"Enclosing Value\"\n",
    "\n",
    "    def nested_function():\n",
    "        enclosing_value += \"changed\"\n",
    "\n",
    "    nested_function()\n",
    "    print(enclosing_value)\n",
    "\n",
    "\n",
    "outer_function()"
   ]
  },
  {
   "cell_type": "markdown",
   "metadata": {},
   "source": [
    "#### **Global Scope**\n",
    "At the highest level of access, we have the global scope. Names defined in the global namespace will automatically be globally scoped and can be accessed anywhere in our program. However, similar to local scope, values can only be accessed but not modified.\n"
   ]
  },
  {
   "cell_type": "code",
   "execution_count": null,
   "metadata": {},
   "outputs": [],
   "source": [
    "# global scope variable\n",
    "gravity = 9.8\n",
    "\n",
    "\n",
    "def get_force(mass):\n",
    "    gravity += 100\n",
    "    return mass * gravity\n",
    "\n",
    "\n",
    "print(get_force(60))"
   ]
  },
  {
   "cell_type": "markdown",
   "metadata": {},
   "source": [
    "\n",
    "\n",
    "Scope also applies to classes and to the files you are working on. Even files inside the same directory do not have access to each other’s variables, functions, functions, classes, or any other code. So, if I have a file sandwiches.py and another file hungry_people.py, how do I give my hungry people access to all the sandwiches I defined? Well, files are modules, so you can give a file access to another file’s content using that glorious import statement.\n"
   ]
  },
  {
   "cell_type": "markdown",
   "metadata": {},
   "source": [
    "## **Debubbing**\n",
    "\n",
    "Debugging is an essential step in software development that helps to ensure that specific applications run as designed and planned for. By identifying and fixing errors, developers can enhance the overall quality of their code, leading to more reliable and efficient software. This proactive approach not only prevents issues in production but also contributes to a smoother development process.\n"
   ]
  },
  {
   "cell_type": "markdown",
   "metadata": {},
   "source": [
    "\n",
    "### **Print Statements**\n",
    "\n",
    "Print statements are one of the simplest and most effective forms of debugging. By inserting `print()` calls at various points in the code, we can monitor variable values and the execution flow. This helps identify where things might be going wrong."
   ]
  },
  {
   "cell_type": "markdown",
   "metadata": {},
   "source": [
    "### **Logging Module**\n",
    "\n",
    "The logging module in Python is a powerful tool for tracking and recording events that happen during our program’s execution. Unlike print statements, logging can be configured to record messages of different severity levels (e.g., DEBUG, INFO, WARNING, ERROR, and CRITICAL) and can easily be directed to various outputs (like console or files). This makes it a more flexible and manageable approach for tracking application behavior and diagnosing issues."
   ]
  },
  {
   "cell_type": "code",
   "execution_count": null,
   "metadata": {},
   "outputs": [
    {
     "name": "stdout",
     "output_type": "stream",
     "text": [
      "Division by zero attempted.\n",
      "Division by zero attempted.\n"
     ]
    }
   ],
   "source": [
    "import logging\n",
    "import sys\n",
    "\n",
    "logger = logging.getLogger(__name__)\n",
    "stream_handler = logging.StreamHandler(sys.stdout)\n",
    "logger.addHandler(stream_handler)\n",
    "\n",
    "\n",
    "def division():\n",
    "    try:\n",
    "        dividend = float(input(\"Enter the dividend: \"))\n",
    "        divisor = float(input(\"Enter the divisor: \"))\n",
    "        if divisor == 0:\n",
    "            logger.error(\"Division by zero attempted.\")\n",
    "            return None\n",
    "        result = dividend / divisor\n",
    "        logger.info(f\"Division successful: {dividend} / {divisor} = {result}\")\n",
    "        return result\n",
    "    except ValueError:\n",
    "        logger.exception(\"Invalid input: non-numeric value.\")\n",
    "        return None\n",
    "\n",
    "\n",
    "result = division()\n",
    "\n",
    "if result is not None:\n",
    "    print(f\"Result: {result}\")"
   ]
  },
  {
   "cell_type": "markdown",
   "metadata": {},
   "source": [
    "In this example, the logging module captures both successful operations and errors, providing a clear log of what happened during execution, which is more manageable than using print statements."
   ]
  },
  {
   "cell_type": "markdown",
   "metadata": {},
   "source": [
    "### **Unit Testing**\n",
    "\n",
    "Unit testing involves writing tests for individual functions or modules to ensure they work as expected. This proactive approach helps catch bugs before they become issues in the larger application. Frameworks like unittest in Python make it easy to create and run these tests."
   ]
  },
  {
   "cell_type": "code",
   "execution_count": null,
   "metadata": {},
   "outputs": [],
   "source": [
    "import unittest"
   ]
  },
  {
   "cell_type": "markdown",
   "metadata": {},
   "source": [
    "### **Exception Handling**\n",
    "\n",
    "Exception handling allows us to manage errors gracefully in the code. By using try and except blocks, we can prevent the program from crashing and instead provide useful error messages or fallback actions. This technique improves the user experience and maintains application stability.\n",
    "\n",
    "```python\n",
    "try: \n",
    "    value = int(input(\"Enter a number: \")) \n",
    "\n",
    "except ValueError: \n",
    "    print(\"Please enter a valid number.\") \n",
    "```\n",
    "\n",
    "Here, the try block attempts to convert user input into an integer, and if it fails, the except block provides a helpful message without crashing the program."
   ]
  },
  {
   "cell_type": "markdown",
   "metadata": {},
   "source": [
    "### **Breakpoints and Debuggers**\n",
    "\n",
    "Debuggers, such as Python’s built-in `pdb`, allow to pause execution and inspect the current state of the program. By setting breakpoints, we can step through our code line by line, examine variable values, and understand the flow of execution in real time.\n",
    "\n",
    "Example: To use `pdb`, insert the following line where you want to start debugging:"
   ]
  },
  {
   "cell_type": "code",
   "execution_count": null,
   "metadata": {},
   "outputs": [
    {
     "name": "stdout",
     "output_type": "stream",
     "text": [
      "> \u001b[1;32mc:\\users\\mario\\appdata\\local\\temp\\ipykernel_30960\\2750071028.py\u001b[0m(3)\u001b[0;36m<module>\u001b[1;34m()\u001b[0m\n",
      "\n",
      "*** NameError: name 'sfd' is not defined\n",
      "*** NameError: name 'er' is not defined\n",
      "*** NameError: name 'er' is not defined\n",
      "*** NameError: name 'er' is not defined\n"
     ]
    }
   ],
   "source": [
    "import pdb\n",
    "\n",
    "\n",
    "def calculate_average(numbers):\n",
    "    pdb.set_trace()  # Add this inside the calculator_average function\n",
    "    total = 0\n",
    "    count = len(numbers)\n",
    "\n",
    "    for num in numbers:\n",
    "        total += num\n",
    "    average = total / count\n",
    "    return round(average, 2)\n",
    "\n",
    "\n",
    "def main():\n",
    "    numbers = [10, 20, 30, \"forty\", 50]\n",
    "    result = calculate_average(numbers)\n",
    "    print(\"The average is:\", result)\n",
    "\n",
    "\n",
    "main()"
   ]
  },
  {
   "cell_type": "markdown",
   "metadata": {},
   "source": [
    "Once you’ve added `pdb.set_trace()`, run the code in the terminal. When it hits the `pdb.set_trace()` line, the execution will pause, and you’ll enter the pdb prompt. "
   ]
  },
  {
   "cell_type": "markdown",
   "metadata": {},
   "source": [
    "In the pdb prompt, you can use the following commands to interact with your code:\n",
    "\n",
    "- `n` (next): This command steps to the next line of code. It’s useful for following the program’s flow line by line.\n",
    "- `p <variable>` (print): This prints the value of a variable. For example, typing print(num) will show the current value of num in the loop.\n",
    "- `c` (continue): This runs the code until the next breakpoint or the program finishes."
   ]
  },
  {
   "cell_type": "markdown",
   "metadata": {},
   "source": [
    "Using `pdb` helps you pinpoint the exact line and variable causing an issue more precisely than print statements. This is especially useful for complex logic, loops, or when you need to track the state of multiple variables over time. While print statements can give you a snapshot of a variable’s state, pdb allows you to step through the program and watch how values change, giving you more control and insight into debugging."
   ]
  },
  {
   "cell_type": "markdown",
   "metadata": {},
   "source": [
    "### **Integrated Development Environments (IDEs)**\n",
    "\n",
    "IDEs like PyCharm, Visual Studio Code, and Spyder come equipped with built-in debugging tools that offer graphical interfaces for debugging. They typically include features such as breakpoints, variable watches, and call stack inspection, making the debugging process more intuitive.\n",
    "\n",
    "For example, in PyCharm, we can set breakpoints by clicking on the gutter next to the line numbers, run the code in debug mode, and inspect variables through a dedicated debug window."
   ]
  },
  {
   "cell_type": "markdown",
   "metadata": {},
   "source": [
    "1. Setting breakpoints: In the IDE, we can typically set a breakpoint by clicking in the margin next to the line number or by using a keyboard shortcut. When the program reaches this line during execution, it will stop running.\n",
    "\n",
    "2. Stepping through code: After hitting a breakpoint, developers can use stepping functions (e.g., Step Over, Step Into, Step Out) to navigate through the code:\n",
    "    - Step Over: Executes the current line and moves to the next line in the same scope, skipping over any function calls.\n",
    "    - Step Into: Moves into the function call on the current line, allowing for detailed inspection of that function’s execution.\n",
    "    - Step Out: Runs the remaining lines in the current function and returns to the calling function.\n",
    "\n",
    "3. Examining variables: While code is paused, we can hover over variables to view their current values or use the IDE’s variable inspection panel to monitor them."
   ]
  },
  {
   "cell_type": "code",
   "execution_count": null,
   "metadata": {},
   "outputs": [
    {
     "name": "stdout",
     "output_type": "stream",
     "text": [
      "[0, 1, 1, 2, 3]\n"
     ]
    }
   ],
   "source": [
    "def fibonacci(n):\n",
    "    a, b = 0, 1\n",
    "    result = []\n",
    "    for _ in range(n):\n",
    "        result.append(a)  # Set a breakpoint here\n",
    "        a, b = b, a + b  # Set a breakpoint here\n",
    "    return result\n",
    "\n",
    "\n",
    "# Testing the fibonacci function\n",
    "print(fibonacci(5))  # Output should be [0, 1, 1, 2, 3]"
   ]
  },
  {
   "cell_type": "markdown",
   "metadata": {},
   "source": [
    "### **Code Review**\n",
    "\n",
    "Having another set of eyes review our code can help identify errors we might have overlooked. Code reviews encourage collaboration and often reveal issues that the original author may not see."
   ]
  },
  {
   "attachments": {
    "image.png": {
     "image/png": "[encoded data removed]"
    }
   },
   "cell_type": "markdown",
   "metadata": {},
   "source": [
    "## **Exceptions**\n",
    "\n",
    "At this point, we are probably very familiar with the most common type of error: a syntax error. Syntax errors are mistakes in the structure of Python code. They are caught during a special parsing stage before a program is executed. They always prevent the entire program from running.\n",
    "\n",
    "`SyntaxError` means there is something wrong with the way your program is written — punctuation that does not belong, a command where it is not expected, or a missing parenthesis can all trigger a `SyntaxError`.\n",
    "As opposed to a syntax error, an exception is a different kind of error that can occur with syntactically correct code. Exceptions are runtime errors because they occur during program execution, only when the offending code (the code causing the error) is reached. \n",
    "\n",
    "A `NameError` occurs when the Python interpreter sees a word it does not recognize. Code that contains something that looks like a variable but was never defined will throw a `NameError`.\n",
    "\n",
    "Although the `NameError` has a similar output to a `SyntaxError` (both end with Error), it falls under the category of exceptions. Exceptions and syntax errors make up the two core categories for any error we will run into.\n",
    "\n",
    "![image.png](attachment:image.png)\n",
    "\n",
    "Python gives us a tool for gaining insight into exceptions - the `traceback`. A traceback is a summary that includes the exception type, a message, and the series of function calls preceding the exception, along with file names and line numbers.\n"
   ]
  },
  {
   "cell_type": "markdown",
   "metadata": {},
   "source": [
    "### **Built-in Exceptions**\n",
    "We saw one type of exception called the `NameError`. The `NameError` is just one of the many built-in exceptions — exceptions that are built into the Python language. Other built-in exceptions cover fields ranging from mathematical errors all the way to operating system errors.\n",
    "- A `TypeError` is reported by the Python interpreter when an operation is applied to a variable of an inappropriate type.\n",
    "- Accessing an element that does not exist produces an `IndexError`.\n",
    "- If we ever forget to indent, we’ll get an `IndentationError` or unexpected behaviour.\n",
    "- If we attempt to access an attribute that is neither a class variable nor an instance variable of the object Python will throw an `AttributeError`.\n"
   ]
  },
  {
   "cell_type": "markdown",
   "metadata": {},
   "source": [
    "Exceptions are objects just like anything else. Most exceptions inherit directly from a class called `Exception`; however, they all are derived directly or indirectly from the `BaseException` class. We can examine the base classes by using the `__bases__` attribute on any specific exception. We can even call `__bases__` on the `Exception` class to see its origins. \n"
   ]
  },
  {
   "cell_type": "markdown",
   "metadata": {},
   "source": [
    "### **Raising Exceptions**\n",
    "Encountering exceptions isn’t always an accident. We can throw an exception at any time by using the `raise` keyword, even when Python would not normally throw it.\n",
    "\n",
    "We might want to raise an exception anytime we think a mistake has or will occur in our program. This lets us stop program execution immediately and provide a useful error message instead of allowing mistakes to occur that may be difficult to diagnose at a later point.\n",
    "\n",
    "One way to use the `raise` keyword is by pairing it with a specific exception class name. We can either call the class by itself or call a constructor and provide a specific error message. So for example we could do:\n"
   ]
  },
  {
   "cell_type": "code",
   "execution_count": 6,
   "metadata": {},
   "outputs": [
    {
     "name": "stdout",
     "output_type": "stream",
     "text": [
      "Successfully opened cash register\n"
     ]
    }
   ],
   "source": [
    "def open_register(employee_status):\n",
    "    if employee_status == \"Authorized\":\n",
    "        print(\"Successfully opened cash register\")\n",
    "    else:\n",
    "        # Alternatives: raise TypeError() or TypeError('Message')\n",
    "        raise TypeError\n",
    "\n",
    "\n",
    "open_register(\"Authorized\")"
   ]
  },
  {
   "cell_type": "markdown",
   "metadata": {},
   "source": [
    "When only the class name is provided (as in the first example), Python calls the constructor method for us without any arguments (and thus no custom message will come up)."
   ]
  },
  {
   "cell_type": "code",
   "execution_count": 7,
   "metadata": {},
   "outputs": [
    {
     "name": "stdout",
     "output_type": "stream",
     "text": [
      "Successfully opened cash register\n"
     ]
    }
   ],
   "source": [
    "def open_register(employee_status):\n",
    "    if employee_status == \"Authorized\":\n",
    "        print(\"Successfully opened cash register\")\n",
    "    else:\n",
    "        # Alternatives: raise TypeError() or TypeError('Message')\n",
    "        raise TypeError(\"You have failed authorization\")\n",
    "\n",
    "\n",
    "open_register(\"Authorized\")"
   ]
  },
  {
   "cell_type": "markdown",
   "metadata": {},
   "source": [
    "Alternatively, when no built-in exception makes sense for the type of error our program might experience, it might be better to use a generic exception with a specific message. This is where we can use the base `Exception` class and provide a single argument that serves as the error message."
   ]
  },
  {
   "cell_type": "code",
   "execution_count": 8,
   "metadata": {},
   "outputs": [
    {
     "name": "stdout",
     "output_type": "stream",
     "text": [
      "Successfully opened cash register\n"
     ]
    }
   ],
   "source": [
    "def open_register(employee_status):\n",
    "    if employee_status == \"Authorized\":\n",
    "        print(\"Successfully opened cash register\")\n",
    "    else:\n",
    "        raise Exception(\"Employee does not have access!\")\n",
    "\n",
    "\n",
    "open_register(\"Authorized\")"
   ]
  },
  {
   "cell_type": "markdown",
   "metadata": {},
   "source": [
    "As a general rule of thumb, use an exception that provides the best explanation for the expected error for both the user and anyone that will read the code."
   ]
  },
  {
   "cell_type": "markdown",
   "metadata": {},
   "source": [
    "### **Exception Handling**\n",
    "\n",
    "So far, the exceptions we’ve encountered have caused our programs to stop executing. However, it is possible for programs to continue executing even after encountering an exception. This process is known as exception handling and is accomplished using the Python try/except clauses.\n",
    "\n",
    "1. Python will first attempt to execute code inside the `try` clause code block.\n",
    "2. If no exception is encountered in the code, the `except` clause is skipped and the program continues normally.\n",
    "3. If an exception does occur inside of the `try` code block, Python will immediately stop executing the code and begin executing the code inside the `except` code block (sometimes called a handler).\n"
   ]
  },
  {
   "cell_type": "code",
   "execution_count": 5,
   "metadata": {},
   "outputs": [
    {
     "name": "stdout",
     "output_type": "stream",
     "text": [
      "The hex value of red is #FF0000\n",
      "Loop continues...\n",
      "An exception occurred! Color does not exist.\n",
      "Loop continues...\n",
      "The hex value of yellow is #FFFF00\n",
      "Loop continues...\n"
     ]
    }
   ],
   "source": [
    "colors = {\n",
    "    \"red\": \"#FF0000\",\n",
    "    \"blue\": \"#0000FF\",\n",
    "    \"yellow\": \"#FFFF00\",\n",
    "}\n",
    "\n",
    "for color in (\"red\", \"green\", \"yellow\"):\n",
    "    try:\n",
    "        print(\"The hex value of \" + color + \" is \" + colors[color])\n",
    "    except:\n",
    "        print(\"An exception occurred! Color does not exist.\")\n",
    "    print(\"Loop continues...\")"
   ]
  },
  {
   "cell_type": "markdown",
   "metadata": {},
   "source": [
    "Exception handling is a powerful tool that lets us gain more flexibility in dealing with \n",
    "Preview: Docs Loading link description\n",
    "errors\n",
    " in our applications. We can use it to perform an action multiple times until it succeeds, or perhaps simply print a message when a non-critical part of our program doesn’t work properly."
   ]
  },
  {
   "cell_type": "markdown",
   "metadata": {},
   "source": [
    "#### **Specific Exceptions**\n",
    "\n",
    "The exception handlers from the previous exercise handled any exception hit during the try clause. However, in most cases, we will have an idea of the types of exceptions that might occur within our code. It is generally considered best practice to be as specific as possible with the exceptions we want to raise unless there is a specific reason for catching any type of exception.\n",
    "\n",
    "We can catch a specific exception by listing it after the `except` keyword, as in the example below:\n",
    "\n",
    "```python\n",
    "try:\n",
    "    print(undefined_var)\n",
    "except NameError:\n",
    "    print('We hit a NameError')\n",
    "```"
   ]
  },
  {
   "cell_type": "markdown",
   "metadata": {},
   "source": [
    "In this case, the except block is only executed if a `NameError` is encountered (in the try block) rather than any exception. If any other exception occurs, it is unhandled, and the program terminates.\n",
    "\n",
    "When we specify exception types, Python also allows us to capture the exception object using the as keyword. The exception object hosts information about the specific error that occurred. Examine our previous function but now capturing the exception object as `errorObject`:\n",
    "\n",
    "```python\n",
    "try:\n",
    "    print(undefined_var)\n",
    "except NameError as errorObject:\n",
    "    print('We hit a NameError')\n",
    "    print(errorObject)\n",
    "# We hit a NameError\n",
    "# name 'undefined_var' is not defined\n",
    "```\n",
    "\n"
   ]
  },
  {
   "cell_type": "markdown",
   "metadata": {},
   "source": [
    "Its worth noting `errorObject` is an arbitrary name and can be replaced with any name we see fit. The following code would work exactly the same:\n",
    "\n",
    "```python\n",
    "try:\n",
    "    print(undefined_var)\n",
    "except NameError as e:\n",
    "    print('We hit a NameError')\n",
    "    print(e)\n",
    "```"
   ]
  },
  {
   "cell_type": "markdown",
   "metadata": {},
   "source": [
    "#### **Multiple Exceptions**\n",
    "\n",
    "While handling a single exception is useful, Python also gives us the ability to handle multiple exceptions at once. We can list more than one exception type in a tuple with a single except clause. Here is what the syntax would look like:\n",
    "\n",
    "```python\n",
    "try:\n",
    "    # Some code to try!\n",
    "except (NameError, ZeroDivisionError) as e:\n",
    "    print('We hit an Exception!')\n",
    "    print(e)\n",
    "```"
   ]
  },
  {
   "cell_type": "markdown",
   "metadata": {},
   "source": [
    "We can list any number of exceptions in this tuple format as long as it makes sense for the code in our try block. This is where we can see the benefit of capturing our exception object (via the `as` clause) since it enables us to print (or operate on) the specific exception that is caught.\n",
    "\n",
    "In addition to catching multiple exceptions, we can also pair multiple `except` clauses with a single `try` clause, enabling specific exceptions to be handled differently. For example:\n",
    "\n",
    "```python\n",
    "try:\n",
    "    # Some code to try!\n",
    "except NameError:\n",
    "    print('We hit a NameError Exception!')\n",
    "except KeyError:\n",
    "    print('We hit a TypeError Exception!')\n",
    "except Exception:\n",
    "    print('We hit an exception that is not a NameError or TypeError!')\n",
    "```"
   ]
  },
  {
   "attachments": {
    "image.png": {
     "image/png": "[encoded data removed]"
    }
   },
   "cell_type": "markdown",
   "metadata": {},
   "source": [
    "#### **Else Clause**\n",
    "\n",
    "We’ve seen how exception handlers get executed when we encounter exceptions during a `try` clause - but what if we want to run some code only if we do not encounter an exception? Python provides us a way to do this as well - the `else` clause.\n",
    "\n",
    "![image.png](attachment:image.png)"
   ]
  },
  {
   "cell_type": "markdown",
   "metadata": {},
   "source": [
    "Let’s examine a hypothetical program that authenticates a user. For now, we will use two imaginary functions `check_password()` and `login_user()`. Here is what the program looks like:\n",
    "\n",
    "```python\n",
    "try:\n",
    "  check_password()\n",
    "except ValueError:\n",
    "  print('Wrong Password! Try again!')\n",
    "else:\n",
    "  login_user()\n",
    "  # 20 other lines of imaginary code\n",
    "```\n",
    "\n",
    "In this program, we can assume if our function `check_password()` fails, it will return a `ValueError`. Thankfully, our exception handler takes care of this scenario. However, if our function doesn’t fail, the `else` clause allows us to log the user in! Python does offer a bit of insight on this scenario in the official documentation:\n",
    "\n",
    ">The use of the else clause is better than adding additional code to the try clause because it avoids accidentally catching an exception that wasn’t raised by the code being protected by the try … except statement.\n",
    "\n",
    "This suggestion is valid in this case since in the alternative style, the `ValueError` could occur in any of the other lines of code other than `check_password()`, and it would be challenging to tell where it came from."
   ]
  },
  {
   "attachments": {
    "image.png": {
     "image/png": "[encoded data removed]"
    }
   },
   "cell_type": "markdown",
   "metadata": {},
   "source": [
    "#### **Finally Clause**\n",
    "\n",
    "With `try`/`except`/`else`, we’ve seen how to run certain code when an exception occurs and other code when it does not. There is also a way to execute code regardless of whether an exception occurs - the finally clause.\n",
    "\n",
    "![image.png](attachment:image.png)"
   ]
  },
  {
   "cell_type": "markdown",
   "metadata": {},
   "source": [
    "Let’s return to our fictional login program from earlier and examine a use case for the `finally` clause:\n",
    "\n",
    "```python\n",
    "try:\n",
    "  check_password()\n",
    "except ValueError:\n",
    "  print('Wrong Password! Try again!')\n",
    "else:\n",
    "  login_user()\n",
    "  # 20 other lines of imaginary code\n",
    "finally:\n",
    "  load_footer()\n",
    "```"
   ]
  },
  {
   "cell_type": "markdown",
   "metadata": {},
   "source": [
    "In the above program, most of our code stayed the same. The one change we made was we added the `finally` clause to execute no matter if the user fails to login or not. In either case, we use an imaginary function called `load_footer()` to load the page’s footer. Since the footer area of our imaginary application stays the same for both states, we always want to load it, and thus call it inside of the `finally` clause.\n",
    "\n",
    "Note that the `finally` clause can be used independently (without an `except` or `else` clause). This is a convenient way to guarantee that a behavior will occur, regardless of whether an exception occurs:\n",
    "\n",
    "```python\n",
    "try:\n",
    "    check_password()\n",
    "finally:\n",
    "    load_footer()\n",
    "    # Other code we always want to run \n",
    "```"
   ]
  },
  {
   "cell_type": "markdown",
   "metadata": {},
   "source": [
    "#### **User-defined Exceptions**\n",
    "\n",
    "So far we have seen how to raise and manage built-in exceptions. In most programs, using built-in exceptions won’t always be the most detailed way to describe an error occurring. What if we could create custom exceptions that are more specific to a program or module? Well, Python gives us the ability to create user-defined exceptions.\n",
    "\n",
    "User-defined exceptions are exceptions that we create to allow for better readability in our program’s errors. The core syntax looks like this:\n",
    "\n",
    "```python\n",
    "class CustomError(Exception):\n",
    "    pass\n",
    "```\n",
    "\n",
    "All we have to do to create a custom exception is to derive a subclass from the built-in `Exception` class. Although not required, most custom exceptions end in “Error” similar to the naming of the built-in exceptions. We’ll learn how to customize these exceptions in the next exercise, but for now, let’s see how a simple custom exception helps us better document our errors.\n",
    "\n",
    "Let’s imagine that Instrument World has an optional delivery service for instruments. If someone tries to schedule a delivery but their address is too far, we want to raise a custom `LocationTooFarError` exception. This isn’t a type of exception that is built into Python, but rather one that is specific to our program and use case. Here is what our program might look like utilizing this custom exception:\n",
    "\n",
    "```python\n",
    "class LocationTooFarError(Exception):\n",
    "   pass\n",
    "\n",
    "def schedule_delivery(distance_from_store):\n",
    "    if distance_from_store > 10:\n",
    "        raise LocationTooFarError\n",
    "    else:\n",
    "        print('Scheduling the delivery...')\n",
    "```\n",
    "\n",
    "Here, we have a class called `LocationTooFarError` that inherits from the `Exception` class. By doing so, we are telling Python that we would like to be able to use the class as our own custom exception.\n",
    "\n",
    "Now, if we call `schedule_delivery(20)`, we get the following output:\n",
    "\n",
    "```python\n",
    "# Traceback (most recent call last):\n",
    "#   File \"inventory.py\", line 10, in <module>\n",
    "#     schedule_delivery(20)\n",
    "#   File \"inventory.py\", line 6, in schedule_delivery\n",
    "#     raise LocationTooFarError\n",
    "# __main__.LocationTooFarError\n",
    "```\n"
   ]
  },
  {
   "cell_type": "markdown",
   "metadata": {},
   "source": [
    "Since our class name populates into the traceback, even this simple class proves to be more useful than a generic `Exception` object or any built-in types! Users and developers alike will appreciate having specific exception details to work with."
   ]
  },
  {
   "cell_type": "markdown",
   "metadata": {},
   "source": [
    "Let’s say we wanted to expand our `LocationTooFarError` exception from earlier to also provide a custom error message. Here is what the custom class might look like:\n",
    "\n",
    "```python\n",
    "class LocationTooFarError(Exception):\n",
    "   def __init__(self, distance):\n",
    "       self.distance = distance\n",
    "       \n",
    "   def __str__(self):\n",
    "        return 'Location is not within 10 km: ' + str(self.distance)\n",
    "```\n",
    "\n",
    "- Our class definition doesn’t look much different from before. We have a class named `LocationTooFarError` that still inherits from the built-in `Exception` class.\n",
    "- We have added a constructor that is going to take in a distance argument when we instantiate our exception class. Here, we have overridden the constructor of the `Exception` class to accept our own custom argument of `distance`. The reason for taking in a distance is to use it in our `__str__` method that will return a custom error message when the exception is hit!\n",
    "- The `__str__` method provides our exception a custom message by returning a string with the distance property from the constructor.\n",
    "\n",
    "```python\n",
    "def schedule_delivery(distance_from_store):\n",
    "    if distance_from_store > 10:\n",
    "        raise LocationTooFarError(distance_from_store)\n",
    "    else:\n",
    "        print('Scheduling the delivery...')\n",
    "```"
   ]
  },
  {
   "cell_type": "markdown",
   "metadata": {},
   "source": [
    "## **Testing**\n",
    "\n",
    "When working with Python, or any programming language, there is a lot that can go wrong with our code. There are syntax errors and exceptions, but there are also mistakes in the program logic which cause it to behave in unexpected ways.\n",
    "\n",
    "For these reasons, testing is crucial to creating quality software. The goal of testing isn’t just to find bugs but to find them quickly. Leaving bugs unfound and unresolved can lead to massive consequences in the real world. Don’t worry though - by following some common practices and using the tools built into Python, we can start creating quality tests in no time. To dive in, first, let’s talk about the different types of testing styles that exist.\n",
    "\n",
    "1. **Manual Testing**: With manual testing, a physical person interacts with software much as a user would. In fact, we have been manually testing our code any time we run it and observe the results!\n",
    "2. **Automated Testing**: With automated testing, tests are performed with code. Generally, automated testing is faster and less prone to human error."
   ]
  },
  {
   "cell_type": "markdown",
   "metadata": {},
   "source": [
    "### **Assert Statement**\n",
    "\n",
    "It would be very tedious to have to perform these tests manually. Our time would be better spent writing automated tests. Luckily, Python provides an easy way to perform simple tests in our code - the `assert` statement. An `assert` statement can be used to test that a condition is met. If the condition evaluates to False, an `AssertionError` is raised with an optional error message.\n",
    "\n",
    "The general syntax looks like this:\n",
    "\n",
    "```python\n",
    "assert <condition>, 'Message if condition is not met'\n",
    "```\n",
    "\n",
    "Consider the following example that demonstrates the `assert` statement paired with a function called `times_ten`. Note there is a bug in the function for demonstration purposes.\n"
   ]
  },
  {
   "cell_type": "code",
   "execution_count": null,
   "metadata": {},
   "outputs": [
    {
     "ename": "AssertionError",
     "evalue": "Expected times_ten(20) to return 200, instead got 2000",
     "output_type": "error",
     "traceback": [
      "\u001b[1;31m---------------------------------------------------------------------------\u001b[0m",
      "\u001b[1;31mAssertionError\u001b[0m                            Traceback (most recent call last)",
      "Cell \u001b[1;32mIn[12], line 5\u001b[0m\n\u001b[0;32m      2\u001b[0m     \u001b[38;5;28;01mreturn\u001b[39;00m number \u001b[38;5;241m*\u001b[39m \u001b[38;5;241m100\u001b[39m\n\u001b[0;32m      4\u001b[0m result \u001b[38;5;241m=\u001b[39m times_ten(\u001b[38;5;241m20\u001b[39m)\n\u001b[1;32m----> 5\u001b[0m \u001b[38;5;28;01massert\u001b[39;00m result \u001b[38;5;241m==\u001b[39m \u001b[38;5;241m200\u001b[39m, \u001b[38;5;124m'\u001b[39m\u001b[38;5;124mExpected times_ten(20) to return 200, instead got \u001b[39m\u001b[38;5;124m'\u001b[39m \u001b[38;5;241m+\u001b[39m \u001b[38;5;28mstr\u001b[39m(result)\n",
      "\u001b[1;31mAssertionError\u001b[0m: Expected times_ten(20) to return 200, instead got 2000"
     ]
    }
   ],
   "source": [
    "def times_ten(number):\n",
    "    return number * 100\n",
    "\n",
    "\n",
    "result = times_ten(20)\n",
    "\n",
    "assert result == 200, \"Expected times_ten(20) to return 200, instead got \" + str(result)"
   ]
  },
  {
   "cell_type": "markdown",
   "metadata": {},
   "source": [
    "Here, we want to test if our `times_ten()` function works as intended. We use the assert statement to evaluate the expression `result == 200` since we expect that our function would return 200 given an input of 20. Since this is not the case, this expression evaluates to False (there is a bug in `times_ten` - it actually multiplies by 100!)."
   ]
  },
  {
   "cell_type": "markdown",
   "metadata": {},
   "source": [
    "### **Unit Testing**\n",
    "\n",
    "Assertion statements are a good start to ensuring our programs are being tested, but they don’t necessarily tell us what we should test. Generally, we can start by testing the smallest unit of a program.\n",
    "\n",
    "For example, in the real world, if we were testing the functionality of a door, we could test a multitude of units. The handle could be an example of a single unit that we must check to make sure a door functions, followed by the hinges and maybe even the lock.\n",
    "\n",
    "In programming, these types of individual tests are called unit tests. Like our door handle, we can test a single unit of a program, such as a function, loop, or variable. A unit test validates a single behavior and will make sure all of the units of a program are functioning properly.\n",
    "\n",
    "Unit testing is a type of automated testing that focuses on testing individual units or components of a program; a unit is the smallest testable part of an application, typically a single function, method, or class. The goal of unit testing is to verify that each unit of the software performs as expected in isolation.\n",
    "\n",
    "Unit tests are typically written by developers as they write the code itself. The tests define inputs, expected outputs, and edge cases for a specific unit of code, ensuring that the unit works correctly and consistently across different conditions. When the unit test is executed, the testing framework automatically checks whether the actual output matches the expected result.\n",
    "\n",
    "Let’s say we wanted to test a single function (a single unit). To test a single function, we might create several test cases. A test case validates that a specific set of inputs produces an expected output for the unit we are trying to test. Let’s examine a test case for our `times_ten()` function from the previous exercise:"
   ]
  },
  {
   "cell_type": "code",
   "execution_count": 13,
   "metadata": {},
   "outputs": [],
   "source": [
    "# The unit we want to test\n",
    "\n",
    "\n",
    "def times_ten(number):\n",
    "    return number * 10\n",
    "\n",
    "\n",
    "# A unit test function with a single test case\n",
    "def test_multiply_ten_by_zero():\n",
    "    assert times_ten(0) == 0, \"Expected times_ten(0) to return 0\""
   ]
  },
  {
   "cell_type": "markdown",
   "metadata": {},
   "source": [
    "Great, now we have a simple test case that validates that `times_ten()` is behaving as expected for a valid input of 0! We can improve our testing coverage of this function by adding some more **test cases** with different inputs. A common approach is to create test cases for specific **edge case** inputs as well as reasonable ones. Here is an example of testing two extreme inputs:"
   ]
  },
  {
   "cell_type": "code",
   "execution_count": 14,
   "metadata": {},
   "outputs": [],
   "source": [
    "def test_multiply_ten_by_one_million():\n",
    "    assert times_ten(1000000) == 10000000, \"Expected times_ten(1000000) to return 10000000\"\n",
    "\n",
    "\n",
    "def test_multiply_ten_by_negative_number():\n",
    "    assert times_ten(-10) == -100, \"Expected times_ten(-10) to return -100\""
   ]
  },
  {
   "cell_type": "markdown",
   "metadata": {},
   "source": [
    "Now we have several test cases for a wide variety of inputs: a large number, a negative number, and zero. We can create as many test cases as we see fit for a single unit, and we should try to test all the unique types of inputs our unit will work with."
   ]
  },
  {
   "cell_type": "code",
   "execution_count": 17,
   "metadata": {},
   "outputs": [],
   "source": [
    "def get_nearest_exit(row_number):\n",
    "    if row_number < 15:\n",
    "        location = \"front\"\n",
    "    elif row_number < 30:\n",
    "        location = \"middle\"\n",
    "    else:\n",
    "        # Checkpoint 5\n",
    "        location = \"back\"\n",
    "    return location\n",
    "\n",
    "\n",
    "# Checkpoint 1\n",
    "def test_row_1():\n",
    "    assert get_nearest_exit(1) == \"front\", \"The nearest exit to row 1 is in the front!\"\n",
    "\n",
    "\n",
    "# Checkpoint 2\n",
    "def test_row_20():\n",
    "    assert get_nearest_exit(20) == \"middle\", \"The nearest exit to row 20 is in the middle!\"\n",
    "\n",
    "\n",
    "# Checkpoint 3\n",
    "def test_row_40():\n",
    "    assert get_nearest_exit(40) == \"back\", \"The nearest exit to row 40 is in the back!\"\n",
    "\n",
    "\n",
    "# Checkpoint 4\n",
    "test_row_1()\n",
    "test_row_20()\n",
    "test_row_40()"
   ]
  },
  {
   "cell_type": "markdown",
   "metadata": {},
   "source": [
    "### **unittest Framework**\n",
    "\n",
    "There are some problems with the approach to our previous unit tests that would make them difficult to maintain. First, we had to call each function specifically when a new test was created. We also didn’t have any way of grouping tests, which is necessary when the number of tests increases. Perhaps most importantly, if one test failed, the `AssertionError` would prevent any remaining tests from running!\n",
    "\n",
    "Luckily, Python provides a framework that solves these problems and provides many other tools for writing unit tests. This framework lives in the `unittest` module which is included in the standard library. It can be imported like so:"
   ]
  },
  {
   "cell_type": "code",
   "execution_count": 18,
   "metadata": {},
   "outputs": [],
   "source": [
    "import unittest"
   ]
  },
  {
   "cell_type": "markdown",
   "metadata": {},
   "source": [
    "#### **Test Runner**\n",
    "\n",
    "The `unittest` module provides us with a test runner. A test runner is a component that collects and executes tests and then provides results to the user. The framework also provides many other tools for test grouping, setup, teardown, skipping, and other features that we’ll soon learn about.\n",
    "\n",
    "First, let’s refactor our tests for the times_ten function to use the unittest framework. There are several things we need to do. First, we must create a class which inherits from `unittest.TestCase`, as follows:"
   ]
  },
  {
   "cell_type": "code",
   "execution_count": 19,
   "metadata": {},
   "outputs": [],
   "source": [
    "import unittest\n",
    "\n",
    "\n",
    "class TestTimesTen(unittest.TestCase):\n",
    "    pass"
   ]
  },
  {
   "cell_type": "markdown",
   "metadata": {},
   "source": [
    "This class will serve as the main storage of all our unit testing functions. Once we have the class, we need to change our test functions so that they are methods of the class. The unittest module requires that test functions begin with the word 'test', so our existing names work well:"
   ]
  },
  {
   "cell_type": "code",
   "execution_count": 20,
   "metadata": {},
   "outputs": [],
   "source": [
    "import unittest\n",
    "\n",
    "\n",
    "class TestTimesTen(unittest.TestCase):\n",
    "    def test_multiply_ten_by_zero(self):\n",
    "        pass\n",
    "\n",
    "    def test_multiply_ten_by_one_million(self):\n",
    "        pass\n",
    "\n",
    "    def test_multiply_ten_by_negative_number(self):\n",
    "        pass"
   ]
  },
  {
   "cell_type": "markdown",
   "metadata": {},
   "source": [
    "Lastly, we need to change our `assert` statements to use the `assertEqual` method of `unittest.TestCase`. The framework requires that we use special methods instead of standard `assert` statements. Don’t worry we’ll cover these methods in the remainder of this lesson, for now, simply get used to the syntax. Here is what our class looks after the change:"
   ]
  },
  {
   "cell_type": "code",
   "execution_count": 21,
   "metadata": {},
   "outputs": [],
   "source": [
    "import unittest\n",
    "\n",
    "\n",
    "class TestTimesTen(unittest.TestCase):\n",
    "    def test_multiply_ten_by_zero(self):\n",
    "        self.assertEqual(times_ten(0), 0, \"Expected times_ten(0) to return 0\")\n",
    "\n",
    "    def test_multiply_ten_by_one_million(self):\n",
    "        self.assertEqual(\n",
    "            times_ten(1000000),\n",
    "            10000000,\n",
    "            \"Expected times_ten(1000000) to return 10000000\",\n",
    "        )\n",
    "\n",
    "    def test_multiply_ten_by_negative_number(self):\n",
    "        self.assertEqual(times_ten(-10), -100, \"Expected add_times_ten(-10) to return -100\")"
   ]
  },
  {
   "cell_type": "markdown",
   "metadata": {},
   "source": [
    "That’s it! Now we can run our tests by calling `unittest.main()`. The `unittest` framework will work its magic to detect any tests in the existing module, run them, and provide us results. Our final code would look like this:"
   ]
  },
  {
   "cell_type": "code",
   "execution_count": null,
   "metadata": {},
   "outputs": [],
   "source": [
    "# Importing unittest framework\n",
    "import unittest\n",
    "\n",
    "\n",
    "# Function that gets tested\n",
    "def times_ten(number):\n",
    "    return number * 100\n",
    "\n",
    "\n",
    "# Test class\n",
    "class TestTimesTen(unittest.TestCase):\n",
    "    def test_multiply_ten_by_zero(self):\n",
    "        self.assertEqual(times_ten(0), 0, \"Expected times_ten(0) to return 0\")\n",
    "\n",
    "    def test_multiply_ten_by_one_million(self):\n",
    "        self.assertEqual(\n",
    "            times_ten(1000000),\n",
    "            10000000,\n",
    "            \"Expected times_ten(1000000) to return 10000000\",\n",
    "        )\n",
    "\n",
    "    def test_multiply_ten_by_negative_number(self):\n",
    "        self.assertEqual(times_ten(-10), -100, \"Expected add_times_ten(-10) to return -100\")\n",
    "\n",
    "\n",
    "# Run the tests\n",
    "unittest.main()"
   ]
  },
  {
   "cell_type": "markdown",
   "metadata": {},
   "source": [
    "When we run this code, we would see the following output:"
   ]
  },
  {
   "cell_type": "code",
   "execution_count": null,
   "metadata": {},
   "outputs": [],
   "source": [
    "# FF.\n",
    "# ======================================================================\n",
    "# FAIL: test_multiply_ten_by_negative_number (__main__.TestTimesTen)\n",
    "# ----------------------------------------------------------------------\n",
    "# Traceback (most recent call last):\n",
    "#   File \"scratch.py\", line 16, in test_multiply_ten_by_negative_number\n",
    "#     self.assertEqual(times_ten(-10), -100, 'Expected add_times_ten(-10) to return -100')\n",
    "# AssertionError: -1000 != -100 : Expected add_times_ten(-10) to return -100\n",
    "\n",
    "# ======================================================================\n",
    "# FAIL: test_multiply_ten_by_one_million (__main__.TestTimesTen)\n",
    "# ----------------------------------------------------------------------\n",
    "# Traceback (most recent call last):\n",
    "#   File \"scratch.py\", line 13, in test_multiply_ten_by_one_million\n",
    "#     self.assertEqual(times_ten(1000000), 10000000, 'Expected times_ten(1000000) to return 10000000')\n",
    "# AssertionError: 100000000 != 10000000 : Expected times_ten(1000000) to return 10000000\n",
    "\n",
    "# ----------------------------------------------------------------------\n",
    "# Ran 3 tests in 0.001s\n",
    "\n",
    "# FAILED (failures=2)"
   ]
  },
  {
   "cell_type": "markdown",
   "metadata": {},
   "source": [
    "In the test output, we can see that two of the tests failed (`test_multiply_ten_by_one_million` and `test_multiply_ten_by_negative_number`)."
   ]
  },
  {
   "cell_type": "markdown",
   "metadata": {},
   "source": [
    "#### **Assert Methods**\n",
    "\n",
    "In the last exercise, we saw how to check for equality between two values in the `unittest` framework using the `.assertEqual` method of the `TestCase` class. The framework relies on built-in assert methods instead of `assert` statements to track results without actually raising any exceptions. Specific assert methods take arguments instead of a condition, and like `assert` statements, they can take an optional message argument.\n"
   ]
  },
  {
   "cell_type": "markdown",
   "metadata": {},
   "source": [
    "\n",
    "##### **Equality & Membership**\n",
    "\n",
    "Let’s go over three commonly used assert methods for testing equality and membership, their general syntax, and their `assert` statement equivalents.\n",
    "\n",
    "1. `assertEqual`: The `assertEqual()` method takes two values as arguments and checks that they are equal. If they are not, the test fails.\n",
    "\n",
    "```python\n",
    "    self.assertEqual(value1, value2)\n",
    "```\n",
    "\n",
    "2. `assertIn`: The `assertIn()` method takes two arguments. It checks that the first argument is found in the second argument, which should be a container. If it is not found in the container, the test fails.\n",
    "\n",
    "```python\n",
    "    self.assertIn(value, container)\n",
    "```\n",
    "\n",
    "3. `assertTrue`: The `assertTrue()` method takes a single argument and checks that the argument evaluates to True. If it does not evaluate to True, the test fails.\n",
    "\n",
    "```python\n",
    "    self.assertTrue(value)\n",
    "```"
   ]
  },
  {
   "cell_type": "markdown",
   "metadata": {},
   "source": [
    "\n",
    "##### **Quantitative Methods**\n",
    "\n",
    "Often we need to test conditions related to numbers. The `unittest` module provides a handful of assert methods to achieve this. Let’s take a look at two common assert methods related to quantitative comparisons, their general syntax, as well as their `assert` statement equivalents.\n",
    "\n",
    "1. `assertLess`: The `assertLess()` method takes two arguments and checks that the first argument is less than the second one. If it is not, the test will fail.\n",
    "\n",
    "```python\n",
    "    self.assertLess(value1, value2)\n",
    "```\n",
    "\n",
    "2. `assertAlmostEqual`: The `assertAlmostEqual()` method takes two arguments and checks that their difference, when rounded to 7 decimal places, is 0. In other words, if they are almost equal. If the values are not close enough to equality, the test will fail.\n",
    "\n",
    "```python\n",
    "    self.assertAlmostEqual(value1, value2)\n",
    "```"
   ]
  },
  {
   "cell_type": "markdown",
   "metadata": {},
   "source": [
    "\n",
    "##### **Exception and Warning Methods**\n",
    "\n",
    "There is another group of assert methods related to exceptions and warnings. Note that while we haven’t covered warnings in detail yet, they are a type of exception. \n",
    "\n",
    "1. `assertRaises`: The `assertRaises()` method takes an exception type as its first argument, a function reference as its second, and an arbitrary number of arguments as the rest. It calls the function and checks if an exception is raised as a result. The test passes if an exception is raised, is an error if another exception is raised, or fails if no exception is raised. This method can be used with custom exceptions as well.\n",
    "\n",
    "```python\n",
    "    self.assertRaises(specificException, function, functionArguments...)\n",
    "```\n",
    "\n",
    "2. `assertWarns`: The `assertWarns()` method takes a warning type as its first argument, a function reference as its second, and an arbitrary number of arguments for the rest. It calls the function and checks that the warning occurs. The test passes if a warning is triggered and fails if it isn’t.\n",
    "\n",
    "```python\n",
    "     self.assertWarns(specificWarningException, function, functionArguments...)\n",
    "```"
   ]
  },
  {
   "cell_type": "markdown",
   "metadata": {},
   "source": [
    "The full list for equality and membership can be seen in the Python Documentation: \n",
    "\n",
    "https://docs.python.org/3/library/unittest.html#unittest.TestCase.debug"
   ]
  },
  {
   "cell_type": "markdown",
   "metadata": {},
   "source": [
    "#### **Parameterizing Tests**\n",
    "\n",
    "In previous examples, we created test cases for the `times_ten()` function with various inputs. However, the actual logic of our tests really didn’t change. To decrease repetition, Python provides us a specific toolset for tests with only minor differences. This is known as test parameterization. By parameterizing tests, we can leverage the functionality of a single test to get a large amount of coverage of different inputs.\n",
    "\n",
    "To accomplish test parameterization, the `unittest` framework provides us with the `subTest` context manager. Let’s refactor our previous test class to utilize it and see it in action:"
   ]
  },
  {
   "cell_type": "code",
   "execution_count": 25,
   "metadata": {},
   "outputs": [],
   "source": [
    "import unittest\n",
    "\n",
    "\n",
    "# The function we want to test\n",
    "def times_ten(number):\n",
    "    return number * 100\n",
    "\n",
    "\n",
    "# Our test class\n",
    "class TestTimesTen(unittest.TestCase):\n",
    "\n",
    "    # A test method\n",
    "    def test_times_ten(self):\n",
    "        for num in [0, 1000000, -10]:\n",
    "            with self.subTest():\n",
    "                expected_result = num * 10\n",
    "                message = \"Expected times_ten(\" + str(num) + \") to return \" + str(expected_result)\n",
    "                self.assertEqual(times_ten(num), expected_result, message)"
   ]
  },
  {
   "cell_type": "markdown",
   "metadata": {},
   "source": [
    "Here, in our test method `test_times_ten()`, instead of writing individual test cases for each input of 0, 10, and 1000000, we can test a collection of inputs by using a loop followed by a with statement and our `subTest` context manager. By using `subTest`, each iteration of our loop is treated as an individual test. Python will run the code inside of the context manager on each iteration, and if one fails, it will return the failure as a separate test case failure.\n",
    "\n",
    "Just like before, we are using the `assertEqual()` method to check the expected result, and we are expecting (due to an error in `times_ten()`) that the cases of using an input of -10 and 1000000 will fail.\n",
    "\n",
    "Here is the new output:\n"
   ]
  },
  {
   "cell_type": "code",
   "execution_count": 26,
   "metadata": {},
   "outputs": [],
   "source": [
    "# ======================================================================\n",
    "# FAIL: test_times_ten (__main__.TestTimesTen) (<subtest>)\n",
    "# ----------------------------------------------------------------------\n",
    "# Traceback (most recent call last):\n",
    "#   File \"scratch.py\", line 12, in test_times_ten\n",
    "#     self.assertEqual(times_ten(num), expected_result, message)\n",
    "# AssertionError: 100000000 != 10000000 : Expected times_ten(1000000) to return 10000000\n",
    "\n",
    "# ======================================================================\n",
    "# FAIL: test_times_ten (__main__.TestTimesTen) (<subtest>)\n",
    "# ----------------------------------------------------------------------\n",
    "# Traceback (most recent call last):\n",
    "#   File \"scratch.py\", line 12, in test_times_ten\n",
    "#     self.assertEqual(times_ten(num), expected_result, message)\n",
    "# AssertionError: -1000 != -100 : Expected times_ten(-10) to return -100\n",
    "\n",
    "# ----------------------------------------------------------------------\n",
    "# Ran 1 test in 0.000s\n",
    "\n",
    "# FAILED (failures=2)"
   ]
  },
  {
   "cell_type": "markdown",
   "metadata": {},
   "source": [
    "If we want to expand our test coverage, we can simply modify the list that our loop iterates over. We can test a range of thousands of inputs simply by using the context manager setup to achieve test parameterization.\n",
    "\n",
    "Optionally, we can give our subtests better readability by making a small change in our code for the first argument of `self.subTest()`. The below code has most of our script omitted for brevity but uses the same script we executed above:\n",
    "\n",
    "```python\n",
    "# ... more code above..\n",
    "\n",
    "for num in [0, 1000000, -10]:\n",
    "  with self.subTest(num):\n",
    "\n",
    "# ... more code below ....\n",
    "```\n",
    "\n",
    "This makes our test clearer, because our test error message goes from:\n",
    "\n",
    "```python\n",
    "# FAIL: test_times_ten (__main__.TestTimesTen) (<subtest>)\n",
    "```\n",
    "\n",
    "to\n",
    "\n",
    "```python\n",
    "# FAIL: test_times_ten (__main__.TestTimesTen) [1000000]\n",
    "```"
   ]
  },
  {
   "cell_type": "markdown",
   "metadata": {},
   "source": [
    "\n",
    "When working with large amounts of test inputs, it is much easier to distinguish which case failed. We can actually use any message we want as the first argument, but using the tested case is usually the best way to increase readability for ourselves and other developers.\n",
    "\n",
    "By using test parameterization, we made our codebase much cleaner and more maintainable. Let’s get some practice by refactoring some of our previous tests!"
   ]
  },
  {
   "cell_type": "markdown",
   "metadata": {},
   "source": [
    "#### **Test Fixtures**\n",
    "15\n",
    "One of the most important principles of testing is that tests need to occur in a known state. If the conditions in which a test runs are not controlled, then our results could contain false negatives (invalid failed results) or false positives (invalid passed results).\n",
    "\n",
    "This is where test fixtures come in. A test fixture is a mechanism for ensuring proper test setup (putting tests into a known state) and test teardown (restoring the state prior to the test running). Test fixtures guarantee that our tests are running in predictable conditions, and thus the results are reliable.\n",
    "\n",
    "Let’s say we are testing a Bluetooth device. The device’s Bluetooth module can sometimes fail. When this happens, the device needs to be power cycled (shut off and then on) to restore Bluetooth functionality. We would not want tests to run if the device was already in a failed state because these results would not be valid. Furthermore, if our tests cause the Bluetooth module to fail, we want to restore it to a working state after the tests run. So, we add a test fixture to power cycle the device before and after each test. Here is how we might do it:\n",
    "\n",
    "```python\n",
    "def power_cycle_device():\n",
    "  print('Power cycling bluetooth device...')\n",
    "\n",
    "class BluetoothDeviceTests(unittest.TestCase):\n",
    "  def setUp(self):\n",
    "    power_cycle_device()\n",
    "\n",
    "  def test_feature_a(self):\n",
    "    print('Testing Feature A')\n",
    "\n",
    "  def test_feature_b(self):\n",
    "    print('Testing Feature B')\n",
    "\n",
    "  def tearDown(self):\n",
    "    power_cycle_device()\n",
    "```\n",
    "\n",
    "The `unittest` framework automatically identifies setup and teardown methods based on their names. A method named `setUp` runs before each test case in the class. Similarly, a method named `tearDown` gets called after each test case. Now, we can guarantee that our Bluetooth module is in a working state before and after every test. Here is the output when these tests are run:\n",
    "\n",
    "```python\n",
    "# Power cycling bluetooth device...\n",
    "# Testing Feature A\n",
    "# Power cycling bluetooth device...\n",
    "# .Power cycling bluetooth device...\n",
    "# Testing Feature B\n",
    "# Power cycling bluetooth device...\n",
    "# .\n",
    "# ----------------------------------------------------------------------\n",
    "# Ran 2 tests in 0.000s\n",
    "```\n",
    "\n",
    "Let’s consider another scenario. Perhaps our tests rely on working Bluetooth, but there is nothing in the tests that would cause the bluetooth to stop working. In this case, it would be inefficient to power cycle the device before and after every test. Let’s refactor the previous example so that setup and teardown only happen once - before and after all tests in the class are run:\n",
    "\n",
    "```python\n",
    "def power_cycle_device():\n",
    "    print('Power cycling bluetooth device...')\n",
    "\n",
    "class BluetoothDeviceTests(unittest.TestCase):\n",
    "  @classmethod\n",
    "  def setUpClass(cls):\n",
    "    power_cycle_device()\n",
    "\n",
    "  def test_feature_a(self):\n",
    "    print('Testing Feature A')\n",
    "\n",
    "  def test_feature_b(self):\n",
    "    print('Testing Feature B')\n",
    "\n",
    "  @classmethod\n",
    "  def tearDownClass(cls):\n",
    "    power_cycle_device()\n",
    "```\n",
    "\n",
    "We replaced our `setUp` method with the `setUpClass` method and added the `@classmethod` decorator. We changed the argument from `self` to `cls` because this is a class method. Similarly, we replaced the `tearDown` method with the `tearDownClass` class method. Now, we get the following output:\n",
    "\n",
    "```python\n",
    "# Power cycling bluetooth device...\n",
    "# Testing Feature A\n",
    "# Testing Feature B\n",
    "# Power cycling bluetooth device...\n",
    "\n",
    "# ----------------------------------------------------------------------\n",
    "# Ran 2 tests in 0.000s\n",
    "```\n",
    "\n",
    "In addition to calling functions, we can also use setup methods to instantiate objects and or gather any other data needed. Anything stored in our class will be available throughout our test functions.\n",
    "\n",
    "It’s generally good practice to create fixtures that run for every test. However, when a fixture has a large cost (i.e. it takes a long time), then it might make more sense to have it run once per test class rather than once per test.\n",
    "\n",
    "```python\n",
    "# Checkpoint 1\n",
    "import unittest\n",
    "import kiosk\n",
    "\n",
    "\n",
    "class CheckInKioskTests(unittest.TestCase):\n",
    "\n",
    "  def test_check_in_with_flight_number(self):\n",
    "    print('Testing the check-in process based on flight number')\n",
    "\n",
    "  def test_check_in_with_passport(self):\n",
    "    print('Testing the check-in process based on passport')\n",
    "\n",
    "  # Checkpoint 2\n",
    "  @classmethod\n",
    "  def setUpClass(cls):\n",
    "    kiosk.power_on_kiosk()\n",
    "    \n",
    "  # Checkpoint 3\n",
    "  @classmethod\n",
    "  def tearDownClass(cls):\n",
    "    kiosk.power_off_kiosk()\n",
    "    \n",
    "  # Checkpoint 4\n",
    "  def setUp(self):\n",
    "    kiosk.return_to_welcome_page()\n",
    "\n",
    "unittest.main()\n",
    "```"
   ]
  },
  {
   "cell_type": "markdown",
   "metadata": {},
   "source": [
    "#### **Skipping Tests**\n",
    "\n",
    "Sometimes we have tests that should only run in a particular context. For example, we might have a group of tests that only runs on the Windows operating system but not Linux or macOS. For these situations, it’s helpful to be able to skip tests.\n",
    "\n",
    "The `unittest` framework provides two different ways to skip tests:\n",
    "1. The `@unittest` skip decorator\n",
    "2. The `skipTest()` method\n",
    "\n",
    "First, let’s examine the skip decorator option. There are two decorator options to accomplish the goal of skipping a test. Let’s observe both of them in the example below:\n",
    "\n",
    "```python\n",
    "import sys\n",
    "\n",
    "class LinuxTests(unittest.TestCase):\n",
    "\n",
    "    @unittest.skipUnless(sys.platform.startswith(\"linux\"), \"This test only runs on Linux\")\n",
    "    def test_linux_feature(self):\n",
    "        print(\"This test should only run on Linux\")\n",
    "\n",
    "    @unittest.skipIf(not sys.platform.startswith(\"linux\"), \"This test only runs on Linux\")\n",
    "    def test_other_linux_feature(self):\n",
    "        print(\"This test should only run on Linux\")\n",
    "```\n",
    "\n",
    "Let’s break down both skip decorator options:\n",
    "- The `skipUnless` option skips the test if the condition evaluates to False.\n",
    "- The `skipIf` option skips the test if the condition evaluates to True.\n",
    "\n",
    "Both share common requirements. Firstly, both of these skip decorators are prefaced with `@unittest` to denote the decorator pattern. They both take a condition as a first argument, followed by a string message as the second. In this example, both decorators achieve the same goal: skipping the test if the operating system is not Linux.\n",
    "\n",
    "If we ran the tests on a macOS system, we would get the following output:\n",
    "```python\n",
    "# ss\n",
    "# ----------------------------------------------------------------------\n",
    "# Ran 2 tests in 0.000s\n",
    "\n",
    "# OK (skipped=2)\n",
    "```\n",
    "\n",
    "The second way to skip tests is to call the `skipTest` method of the `TestCase` class, as in this example:\n",
    "\n",
    "```python\n",
    "import sys\n",
    "\n",
    "class LinuxTests(unittest.TestCase):\n",
    "\n",
    "    def test_linux_feature(self):\n",
    "        if not sys.platform.startswith(\"linux\"):\n",
    "            self.skipTest(\"Test only runs on Linux\")\n",
    "```\n",
    "\n",
    "Here we `call self.skipTest()` from within the test function itself. It takes a single string message as its argument and always causes the test to be skipped when called. When run on macOS we get the following output:\n",
    "```python\n",
    "# s\n",
    "# ----------------------------------------------------------------------\n",
    "# Ran 1 test in 0.000s\n",
    "\n",
    "# OK (skipped=1)\n",
    "```\n",
    "\n",
    "Skip decorators are slightly more convenient and make it easy to see under what conditions the test is skipped. When the conditions for skipping a test are too complicated to pass into a skip decorator, the skipTest method is the recommended alternative."
   ]
  },
  {
   "cell_type": "markdown",
   "metadata": {},
   "source": [
    "#### **Expected Failures**\n",
    "\n",
    "Sometimes we have a test that we know will fail. This could happen when a feature has a known bug or is designed to fail on purpose. In this case, we wouldn’t want an expected failure to cloud our test results. Rather than simply skipping the test, unittest provides a way to mark tests as expected failures. Expected failures are counted as passed in our test results. If the test passes when we expected it to fail, then it is marked as failed in test results.\n",
    "\n",
    "To setup a test to have an expected failure, we can use the `expectedFailure` decorator. Let’s consider the following example:\n",
    "\n",
    "```python\n",
    "class FeatureTests(unittest.TestCase):\n",
    "\n",
    "    @unittest.expectedFailure\n",
    "    def test_broken_feature(self):\n",
    "        raise Exception(\"This test is going to fail\")\n",
    "```\n",
    "\n",
    "The `expectedFailure` decorator takes no arguments. The test in the example will always fail because an exception was raised during test execution. When run, we get the following output:\n",
    "```python\n",
    "# x\n",
    "# ----------------------------------------------------------------------\n",
    "# Ran 1 test in 0.000s\n",
    "\n",
    "# OK (expected failures=1)\n",
    "```\n",
    "\n",
    "The test failure did not cause any failures in our test results because it was marked as expected."
   ]
  },
  {
   "cell_type": "markdown",
   "metadata": {},
   "source": [
    "#### **Running Tests**\n",
    "\n",
    "Now that we have written all the necessary test cases, it’s time to run them to check if our functions perform as expected. Running these tests will confirm the accuracy of our code and highlight any issues that need fixing.\n",
    "\n",
    "We can directly click on the Run Python File button or type the following command in the terminal:\n",
    "\n",
    "`python -m unittest file_name.py `\n",
    "\n",
    "Here, replace the `file_name.py` with your file name."
   ]
  },
  {
   "cell_type": "markdown",
   "metadata": {},
   "source": [
    "## **Functional Programming**\n",
    "\n",
    "Functional programming is a programming paradigm in which code is structured primarily in the form of functions. The origins of this programming style arise from a branch of mathematics known as lambda calculus, which is the study of functions and their mathematical properties. In contrast to the popular object-oriented and procedural approaches, functional programming offers a different way of thinking when solving a problem.\n",
    "\n",
    "As we said in the introduction to this article, the central concept in functional programming is that of a function; however, there are requirements that a function must adhere to when writing one. The first of these requirements is the function must be deterministic. That is, for any given input, the function must return the same output when provided with the same set of inputs.\n",
    "\n",
    "Another of these requirements is that functions must be free of as many side effects as possible. A side effect is when a function alters some external variable. The goal is to minimize, not eliminate, side effects. It would be impossible to eliminate all side effects in a function because a program eventually must have an external effect to be useful.\n",
    "\n",
    "A **pure function** is defined as a deterministic function with no side effect.\n",
    "\n",
    "For reusability, a function should always have all relevant parameters passed in and should not rely on global variables."
   ]
  },
  {
   "cell_type": "markdown",
   "metadata": {},
   "source": [
    "\n",
    "### **Declarative vs Imperative Programming**\n",
    "\n",
    "Imperative programming solves a problem by describing the step-by-step solution. Imperative programming is concerned with “how to solve a problem.”\n",
    "\n",
    "In contrast, declarative programming relies on the underlying framework or programming language to solve a problem. The programmer’s only task is to describe what problem they would like solved. Declarative programming is concerned with “what problem to solve.”\n",
    "\n",
    "As an analogy, consider the example of obtaining a cup of coffee. Imperative programming would be the equivalent of you making the cup of coffee yourself by performing steps. Declarative programming is the equivalent of going to your local coffee shop and telling the barista, “I’d like a cup of coffee with one teaspoon of sugar, please.” The barista prepares your coffee, gives you the cup, and you drink it without concerning yourself with the details of how it was made."
   ]
  },
  {
   "cell_type": "markdown",
   "metadata": {},
   "source": [
    "### **Recursion vs Loops**\n",
    "To execute a section of code repeatedly, object-oriented programmers use a while loop or a for loop. Loops do not adhere to the functional programming style because they maintain an external counter which is altered from inside the loop (side effect!). In functional programming, we use recursion to execute code repeatedly. Recursive functions are typically written in the following style:"
   ]
  },
  {
   "cell_type": "code",
   "execution_count": null,
   "metadata": {},
   "outputs": [
    {
     "data": {
      "text/plain": [
       "8"
      ]
     },
     "metadata": {},
     "output_type": "display_data"
    }
   ],
   "source": [
    "def fib(n):\n",
    "    if n <= 1:\n",
    "        return 1\n",
    "    return fib(n - 1) + fib(n - 2)\n",
    "\n",
    "\n",
    "fib(5)"
   ]
  },
  {
   "cell_type": "markdown",
   "metadata": {},
   "source": [
    "### **Functions vs Objects**\n",
    "\n",
    "In traditional OOP, you can pass objects as arguments to a function. In functional programming, you can pass functions as arguments to other functions. This is known as treating functions as first-class citizens, a term you may often see in industry."
   ]
  },
  {
   "cell_type": "code",
   "execution_count": null,
   "metadata": {},
   "outputs": [],
   "source": [
    "def add(x, y):\n",
    "    return x + y\n",
    "\n",
    "\n",
    "def sub(x, y):\n",
    "    return x - y\n",
    "\n",
    "\n",
    "def times3(a, b, function):\n",
    "    return 3 * function(a, b)\n",
    "\n",
    "\n",
    "add_then_times3 = times3(2, 4, add)  # 18\n",
    "sub_then_times3 = times3(2, 4, sub)  # -6"
   ]
  },
  {
   "cell_type": "markdown",
   "metadata": {},
   "source": [
    "This code defines a `times3()` function that multiplies the result of an add or subtract function by three and returns the value. The `times3()` function also allows the passing of any other function that accepts two parameters and returns an integer."
   ]
  },
  {
   "cell_type": "markdown",
   "metadata": {},
   "source": [
    "Functional programming promotes the concept of brevity when writing code. It is important to be concise and write functions in as few lines as possible as long as readability is maintained. We can also pass a function to another function by writing it in the argument using a lambda.\n",
    "\n",
    "We can shorten the previous code using a lambda like so:\n",
    "\n"
   ]
  },
  {
   "cell_type": "code",
   "execution_count": null,
   "metadata": {},
   "outputs": [],
   "source": [
    "def times3(a, b, function):\n",
    "    return 3 * function(a, b)\n",
    "\n",
    "\n",
    "add_then_times3 = times3(2, 4, lambda x, y: x + y)  # 18\n",
    "sub_then_times3 = times3(2, 4, lambda x, y: x - y)  # -6"
   ]
  },
  {
   "cell_type": "markdown",
   "metadata": {},
   "source": [
    "\n",
    "\n",
    "This will output the same result as the verbose implementation from earlier. Lambdas are a great tool as they allow a programmer to write a function while maintaining the flow of ideas. A programmer is no longer required to stop, write a function elsewhere, and then resume work. A drawback of lambdas is that they are only suitable for implementing simple functions; it is not possible to write all functions as lambdas!"
   ]
  },
  {
   "cell_type": "markdown",
   "metadata": {},
   "source": [
    "# **Extra Reading**\n",
    "\n",
    "https://python.plainenglish.io/97-of-python-projects-could-be-cleaner-with-partial-071da5ac9d24"
   ]
  }
 ],
 "metadata": {
  "kernelspec": {
   "display_name": "src-py3.13",
   "language": "python",
   "name": "python3"
  },
  "language_info": {
   "codemirror_mode": {
    "name": "ipython",
    "version": 3
   },
   "file_extension": ".py",
   "mimetype": "text/x-python",
   "name": "python",
   "nbconvert_exporter": "python",
   "pygments_lexer": "ipython3",
   "version": "3.13.0"
  }
 },
 "nbformat": 4,
 "nbformat_minor": 2
}
