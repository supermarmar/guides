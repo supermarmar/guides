{
 "cells": [
  {
   "cell_type": "markdown",
   "id": "05ead043",
   "metadata": {},
   "source": [
    "# **Casual Models**"
   ]
  },
  {
   "cell_type": "markdown",
   "id": "12e0991a",
   "metadata": {},
   "source": [
    "# **Extra Reading**\n",
    "\n",
    "https://medium.com/data-science/causality-in-ml-models-introducing-monotonic-constraints-8426e1b5cc34"
   ]
  }
 ],
 "metadata": {
  "language_info": {
   "name": "python"
  }
 },
 "nbformat": 4,
 "nbformat_minor": 5
}
