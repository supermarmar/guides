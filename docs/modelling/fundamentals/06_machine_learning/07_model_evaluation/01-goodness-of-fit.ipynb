{
 "cells": [
  {
   "cell_type": "markdown",
   "id": "fbea85d8",
   "metadata": {},
   "source": [
    "# **Goodness of Fit** "
   ]
  },
  {
   "cell_type": "markdown",
   "id": "50dbcda1",
   "metadata": {},
   "source": [
    "The goodness of fit of a statistical model describes how well it fits a set of observations. Measures of goodness of fit typically summarize the discrepancy between observed values and the values expected under the model in question. Such measures can be used in statistical hypothesis testing, e.g. to test for normality of residuals, to test whether two samples are drawn from identical distributions (see Kolmogorov–Smirnov test), or whether outcome frequencies follow a specified distribution (see Pearson's chi-square test). In the analysis of variance, one of the components into which the variance is partitioned may be a lack-of-fit sum of squares."
   ]
  },
  {
   "cell_type": "code",
   "execution_count": null,
   "id": "6a645e48",
   "metadata": {},
   "outputs": [],
   "source": [
    "import os\n",
    "\n",
    "import matplotlib.pyplot as plt\n",
    "import numpy as np\n",
    "import pandas as pd\n",
    "import scipy.stats as stats\n",
    "import seaborn as sns\n",
    "from sklearn.dummy import DummyClassifier\n",
    "from sklearn.linear_model import LinearRegression, LogisticRegression\n",
    "from sklearn.metrics import (\n",
    "    accuracy_score,\n",
    "    confusion_matrix,\n",
    "    f1_score,\n",
    "    mean_absolute_error,\n",
    "    mean_absolute_percentage_error,\n",
    "    mean_squared_error,\n",
    "    precision_score,\n",
    "    r2_score,\n",
    "    recall_score,\n",
    "    roc_auc_score,\n",
    "    roc_curve,\n",
    "    root_mean_squared_error,\n",
    ")\n",
    "from sklearn.model_selection import train_test_split\n",
    "from sklearn.preprocessing import OneHotEncoder, StandardScaler\n",
    "import statsmodels.api as sm\n",
    "from statsmodels.graphics.tsaplots import plot_acf\n",
    "from statsmodels.stats.diagnostic import acorr_ljungbox\n",
    "from statsmodels.stats.stattools import durbin_watson\n",
    "\n",
    "from src.config import CREDIT_RISK_DATA_DIR"
   ]
  },
  {
   "cell_type": "code",
   "execution_count": 220,
   "id": "d350be84",
   "metadata": {},
   "outputs": [],
   "source": [
    "os.chdir(CREDIT_RISK_DATA_DIR)\n",
    "\n",
    "df = pd.read_csv(\"credit_risk_dataset.csv\")"
   ]
  },
  {
   "cell_type": "code",
   "execution_count": 221,
   "id": "b408c328",
   "metadata": {},
   "outputs": [],
   "source": [
    "x_numeric_cols = [\n",
    "    \"person_age\",\n",
    "    \"person_income\",\n",
    "    \"person_emp_length\",\n",
    "    \"loan_int_rate\",\n",
    "    \"loan_percent_income\",\n",
    "    \"cb_person_cred_hist_length\",\n",
    "    \"loan_amnt\",\n",
    "]\n",
    "x_categorical_col = \"loan_grade\""
   ]
  },
  {
   "cell_type": "code",
   "execution_count": 222,
   "id": "a6c87b46",
   "metadata": {},
   "outputs": [],
   "source": [
    "scaler = StandardScaler()\n",
    "\n",
    "for vars in x_numeric_cols:\n",
    "    df[f\"{vars}_scaled\"] = scaler.fit_transform(df[[vars]])"
   ]
  },
  {
   "cell_type": "code",
   "execution_count": 223,
   "id": "2698b892",
   "metadata": {},
   "outputs": [],
   "source": [
    "encoder = OneHotEncoder()\n",
    "\n",
    "series = df[x_categorical_col]\n",
    "df = pd.get_dummies(data=df, columns=[x_categorical_col], drop_first=True)\n",
    "df[x_categorical_col] = series"
   ]
  },
  {
   "cell_type": "code",
   "execution_count": 224,
   "id": "4aefec25",
   "metadata": {},
   "outputs": [],
   "source": [
    "target_variable = \"loan_amnt\"\n",
    "transformed_feature_variables = [\n",
    "    \"person_age_scaled\",\n",
    "    \"person_income_scaled\",\n",
    "    \"loan_grade_B\",\n",
    "    \"loan_grade_C\",\n",
    "    \"loan_grade_D\",\n",
    "    \"loan_grade_E\",\n",
    "    \"loan_grade_F\",\n",
    "    \"loan_grade_G\",\n",
    "]\n",
    "y = df[target_variable]\n",
    "X = df[transformed_feature_variables]"
   ]
  },
  {
   "cell_type": "code",
   "execution_count": 225,
   "id": "ddb5d2d8",
   "metadata": {},
   "outputs": [
    {
     "name": "stdout",
     "output_type": "stream",
     "text": [
      "26064 6517\n"
     ]
    }
   ],
   "source": [
    "# First, split into Train (80%) and Temp (20%)\n",
    "X_train, X_test, y_train, y_test = train_test_split(X, y, test_size=0.2, random_state=42)\n",
    "print(len(X_train), len(X_test))"
   ]
  },
  {
   "cell_type": "code",
   "execution_count": 226,
   "id": "765ef754",
   "metadata": {},
   "outputs": [],
   "source": [
    "# scikit-learn model\n",
    "sklearn_model = LinearRegression()\n",
    "sklearn_model.fit(X_train, y_train)\n",
    "y_test_predicted = sklearn_model.predict(X_test)\n",
    "y_train_predicted = sklearn_model.predict(X_train)\n",
    "residuals_test = np.array(y_test) - y_test_predicted\n",
    "residuals_train = np.array(y_train) - y_train_predicted"
   ]
  },
  {
   "cell_type": "code",
   "execution_count": 227,
   "id": "a50d5a82",
   "metadata": {},
   "outputs": [
    {
     "data": {
      "text/html": [
       "<table class=\"simpletable\">\n",
       "<caption>OLS Regression Results</caption>\n",
       "<tr>\n",
       "  <th>Dep. Variable:</th>        <td>loan_amnt</td>    <th>  R-squared:         </th>  <td>   0.098</td>  \n",
       "</tr>\n",
       "<tr>\n",
       "  <th>Model:</th>                   <td>OLS</td>       <th>  Adj. R-squared:    </th>  <td>   0.097</td>  \n",
       "</tr>\n",
       "<tr>\n",
       "  <th>Method:</th>             <td>Least Squares</td>  <th>  F-statistic:       </th>  <td>   351.9</td>  \n",
       "</tr>\n",
       "<tr>\n",
       "  <th>Date:</th>             <td>Mon, 07 Jul 2025</td> <th>  Prob (F-statistic):</th>   <td>  0.00</td>   \n",
       "</tr>\n",
       "<tr>\n",
       "  <th>Time:</th>                 <td>15:22:28</td>     <th>  Log-Likelihood:    </th> <td>-2.6373e+05</td>\n",
       "</tr>\n",
       "<tr>\n",
       "  <th>No. Observations:</th>      <td> 26064</td>      <th>  AIC:               </th>  <td>5.275e+05</td> \n",
       "</tr>\n",
       "<tr>\n",
       "  <th>Df Residuals:</th>          <td> 26055</td>      <th>  BIC:               </th>  <td>5.275e+05</td> \n",
       "</tr>\n",
       "<tr>\n",
       "  <th>Df Model:</th>              <td>     8</td>      <th>                     </th>      <td> </td>     \n",
       "</tr>\n",
       "<tr>\n",
       "  <th>Covariance Type:</th>      <td>nonrobust</td>    <th>                     </th>      <td> </td>     \n",
       "</tr>\n",
       "</table>\n",
       "<table class=\"simpletable\">\n",
       "<tr>\n",
       "            <td></td>              <th>coef</th>     <th>std err</th>      <th>t</th>      <th>P>|t|</th>  <th>[0.025</th>    <th>0.975]</th>  \n",
       "</tr>\n",
       "<tr>\n",
       "  <th>Intercept</th>            <td> 8547.5126</td> <td>   64.654</td> <td>  132.205</td> <td> 0.000</td> <td> 8420.788</td> <td> 8674.237</td>\n",
       "</tr>\n",
       "<tr>\n",
       "  <th>loan_grade_B[T.True]</th> <td> 1426.8355</td> <td>   92.046</td> <td>   15.501</td> <td> 0.000</td> <td> 1246.421</td> <td> 1607.250</td>\n",
       "</tr>\n",
       "<tr>\n",
       "  <th>loan_grade_C[T.True]</th> <td>  682.7378</td> <td>  105.595</td> <td>    6.466</td> <td> 0.000</td> <td>  475.766</td> <td>  889.709</td>\n",
       "</tr>\n",
       "<tr>\n",
       "  <th>loan_grade_D[T.True]</th> <td> 2567.4227</td> <td>  128.894</td> <td>   19.919</td> <td> 0.000</td> <td> 2314.784</td> <td> 2820.062</td>\n",
       "</tr>\n",
       "<tr>\n",
       "  <th>loan_grade_E[T.True]</th> <td> 3958.6687</td> <td>  227.488</td> <td>   17.402</td> <td> 0.000</td> <td> 3512.780</td> <td> 4404.557</td>\n",
       "</tr>\n",
       "<tr>\n",
       "  <th>loan_grade_F[T.True]</th> <td> 5638.6710</td> <td>  442.469</td> <td>   12.744</td> <td> 0.000</td> <td> 4771.408</td> <td> 6505.934</td>\n",
       "</tr>\n",
       "<tr>\n",
       "  <th>loan_grade_G[T.True]</th> <td> 8071.2792</td> <td>  851.131</td> <td>    9.483</td> <td> 0.000</td> <td> 6403.015</td> <td> 9739.544</td>\n",
       "</tr>\n",
       "<tr>\n",
       "  <th>person_age_scaled</th>    <td>  -12.1198</td> <td>   37.539</td> <td>   -0.323</td> <td> 0.747</td> <td>  -85.698</td> <td>   61.458</td>\n",
       "</tr>\n",
       "<tr>\n",
       "  <th>person_income_scaled</th> <td> 1599.0958</td> <td>   36.843</td> <td>   43.403</td> <td> 0.000</td> <td> 1526.881</td> <td> 1671.310</td>\n",
       "</tr>\n",
       "</table>\n",
       "<table class=\"simpletable\">\n",
       "<tr>\n",
       "  <th>Omnibus:</th>       <td>6485.235</td> <th>  Durbin-Watson:     </th>  <td>   1.996</td> \n",
       "</tr>\n",
       "<tr>\n",
       "  <th>Prob(Omnibus):</th>  <td> 0.000</td>  <th>  Jarque-Bera (JB):  </th> <td>413051.352</td>\n",
       "</tr>\n",
       "<tr>\n",
       "  <th>Skew:</th>           <td> 0.224</td>  <th>  Prob(JB):          </th>  <td>    0.00</td> \n",
       "</tr>\n",
       "<tr>\n",
       "  <th>Kurtosis:</th>       <td>22.497</td>  <th>  Cond. No.          </th>  <td>    25.3</td> \n",
       "</tr>\n",
       "</table><br/><br/>Notes:<br/>[1] Standard Errors assume that the covariance matrix of the errors is correctly specified."
      ],
      "text/latex": [
       "\\begin{center}\n",
       "\\begin{tabular}{lclc}\n",
       "\\toprule\n",
       "\\textbf{Dep. Variable:}         &    loan\\_amnt    & \\textbf{  R-squared:         } &      0.098   \\\\\n",
       "\\textbf{Model:}                 &       OLS        & \\textbf{  Adj. R-squared:    } &      0.097   \\\\\n",
       "\\textbf{Method:}                &  Least Squares   & \\textbf{  F-statistic:       } &      351.9   \\\\\n",
       "\\textbf{Date:}                  & Mon, 07 Jul 2025 & \\textbf{  Prob (F-statistic):} &      0.00    \\\\\n",
       "\\textbf{Time:}                  &     15:22:28     & \\textbf{  Log-Likelihood:    } & -2.6373e+05  \\\\\n",
       "\\textbf{No. Observations:}      &       26064      & \\textbf{  AIC:               } &  5.275e+05   \\\\\n",
       "\\textbf{Df Residuals:}          &       26055      & \\textbf{  BIC:               } &  5.275e+05   \\\\\n",
       "\\textbf{Df Model:}              &           8      & \\textbf{                     } &              \\\\\n",
       "\\textbf{Covariance Type:}       &    nonrobust     & \\textbf{                     } &              \\\\\n",
       "\\bottomrule\n",
       "\\end{tabular}\n",
       "\\begin{tabular}{lcccccc}\n",
       "                                & \\textbf{coef} & \\textbf{std err} & \\textbf{t} & \\textbf{P$> |$t$|$} & \\textbf{[0.025} & \\textbf{0.975]}  \\\\\n",
       "\\midrule\n",
       "\\textbf{Intercept}              &    8547.5126  &       64.654     &   132.205  &         0.000        &     8420.788    &     8674.237     \\\\\n",
       "\\textbf{loan\\_grade\\_B[T.True]} &    1426.8355  &       92.046     &    15.501  &         0.000        &     1246.421    &     1607.250     \\\\\n",
       "\\textbf{loan\\_grade\\_C[T.True]} &     682.7378  &      105.595     &     6.466  &         0.000        &      475.766    &      889.709     \\\\\n",
       "\\textbf{loan\\_grade\\_D[T.True]} &    2567.4227  &      128.894     &    19.919  &         0.000        &     2314.784    &     2820.062     \\\\\n",
       "\\textbf{loan\\_grade\\_E[T.True]} &    3958.6687  &      227.488     &    17.402  &         0.000        &     3512.780    &     4404.557     \\\\\n",
       "\\textbf{loan\\_grade\\_F[T.True]} &    5638.6710  &      442.469     &    12.744  &         0.000        &     4771.408    &     6505.934     \\\\\n",
       "\\textbf{loan\\_grade\\_G[T.True]} &    8071.2792  &      851.131     &     9.483  &         0.000        &     6403.015    &     9739.544     \\\\\n",
       "\\textbf{person\\_age\\_scaled}    &     -12.1198  &       37.539     &    -0.323  &         0.747        &      -85.698    &       61.458     \\\\\n",
       "\\textbf{person\\_income\\_scaled} &    1599.0958  &       36.843     &    43.403  &         0.000        &     1526.881    &     1671.310     \\\\\n",
       "\\bottomrule\n",
       "\\end{tabular}\n",
       "\\begin{tabular}{lclc}\n",
       "\\textbf{Omnibus:}       & 6485.235 & \\textbf{  Durbin-Watson:     } &     1.996   \\\\\n",
       "\\textbf{Prob(Omnibus):} &   0.000  & \\textbf{  Jarque-Bera (JB):  } & 413051.352  \\\\\n",
       "\\textbf{Skew:}          &   0.224  & \\textbf{  Prob(JB):          } &      0.00   \\\\\n",
       "\\textbf{Kurtosis:}      &  22.497  & \\textbf{  Cond. No.          } &      25.3   \\\\\n",
       "\\bottomrule\n",
       "\\end{tabular}\n",
       "%\\caption{OLS Regression Results}\n",
       "\\end{center}\n",
       "\n",
       "Notes: \\newline\n",
       " [1] Standard Errors assume that the covariance matrix of the errors is correctly specified."
      ],
      "text/plain": [
       "<class 'statsmodels.iolib.summary.Summary'>\n",
       "\"\"\"\n",
       "                            OLS Regression Results                            \n",
       "==============================================================================\n",
       "Dep. Variable:              loan_amnt   R-squared:                       0.098\n",
       "Model:                            OLS   Adj. R-squared:                  0.097\n",
       "Method:                 Least Squares   F-statistic:                     351.9\n",
       "Date:                Mon, 07 Jul 2025   Prob (F-statistic):               0.00\n",
       "Time:                        15:22:28   Log-Likelihood:            -2.6373e+05\n",
       "No. Observations:               26064   AIC:                         5.275e+05\n",
       "Df Residuals:                   26055   BIC:                         5.275e+05\n",
       "Df Model:                           8                                         \n",
       "Covariance Type:            nonrobust                                         \n",
       "========================================================================================\n",
       "                           coef    std err          t      P>|t|      [0.025      0.975]\n",
       "----------------------------------------------------------------------------------------\n",
       "Intercept             8547.5126     64.654    132.205      0.000    8420.788    8674.237\n",
       "loan_grade_B[T.True]  1426.8355     92.046     15.501      0.000    1246.421    1607.250\n",
       "loan_grade_C[T.True]   682.7378    105.595      6.466      0.000     475.766     889.709\n",
       "loan_grade_D[T.True]  2567.4227    128.894     19.919      0.000    2314.784    2820.062\n",
       "loan_grade_E[T.True]  3958.6687    227.488     17.402      0.000    3512.780    4404.557\n",
       "loan_grade_F[T.True]  5638.6710    442.469     12.744      0.000    4771.408    6505.934\n",
       "loan_grade_G[T.True]  8071.2792    851.131      9.483      0.000    6403.015    9739.544\n",
       "person_age_scaled      -12.1198     37.539     -0.323      0.747     -85.698      61.458\n",
       "person_income_scaled  1599.0958     36.843     43.403      0.000    1526.881    1671.310\n",
       "==============================================================================\n",
       "Omnibus:                     6485.235   Durbin-Watson:                   1.996\n",
       "Prob(Omnibus):                  0.000   Jarque-Bera (JB):           413051.352\n",
       "Skew:                           0.224   Prob(JB):                         0.00\n",
       "Kurtosis:                      22.497   Cond. No.                         25.3\n",
       "==============================================================================\n",
       "\n",
       "Notes:\n",
       "[1] Standard Errors assume that the covariance matrix of the errors is correctly specified.\n",
       "\"\"\""
      ]
     },
     "execution_count": 227,
     "metadata": {},
     "output_type": "execute_result"
    }
   ],
   "source": [
    "# statsmodels model\n",
    "train_df = pd.concat([X_train, y_train], axis=1).reset_index(drop=True)\n",
    "features_plus_string = \" + \".join(transformed_feature_variables)\n",
    "train_df = sm.add_constant(train_df)\n",
    "sm_model = sm.OLS.from_formula(f\"{target_variable} ~ {features_plus_string}\", data=train_df)\n",
    "sm_results = sm_model.fit()\n",
    "\n",
    "y_test_predicted_sm = sm_results.predict(X_test)\n",
    "y_train_predicted_sm = sm_results.predict(X_train)\n",
    "residuals_test_sm = np.array(y_test) - y_test_predicted\n",
    "residuals_train_sm = np.array(y_train) - y_train_predicted\n",
    "\n",
    "sm_results.summary()"
   ]
  },
  {
   "cell_type": "markdown",
   "id": "9450098c",
   "metadata": {},
   "source": [
    "## **Relative Model Performance**"
   ]
  },
  {
   "cell_type": "markdown",
   "id": "26f7ba91",
   "metadata": {},
   "source": [
    "### **Akaike information criterion (AIC)**\n",
    "\n",
    "Akaike information criterion (AIC) is a statistical method that aims to determine the model that truly explains the variance in the dependent variable with the fewest number of independent variables (parameters). With this, it helps to select a simpler model containing fewer parameters over a complex model.\n",
    "\n",
    "AIC estimates the relative amount of information lost by a given model: the less information a model loses, the higher the quality of that model.\n",
    "\n",
    "In estimating the amount of information lost by a model, AIC deals with the trade-off between the goodness of fit of the model and the simplicity of the model. In other words, AIC deals with both the risk of overfitting and the risk of underfitting.\n",
    "\n",
    "The Akaike information criterion is named after the Japanese statistician Hirotugu Akaike, who formulated it. It now forms the basis of a paradigm for the foundations of statistics and is also widely used for statistical inference.\n",
    "\n",
    "Suppose that we have a statistical model of some data. Let $k$ be the number of estimated parameters in the model. Let \n",
    "${\\displaystyle {\\hat {L}}}$ be the maximized value of the likelihood function for the model. Then the AIC value of the model is the following:\n",
    "\n",
    "${\\displaystyle \\mathrm {AIC} \\,=\\,2k-2\\ln({\\hat {L}})}$\n",
    "\n",
    "Given a set of candidate models for the data, the preferred model is the one with the minimum AIC value. Thus, AIC rewards goodness of fit (as assessed by the likelihood function), but it also includes a penalty that is an increasing function of the number of estimated parameters. \n",
    "\n",
    "Note that AIC tells nothing about the absolute quality of a model, only the quality relative to other models. Thus, if all the candidate models fit poorly, AIC will not give any warning of that. Hence, after selecting a model via AIC, it is usually good practice to validate the absolute quality of the model. Such validation commonly includes checks of the model's residuals (to determine whether the residuals seem like random) and tests of the model's predictions.\n",
    "\n",
    "Note that if all the models have the same $k$, then selecting the model with minimum AIC is equivalent to selecting the model with minimum $RSS$ — which is the usual objective of model selection based on least squares."
   ]
  },
  {
   "cell_type": "code",
   "execution_count": 228,
   "id": "09a6f64f",
   "metadata": {},
   "outputs": [
    {
     "name": "stdout",
     "output_type": "stream",
     "text": [
      "527470.9205424661\n"
     ]
    }
   ],
   "source": [
    "print(sm_results.aic)"
   ]
  },
  {
   "cell_type": "markdown",
   "id": "d5e58880",
   "metadata": {},
   "source": [
    "### **Bayesian information criterion (BIC)**\n",
    "\n",
    "The formula for the Bayesian information criterion (BIC) is similar to the formula for AIC, but with a different penalty for the number of parameters. With AIC the penalty is $2k$, whereas with BIC the penalty is $k\\ln(n)$. Similar to AIC, lower BIC values indicate better model fit. The formula for BIC is expressed as follows:\n",
    "\n",
    "${\\displaystyle \\mathrm {BIC} =k\\ln(n)-2\\ln({\\widehat {L}}).\\ }$\n",
    "\n",
    "$n$ is the number of data points in $X$. However, a lower BIC does not necessarily indicate one model is better than another. Because it involves approximations, the BIC is merely a heuristic. In particular, differences in BIC should never be treated like transformed Bayes factors.\n",
    "\n",
    "It is important to keep in mind that the BIC can be used to compare estimated models only when the numerical values of the dependent variable are identical for all models being compared. "
   ]
  },
  {
   "cell_type": "code",
   "execution_count": 229,
   "id": "0f67a116",
   "metadata": {},
   "outputs": [
    {
     "name": "stdout",
     "output_type": "stream",
     "text": [
      "527544.4353354437\n"
     ]
    }
   ],
   "source": [
    "print(sm_results.bic)"
   ]
  },
  {
   "cell_type": "markdown",
   "id": "67d2ceb3",
   "metadata": {},
   "source": [
    "## **Absolute Model Performance**"
   ]
  },
  {
   "cell_type": "markdown",
   "id": "490c42c9",
   "metadata": {},
   "source": [
    "### **Regression Models**\n",
    "\n",
    "Residual analysis is a fundamental diagnostic technique used to evaluate the goodness-of-fit and assumptions of a statistical model, especially regression models. A residual is the difference between an observed value and the value predicted by the model.\n",
    "\n",
    "By studying residuals, we can assess whether the model captures the data well, or if there are systematic patterns it fails to explain. Ideally, residuals should resemble white noise: randomly scattered around zero, with constant variance and no autocorrelation.\n"
   ]
  },
  {
   "cell_type": "markdown",
   "id": "41462333",
   "metadata": {},
   "source": [
    "#### **Histogram of Residuals**\n",
    "\n",
    "Checks whether residuals are approximately normally distributed. While not always required (especially for count models), it helps identify skewness or outliers.\n"
   ]
  },
  {
   "cell_type": "code",
   "execution_count": 230,
   "id": "0a118d05",
   "metadata": {},
   "outputs": [
    {
     "data": {
      "image/png": "[encoded data removed]",
      "text/plain": [
       "<Figure size 640x480 with 1 Axes>"
      ]
     },
     "metadata": {},
     "output_type": "display_data"
    }
   ],
   "source": [
    "sns.histplot(residuals_train, kde=True, color=\"purple\")\n",
    "plt.show()"
   ]
  },
  {
   "cell_type": "code",
   "execution_count": 231,
   "id": "f6717777",
   "metadata": {},
   "outputs": [
    {
     "data": {
      "image/png": "[encoded data removed]",
      "text/plain": [
       "<Figure size 640x480 with 1 Axes>"
      ]
     },
     "metadata": {},
     "output_type": "display_data"
    }
   ],
   "source": [
    "sns.histplot(residuals_test, kde=True, color=\"purple\")\n",
    "plt.show()"
   ]
  },
  {
   "cell_type": "markdown",
   "id": "ee96543b",
   "metadata": {},
   "source": [
    "#### **QQ Plot**\n",
    "\n",
    "In statistics, a Q–Q plot (quantile–quantile plot) is a probability plot, a graphical method for comparing two probability distributions by plotting their quantiles against each other. A point (x, y) on the plot corresponds to one of the quantiles of the second distribution (y-coordinate) plotted against the same quantile of the first distribution (x-coordinate). \n",
    "\n",
    "In most cases, this type of plot is used to determine whether or not a set of data follows a normal distribution.\n",
    "\n",
    "As a rule of thumb, the more that the points in a Q-Q plot lie on a straight diagonal line, the more normally distributed the data."
   ]
  },
  {
   "cell_type": "code",
   "execution_count": 232,
   "id": "56ed798f",
   "metadata": {},
   "outputs": [
    {
     "data": {
      "image/png": "[encoded data removed]",
      "text/plain": [
       "<Figure size 640x480 with 1 Axes>"
      ]
     },
     "metadata": {},
     "output_type": "display_data"
    }
   ],
   "source": [
    "# Create the Q-Q plot\n",
    "stats.probplot(residuals_test, dist=\"norm\", plot=plt)\n",
    "plt.show()"
   ]
  },
  {
   "cell_type": "code",
   "execution_count": 233,
   "id": "593a38dd",
   "metadata": {},
   "outputs": [
    {
     "data": {
      "image/png": "[encoded data removed]",
      "text/plain": [
       "<Figure size 640x480 with 1 Axes>"
      ]
     },
     "metadata": {},
     "output_type": "display_data"
    }
   ],
   "source": [
    "stats.probplot(residuals_train, dist=\"norm\", plot=plt)\n",
    "plt.show()"
   ]
  },
  {
   "cell_type": "markdown",
   "id": "e0e81c8f",
   "metadata": {},
   "source": [
    "#### **Residuals vs Predicted Values**\n",
    "\n",
    "You will plot residuals vs fitted values. A well-fitted model should show no pattern—residuals should be evenly spread around the horizontal line at zero. Patterns (e.g., U-shapes, fanning out) may suggest non-linearity or heteroscedasticity (non-constant variance).\n"
   ]
  },
  {
   "cell_type": "code",
   "execution_count": 234,
   "id": "3191c06c",
   "metadata": {},
   "outputs": [
    {
     "data": {
      "text/plain": [
       "<Axes: >"
      ]
     },
     "execution_count": 234,
     "metadata": {},
     "output_type": "execute_result"
    },
    {
     "data": {
      "image/png": "[encoded data removed]",
      "text/plain": [
       "<Figure size 640x480 with 1 Axes>"
      ]
     },
     "metadata": {},
     "output_type": "display_data"
    }
   ],
   "source": [
    "sns.scatterplot(x=y_train_predicted, y=residuals_train, color=\"purple\")"
   ]
  },
  {
   "cell_type": "code",
   "execution_count": 235,
   "id": "cd05698f",
   "metadata": {},
   "outputs": [
    {
     "data": {
      "text/plain": [
       "<Axes: >"
      ]
     },
     "execution_count": 235,
     "metadata": {},
     "output_type": "execute_result"
    },
    {
     "data": {
      "image/png": "[encoded data removed]",
      "text/plain": [
       "<Figure size 640x480 with 1 Axes>"
      ]
     },
     "metadata": {},
     "output_type": "display_data"
    }
   ],
   "source": [
    "sns.scatterplot(x=y_test_predicted, y=residuals_test, color=\"purple\")"
   ]
  },
  {
   "cell_type": "markdown",
   "id": "e93fca71",
   "metadata": {},
   "source": [
    "\n",
    "#### **Pearson Residuals**\n",
    "\n",
    "The Pearson residual is a standardized version of the raw residual that accounts for the expected variance in the model. It is defined as:\n",
    "\n",
    "$r = \\Large\\frac{y_i-\\hat{y}_i}{\\text{Var}(y_i)}$\n",
    "\n",
    "Pearson residuals are particularly useful for GLMs (Generalized Linear Models) where variance is not constant and depends on the mean. Large absolute values (e.g., > 2 or < -2) indicate poor model fit or potential outliers.\n",
    "\n",
    "In practice, plotting Pearson residuals versus predicted values (or another feature) helps identify lack of fit or areas where the model may be biased or underperforming."
   ]
  },
  {
   "cell_type": "code",
   "execution_count": 236,
   "id": "23916368",
   "metadata": {},
   "outputs": [
    {
     "data": {
      "text/plain": [
       "<Axes: ylabel='Count'>"
      ]
     },
     "execution_count": 236,
     "metadata": {},
     "output_type": "execute_result"
    },
    {
     "data": {
      "image/png": "[encoded data removed]",
      "text/plain": [
       "<Figure size 640x480 with 1 Axes>"
      ]
     },
     "metadata": {},
     "output_type": "display_data"
    }
   ],
   "source": [
    "pearson_resid = sm_results.resid_pearson\n",
    "sns.histplot(pearson_resid, kde=True, color=\"yellow\")"
   ]
  },
  {
   "cell_type": "code",
   "execution_count": 237,
   "id": "9531f82d",
   "metadata": {},
   "outputs": [
    {
     "data": {
      "text/plain": [
       "<Axes: ylabel='Count'>"
      ]
     },
     "execution_count": 237,
     "metadata": {},
     "output_type": "execute_result"
    },
    {
     "data": {
      "image/png": "[encoded data removed]",
      "text/plain": [
       "<Figure size 640x480 with 1 Axes>"
      ]
     },
     "metadata": {},
     "output_type": "display_data"
    }
   ],
   "source": [
    "sigma_hat = np.sqrt((sum(residuals_train) ** 2) / (len(residuals_train) - 2))\n",
    "pearson_resid = residuals_train / sigma_hat\n",
    "sns.histplot(pearson_resid, kde=True, color=\"yellow\")"
   ]
  },
  {
   "cell_type": "markdown",
   "id": "1fc2a640",
   "metadata": {},
   "source": [
    "#### **Sum of Squares Total (SST)**\n",
    "\n",
    "The sum of squared differences between individual data points $y_i$ and the mean of the response variable $y$.\n",
    "\n",
    "${\\displaystyle \\operatorname {SST} =\\sum _{i=1}^{n}(y_{i}-\\bar y)^{2}}$"
   ]
  },
  {
   "cell_type": "code",
   "execution_count": 238,
   "id": "422fd2ae",
   "metadata": {},
   "outputs": [
    {
     "name": "stdout",
     "output_type": "stream",
     "text": [
      "1039620255598.8865\n"
     ]
    }
   ],
   "source": [
    "sst = np.sum((y_train - y_train.mean()) ** 2)\n",
    "print(sst)"
   ]
  },
  {
   "cell_type": "markdown",
   "id": "2edffb0b",
   "metadata": {},
   "source": [
    "#### **Sum of Squares Regression (SSR)**\n",
    "\n",
    "The sum of squared differences between predicted data points $ŷ_i$ and the mean of the response variable $y$.\n",
    "\n",
    "${\\displaystyle \\operatorname {SSR} =\\sum _{i=1}^{n}(\\hat y_{i}- \\bar y_i)^{2}}$"
   ]
  },
  {
   "cell_type": "code",
   "execution_count": 239,
   "id": "345fb3ad",
   "metadata": {},
   "outputs": [
    {
     "name": "stdout",
     "output_type": "stream",
     "text": [
      "101381489331.76474\n"
     ]
    }
   ],
   "source": [
    "ssr = np.sum((y_train_predicted - y_train.mean()) ** 2)\n",
    "print(ssr)"
   ]
  },
  {
   "cell_type": "markdown",
   "id": "dcfda795",
   "metadata": {},
   "source": [
    "#### **Sum of Squares Error (SSE)**\n",
    "\n",
    "The residual sum of squares (RSS), also known as the sum of squared residuals (SSR) or the sum of squared estimate of errors (SSE), is the sum of the squares of residuals (deviations predicted from actual empirical values of data). A small RSS indicates a tight fit of the model to the data. It is used as an optimality criterion in parameter selection and model selection.\n",
    "\n",
    "${\\displaystyle \\operatorname {SSE} =\\sum _{i=1}^{n}(y_{i}-\\hat y_i)^{2}}$"
   ]
  },
  {
   "cell_type": "code",
   "execution_count": 240,
   "id": "3a06aa53",
   "metadata": {},
   "outputs": [
    {
     "name": "stdout",
     "output_type": "stream",
     "text": [
      "938238766267.1218\n"
     ]
    }
   ],
   "source": [
    "sse = np.sum((y_train - y_train_predicted) ** 2)\n",
    "print(sse)"
   ]
  },
  {
   "cell_type": "markdown",
   "id": "0277a1ac",
   "metadata": {},
   "source": [
    "#### **Mean Squared Error (MSE)**\n",
    "\n",
    "Mean Squared Error (MSE) is one of the most common metrics used for evaluating the performance of regression models. It measures the average of the squares of the errors—that is, the average squared difference between the predicted and actual values.\n",
    "\n",
    "${\\displaystyle \\operatorname {MSE} =\\frac{1}{n}\\sum _{i=1}^{n}(y_{i}-f(x_{i}))^{2}}$\n",
    "\n",
    "The smaller the MSE, the closer your model’s predictions are to reality. In this case, an MSE of $x$ suggests that, on average, your model’s predictions deviate by approximately $x$ units from the true exam scores."
   ]
  },
  {
   "cell_type": "code",
   "execution_count": 241,
   "id": "1fb3af2d",
   "metadata": {},
   "outputs": [
    {
     "name": "stdout",
     "output_type": "stream",
     "text": [
      "35997497.171083555\n",
      "35997497.171083555\n",
      "35997497.171083555\n",
      "35575160.69463342\n",
      "35575160.69463343\n"
     ]
    }
   ],
   "source": [
    "print(mean_squared_error(y_true=y_train, y_pred=y_train_predicted))\n",
    "print(mean_squared_error(y_true=y_train, y_pred=y_train_predicted_sm))\n",
    "print(sse / len(y_train))\n",
    "\n",
    "print(mean_squared_error(y_true=y_test, y_pred=y_test_predicted))\n",
    "print(mean_squared_error(y_true=y_test, y_pred=y_test_predicted_sm))"
   ]
  },
  {
   "cell_type": "markdown",
   "id": "080968e1",
   "metadata": {},
   "source": [
    "#### **Root Mean Squared Error (RMSE)**\n",
    "\n",
    "RMSE is the square root of the MSE and is a more interpretable metric since it is a **standard deviation of prediction errors or residuals**. It indicates how spread out the data is around the line of best fit. RMSE also has the useful property of being on the same scale/units as the Target variable. Hence it is very intuitive to understand as well."
   ]
  },
  {
   "cell_type": "code",
   "execution_count": 242,
   "id": "afc1a971",
   "metadata": {},
   "outputs": [
    {
     "name": "stdout",
     "output_type": "stream",
     "text": [
      "5999.791427298415\n",
      "5999.791427298415\n",
      "5999.791427298415\n",
      "5964.49165433513\n",
      "5964.491654335131\n"
     ]
    }
   ],
   "source": [
    "print(root_mean_squared_error(y_true=y_train, y_pred=y_train_predicted))\n",
    "print(root_mean_squared_error(y_true=y_train, y_pred=y_train_predicted_sm))\n",
    "print(np.sqrt(sse / len(y_train)))\n",
    "\n",
    "print(root_mean_squared_error(y_true=y_test, y_pred=y_test_predicted))\n",
    "print(root_mean_squared_error(y_true=y_test, y_pred=y_test_predicted_sm))"
   ]
  },
  {
   "cell_type": "markdown",
   "id": "6676beb0",
   "metadata": {},
   "source": [
    "#### **Mean Absolute Error (MAE)**\n",
    "\n",
    "Mean Absolute Error (MAE) is a metric used to measure the accuracy of a model by calculating the average absolute difference between the observed and predicted values. It is a common evaluation metric for regression models in machine learning. It is easier to interpret than MSE, as it’s in the same units as the target variable.\n",
    "\n",
    "Unlike other metrics, MAE doesn’t square the errors, which means it gives equal weight to all errors, regardless of their direction. This property makes MAE particularly useful when you want to understand the magnitude of errors without considering whether they are overestimations or underestimations.\n",
    "\n",
    "Unlike some other metrics, MAE is less sensitive to extreme values (outliers) in the data. This makes it a suitable choice when your dataset contains outliers that might skew other metrics like Mean Squared Error (MSE).\n",
    "\n",
    "It’s important to compare the MAE to the scale of the target variable. For instance, if you’re predicting house prices and your MAE is $10,000, that might be considered a good result. However, the same MAE might be unacceptable if you’re predicting temperature in degrees Celsius."
   ]
  },
  {
   "cell_type": "code",
   "execution_count": 243,
   "id": "c59014eb",
   "metadata": {},
   "outputs": [
    {
     "name": "stdout",
     "output_type": "stream",
     "text": [
      "4609.643839738779\n",
      "4609.643839738779\n",
      "4609.916694472126\n",
      "4609.916694472126\n"
     ]
    }
   ],
   "source": [
    "print(mean_absolute_error(y_true=y_train, y_pred=y_train_predicted))\n",
    "print(mean_absolute_error(y_true=y_train, y_pred=y_train_predicted_sm))\n",
    "print(mean_absolute_error(y_true=y_test, y_pred=y_test_predicted))\n",
    "print(mean_absolute_error(y_true=y_test, y_pred=y_test_predicted_sm))"
   ]
  },
  {
   "cell_type": "markdown",
   "id": "1e89cabd",
   "metadata": {},
   "source": [
    "#### **Mean Absolute Percentage Error (MAPE)**\n",
    "\n",
    "The MAE is simply the absolute difference between the actual value and the predicted value. So: |58- 52| = 6\n",
    "\n",
    "The MAPE is the same but divided by the actual value. So: |58–52|/58 = 0.103. The MAPE value is a percentage, so can be multiplied by 100. For this example, the difference is just greater than 10%.\n",
    "\n",
    "From this we can see that the lower the value, the better the performance is for both metrics.\n",
    "\n",
    "For this example, there is only one predicted value and one actual value; these metrics usually take in numerous values and are aggregated, so the MAE or MAPE values are summed up then divided by how many there are (hence, ‘mean’ values).\n",
    "\n",
    "We can also see that the MAE is an easier metric to understand as it has the same units as the actual and predicted values but doesn’t take in the magnitude of the difference like MAPE. The MAPE can be more beneficial because it shows the percentage difference. The fact that MAE does not show the percentage difference can be a disadvantage when comparing the accuracy of different models, because the range of the predicted and actual values may differ."
   ]
  },
  {
   "cell_type": "code",
   "execution_count": 244,
   "id": "16dd8444",
   "metadata": {},
   "outputs": [
    {
     "name": "stdout",
     "output_type": "stream",
     "text": [
      "0.8607095798924556\n",
      "0.8607095798924551\n",
      "0.8577060071174416\n",
      "0.857706007117441\n"
     ]
    }
   ],
   "source": [
    "print(mean_absolute_percentage_error(y_true=y_train, y_pred=y_train_predicted))\n",
    "print(mean_absolute_percentage_error(y_true=y_train, y_pred=y_train_predicted_sm))\n",
    "print(mean_absolute_percentage_error(y_true=y_test, y_pred=y_test_predicted))\n",
    "print(mean_absolute_percentage_error(y_true=y_test, y_pred=y_test_predicted_sm))"
   ]
  },
  {
   "cell_type": "markdown",
   "id": "60598946",
   "metadata": {},
   "source": [
    "This following example shows a downside of MAPE: that the values are asymmetric, meaning that MAPE reports higher errors if the predicted value is higher than the actual value and reports lower errors if the predicted value is lower than the actual, even if the MAE is the same.\n",
    "\n",
    "| Date | Actual | Predicted | MAE | MAPE |\n",
    "|---------|--------|-----------|-----|------|\n",
    "| Jan-22 | 600 | 300 | 300 | 0.5 |\n",
    "| Feb-22 | 300 | 600 | 300 | 1 |\n",
    "\n",
    "In the example table above, we can see that the MAE for both dates is 300, however, the MAPE is very different between them, depending on if it is the predicted or actual value that is the largest. Without the addition of the MAE, the MAPE score does not give as much insight.\n",
    "\n",
    "MAE is great when focusing on one model or comparing models where the range of actual and predicted values are the same. Although MAE treats extreme values the same as normal values and can’t be used to compare models with different ranges. MAPE is best when comparing models with different ranges and understanding the percentage difference. However, MAPE is asymmetric, is more prone to skewing the data with extreme values and is affected by a division error if the actual value is zero."
   ]
  },
  {
   "cell_type": "markdown",
   "id": "e5d4ee16",
   "metadata": {},
   "source": [
    "#### **Coefficient of Determination ($R^2$)**"
   ]
  },
  {
   "cell_type": "markdown",
   "id": "a13838e6",
   "metadata": {},
   "source": [
    "Measures the proportion of variance in the target variable explained by the model. Values close to 1 indicate a good fit, while values close to 0 indicate a poor fit. Used for linear regression tasks. The choice of goodness-of-fit measures depends on the context and goals of the analysis. While MSE and RMSE provide insights into error magnitude, MAE offers robustness to outliers. R², on the other hand, serves as an interpretable percentage indicating the explained variability. A balance of these measures ensures a comprehensive evaluation of regression model performance.\n",
    "\n",
    "$R^2 = 1 - \\Large\\frac{SSE}{SST}$\n",
    "\n",
    "Adjusted R-squared is a modified version of R-squared, accounting for the number of predictors in a multiple linear regression model."
   ]
  },
  {
   "cell_type": "code",
   "execution_count": 245,
   "id": "c92f41cf",
   "metadata": {},
   "outputs": [
    {
     "name": "stdout",
     "output_type": "stream",
     "text": [
      "0.0975178088208396\n"
     ]
    }
   ],
   "source": [
    "print(r2_score(y_train, y_train_predicted))"
   ]
  },
  {
   "cell_type": "code",
   "execution_count": 246,
   "id": "4f66726a",
   "metadata": {},
   "outputs": [
    {
     "name": "stdout",
     "output_type": "stream",
     "text": [
      "0.0975178088208396\n"
     ]
    }
   ],
   "source": [
    "print(sm_results.rsquared)"
   ]
  },
  {
   "cell_type": "markdown",
   "id": "1db1a082",
   "metadata": {},
   "source": [
    "In practice, an $R^2=1$ will never happen, unless you are wildly overfitting your data with an overly complex model, or you are computing R² on a ridiculously low number of data points that your model can fit perfectly. All datasets will have some amount of noise that cannot be accounted for by the data. In practice, the largest possible R² will be defined by the amount of unexplainable noise in your outcome variable.\n",
    "\n",
    "When is R² = 0? For R² to be null, RSS/TSS must be equal to 1. This is the case if RSS = TSS, that is, if the sum of squared errors of our model is equal to the sum of squared errors of a model predicting the mean. If you are better off just predicting the mean, then your model is really not doing a terribly good job. There are infinitely many reasons why this can happen, one of these being an issue with your choice of model – if, for example, if you are trying to model really non-linear data with a linear model. Or it can be a consequence of your data. If your outcome variable is very noisy, then a model predicting the mean might be the best you can do."
   ]
  },
  {
   "cell_type": "markdown",
   "id": "b28d50ef",
   "metadata": {},
   "source": [
    "#### **Adjusted R-squared**\n",
    "\n",
    "Adjusted R-squared adjusts the R-squared value based on the number of predictors in the model, providing a more accurate measure for multiple regression models. The adjusted $R_2$ can be negative, and its value will always be less than or equal to that of $R_2$. Unlike R2, the adjusted $R_2$ increases only when the increase in $R_2$ (due to the inclusion of a new explanatory variable) is more than one would expect to see by chance.\n",
    "\n",
    "Adjusted $R_2$ can be interpreted as an instance of the bias-variance tradeoff. When we consider the performance of a model, a lower error represents a better performance. When the model becomes more complex, the variance will increase whereas the square of bias will decrease, and these two metrics add up to be the total error. Combining these two trends, the bias-variance tradeoff describes a relationship between the performance of the model and its complexity."
   ]
  },
  {
   "cell_type": "markdown",
   "id": "1391a90b",
   "metadata": {},
   "source": [
    "$R_2$ can be interpreted as the variance of the model, which is influenced by the model complexity. A high $R_2$ indicates a lower bias error because the model can better explain the change of $Y$ with predictors. For this reason, we make fewer (erroneous) assumptions, and this results in a lower bias error. Meanwhile, to accommodate fewer assumptions, the model tends to be more complex."
   ]
  },
  {
   "cell_type": "markdown",
   "id": "020fb0f1",
   "metadata": {},
   "source": [
    "### **Classification Models**"
   ]
  },
  {
   "cell_type": "code",
   "execution_count": 247,
   "id": "53ade153",
   "metadata": {},
   "outputs": [],
   "source": [
    "target_variable = \"loan_status\"\n",
    "transformed_feature_variables = [\n",
    "    \"person_age_scaled\",\n",
    "    \"person_income_scaled\",\n",
    "    \"loan_amnt_scaled\",\n",
    "    \"loan_grade_B\",\n",
    "    \"loan_grade_C\",\n",
    "    \"loan_grade_D\",\n",
    "    \"loan_grade_E\",\n",
    "    \"loan_grade_F\",\n",
    "    \"loan_grade_G\",\n",
    "]\n",
    "y = df[target_variable]\n",
    "X = df[transformed_feature_variables]"
   ]
  },
  {
   "cell_type": "code",
   "execution_count": 248,
   "id": "d0bcce33",
   "metadata": {},
   "outputs": [
    {
     "name": "stdout",
     "output_type": "stream",
     "text": [
      "26064 6517\n"
     ]
    }
   ],
   "source": [
    "# First, split into Train (80%) and Temp (20%)\n",
    "X_train, X_test, y_train, y_test = train_test_split(X, y, test_size=0.2, random_state=42)\n",
    "print(len(X_train), len(X_test))"
   ]
  },
  {
   "cell_type": "code",
   "execution_count": 249,
   "id": "10d674f0",
   "metadata": {},
   "outputs": [],
   "source": [
    "# scikit-learn model\n",
    "sklearn_model = LogisticRegression()\n",
    "sklearn_model.fit(X_train, y_train)\n",
    "\n",
    "y_test_predicted = sklearn_model.predict(X_test)\n",
    "y_train_predicted = sklearn_model.predict(X_train)"
   ]
  },
  {
   "cell_type": "code",
   "execution_count": 250,
   "id": "8f960eee",
   "metadata": {},
   "outputs": [
    {
     "data": {
      "text/html": [
       "<table class=\"simpletable\">\n",
       "<caption>Generalized Linear Model Regression Results</caption>\n",
       "<tr>\n",
       "  <th>Dep. Variable:</th>      <td>loan_status</td>   <th>  No. Observations:  </th>  <td> 26064</td> \n",
       "</tr>\n",
       "<tr>\n",
       "  <th>Model:</th>                  <td>GLM</td>       <th>  Df Residuals:      </th>  <td> 26054</td> \n",
       "</tr>\n",
       "<tr>\n",
       "  <th>Model Family:</th>        <td>Binomial</td>     <th>  Df Model:          </th>  <td>     9</td> \n",
       "</tr>\n",
       "<tr>\n",
       "  <th>Link Function:</th>         <td>Logit</td>      <th>  Scale:             </th> <td>  1.0000</td>\n",
       "</tr>\n",
       "<tr>\n",
       "  <th>Method:</th>                <td>IRLS</td>       <th>  Log-Likelihood:    </th> <td> -10305.</td>\n",
       "</tr>\n",
       "<tr>\n",
       "  <th>Date:</th>            <td>Mon, 07 Jul 2025</td> <th>  Deviance:          </th> <td>  20609.</td>\n",
       "</tr>\n",
       "<tr>\n",
       "  <th>Time:</th>                <td>15:22:31</td>     <th>  Pearson chi2:      </th> <td>1.52e+10</td>\n",
       "</tr>\n",
       "<tr>\n",
       "  <th>No. Iterations:</th>          <td>8</td>        <th>  Pseudo R-squ. (CS):</th>  <td>0.2260</td> \n",
       "</tr>\n",
       "<tr>\n",
       "  <th>Covariance Type:</th>     <td>nonrobust</td>    <th>                     </th>     <td> </td>   \n",
       "</tr>\n",
       "</table>\n",
       "<table class=\"simpletable\">\n",
       "<tr>\n",
       "            <td></td>              <th>coef</th>     <th>std err</th>      <th>z</th>      <th>P>|z|</th>  <th>[0.025</th>    <th>0.975]</th>  \n",
       "</tr>\n",
       "<tr>\n",
       "  <th>const</th>                <td>   -2.5651</td> <td>    0.041</td> <td>  -63.328</td> <td> 0.000</td> <td>   -2.644</td> <td>   -2.486</td>\n",
       "</tr>\n",
       "<tr>\n",
       "  <th>person_age_scaled</th>    <td>   -0.0048</td> <td>    0.018</td> <td>   -0.269</td> <td> 0.788</td> <td>   -0.040</td> <td>    0.030</td>\n",
       "</tr>\n",
       "<tr>\n",
       "  <th>person_income_scaled</th> <td>   -2.2947</td> <td>    0.055</td> <td>  -41.943</td> <td> 0.000</td> <td>   -2.402</td> <td>   -2.187</td>\n",
       "</tr>\n",
       "<tr>\n",
       "  <th>loan_amnt_scaled</th>     <td>    0.6691</td> <td>    0.021</td> <td>   32.169</td> <td> 0.000</td> <td>    0.628</td> <td>    0.710</td>\n",
       "</tr>\n",
       "<tr>\n",
       "  <th>loan_grade_B</th>         <td>    0.4467</td> <td>    0.049</td> <td>    9.187</td> <td> 0.000</td> <td>    0.351</td> <td>    0.542</td>\n",
       "</tr>\n",
       "<tr>\n",
       "  <th>loan_grade_C</th>         <td>    0.7680</td> <td>    0.052</td> <td>   14.777</td> <td> 0.000</td> <td>    0.666</td> <td>    0.870</td>\n",
       "</tr>\n",
       "<tr>\n",
       "  <th>loan_grade_D</th>         <td>    2.6109</td> <td>    0.057</td> <td>   45.978</td> <td> 0.000</td> <td>    2.500</td> <td>    2.722</td>\n",
       "</tr>\n",
       "<tr>\n",
       "  <th>loan_grade_E</th>         <td>    2.8864</td> <td>    0.094</td> <td>   30.568</td> <td> 0.000</td> <td>    2.701</td> <td>    3.071</td>\n",
       "</tr>\n",
       "<tr>\n",
       "  <th>loan_grade_F</th>         <td>    3.4331</td> <td>    0.200</td> <td>   17.182</td> <td> 0.000</td> <td>    3.042</td> <td>    3.825</td>\n",
       "</tr>\n",
       "<tr>\n",
       "  <th>loan_grade_G</th>         <td>    8.3393</td> <td>    1.781</td> <td>    4.681</td> <td> 0.000</td> <td>    4.848</td> <td>   11.831</td>\n",
       "</tr>\n",
       "</table>"
      ],
      "text/latex": [
       "\\begin{center}\n",
       "\\begin{tabular}{lclc}\n",
       "\\toprule\n",
       "\\textbf{Dep. Variable:}         &   loan\\_status   & \\textbf{  No. Observations:  } &    26064    \\\\\n",
       "\\textbf{Model:}                 &       GLM        & \\textbf{  Df Residuals:      } &    26054    \\\\\n",
       "\\textbf{Model Family:}          &     Binomial     & \\textbf{  Df Model:          } &        9    \\\\\n",
       "\\textbf{Link Function:}         &      Logit       & \\textbf{  Scale:             } &    1.0000   \\\\\n",
       "\\textbf{Method:}                &       IRLS       & \\textbf{  Log-Likelihood:    } &   -10305.   \\\\\n",
       "\\textbf{Date:}                  & Mon, 07 Jul 2025 & \\textbf{  Deviance:          } &    20609.   \\\\\n",
       "\\textbf{Time:}                  &     15:22:31     & \\textbf{  Pearson chi2:      } &  1.52e+10   \\\\\n",
       "\\textbf{No. Iterations:}        &        8         & \\textbf{  Pseudo R-squ. (CS):} &   0.2260    \\\\\n",
       "\\textbf{Covariance Type:}       &    nonrobust     & \\textbf{                     } &             \\\\\n",
       "\\bottomrule\n",
       "\\end{tabular}\n",
       "\\begin{tabular}{lcccccc}\n",
       "                                & \\textbf{coef} & \\textbf{std err} & \\textbf{z} & \\textbf{P$> |$z$|$} & \\textbf{[0.025} & \\textbf{0.975]}  \\\\\n",
       "\\midrule\n",
       "\\textbf{const}                  &      -2.5651  &        0.041     &   -63.328  &         0.000        &       -2.644    &       -2.486     \\\\\n",
       "\\textbf{person\\_age\\_scaled}    &      -0.0048  &        0.018     &    -0.269  &         0.788        &       -0.040    &        0.030     \\\\\n",
       "\\textbf{person\\_income\\_scaled} &      -2.2947  &        0.055     &   -41.943  &         0.000        &       -2.402    &       -2.187     \\\\\n",
       "\\textbf{loan\\_amnt\\_scaled}     &       0.6691  &        0.021     &    32.169  &         0.000        &        0.628    &        0.710     \\\\\n",
       "\\textbf{loan\\_grade\\_B}         &       0.4467  &        0.049     &     9.187  &         0.000        &        0.351    &        0.542     \\\\\n",
       "\\textbf{loan\\_grade\\_C}         &       0.7680  &        0.052     &    14.777  &         0.000        &        0.666    &        0.870     \\\\\n",
       "\\textbf{loan\\_grade\\_D}         &       2.6109  &        0.057     &    45.978  &         0.000        &        2.500    &        2.722     \\\\\n",
       "\\textbf{loan\\_grade\\_E}         &       2.8864  &        0.094     &    30.568  &         0.000        &        2.701    &        3.071     \\\\\n",
       "\\textbf{loan\\_grade\\_F}         &       3.4331  &        0.200     &    17.182  &         0.000        &        3.042    &        3.825     \\\\\n",
       "\\textbf{loan\\_grade\\_G}         &       8.3393  &        1.781     &     4.681  &         0.000        &        4.848    &       11.831     \\\\\n",
       "\\bottomrule\n",
       "\\end{tabular}\n",
       "%\\caption{Generalized Linear Model Regression Results}\n",
       "\\end{center}"
      ],
      "text/plain": [
       "<class 'statsmodels.iolib.summary.Summary'>\n",
       "\"\"\"\n",
       "                 Generalized Linear Model Regression Results                  \n",
       "==============================================================================\n",
       "Dep. Variable:            loan_status   No. Observations:                26064\n",
       "Model:                            GLM   Df Residuals:                    26054\n",
       "Model Family:                Binomial   Df Model:                            9\n",
       "Link Function:                  Logit   Scale:                          1.0000\n",
       "Method:                          IRLS   Log-Likelihood:                -10305.\n",
       "Date:                Mon, 07 Jul 2025   Deviance:                       20609.\n",
       "Time:                        15:22:31   Pearson chi2:                 1.52e+10\n",
       "No. Iterations:                     8   Pseudo R-squ. (CS):             0.2260\n",
       "Covariance Type:            nonrobust                                         \n",
       "========================================================================================\n",
       "                           coef    std err          z      P>|z|      [0.025      0.975]\n",
       "----------------------------------------------------------------------------------------\n",
       "const                   -2.5651      0.041    -63.328      0.000      -2.644      -2.486\n",
       "person_age_scaled       -0.0048      0.018     -0.269      0.788      -0.040       0.030\n",
       "person_income_scaled    -2.2947      0.055    -41.943      0.000      -2.402      -2.187\n",
       "loan_amnt_scaled         0.6691      0.021     32.169      0.000       0.628       0.710\n",
       "loan_grade_B             0.4467      0.049      9.187      0.000       0.351       0.542\n",
       "loan_grade_C             0.7680      0.052     14.777      0.000       0.666       0.870\n",
       "loan_grade_D             2.6109      0.057     45.978      0.000       2.500       2.722\n",
       "loan_grade_E             2.8864      0.094     30.568      0.000       2.701       3.071\n",
       "loan_grade_F             3.4331      0.200     17.182      0.000       3.042       3.825\n",
       "loan_grade_G             8.3393      1.781      4.681      0.000       4.848      11.831\n",
       "========================================================================================\n",
       "\"\"\""
      ]
     },
     "execution_count": 250,
     "metadata": {},
     "output_type": "execute_result"
    }
   ],
   "source": [
    "# statsmodels model\n",
    "train_df = sm.add_constant(X_train)\n",
    "train_df[train_df.select_dtypes(include=[\"bool\"]).columns] = train_df.select_dtypes(\n",
    "    include=[\"bool\"]\n",
    ").astype(int)\n",
    "\n",
    "test_df = sm.add_constant(X_test)\n",
    "test_df[test_df.select_dtypes(include=[\"bool\"]).columns] = test_df.select_dtypes(\n",
    "    include=[\"bool\"]\n",
    ").astype(int)\n",
    "\n",
    "sm_model = sm.GLM(y_train, train_df, family=sm.families.Binomial())\n",
    "sm_results = sm_model.fit()\n",
    "\n",
    "y_test_predicted_sm = sm_results.predict(test_df)\n",
    "y_train_predicted_sm = sm_results.predict(train_df)\n",
    "\n",
    "sm_results.summary()"
   ]
  },
  {
   "cell_type": "markdown",
   "id": "4c564a78",
   "metadata": {},
   "source": [
    "#### **Confusion Matrix**"
   ]
  },
  {
   "cell_type": "markdown",
   "id": "630fafaf",
   "metadata": {},
   "source": [
    "When creating a machine learning algorithm capable of making classification predictions, an important step in the process is to measure the model’s predictive power.\n",
    "\n",
    "Let’s say we are fitting a machine learning model to try to predict whether or not an email is spam. We can pass the features of our evaluation set through the trained model and get an output list of the predictions our model makes. We then compare each of those predictions to the actual labels. There are four possible categories that each of the comparisons can fall under:\n",
    "\n",
    "- **True Positive (TP)**: The algorithm predicted spam and it was spam\n",
    "- **True Negative (TN)**: The algorithm predicted not spam and it was not spam\n",
    "- **False Positive (FP)**: The algorithm predicted spam and it was not spam\n",
    "- **False Negative (FN)**: The algorithm predicted not spam and it was spam\n",
    "\n",
    "One common way to visualize these values is in a confusion matrix. In a confusion matrix the predicted classes are represented as columns and the actual classes are represented as rows."
   ]
  },
  {
   "cell_type": "code",
   "execution_count": 264,
   "id": "17bd538e",
   "metadata": {},
   "outputs": [
    {
     "data": {
      "application/vnd.microsoft.datawrangler.viewer.v0+json": {
       "columns": [
        {
         "name": "index",
         "rawType": "object",
         "type": "string"
        },
        {
         "name": "predicted no",
         "rawType": "int64",
         "type": "integer"
        },
        {
         "name": "predicted yes",
         "rawType": "int64",
         "type": "integer"
        }
       ],
       "ref": "a68e3019-1384-461a-8470-6e4a9b73c049",
       "rows": [
        [
         "actual no",
         "4827",
         "245"
        ],
        [
         "actual yes",
         "906",
         "539"
        ]
       ],
       "shape": {
        "columns": 2,
        "rows": 2
       }
      },
      "text/html": [
       "<div>\n",
       "<style scoped>\n",
       "    .dataframe tbody tr th:only-of-type {\n",
       "        vertical-align: middle;\n",
       "    }\n",
       "\n",
       "    .dataframe tbody tr th {\n",
       "        vertical-align: top;\n",
       "    }\n",
       "\n",
       "    .dataframe thead th {\n",
       "        text-align: right;\n",
       "    }\n",
       "</style>\n",
       "<table border=\"1\" class=\"dataframe\">\n",
       "  <thead>\n",
       "    <tr style=\"text-align: right;\">\n",
       "      <th></th>\n",
       "      <th>predicted no</th>\n",
       "      <th>predicted yes</th>\n",
       "    </tr>\n",
       "  </thead>\n",
       "  <tbody>\n",
       "    <tr>\n",
       "      <th>actual no</th>\n",
       "      <td>4827</td>\n",
       "      <td>245</td>\n",
       "    </tr>\n",
       "    <tr>\n",
       "      <th>actual yes</th>\n",
       "      <td>906</td>\n",
       "      <td>539</td>\n",
       "    </tr>\n",
       "  </tbody>\n",
       "</table>\n",
       "</div>"
      ],
      "text/plain": [
       "            predicted no  predicted yes\n",
       "actual no           4827            245\n",
       "actual yes           906            539"
      ]
     },
     "execution_count": 264,
     "metadata": {},
     "output_type": "execute_result"
    }
   ],
   "source": [
    "test_conf_matrix = pd.DataFrame(\n",
    "    confusion_matrix(y_test, y_test_predicted),\n",
    "    index=[\"actual no\", \"actual yes\"],\n",
    "    columns=[\"predicted no\", \"predicted yes\"],\n",
    ")\n",
    "\n",
    "test_conf_matrix"
   ]
  },
  {
   "cell_type": "markdown",
   "id": "56f1dbd4",
   "metadata": {},
   "source": [
    "#### **Accuracy**\n",
    "\n",
    "One method for determining the effectiveness of a classification algorithm is by measuring its accuracy statistic. Accuracy is calculated by finding the total number of correctly classified predictions (true positives and true negatives) and dividing by the total number of predictions."
   ]
  },
  {
   "cell_type": "code",
   "execution_count": 265,
   "id": "271e063a",
   "metadata": {},
   "outputs": [
    {
     "data": {
      "text/plain": [
       "0.8233849930949824"
      ]
     },
     "execution_count": 265,
     "metadata": {},
     "output_type": "execute_result"
    }
   ],
   "source": [
    "accuracy_score(y_test, y_test_predicted)"
   ]
  },
  {
   "cell_type": "markdown",
   "id": "2c6137a1",
   "metadata": {},
   "source": [
    "#### **Recall**\n",
    "\n",
    "Accuracy can be a misleading statistic depending on our data and the problem we are trying to solve. Consider a model tasked with predicting spam in the email inboxes of top secret government employees who never use their work email addresses for online shopping or logging onto their favorite gaming apps. We can write a pretty simple and accurate classifier that always predicts False, the email is not spam. This classifier will be incredibly accurate since there are hardly ever any spam emails sent to those top secret emails, but this classifier will never be able to find the information we are actually interested in, when there is spam.\n",
    "\n",
    "In this situation, a helpful statistic to consider is recall. In our example, recall measures the ratio of correct spam predictions that our classifier found to the total number of spam emails. \n",
    "\n",
    "Recall is the ratio of correct positive predictions classifications made by the model to all actual positives."
   ]
  },
  {
   "cell_type": "code",
   "execution_count": 266,
   "id": "b76c7490",
   "metadata": {},
   "outputs": [
    {
     "data": {
      "text/plain": [
       "0.37301038062283737"
      ]
     },
     "execution_count": 266,
     "metadata": {},
     "output_type": "execute_result"
    }
   ],
   "source": [
    "recall_score(y_test, y_test_predicted)"
   ]
  },
  {
   "cell_type": "markdown",
   "id": "344f226f",
   "metadata": {},
   "source": [
    "#### **Precision**\n",
    "\n",
    "Unfortunately, recall isn’t a perfect statistic either (spoiler alert! There is no perfect statistic). For example, we could create a spam email classifier that always returns True, the email is spam. This particular classifier would have low accuracy, but the recall would be 1 because it would be able to accurately find every spam email.\n",
    "\n",
    "In this situation, a helpful statistic to understand is precision. In our email spam classification example, precision is the ratio of correct spam email predictions to the total number of spam predictions.\n",
    "\n",
    "Precision is the ratio of correct positive classifications to all positive classifications made by the model."
   ]
  },
  {
   "cell_type": "code",
   "execution_count": 267,
   "id": "34be6253",
   "metadata": {},
   "outputs": [
    {
     "data": {
      "text/plain": [
       "0.6875"
      ]
     },
     "execution_count": 267,
     "metadata": {},
     "output_type": "execute_result"
    }
   ],
   "source": [
    "precision_score(y_test, y_test_predicted)"
   ]
  },
  {
   "cell_type": "markdown",
   "id": "3a43b234",
   "metadata": {},
   "source": [
    "#### **F1-Score**\n",
    "\n",
    "It is often useful to consider both the precision and recall when attempting to describe the effectiveness of a model. The F1-score combines both precision and recall into a single statistic, by determining their harmonic mean. The harmonic mean is a method of averaging."
   ]
  },
  {
   "cell_type": "markdown",
   "id": "832b38f9",
   "metadata": {},
   "source": [
    "We use the **harmonic mean** rather than the traditional arithmetic mean because we want the F1-score to have a low value when either precision or recall is 0."
   ]
  },
  {
   "cell_type": "code",
   "execution_count": 268,
   "id": "76effd41",
   "metadata": {},
   "outputs": [
    {
     "data": {
      "text/plain": [
       "0.48362494392104083"
      ]
     },
     "execution_count": 268,
     "metadata": {},
     "output_type": "execute_result"
    }
   ],
   "source": [
    "f1_score(y_test, y_test_predicted)"
   ]
  },
  {
   "cell_type": "markdown",
   "id": "abbb4c3a",
   "metadata": {},
   "source": [
    "#### **Receiver Operating Characteristic (ROC) Curve**\n",
    "\n",
    "We have examined how changing the threshold can affect the logistic regression predictions. There is a continuum of predictions available in a single model by varying the threshold incrementally from zero to one. For each of these thresholds, the True Positive Rate (TPR) and the False Positive Rate (FPR) can be calculated and then plot. The resulting curve these points form is known as the Receiver Operating Characteristic (ROC) curve."
   ]
  },
  {
   "cell_type": "markdown",
   "id": "8540b08c",
   "metadata": {},
   "source": [
    "In the ROC curve plotted above, the True Positive Rate (TPR = TP / TP + FN) is on the y-axis and the False Positive Rate (FPR = FP / TN + FP) is on the x-axis. The ROC curve is the orange line and the dashed blue line is the Dummy Classification line, which is the equivalent of random guessing.\n",
    "\n",
    "Notice there are three data points on the ROC curve, each labeled with their threshold values. The classification threshold of .5 will give us a TPR of about .65 with an FPR of about .28. For our specific data, we want a higher TPR so that we catch every malignant tumor. We might select a lower threshold of .25 so that our TPR is about .8, even though this may give us an FPR of about .4. \n",
    "\n",
    "The ROC curve can help us decide on a threshold that best fits our specific classification problem."
   ]
  },
  {
   "cell_type": "code",
   "execution_count": 269,
   "id": "efb2550d",
   "metadata": {},
   "outputs": [
    {
     "data": {
      "image/png": "[encoded data removed]",
      "text/plain": [
       "<Figure size 640x480 with 1 Axes>"
      ]
     },
     "metadata": {},
     "output_type": "display_data"
    }
   ],
   "source": [
    "fpr, tpr, thresholds = roc_curve(y_test, y_test_predicted)\n",
    "plt.figure()\n",
    "plt.plot(fpr, tpr, color=\"darkorange\", label=\"ROC curve\")\n",
    "\n",
    "\n",
    "idx = list(range(len(thresholds)))[1::4]\n",
    "for i in idx:\n",
    "    plt.text(fpr[i], tpr[i], thresholds[i].round(2))\n",
    "\n",
    "clf = DummyClassifier(strategy=\"most_frequent\", random_state=0)\n",
    "clf.fit(X_train, y_train)\n",
    "roc_auc = roc_auc_score(y_test, clf.predict_proba(X_test)[:, 1])\n",
    "\n",
    "fpr, tpr, thresholds = roc_curve(y_test, clf.predict_proba(X_test)[:, 1])\n",
    "\n",
    "plt.plot(\n",
    "    fpr,\n",
    "    tpr,\n",
    "    color=\"navy\",\n",
    "    linestyle=\"--\",\n",
    "    label=\"Dummy Classifier (most frequent)\",\n",
    ")\n",
    "plt.xlabel(\"False Positive Rate\")\n",
    "plt.ylabel(\"True Positive Rate\")\n",
    "plt.title(\"ROC Curve\")\n",
    "plt.grid()\n",
    "plt.legend(loc=\"lower right\")\n",
    "plt.show()"
   ]
  },
  {
   "cell_type": "markdown",
   "id": "2a72d966",
   "metadata": {},
   "source": [
    "#### **Area Under the Curve (AUC)**"
   ]
  },
  {
   "cell_type": "markdown",
   "id": "af57c2e0",
   "metadata": {},
   "source": [
    "While the ROC curve measures the probabilities, the AUC (Area Under the Curve) gives us a single metric for separability. The AUC tells us how well our model can distinguish between the two classes. An AUC score close to 1 is a near-perfect classifier, whereas a value of 0.5 is equivalent to random guessing and a value of 0 is guessing everything incorrectly. To visualize different AUC scores, look at the ROC curve plots below:"
   ]
  },
  {
   "cell_type": "code",
   "execution_count": 263,
   "id": "e6214a93",
   "metadata": {},
   "outputs": [
    {
     "data": {
      "text/plain": [
       "0.6623529821095259"
      ]
     },
     "execution_count": 263,
     "metadata": {},
     "output_type": "execute_result"
    }
   ],
   "source": [
    "roc_auc_score(y_test, y_test_predicted)"
   ]
  },
  {
   "cell_type": "markdown",
   "id": "be4930b5",
   "metadata": {},
   "source": [
    "#### **Gini Index**\n",
    "\n",
    "The Gini index is another metric used to evaluate model performance. It is commonly applied in credit score models and measures the effectiveness of discriminating between good and bad observations. The Gini index can be defined based on the area under the ROC curve (AUC).\n",
    "\n",
    "$\\text{Gini} = 2\\times \\text{AUC} - 1$\n",
    "\n",
    "The maximum value for AUC is 1, and the minimum is 0 (some would argue it is 0.5 as well). Therefore, the Gini index ranges from -1 (Gini = 2 * 0–1 = -1) to 1 (Gini = 2 * 1–1 = 1). Since the Gini index uses AUC in its calculation, the interpretation is similar: values close to 1 indicate good performance. However, the Gini index may be easier to explain when we have a Gini of 0 as it implies the model is as good as flipping a fair coin."
   ]
  },
  {
   "cell_type": "code",
   "execution_count": null,
   "id": "c77f8117",
   "metadata": {},
   "outputs": [
    {
     "data": {
      "text/plain": [
       "0.32470596421905173"
      ]
     },
     "execution_count": 275,
     "metadata": {},
     "output_type": "execute_result"
    }
   ],
   "source": [
    "2 * roc_auc_score(y_test, y_test_predicted) - 1"
   ]
  },
  {
   "cell_type": "markdown",
   "id": "499b3768",
   "metadata": {},
   "source": [
    "### **Forecasting Models**\n"
   ]
  },
  {
   "cell_type": "markdown",
   "id": "a94e4adf",
   "metadata": {},
   "source": [
    "#### **Autocorrelation of Residuals**\n",
    "\n",
    "Autocorrelation in residuals is a critical aspect of time series analysis and regression modeling. It refers to the correlation of a signal with a delayed copy of itself as a function of delay. Autocorrelation in residuals indicates that there is some pattern left in the residuals that the model has not captured, which can lead to inefficiency in the model estimates and affect inference. \n"
   ]
  },
  {
   "cell_type": "markdown",
   "id": "47db6eb7",
   "metadata": {},
   "source": [
    "- Positive Autocorrelation: Indicates that positive values tend to be followed by positive values, and negative values tend to be followed by negative values.\n",
    "- Negative Autocorrelation: Indicates that positive values tend to be followed by negative values and vice versa.\n",
    "\n",
    "Several methods can be used to test for autocorrelation in residuals, including visual inspection through plots and statistical tests. Here we discuss 3 main methods for Test the Autocorrelation of the Residuals in R.\n",
    "\n",
    "- Visual Inspection using ACF Plot\n",
    "- Durbin-Watson Test\n",
    "- Ljung-Box Test"
   ]
  },
  {
   "cell_type": "markdown",
   "id": "09fff69d",
   "metadata": {},
   "source": [
    "##### **ACF**\n",
    "\n",
    "The Autocorrelation Function (ACF) plot is a graphical tool that shows the correlation of the time series with its lags. It helps in identifying the presence of autocorrelation in the residuals.\n",
    "\n",
    "Significant autocorrelation at specific lags will appear as points outside the confidence bounds."
   ]
  },
  {
   "cell_type": "code",
   "execution_count": null,
   "id": "97cc42f3",
   "metadata": {},
   "outputs": [
    {
     "data": {
      "image/png": "[encoded data removed]",
      "text/plain": [
       "<Figure size 640x480 with 1 Axes>"
      ]
     },
     "metadata": {},
     "output_type": "display_data"
    }
   ],
   "source": [
    "# Plot autocorrelation\n",
    "plot_acf(residuals_test, lags=10)\n",
    "plt.title(\"Autocorrelation of Residuals\")\n",
    "plt.show()"
   ]
  },
  {
   "cell_type": "markdown",
   "id": "28e775a7",
   "metadata": {},
   "source": [
    "##### **Dubin-Watson Statistic**\n",
    "\n",
    "One of the assumptions of linear regression is that there is no correlation between the residuals. In other words, the residuals are assumed to be independent.\n",
    "\n",
    "One way to determine if this assumption is met is to perform a Durbin-Watson test, which is used to detect the presence of autocorrelation in the residuals of a regression. This test uses the following hypotheses:\n",
    "\n",
    "- $H_0$ (null hypothesis): There is no correlation among the residuals.\n",
    "- $H_1$ (alternative hypothesis): The residuals are autocorrelated.\n",
    "\n",
    "The test statistic is approximately equal to $2(1-r)$ where $r$ is the sample autocorrelation of the residuals. Thus, the test statistic will always be between 0 and 4 with the following interpretation:\n",
    "\n",
    "- A test statistic of 2 indicates no serial correlation.\n",
    "- The closer the test statistics is to 0, the more evidence of positive serial correlation.\n",
    "- The closer the test statistics is to 4, the more evidence of negative serial correlation.\n",
    "\n",
    "As a rule of thumb, test statistic values between the range of 1.5 and 2.5 are considered normal. However, values outside of this range could indicate that autocorrelation is a problem.\n"
   ]
  },
  {
   "cell_type": "code",
   "execution_count": null,
   "id": "f9a85a39",
   "metadata": {},
   "outputs": [
    {
     "name": "stdout",
     "output_type": "stream",
     "text": [
      "Durbin-Watson statistic: 2.0036592238174076\n"
     ]
    }
   ],
   "source": [
    "# Calculate Durbin-Watson statistic\n",
    "dw_stat = durbin_watson(residuals_test)\n",
    "print(f\"Durbin-Watson statistic: {dw_stat}\")"
   ]
  },
  {
   "cell_type": "markdown",
   "id": "52f551af",
   "metadata": {},
   "source": [
    "If you reject the null hypothesis and conclude that autocorrelation is present in the residuals, then you have a few different options to correct this problem if you deem it to be serious enough:\n",
    "\n",
    "1. For positive serial correlation, consider adding lags of the dependent and/or independent variable to the model.\n",
    "2. For negative serial correlation, check to make sure that none of your variables are overdifferenced.\n",
    "3. For seasonal correlation, consider adding seasonal dummy variables to the model."
   ]
  },
  {
   "cell_type": "markdown",
   "id": "133d715d",
   "metadata": {},
   "source": [
    "##### **Ljung-Box test**\n",
    "\n",
    "The Ljung-Box test checks for autocorrelation at multiple lags simultaneously. It is a portmanteau test that assesses whether any of a group of autocorrelations of the residuals is different from zero. The null hypothesis is that the residuals are independently distributed, the alternative is that the residuals are not independently distributed; they exhibit serial correlation.. A low p-value (< 0.05) indicates that there is significant autocorrelation at one or more lags."
   ]
  },
  {
   "cell_type": "code",
   "execution_count": null,
   "id": "27a39803",
   "metadata": {},
   "outputs": [
    {
     "name": "stdout",
     "output_type": "stream",
     "text": [
      "     lb_stat  lb_pvalue\n",
      "10  11.49543   0.320243\n"
     ]
    }
   ],
   "source": [
    "# Perform the Ljung-Box test\n",
    "ljung_box_result = acorr_ljungbox(y_train, lags=[10], return_df=True)\n",
    "\n",
    "# Display the results\n",
    "print(ljung_box_result)"
   ]
  },
  {
   "cell_type": "markdown",
   "id": "be5ab542",
   "metadata": {},
   "source": [
    "\n",
    "#### **Backtesting**\n",
    "\n",
    "Backtesting is a term used in modeling to refer to testing a predictive model on historical data. The idea is to keep the later part of the data as test data so that we can evaluate the model against this test data.\n",
    "\n",
    "![image](images/backtesting.png)\n"
   ]
  },
  {
   "cell_type": "markdown",
   "id": "8d85c834",
   "metadata": {},
   "source": [
    "There are several metrics that can be used to evaluate how different between the actual values and the forecasted values, or how different between the orange line and the light blue line above.\n",
    "\n",
    "Here are the some metrics that are used widely when evaluating the time series forecasting models.\n",
    "- RMSE (Root Mean Square Error)\n",
    "- MAE (Mean Absolute Error)\n",
    "- MAPE (Mean Absolute Percentage Error)\n",
    "- Ginis\n"
   ]
  },
  {
   "cell_type": "markdown",
   "id": "175c7cc9",
   "metadata": {},
   "source": [
    "### **Model Agnostic**\n"
   ]
  },
  {
   "cell_type": "markdown",
   "id": "c9484d56",
   "metadata": {},
   "source": [
    "\n",
    "#### **Two-way KS Test**\n",
    "\n",
    "The Kolmogorov-Smirnov (K-S) statistic is a non-parametric test used to compare a sample with a reference probability distribution or to compare two samples. It can be used to check the goodness of fit of a distribution to data.\n",
    "In this context, we can use the K-S test to check whether the residuals (difference between actual and predicted values) of our regression model follow a normal distribution\n",
    "\n",
    "The K-S statistic quantifies a distance between the empirical distribution function of the sample and the cumulative distribution function of the reference distribution, or between the empirical distribution functions of two samples.\n",
    "\n",
    "If $F(x)$ is the cumulative distribution function (CDF) of the reference distribution and $S(x)$ is the empirical distribution function (EDF) of the sample data, then the K-S statistic D is given by:\n",
    "\n",
    "$D=\\max |F(x)-S(x)|$\n",
    "\n",
    "Null Hypotheses\n",
    "\n",
    "- One-sample: The data come from the specified distribution.\n",
    "- Two-sample: The two samples come from the same distribution.\n",
    "\n",
    "This technique used to compare the distribution of actual and predicted values. It’s particularly useful in the context of predictive models to understand if your model is consistently predicting across the full range of observed outcomes.\n",
    "\n",
    "Here’s how you can conduct a bin-based two-way K-S test:\n",
    "\n",
    "- Create equal-sized bins based on the range of actual values.\n",
    "- For each bin, compute the cumulative distribution function (CDF) for both actual and predicted values.\n",
    "- Calculate the maximum difference between these CDFs.\n",
    "\n"
   ]
  },
  {
   "cell_type": "code",
   "execution_count": 2,
   "id": "4108e28b",
   "metadata": {},
   "outputs": [
    {
     "name": "stdout",
     "output_type": "stream",
     "text": [
      "D-statistic=0.140, p=0.282\n",
      "Samples may come from the same distribution (fail to reject H₀)\n"
     ]
    }
   ],
   "source": [
    "from scipy.stats import ks_2samp\n",
    "import numpy as np\n",
    "\n",
    "data1 = np.random.normal(0, 1, 100)\n",
    "data2 = np.random.normal(0, 1.5, 100)\n",
    "stat, p = ks_2samp(data1, data2)\n",
    "print('D-statistic=%.3f, p=%.3f' % (stat, p))\n",
    "if p > 0.05:\n",
    "    print(\"Samples may come from the same distribution (fail to reject H₀)\")\n",
    "else:\n",
    "    print(\"Samples come from different distributions (reject H₀)\")"
   ]
  },
  {
   "cell_type": "markdown",
   "id": "b2599ba3",
   "metadata": {},
   "source": [
    "#### **Lift Ratio**\n",
    "\n",
    "Lift is a measure of the effectiveness of a predictive model calculated as the ratio between the results obtained with and without the predictive model. The idea is to evaluate how much better one can expect to do with the predictive model compared to without it.\n",
    "\n",
    "For a given score decile (or percentile group):\n",
    "\n",
    "$\\text{Lift} = \\frac{\\text{Response rate in the group}}{\\text{Overall response rate}}$\n",
    "​\n",
    "\n",
    "Or in binary terms:\n",
    "\n",
    "$\\text{Lift} = \\frac{\\text{Proportion of actual positives in group}}{\\text{Proportion of positives in whole population}}$\n"
   ]
  },
  {
   "cell_type": "markdown",
   "id": "7f5091ff",
   "metadata": {},
   "source": [
    "\n",
    "#### **Cumulative Lift**\n",
    "\n",
    "Cumulative lift is an extension of the lift metric that is assessed over a series of increasing data fractions. Essentially, as you consider more and more of the data (typically sorted by the model’s predicted probabilities), how does the lift value accumulate?\n",
    "\n",
    "Cumulative lift is calculated by evaluating the model’s performance over progressively larger portions of the dataset, which has been sorted based on the model’s predicted probabilities or scores. A common way to visualize cumulative lift is through a lift chart. Here’s a step-by-step method to calculate cumulative lift. \n",
    "\n",
    "1. Predict Probabilities or Scores: Use your model to predict the probabilities or scores for each instance in your validation/test set.\n",
    "2. Sort Data: Sort your dataset in descending order based on these predicted probabilities or scores.\n",
    "3. Divide Data into Bins: Divide the sorted dataset into equal-sized bins (or deciles, quintiles, etc.). The top bin should contain the instances with the highest predicted probabilities or scores.\n",
    "4. Calculate Cumulative Lift for Each Bin\n"
   ]
  },
  {
   "cell_type": "code",
   "execution_count": 5,
   "id": "1b18f883",
   "metadata": {},
   "outputs": [
    {
     "name": "stdout",
     "output_type": "stream",
     "text": [
      "[np.float64(1.1), np.float64(1.0), np.float64(0.9833333333333333), np.float64(1.01), np.float64(1.0133333333333334)]\n"
     ]
    }
   ],
   "source": [
    "import numpy as np\n",
    "\n",
    "def cumulative_regression_lift(y_true, y_pred):\n",
    "    \"\"\"\n",
    "    Compute the cumulative lift for regression.\n",
    "    \n",
    "    :param y_true: Array-like, true target values.\n",
    "    :param y_pred: Array-like, predicted values by the model.\n",
    "    :return: List of cumulative lift values.\n",
    "    \"\"\"\n",
    "    # Sort y_true and y_pred by y_pred values\n",
    "    sorted_indices = np.argsort(y_pred)\n",
    "    y_true_sorted = y_true[sorted_indices]\n",
    "    y_pred_sorted = y_pred[sorted_indices]\n",
    "    \n",
    "    cumulative_lifts = []\n",
    "    for i in range(1, len(y_true) + 1):\n",
    "        mean_true_up_to_i = np.mean(y_true_sorted[:i])\n",
    "        mean_pred_up_to_i = np.mean(y_pred_sorted[:i])\n",
    "        \n",
    "        lift = mean_pred_up_to_i / mean_true_up_to_i if mean_true_up_to_i != 0 else 0\n",
    "        cumulative_lifts.append(lift)\n",
    "        \n",
    "    return cumulative_lifts\n",
    "\n",
    "y_true = np.array([100, 200, 300, 400, 500])\n",
    "y_pred = np.array([110, 190, 290, 420, 510])  # Some values are overestimations, some are underestimations\n",
    "\n",
    "cumulative_lift_values = cumulative_regression_lift(y_true, y_pred)\n",
    "print(cumulative_lift_values)"
   ]
  },
  {
   "cell_type": "code",
   "execution_count": 7,
   "id": "c7a72c02",
   "metadata": {},
   "outputs": [
    {
     "name": "stdout",
     "output_type": "stream",
     "text": [
      "[2.5        2.5        2.5        2.5        2.         1.66666667\n",
      " 1.42857143 1.25       1.11111111 1.        ]\n"
     ]
    }
   ],
   "source": [
    "import numpy as np\n",
    "\n",
    "def cumulative_classification_lift(y_true, y_prob):\n",
    "    \"\"\"\n",
    "    Compute the cumulative lift for classification.\n",
    "    \n",
    "    :param y_true: Array-like, true binary labels (0 or 1).\n",
    "    :param y_prob: Array-like, predicted probabilities for the positive class.\n",
    "    :return: List of cumulative lift values.\n",
    "    \"\"\"\n",
    "    # Sort y_true based on predicted probabilities in descending order\n",
    "    sorted_indices = np.argsort(y_prob)[::-1]\n",
    "    y_true_sorted = y_true[sorted_indices]\n",
    "    \n",
    "    n = len(y_true)\n",
    "    cumulative_positive = np.cumsum(y_true_sorted)\n",
    "    \n",
    "    # Calculate cumulative percentage of actual positives\n",
    "    cumulative_positive_percentage = cumulative_positive / np.arange(1, n + 1)\n",
    "    \n",
    "    # Overall percentage of actual positives in the dataset\n",
    "    overall_positive_percentage = np.sum(y_true) / n\n",
    "    \n",
    "    cumulative_lifts = cumulative_positive_percentage / overall_positive_percentage\n",
    "    \n",
    "    return cumulative_lifts\n",
    "y_true = np.array([0, 1, 1, 0, 1, 0, 1, 0, 0, 0])\n",
    "y_prob = np.array([0.2, 0.9, 0.8, 0.1, 0.85, 0.3, 0.7, 0.4, 0.5, 0.2])  # Predicted probabilities for the positive class\n",
    "\n",
    "cumulative_lift_values = cumulative_classification_lift(y_true, y_prob)\n",
    "print(cumulative_lift_values)"
   ]
  },
  {
   "cell_type": "code",
   "execution_count": 9,
   "id": "0db6bf04",
   "metadata": {},
   "outputs": [
    {
     "data": {
      "image/png": "[encoded data removed]",
      "text/plain": [
       "<Figure size 800x600 with 1 Axes>"
      ]
     },
     "metadata": {},
     "output_type": "display_data"
    }
   ],
   "source": [
    "from matplotlib import pyplot as plt\n",
    "\n",
    "plt.figure(figsize=(8, 6))\n",
    "plt.plot(np.arange(1, len(y_true) + 1) / len(y_true), cumulative_lift_values, marker='o', linestyle='-', color='b')\n",
    "plt.axhline(y=1, color='red', linestyle='--')\n",
    "plt.xlabel('Proportion of Samples')\n",
    "plt.ylabel('Cumulative Lift')\n",
    "plt.title('Cumulative Lift Curve')\n",
    "plt.legend(['Model', 'Random'])\n",
    "plt.grid(True)\n",
    "plt.show()"
   ]
  },
  {
   "cell_type": "markdown",
   "id": "183adcba",
   "metadata": {},
   "source": [
    "## **Bias Variance Trade-off**\n",
    "\n",
    "In general, as the number of tunable parameters in a model increase, it becomes more flexible, and can better fit a training data set. That is, the model has lower error or lower bias. However, for more flexible models, there will tend to be greater variance to the model fit each time we take a set of samples to create a new training data set (i.e. the test set). It is said that there is greater variance in the model's estimated parameters.\n",
    "- The bias error is an error from erroneous assumptions in the learning algorithm. High bias can cause an algorithm to miss the relevant relations between features and target outputs (underfitting).\n",
    "- The variance is an error from sensitivity to small fluctuations in the training set. High variance may result from an algorithm modeling the random noise in the training data (overfitting)."
   ]
  },
  {
   "cell_type": "markdown",
   "id": "87818a8b",
   "metadata": {},
   "source": [
    "Consider an example of a student going to attend a math exam. Now the task is studying the book or the relevant chapters/modules for the exam.\n",
    "\n",
    "If the student studies by just skimming over the topics and chapters instead of actually studying the same then the same student will not be able to perform well in the exam as he/she had only skimmed the topic.\n",
    "\n",
    "Consider another scenario wherein the student memorizes all the contents in the chapters and problems instead of actually studying/understanding the concept,theories and its implication — In this case if any question which comes out of the book but based on the concepts, that student will not be able to tackle or counter the problem.\n",
    "\n",
    "The ideal one is that we must be able to generalize the model. (i.e) In the above case, we must be able to resolve any problem by studying the concepts, theories and approach for the problem rather than skimming or memorizing the problems.\n",
    "\n",
    "![image](images/bias_variance.png)"
   ]
  },
  {
   "cell_type": "markdown",
   "id": "16fb7ae1",
   "metadata": {},
   "source": [
    "- $\\text{MSE}_{test} = \\text{Reducible error} + \\text{Irreducible error}$- \n",
    "- $\\text{MSE}_{test} = \\text{Variance} + \\text{Bias}^2 + \\text{Irreducible error}$\n",
    "\n",
    "The closer the model predictions are to the observations, the smaller the MSE will be. However, we only care about test MSE – the MSE when our model is applied to unseen data. This is because we only care about how the model will perform on unseen data, not existing data.\n",
    "\n",
    "For example, it’s nice if a model that predicts stock market prices has a low MSE on historical data, but we really want to be able to use the model to accurately forecast future data.\n",
    "\n",
    "It turns out that the test MSE can always be decomposed into two parts:\n",
    "1. The variance: Refers to the amount by which our function f would change if we estimated it using a different training set.\n",
    "2. The bias: Refers to the error that is introduced by approximating a real-life problem, which may be extremely complicated, by a much simpler model."
   ]
  },
  {
   "cell_type": "markdown",
   "id": "7e837320",
   "metadata": {},
   "source": [
    "# **Extra Reading**\n",
    "\n",
    "https://medium.com/data-science/is-f1-score-really-better-than-accuracy-5f87be75ae01\n",
    "\n",
    "https://medium.com/data-science/bias-variance-tradeoff-explained-a-visual-guide-with-code-examples-for-beginners-9521871f728a\n",
    "\n",
    "https://medium.com/data-science/confidence-interval-vs-prediction-interval-a6b0c4816a92"
   ]
  }
 ],
 "metadata": {
  "kernelspec": {
   "display_name": "guide-repo",
   "language": "python",
   "name": "python3"
  },
  "language_info": {
   "codemirror_mode": {
    "name": "ipython",
    "version": 3
   },
   "file_extension": ".py",
   "mimetype": "text/x-python",
   "name": "python",
   "nbconvert_exporter": "python",
   "pygments_lexer": "ipython3",
   "version": "3.13.2"
  }
 },
 "nbformat": 4,
 "nbformat_minor": 5
}
