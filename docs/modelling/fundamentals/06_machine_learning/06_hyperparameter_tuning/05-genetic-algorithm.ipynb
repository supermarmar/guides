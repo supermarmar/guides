{
 "cells": [
  {
   "cell_type": "markdown",
   "id": "511ecfa1",
   "metadata": {},
   "source": [
    "\n",
    "# **Genetic Algoritms**\n",
    "\n",
    "Genetic algorithms are another possible hyperparameter tuning method. These work by going through several generations of hyperparameter values. Within each generation, the fittest (i.e., best-performing) hyperparameter values are slightly mutated (i.e., changed) in order to produce the next generation."
   ]
  }
 ],
 "metadata": {
  "language_info": {
   "name": "python"
  }
 },
 "nbformat": 4,
 "nbformat_minor": 5
}
