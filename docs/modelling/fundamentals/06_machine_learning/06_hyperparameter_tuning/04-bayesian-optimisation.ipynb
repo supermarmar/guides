{
 "cells": [
  {
   "cell_type": "markdown",
   "id": "b5528d21",
   "metadata": {},
   "source": [
    "\n",
    "# **Bayesian Optimisation**\n",
    "\n",
    "Bayesian optimization is another approach to hyperparameter tuning. It uses ideas from the field of Bayesian statistics to iterate through different hyperparameter values. Each time the Bayesian optimization algorithm evaluates a new hyperparameter value, it gains more information about where it should look for the best hyperparameter value.\n"
   ]
  }
 ],
 "metadata": {
  "language_info": {
   "name": "python"
  }
 },
 "nbformat": 4,
 "nbformat_minor": 5
}
