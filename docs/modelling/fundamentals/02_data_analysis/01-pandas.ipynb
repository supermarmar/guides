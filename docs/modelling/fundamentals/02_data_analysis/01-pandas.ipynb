{
 "cells": [
  {
   "cell_type": "markdown",
   "id": "e845253b",
   "metadata": {},
   "source": [
    "# **Pandas** 🐼\n",
    "\n",
    "<https://pandas.pydata.org/docs/user_guide/10min.html>\n",
    "\n",
    "A pandas DataFrame can be easily changed and manipulated. Pandas has helpful functions for handling missing data, performing operations on columns and rows, and transforming data. If that wasn’t enough, a lot of SQL functions have counterparts in pandas, such as join, merge, filter by, and group by. "
   ]
  },
  {
   "cell_type": "code",
   "execution_count": 1,
   "id": "ecce1578",
   "metadata": {},
   "outputs": [],
   "source": [
    "import pandas as pd"
   ]
  },
  {
   "cell_type": "markdown",
   "id": "cb2881d5",
   "metadata": {},
   "source": [
    "## **NumPy**\n",
    "\n",
    "NumPy is an open-source Python library that facilitates efficient numerical operations on large quantities of data. There are a few functions that exist in NumPy that we use on pandas DataFrames. For us, the most important part about NumPy is that pandas is built on top of it. So, NumPy is a dependency of Pandas.\n",
    "\n",
    "NumPy arrays are unique in that they are more flexible than normal Python lists. They are called ndarrays since they can have any number (n) of dimensions (d). They hold a collection of items of any one data type and can be either a vector (one-dimensional) or a matrix (multi-dimensional). NumPy arrays allow for fast element access and efficient data manipulation.\n"
   ]
  },
  {
   "cell_type": "code",
   "execution_count": 2,
   "id": "f6a231c6",
   "metadata": {},
   "outputs": [],
   "source": [
    "import numpy as np"
   ]
  },
  {
   "cell_type": "code",
   "execution_count": 3,
   "id": "f370d788",
   "metadata": {},
   "outputs": [
    {
     "data": {
      "text/plain": [
       "array([[ 1,  2,  3,  4,  5],\n",
       "       [ 6,  7,  8,  9, 10],\n",
       "       [11, 12, 13, 14, 15]])"
      ]
     },
     "metadata": {},
     "output_type": "display_data"
    }
   ],
   "source": [
    "list_1 = [1, 2, 3, 4, 5]\n",
    "list_2 = [6, 7, 8, 9, 10]\n",
    "list_3 = [11, 12, 13, 14, 15]\n",
    "test_arr = np.array([list_1, list_2, list_3])\n",
    "\n",
    "display(test_arr)"
   ]
  },
  {
   "cell_type": "markdown",
   "id": "01d4be5d",
   "metadata": {},
   "source": [
    "\n",
    "## **Series**\n",
    "\n",
    "Just as the ndarray is the foundation of the NumPy library, the Series is the core object of the pandas library. A pandas Series is very similar to a one-dimensional NumPy array, but it has additional functionality that allows values in the Series to be indexed using labels. A NumPy array does not have the flexibility to do this. This labelling is useful when you are storing pieces of data that have other data associated with them.\n"
   ]
  },
  {
   "cell_type": "code",
   "execution_count": 4,
   "id": "f9c57f76",
   "metadata": {},
   "outputs": [
    {
     "data": {
      "application/vnd.microsoft.datawrangler.viewer.v0+json": {
       "columns": [
        {
         "name": "index",
         "rawType": "int64",
         "type": "integer"
        },
        {
         "name": "0",
         "rawType": "int64",
         "type": "integer"
        }
       ],
       "ref": "bafb032b-a196-4fad-bc5e-557dd444b841",
       "rows": [
        [
         "0",
         "6"
        ],
        [
         "1",
         "7"
        ],
        [
         "2",
         "8"
        ],
        [
         "3",
         "9"
        ],
        [
         "4",
         "10"
        ]
       ],
       "shape": {
        "columns": 1,
        "rows": 5
       }
      },
      "text/plain": [
       "0     6\n",
       "1     7\n",
       "2     8\n",
       "3     9\n",
       "4    10\n",
       "dtype: int64"
      ]
     },
     "execution_count": 4,
     "metadata": {},
     "output_type": "execute_result"
    }
   ],
   "source": [
    "test_series = pd.Series(list_2)\n",
    "test_series = pd.Series(test_arr[1])\n",
    "test_series"
   ]
  },
  {
   "cell_type": "markdown",
   "id": "8069c2f3",
   "metadata": {},
   "source": [
    "## **DataFrame**\n",
    "\n",
    "Another important type of object in the pandas library is the DataFrame. This object is similar in form to a matrix as it consists of rows and columns. Both rows and columns can be indexed with integers or String names. One DataFrame can contain many different types of data types, but within a column, everything has to be the same data type. A column of a DataFrame is essentially a Series. All columns must have the same number of elements (rows).\n",
    "\n",
    "The default row indices are 0,1,2..., but these can be changed. For example, they can be set to be the elements in one of the columns of the DataFrame.\n"
   ]
  },
  {
   "cell_type": "markdown",
   "id": "829a5717",
   "metadata": {},
   "source": [
    "### **Creation** \n",
    "\n",
    "You can think of a DataFrame as a spreadsheet or as a SQL table. You can manually create a DataFrame or fill it with data from a CSV, an Excel spreadsheet, or a SQL query. \n",
    "\n",
    "#### **Dictionary to DataFrame**\n",
    "\n",
    "You can pass in a dictionary to pd.DataFrame(). Each key is a column name and each value is a list of column values. The columns must all be the same length or you will get an error. "
   ]
  },
  {
   "cell_type": "code",
   "execution_count": 5,
   "id": "65abe8f8",
   "metadata": {},
   "outputs": [
    {
     "data": {
      "application/vnd.microsoft.datawrangler.viewer.v0+json": {
       "columns": [
        {
         "name": "index",
         "rawType": "int64",
         "type": "integer"
        },
        {
         "name": "Product ID",
         "rawType": "int64",
         "type": "integer"
        },
        {
         "name": "Product Name",
         "rawType": "object",
         "type": "string"
        },
        {
         "name": "Color",
         "rawType": "object",
         "type": "string"
        }
       ],
       "ref": "d243fd68-c4c0-4eb3-9aca-5ec3b3a2fc6b",
       "rows": [
        [
         "0",
         "1",
         "t-shirt",
         "blue"
        ],
        [
         "1",
         "2",
         "t-shirt",
         "green"
        ],
        [
         "2",
         "3",
         "skirt",
         "red"
        ],
        [
         "3",
         "4",
         "skirt",
         "black"
        ]
       ],
       "shape": {
        "columns": 3,
        "rows": 4
       }
      },
      "text/html": [
       "<div>\n",
       "<style scoped>\n",
       "    .dataframe tbody tr th:only-of-type {\n",
       "        vertical-align: middle;\n",
       "    }\n",
       "\n",
       "    .dataframe tbody tr th {\n",
       "        vertical-align: top;\n",
       "    }\n",
       "\n",
       "    .dataframe thead th {\n",
       "        text-align: right;\n",
       "    }\n",
       "</style>\n",
       "<table border=\"1\" class=\"dataframe\">\n",
       "  <thead>\n",
       "    <tr style=\"text-align: right;\">\n",
       "      <th></th>\n",
       "      <th>Product ID</th>\n",
       "      <th>Product Name</th>\n",
       "      <th>Color</th>\n",
       "    </tr>\n",
       "  </thead>\n",
       "  <tbody>\n",
       "    <tr>\n",
       "      <th>0</th>\n",
       "      <td>1</td>\n",
       "      <td>t-shirt</td>\n",
       "      <td>blue</td>\n",
       "    </tr>\n",
       "    <tr>\n",
       "      <th>1</th>\n",
       "      <td>2</td>\n",
       "      <td>t-shirt</td>\n",
       "      <td>green</td>\n",
       "    </tr>\n",
       "    <tr>\n",
       "      <th>2</th>\n",
       "      <td>3</td>\n",
       "      <td>skirt</td>\n",
       "      <td>red</td>\n",
       "    </tr>\n",
       "    <tr>\n",
       "      <th>3</th>\n",
       "      <td>4</td>\n",
       "      <td>skirt</td>\n",
       "      <td>black</td>\n",
       "    </tr>\n",
       "  </tbody>\n",
       "</table>\n",
       "</div>"
      ],
      "text/plain": [
       "   Product ID Product Name  Color\n",
       "0           1      t-shirt   blue\n",
       "1           2      t-shirt  green\n",
       "2           3        skirt    red\n",
       "3           4        skirt  black"
      ]
     },
     "execution_count": 5,
     "metadata": {},
     "output_type": "execute_result"
    }
   ],
   "source": [
    "dict_input = {\n",
    "    \"Product ID\": [1, 2, 3, 4],\n",
    "    \"Product Name\": [\"t-shirt\", \"t-shirt\", \"skirt\", \"skirt\"],\n",
    "    \"Color\": [\"blue\", \"green\", \"red\", \"black\"],\n",
    "}\n",
    "\n",
    "df1 = pd.DataFrame(dict_input)\n",
    "df1"
   ]
  },
  {
   "cell_type": "markdown",
   "id": "df876af0",
   "metadata": {},
   "source": [
    "#### **Lists to DataFrame**\n",
    "\n",
    "You can also add data using lists.\n",
    "\n",
    "For example, you can pass in a list of lists, where each one represents a row of data. Use the keyword argument columns to pass a list of column names."
   ]
  },
  {
   "cell_type": "code",
   "execution_count": 6,
   "id": "95c97e41",
   "metadata": {},
   "outputs": [
    {
     "data": {
      "application/vnd.microsoft.datawrangler.viewer.v0+json": {
       "columns": [
        {
         "name": "index",
         "rawType": "int64",
         "type": "integer"
        },
        {
         "name": "Store ID",
         "rawType": "int64",
         "type": "integer"
        },
        {
         "name": "Location",
         "rawType": "object",
         "type": "string"
        },
        {
         "name": "Number of Employees",
         "rawType": "int64",
         "type": "integer"
        }
       ],
       "ref": "54676653-dd8f-42f3-9a4f-3c3e98cd1a81",
       "rows": [
        [
         "0",
         "1",
         "San Diego",
         "100"
        ],
        [
         "1",
         "2",
         "Los Angeles",
         "120"
        ],
        [
         "2",
         "3",
         "San Francisco",
         "90"
        ],
        [
         "3",
         "4",
         "Sacramento",
         "115"
        ]
       ],
       "shape": {
        "columns": 3,
        "rows": 4
       }
      },
      "text/html": [
       "<div>\n",
       "<style scoped>\n",
       "    .dataframe tbody tr th:only-of-type {\n",
       "        vertical-align: middle;\n",
       "    }\n",
       "\n",
       "    .dataframe tbody tr th {\n",
       "        vertical-align: top;\n",
       "    }\n",
       "\n",
       "    .dataframe thead th {\n",
       "        text-align: right;\n",
       "    }\n",
       "</style>\n",
       "<table border=\"1\" class=\"dataframe\">\n",
       "  <thead>\n",
       "    <tr style=\"text-align: right;\">\n",
       "      <th></th>\n",
       "      <th>Store ID</th>\n",
       "      <th>Location</th>\n",
       "      <th>Number of Employees</th>\n",
       "    </tr>\n",
       "  </thead>\n",
       "  <tbody>\n",
       "    <tr>\n",
       "      <th>0</th>\n",
       "      <td>1</td>\n",
       "      <td>San Diego</td>\n",
       "      <td>100</td>\n",
       "    </tr>\n",
       "    <tr>\n",
       "      <th>1</th>\n",
       "      <td>2</td>\n",
       "      <td>Los Angeles</td>\n",
       "      <td>120</td>\n",
       "    </tr>\n",
       "    <tr>\n",
       "      <th>2</th>\n",
       "      <td>3</td>\n",
       "      <td>San Francisco</td>\n",
       "      <td>90</td>\n",
       "    </tr>\n",
       "    <tr>\n",
       "      <th>3</th>\n",
       "      <td>4</td>\n",
       "      <td>Sacramento</td>\n",
       "      <td>115</td>\n",
       "    </tr>\n",
       "  </tbody>\n",
       "</table>\n",
       "</div>"
      ],
      "text/plain": [
       "   Store ID       Location  Number of Employees\n",
       "0         1      San Diego                  100\n",
       "1         2    Los Angeles                  120\n",
       "2         3  San Francisco                   90\n",
       "3         4     Sacramento                  115"
      ]
     },
     "execution_count": 6,
     "metadata": {},
     "output_type": "execute_result"
    }
   ],
   "source": [
    "list_input = [\n",
    "    [1, \"San Diego\", 100],\n",
    "    [2, \"Los Angeles\", 120],\n",
    "    [3, \"San Francisco\", 90],\n",
    "    [4, \"Sacramento\", 115],\n",
    "]\n",
    "\n",
    "df2 = pd.DataFrame(list_input, columns=[\"Store ID\", \"Location\", \"Number of Employees\"])\n",
    "df2"
   ]
  },
  {
   "cell_type": "markdown",
   "id": "52da7d66",
   "metadata": {},
   "source": [
    "#### **External Data**\n",
    "\n",
    "When you have data in a CSV, you can load it into a DataFrame using `read_csv()`. We can also save data to a CSV, using `to_csv()`.\n"
   ]
  },
  {
   "cell_type": "code",
   "execution_count": 8,
   "id": "096f8b68",
   "metadata": {},
   "outputs": [
    {
     "ename": "ModuleNotFoundError",
     "evalue": "No module named 'src'",
     "output_type": "error",
     "traceback": [
      "\u001b[31m---------------------------------------------------------------------------\u001b[39m",
      "\u001b[31mModuleNotFoundError\u001b[39m                       Traceback (most recent call last)",
      "\u001b[36mCell\u001b[39m\u001b[36m \u001b[39m\u001b[32mIn[8]\u001b[39m\u001b[32m, line 3\u001b[39m\n\u001b[32m      1\u001b[39m \u001b[38;5;28;01mimport\u001b[39;00m\u001b[38;5;250m \u001b[39m\u001b[34;01mos\u001b[39;00m\n\u001b[32m----> \u001b[39m\u001b[32m3\u001b[39m \u001b[38;5;28;01mfrom\u001b[39;00m\u001b[38;5;250m \u001b[39m\u001b[34;01msrc\u001b[39;00m\u001b[34;01m.\u001b[39;00m\u001b[34;01mconfig\u001b[39;00m\u001b[38;5;250m \u001b[39m\u001b[38;5;28;01mimport\u001b[39;00m CREDIT_RISK_DATA_DIR\n\u001b[32m      5\u001b[39m os.chdir(CREDIT_RISK_DATA_DIR)\n",
      "\u001b[31mModuleNotFoundError\u001b[39m: No module named 'src'"
     ]
    }
   ],
   "source": [
    "import os\n",
    "\n",
    "from src.config import CREDIT_RISK_DATA_DIR\n",
    "\n",
    "os.chdir(CREDIT_RISK_DATA_DIR)"
   ]
  },
  {
   "cell_type": "code",
   "execution_count": 10,
   "id": "23ca7f87",
   "metadata": {},
   "outputs": [],
   "source": [
    "df = pd.read_csv(\"credit_risk_dataset.csv\")"
   ]
  },
  {
   "cell_type": "markdown",
   "id": "5b54874f",
   "metadata": {},
   "source": [
    "#### **Dealing with Multiple Files**\n",
    "\n",
    "Often, you have the same data separated out into multiple files.\n",
    "\n",
    "Let’s say that we have a ton of files following the filename structure: `'file1.csv'`, `'file2.csv'`, `'file3.csv'`, and so on. The power of pandas is mainly in being able to manipulate large amounts of structured data. We want to be able to get all of the relevant information into one table so that we can analyze the aggregate data.\n",
    "\n",
    "We can combine the use of `glob`, a Python library for working with files, with `pandas` to organize this data better. `glob` can open multiple files using shell-style wildcard matching to get the filenames:\n",
    "\n",
    "```python\n",
    "import glob\n",
    "import pandas as pd\n",
    "\n",
    "files = glob.glob(\"file*.csv\")\n",
    "\n",
    "df_list = []\n",
    "for filename in files:\n",
    "  data = pd.read_csv(filename)\n",
    "  df_list.append(data)\n",
    "\n",
    "df = pd.concat(df_list)\n",
    "\n",
    "print(files)\n",
    "```"
   ]
  },
  {
   "cell_type": "markdown",
   "id": "688a26ea",
   "metadata": {},
   "source": [
    "### **Displaying**"
   ]
  },
  {
   "cell_type": "markdown",
   "id": "d9d8c124",
   "metadata": {},
   "source": [
    "In Pandas when we perform data analysis, we need to look at the contents of the dataframe. `display()` and `print()` can be used to show the contents of a DataFrame, but they have different behaviors and purpose. For standard output we use `print` statement and for interactive output we use `display`.\n",
    "\n",
    "Print is the standard method used in Python to output anything on the console or the terminal. In general we display the output of the dataframe using print method. In Pandas, print basically generates the string version of the dataframe. However the main drawback of using print function is that the output gets truncated when the dataframe size is huge. In simple terms, it means that the middle most rows are eliminated for print so as to fit the whole dataset in the console.\n",
    "\n",
    "Display is a part of IPython library and another technique that is used to display the dataframes in an interactive and user friendly manner. It is particularly useful in Jupyter notebooks. This method basically renders HTML to display the dataframes in about visually enhanced format. Although for large datasets, it displays the first few rows of the dataset. But we can use set_option to display the rows in a scrollable manner."
   ]
  },
  {
   "cell_type": "code",
   "execution_count": 7,
   "id": "00c30f71",
   "metadata": {},
   "outputs": [
    {
     "data": {
      "application/vnd.microsoft.datawrangler.viewer.v0+json": {
       "columns": [
        {
         "name": "index",
         "rawType": "int64",
         "type": "integer"
        },
        {
         "name": "A",
         "rawType": "int64",
         "type": "integer"
        },
        {
         "name": "B",
         "rawType": "int64",
         "type": "integer"
        }
       ],
       "ref": "43737de2-799f-46a4-8ef9-d3ba751d9a2d",
       "rows": [
        [
         "0",
         "1",
         "3"
        ],
        [
         "1",
         "2",
         "4"
        ]
       ],
       "shape": {
        "columns": 2,
        "rows": 2
       }
      },
      "text/html": [
       "<div>\n",
       "<style scoped>\n",
       "    .dataframe tbody tr th:only-of-type {\n",
       "        vertical-align: middle;\n",
       "    }\n",
       "\n",
       "    .dataframe tbody tr th {\n",
       "        vertical-align: top;\n",
       "    }\n",
       "\n",
       "    .dataframe thead th {\n",
       "        text-align: right;\n",
       "    }\n",
       "</style>\n",
       "<table border=\"1\" class=\"dataframe\">\n",
       "  <thead>\n",
       "    <tr style=\"text-align: right;\">\n",
       "      <th></th>\n",
       "      <th>A</th>\n",
       "      <th>B</th>\n",
       "    </tr>\n",
       "  </thead>\n",
       "  <tbody>\n",
       "    <tr>\n",
       "      <th>0</th>\n",
       "      <td>1</td>\n",
       "      <td>3</td>\n",
       "    </tr>\n",
       "    <tr>\n",
       "      <th>1</th>\n",
       "      <td>2</td>\n",
       "      <td>4</td>\n",
       "    </tr>\n",
       "  </tbody>\n",
       "</table>\n",
       "</div>"
      ],
      "text/plain": [
       "   A  B\n",
       "0  1  3\n",
       "1  2  4"
      ]
     },
     "metadata": {},
     "output_type": "display_data"
    }
   ],
   "source": [
    "from IPython.display import display\n",
    "import pandas as pd\n",
    "\n",
    "df = pd.DataFrame({\"A\": [1, 2], \"B\": [3, 4]})\n",
    "df2 = pd.DataFrame({\"C\": [5, 6], \"D\": [7, 8]})\n",
    "display(df)  # Shows a nicely formatted HTML table in Colab"
   ]
  },
  {
   "cell_type": "markdown",
   "id": "ec6f7a35",
   "metadata": {},
   "source": [
    "Now in real world scenarios, we need to handle more than one dataframe. So in case of print function we have to write separate print statements for each dataframe. On the other hand, in display function we can pass multiple dataframes as parameters and display at one go."
   ]
  },
  {
   "cell_type": "code",
   "execution_count": 14,
   "id": "0fd0f3d3",
   "metadata": {},
   "outputs": [
    {
     "data": {
      "application/vnd.microsoft.datawrangler.viewer.v0+json": {
       "columns": [
        {
         "name": "index",
         "rawType": "int64",
         "type": "integer"
        },
        {
         "name": "A",
         "rawType": "int64",
         "type": "integer"
        },
        {
         "name": "B",
         "rawType": "int64",
         "type": "integer"
        }
       ],
       "ref": "a747e3c6-8299-47db-b159-c2b92001fe1c",
       "rows": [
        [
         "0",
         "1",
         "3"
        ],
        [
         "1",
         "2",
         "4"
        ]
       ],
       "shape": {
        "columns": 2,
        "rows": 2
       }
      },
      "text/html": [
       "<div>\n",
       "<style scoped>\n",
       "    .dataframe tbody tr th:only-of-type {\n",
       "        vertical-align: middle;\n",
       "    }\n",
       "\n",
       "    .dataframe tbody tr th {\n",
       "        vertical-align: top;\n",
       "    }\n",
       "\n",
       "    .dataframe thead th {\n",
       "        text-align: right;\n",
       "    }\n",
       "</style>\n",
       "<table border=\"1\" class=\"dataframe\">\n",
       "  <thead>\n",
       "    <tr style=\"text-align: right;\">\n",
       "      <th></th>\n",
       "      <th>A</th>\n",
       "      <th>B</th>\n",
       "    </tr>\n",
       "  </thead>\n",
       "  <tbody>\n",
       "    <tr>\n",
       "      <th>0</th>\n",
       "      <td>1</td>\n",
       "      <td>3</td>\n",
       "    </tr>\n",
       "    <tr>\n",
       "      <th>1</th>\n",
       "      <td>2</td>\n",
       "      <td>4</td>\n",
       "    </tr>\n",
       "  </tbody>\n",
       "</table>\n",
       "</div>"
      ],
      "text/plain": [
       "   A  B\n",
       "0  1  3\n",
       "1  2  4"
      ]
     },
     "metadata": {},
     "output_type": "display_data"
    },
    {
     "data": {
      "application/vnd.microsoft.datawrangler.viewer.v0+json": {
       "columns": [
        {
         "name": "index",
         "rawType": "int64",
         "type": "integer"
        },
        {
         "name": "X",
         "rawType": "int64",
         "type": "integer"
        },
        {
         "name": "Y",
         "rawType": "int64",
         "type": "integer"
        }
       ],
       "ref": "9693dd80-5b41-4fdd-ae5c-2ddcb9306dc6",
       "rows": [
        [
         "0",
         "5",
         "7"
        ],
        [
         "1",
         "6",
         "8"
        ]
       ],
       "shape": {
        "columns": 2,
        "rows": 2
       }
      },
      "text/html": [
       "<div>\n",
       "<style scoped>\n",
       "    .dataframe tbody tr th:only-of-type {\n",
       "        vertical-align: middle;\n",
       "    }\n",
       "\n",
       "    .dataframe tbody tr th {\n",
       "        vertical-align: top;\n",
       "    }\n",
       "\n",
       "    .dataframe thead th {\n",
       "        text-align: right;\n",
       "    }\n",
       "</style>\n",
       "<table border=\"1\" class=\"dataframe\">\n",
       "  <thead>\n",
       "    <tr style=\"text-align: right;\">\n",
       "      <th></th>\n",
       "      <th>X</th>\n",
       "      <th>Y</th>\n",
       "    </tr>\n",
       "  </thead>\n",
       "  <tbody>\n",
       "    <tr>\n",
       "      <th>0</th>\n",
       "      <td>5</td>\n",
       "      <td>7</td>\n",
       "    </tr>\n",
       "    <tr>\n",
       "      <th>1</th>\n",
       "      <td>6</td>\n",
       "      <td>8</td>\n",
       "    </tr>\n",
       "  </tbody>\n",
       "</table>\n",
       "</div>"
      ],
      "text/plain": [
       "   X  Y\n",
       "0  5  7\n",
       "1  6  8"
      ]
     },
     "metadata": {},
     "output_type": "display_data"
    },
    {
     "data": {
      "application/vnd.microsoft.datawrangler.viewer.v0+json": {
       "columns": [
        {
         "name": "index",
         "rawType": "int64",
         "type": "integer"
        },
        {
         "name": "A",
         "rawType": "int64",
         "type": "integer"
        },
        {
         "name": "B",
         "rawType": "int64",
         "type": "integer"
        },
        {
         "name": "C",
         "rawType": "int64",
         "type": "integer"
        }
       ],
       "ref": "8de462c8-4bde-4264-8519-b3a9238925ff",
       "rows": [
        [
         "0",
         "1",
         "4",
         "7"
        ],
        [
         "1",
         "2",
         "5",
         "8"
        ],
        [
         "2",
         "3",
         "6",
         "9"
        ]
       ],
       "shape": {
        "columns": 3,
        "rows": 3
       }
      },
      "text/html": [
       "<div>\n",
       "<style scoped>\n",
       "    .dataframe tbody tr th:only-of-type {\n",
       "        vertical-align: middle;\n",
       "    }\n",
       "\n",
       "    .dataframe tbody tr th {\n",
       "        vertical-align: top;\n",
       "    }\n",
       "\n",
       "    .dataframe thead th {\n",
       "        text-align: right;\n",
       "    }\n",
       "</style>\n",
       "<table border=\"1\" class=\"dataframe\">\n",
       "  <thead>\n",
       "    <tr style=\"text-align: right;\">\n",
       "      <th></th>\n",
       "      <th>A</th>\n",
       "      <th>B</th>\n",
       "      <th>C</th>\n",
       "    </tr>\n",
       "  </thead>\n",
       "  <tbody>\n",
       "    <tr>\n",
       "      <th>0</th>\n",
       "      <td>1</td>\n",
       "      <td>4</td>\n",
       "      <td>7</td>\n",
       "    </tr>\n",
       "    <tr>\n",
       "      <th>1</th>\n",
       "      <td>2</td>\n",
       "      <td>5</td>\n",
       "      <td>8</td>\n",
       "    </tr>\n",
       "    <tr>\n",
       "      <th>2</th>\n",
       "      <td>3</td>\n",
       "      <td>6</td>\n",
       "      <td>9</td>\n",
       "    </tr>\n",
       "  </tbody>\n",
       "</table>\n",
       "</div>"
      ],
      "text/plain": [
       "   A  B  C\n",
       "0  1  4  7\n",
       "1  2  5  8\n",
       "2  3  6  9"
      ]
     },
     "metadata": {},
     "output_type": "display_data"
    },
    {
     "name": "stdout",
     "output_type": "stream",
     "text": [
      "   A  B\n",
      "0  1  3\n",
      "1  2  4\n",
      "   X  Y\n",
      "0  5  7\n",
      "1  6  8\n",
      "   A  B  C\n",
      "0  1  4  7\n",
      "1  2  5  8\n",
      "2  3  6  9\n"
     ]
    }
   ],
   "source": [
    "from IPython.display import display\n",
    "import pandas as pd\n",
    "\n",
    "df1 = pd.DataFrame({\"A\": [1, 2], \"B\": [3, 4]})\n",
    "df2 = pd.DataFrame({\"X\": [5, 6], \"Y\": [7, 8]})\n",
    "df3 = pd.DataFrame({\"A\": [1, 2, 3], \"B\": [4, 5, 6], \"C\": [7, 8, 9]})\n",
    "\n",
    "display(df1, df2, df3)\n",
    "\n",
    "print(df1)\n",
    "print(df2)\n",
    "print(df3)"
   ]
  },
  {
   "cell_type": "markdown",
   "id": "4e6bd7bb",
   "metadata": {},
   "source": [
    "\n",
    "### **Inspection**\n",
    "\n",
    "The method `head()` gives the first 5 rows of a DataFrame. If you want to see more rows, you can pass in the positional argument `n`. For example, `df.head(10)` would show the first 10 rows. The method `info()` gives some statistics for each column.\n",
    "\n"
   ]
  },
  {
   "cell_type": "code",
   "execution_count": 11,
   "id": "f7406f32",
   "metadata": {},
   "outputs": [
    {
     "data": {
      "application/vnd.microsoft.datawrangler.viewer.v0+json": {
       "columns": [
        {
         "name": "index",
         "rawType": "int64",
         "type": "integer"
        },
        {
         "name": "person_age",
         "rawType": "int64",
         "type": "integer"
        },
        {
         "name": "person_income",
         "rawType": "int64",
         "type": "integer"
        },
        {
         "name": "person_home_ownership",
         "rawType": "object",
         "type": "string"
        },
        {
         "name": "person_emp_length",
         "rawType": "float64",
         "type": "float"
        },
        {
         "name": "loan_intent",
         "rawType": "object",
         "type": "string"
        },
        {
         "name": "loan_grade",
         "rawType": "object",
         "type": "string"
        },
        {
         "name": "loan_amnt",
         "rawType": "int64",
         "type": "integer"
        },
        {
         "name": "loan_int_rate",
         "rawType": "float64",
         "type": "float"
        },
        {
         "name": "loan_status",
         "rawType": "int64",
         "type": "integer"
        },
        {
         "name": "loan_percent_income",
         "rawType": "float64",
         "type": "float"
        },
        {
         "name": "cb_person_default_on_file",
         "rawType": "object",
         "type": "string"
        },
        {
         "name": "cb_person_cred_hist_length",
         "rawType": "int64",
         "type": "integer"
        }
       ],
       "ref": "e55fe9eb-c0a0-4179-bb2f-77e5b5278d9c",
       "rows": [
        [
         "0",
         "22",
         "59000",
         "RENT",
         "123.0",
         "PERSONAL",
         "D",
         "35000",
         "16.02",
         "1",
         "0.59",
         "Y",
         "3"
        ],
        [
         "1",
         "21",
         "9600",
         "OWN",
         "5.0",
         "EDUCATION",
         "B",
         "1000",
         "11.14",
         "0",
         "0.1",
         "N",
         "2"
        ],
        [
         "2",
         "25",
         "9600",
         "MORTGAGE",
         "1.0",
         "MEDICAL",
         "C",
         "5500",
         "12.87",
         "1",
         "0.57",
         "N",
         "3"
        ],
        [
         "3",
         "23",
         "65500",
         "RENT",
         "4.0",
         "MEDICAL",
         "C",
         "35000",
         "15.23",
         "1",
         "0.53",
         "N",
         "2"
        ],
        [
         "4",
         "24",
         "54400",
         "RENT",
         "8.0",
         "MEDICAL",
         "C",
         "35000",
         "14.27",
         "1",
         "0.55",
         "Y",
         "4"
        ]
       ],
       "shape": {
        "columns": 12,
        "rows": 5
       }
      },
      "text/html": [
       "<div>\n",
       "<style scoped>\n",
       "    .dataframe tbody tr th:only-of-type {\n",
       "        vertical-align: middle;\n",
       "    }\n",
       "\n",
       "    .dataframe tbody tr th {\n",
       "        vertical-align: top;\n",
       "    }\n",
       "\n",
       "    .dataframe thead th {\n",
       "        text-align: right;\n",
       "    }\n",
       "</style>\n",
       "<table border=\"1\" class=\"dataframe\">\n",
       "  <thead>\n",
       "    <tr style=\"text-align: right;\">\n",
       "      <th></th>\n",
       "      <th>person_age</th>\n",
       "      <th>person_income</th>\n",
       "      <th>person_home_ownership</th>\n",
       "      <th>person_emp_length</th>\n",
       "      <th>loan_intent</th>\n",
       "      <th>loan_grade</th>\n",
       "      <th>loan_amnt</th>\n",
       "      <th>loan_int_rate</th>\n",
       "      <th>loan_status</th>\n",
       "      <th>loan_percent_income</th>\n",
       "      <th>cb_person_default_on_file</th>\n",
       "      <th>cb_person_cred_hist_length</th>\n",
       "    </tr>\n",
       "  </thead>\n",
       "  <tbody>\n",
       "    <tr>\n",
       "      <th>0</th>\n",
       "      <td>22</td>\n",
       "      <td>59000</td>\n",
       "      <td>RENT</td>\n",
       "      <td>123.0</td>\n",
       "      <td>PERSONAL</td>\n",
       "      <td>D</td>\n",
       "      <td>35000</td>\n",
       "      <td>16.02</td>\n",
       "      <td>1</td>\n",
       "      <td>0.59</td>\n",
       "      <td>Y</td>\n",
       "      <td>3</td>\n",
       "    </tr>\n",
       "    <tr>\n",
       "      <th>1</th>\n",
       "      <td>21</td>\n",
       "      <td>9600</td>\n",
       "      <td>OWN</td>\n",
       "      <td>5.0</td>\n",
       "      <td>EDUCATION</td>\n",
       "      <td>B</td>\n",
       "      <td>1000</td>\n",
       "      <td>11.14</td>\n",
       "      <td>0</td>\n",
       "      <td>0.10</td>\n",
       "      <td>N</td>\n",
       "      <td>2</td>\n",
       "    </tr>\n",
       "    <tr>\n",
       "      <th>2</th>\n",
       "      <td>25</td>\n",
       "      <td>9600</td>\n",
       "      <td>MORTGAGE</td>\n",
       "      <td>1.0</td>\n",
       "      <td>MEDICAL</td>\n",
       "      <td>C</td>\n",
       "      <td>5500</td>\n",
       "      <td>12.87</td>\n",
       "      <td>1</td>\n",
       "      <td>0.57</td>\n",
       "      <td>N</td>\n",
       "      <td>3</td>\n",
       "    </tr>\n",
       "    <tr>\n",
       "      <th>3</th>\n",
       "      <td>23</td>\n",
       "      <td>65500</td>\n",
       "      <td>RENT</td>\n",
       "      <td>4.0</td>\n",
       "      <td>MEDICAL</td>\n",
       "      <td>C</td>\n",
       "      <td>35000</td>\n",
       "      <td>15.23</td>\n",
       "      <td>1</td>\n",
       "      <td>0.53</td>\n",
       "      <td>N</td>\n",
       "      <td>2</td>\n",
       "    </tr>\n",
       "    <tr>\n",
       "      <th>4</th>\n",
       "      <td>24</td>\n",
       "      <td>54400</td>\n",
       "      <td>RENT</td>\n",
       "      <td>8.0</td>\n",
       "      <td>MEDICAL</td>\n",
       "      <td>C</td>\n",
       "      <td>35000</td>\n",
       "      <td>14.27</td>\n",
       "      <td>1</td>\n",
       "      <td>0.55</td>\n",
       "      <td>Y</td>\n",
       "      <td>4</td>\n",
       "    </tr>\n",
       "  </tbody>\n",
       "</table>\n",
       "</div>"
      ],
      "text/plain": [
       "   person_age  person_income person_home_ownership  person_emp_length  \\\n",
       "0          22          59000                  RENT              123.0   \n",
       "1          21           9600                   OWN                5.0   \n",
       "2          25           9600              MORTGAGE                1.0   \n",
       "3          23          65500                  RENT                4.0   \n",
       "4          24          54400                  RENT                8.0   \n",
       "\n",
       "  loan_intent loan_grade  loan_amnt  loan_int_rate  loan_status  \\\n",
       "0    PERSONAL          D      35000          16.02            1   \n",
       "1   EDUCATION          B       1000          11.14            0   \n",
       "2     MEDICAL          C       5500          12.87            1   \n",
       "3     MEDICAL          C      35000          15.23            1   \n",
       "4     MEDICAL          C      35000          14.27            1   \n",
       "\n",
       "   loan_percent_income cb_person_default_on_file  cb_person_cred_hist_length  \n",
       "0                 0.59                         Y                           3  \n",
       "1                 0.10                         N                           2  \n",
       "2                 0.57                         N                           3  \n",
       "3                 0.53                         N                           2  \n",
       "4                 0.55                         Y                           4  "
      ]
     },
     "execution_count": 11,
     "metadata": {},
     "output_type": "execute_result"
    }
   ],
   "source": [
    "df.head()"
   ]
  },
  {
   "cell_type": "code",
   "execution_count": 12,
   "id": "1c04fcaf",
   "metadata": {},
   "outputs": [
    {
     "name": "stdout",
     "output_type": "stream",
     "text": [
      "<class 'pandas.core.frame.DataFrame'>\n",
      "RangeIndex: 32581 entries, 0 to 32580\n",
      "Data columns (total 12 columns):\n",
      " #   Column                      Non-Null Count  Dtype  \n",
      "---  ------                      --------------  -----  \n",
      " 0   person_age                  32581 non-null  int64  \n",
      " 1   person_income               32581 non-null  int64  \n",
      " 2   person_home_ownership       32581 non-null  object \n",
      " 3   person_emp_length           31686 non-null  float64\n",
      " 4   loan_intent                 32581 non-null  object \n",
      " 5   loan_grade                  32581 non-null  object \n",
      " 6   loan_amnt                   32581 non-null  int64  \n",
      " 7   loan_int_rate               29465 non-null  float64\n",
      " 8   loan_status                 32581 non-null  int64  \n",
      " 9   loan_percent_income         32581 non-null  float64\n",
      " 10  cb_person_default_on_file   32581 non-null  object \n",
      " 11  cb_person_cred_hist_length  32581 non-null  int64  \n",
      "dtypes: float64(3), int64(5), object(4)\n",
      "memory usage: 3.0+ MB\n"
     ]
    }
   ],
   "source": [
    "df.info()"
   ]
  },
  {
   "cell_type": "code",
   "execution_count": 17,
   "id": "92b92efd",
   "metadata": {},
   "outputs": [
    {
     "data": {
      "text/plain": [
       "Index(['person_age', 'person_income', 'person_home_ownership',\n",
       "       'person_emp_length', 'loan_intent', 'loan_grade', 'loan_amnt',\n",
       "       'loan_int_rate', 'loan_status', 'loan_percent_income',\n",
       "       'cb_person_default_on_file', 'cb_person_cred_hist_length'],\n",
       "      dtype='object')"
      ]
     },
     "execution_count": 17,
     "metadata": {},
     "output_type": "execute_result"
    }
   ],
   "source": [
    "df.columns"
   ]
  },
  {
   "cell_type": "code",
   "execution_count": 14,
   "id": "fa90b5f2",
   "metadata": {},
   "outputs": [
    {
     "data": {
      "application/vnd.microsoft.datawrangler.viewer.v0+json": {
       "columns": [
        {
         "name": "index",
         "rawType": "object",
         "type": "string"
        },
        {
         "name": "0",
         "rawType": "object",
         "type": "unknown"
        }
       ],
       "ref": "5e286f17-e9cc-46d3-8a01-e7ebd84097e9",
       "rows": [
        [
         "person_age",
         "int64"
        ],
        [
         "person_income",
         "int64"
        ],
        [
         "person_home_ownership",
         "object"
        ],
        [
         "person_emp_length",
         "float64"
        ],
        [
         "loan_intent",
         "object"
        ],
        [
         "loan_grade",
         "object"
        ],
        [
         "loan_amnt",
         "int64"
        ],
        [
         "loan_int_rate",
         "float64"
        ],
        [
         "loan_status",
         "int64"
        ],
        [
         "loan_percent_income",
         "float64"
        ],
        [
         "cb_person_default_on_file",
         "object"
        ],
        [
         "cb_person_cred_hist_length",
         "int64"
        ]
       ],
       "shape": {
        "columns": 1,
        "rows": 12
       }
      },
      "text/plain": [
       "person_age                      int64\n",
       "person_income                   int64\n",
       "person_home_ownership          object\n",
       "person_emp_length             float64\n",
       "loan_intent                    object\n",
       "loan_grade                     object\n",
       "loan_amnt                       int64\n",
       "loan_int_rate                 float64\n",
       "loan_status                     int64\n",
       "loan_percent_income           float64\n",
       "cb_person_default_on_file      object\n",
       "cb_person_cred_hist_length      int64\n",
       "dtype: object"
      ]
     },
     "execution_count": 14,
     "metadata": {},
     "output_type": "execute_result"
    }
   ],
   "source": [
    "df.dtypes"
   ]
  },
  {
   "cell_type": "code",
   "execution_count": 16,
   "id": "c71c8cfe",
   "metadata": {},
   "outputs": [
    {
     "data": {
      "text/plain": [
       "(32581, 12)"
      ]
     },
     "execution_count": 16,
     "metadata": {},
     "output_type": "execute_result"
    }
   ],
   "source": [
    "df.shape"
   ]
  },
  {
   "cell_type": "markdown",
   "id": "e93889ed",
   "metadata": {},
   "source": [
    "The `size` attribute in a pandas DataFrame returns the total number of elements in the DataFrame. This is equivalent to the number of rows multiplied by the number of columns."
   ]
  },
  {
   "cell_type": "code",
   "execution_count": 15,
   "id": "8507e55b",
   "metadata": {},
   "outputs": [
    {
     "data": {
      "text/plain": [
       "390972"
      ]
     },
     "execution_count": 15,
     "metadata": {},
     "output_type": "execute_result"
    }
   ],
   "source": [
    "df.size"
   ]
  },
  {
   "cell_type": "markdown",
   "id": "6590f12f",
   "metadata": {},
   "source": [
    "### **Manipulation**"
   ]
  },
  {
   "cell_type": "markdown",
   "id": "b1a41419",
   "metadata": {},
   "source": [
    "#### **Selecting Columns**\n",
    "\n",
    "There are two possible syntaxes for selecting all values from a column:\n",
    "\n",
    "1. Select the column as if you were selecting a value from a dictionary using a key. In our example, we would type `customers['age']` to select the ages.\n",
    "2. If the name of a column follows all of the rules for a variable name (doesn’t start with a number, doesn’t contain spaces or special characters, etc.), then you can select it using the following notation `customers.age`."
   ]
  },
  {
   "cell_type": "code",
   "execution_count": 18,
   "id": "498d0cbe",
   "metadata": {},
   "outputs": [
    {
     "data": {
      "application/vnd.microsoft.datawrangler.viewer.v0+json": {
       "columns": [
        {
         "name": "index",
         "rawType": "int64",
         "type": "integer"
        },
        {
         "name": "person_age",
         "rawType": "int64",
         "type": "integer"
        }
       ],
       "ref": "da2a8eb7-a0ba-4e30-a4dc-eb2abf3f6aaf",
       "rows": [
        [
         "0",
         "22"
        ],
        [
         "1",
         "21"
        ],
        [
         "2",
         "25"
        ],
        [
         "3",
         "23"
        ],
        [
         "4",
         "24"
        ],
        [
         "5",
         "21"
        ],
        [
         "6",
         "26"
        ],
        [
         "7",
         "24"
        ],
        [
         "8",
         "24"
        ],
        [
         "9",
         "21"
        ],
        [
         "10",
         "22"
        ],
        [
         "11",
         "21"
        ],
        [
         "12",
         "23"
        ],
        [
         "13",
         "26"
        ],
        [
         "14",
         "23"
        ],
        [
         "15",
         "23"
        ],
        [
         "16",
         "23"
        ],
        [
         "17",
         "23"
        ],
        [
         "18",
         "23"
        ],
        [
         "19",
         "24"
        ],
        [
         "20",
         "25"
        ],
        [
         "21",
         "25"
        ],
        [
         "22",
         "22"
        ],
        [
         "23",
         "24"
        ],
        [
         "24",
         "22"
        ],
        [
         "25",
         "24"
        ],
        [
         "26",
         "21"
        ],
        [
         "27",
         "23"
        ],
        [
         "28",
         "24"
        ],
        [
         "29",
         "21"
        ],
        [
         "30",
         "21"
        ],
        [
         "31",
         "25"
        ],
        [
         "32",
         "26"
        ],
        [
         "33",
         "25"
        ],
        [
         "34",
         "26"
        ],
        [
         "35",
         "21"
        ],
        [
         "36",
         "22"
        ],
        [
         "37",
         "24"
        ],
        [
         "38",
         "25"
        ],
        [
         "39",
         "23"
        ],
        [
         "40",
         "26"
        ],
        [
         "41",
         "24"
        ],
        [
         "42",
         "26"
        ],
        [
         "43",
         "23"
        ],
        [
         "44",
         "26"
        ],
        [
         "45",
         "26"
        ],
        [
         "46",
         "25"
        ],
        [
         "47",
         "26"
        ],
        [
         "48",
         "22"
        ],
        [
         "49",
         "26"
        ]
       ],
       "shape": {
        "columns": 1,
        "rows": 32581
       }
      },
      "text/plain": [
       "0        22\n",
       "1        21\n",
       "2        25\n",
       "3        23\n",
       "4        24\n",
       "         ..\n",
       "32576    57\n",
       "32577    54\n",
       "32578    65\n",
       "32579    56\n",
       "32580    66\n",
       "Name: person_age, Length: 32581, dtype: int64"
      ]
     },
     "execution_count": 18,
     "metadata": {},
     "output_type": "execute_result"
    }
   ],
   "source": [
    "df.person_age"
   ]
  },
  {
   "cell_type": "markdown",
   "id": "33cb7e61",
   "metadata": {},
   "source": [
    "To select two or more columns from a DataFrame, we use a list of the column names. Make sure that you have a double set of brackets `[[]]`, or this command won’t work!"
   ]
  },
  {
   "cell_type": "code",
   "execution_count": 19,
   "id": "7601356b",
   "metadata": {},
   "outputs": [
    {
     "data": {
      "application/vnd.microsoft.datawrangler.viewer.v0+json": {
       "columns": [
        {
         "name": "index",
         "rawType": "int64",
         "type": "integer"
        },
        {
         "name": "person_age",
         "rawType": "int64",
         "type": "integer"
        },
        {
         "name": "loan_grade",
         "rawType": "object",
         "type": "string"
        }
       ],
       "ref": "91dc54e5-33fd-4a3c-82d0-d9fa75da3b94",
       "rows": [
        [
         "0",
         "22",
         "D"
        ],
        [
         "1",
         "21",
         "B"
        ],
        [
         "2",
         "25",
         "C"
        ],
        [
         "3",
         "23",
         "C"
        ],
        [
         "4",
         "24",
         "C"
        ]
       ],
       "shape": {
        "columns": 2,
        "rows": 5
       }
      },
      "text/html": [
       "<div>\n",
       "<style scoped>\n",
       "    .dataframe tbody tr th:only-of-type {\n",
       "        vertical-align: middle;\n",
       "    }\n",
       "\n",
       "    .dataframe tbody tr th {\n",
       "        vertical-align: top;\n",
       "    }\n",
       "\n",
       "    .dataframe thead th {\n",
       "        text-align: right;\n",
       "    }\n",
       "</style>\n",
       "<table border=\"1\" class=\"dataframe\">\n",
       "  <thead>\n",
       "    <tr style=\"text-align: right;\">\n",
       "      <th></th>\n",
       "      <th>person_age</th>\n",
       "      <th>loan_grade</th>\n",
       "    </tr>\n",
       "  </thead>\n",
       "  <tbody>\n",
       "    <tr>\n",
       "      <th>0</th>\n",
       "      <td>22</td>\n",
       "      <td>D</td>\n",
       "    </tr>\n",
       "    <tr>\n",
       "      <th>1</th>\n",
       "      <td>21</td>\n",
       "      <td>B</td>\n",
       "    </tr>\n",
       "    <tr>\n",
       "      <th>2</th>\n",
       "      <td>25</td>\n",
       "      <td>C</td>\n",
       "    </tr>\n",
       "    <tr>\n",
       "      <th>3</th>\n",
       "      <td>23</td>\n",
       "      <td>C</td>\n",
       "    </tr>\n",
       "    <tr>\n",
       "      <th>4</th>\n",
       "      <td>24</td>\n",
       "      <td>C</td>\n",
       "    </tr>\n",
       "  </tbody>\n",
       "</table>\n",
       "</div>"
      ],
      "text/plain": [
       "   person_age loan_grade\n",
       "0          22          D\n",
       "1          21          B\n",
       "2          25          C\n",
       "3          23          C\n",
       "4          24          C"
      ]
     },
     "execution_count": 19,
     "metadata": {},
     "output_type": "execute_result"
    }
   ],
   "source": [
    "subset = df[[\"person_age\", \"loan_grade\"]]\n",
    "subset.head()"
   ]
  },
  {
   "cell_type": "markdown",
   "id": "fdd2339a",
   "metadata": {},
   "source": [
    "#### **Selecting Rows**\n",
    "\n",
    "DataFrames are zero-indexed, meaning that we start with the 0th row and count up from there. When we select a single row, the result is a Series (just like when we select a single column)."
   ]
  },
  {
   "cell_type": "code",
   "execution_count": 20,
   "id": "8d1dd1d5",
   "metadata": {},
   "outputs": [
    {
     "data": {
      "application/vnd.microsoft.datawrangler.viewer.v0+json": {
       "columns": [
        {
         "name": "index",
         "rawType": "object",
         "type": "string"
        },
        {
         "name": "2",
         "rawType": "object",
         "type": "unknown"
        }
       ],
       "ref": "0222fa36-93c0-4d29-9801-2fb1af63b485",
       "rows": [
        [
         "person_age",
         "25"
        ],
        [
         "person_income",
         "9600"
        ],
        [
         "person_home_ownership",
         "MORTGAGE"
        ],
        [
         "person_emp_length",
         "1.0"
        ],
        [
         "loan_intent",
         "MEDICAL"
        ],
        [
         "loan_grade",
         "C"
        ],
        [
         "loan_amnt",
         "5500"
        ],
        [
         "loan_int_rate",
         "12.87"
        ],
        [
         "loan_status",
         "1"
        ],
        [
         "loan_percent_income",
         "0.57"
        ],
        [
         "cb_person_default_on_file",
         "N"
        ],
        [
         "cb_person_cred_hist_length",
         "3"
        ]
       ],
       "shape": {
        "columns": 1,
        "rows": 12
       }
      },
      "text/plain": [
       "person_age                          25\n",
       "person_income                     9600\n",
       "person_home_ownership         MORTGAGE\n",
       "person_emp_length                  1.0\n",
       "loan_intent                    MEDICAL\n",
       "loan_grade                           C\n",
       "loan_amnt                         5500\n",
       "loan_int_rate                    12.87\n",
       "loan_status                          1\n",
       "loan_percent_income               0.57\n",
       "cb_person_default_on_file            N\n",
       "cb_person_cred_hist_length           3\n",
       "Name: 2, dtype: object"
      ]
     },
     "execution_count": 20,
     "metadata": {},
     "output_type": "execute_result"
    }
   ],
   "source": [
    "df.iloc[2]"
   ]
  },
  {
   "cell_type": "markdown",
   "id": "ce75b97c",
   "metadata": {},
   "source": [
    "Here are some different ways of selecting multiple rows:\n",
    "\n",
    "- `orders.iloc[3:7]` would select all rows starting at the 3rd row and up to but not including the 7th row (i.e., the 3rd row, 4th row, 5th row, and 6th row)\n",
    "- `orders.iloc[:4]` would select all rows up to, but not including the 4th row (i.e., the 0th, 1st, 2nd, and 3rd rows)\n",
    "- `orders.iloc[-3:]` would select the rows starting at the 3rd to last row and up to and including the final row\n"
   ]
  },
  {
   "cell_type": "code",
   "execution_count": 21,
   "id": "26282307",
   "metadata": {},
   "outputs": [
    {
     "data": {
      "application/vnd.microsoft.datawrangler.viewer.v0+json": {
       "columns": [
        {
         "name": "index",
         "rawType": "int64",
         "type": "integer"
        },
        {
         "name": "person_age",
         "rawType": "int64",
         "type": "integer"
        },
        {
         "name": "person_income",
         "rawType": "int64",
         "type": "integer"
        },
        {
         "name": "person_home_ownership",
         "rawType": "object",
         "type": "string"
        },
        {
         "name": "person_emp_length",
         "rawType": "float64",
         "type": "float"
        },
        {
         "name": "loan_intent",
         "rawType": "object",
         "type": "string"
        },
        {
         "name": "loan_grade",
         "rawType": "object",
         "type": "string"
        },
        {
         "name": "loan_amnt",
         "rawType": "int64",
         "type": "integer"
        },
        {
         "name": "loan_int_rate",
         "rawType": "float64",
         "type": "float"
        },
        {
         "name": "loan_status",
         "rawType": "int64",
         "type": "integer"
        },
        {
         "name": "loan_percent_income",
         "rawType": "float64",
         "type": "float"
        },
        {
         "name": "cb_person_default_on_file",
         "rawType": "object",
         "type": "string"
        },
        {
         "name": "cb_person_cred_hist_length",
         "rawType": "int64",
         "type": "integer"
        }
       ],
       "ref": "c12c44bf-5af0-435b-a2bd-dfcdd30a8261",
       "rows": [
        [
         "2",
         "25",
         "9600",
         "MORTGAGE",
         "1.0",
         "MEDICAL",
         "C",
         "5500",
         "12.87",
         "1",
         "0.57",
         "N",
         "3"
        ],
        [
         "3",
         "23",
         "65500",
         "RENT",
         "4.0",
         "MEDICAL",
         "C",
         "35000",
         "15.23",
         "1",
         "0.53",
         "N",
         "2"
        ],
        [
         "4",
         "24",
         "54400",
         "RENT",
         "8.0",
         "MEDICAL",
         "C",
         "35000",
         "14.27",
         "1",
         "0.55",
         "Y",
         "4"
        ]
       ],
       "shape": {
        "columns": 12,
        "rows": 3
       }
      },
      "text/html": [
       "<div>\n",
       "<style scoped>\n",
       "    .dataframe tbody tr th:only-of-type {\n",
       "        vertical-align: middle;\n",
       "    }\n",
       "\n",
       "    .dataframe tbody tr th {\n",
       "        vertical-align: top;\n",
       "    }\n",
       "\n",
       "    .dataframe thead th {\n",
       "        text-align: right;\n",
       "    }\n",
       "</style>\n",
       "<table border=\"1\" class=\"dataframe\">\n",
       "  <thead>\n",
       "    <tr style=\"text-align: right;\">\n",
       "      <th></th>\n",
       "      <th>person_age</th>\n",
       "      <th>person_income</th>\n",
       "      <th>person_home_ownership</th>\n",
       "      <th>person_emp_length</th>\n",
       "      <th>loan_intent</th>\n",
       "      <th>loan_grade</th>\n",
       "      <th>loan_amnt</th>\n",
       "      <th>loan_int_rate</th>\n",
       "      <th>loan_status</th>\n",
       "      <th>loan_percent_income</th>\n",
       "      <th>cb_person_default_on_file</th>\n",
       "      <th>cb_person_cred_hist_length</th>\n",
       "    </tr>\n",
       "  </thead>\n",
       "  <tbody>\n",
       "    <tr>\n",
       "      <th>2</th>\n",
       "      <td>25</td>\n",
       "      <td>9600</td>\n",
       "      <td>MORTGAGE</td>\n",
       "      <td>1.0</td>\n",
       "      <td>MEDICAL</td>\n",
       "      <td>C</td>\n",
       "      <td>5500</td>\n",
       "      <td>12.87</td>\n",
       "      <td>1</td>\n",
       "      <td>0.57</td>\n",
       "      <td>N</td>\n",
       "      <td>3</td>\n",
       "    </tr>\n",
       "    <tr>\n",
       "      <th>3</th>\n",
       "      <td>23</td>\n",
       "      <td>65500</td>\n",
       "      <td>RENT</td>\n",
       "      <td>4.0</td>\n",
       "      <td>MEDICAL</td>\n",
       "      <td>C</td>\n",
       "      <td>35000</td>\n",
       "      <td>15.23</td>\n",
       "      <td>1</td>\n",
       "      <td>0.53</td>\n",
       "      <td>N</td>\n",
       "      <td>2</td>\n",
       "    </tr>\n",
       "    <tr>\n",
       "      <th>4</th>\n",
       "      <td>24</td>\n",
       "      <td>54400</td>\n",
       "      <td>RENT</td>\n",
       "      <td>8.0</td>\n",
       "      <td>MEDICAL</td>\n",
       "      <td>C</td>\n",
       "      <td>35000</td>\n",
       "      <td>14.27</td>\n",
       "      <td>1</td>\n",
       "      <td>0.55</td>\n",
       "      <td>Y</td>\n",
       "      <td>4</td>\n",
       "    </tr>\n",
       "  </tbody>\n",
       "</table>\n",
       "</div>"
      ],
      "text/plain": [
       "   person_age  person_income person_home_ownership  person_emp_length  \\\n",
       "2          25           9600              MORTGAGE                1.0   \n",
       "3          23          65500                  RENT                4.0   \n",
       "4          24          54400                  RENT                8.0   \n",
       "\n",
       "  loan_intent loan_grade  loan_amnt  loan_int_rate  loan_status  \\\n",
       "2     MEDICAL          C       5500          12.87            1   \n",
       "3     MEDICAL          C      35000          15.23            1   \n",
       "4     MEDICAL          C      35000          14.27            1   \n",
       "\n",
       "   loan_percent_income cb_person_default_on_file  cb_person_cred_hist_length  \n",
       "2                 0.57                         N                           3  \n",
       "3                 0.53                         N                           2  \n",
       "4                 0.55                         Y                           4  "
      ]
     },
     "execution_count": 21,
     "metadata": {},
     "output_type": "execute_result"
    }
   ],
   "source": [
    "df.iloc[2:5]"
   ]
  },
  {
   "cell_type": "markdown",
   "id": "9dceb803",
   "metadata": {},
   "source": [
    "#### **Logical Subsets**\n",
    "\n",
    "You can select a subset of a DataFrame by using logical statements. In Python, `==` is how we test if a value is exactly equal to another value.\n"
   ]
  },
  {
   "cell_type": "code",
   "execution_count": 22,
   "id": "2cd228d5",
   "metadata": {},
   "outputs": [
    {
     "data": {
      "application/vnd.microsoft.datawrangler.viewer.v0+json": {
       "columns": [
        {
         "name": "index",
         "rawType": "int64",
         "type": "integer"
        },
        {
         "name": "person_age",
         "rawType": "int64",
         "type": "integer"
        },
        {
         "name": "person_income",
         "rawType": "int64",
         "type": "integer"
        },
        {
         "name": "person_home_ownership",
         "rawType": "object",
         "type": "string"
        },
        {
         "name": "person_emp_length",
         "rawType": "float64",
         "type": "float"
        },
        {
         "name": "loan_intent",
         "rawType": "object",
         "type": "string"
        },
        {
         "name": "loan_grade",
         "rawType": "object",
         "type": "string"
        },
        {
         "name": "loan_amnt",
         "rawType": "int64",
         "type": "integer"
        },
        {
         "name": "loan_int_rate",
         "rawType": "float64",
         "type": "float"
        },
        {
         "name": "loan_status",
         "rawType": "int64",
         "type": "integer"
        },
        {
         "name": "loan_percent_income",
         "rawType": "float64",
         "type": "float"
        },
        {
         "name": "cb_person_default_on_file",
         "rawType": "object",
         "type": "string"
        },
        {
         "name": "cb_person_cred_hist_length",
         "rawType": "int64",
         "type": "integer"
        }
       ],
       "ref": "f67a0738-1f32-43d0-b14d-94e0f6f5a1c8",
       "rows": [
        [
         "81",
         "144",
         "250000",
         "RENT",
         "4.0",
         "VENTURE",
         "C",
         "4800",
         "13.57",
         "0",
         "0.02",
         "N",
         "3"
        ],
        [
         "183",
         "144",
         "200000",
         "MORTGAGE",
         "4.0",
         "EDUCATION",
         "B",
         "6000",
         "11.86",
         "0",
         "0.03",
         "N",
         "2"
        ],
        [
         "575",
         "123",
         "80004",
         "RENT",
         "2.0",
         "EDUCATION",
         "B",
         "20400",
         "10.25",
         "0",
         "0.25",
         "N",
         "3"
        ],
        [
         "747",
         "123",
         "78000",
         "RENT",
         "7.0",
         "VENTURE",
         "B",
         "20000",
         null,
         "0",
         "0.26",
         "N",
         "4"
        ],
        [
         "17833",
         "32",
         "1200000",
         "MORTGAGE",
         "1.0",
         "VENTURE",
         "A",
         "12000",
         "7.51",
         "0",
         "0.01",
         "N",
         "8"
        ]
       ],
       "shape": {
        "columns": 12,
        "rows": 5
       }
      },
      "text/html": [
       "<div>\n",
       "<style scoped>\n",
       "    .dataframe tbody tr th:only-of-type {\n",
       "        vertical-align: middle;\n",
       "    }\n",
       "\n",
       "    .dataframe tbody tr th {\n",
       "        vertical-align: top;\n",
       "    }\n",
       "\n",
       "    .dataframe thead th {\n",
       "        text-align: right;\n",
       "    }\n",
       "</style>\n",
       "<table border=\"1\" class=\"dataframe\">\n",
       "  <thead>\n",
       "    <tr style=\"text-align: right;\">\n",
       "      <th></th>\n",
       "      <th>person_age</th>\n",
       "      <th>person_income</th>\n",
       "      <th>person_home_ownership</th>\n",
       "      <th>person_emp_length</th>\n",
       "      <th>loan_intent</th>\n",
       "      <th>loan_grade</th>\n",
       "      <th>loan_amnt</th>\n",
       "      <th>loan_int_rate</th>\n",
       "      <th>loan_status</th>\n",
       "      <th>loan_percent_income</th>\n",
       "      <th>cb_person_default_on_file</th>\n",
       "      <th>cb_person_cred_hist_length</th>\n",
       "    </tr>\n",
       "  </thead>\n",
       "  <tbody>\n",
       "    <tr>\n",
       "      <th>81</th>\n",
       "      <td>144</td>\n",
       "      <td>250000</td>\n",
       "      <td>RENT</td>\n",
       "      <td>4.0</td>\n",
       "      <td>VENTURE</td>\n",
       "      <td>C</td>\n",
       "      <td>4800</td>\n",
       "      <td>13.57</td>\n",
       "      <td>0</td>\n",
       "      <td>0.02</td>\n",
       "      <td>N</td>\n",
       "      <td>3</td>\n",
       "    </tr>\n",
       "    <tr>\n",
       "      <th>183</th>\n",
       "      <td>144</td>\n",
       "      <td>200000</td>\n",
       "      <td>MORTGAGE</td>\n",
       "      <td>4.0</td>\n",
       "      <td>EDUCATION</td>\n",
       "      <td>B</td>\n",
       "      <td>6000</td>\n",
       "      <td>11.86</td>\n",
       "      <td>0</td>\n",
       "      <td>0.03</td>\n",
       "      <td>N</td>\n",
       "      <td>2</td>\n",
       "    </tr>\n",
       "    <tr>\n",
       "      <th>575</th>\n",
       "      <td>123</td>\n",
       "      <td>80004</td>\n",
       "      <td>RENT</td>\n",
       "      <td>2.0</td>\n",
       "      <td>EDUCATION</td>\n",
       "      <td>B</td>\n",
       "      <td>20400</td>\n",
       "      <td>10.25</td>\n",
       "      <td>0</td>\n",
       "      <td>0.25</td>\n",
       "      <td>N</td>\n",
       "      <td>3</td>\n",
       "    </tr>\n",
       "    <tr>\n",
       "      <th>747</th>\n",
       "      <td>123</td>\n",
       "      <td>78000</td>\n",
       "      <td>RENT</td>\n",
       "      <td>7.0</td>\n",
       "      <td>VENTURE</td>\n",
       "      <td>B</td>\n",
       "      <td>20000</td>\n",
       "      <td>NaN</td>\n",
       "      <td>0</td>\n",
       "      <td>0.26</td>\n",
       "      <td>N</td>\n",
       "      <td>4</td>\n",
       "    </tr>\n",
       "    <tr>\n",
       "      <th>17833</th>\n",
       "      <td>32</td>\n",
       "      <td>1200000</td>\n",
       "      <td>MORTGAGE</td>\n",
       "      <td>1.0</td>\n",
       "      <td>VENTURE</td>\n",
       "      <td>A</td>\n",
       "      <td>12000</td>\n",
       "      <td>7.51</td>\n",
       "      <td>0</td>\n",
       "      <td>0.01</td>\n",
       "      <td>N</td>\n",
       "      <td>8</td>\n",
       "    </tr>\n",
       "  </tbody>\n",
       "</table>\n",
       "</div>"
      ],
      "text/plain": [
       "       person_age  person_income person_home_ownership  person_emp_length  \\\n",
       "81            144         250000                  RENT                4.0   \n",
       "183           144         200000              MORTGAGE                4.0   \n",
       "575           123          80004                  RENT                2.0   \n",
       "747           123          78000                  RENT                7.0   \n",
       "17833          32        1200000              MORTGAGE                1.0   \n",
       "\n",
       "      loan_intent loan_grade  loan_amnt  loan_int_rate  loan_status  \\\n",
       "81        VENTURE          C       4800          13.57            0   \n",
       "183     EDUCATION          B       6000          11.86            0   \n",
       "575     EDUCATION          B      20400          10.25            0   \n",
       "747       VENTURE          B      20000            NaN            0   \n",
       "17833     VENTURE          A      12000           7.51            0   \n",
       "\n",
       "       loan_percent_income cb_person_default_on_file  \\\n",
       "81                    0.02                         N   \n",
       "183                   0.03                         N   \n",
       "575                   0.25                         N   \n",
       "747                   0.26                         N   \n",
       "17833                 0.01                         N   \n",
       "\n",
       "       cb_person_cred_hist_length  \n",
       "81                              3  \n",
       "183                             2  \n",
       "575                             3  \n",
       "747                             4  \n",
       "17833                           8  "
      ]
     },
     "execution_count": 22,
     "metadata": {},
     "output_type": "execute_result"
    }
   ],
   "source": [
    "df[df.person_age > 30].head()"
   ]
  },
  {
   "cell_type": "markdown",
   "id": "3becad15",
   "metadata": {},
   "source": [
    "You can also combine multiple logical statements, as long as each statement is in parentheses. In Python, `|` means “or” and `&` means “and”."
   ]
  },
  {
   "cell_type": "code",
   "execution_count": 23,
   "id": "f226364a",
   "metadata": {},
   "outputs": [
    {
     "data": {
      "application/vnd.microsoft.datawrangler.viewer.v0+json": {
       "columns": [
        {
         "name": "index",
         "rawType": "int64",
         "type": "integer"
        },
        {
         "name": "person_age",
         "rawType": "int64",
         "type": "integer"
        },
        {
         "name": "person_income",
         "rawType": "int64",
         "type": "integer"
        },
        {
         "name": "person_home_ownership",
         "rawType": "object",
         "type": "string"
        },
        {
         "name": "person_emp_length",
         "rawType": "float64",
         "type": "float"
        },
        {
         "name": "loan_intent",
         "rawType": "object",
         "type": "string"
        },
        {
         "name": "loan_grade",
         "rawType": "object",
         "type": "string"
        },
        {
         "name": "loan_amnt",
         "rawType": "int64",
         "type": "integer"
        },
        {
         "name": "loan_int_rate",
         "rawType": "float64",
         "type": "float"
        },
        {
         "name": "loan_status",
         "rawType": "int64",
         "type": "integer"
        },
        {
         "name": "loan_percent_income",
         "rawType": "float64",
         "type": "float"
        },
        {
         "name": "cb_person_default_on_file",
         "rawType": "object",
         "type": "string"
        },
        {
         "name": "cb_person_cred_hist_length",
         "rawType": "int64",
         "type": "integer"
        }
       ],
       "ref": "23beea1e-8d0a-424f-b825-00e7974e6321",
       "rows": [
        [
         "81",
         "144",
         "250000",
         "RENT",
         "4.0",
         "VENTURE",
         "C",
         "4800",
         "13.57",
         "0",
         "0.02",
         "N",
         "3"
        ],
        [
         "747",
         "123",
         "78000",
         "RENT",
         "7.0",
         "VENTURE",
         "B",
         "20000",
         null,
         "0",
         "0.26",
         "N",
         "4"
        ],
        [
         "17833",
         "32",
         "1200000",
         "MORTGAGE",
         "1.0",
         "VENTURE",
         "A",
         "12000",
         "7.51",
         "0",
         "0.01",
         "N",
         "8"
        ],
        [
         "17850",
         "34",
         "120000",
         "RENT",
         "17.0",
         "VENTURE",
         "B",
         "35000",
         "10.59",
         "0",
         "0.29",
         "N",
         "6"
        ],
        [
         "17869",
         "33",
         "350000",
         "MORTGAGE",
         "0.0",
         "VENTURE",
         "C",
         "10000",
         "14.65",
         "0",
         "0.03",
         "Y",
         "10"
        ]
       ],
       "shape": {
        "columns": 12,
        "rows": 5
       }
      },
      "text/html": [
       "<div>\n",
       "<style scoped>\n",
       "    .dataframe tbody tr th:only-of-type {\n",
       "        vertical-align: middle;\n",
       "    }\n",
       "\n",
       "    .dataframe tbody tr th {\n",
       "        vertical-align: top;\n",
       "    }\n",
       "\n",
       "    .dataframe thead th {\n",
       "        text-align: right;\n",
       "    }\n",
       "</style>\n",
       "<table border=\"1\" class=\"dataframe\">\n",
       "  <thead>\n",
       "    <tr style=\"text-align: right;\">\n",
       "      <th></th>\n",
       "      <th>person_age</th>\n",
       "      <th>person_income</th>\n",
       "      <th>person_home_ownership</th>\n",
       "      <th>person_emp_length</th>\n",
       "      <th>loan_intent</th>\n",
       "      <th>loan_grade</th>\n",
       "      <th>loan_amnt</th>\n",
       "      <th>loan_int_rate</th>\n",
       "      <th>loan_status</th>\n",
       "      <th>loan_percent_income</th>\n",
       "      <th>cb_person_default_on_file</th>\n",
       "      <th>cb_person_cred_hist_length</th>\n",
       "    </tr>\n",
       "  </thead>\n",
       "  <tbody>\n",
       "    <tr>\n",
       "      <th>81</th>\n",
       "      <td>144</td>\n",
       "      <td>250000</td>\n",
       "      <td>RENT</td>\n",
       "      <td>4.0</td>\n",
       "      <td>VENTURE</td>\n",
       "      <td>C</td>\n",
       "      <td>4800</td>\n",
       "      <td>13.57</td>\n",
       "      <td>0</td>\n",
       "      <td>0.02</td>\n",
       "      <td>N</td>\n",
       "      <td>3</td>\n",
       "    </tr>\n",
       "    <tr>\n",
       "      <th>747</th>\n",
       "      <td>123</td>\n",
       "      <td>78000</td>\n",
       "      <td>RENT</td>\n",
       "      <td>7.0</td>\n",
       "      <td>VENTURE</td>\n",
       "      <td>B</td>\n",
       "      <td>20000</td>\n",
       "      <td>NaN</td>\n",
       "      <td>0</td>\n",
       "      <td>0.26</td>\n",
       "      <td>N</td>\n",
       "      <td>4</td>\n",
       "    </tr>\n",
       "    <tr>\n",
       "      <th>17833</th>\n",
       "      <td>32</td>\n",
       "      <td>1200000</td>\n",
       "      <td>MORTGAGE</td>\n",
       "      <td>1.0</td>\n",
       "      <td>VENTURE</td>\n",
       "      <td>A</td>\n",
       "      <td>12000</td>\n",
       "      <td>7.51</td>\n",
       "      <td>0</td>\n",
       "      <td>0.01</td>\n",
       "      <td>N</td>\n",
       "      <td>8</td>\n",
       "    </tr>\n",
       "    <tr>\n",
       "      <th>17850</th>\n",
       "      <td>34</td>\n",
       "      <td>120000</td>\n",
       "      <td>RENT</td>\n",
       "      <td>17.0</td>\n",
       "      <td>VENTURE</td>\n",
       "      <td>B</td>\n",
       "      <td>35000</td>\n",
       "      <td>10.59</td>\n",
       "      <td>0</td>\n",
       "      <td>0.29</td>\n",
       "      <td>N</td>\n",
       "      <td>6</td>\n",
       "    </tr>\n",
       "    <tr>\n",
       "      <th>17869</th>\n",
       "      <td>33</td>\n",
       "      <td>350000</td>\n",
       "      <td>MORTGAGE</td>\n",
       "      <td>0.0</td>\n",
       "      <td>VENTURE</td>\n",
       "      <td>C</td>\n",
       "      <td>10000</td>\n",
       "      <td>14.65</td>\n",
       "      <td>0</td>\n",
       "      <td>0.03</td>\n",
       "      <td>Y</td>\n",
       "      <td>10</td>\n",
       "    </tr>\n",
       "  </tbody>\n",
       "</table>\n",
       "</div>"
      ],
      "text/plain": [
       "       person_age  person_income person_home_ownership  person_emp_length  \\\n",
       "81            144         250000                  RENT                4.0   \n",
       "747           123          78000                  RENT                7.0   \n",
       "17833          32        1200000              MORTGAGE                1.0   \n",
       "17850          34         120000                  RENT               17.0   \n",
       "17869          33         350000              MORTGAGE                0.0   \n",
       "\n",
       "      loan_intent loan_grade  loan_amnt  loan_int_rate  loan_status  \\\n",
       "81        VENTURE          C       4800          13.57            0   \n",
       "747       VENTURE          B      20000            NaN            0   \n",
       "17833     VENTURE          A      12000           7.51            0   \n",
       "17850     VENTURE          B      35000          10.59            0   \n",
       "17869     VENTURE          C      10000          14.65            0   \n",
       "\n",
       "       loan_percent_income cb_person_default_on_file  \\\n",
       "81                    0.02                         N   \n",
       "747                   0.26                         N   \n",
       "17833                 0.01                         N   \n",
       "17850                 0.29                         N   \n",
       "17869                 0.03                         Y   \n",
       "\n",
       "       cb_person_cred_hist_length  \n",
       "81                              3  \n",
       "747                             4  \n",
       "17833                           8  \n",
       "17850                           6  \n",
       "17869                          10  "
      ]
     },
     "execution_count": 23,
     "metadata": {},
     "output_type": "execute_result"
    }
   ],
   "source": [
    "df[(df.person_age > 30) & (df.loan_intent == \"VENTURE\")].head()"
   ]
  },
  {
   "cell_type": "markdown",
   "id": "4b2fe5c9",
   "metadata": {},
   "source": [
    "We could use the `isin` command to check that a column is one of a list of values."
   ]
  },
  {
   "cell_type": "code",
   "execution_count": 24,
   "id": "ae5855a9",
   "metadata": {},
   "outputs": [
    {
     "data": {
      "application/vnd.microsoft.datawrangler.viewer.v0+json": {
       "columns": [
        {
         "name": "index",
         "rawType": "int64",
         "type": "integer"
        },
        {
         "name": "person_age",
         "rawType": "int64",
         "type": "integer"
        },
        {
         "name": "person_income",
         "rawType": "int64",
         "type": "integer"
        },
        {
         "name": "person_home_ownership",
         "rawType": "object",
         "type": "string"
        },
        {
         "name": "person_emp_length",
         "rawType": "float64",
         "type": "float"
        },
        {
         "name": "loan_intent",
         "rawType": "object",
         "type": "string"
        },
        {
         "name": "loan_grade",
         "rawType": "object",
         "type": "string"
        },
        {
         "name": "loan_amnt",
         "rawType": "int64",
         "type": "integer"
        },
        {
         "name": "loan_int_rate",
         "rawType": "float64",
         "type": "float"
        },
        {
         "name": "loan_status",
         "rawType": "int64",
         "type": "integer"
        },
        {
         "name": "loan_percent_income",
         "rawType": "float64",
         "type": "float"
        },
        {
         "name": "cb_person_default_on_file",
         "rawType": "object",
         "type": "string"
        },
        {
         "name": "cb_person_cred_hist_length",
         "rawType": "int64",
         "type": "integer"
        }
       ],
       "ref": "ea75a3dd-9bba-46de-b7df-36fadf32c664",
       "rows": [
        [
         "1",
         "21",
         "9600",
         "OWN",
         "5.0",
         "EDUCATION",
         "B",
         "1000",
         "11.14",
         "0",
         "0.1",
         "N",
         "2"
        ],
        [
         "2",
         "25",
         "9600",
         "MORTGAGE",
         "1.0",
         "MEDICAL",
         "C",
         "5500",
         "12.87",
         "1",
         "0.57",
         "N",
         "3"
        ],
        [
         "3",
         "23",
         "65500",
         "RENT",
         "4.0",
         "MEDICAL",
         "C",
         "35000",
         "15.23",
         "1",
         "0.53",
         "N",
         "2"
        ],
        [
         "4",
         "24",
         "54400",
         "RENT",
         "8.0",
         "MEDICAL",
         "C",
         "35000",
         "14.27",
         "1",
         "0.55",
         "Y",
         "4"
        ],
        [
         "6",
         "26",
         "77100",
         "RENT",
         "8.0",
         "EDUCATION",
         "B",
         "35000",
         "12.42",
         "1",
         "0.45",
         "N",
         "3"
        ]
       ],
       "shape": {
        "columns": 12,
        "rows": 5
       }
      },
      "text/html": [
       "<div>\n",
       "<style scoped>\n",
       "    .dataframe tbody tr th:only-of-type {\n",
       "        vertical-align: middle;\n",
       "    }\n",
       "\n",
       "    .dataframe tbody tr th {\n",
       "        vertical-align: top;\n",
       "    }\n",
       "\n",
       "    .dataframe thead th {\n",
       "        text-align: right;\n",
       "    }\n",
       "</style>\n",
       "<table border=\"1\" class=\"dataframe\">\n",
       "  <thead>\n",
       "    <tr style=\"text-align: right;\">\n",
       "      <th></th>\n",
       "      <th>person_age</th>\n",
       "      <th>person_income</th>\n",
       "      <th>person_home_ownership</th>\n",
       "      <th>person_emp_length</th>\n",
       "      <th>loan_intent</th>\n",
       "      <th>loan_grade</th>\n",
       "      <th>loan_amnt</th>\n",
       "      <th>loan_int_rate</th>\n",
       "      <th>loan_status</th>\n",
       "      <th>loan_percent_income</th>\n",
       "      <th>cb_person_default_on_file</th>\n",
       "      <th>cb_person_cred_hist_length</th>\n",
       "    </tr>\n",
       "  </thead>\n",
       "  <tbody>\n",
       "    <tr>\n",
       "      <th>1</th>\n",
       "      <td>21</td>\n",
       "      <td>9600</td>\n",
       "      <td>OWN</td>\n",
       "      <td>5.0</td>\n",
       "      <td>EDUCATION</td>\n",
       "      <td>B</td>\n",
       "      <td>1000</td>\n",
       "      <td>11.14</td>\n",
       "      <td>0</td>\n",
       "      <td>0.10</td>\n",
       "      <td>N</td>\n",
       "      <td>2</td>\n",
       "    </tr>\n",
       "    <tr>\n",
       "      <th>2</th>\n",
       "      <td>25</td>\n",
       "      <td>9600</td>\n",
       "      <td>MORTGAGE</td>\n",
       "      <td>1.0</td>\n",
       "      <td>MEDICAL</td>\n",
       "      <td>C</td>\n",
       "      <td>5500</td>\n",
       "      <td>12.87</td>\n",
       "      <td>1</td>\n",
       "      <td>0.57</td>\n",
       "      <td>N</td>\n",
       "      <td>3</td>\n",
       "    </tr>\n",
       "    <tr>\n",
       "      <th>3</th>\n",
       "      <td>23</td>\n",
       "      <td>65500</td>\n",
       "      <td>RENT</td>\n",
       "      <td>4.0</td>\n",
       "      <td>MEDICAL</td>\n",
       "      <td>C</td>\n",
       "      <td>35000</td>\n",
       "      <td>15.23</td>\n",
       "      <td>1</td>\n",
       "      <td>0.53</td>\n",
       "      <td>N</td>\n",
       "      <td>2</td>\n",
       "    </tr>\n",
       "    <tr>\n",
       "      <th>4</th>\n",
       "      <td>24</td>\n",
       "      <td>54400</td>\n",
       "      <td>RENT</td>\n",
       "      <td>8.0</td>\n",
       "      <td>MEDICAL</td>\n",
       "      <td>C</td>\n",
       "      <td>35000</td>\n",
       "      <td>14.27</td>\n",
       "      <td>1</td>\n",
       "      <td>0.55</td>\n",
       "      <td>Y</td>\n",
       "      <td>4</td>\n",
       "    </tr>\n",
       "    <tr>\n",
       "      <th>6</th>\n",
       "      <td>26</td>\n",
       "      <td>77100</td>\n",
       "      <td>RENT</td>\n",
       "      <td>8.0</td>\n",
       "      <td>EDUCATION</td>\n",
       "      <td>B</td>\n",
       "      <td>35000</td>\n",
       "      <td>12.42</td>\n",
       "      <td>1</td>\n",
       "      <td>0.45</td>\n",
       "      <td>N</td>\n",
       "      <td>3</td>\n",
       "    </tr>\n",
       "  </tbody>\n",
       "</table>\n",
       "</div>"
      ],
      "text/plain": [
       "   person_age  person_income person_home_ownership  person_emp_length  \\\n",
       "1          21           9600                   OWN                5.0   \n",
       "2          25           9600              MORTGAGE                1.0   \n",
       "3          23          65500                  RENT                4.0   \n",
       "4          24          54400                  RENT                8.0   \n",
       "6          26          77100                  RENT                8.0   \n",
       "\n",
       "  loan_intent loan_grade  loan_amnt  loan_int_rate  loan_status  \\\n",
       "1   EDUCATION          B       1000          11.14            0   \n",
       "2     MEDICAL          C       5500          12.87            1   \n",
       "3     MEDICAL          C      35000          15.23            1   \n",
       "4     MEDICAL          C      35000          14.27            1   \n",
       "6   EDUCATION          B      35000          12.42            1   \n",
       "\n",
       "   loan_percent_income cb_person_default_on_file  cb_person_cred_hist_length  \n",
       "1                 0.10                         N                           2  \n",
       "2                 0.57                         N                           3  \n",
       "3                 0.53                         N                           2  \n",
       "4                 0.55                         Y                           4  \n",
       "6                 0.45                         N                           3  "
      ]
     },
     "execution_count": 24,
     "metadata": {},
     "output_type": "execute_result"
    }
   ],
   "source": [
    "df[df.loan_grade.isin([\"C\", \"B\"])].head()"
   ]
  },
  {
   "cell_type": "markdown",
   "id": "8fcb7ba2",
   "metadata": {},
   "source": [
    "#### **Setting Indices**\n",
    "\n",
    "When we select a subset of a DataFrame using logic, we end up with non-consecutive indices. This is inelegant and makes it hard to use `iloc()`. We can fix this using the method `reset_index()`. Note that the old indices have been moved into a new column called 'index'. Unless you need those values for something special, it’s probably better to use the keyword `drop=True`. If we use the keyword `inplace=True` we can just modify our existing DataFrame. You can also change the name of the index by setting a name to `names`."
   ]
  },
  {
   "cell_type": "code",
   "execution_count": 26,
   "id": "0b4b696c",
   "metadata": {},
   "outputs": [
    {
     "data": {
      "application/vnd.microsoft.datawrangler.viewer.v0+json": {
       "columns": [
        {
         "name": "index",
         "rawType": "int64",
         "type": "integer"
        },
        {
         "name": "id",
         "rawType": "int64",
         "type": "integer"
        },
        {
         "name": "person_age",
         "rawType": "int64",
         "type": "integer"
        },
        {
         "name": "person_income",
         "rawType": "int64",
         "type": "integer"
        },
        {
         "name": "person_home_ownership",
         "rawType": "object",
         "type": "string"
        },
        {
         "name": "person_emp_length",
         "rawType": "float64",
         "type": "float"
        },
        {
         "name": "loan_intent",
         "rawType": "object",
         "type": "string"
        },
        {
         "name": "loan_grade",
         "rawType": "object",
         "type": "string"
        },
        {
         "name": "loan_amnt",
         "rawType": "int64",
         "type": "integer"
        },
        {
         "name": "loan_int_rate",
         "rawType": "float64",
         "type": "float"
        },
        {
         "name": "loan_status",
         "rawType": "int64",
         "type": "integer"
        },
        {
         "name": "loan_percent_income",
         "rawType": "float64",
         "type": "float"
        },
        {
         "name": "cb_person_default_on_file",
         "rawType": "object",
         "type": "string"
        },
        {
         "name": "cb_person_cred_hist_length",
         "rawType": "int64",
         "type": "integer"
        }
       ],
       "ref": "7d281dc9-0d8b-4630-b8b8-9cd916052074",
       "rows": [
        [
         "0",
         "0",
         "22",
         "59000",
         "RENT",
         "123.0",
         "PERSONAL",
         "D",
         "35000",
         "16.02",
         "1",
         "0.59",
         "Y",
         "3"
        ],
        [
         "1",
         "1",
         "21",
         "9600",
         "OWN",
         "5.0",
         "EDUCATION",
         "B",
         "1000",
         "11.14",
         "0",
         "0.1",
         "N",
         "2"
        ],
        [
         "2",
         "2",
         "25",
         "9600",
         "MORTGAGE",
         "1.0",
         "MEDICAL",
         "C",
         "5500",
         "12.87",
         "1",
         "0.57",
         "N",
         "3"
        ],
        [
         "3",
         "3",
         "23",
         "65500",
         "RENT",
         "4.0",
         "MEDICAL",
         "C",
         "35000",
         "15.23",
         "1",
         "0.53",
         "N",
         "2"
        ],
        [
         "4",
         "4",
         "24",
         "54400",
         "RENT",
         "8.0",
         "MEDICAL",
         "C",
         "35000",
         "14.27",
         "1",
         "0.55",
         "Y",
         "4"
        ],
        [
         "5",
         "5",
         "21",
         "9900",
         "OWN",
         "2.0",
         "VENTURE",
         "A",
         "2500",
         "7.14",
         "1",
         "0.25",
         "N",
         "2"
        ],
        [
         "6",
         "6",
         "26",
         "77100",
         "RENT",
         "8.0",
         "EDUCATION",
         "B",
         "35000",
         "12.42",
         "1",
         "0.45",
         "N",
         "3"
        ],
        [
         "7",
         "7",
         "24",
         "78956",
         "RENT",
         "5.0",
         "MEDICAL",
         "B",
         "35000",
         "11.11",
         "1",
         "0.44",
         "N",
         "4"
        ],
        [
         "8",
         "8",
         "24",
         "83000",
         "RENT",
         "8.0",
         "PERSONAL",
         "A",
         "35000",
         "8.9",
         "1",
         "0.42",
         "N",
         "2"
        ],
        [
         "9",
         "9",
         "21",
         "10000",
         "OWN",
         "6.0",
         "VENTURE",
         "D",
         "1600",
         "14.74",
         "1",
         "0.16",
         "N",
         "3"
        ],
        [
         "10",
         "10",
         "22",
         "85000",
         "RENT",
         "6.0",
         "VENTURE",
         "B",
         "35000",
         "10.37",
         "1",
         "0.41",
         "N",
         "4"
        ],
        [
         "11",
         "11",
         "21",
         "10000",
         "OWN",
         "2.0",
         "HOMEIMPROVEMENT",
         "A",
         "4500",
         "8.63",
         "1",
         "0.45",
         "N",
         "2"
        ],
        [
         "12",
         "12",
         "23",
         "95000",
         "RENT",
         "2.0",
         "VENTURE",
         "A",
         "35000",
         "7.9",
         "1",
         "0.37",
         "N",
         "2"
        ],
        [
         "13",
         "13",
         "26",
         "108160",
         "RENT",
         "4.0",
         "EDUCATION",
         "E",
         "35000",
         "18.39",
         "1",
         "0.32",
         "N",
         "4"
        ],
        [
         "14",
         "14",
         "23",
         "115000",
         "RENT",
         "2.0",
         "EDUCATION",
         "A",
         "35000",
         "7.9",
         "0",
         "0.3",
         "N",
         "4"
        ],
        [
         "15",
         "15",
         "23",
         "500000",
         "MORTGAGE",
         "7.0",
         "DEBTCONSOLIDATION",
         "B",
         "30000",
         "10.65",
         "0",
         "0.06",
         "N",
         "3"
        ],
        [
         "16",
         "16",
         "23",
         "120000",
         "RENT",
         "0.0",
         "EDUCATION",
         "A",
         "35000",
         "7.9",
         "0",
         "0.29",
         "N",
         "4"
        ],
        [
         "17",
         "17",
         "23",
         "92111",
         "RENT",
         "7.0",
         "MEDICAL",
         "F",
         "35000",
         "20.25",
         "1",
         "0.32",
         "N",
         "4"
        ],
        [
         "18",
         "18",
         "23",
         "113000",
         "RENT",
         "8.0",
         "DEBTCONSOLIDATION",
         "D",
         "35000",
         "18.25",
         "1",
         "0.31",
         "N",
         "4"
        ],
        [
         "19",
         "19",
         "24",
         "10800",
         "MORTGAGE",
         "8.0",
         "EDUCATION",
         "B",
         "1750",
         "10.99",
         "1",
         "0.16",
         "N",
         "2"
        ],
        [
         "20",
         "20",
         "25",
         "162500",
         "RENT",
         "2.0",
         "VENTURE",
         "A",
         "35000",
         "7.49",
         "0",
         "0.22",
         "N",
         "4"
        ],
        [
         "21",
         "21",
         "25",
         "137000",
         "RENT",
         "9.0",
         "PERSONAL",
         "E",
         "34800",
         "16.77",
         "0",
         "0.25",
         "Y",
         "2"
        ],
        [
         "22",
         "22",
         "22",
         "65000",
         "RENT",
         "4.0",
         "EDUCATION",
         "D",
         "34000",
         "17.58",
         "1",
         "0.52",
         "N",
         "4"
        ],
        [
         "23",
         "23",
         "24",
         "10980",
         "OWN",
         "0.0",
         "PERSONAL",
         "A",
         "1500",
         "7.29",
         "0",
         "0.14",
         "N",
         "3"
        ],
        [
         "24",
         "24",
         "22",
         "80000",
         "RENT",
         "3.0",
         "PERSONAL",
         "D",
         "33950",
         "14.54",
         "1",
         "0.42",
         "Y",
         "4"
        ],
        [
         "25",
         "25",
         "24",
         "67746",
         "RENT",
         "8.0",
         "HOMEIMPROVEMENT",
         "C",
         "33000",
         "12.68",
         "1",
         "0.49",
         "N",
         "3"
        ],
        [
         "26",
         "26",
         "21",
         "11000",
         "MORTGAGE",
         "3.0",
         "VENTURE",
         "E",
         "4575",
         "17.74",
         "1",
         "0.42",
         "Y",
         "3"
        ],
        [
         "27",
         "27",
         "23",
         "11000",
         "OWN",
         "0.0",
         "PERSONAL",
         "A",
         "1400",
         "9.32",
         "0",
         "0.13",
         "N",
         "3"
        ],
        [
         "28",
         "28",
         "24",
         "65000",
         "RENT",
         "6.0",
         "HOMEIMPROVEMENT",
         "B",
         "32500",
         "9.99",
         "1",
         "0.5",
         "N",
         "3"
        ],
        [
         "29",
         "29",
         "21",
         "11389",
         "OTHER",
         "5.0",
         "EDUCATION",
         "C",
         "4000",
         "12.84",
         "1",
         "0.35",
         "Y",
         "2"
        ],
        [
         "30",
         "30",
         "21",
         "11520",
         "OWN",
         "5.0",
         "MEDICAL",
         "B",
         "2000",
         "11.12",
         "1",
         "0.17",
         "N",
         "3"
        ],
        [
         "31",
         "31",
         "25",
         "120000",
         "RENT",
         "2.0",
         "VENTURE",
         "A",
         "32000",
         "6.62",
         "0",
         "0.27",
         "N",
         "2"
        ],
        [
         "32",
         "32",
         "26",
         "95000",
         "RENT",
         "7.0",
         "HOMEIMPROVEMENT",
         "C",
         "31050",
         "14.17",
         "1",
         "0.33",
         "Y",
         "3"
        ],
        [
         "33",
         "33",
         "25",
         "306000",
         "RENT",
         "2.0",
         "DEBTCONSOLIDATION",
         "C",
         "24250",
         "13.85",
         "0",
         "0.08",
         "N",
         "3"
        ],
        [
         "34",
         "34",
         "26",
         "300000",
         "MORTGAGE",
         "10.0",
         "MEDICAL",
         "C",
         "7800",
         "13.49",
         "0",
         "0.03",
         "N",
         "4"
        ],
        [
         "35",
         "35",
         "21",
         "12000",
         "OWN",
         "5.0",
         "EDUCATION",
         "A",
         "2500",
         "7.51",
         "1",
         "0.21",
         "N",
         "4"
        ],
        [
         "36",
         "36",
         "22",
         "48000",
         "RENT",
         "1.0",
         "EDUCATION",
         "E",
         "30000",
         "18.39",
         "1",
         "0.63",
         "N",
         "2"
        ],
        [
         "37",
         "37",
         "24",
         "64000",
         "RENT",
         "8.0",
         "DEBTCONSOLIDATION",
         "D",
         "30000",
         "14.54",
         "1",
         "0.47",
         "Y",
         "3"
        ],
        [
         "38",
         "38",
         "25",
         "75000",
         "RENT",
         "4.0",
         "HOMEIMPROVEMENT",
         "D",
         "30000",
         "16.89",
         "1",
         "0.4",
         "Y",
         "4"
        ],
        [
         "39",
         "39",
         "23",
         "71500",
         "RENT",
         "3.0",
         "DEBTCONSOLIDATION",
         "D",
         "30000",
         null,
         "1",
         "0.42",
         "N",
         "4"
        ],
        [
         "40",
         "40",
         "26",
         "62050",
         "RENT",
         "6.0",
         "MEDICAL",
         "E",
         "30000",
         "17.99",
         "1",
         "0.41",
         "N",
         "2"
        ],
        [
         "41",
         "41",
         "24",
         "12000",
         "OWN",
         "4.0",
         "VENTURE",
         "B",
         "2500",
         "12.69",
         "1",
         "0.21",
         "N",
         "3"
        ],
        [
         "42",
         "42",
         "26",
         "300000",
         "MORTGAGE",
         "10.0",
         "VENTURE",
         "A",
         "20000",
         "7.88",
         "0",
         "0.07",
         "N",
         "4"
        ],
        [
         "43",
         "43",
         "23",
         "300000",
         "OWN",
         "1.0",
         "EDUCATION",
         "F",
         "24250",
         "19.41",
         "0",
         "0.08",
         "Y",
         "2"
        ],
        [
         "44",
         "44",
         "26",
         "300000",
         "OWN",
         "9.0",
         "HOMEIMPROVEMENT",
         "B",
         "10000",
         "10.38",
         "0",
         "0.03",
         "N",
         "4"
        ],
        [
         "45",
         "45",
         "26",
         "300000",
         "MORTGAGE",
         "0.0",
         "EDUCATION",
         "D",
         "25000",
         "15.33",
         "0",
         "0.08",
         "N",
         "3"
        ],
        [
         "46",
         "46",
         "25",
         "300000",
         "MORTGAGE",
         "9.0",
         "HOMEIMPROVEMENT",
         "E",
         "18000",
         "16.45",
         "0",
         "0.06",
         "N",
         "3"
        ],
        [
         "47",
         "47",
         "26",
         "80690",
         "RENT",
         "8.0",
         "PERSONAL",
         "A",
         "30000",
         "7.49",
         "1",
         "0.37",
         "N",
         "3"
        ],
        [
         "48",
         "48",
         "22",
         "66300",
         "RENT",
         "4.0",
         "MEDICAL",
         "B",
         "30000",
         "12.69",
         "1",
         "0.38",
         "N",
         "3"
        ],
        [
         "49",
         "49",
         "26",
         "89028",
         "RENT",
         "0.0",
         "DEBTCONSOLIDATION",
         "A",
         "30000",
         "6.62",
         "1",
         "0.34",
         "N",
         "3"
        ]
       ],
       "shape": {
        "columns": 13,
        "rows": 32581
       }
      },
      "text/html": [
       "<div>\n",
       "<style scoped>\n",
       "    .dataframe tbody tr th:only-of-type {\n",
       "        vertical-align: middle;\n",
       "    }\n",
       "\n",
       "    .dataframe tbody tr th {\n",
       "        vertical-align: top;\n",
       "    }\n",
       "\n",
       "    .dataframe thead th {\n",
       "        text-align: right;\n",
       "    }\n",
       "</style>\n",
       "<table border=\"1\" class=\"dataframe\">\n",
       "  <thead>\n",
       "    <tr style=\"text-align: right;\">\n",
       "      <th></th>\n",
       "      <th>id</th>\n",
       "      <th>person_age</th>\n",
       "      <th>person_income</th>\n",
       "      <th>person_home_ownership</th>\n",
       "      <th>person_emp_length</th>\n",
       "      <th>loan_intent</th>\n",
       "      <th>loan_grade</th>\n",
       "      <th>loan_amnt</th>\n",
       "      <th>loan_int_rate</th>\n",
       "      <th>loan_status</th>\n",
       "      <th>loan_percent_income</th>\n",
       "      <th>cb_person_default_on_file</th>\n",
       "      <th>cb_person_cred_hist_length</th>\n",
       "    </tr>\n",
       "  </thead>\n",
       "  <tbody>\n",
       "    <tr>\n",
       "      <th>0</th>\n",
       "      <td>0</td>\n",
       "      <td>22</td>\n",
       "      <td>59000</td>\n",
       "      <td>RENT</td>\n",
       "      <td>123.0</td>\n",
       "      <td>PERSONAL</td>\n",
       "      <td>D</td>\n",
       "      <td>35000</td>\n",
       "      <td>16.02</td>\n",
       "      <td>1</td>\n",
       "      <td>0.59</td>\n",
       "      <td>Y</td>\n",
       "      <td>3</td>\n",
       "    </tr>\n",
       "    <tr>\n",
       "      <th>1</th>\n",
       "      <td>1</td>\n",
       "      <td>21</td>\n",
       "      <td>9600</td>\n",
       "      <td>OWN</td>\n",
       "      <td>5.0</td>\n",
       "      <td>EDUCATION</td>\n",
       "      <td>B</td>\n",
       "      <td>1000</td>\n",
       "      <td>11.14</td>\n",
       "      <td>0</td>\n",
       "      <td>0.10</td>\n",
       "      <td>N</td>\n",
       "      <td>2</td>\n",
       "    </tr>\n",
       "    <tr>\n",
       "      <th>2</th>\n",
       "      <td>2</td>\n",
       "      <td>25</td>\n",
       "      <td>9600</td>\n",
       "      <td>MORTGAGE</td>\n",
       "      <td>1.0</td>\n",
       "      <td>MEDICAL</td>\n",
       "      <td>C</td>\n",
       "      <td>5500</td>\n",
       "      <td>12.87</td>\n",
       "      <td>1</td>\n",
       "      <td>0.57</td>\n",
       "      <td>N</td>\n",
       "      <td>3</td>\n",
       "    </tr>\n",
       "    <tr>\n",
       "      <th>3</th>\n",
       "      <td>3</td>\n",
       "      <td>23</td>\n",
       "      <td>65500</td>\n",
       "      <td>RENT</td>\n",
       "      <td>4.0</td>\n",
       "      <td>MEDICAL</td>\n",
       "      <td>C</td>\n",
       "      <td>35000</td>\n",
       "      <td>15.23</td>\n",
       "      <td>1</td>\n",
       "      <td>0.53</td>\n",
       "      <td>N</td>\n",
       "      <td>2</td>\n",
       "    </tr>\n",
       "    <tr>\n",
       "      <th>4</th>\n",
       "      <td>4</td>\n",
       "      <td>24</td>\n",
       "      <td>54400</td>\n",
       "      <td>RENT</td>\n",
       "      <td>8.0</td>\n",
       "      <td>MEDICAL</td>\n",
       "      <td>C</td>\n",
       "      <td>35000</td>\n",
       "      <td>14.27</td>\n",
       "      <td>1</td>\n",
       "      <td>0.55</td>\n",
       "      <td>Y</td>\n",
       "      <td>4</td>\n",
       "    </tr>\n",
       "    <tr>\n",
       "      <th>...</th>\n",
       "      <td>...</td>\n",
       "      <td>...</td>\n",
       "      <td>...</td>\n",
       "      <td>...</td>\n",
       "      <td>...</td>\n",
       "      <td>...</td>\n",
       "      <td>...</td>\n",
       "      <td>...</td>\n",
       "      <td>...</td>\n",
       "      <td>...</td>\n",
       "      <td>...</td>\n",
       "      <td>...</td>\n",
       "      <td>...</td>\n",
       "    </tr>\n",
       "    <tr>\n",
       "      <th>32576</th>\n",
       "      <td>32576</td>\n",
       "      <td>57</td>\n",
       "      <td>53000</td>\n",
       "      <td>MORTGAGE</td>\n",
       "      <td>1.0</td>\n",
       "      <td>PERSONAL</td>\n",
       "      <td>C</td>\n",
       "      <td>5800</td>\n",
       "      <td>13.16</td>\n",
       "      <td>0</td>\n",
       "      <td>0.11</td>\n",
       "      <td>N</td>\n",
       "      <td>30</td>\n",
       "    </tr>\n",
       "    <tr>\n",
       "      <th>32577</th>\n",
       "      <td>32577</td>\n",
       "      <td>54</td>\n",
       "      <td>120000</td>\n",
       "      <td>MORTGAGE</td>\n",
       "      <td>4.0</td>\n",
       "      <td>PERSONAL</td>\n",
       "      <td>A</td>\n",
       "      <td>17625</td>\n",
       "      <td>7.49</td>\n",
       "      <td>0</td>\n",
       "      <td>0.15</td>\n",
       "      <td>N</td>\n",
       "      <td>19</td>\n",
       "    </tr>\n",
       "    <tr>\n",
       "      <th>32578</th>\n",
       "      <td>32578</td>\n",
       "      <td>65</td>\n",
       "      <td>76000</td>\n",
       "      <td>RENT</td>\n",
       "      <td>3.0</td>\n",
       "      <td>HOMEIMPROVEMENT</td>\n",
       "      <td>B</td>\n",
       "      <td>35000</td>\n",
       "      <td>10.99</td>\n",
       "      <td>1</td>\n",
       "      <td>0.46</td>\n",
       "      <td>N</td>\n",
       "      <td>28</td>\n",
       "    </tr>\n",
       "    <tr>\n",
       "      <th>32579</th>\n",
       "      <td>32579</td>\n",
       "      <td>56</td>\n",
       "      <td>150000</td>\n",
       "      <td>MORTGAGE</td>\n",
       "      <td>5.0</td>\n",
       "      <td>PERSONAL</td>\n",
       "      <td>B</td>\n",
       "      <td>15000</td>\n",
       "      <td>11.48</td>\n",
       "      <td>0</td>\n",
       "      <td>0.10</td>\n",
       "      <td>N</td>\n",
       "      <td>26</td>\n",
       "    </tr>\n",
       "    <tr>\n",
       "      <th>32580</th>\n",
       "      <td>32580</td>\n",
       "      <td>66</td>\n",
       "      <td>42000</td>\n",
       "      <td>RENT</td>\n",
       "      <td>2.0</td>\n",
       "      <td>MEDICAL</td>\n",
       "      <td>B</td>\n",
       "      <td>6475</td>\n",
       "      <td>9.99</td>\n",
       "      <td>0</td>\n",
       "      <td>0.15</td>\n",
       "      <td>N</td>\n",
       "      <td>30</td>\n",
       "    </tr>\n",
       "  </tbody>\n",
       "</table>\n",
       "<p>32581 rows × 13 columns</p>\n",
       "</div>"
      ],
      "text/plain": [
       "          id  person_age  person_income person_home_ownership  \\\n",
       "0          0          22          59000                  RENT   \n",
       "1          1          21           9600                   OWN   \n",
       "2          2          25           9600              MORTGAGE   \n",
       "3          3          23          65500                  RENT   \n",
       "4          4          24          54400                  RENT   \n",
       "...      ...         ...            ...                   ...   \n",
       "32576  32576          57          53000              MORTGAGE   \n",
       "32577  32577          54         120000              MORTGAGE   \n",
       "32578  32578          65          76000                  RENT   \n",
       "32579  32579          56         150000              MORTGAGE   \n",
       "32580  32580          66          42000                  RENT   \n",
       "\n",
       "       person_emp_length      loan_intent loan_grade  loan_amnt  \\\n",
       "0                  123.0         PERSONAL          D      35000   \n",
       "1                    5.0        EDUCATION          B       1000   \n",
       "2                    1.0          MEDICAL          C       5500   \n",
       "3                    4.0          MEDICAL          C      35000   \n",
       "4                    8.0          MEDICAL          C      35000   \n",
       "...                  ...              ...        ...        ...   \n",
       "32576                1.0         PERSONAL          C       5800   \n",
       "32577                4.0         PERSONAL          A      17625   \n",
       "32578                3.0  HOMEIMPROVEMENT          B      35000   \n",
       "32579                5.0         PERSONAL          B      15000   \n",
       "32580                2.0          MEDICAL          B       6475   \n",
       "\n",
       "       loan_int_rate  loan_status  loan_percent_income  \\\n",
       "0              16.02            1                 0.59   \n",
       "1              11.14            0                 0.10   \n",
       "2              12.87            1                 0.57   \n",
       "3              15.23            1                 0.53   \n",
       "4              14.27            1                 0.55   \n",
       "...              ...          ...                  ...   \n",
       "32576          13.16            0                 0.11   \n",
       "32577           7.49            0                 0.15   \n",
       "32578          10.99            1                 0.46   \n",
       "32579          11.48            0                 0.10   \n",
       "32580           9.99            0                 0.15   \n",
       "\n",
       "      cb_person_default_on_file  cb_person_cred_hist_length  \n",
       "0                             Y                           3  \n",
       "1                             N                           2  \n",
       "2                             N                           3  \n",
       "3                             N                           2  \n",
       "4                             Y                           4  \n",
       "...                         ...                         ...  \n",
       "32576                         N                          30  \n",
       "32577                         N                          19  \n",
       "32578                         N                          28  \n",
       "32579                         N                          26  \n",
       "32580                         N                          30  \n",
       "\n",
       "[32581 rows x 13 columns]"
      ]
     },
     "execution_count": 26,
     "metadata": {},
     "output_type": "execute_result"
    }
   ],
   "source": [
    "df.reset_index(names=\"id\")"
   ]
  },
  {
   "cell_type": "markdown",
   "id": "53d835cf",
   "metadata": {},
   "source": [
    "#### **Adding Columns**\n",
    "\n",
    "Sometimes, we want to add a column to an existing DataFrame. We might want to add new information or perform a calculation based on the data that we already have."
   ]
  },
  {
   "cell_type": "markdown",
   "id": "2bb5d036",
   "metadata": {},
   "source": [
    "One way that we can add a new column is by giving a list of the same length as the existing DataFrame."
   ]
  },
  {
   "cell_type": "code",
   "execution_count": 27,
   "id": "ff9ec592",
   "metadata": {},
   "outputs": [],
   "source": [
    "df[\"List Column\"] = list(range(1, len(df) + 1))"
   ]
  },
  {
   "cell_type": "markdown",
   "id": "98bb1b4d",
   "metadata": {},
   "source": [
    "We can also add a new column that is the same for all rows in the DataFrame. "
   ]
  },
  {
   "cell_type": "code",
   "execution_count": 28,
   "id": "ab52f705",
   "metadata": {},
   "outputs": [],
   "source": [
    "df[\"Constant Column\"] = True"
   ]
  },
  {
   "cell_type": "markdown",
   "id": "585b59c9",
   "metadata": {},
   "source": [
    "Finally, you can add a new column by performing a function on the existing columns."
   ]
  },
  {
   "cell_type": "code",
   "execution_count": 30,
   "id": "193fe990",
   "metadata": {},
   "outputs": [],
   "source": [
    "df[\"Function Column\"] = df.person_age * 0.075"
   ]
  },
  {
   "cell_type": "markdown",
   "id": "2589adca",
   "metadata": {},
   "source": [
    "#### **Column Operations**\n",
    "\n",
    "Often, the column that we want to add is related to existing columns, but requires a calculation more complex than multiplication or addition. We can use the `apply` function to apply a function to every value in a particular column."
   ]
  },
  {
   "cell_type": "code",
   "execution_count": 33,
   "id": "23644c58",
   "metadata": {},
   "outputs": [],
   "source": [
    "df[\"Lowercase\"] = df.loan_intent.apply(str.lower)"
   ]
  },
  {
   "cell_type": "markdown",
   "id": "834b6e27",
   "metadata": {},
   "source": [
    "A lambda function is a way of defining a function in a single line of code. Usually, we would assign them to a variable. We can make our lambdas more complex by using a modified form of an if statement."
   ]
  },
  {
   "cell_type": "code",
   "execution_count": 34,
   "id": "bdc32a7f",
   "metadata": {},
   "outputs": [],
   "source": [
    "def myfunction(x):\n",
    "    if x > 40:\n",
    "        return 40 + (x - 40) * 1.50\n",
    "    else:\n",
    "        return x"
   ]
  },
  {
   "cell_type": "markdown",
   "id": "d45314a8",
   "metadata": {},
   "source": [
    "Below is a lambda function that does the same thing:"
   ]
  },
  {
   "cell_type": "code",
   "execution_count": 35,
   "id": "ddb2db1f",
   "metadata": {},
   "outputs": [],
   "source": [
    "myfunction = lambda x: 40 + (x - 40) * 1.50 if x > 40 else x"
   ]
  },
  {
   "cell_type": "markdown",
   "id": "5a5d2740",
   "metadata": {},
   "source": [
    "In general, the syntax for an if function in a lambda function is:\n",
    "\n",
    "```python\n",
    "lambda x: [OUTCOME IF TRUE] if [CONDITIONAL] else [OUTCOME IF FALSE]\n",
    "```"
   ]
  },
  {
   "cell_type": "markdown",
   "id": "02e78026",
   "metadata": {},
   "source": [
    "In Pandas, we often use lambda functions to perform complex operations on columns. "
   ]
  },
  {
   "cell_type": "code",
   "execution_count": 36,
   "id": "7df40d32",
   "metadata": {},
   "outputs": [],
   "source": [
    "df[\"Lambda Column\"] = df.person_age.apply(myfunction)"
   ]
  },
  {
   "cell_type": "markdown",
   "id": "c498210e",
   "metadata": {},
   "source": [
    "#### **Row Operations**\n",
    "\n",
    "We can also operate on multiple columns at once. If we use `apply` without specifying a single column and add the argument `axis=1`, the input to our lambda function will be an entire row, not a column. To access particular values of the row, we use the syntax `row.column_name` or `row[‘column_name’]`."
   ]
  },
  {
   "cell_type": "code",
   "execution_count": 37,
   "id": "5ebd3c3b",
   "metadata": {},
   "outputs": [],
   "source": [
    "df[\"Row Operation Column\"] = df.apply(\n",
    "    lambda row: (\n",
    "        row[\"person_age\"] + row[\"person_income\"]\n",
    "        if row[\"person_age\"] > 60\n",
    "        else row[\"person_income\"] * 100\n",
    "    ),\n",
    "    axis=1,\n",
    ")"
   ]
  },
  {
   "cell_type": "markdown",
   "id": "a01405ed",
   "metadata": {},
   "source": [
    "If you're working with Pandas, both `np.where()` and `df.apply()` can be used to create new columns based on conditions. However, `np.where()` is almost always better in terms of performance."
   ]
  },
  {
   "cell_type": "code",
   "execution_count": 38,
   "id": "19cff696",
   "metadata": {},
   "outputs": [],
   "source": [
    "df[\"Row Operation Column\"] = np.where(\n",
    "    df[\"person_age\"] > 60, df[\"person_age\"] + df[\"person_income\"], df[\"person_income\"] * 100\n",
    ")"
   ]
  },
  {
   "cell_type": "markdown",
   "id": "c3f10608",
   "metadata": {},
   "source": [
    "If you have more than two conditions, use `np.select()` instead of `np.where()`:"
   ]
  },
  {
   "cell_type": "code",
   "execution_count": 39,
   "id": "2a924b49",
   "metadata": {},
   "outputs": [],
   "source": [
    "conditions = [df[\"person_age\"] > 60, df[\"person_age\"] <= 60, df[\"person_age\"] <= 40]\n",
    "\n",
    "choices = [\n",
    "    df[\"person_age\"] + df[\"person_income\"],\n",
    "    df[\"person_income\"] * 100,\n",
    "    df[\"person_income\"] * 50,\n",
    "]\n",
    "\n",
    "df[\"Multiple Conditional Column\"] = np.select(\n",
    "    conditions, choices, default=df[\"person_income\"] * 145\n",
    ")"
   ]
  },
  {
   "cell_type": "markdown",
   "id": "bc17f7f0",
   "metadata": {},
   "source": [
    "#### **Renaming Columns**\n",
    "\n",
    "When we get our data from other sources, we often want to change the column names. For example, we might want all of the column names to follow variable name rules, so that we can use `df.column_name` (which tab-completes) rather than `df['column_name']` (which takes up extra space).\n",
    "\n",
    "You can change all of the column names at once by setting the `.columns` property to a different list. This is great when you need to change all of the column names at once, but be careful! You can easily mislabel columns if you get the ordering wrong. "
   ]
  },
  {
   "cell_type": "code",
   "execution_count": 40,
   "id": "90139efd",
   "metadata": {},
   "outputs": [
    {
     "data": {
      "text/plain": [
       "Index(['person_age', 'person_income', 'person_home_ownership',\n",
       "       'person_emp_length', 'loan_intent', 'loan_grade', 'loan_amnt',\n",
       "       'loan_int_rate', 'loan_status', 'loan_percent_income',\n",
       "       'cb_person_default_on_file', 'cb_person_cred_hist_length',\n",
       "       'list column', 'constant column', 'function column', 'lowercase',\n",
       "       'lambda column', 'row operation column', 'multiple conditional column'],\n",
       "      dtype='object')"
      ]
     },
     "execution_count": 40,
     "metadata": {},
     "output_type": "execute_result"
    }
   ],
   "source": [
    "new_column_names = [col.lower() for col in df.columns]\n",
    "df.columns = new_column_names\n",
    "df.columns"
   ]
  },
  {
   "cell_type": "markdown",
   "id": "d10bddfb",
   "metadata": {},
   "source": [
    "You also can rename individual columns by using the `.rename` method. Pass a dictionary like the one below to the `columns` keyword argument:"
   ]
  },
  {
   "cell_type": "code",
   "execution_count": 41,
   "id": "28685820",
   "metadata": {},
   "outputs": [
    {
     "data": {
      "text/plain": [
       "Index(['age', 'income', 'person_home_ownership', 'person_emp_length',\n",
       "       'loan_intent', 'loan_grade', 'loan_amnt', 'loan_int_rate',\n",
       "       'loan_status', 'loan_percent_income', 'cb_person_default_on_file',\n",
       "       'cb_person_cred_hist_length', 'list column', 'constant column',\n",
       "       'function column', 'lowercase', 'lambda column', 'row operation column',\n",
       "       'multiple conditional column'],\n",
       "      dtype='object')"
      ]
     },
     "execution_count": 41,
     "metadata": {},
     "output_type": "execute_result"
    }
   ],
   "source": [
    "df.rename(columns={\"person_age\": \"age\", \"person_income\": \"income\"}, inplace=True)\n",
    "df.columns"
   ]
  },
  {
   "cell_type": "markdown",
   "id": "f41fa8b2",
   "metadata": {},
   "source": [
    "Using `rename` with only the columns keyword will create a new `DataFrame`, leaving your original `DataFrame` unchanged. That’s why we also passed in the keyword argument `inplace=True`. Using `inplace=True` lets us edit the original DataFrame. There are several reasons why `.rename` is preferable to `.columns`:\n",
    "- You can rename just one column\n",
    "- You can be specific about which column names are getting changed (with `.column` you can accidentally switch column names if you’re not careful)"
   ]
  },
  {
   "cell_type": "markdown",
   "id": "4728c5e7",
   "metadata": {},
   "source": [
    "### **Aggregation**\n",
    "\n",
    "#### **Group By**\n",
    "\n",
    "In general, we use the following syntax to calculate aggregates:\n",
    "\n",
    "```python\n",
    "df.groupby('column1').column2.measurement()\n",
    "```"
   ]
  },
  {
   "cell_type": "code",
   "execution_count": 42,
   "id": "8f16d94c",
   "metadata": {},
   "outputs": [
    {
     "data": {
      "application/vnd.microsoft.datawrangler.viewer.v0+json": {
       "columns": [
        {
         "name": "loan_intent",
         "rawType": "object",
         "type": "string"
        },
        {
         "name": "age",
         "rawType": "float64",
         "type": "float"
        }
       ],
       "ref": "e186d507-63b6-4f1c-a4f2-537a222ae9a7",
       "rows": [
        [
         "DEBTCONSOLIDATION",
         "27.606293169608595"
        ],
        [
         "EDUCATION",
         "26.588098558809858"
        ],
        [
         "HOMEIMPROVEMENT",
         "29.066574202496533"
        ],
        [
         "MEDICAL",
         "27.998023389886345"
        ],
        [
         "PERSONAL",
         "28.208476725230938"
        ],
        [
         "VENTURE",
         "27.56845602378038"
        ]
       ],
       "shape": {
        "columns": 1,
        "rows": 6
       }
      },
      "text/plain": [
       "loan_intent\n",
       "DEBTCONSOLIDATION    27.606293\n",
       "EDUCATION            26.588099\n",
       "HOMEIMPROVEMENT      29.066574\n",
       "MEDICAL              27.998023\n",
       "PERSONAL             28.208477\n",
       "VENTURE              27.568456\n",
       "Name: age, dtype: float64"
      ]
     },
     "execution_count": 42,
     "metadata": {},
     "output_type": "execute_result"
    }
   ],
   "source": [
    "df.groupby(\"loan_intent\").age.mean()"
   ]
  },
  {
   "cell_type": "markdown",
   "id": "c7b6b72a",
   "metadata": {},
   "source": [
    "As we saw in the previous exercise, the `groupby` function creates a new Series, not a DataFrame. Usually, we’d prefer that those indices were actually a column. In order to get that, we can use `reset_index()`. This will transform our Series into a DataFrame and move the indices into their own column."
   ]
  },
  {
   "cell_type": "code",
   "execution_count": 43,
   "id": "2bc8afd3",
   "metadata": {},
   "outputs": [
    {
     "data": {
      "application/vnd.microsoft.datawrangler.viewer.v0+json": {
       "columns": [
        {
         "name": "index",
         "rawType": "int64",
         "type": "integer"
        },
        {
         "name": "loan_intent",
         "rawType": "object",
         "type": "string"
        },
        {
         "name": "age",
         "rawType": "float64",
         "type": "float"
        }
       ],
       "ref": "5548c4ec-6182-4164-a000-982cd1f07ec6",
       "rows": [
        [
         "0",
         "DEBTCONSOLIDATION",
         "27.606293169608595"
        ],
        [
         "1",
         "EDUCATION",
         "26.588098558809858"
        ],
        [
         "2",
         "HOMEIMPROVEMENT",
         "29.066574202496533"
        ],
        [
         "3",
         "MEDICAL",
         "27.998023389886345"
        ],
        [
         "4",
         "PERSONAL",
         "28.208476725230938"
        ],
        [
         "5",
         "VENTURE",
         "27.56845602378038"
        ]
       ],
       "shape": {
        "columns": 2,
        "rows": 6
       }
      },
      "text/html": [
       "<div>\n",
       "<style scoped>\n",
       "    .dataframe tbody tr th:only-of-type {\n",
       "        vertical-align: middle;\n",
       "    }\n",
       "\n",
       "    .dataframe tbody tr th {\n",
       "        vertical-align: top;\n",
       "    }\n",
       "\n",
       "    .dataframe thead th {\n",
       "        text-align: right;\n",
       "    }\n",
       "</style>\n",
       "<table border=\"1\" class=\"dataframe\">\n",
       "  <thead>\n",
       "    <tr style=\"text-align: right;\">\n",
       "      <th></th>\n",
       "      <th>loan_intent</th>\n",
       "      <th>age</th>\n",
       "    </tr>\n",
       "  </thead>\n",
       "  <tbody>\n",
       "    <tr>\n",
       "      <th>0</th>\n",
       "      <td>DEBTCONSOLIDATION</td>\n",
       "      <td>27.606293</td>\n",
       "    </tr>\n",
       "    <tr>\n",
       "      <th>1</th>\n",
       "      <td>EDUCATION</td>\n",
       "      <td>26.588099</td>\n",
       "    </tr>\n",
       "    <tr>\n",
       "      <th>2</th>\n",
       "      <td>HOMEIMPROVEMENT</td>\n",
       "      <td>29.066574</td>\n",
       "    </tr>\n",
       "    <tr>\n",
       "      <th>3</th>\n",
       "      <td>MEDICAL</td>\n",
       "      <td>27.998023</td>\n",
       "    </tr>\n",
       "    <tr>\n",
       "      <th>4</th>\n",
       "      <td>PERSONAL</td>\n",
       "      <td>28.208477</td>\n",
       "    </tr>\n",
       "    <tr>\n",
       "      <th>5</th>\n",
       "      <td>VENTURE</td>\n",
       "      <td>27.568456</td>\n",
       "    </tr>\n",
       "  </tbody>\n",
       "</table>\n",
       "</div>"
      ],
      "text/plain": [
       "         loan_intent        age\n",
       "0  DEBTCONSOLIDATION  27.606293\n",
       "1          EDUCATION  26.588099\n",
       "2    HOMEIMPROVEMENT  29.066574\n",
       "3            MEDICAL  27.998023\n",
       "4           PERSONAL  28.208477\n",
       "5            VENTURE  27.568456"
      ]
     },
     "execution_count": 43,
     "metadata": {},
     "output_type": "execute_result"
    }
   ],
   "source": [
    "df.groupby(\"loan_intent\").age.mean().reset_index()"
   ]
  },
  {
   "cell_type": "markdown",
   "id": "9069b9e4",
   "metadata": {},
   "source": [
    "Sometimes, the operation that you want to perform is more complicated than `mean` or `count`. In those cases, you can use the `apply` method and `lambda` functions, just like we did for individual column operations. Note that the input to our `lambda` function will always be a list of values."
   ]
  },
  {
   "cell_type": "code",
   "execution_count": 45,
   "id": "c5c33fbc",
   "metadata": {},
   "outputs": [
    {
     "data": {
      "application/vnd.microsoft.datawrangler.viewer.v0+json": {
       "columns": [
        {
         "name": "index",
         "rawType": "int64",
         "type": "integer"
        },
        {
         "name": "loan_intent",
         "rawType": "object",
         "type": "string"
        },
        {
         "name": "income",
         "rawType": "float64",
         "type": "float"
        }
       ],
       "ref": "95c7889d-a0fe-4ee4-8032-c4444d2920fb",
       "rows": [
        [
         "0",
         "DEBTCONSOLIDATION",
         "79000.0"
        ],
        [
         "1",
         "EDUCATION",
         "77533.0"
        ],
        [
         "2",
         "HOMEIMPROVEMENT",
         "90000.0"
        ],
        [
         "3",
         "MEDICAL",
         "72000.0"
        ],
        [
         "4",
         "PERSONAL",
         "80000.0"
        ],
        [
         "5",
         "VENTURE",
         "80000.0"
        ]
       ],
       "shape": {
        "columns": 2,
        "rows": 6
       }
      },
      "text/html": [
       "<div>\n",
       "<style scoped>\n",
       "    .dataframe tbody tr th:only-of-type {\n",
       "        vertical-align: middle;\n",
       "    }\n",
       "\n",
       "    .dataframe tbody tr th {\n",
       "        vertical-align: top;\n",
       "    }\n",
       "\n",
       "    .dataframe thead th {\n",
       "        text-align: right;\n",
       "    }\n",
       "</style>\n",
       "<table border=\"1\" class=\"dataframe\">\n",
       "  <thead>\n",
       "    <tr style=\"text-align: right;\">\n",
       "      <th></th>\n",
       "      <th>loan_intent</th>\n",
       "      <th>income</th>\n",
       "    </tr>\n",
       "  </thead>\n",
       "  <tbody>\n",
       "    <tr>\n",
       "      <th>0</th>\n",
       "      <td>DEBTCONSOLIDATION</td>\n",
       "      <td>79000.0</td>\n",
       "    </tr>\n",
       "    <tr>\n",
       "      <th>1</th>\n",
       "      <td>EDUCATION</td>\n",
       "      <td>77533.0</td>\n",
       "    </tr>\n",
       "    <tr>\n",
       "      <th>2</th>\n",
       "      <td>HOMEIMPROVEMENT</td>\n",
       "      <td>90000.0</td>\n",
       "    </tr>\n",
       "    <tr>\n",
       "      <th>3</th>\n",
       "      <td>MEDICAL</td>\n",
       "      <td>72000.0</td>\n",
       "    </tr>\n",
       "    <tr>\n",
       "      <th>4</th>\n",
       "      <td>PERSONAL</td>\n",
       "      <td>80000.0</td>\n",
       "    </tr>\n",
       "    <tr>\n",
       "      <th>5</th>\n",
       "      <td>VENTURE</td>\n",
       "      <td>80000.0</td>\n",
       "    </tr>\n",
       "  </tbody>\n",
       "</table>\n",
       "</div>"
      ],
      "text/plain": [
       "         loan_intent   income\n",
       "0  DEBTCONSOLIDATION  79000.0\n",
       "1          EDUCATION  77533.0\n",
       "2    HOMEIMPROVEMENT  90000.0\n",
       "3            MEDICAL  72000.0\n",
       "4           PERSONAL  80000.0\n",
       "5            VENTURE  80000.0"
      ]
     },
     "execution_count": 45,
     "metadata": {},
     "output_type": "execute_result"
    }
   ],
   "source": [
    "# np.percentile can calculate any percentile over an array of values\n",
    "df.groupby(\"loan_intent\").income.apply(lambda x: np.percentile(x, 75)).reset_index()"
   ]
  },
  {
   "cell_type": "markdown",
   "id": "42da2be3",
   "metadata": {},
   "source": [
    "Sometimes, we want to group by more than one column. We can easily do this by passing a list of column names into the `groupby` method."
   ]
  },
  {
   "cell_type": "code",
   "execution_count": 46,
   "id": "bd25cdae",
   "metadata": {},
   "outputs": [
    {
     "data": {
      "application/vnd.microsoft.datawrangler.viewer.v0+json": {
       "columns": [
        {
         "name": "index",
         "rawType": "int64",
         "type": "integer"
        },
        {
         "name": "loan_intent",
         "rawType": "object",
         "type": "string"
        },
        {
         "name": "loan_status",
         "rawType": "int64",
         "type": "integer"
        },
        {
         "name": "age",
         "rawType": "float64",
         "type": "float"
        }
       ],
       "ref": "c46be2c7-479c-4b7b-8d31-0a51d6fa0f1b",
       "rows": [
        [
         "0",
         "DEBTCONSOLIDATION",
         "0",
         "27.56501880709296"
        ],
        [
         "1",
         "DEBTCONSOLIDATION",
         "1",
         "27.70939597315436"
        ],
        [
         "2",
         "EDUCATION",
         "0",
         "26.470797454137028"
        ],
        [
         "3",
         "EDUCATION",
         "1",
         "27.152115211521153"
        ],
        [
         "4",
         "HOMEIMPROVEMENT",
         "0",
         "29.55930930930931"
        ],
        [
         "5",
         "HOMEIMPROVEMENT",
         "1",
         "27.67162592986185"
        ],
        [
         "6",
         "MEDICAL",
         "0",
         "28.07932584269663"
        ],
        [
         "7",
         "MEDICAL",
         "1",
         "27.774830351634794"
        ],
        [
         "8",
         "PERSONAL",
         "0",
         "28.41872032557088"
        ],
        [
         "9",
         "PERSONAL",
         "1",
         "27.361566484517304"
        ],
        [
         "10",
         "VENTURE",
         "0",
         "27.695402298850574"
        ],
        [
         "11",
         "VENTURE",
         "1",
         "26.838252656434474"
        ]
       ],
       "shape": {
        "columns": 3,
        "rows": 12
       }
      },
      "text/html": [
       "<div>\n",
       "<style scoped>\n",
       "    .dataframe tbody tr th:only-of-type {\n",
       "        vertical-align: middle;\n",
       "    }\n",
       "\n",
       "    .dataframe tbody tr th {\n",
       "        vertical-align: top;\n",
       "    }\n",
       "\n",
       "    .dataframe thead th {\n",
       "        text-align: right;\n",
       "    }\n",
       "</style>\n",
       "<table border=\"1\" class=\"dataframe\">\n",
       "  <thead>\n",
       "    <tr style=\"text-align: right;\">\n",
       "      <th></th>\n",
       "      <th>loan_intent</th>\n",
       "      <th>loan_status</th>\n",
       "      <th>age</th>\n",
       "    </tr>\n",
       "  </thead>\n",
       "  <tbody>\n",
       "    <tr>\n",
       "      <th>0</th>\n",
       "      <td>DEBTCONSOLIDATION</td>\n",
       "      <td>0</td>\n",
       "      <td>27.565019</td>\n",
       "    </tr>\n",
       "    <tr>\n",
       "      <th>1</th>\n",
       "      <td>DEBTCONSOLIDATION</td>\n",
       "      <td>1</td>\n",
       "      <td>27.709396</td>\n",
       "    </tr>\n",
       "    <tr>\n",
       "      <th>2</th>\n",
       "      <td>EDUCATION</td>\n",
       "      <td>0</td>\n",
       "      <td>26.470797</td>\n",
       "    </tr>\n",
       "    <tr>\n",
       "      <th>3</th>\n",
       "      <td>EDUCATION</td>\n",
       "      <td>1</td>\n",
       "      <td>27.152115</td>\n",
       "    </tr>\n",
       "    <tr>\n",
       "      <th>4</th>\n",
       "      <td>HOMEIMPROVEMENT</td>\n",
       "      <td>0</td>\n",
       "      <td>29.559309</td>\n",
       "    </tr>\n",
       "    <tr>\n",
       "      <th>5</th>\n",
       "      <td>HOMEIMPROVEMENT</td>\n",
       "      <td>1</td>\n",
       "      <td>27.671626</td>\n",
       "    </tr>\n",
       "    <tr>\n",
       "      <th>6</th>\n",
       "      <td>MEDICAL</td>\n",
       "      <td>0</td>\n",
       "      <td>28.079326</td>\n",
       "    </tr>\n",
       "    <tr>\n",
       "      <th>7</th>\n",
       "      <td>MEDICAL</td>\n",
       "      <td>1</td>\n",
       "      <td>27.774830</td>\n",
       "    </tr>\n",
       "    <tr>\n",
       "      <th>8</th>\n",
       "      <td>PERSONAL</td>\n",
       "      <td>0</td>\n",
       "      <td>28.418720</td>\n",
       "    </tr>\n",
       "    <tr>\n",
       "      <th>9</th>\n",
       "      <td>PERSONAL</td>\n",
       "      <td>1</td>\n",
       "      <td>27.361566</td>\n",
       "    </tr>\n",
       "    <tr>\n",
       "      <th>10</th>\n",
       "      <td>VENTURE</td>\n",
       "      <td>0</td>\n",
       "      <td>27.695402</td>\n",
       "    </tr>\n",
       "    <tr>\n",
       "      <th>11</th>\n",
       "      <td>VENTURE</td>\n",
       "      <td>1</td>\n",
       "      <td>26.838253</td>\n",
       "    </tr>\n",
       "  </tbody>\n",
       "</table>\n",
       "</div>"
      ],
      "text/plain": [
       "          loan_intent  loan_status        age\n",
       "0   DEBTCONSOLIDATION            0  27.565019\n",
       "1   DEBTCONSOLIDATION            1  27.709396\n",
       "2           EDUCATION            0  26.470797\n",
       "3           EDUCATION            1  27.152115\n",
       "4     HOMEIMPROVEMENT            0  29.559309\n",
       "5     HOMEIMPROVEMENT            1  27.671626\n",
       "6             MEDICAL            0  28.079326\n",
       "7             MEDICAL            1  27.774830\n",
       "8            PERSONAL            0  28.418720\n",
       "9            PERSONAL            1  27.361566\n",
       "10            VENTURE            0  27.695402\n",
       "11            VENTURE            1  26.838253"
      ]
     },
     "execution_count": 46,
     "metadata": {},
     "output_type": "execute_result"
    }
   ],
   "source": [
    "df.groupby([\"loan_intent\", \"loan_status\"]).age.mean().reset_index()"
   ]
  },
  {
   "cell_type": "markdown",
   "id": "c6b7c5b4",
   "metadata": {},
   "source": [
    "We can also perform multiple aggregations on a single column."
   ]
  },
  {
   "cell_type": "code",
   "execution_count": 48,
   "id": "0f45f4f2",
   "metadata": {},
   "outputs": [
    {
     "data": {
      "application/vnd.microsoft.datawrangler.viewer.v0+json": {
       "columns": [
        {
         "name": "index",
         "rawType": "int64",
         "type": "integer"
        },
        {
         "name": "loan_intent",
         "rawType": "object",
         "type": "string"
        },
        {
         "name": "mean",
         "rawType": "float64",
         "type": "float"
        },
        {
         "name": "median",
         "rawType": "float64",
         "type": "float"
        },
        {
         "name": "std",
         "rawType": "float64",
         "type": "float"
        }
       ],
       "ref": "79f466bf-3843-4f20-92f4-5070752cb589",
       "rows": [
        [
         "0",
         "DEBTCONSOLIDATION",
         "66470.87624712203",
         "55000.0",
         "54214.87550251014"
        ],
        [
         "1",
         "EDUCATION",
         "64135.19913218658",
         "55000.0",
         "46184.51620539439"
        ],
        [
         "2",
         "HOMEIMPROVEMENT",
         "73549.47045769764",
         "64000.0",
         "50449.3012117256"
        ],
        [
         "3",
         "MEDICAL",
         "61437.22714544556",
         "50000.0",
         "51180.281187397195"
        ],
        [
         "4",
         "PERSONAL",
         "67864.14127875384",
         "55000.0",
         "98095.68179009577"
        ],
        [
         "5",
         "VENTURE",
         "66386.57457597482",
         "55000.0",
         "55361.70844938546"
        ]
       ],
       "shape": {
        "columns": 4,
        "rows": 6
       }
      },
      "text/html": [
       "<div>\n",
       "<style scoped>\n",
       "    .dataframe tbody tr th:only-of-type {\n",
       "        vertical-align: middle;\n",
       "    }\n",
       "\n",
       "    .dataframe tbody tr th {\n",
       "        vertical-align: top;\n",
       "    }\n",
       "\n",
       "    .dataframe thead th {\n",
       "        text-align: right;\n",
       "    }\n",
       "</style>\n",
       "<table border=\"1\" class=\"dataframe\">\n",
       "  <thead>\n",
       "    <tr style=\"text-align: right;\">\n",
       "      <th></th>\n",
       "      <th>loan_intent</th>\n",
       "      <th>mean</th>\n",
       "      <th>median</th>\n",
       "      <th>std</th>\n",
       "    </tr>\n",
       "  </thead>\n",
       "  <tbody>\n",
       "    <tr>\n",
       "      <th>0</th>\n",
       "      <td>DEBTCONSOLIDATION</td>\n",
       "      <td>66470.876247</td>\n",
       "      <td>55000.0</td>\n",
       "      <td>54214.875503</td>\n",
       "    </tr>\n",
       "    <tr>\n",
       "      <th>1</th>\n",
       "      <td>EDUCATION</td>\n",
       "      <td>64135.199132</td>\n",
       "      <td>55000.0</td>\n",
       "      <td>46184.516205</td>\n",
       "    </tr>\n",
       "    <tr>\n",
       "      <th>2</th>\n",
       "      <td>HOMEIMPROVEMENT</td>\n",
       "      <td>73549.470458</td>\n",
       "      <td>64000.0</td>\n",
       "      <td>50449.301212</td>\n",
       "    </tr>\n",
       "    <tr>\n",
       "      <th>3</th>\n",
       "      <td>MEDICAL</td>\n",
       "      <td>61437.227145</td>\n",
       "      <td>50000.0</td>\n",
       "      <td>51180.281187</td>\n",
       "    </tr>\n",
       "    <tr>\n",
       "      <th>4</th>\n",
       "      <td>PERSONAL</td>\n",
       "      <td>67864.141279</td>\n",
       "      <td>55000.0</td>\n",
       "      <td>98095.681790</td>\n",
       "    </tr>\n",
       "    <tr>\n",
       "      <th>5</th>\n",
       "      <td>VENTURE</td>\n",
       "      <td>66386.574576</td>\n",
       "      <td>55000.0</td>\n",
       "      <td>55361.708449</td>\n",
       "    </tr>\n",
       "  </tbody>\n",
       "</table>\n",
       "</div>"
      ],
      "text/plain": [
       "         loan_intent          mean   median           std\n",
       "0  DEBTCONSOLIDATION  66470.876247  55000.0  54214.875503\n",
       "1          EDUCATION  64135.199132  55000.0  46184.516205\n",
       "2    HOMEIMPROVEMENT  73549.470458  64000.0  50449.301212\n",
       "3            MEDICAL  61437.227145  50000.0  51180.281187\n",
       "4           PERSONAL  67864.141279  55000.0  98095.681790\n",
       "5            VENTURE  66386.574576  55000.0  55361.708449"
      ]
     },
     "execution_count": 48,
     "metadata": {},
     "output_type": "execute_result"
    }
   ],
   "source": [
    "df.groupby(\"loan_intent\").income.agg([\"mean\", \"median\", \"std\"]).reset_index()"
   ]
  },
  {
   "cell_type": "markdown",
   "id": "e8d33022",
   "metadata": {},
   "source": [
    "You can finally perform multiple aggregations on multiple grouping columns."
   ]
  },
  {
   "cell_type": "code",
   "execution_count": 49,
   "id": "477cbfe8",
   "metadata": {},
   "outputs": [
    {
     "data": {
      "application/vnd.microsoft.datawrangler.viewer.v0+json": {
       "columns": [
        {
         "name": "index",
         "rawType": "int64",
         "type": "integer"
        },
        {
         "name": "('loan_intent', '')",
         "rawType": "object",
         "type": "string"
        },
        {
         "name": "('loan_status', '')",
         "rawType": "int64",
         "type": "integer"
        },
        {
         "name": "('age', 'mean')",
         "rawType": "float64",
         "type": "float"
        },
        {
         "name": "('age', 'median')",
         "rawType": "float64",
         "type": "float"
        },
        {
         "name": "('income', 'mean')",
         "rawType": "float64",
         "type": "float"
        },
        {
         "name": "('income', 'median')",
         "rawType": "float64",
         "type": "float"
        }
       ],
       "ref": "c504993c-3963-4f46-a7f1-f9b8dc7206ce",
       "rows": [
        [
         "0",
         "DEBTCONSOLIDATION",
         "0",
         "27.56501880709296",
         "26.0",
         "71588.91429339066",
         "60000.0"
        ],
        [
         "1",
         "DEBTCONSOLIDATION",
         "1",
         "27.70939597315436",
         "26.0",
         "53686.085906040265",
         "44000.0"
        ],
        [
         "2",
         "EDUCATION",
         "0",
         "26.470797454137028",
         "24.0",
         "67745.39479595657",
         "59178.0"
        ],
        [
         "3",
         "EDUCATION",
         "1",
         "27.152115211521153",
         "25.0",
         "46776.36453645364",
         "39912.0"
        ],
        [
         "4",
         "HOMEIMPROVEMENT",
         "0",
         "29.55930930930931",
         "28.0",
         "82085.3352102102",
         "70278.0"
        ],
        [
         "5",
         "HOMEIMPROVEMENT",
         "1",
         "27.67162592986185",
         "26.0",
         "49384.174282678",
         "40574.0"
        ],
        [
         "6",
         "MEDICAL",
         "0",
         "28.07932584269663",
         "26.0",
         "65422.364494382025",
         "54000.0"
        ],
        [
         "7",
         "MEDICAL",
         "1",
         "27.774830351634794",
         "26.0",
         "50497.152375077116",
         "44000.0"
        ],
        [
         "8",
         "PERSONAL",
         "0",
         "28.41872032557088",
         "26.0",
         "73055.19217725526",
         "60000.0"
        ],
        [
         "9",
         "PERSONAL",
         "1",
         "27.361566484517304",
         "26.0",
         "46953.377959927144",
         "39000.0"
        ],
        [
         "10",
         "VENTURE",
         "0",
         "27.695402298850574",
         "26.0",
         "70263.07348111659",
         "60000.0"
        ],
        [
         "11",
         "VENTURE",
         "1",
         "26.838252656434474",
         "25.0",
         "44088.696576151124",
         "36900.0"
        ]
       ],
       "shape": {
        "columns": 6,
        "rows": 12
       }
      },
      "text/html": [
       "<div>\n",
       "<style scoped>\n",
       "    .dataframe tbody tr th:only-of-type {\n",
       "        vertical-align: middle;\n",
       "    }\n",
       "\n",
       "    .dataframe tbody tr th {\n",
       "        vertical-align: top;\n",
       "    }\n",
       "\n",
       "    .dataframe thead tr th {\n",
       "        text-align: left;\n",
       "    }\n",
       "</style>\n",
       "<table border=\"1\" class=\"dataframe\">\n",
       "  <thead>\n",
       "    <tr>\n",
       "      <th></th>\n",
       "      <th>loan_intent</th>\n",
       "      <th>loan_status</th>\n",
       "      <th colspan=\"2\" halign=\"left\">age</th>\n",
       "      <th colspan=\"2\" halign=\"left\">income</th>\n",
       "    </tr>\n",
       "    <tr>\n",
       "      <th></th>\n",
       "      <th></th>\n",
       "      <th></th>\n",
       "      <th>mean</th>\n",
       "      <th>median</th>\n",
       "      <th>mean</th>\n",
       "      <th>median</th>\n",
       "    </tr>\n",
       "  </thead>\n",
       "  <tbody>\n",
       "    <tr>\n",
       "      <th>0</th>\n",
       "      <td>DEBTCONSOLIDATION</td>\n",
       "      <td>0</td>\n",
       "      <td>27.565019</td>\n",
       "      <td>26.0</td>\n",
       "      <td>71588.914293</td>\n",
       "      <td>60000.0</td>\n",
       "    </tr>\n",
       "    <tr>\n",
       "      <th>1</th>\n",
       "      <td>DEBTCONSOLIDATION</td>\n",
       "      <td>1</td>\n",
       "      <td>27.709396</td>\n",
       "      <td>26.0</td>\n",
       "      <td>53686.085906</td>\n",
       "      <td>44000.0</td>\n",
       "    </tr>\n",
       "    <tr>\n",
       "      <th>2</th>\n",
       "      <td>EDUCATION</td>\n",
       "      <td>0</td>\n",
       "      <td>26.470797</td>\n",
       "      <td>24.0</td>\n",
       "      <td>67745.394796</td>\n",
       "      <td>59178.0</td>\n",
       "    </tr>\n",
       "    <tr>\n",
       "      <th>3</th>\n",
       "      <td>EDUCATION</td>\n",
       "      <td>1</td>\n",
       "      <td>27.152115</td>\n",
       "      <td>25.0</td>\n",
       "      <td>46776.364536</td>\n",
       "      <td>39912.0</td>\n",
       "    </tr>\n",
       "    <tr>\n",
       "      <th>4</th>\n",
       "      <td>HOMEIMPROVEMENT</td>\n",
       "      <td>0</td>\n",
       "      <td>29.559309</td>\n",
       "      <td>28.0</td>\n",
       "      <td>82085.335210</td>\n",
       "      <td>70278.0</td>\n",
       "    </tr>\n",
       "    <tr>\n",
       "      <th>5</th>\n",
       "      <td>HOMEIMPROVEMENT</td>\n",
       "      <td>1</td>\n",
       "      <td>27.671626</td>\n",
       "      <td>26.0</td>\n",
       "      <td>49384.174283</td>\n",
       "      <td>40574.0</td>\n",
       "    </tr>\n",
       "    <tr>\n",
       "      <th>6</th>\n",
       "      <td>MEDICAL</td>\n",
       "      <td>0</td>\n",
       "      <td>28.079326</td>\n",
       "      <td>26.0</td>\n",
       "      <td>65422.364494</td>\n",
       "      <td>54000.0</td>\n",
       "    </tr>\n",
       "    <tr>\n",
       "      <th>7</th>\n",
       "      <td>MEDICAL</td>\n",
       "      <td>1</td>\n",
       "      <td>27.774830</td>\n",
       "      <td>26.0</td>\n",
       "      <td>50497.152375</td>\n",
       "      <td>44000.0</td>\n",
       "    </tr>\n",
       "    <tr>\n",
       "      <th>8</th>\n",
       "      <td>PERSONAL</td>\n",
       "      <td>0</td>\n",
       "      <td>28.418720</td>\n",
       "      <td>26.0</td>\n",
       "      <td>73055.192177</td>\n",
       "      <td>60000.0</td>\n",
       "    </tr>\n",
       "    <tr>\n",
       "      <th>9</th>\n",
       "      <td>PERSONAL</td>\n",
       "      <td>1</td>\n",
       "      <td>27.361566</td>\n",
       "      <td>26.0</td>\n",
       "      <td>46953.377960</td>\n",
       "      <td>39000.0</td>\n",
       "    </tr>\n",
       "    <tr>\n",
       "      <th>10</th>\n",
       "      <td>VENTURE</td>\n",
       "      <td>0</td>\n",
       "      <td>27.695402</td>\n",
       "      <td>26.0</td>\n",
       "      <td>70263.073481</td>\n",
       "      <td>60000.0</td>\n",
       "    </tr>\n",
       "    <tr>\n",
       "      <th>11</th>\n",
       "      <td>VENTURE</td>\n",
       "      <td>1</td>\n",
       "      <td>26.838253</td>\n",
       "      <td>25.0</td>\n",
       "      <td>44088.696576</td>\n",
       "      <td>36900.0</td>\n",
       "    </tr>\n",
       "  </tbody>\n",
       "</table>\n",
       "</div>"
      ],
      "text/plain": [
       "          loan_intent loan_status        age               income         \n",
       "                                        mean median          mean   median\n",
       "0   DEBTCONSOLIDATION           0  27.565019   26.0  71588.914293  60000.0\n",
       "1   DEBTCONSOLIDATION           1  27.709396   26.0  53686.085906  44000.0\n",
       "2           EDUCATION           0  26.470797   24.0  67745.394796  59178.0\n",
       "3           EDUCATION           1  27.152115   25.0  46776.364536  39912.0\n",
       "4     HOMEIMPROVEMENT           0  29.559309   28.0  82085.335210  70278.0\n",
       "5     HOMEIMPROVEMENT           1  27.671626   26.0  49384.174283  40574.0\n",
       "6             MEDICAL           0  28.079326   26.0  65422.364494  54000.0\n",
       "7             MEDICAL           1  27.774830   26.0  50497.152375  44000.0\n",
       "8            PERSONAL           0  28.418720   26.0  73055.192177  60000.0\n",
       "9            PERSONAL           1  27.361566   26.0  46953.377960  39000.0\n",
       "10            VENTURE           0  27.695402   26.0  70263.073481  60000.0\n",
       "11            VENTURE           1  26.838253   25.0  44088.696576  36900.0"
      ]
     },
     "execution_count": 49,
     "metadata": {},
     "output_type": "execute_result"
    }
   ],
   "source": [
    "df.groupby([\"loan_intent\", \"loan_status\"]).agg(\n",
    "    {\"age\": [\"mean\", \"median\"], \"income\": [\"mean\", \"median\"]}\n",
    ").reset_index()"
   ]
  },
  {
   "cell_type": "markdown",
   "id": "fd43495e",
   "metadata": {},
   "source": [
    "#### **Pivot Tables**\n",
    "\n",
    "When we perform a groupby across multiple columns, we often want to change how our data is stored. Reorganizing a table in this way is called pivoting. The new table is called a pivot table.\n",
    "\n",
    "```python\n",
    "df.pivot(columns='ColumnToPivot',\n",
    "         index='ColumnToBeRows',\n",
    "         values='ColumnToBeValues')\n",
    "```\n",
    "\n",
    "Just like with groupby, the output of a pivot command is a new DataFrame, but the indexing tends to be “weird”, so we usually follow up with `.reset_index()`."
   ]
  },
  {
   "cell_type": "code",
   "execution_count": 50,
   "id": "b5c3db88",
   "metadata": {},
   "outputs": [
    {
     "data": {
      "application/vnd.microsoft.datawrangler.viewer.v0+json": {
       "columns": [
        {
         "name": "loan_intent",
         "rawType": "object",
         "type": "string"
        },
        {
         "name": "0",
         "rawType": "float64",
         "type": "float"
        },
        {
         "name": "1",
         "rawType": "float64",
         "type": "float"
        }
       ],
       "ref": "256b53bb-8040-44af-9152-9f71328842cb",
       "rows": [
        [
         "DEBTCONSOLIDATION",
         "27.56501880709296",
         "27.70939597315436"
        ],
        [
         "EDUCATION",
         "26.470797454137028",
         "27.152115211521153"
        ],
        [
         "HOMEIMPROVEMENT",
         "29.55930930930931",
         "27.67162592986185"
        ],
        [
         "MEDICAL",
         "28.07932584269663",
         "27.774830351634794"
        ],
        [
         "PERSONAL",
         "28.41872032557088",
         "27.361566484517304"
        ],
        [
         "VENTURE",
         "27.695402298850574",
         "26.838252656434474"
        ]
       ],
       "shape": {
        "columns": 2,
        "rows": 6
       }
      },
      "text/html": [
       "<div>\n",
       "<style scoped>\n",
       "    .dataframe tbody tr th:only-of-type {\n",
       "        vertical-align: middle;\n",
       "    }\n",
       "\n",
       "    .dataframe tbody tr th {\n",
       "        vertical-align: top;\n",
       "    }\n",
       "\n",
       "    .dataframe thead th {\n",
       "        text-align: right;\n",
       "    }\n",
       "</style>\n",
       "<table border=\"1\" class=\"dataframe\">\n",
       "  <thead>\n",
       "    <tr style=\"text-align: right;\">\n",
       "      <th>loan_status</th>\n",
       "      <th>0</th>\n",
       "      <th>1</th>\n",
       "    </tr>\n",
       "    <tr>\n",
       "      <th>loan_intent</th>\n",
       "      <th></th>\n",
       "      <th></th>\n",
       "    </tr>\n",
       "  </thead>\n",
       "  <tbody>\n",
       "    <tr>\n",
       "      <th>DEBTCONSOLIDATION</th>\n",
       "      <td>27.565019</td>\n",
       "      <td>27.709396</td>\n",
       "    </tr>\n",
       "    <tr>\n",
       "      <th>EDUCATION</th>\n",
       "      <td>26.470797</td>\n",
       "      <td>27.152115</td>\n",
       "    </tr>\n",
       "    <tr>\n",
       "      <th>HOMEIMPROVEMENT</th>\n",
       "      <td>29.559309</td>\n",
       "      <td>27.671626</td>\n",
       "    </tr>\n",
       "    <tr>\n",
       "      <th>MEDICAL</th>\n",
       "      <td>28.079326</td>\n",
       "      <td>27.774830</td>\n",
       "    </tr>\n",
       "    <tr>\n",
       "      <th>PERSONAL</th>\n",
       "      <td>28.418720</td>\n",
       "      <td>27.361566</td>\n",
       "    </tr>\n",
       "    <tr>\n",
       "      <th>VENTURE</th>\n",
       "      <td>27.695402</td>\n",
       "      <td>26.838253</td>\n",
       "    </tr>\n",
       "  </tbody>\n",
       "</table>\n",
       "</div>"
      ],
      "text/plain": [
       "loan_status                0          1\n",
       "loan_intent                            \n",
       "DEBTCONSOLIDATION  27.565019  27.709396\n",
       "EDUCATION          26.470797  27.152115\n",
       "HOMEIMPROVEMENT    29.559309  27.671626\n",
       "MEDICAL            28.079326  27.774830\n",
       "PERSONAL           28.418720  27.361566\n",
       "VENTURE            27.695402  26.838253"
      ]
     },
     "execution_count": 50,
     "metadata": {},
     "output_type": "execute_result"
    }
   ],
   "source": [
    "age_mean_df = df.groupby([\"loan_intent\", \"loan_status\"]).age.mean().reset_index()\n",
    "\n",
    "age_mean_pivot = age_mean_df.pivot(index=\"loan_intent\", columns=\"loan_status\", values=\"age\")\n",
    "age_mean_pivot"
   ]
  },
  {
   "cell_type": "markdown",
   "id": "564632f2",
   "metadata": {},
   "source": [
    "Alternatively, the grouping can be performed in the pivot table itself."
   ]
  },
  {
   "cell_type": "code",
   "execution_count": 52,
   "id": "6d4a9124",
   "metadata": {},
   "outputs": [
    {
     "data": {
      "application/vnd.microsoft.datawrangler.viewer.v0+json": {
       "columns": [
        {
         "name": "loan_intent",
         "rawType": "object",
         "type": "string"
        },
        {
         "name": "0",
         "rawType": "int64",
         "type": "integer"
        },
        {
         "name": "1",
         "rawType": "int64",
         "type": "integer"
        }
       ],
       "ref": "9535475e-ac5a-4ad0-be22-0809cd67c9bf",
       "rows": [
        [
         "DEBTCONSOLIDATION",
         "60",
         "70"
        ],
        [
         "EDUCATION",
         "144",
         "66"
        ],
        [
         "HOMEIMPROVEMENT",
         "64",
         "65"
        ],
        [
         "MEDICAL",
         "94",
         "70"
        ],
        [
         "PERSONAL",
         "144",
         "61"
        ],
        [
         "VENTURE",
         "144",
         "60"
        ]
       ],
       "shape": {
        "columns": 2,
        "rows": 6
       }
      },
      "text/html": [
       "<div>\n",
       "<style scoped>\n",
       "    .dataframe tbody tr th:only-of-type {\n",
       "        vertical-align: middle;\n",
       "    }\n",
       "\n",
       "    .dataframe tbody tr th {\n",
       "        vertical-align: top;\n",
       "    }\n",
       "\n",
       "    .dataframe thead th {\n",
       "        text-align: right;\n",
       "    }\n",
       "</style>\n",
       "<table border=\"1\" class=\"dataframe\">\n",
       "  <thead>\n",
       "    <tr style=\"text-align: right;\">\n",
       "      <th>loan_status</th>\n",
       "      <th>0</th>\n",
       "      <th>1</th>\n",
       "    </tr>\n",
       "    <tr>\n",
       "      <th>loan_intent</th>\n",
       "      <th></th>\n",
       "      <th></th>\n",
       "    </tr>\n",
       "  </thead>\n",
       "  <tbody>\n",
       "    <tr>\n",
       "      <th>DEBTCONSOLIDATION</th>\n",
       "      <td>60</td>\n",
       "      <td>70</td>\n",
       "    </tr>\n",
       "    <tr>\n",
       "      <th>EDUCATION</th>\n",
       "      <td>144</td>\n",
       "      <td>66</td>\n",
       "    </tr>\n",
       "    <tr>\n",
       "      <th>HOMEIMPROVEMENT</th>\n",
       "      <td>64</td>\n",
       "      <td>65</td>\n",
       "    </tr>\n",
       "    <tr>\n",
       "      <th>MEDICAL</th>\n",
       "      <td>94</td>\n",
       "      <td>70</td>\n",
       "    </tr>\n",
       "    <tr>\n",
       "      <th>PERSONAL</th>\n",
       "      <td>144</td>\n",
       "      <td>61</td>\n",
       "    </tr>\n",
       "    <tr>\n",
       "      <th>VENTURE</th>\n",
       "      <td>144</td>\n",
       "      <td>60</td>\n",
       "    </tr>\n",
       "  </tbody>\n",
       "</table>\n",
       "</div>"
      ],
      "text/plain": [
       "loan_status          0   1\n",
       "loan_intent               \n",
       "DEBTCONSOLIDATION   60  70\n",
       "EDUCATION          144  66\n",
       "HOMEIMPROVEMENT     64  65\n",
       "MEDICAL             94  70\n",
       "PERSONAL           144  61\n",
       "VENTURE            144  60"
      ]
     },
     "execution_count": 52,
     "metadata": {},
     "output_type": "execute_result"
    }
   ],
   "source": [
    "df.pivot_table(index=\"loan_intent\", columns=\"loan_status\", values=\"age\", aggfunc=\"max\")"
   ]
  },
  {
   "cell_type": "markdown",
   "id": "338ba2ef",
   "metadata": {},
   "source": [
    "### **Multiple Tables**\n",
    "\n",
    "#### **Merging**\n",
    "\n",
    "The `.merge()` method looks for columns that are common between two DataFrames and then looks for rows where those column’s values are the same. It then combines the matching rows into a single row in a new table."
   ]
  },
  {
   "cell_type": "code",
   "execution_count": 54,
   "id": "6630c8fa",
   "metadata": {},
   "outputs": [
    {
     "data": {
      "application/vnd.microsoft.datawrangler.viewer.v0+json": {
       "columns": [
        {
         "name": "index",
         "rawType": "int64",
         "type": "integer"
        },
        {
         "name": "age",
         "rawType": "int64",
         "type": "integer"
        },
        {
         "name": "income",
         "rawType": "int64",
         "type": "integer"
        },
        {
         "name": "person_home_ownership",
         "rawType": "object",
         "type": "string"
        },
        {
         "name": "person_emp_length",
         "rawType": "float64",
         "type": "float"
        },
        {
         "name": "loan_intent",
         "rawType": "object",
         "type": "string"
        },
        {
         "name": "loan_grade",
         "rawType": "object",
         "type": "string"
        },
        {
         "name": "loan_amnt",
         "rawType": "int64",
         "type": "integer"
        },
        {
         "name": "loan_int_rate",
         "rawType": "float64",
         "type": "float"
        },
        {
         "name": "loan_status",
         "rawType": "int64",
         "type": "integer"
        },
        {
         "name": "loan_percent_income",
         "rawType": "float64",
         "type": "float"
        },
        {
         "name": "cb_person_default_on_file",
         "rawType": "object",
         "type": "string"
        },
        {
         "name": "cb_person_cred_hist_length",
         "rawType": "int64",
         "type": "integer"
        },
        {
         "name": "list column",
         "rawType": "int64",
         "type": "integer"
        },
        {
         "name": "constant column",
         "rawType": "bool",
         "type": "boolean"
        },
        {
         "name": "function column",
         "rawType": "float64",
         "type": "float"
        },
        {
         "name": "lowercase",
         "rawType": "object",
         "type": "string"
        },
        {
         "name": "lambda column",
         "rawType": "float64",
         "type": "float"
        },
        {
         "name": "row operation column",
         "rawType": "int64",
         "type": "integer"
        },
        {
         "name": "multiple conditional column",
         "rawType": "int64",
         "type": "integer"
        },
        {
         "name": "age_mean",
         "rawType": "float64",
         "type": "float"
        }
       ],
       "ref": "f82072a9-e22f-4d2f-9ec1-5d4fac4afb25",
       "rows": [
        [
         "0",
         "22",
         "59000",
         "RENT",
         "123.0",
         "PERSONAL",
         "D",
         "35000",
         "16.02",
         "1",
         "0.59",
         "Y",
         "3",
         "1",
         "True",
         "1.65",
         "personal",
         "22.0",
         "5900000",
         "5900000",
         "27.361566484517304"
        ],
        [
         "1",
         "21",
         "9600",
         "OWN",
         "5.0",
         "EDUCATION",
         "B",
         "1000",
         "11.14",
         "0",
         "0.1",
         "N",
         "2",
         "2",
         "True",
         "1.575",
         "education",
         "21.0",
         "960000",
         "960000",
         "26.470797454137028"
        ],
        [
         "2",
         "25",
         "9600",
         "MORTGAGE",
         "1.0",
         "MEDICAL",
         "C",
         "5500",
         "12.87",
         "1",
         "0.57",
         "N",
         "3",
         "3",
         "True",
         "1.875",
         "medical",
         "25.0",
         "960000",
         "960000",
         "27.774830351634794"
        ],
        [
         "3",
         "23",
         "65500",
         "RENT",
         "4.0",
         "MEDICAL",
         "C",
         "35000",
         "15.23",
         "1",
         "0.53",
         "N",
         "2",
         "4",
         "True",
         "1.7249999999999999",
         "medical",
         "23.0",
         "6550000",
         "6550000",
         "27.774830351634794"
        ],
        [
         "4",
         "24",
         "54400",
         "RENT",
         "8.0",
         "MEDICAL",
         "C",
         "35000",
         "14.27",
         "1",
         "0.55",
         "Y",
         "4",
         "5",
         "True",
         "1.7999999999999998",
         "medical",
         "24.0",
         "5440000",
         "5440000",
         "27.774830351634794"
        ]
       ],
       "shape": {
        "columns": 20,
        "rows": 5
       }
      },
      "text/html": [
       "<div>\n",
       "<style scoped>\n",
       "    .dataframe tbody tr th:only-of-type {\n",
       "        vertical-align: middle;\n",
       "    }\n",
       "\n",
       "    .dataframe tbody tr th {\n",
       "        vertical-align: top;\n",
       "    }\n",
       "\n",
       "    .dataframe thead th {\n",
       "        text-align: right;\n",
       "    }\n",
       "</style>\n",
       "<table border=\"1\" class=\"dataframe\">\n",
       "  <thead>\n",
       "    <tr style=\"text-align: right;\">\n",
       "      <th></th>\n",
       "      <th>age</th>\n",
       "      <th>income</th>\n",
       "      <th>person_home_ownership</th>\n",
       "      <th>person_emp_length</th>\n",
       "      <th>loan_intent</th>\n",
       "      <th>loan_grade</th>\n",
       "      <th>loan_amnt</th>\n",
       "      <th>loan_int_rate</th>\n",
       "      <th>loan_status</th>\n",
       "      <th>loan_percent_income</th>\n",
       "      <th>cb_person_default_on_file</th>\n",
       "      <th>cb_person_cred_hist_length</th>\n",
       "      <th>list column</th>\n",
       "      <th>constant column</th>\n",
       "      <th>function column</th>\n",
       "      <th>lowercase</th>\n",
       "      <th>lambda column</th>\n",
       "      <th>row operation column</th>\n",
       "      <th>multiple conditional column</th>\n",
       "      <th>age_mean</th>\n",
       "    </tr>\n",
       "  </thead>\n",
       "  <tbody>\n",
       "    <tr>\n",
       "      <th>0</th>\n",
       "      <td>22</td>\n",
       "      <td>59000</td>\n",
       "      <td>RENT</td>\n",
       "      <td>123.0</td>\n",
       "      <td>PERSONAL</td>\n",
       "      <td>D</td>\n",
       "      <td>35000</td>\n",
       "      <td>16.02</td>\n",
       "      <td>1</td>\n",
       "      <td>0.59</td>\n",
       "      <td>Y</td>\n",
       "      <td>3</td>\n",
       "      <td>1</td>\n",
       "      <td>True</td>\n",
       "      <td>1.650</td>\n",
       "      <td>personal</td>\n",
       "      <td>22.0</td>\n",
       "      <td>5900000</td>\n",
       "      <td>5900000</td>\n",
       "      <td>27.361566</td>\n",
       "    </tr>\n",
       "    <tr>\n",
       "      <th>1</th>\n",
       "      <td>21</td>\n",
       "      <td>9600</td>\n",
       "      <td>OWN</td>\n",
       "      <td>5.0</td>\n",
       "      <td>EDUCATION</td>\n",
       "      <td>B</td>\n",
       "      <td>1000</td>\n",
       "      <td>11.14</td>\n",
       "      <td>0</td>\n",
       "      <td>0.10</td>\n",
       "      <td>N</td>\n",
       "      <td>2</td>\n",
       "      <td>2</td>\n",
       "      <td>True</td>\n",
       "      <td>1.575</td>\n",
       "      <td>education</td>\n",
       "      <td>21.0</td>\n",
       "      <td>960000</td>\n",
       "      <td>960000</td>\n",
       "      <td>26.470797</td>\n",
       "    </tr>\n",
       "    <tr>\n",
       "      <th>2</th>\n",
       "      <td>25</td>\n",
       "      <td>9600</td>\n",
       "      <td>MORTGAGE</td>\n",
       "      <td>1.0</td>\n",
       "      <td>MEDICAL</td>\n",
       "      <td>C</td>\n",
       "      <td>5500</td>\n",
       "      <td>12.87</td>\n",
       "      <td>1</td>\n",
       "      <td>0.57</td>\n",
       "      <td>N</td>\n",
       "      <td>3</td>\n",
       "      <td>3</td>\n",
       "      <td>True</td>\n",
       "      <td>1.875</td>\n",
       "      <td>medical</td>\n",
       "      <td>25.0</td>\n",
       "      <td>960000</td>\n",
       "      <td>960000</td>\n",
       "      <td>27.774830</td>\n",
       "    </tr>\n",
       "    <tr>\n",
       "      <th>3</th>\n",
       "      <td>23</td>\n",
       "      <td>65500</td>\n",
       "      <td>RENT</td>\n",
       "      <td>4.0</td>\n",
       "      <td>MEDICAL</td>\n",
       "      <td>C</td>\n",
       "      <td>35000</td>\n",
       "      <td>15.23</td>\n",
       "      <td>1</td>\n",
       "      <td>0.53</td>\n",
       "      <td>N</td>\n",
       "      <td>2</td>\n",
       "      <td>4</td>\n",
       "      <td>True</td>\n",
       "      <td>1.725</td>\n",
       "      <td>medical</td>\n",
       "      <td>23.0</td>\n",
       "      <td>6550000</td>\n",
       "      <td>6550000</td>\n",
       "      <td>27.774830</td>\n",
       "    </tr>\n",
       "    <tr>\n",
       "      <th>4</th>\n",
       "      <td>24</td>\n",
       "      <td>54400</td>\n",
       "      <td>RENT</td>\n",
       "      <td>8.0</td>\n",
       "      <td>MEDICAL</td>\n",
       "      <td>C</td>\n",
       "      <td>35000</td>\n",
       "      <td>14.27</td>\n",
       "      <td>1</td>\n",
       "      <td>0.55</td>\n",
       "      <td>Y</td>\n",
       "      <td>4</td>\n",
       "      <td>5</td>\n",
       "      <td>True</td>\n",
       "      <td>1.800</td>\n",
       "      <td>medical</td>\n",
       "      <td>24.0</td>\n",
       "      <td>5440000</td>\n",
       "      <td>5440000</td>\n",
       "      <td>27.774830</td>\n",
       "    </tr>\n",
       "  </tbody>\n",
       "</table>\n",
       "</div>"
      ],
      "text/plain": [
       "   age  income person_home_ownership  person_emp_length loan_intent  \\\n",
       "0   22   59000                  RENT              123.0    PERSONAL   \n",
       "1   21    9600                   OWN                5.0   EDUCATION   \n",
       "2   25    9600              MORTGAGE                1.0     MEDICAL   \n",
       "3   23   65500                  RENT                4.0     MEDICAL   \n",
       "4   24   54400                  RENT                8.0     MEDICAL   \n",
       "\n",
       "  loan_grade  loan_amnt  loan_int_rate  loan_status  loan_percent_income  \\\n",
       "0          D      35000          16.02            1                 0.59   \n",
       "1          B       1000          11.14            0                 0.10   \n",
       "2          C       5500          12.87            1                 0.57   \n",
       "3          C      35000          15.23            1                 0.53   \n",
       "4          C      35000          14.27            1                 0.55   \n",
       "\n",
       "  cb_person_default_on_file  cb_person_cred_hist_length  list column  \\\n",
       "0                         Y                           3            1   \n",
       "1                         N                           2            2   \n",
       "2                         N                           3            3   \n",
       "3                         N                           2            4   \n",
       "4                         Y                           4            5   \n",
       "\n",
       "   constant column  function column  lowercase  lambda column  \\\n",
       "0             True            1.650   personal           22.0   \n",
       "1             True            1.575  education           21.0   \n",
       "2             True            1.875    medical           25.0   \n",
       "3             True            1.725    medical           23.0   \n",
       "4             True            1.800    medical           24.0   \n",
       "\n",
       "   row operation column  multiple conditional column   age_mean  \n",
       "0               5900000                      5900000  27.361566  \n",
       "1                960000                       960000  26.470797  \n",
       "2                960000                       960000  27.774830  \n",
       "3               6550000                      6550000  27.774830  \n",
       "4               5440000                      5440000  27.774830  "
      ]
     },
     "execution_count": 54,
     "metadata": {},
     "output_type": "execute_result"
    }
   ],
   "source": [
    "pd.merge(\n",
    "    df, age_mean_df, on=[\"loan_intent\", \"loan_status\"], how=\"left\", suffixes=(\"\", \"_mean\")\n",
    ").head()"
   ]
  },
  {
   "cell_type": "markdown",
   "id": "a812319e",
   "metadata": {},
   "source": [
    "In addition to using `pd.merge()`, each DataFrame has its own `.merge()` method. We generally use this when we are joining more than two DataFrames together because we can “chain” the commands. \n",
    "\n",
    "```python\n",
    "df.merge(age_mean_df).merge(age_mean_df)\n",
    "```"
   ]
  },
  {
   "cell_type": "markdown",
   "id": "bf212ac8",
   "metadata": {},
   "source": [
    "#### **Specifying Join Columns**\n",
    "\n",
    "Because the join columns would mean something different in each table, our default merges would be wrong. One way that we could address this problem is to use `.rename()` to rename the columns for our merges.\n",
    "\n",
    "```python\n",
    "pd.merge(\n",
    "    orders,\n",
    "    customers.rename(columns={'id': 'customer_id'})\n",
    "    )\n",
    "```\n",
    "\n",
    "If we don’t want to do that, we have another option. We could use the keywords `left_on` and `right_on` to specify which columns we want to perform the merge on.\n",
    "\n",
    "```python\n",
    "pd.merge(\n",
    "    orders,\n",
    "    customers,\n",
    "    left_on='customer_id',\n",
    "    right_on='id')\n",
    "```\n",
    "\n",
    "If we use this syntax, we’ll end up with two columns called `id`, one from the first table and one from the second. Pandas won’t let you have two columns with the same name, so it will change them to `id_x` and `id_y`."
   ]
  },
  {
   "cell_type": "markdown",
   "id": "2149a5ce",
   "metadata": {},
   "source": [
    "The new column names `id_x` and `id_y` aren’t very helpful for us when we read the table. We can help make them more useful by using the keyword `suffixes`. We can provide a list of suffixes to use instead of `_x` and `_y`.\n",
    "\n",
    "```python\n",
    "pd.merge(\n",
    "    orders,\n",
    "    customers,\n",
    "    left_on='customer_id',\n",
    "    right_on='id',\n",
    "    suffixes=['_order', '_customer']\n",
    ")\n",
    "```"
   ]
  },
  {
   "cell_type": "markdown",
   "id": "f91b7412",
   "metadata": {},
   "source": [
    "#### **Concatenation**\n",
    "\n",
    "Sometimes, a dataset is broken into multiple tables. For instance, data is often split into multiple CSV files so that each download is smaller.\n",
    "\n",
    "When we need to reconstruct a single DataFrame from multiple smaller DataFrames, we can use the method `pd.concat([df1, df2, df3, ...])`. This method only works if all of the columns are the same in all of the DataFrames.\n",
    "\n",
    "```python\n",
    "# Concatenate the two menus to form a new menu\n",
    "menu = pd.concat([bakery, ice_cream])\n",
    "```"
   ]
  }
 ],
 "metadata": {
  "kernelspec": {
   "display_name": "guide-repo",
   "language": "python",
   "name": "python3"
  },
  "language_info": {
   "codemirror_mode": {
    "name": "ipython",
    "version": 3
   },
   "file_extension": ".py",
   "mimetype": "text/x-python",
   "name": "python",
   "nbconvert_exporter": "python",
   "pygments_lexer": "ipython3",
   "version": "3.13.2"
  }
 },
 "nbformat": 4,
 "nbformat_minor": 5
}
