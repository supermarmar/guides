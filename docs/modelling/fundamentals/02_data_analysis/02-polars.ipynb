{
 "cells": [
  {
   "cell_type": "markdown",
   "id": "e845253b",
   "metadata": {},
   "source": [
    "# **Polars** ❄️\n",
    "\n",
    "Polars and Pandas are both popular Python libraries for data manipulation and analysis, but they have different strengths and weaknesses. The best choice depends on your specific needs and priorities.\n",
    "\n",
    "**Polars Advantages:**\n",
    "\n",
    "* **Performance:** Polars generally outperforms Pandas, especially on larger datasets. This is due to its use of Apache Arrow, a columnar memory format, and its efficient query execution engine. It leverages parallel processing more effectively.\n",
    "\n",
    "* **Memory Efficiency:** Polars' columnar storage and lazy evaluation significantly reduce memory consumption compared to Pandas, allowing it to handle much larger datasets without crashing or slowing down.\n",
    "\n",
    "* **Lazy Evaluation:** Polars uses lazy evaluation, meaning that computations are not performed until the final result is needed. This allows for optimization and can significantly speed up complex operations.\n",
    "\n",
    "* **Data Types:** Polars supports a wider range of data types than Pandas, including more sophisticated categorical types.\n",
    "\n",
    "* **Extensibility:** Polars offers a more flexible and extensible architecture, making it easier to integrate with other libraries and tools.\n",
    "\n",
    "* **Modern API:** Polars features a more modern and intuitive API, often considered easier to learn and use for certain operations.\n",
    "\n",
    "\n",
    "**Polars Disadvantages:**\n",
    "\n",
    "* **Maturity:** Polars is a relatively newer library compared to Pandas, so it has a smaller community and fewer readily available resources (tutorials, documentation, etc.). While the community is growing rapidly, this can still be a hurdle.\n",
    "\n",
    "* **Ecosystem:** The ecosystem of tools and integrations around Pandas is significantly larger. While Polars is catching up, there might be some libraries or workflows that are more readily available for Pandas.\n",
    "\n",
    "* **Learning Curve:** While the API is often considered more modern, the shift from Pandas' familiar syntax can present a learning curve for experienced Pandas users.\n",
    "\n",
    "**In Summary:**\n",
    "\n",
    "| Feature | Polars | Pandas |\n",
    "|-----------------|---------------------------------------|-----------------------------------------|\n",
    "| Performance | Generally superior, especially on large datasets | Can be slow with large datasets |\n",
    "| Memory Efficiency | Significantly better | Can be memory-intensive |\n",
    "| Maturity | Less mature, smaller community | Mature, large and active community |\n",
    "| Ecosystem | Growing rapidly, but smaller | Extensive and well-established |\n",
    "| API | Modern and often considered more intuitive | More established, but can be less intuitive for some tasks |\n",
    "| Lazy Evaluation | Yes | No |\n",
    "\n",
    "\n",
    "Choose **Polars** if:\n",
    "\n",
    "* You're working with extremely large datasets that exceed Pandas' capabilities.\n",
    "* Performance is critical.\n",
    "* Memory efficiency is a major concern.\n",
    "* You value a modern and potentially more intuitive API.\n",
    "\n",
    "\n",
    "Choose **Pandas** if:\n",
    "\n",
    "* You need a mature and well-supported library with extensive documentation and community resources.\n",
    "* You require access to a vast ecosystem of tools and integrations.\n",
    "* You're already proficient in Pandas and the learning curve of Polars is a significant concern.\n",
    "\n",
    "\n",
    "Ultimately, the best way to decide is to try both libraries on your specific data and workflows to see which one better suits your needs. You might even find that using both libraries together, leveraging their respective strengths, is the optimal approach.\n",
    "\n",
    "\n",
    "<https://docs.pola.rs/>"
   ]
  },
  {
   "cell_type": "code",
   "execution_count": 5,
   "id": "07bd5385",
   "metadata": {},
   "outputs": [],
   "source": [
    "import polars as pl"
   ]
  },
  {
   "cell_type": "markdown",
   "id": "8069c2f3",
   "metadata": {},
   "source": [
    "## **DataFrame**\n",
    "\n",
    "Another important type of object in the pandas library is the DataFrame. This object is similar in form to a matrix as it consists of rows and columns. Both rows and columns can be indexed with integers or String names. One DataFrame can contain many different types of data types, but within a column, everything has to be the same data type. A column of a DataFrame is essentially a Series. All columns must have the same number of elements (rows).\n",
    "\n",
    "The default row indices are 0,1,2..., but these can be changed. For example, they can be set to be the elements in one of the columns of the DataFrame.\n"
   ]
  },
  {
   "cell_type": "markdown",
   "id": "829a5717",
   "metadata": {},
   "source": [
    "### **Creation** \n",
    "\n",
    "You can think of a DataFrame as a spreadsheet or as a SQL table. You can manually create a DataFrame or fill it with data from a CSV, an Excel spreadsheet, or a SQL query. \n",
    "\n",
    "#### **Dictionary to DataFrame**\n",
    "\n",
    "You can pass in a dictionary to pd.DataFrame(). Each key is a column name and each value is a list of column values. The columns must all be the same length or you will get an error. "
   ]
  },
  {
   "cell_type": "code",
   "execution_count": 6,
   "id": "65abe8f8",
   "metadata": {},
   "outputs": [
    {
     "data": {
      "text/html": [
       "<div><style>\n",
       ".dataframe > thead > tr,\n",
       ".dataframe > tbody > tr {\n",
       "  text-align: right;\n",
       "  white-space: pre-wrap;\n",
       "}\n",
       "</style>\n",
       "<small>shape: (4, 3)</small><table border=\"1\" class=\"dataframe\"><thead><tr><th>Product ID</th><th>Product Name</th><th>Color</th></tr><tr><td>i64</td><td>str</td><td>str</td></tr></thead><tbody><tr><td>1</td><td>&quot;t-shirt&quot;</td><td>&quot;blue&quot;</td></tr><tr><td>2</td><td>&quot;t-shirt&quot;</td><td>&quot;green&quot;</td></tr><tr><td>3</td><td>&quot;skirt&quot;</td><td>&quot;red&quot;</td></tr><tr><td>4</td><td>&quot;skirt&quot;</td><td>&quot;black&quot;</td></tr></tbody></table></div>"
      ],
      "text/plain": [
       "shape: (4, 3)\n",
       "┌────────────┬──────────────┬───────┐\n",
       "│ Product ID ┆ Product Name ┆ Color │\n",
       "│ ---        ┆ ---          ┆ ---   │\n",
       "│ i64        ┆ str          ┆ str   │\n",
       "╞════════════╪══════════════╪═══════╡\n",
       "│ 1          ┆ t-shirt      ┆ blue  │\n",
       "│ 2          ┆ t-shirt      ┆ green │\n",
       "│ 3          ┆ skirt        ┆ red   │\n",
       "│ 4          ┆ skirt        ┆ black │\n",
       "└────────────┴──────────────┴───────┘"
      ]
     },
     "execution_count": 6,
     "metadata": {},
     "output_type": "execute_result"
    }
   ],
   "source": [
    "dict_input = {\n",
    "    \"Product ID\": [1, 2, 3, 4],\n",
    "    \"Product Name\": [\"t-shirt\", \"t-shirt\", \"skirt\", \"skirt\"],\n",
    "    \"Color\": [\"blue\", \"green\", \"red\", \"black\"],\n",
    "}\n",
    "\n",
    "polars_df1 = pl.DataFrame(dict_input)\n",
    "polars_df1"
   ]
  },
  {
   "cell_type": "markdown",
   "id": "df876af0",
   "metadata": {},
   "source": [
    "#### **Lists to DataFrame**\n",
    "\n",
    "You can also add data using lists.\n",
    "\n",
    "For example, you can pass in a list of lists, where each one represents a row of data. Use the keyword argument columns to pass a list of column names."
   ]
  },
  {
   "cell_type": "code",
   "execution_count": 7,
   "id": "95c97e41",
   "metadata": {},
   "outputs": [
    {
     "name": "stderr",
     "output_type": "stream",
     "text": [
      "C:\\Users\\mario\\AppData\\Local\\Temp\\ipykernel_26068\\2983651217.py:8: DataOrientationWarning: Row orientation inferred during DataFrame construction. Explicitly specify the orientation by passing `orient=\"row\"` to silence this warning.\n",
      "  polars_df2 = pl.DataFrame(list_input, schema=[\"Store ID\", \"Location\", \"Number of Employees\"])\n"
     ]
    },
    {
     "data": {
      "text/html": [
       "<div><style>\n",
       ".dataframe > thead > tr,\n",
       ".dataframe > tbody > tr {\n",
       "  text-align: right;\n",
       "  white-space: pre-wrap;\n",
       "}\n",
       "</style>\n",
       "<small>shape: (4, 3)</small><table border=\"1\" class=\"dataframe\"><thead><tr><th>Store ID</th><th>Location</th><th>Number of Employees</th></tr><tr><td>i64</td><td>str</td><td>i64</td></tr></thead><tbody><tr><td>1</td><td>&quot;San Diego&quot;</td><td>100</td></tr><tr><td>2</td><td>&quot;Los Angeles&quot;</td><td>120</td></tr><tr><td>3</td><td>&quot;San Francisco&quot;</td><td>90</td></tr><tr><td>4</td><td>&quot;Sacramento&quot;</td><td>115</td></tr></tbody></table></div>"
      ],
      "text/plain": [
       "shape: (4, 3)\n",
       "┌──────────┬───────────────┬─────────────────────┐\n",
       "│ Store ID ┆ Location      ┆ Number of Employees │\n",
       "│ ---      ┆ ---           ┆ ---                 │\n",
       "│ i64      ┆ str           ┆ i64                 │\n",
       "╞══════════╪═══════════════╪═════════════════════╡\n",
       "│ 1        ┆ San Diego     ┆ 100                 │\n",
       "│ 2        ┆ Los Angeles   ┆ 120                 │\n",
       "│ 3        ┆ San Francisco ┆ 90                  │\n",
       "│ 4        ┆ Sacramento    ┆ 115                 │\n",
       "└──────────┴───────────────┴─────────────────────┘"
      ]
     },
     "execution_count": 7,
     "metadata": {},
     "output_type": "execute_result"
    }
   ],
   "source": [
    "list_input = [\n",
    "    [1, \"San Diego\", 100],\n",
    "    [2, \"Los Angeles\", 120],\n",
    "    [3, \"San Francisco\", 90],\n",
    "    [4, \"Sacramento\", 115],\n",
    "]\n",
    "\n",
    "polars_df2 = pl.DataFrame(list_input, schema=[\"Store ID\", \"Location\", \"Number of Employees\"])\n",
    "polars_df2"
   ]
  },
  {
   "cell_type": "markdown",
   "id": "52da7d66",
   "metadata": {},
   "source": [
    "#### **External Data**\n",
    "\n",
    "When you have data in a CSV, you can load it into a DataFrame using `read_csv()`. We can also save data to a CSV, using `to_csv()`.\n"
   ]
  },
  {
   "cell_type": "code",
   "execution_count": null,
   "id": "096f8b68",
   "metadata": {},
   "outputs": [
    {
     "ename": "ModuleNotFoundError",
     "evalue": "No module named 'src'",
     "output_type": "error",
     "traceback": [
      "\u001b[31m---------------------------------------------------------------------------\u001b[39m",
      "\u001b[31mModuleNotFoundError\u001b[39m                       Traceback (most recent call last)",
      "\u001b[36mCell\u001b[39m\u001b[36m \u001b[39m\u001b[32mIn[8]\u001b[39m\u001b[32m, line 3\u001b[39m\n\u001b[32m      1\u001b[39m \u001b[38;5;28;01mimport\u001b[39;00m\u001b[38;5;250m \u001b[39m\u001b[34;01mos\u001b[39;00m\n\u001b[32m----> \u001b[39m\u001b[32m3\u001b[39m \u001b[38;5;28;01mfrom\u001b[39;00m\u001b[38;5;250m \u001b[39m\u001b[34;01msrc\u001b[39;00m\u001b[34;01m.\u001b[39;00m\u001b[34;01mconfig\u001b[39;00m\u001b[38;5;250m \u001b[39m\u001b[38;5;28;01mimport\u001b[39;00m CREDIT_RISK_DATA_DIR\n\u001b[32m      5\u001b[39m os.chdir(CREDIT_RISK_DATA_DIR)\n",
      "\u001b[31mModuleNotFoundError\u001b[39m: No module named 'src'"
     ]
    }
   ],
   "source": [
    "import os\n",
    "\n",
    "from src.config import CREDIT_RISK_DATA_DIR\n",
    "\n",
    "os.chdir(CREDIT_RISK_DATA_DIR)"
   ]
  },
  {
   "cell_type": "code",
   "execution_count": null,
   "id": "23ca7f87",
   "metadata": {},
   "outputs": [],
   "source": [
    "df = pl.read_csv(\"credit_risk_dataset.csv\")"
   ]
  },
  {
   "cell_type": "markdown",
   "id": "5b54874f",
   "metadata": {},
   "source": [
    "#### **Dealing with Multiple Files**\n",
    "\n",
    "Often, you have the same data separated out into multiple files.\n",
    "\n",
    "Let’s say that we have a ton of files following the filename structure: `'file1.csv'`, `'file2.csv'`, `'file3.csv'`, and so on. The power of pandas is mainly in being able to manipulate large amounts of structured data. We want to be able to get all of the relevant information into one table so that we can analyze the aggregate data.\n",
    "\n",
    "We can combine the use of `glob`, a Python library for working with files, with `pandas` to organize this data better. `glob` can open multiple files using shell-style wildcard matching to get the filenames:\n",
    "\n",
    "```python\n",
    "import glob\n",
    "import polars as pl\n",
    "\n",
    "files = glob.glob(\"file*.csv\")\n",
    "\n",
    "df_list = []\n",
    "for filename in files:\n",
    "  data = pl.read_csv(filename)\n",
    "  df_list.append(data)\n",
    "\n",
    "df = pd.concat(df_list)\n",
    "\n",
    "print(files)\n",
    "```"
   ]
  },
  {
   "cell_type": "markdown",
   "id": "4e6bd7bb",
   "metadata": {},
   "source": [
    "\n",
    "### **Inspection**\n",
    "\n"
   ]
  },
  {
   "cell_type": "code",
   "execution_count": null,
   "id": "f7406f32",
   "metadata": {},
   "outputs": [
    {
     "data": {
      "text/html": [
       "<div><style>\n",
       ".dataframe > thead > tr,\n",
       ".dataframe > tbody > tr {\n",
       "  text-align: right;\n",
       "  white-space: pre-wrap;\n",
       "}\n",
       "</style>\n",
       "<small>shape: (5, 12)</small><table border=\"1\" class=\"dataframe\"><thead><tr><th>person_age</th><th>person_income</th><th>person_home_ownership</th><th>person_emp_length</th><th>loan_intent</th><th>loan_grade</th><th>loan_amnt</th><th>loan_int_rate</th><th>loan_status</th><th>loan_percent_income</th><th>cb_person_default_on_file</th><th>cb_person_cred_hist_length</th></tr><tr><td>i64</td><td>i64</td><td>str</td><td>f64</td><td>str</td><td>str</td><td>i64</td><td>f64</td><td>i64</td><td>f64</td><td>str</td><td>i64</td></tr></thead><tbody><tr><td>22</td><td>59000</td><td>&quot;RENT&quot;</td><td>123.0</td><td>&quot;PERSONAL&quot;</td><td>&quot;D&quot;</td><td>35000</td><td>16.02</td><td>1</td><td>0.59</td><td>&quot;Y&quot;</td><td>3</td></tr><tr><td>21</td><td>9600</td><td>&quot;OWN&quot;</td><td>5.0</td><td>&quot;EDUCATION&quot;</td><td>&quot;B&quot;</td><td>1000</td><td>11.14</td><td>0</td><td>0.1</td><td>&quot;N&quot;</td><td>2</td></tr><tr><td>25</td><td>9600</td><td>&quot;MORTGAGE&quot;</td><td>1.0</td><td>&quot;MEDICAL&quot;</td><td>&quot;C&quot;</td><td>5500</td><td>12.87</td><td>1</td><td>0.57</td><td>&quot;N&quot;</td><td>3</td></tr><tr><td>23</td><td>65500</td><td>&quot;RENT&quot;</td><td>4.0</td><td>&quot;MEDICAL&quot;</td><td>&quot;C&quot;</td><td>35000</td><td>15.23</td><td>1</td><td>0.53</td><td>&quot;N&quot;</td><td>2</td></tr><tr><td>24</td><td>54400</td><td>&quot;RENT&quot;</td><td>8.0</td><td>&quot;MEDICAL&quot;</td><td>&quot;C&quot;</td><td>35000</td><td>14.27</td><td>1</td><td>0.55</td><td>&quot;Y&quot;</td><td>4</td></tr></tbody></table></div>"
      ],
      "text/plain": [
       "shape: (5, 12)\n",
       "┌───────────┬───────────┬───────────┬───────────┬───┬───────────┬───────────┬───────────┬──────────┐\n",
       "│ person_ag ┆ person_in ┆ person_ho ┆ person_em ┆ … ┆ loan_stat ┆ loan_perc ┆ cb_person ┆ cb_perso │\n",
       "│ e         ┆ come      ┆ me_owners ┆ p_length  ┆   ┆ us        ┆ ent_incom ┆ _default_ ┆ n_cred_h │\n",
       "│ ---       ┆ ---       ┆ hip       ┆ ---       ┆   ┆ ---       ┆ e         ┆ on_file   ┆ ist_leng │\n",
       "│ i64       ┆ i64       ┆ ---       ┆ f64       ┆   ┆ i64       ┆ ---       ┆ ---       ┆ th       │\n",
       "│           ┆           ┆ str       ┆           ┆   ┆           ┆ f64       ┆ str       ┆ ---      │\n",
       "│           ┆           ┆           ┆           ┆   ┆           ┆           ┆           ┆ i64      │\n",
       "╞═══════════╪═══════════╪═══════════╪═══════════╪═══╪═══════════╪═══════════╪═══════════╪══════════╡\n",
       "│ 22        ┆ 59000     ┆ RENT      ┆ 123.0     ┆ … ┆ 1         ┆ 0.59      ┆ Y         ┆ 3        │\n",
       "│ 21        ┆ 9600      ┆ OWN       ┆ 5.0       ┆ … ┆ 0         ┆ 0.1       ┆ N         ┆ 2        │\n",
       "│ 25        ┆ 9600      ┆ MORTGAGE  ┆ 1.0       ┆ … ┆ 1         ┆ 0.57      ┆ N         ┆ 3        │\n",
       "│ 23        ┆ 65500     ┆ RENT      ┆ 4.0       ┆ … ┆ 1         ┆ 0.53      ┆ N         ┆ 2        │\n",
       "│ 24        ┆ 54400     ┆ RENT      ┆ 8.0       ┆ … ┆ 1         ┆ 0.55      ┆ Y         ┆ 4        │\n",
       "└───────────┴───────────┴───────────┴───────────┴───┴───────────┴───────────┴───────────┴──────────┘"
      ]
     },
     "execution_count": 8,
     "metadata": {},
     "output_type": "execute_result"
    }
   ],
   "source": [
    "df.head()"
   ]
  },
  {
   "cell_type": "code",
   "execution_count": null,
   "id": "1c04fcaf",
   "metadata": {},
   "outputs": [],
   "source": [
    "# df.info()"
   ]
  },
  {
   "cell_type": "code",
   "execution_count": null,
   "id": "54e6f8dc",
   "metadata": {},
   "outputs": [
    {
     "name": "stdout",
     "output_type": "stream",
     "text": [
      "Rows: 32581\n",
      "Columns: 12\n",
      "$ person_age                 <i64> 22, 21, 25, 23, 24, 21, 26, 24, 24, 21\n",
      "$ person_income              <i64> 59000, 9600, 9600, 65500, 54400, 9900, 77100, 78956, 83000, 10000\n",
      "$ person_home_ownership      <str> 'RENT', 'OWN', 'MORTGAGE', 'RENT', 'RENT', 'OWN', 'RENT', 'RENT', 'RENT', 'OWN'\n",
      "$ person_emp_length          <f64> 123.0, 5.0, 1.0, 4.0, 8.0, 2.0, 8.0, 5.0, 8.0, 6.0\n",
      "$ loan_intent                <str> 'PERSONAL', 'EDUCATION', 'MEDICAL', 'MEDICAL', 'MEDICAL', 'VENTURE', 'EDUCATION', 'MEDICAL', 'PERSONAL', 'VENTURE'\n",
      "$ loan_grade                 <str> 'D', 'B', 'C', 'C', 'C', 'A', 'B', 'B', 'A', 'D'\n",
      "$ loan_amnt                  <i64> 35000, 1000, 5500, 35000, 35000, 2500, 35000, 35000, 35000, 1600\n",
      "$ loan_int_rate              <f64> 16.02, 11.14, 12.87, 15.23, 14.27, 7.14, 12.42, 11.11, 8.9, 14.74\n",
      "$ loan_status                <i64> 1, 0, 1, 1, 1, 1, 1, 1, 1, 1\n",
      "$ loan_percent_income        <f64> 0.59, 0.1, 0.57, 0.53, 0.55, 0.25, 0.45, 0.44, 0.42, 0.16\n",
      "$ cb_person_default_on_file  <str> 'Y', 'N', 'N', 'N', 'Y', 'N', 'N', 'N', 'N', 'N'\n",
      "$ cb_person_cred_hist_length <i64> 3, 2, 3, 2, 4, 2, 3, 4, 2, 3\n",
      "\n"
     ]
    }
   ],
   "source": [
    "df.glimpse()"
   ]
  },
  {
   "cell_type": "code",
   "execution_count": null,
   "id": "92b92efd",
   "metadata": {},
   "outputs": [
    {
     "data": {
      "text/plain": [
       "['person_age',\n",
       " 'person_income',\n",
       " 'person_home_ownership',\n",
       " 'person_emp_length',\n",
       " 'loan_intent',\n",
       " 'loan_grade',\n",
       " 'loan_amnt',\n",
       " 'loan_int_rate',\n",
       " 'loan_status',\n",
       " 'loan_percent_income',\n",
       " 'cb_person_default_on_file',\n",
       " 'cb_person_cred_hist_length']"
      ]
     },
     "execution_count": 20,
     "metadata": {},
     "output_type": "execute_result"
    }
   ],
   "source": [
    "df.columns"
   ]
  },
  {
   "cell_type": "code",
   "execution_count": null,
   "id": "fa90b5f2",
   "metadata": {},
   "outputs": [
    {
     "data": {
      "text/plain": [
       "[Int64,\n",
       " Int64,\n",
       " String,\n",
       " Float64,\n",
       " String,\n",
       " String,\n",
       " Int64,\n",
       " Float64,\n",
       " Int64,\n",
       " Float64,\n",
       " String,\n",
       " Int64]"
      ]
     },
     "execution_count": 21,
     "metadata": {},
     "output_type": "execute_result"
    }
   ],
   "source": [
    "df.dtypes"
   ]
  },
  {
   "cell_type": "code",
   "execution_count": null,
   "id": "c71c8cfe",
   "metadata": {},
   "outputs": [
    {
     "data": {
      "text/plain": [
       "(32581, 12)"
      ]
     },
     "execution_count": 22,
     "metadata": {},
     "output_type": "execute_result"
    }
   ],
   "source": [
    "df.shape"
   ]
  },
  {
   "cell_type": "code",
   "execution_count": null,
   "id": "8507e55b",
   "metadata": {},
   "outputs": [
    {
     "data": {
      "text/plain": [
       "2667563"
      ]
     },
     "execution_count": 24,
     "metadata": {},
     "output_type": "execute_result"
    }
   ],
   "source": [
    "df.estimated_size()"
   ]
  },
  {
   "cell_type": "markdown",
   "id": "6590f12f",
   "metadata": {},
   "source": [
    "### **Manipulation**"
   ]
  },
  {
   "cell_type": "markdown",
   "id": "b1a41419",
   "metadata": {},
   "source": [
    "#### **Selecting Columns**\n",
    "\n",
    "There are two possible syntaxes for selecting all values from a column:\n",
    "\n",
    "1. Select the column as if you were selecting a value from a dictionary using a key. In our example, we would type `customers['age']` to select the ages.\n",
    "2. If the name of a column follows all of the rules for a variable name (doesn’t start with a number, doesn’t contain spaces or special characters, etc.), then you can select it using the following notation `customers.age`."
   ]
  },
  {
   "cell_type": "code",
   "execution_count": null,
   "id": "498d0cbe",
   "metadata": {},
   "outputs": [
    {
     "data": {
      "text/html": [
       "<div><style>\n",
       ".dataframe > thead > tr,\n",
       ".dataframe > tbody > tr {\n",
       "  text-align: right;\n",
       "  white-space: pre-wrap;\n",
       "}\n",
       "</style>\n",
       "<small>shape: (32_581,)</small><table border=\"1\" class=\"dataframe\"><thead><tr><th>person_age</th></tr><tr><td>i64</td></tr></thead><tbody><tr><td>22</td></tr><tr><td>21</td></tr><tr><td>25</td></tr><tr><td>23</td></tr><tr><td>24</td></tr><tr><td>&hellip;</td></tr><tr><td>57</td></tr><tr><td>54</td></tr><tr><td>65</td></tr><tr><td>56</td></tr><tr><td>66</td></tr></tbody></table></div>"
      ],
      "text/plain": [
       "shape: (32_581,)\n",
       "Series: 'person_age' [i64]\n",
       "[\n",
       "\t22\n",
       "\t21\n",
       "\t25\n",
       "\t23\n",
       "\t24\n",
       "\t…\n",
       "\t57\n",
       "\t54\n",
       "\t65\n",
       "\t56\n",
       "\t66\n",
       "]"
      ]
     },
     "execution_count": 26,
     "metadata": {},
     "output_type": "execute_result"
    }
   ],
   "source": [
    "df[\"person_age\"]"
   ]
  },
  {
   "cell_type": "code",
   "execution_count": null,
   "id": "7601356b",
   "metadata": {},
   "outputs": [
    {
     "data": {
      "text/html": [
       "<div><style>\n",
       ".dataframe > thead > tr,\n",
       ".dataframe > tbody > tr {\n",
       "  text-align: right;\n",
       "  white-space: pre-wrap;\n",
       "}\n",
       "</style>\n",
       "<small>shape: (5, 2)</small><table border=\"1\" class=\"dataframe\"><thead><tr><th>person_age</th><th>loan_grade</th></tr><tr><td>i64</td><td>str</td></tr></thead><tbody><tr><td>22</td><td>&quot;D&quot;</td></tr><tr><td>21</td><td>&quot;B&quot;</td></tr><tr><td>25</td><td>&quot;C&quot;</td></tr><tr><td>23</td><td>&quot;C&quot;</td></tr><tr><td>24</td><td>&quot;C&quot;</td></tr></tbody></table></div>"
      ],
      "text/plain": [
       "shape: (5, 2)\n",
       "┌────────────┬────────────┐\n",
       "│ person_age ┆ loan_grade │\n",
       "│ ---        ┆ ---        │\n",
       "│ i64        ┆ str        │\n",
       "╞════════════╪════════════╡\n",
       "│ 22         ┆ D          │\n",
       "│ 21         ┆ B          │\n",
       "│ 25         ┆ C          │\n",
       "│ 23         ┆ C          │\n",
       "│ 24         ┆ C          │\n",
       "└────────────┴────────────┘"
      ]
     },
     "execution_count": 27,
     "metadata": {},
     "output_type": "execute_result"
    }
   ],
   "source": [
    "subset = df[[\"person_age\", \"loan_grade\"]]\n",
    "subset.head()"
   ]
  },
  {
   "cell_type": "markdown",
   "id": "fdd2339a",
   "metadata": {},
   "source": [
    "#### **Selecting Rows**\n",
    "\n",
    "DataFrames are zero-indexed, meaning that we start with the 0th row and count up from there. When we select a single row, the result is a Series (just like when we select a single column)."
   ]
  },
  {
   "cell_type": "code",
   "execution_count": null,
   "id": "8d1dd1d5",
   "metadata": {},
   "outputs": [
    {
     "data": {
      "text/plain": [
       "(25, 9600, 'MORTGAGE', 1.0, 'MEDICAL', 'C', 5500, 12.87, 1, 0.57, 'N', 3)"
      ]
     },
     "execution_count": 28,
     "metadata": {},
     "output_type": "execute_result"
    }
   ],
   "source": [
    "df.row(2)"
   ]
  },
  {
   "cell_type": "code",
   "execution_count": null,
   "id": "26282307",
   "metadata": {},
   "outputs": [
    {
     "data": {
      "text/html": [
       "<div><style>\n",
       ".dataframe > thead > tr,\n",
       ".dataframe > tbody > tr {\n",
       "  text-align: right;\n",
       "  white-space: pre-wrap;\n",
       "}\n",
       "</style>\n",
       "<small>shape: (3, 12)</small><table border=\"1\" class=\"dataframe\"><thead><tr><th>person_age</th><th>person_income</th><th>person_home_ownership</th><th>person_emp_length</th><th>loan_intent</th><th>loan_grade</th><th>loan_amnt</th><th>loan_int_rate</th><th>loan_status</th><th>loan_percent_income</th><th>cb_person_default_on_file</th><th>cb_person_cred_hist_length</th></tr><tr><td>i64</td><td>i64</td><td>str</td><td>f64</td><td>str</td><td>str</td><td>i64</td><td>f64</td><td>i64</td><td>f64</td><td>str</td><td>i64</td></tr></thead><tbody><tr><td>25</td><td>9600</td><td>&quot;MORTGAGE&quot;</td><td>1.0</td><td>&quot;MEDICAL&quot;</td><td>&quot;C&quot;</td><td>5500</td><td>12.87</td><td>1</td><td>0.57</td><td>&quot;N&quot;</td><td>3</td></tr><tr><td>23</td><td>65500</td><td>&quot;RENT&quot;</td><td>4.0</td><td>&quot;MEDICAL&quot;</td><td>&quot;C&quot;</td><td>35000</td><td>15.23</td><td>1</td><td>0.53</td><td>&quot;N&quot;</td><td>2</td></tr><tr><td>24</td><td>54400</td><td>&quot;RENT&quot;</td><td>8.0</td><td>&quot;MEDICAL&quot;</td><td>&quot;C&quot;</td><td>35000</td><td>14.27</td><td>1</td><td>0.55</td><td>&quot;Y&quot;</td><td>4</td></tr></tbody></table></div>"
      ],
      "text/plain": [
       "shape: (3, 12)\n",
       "┌───────────┬───────────┬───────────┬───────────┬───┬───────────┬───────────┬───────────┬──────────┐\n",
       "│ person_ag ┆ person_in ┆ person_ho ┆ person_em ┆ … ┆ loan_stat ┆ loan_perc ┆ cb_person ┆ cb_perso │\n",
       "│ e         ┆ come      ┆ me_owners ┆ p_length  ┆   ┆ us        ┆ ent_incom ┆ _default_ ┆ n_cred_h │\n",
       "│ ---       ┆ ---       ┆ hip       ┆ ---       ┆   ┆ ---       ┆ e         ┆ on_file   ┆ ist_leng │\n",
       "│ i64       ┆ i64       ┆ ---       ┆ f64       ┆   ┆ i64       ┆ ---       ┆ ---       ┆ th       │\n",
       "│           ┆           ┆ str       ┆           ┆   ┆           ┆ f64       ┆ str       ┆ ---      │\n",
       "│           ┆           ┆           ┆           ┆   ┆           ┆           ┆           ┆ i64      │\n",
       "╞═══════════╪═══════════╪═══════════╪═══════════╪═══╪═══════════╪═══════════╪═══════════╪══════════╡\n",
       "│ 25        ┆ 9600      ┆ MORTGAGE  ┆ 1.0       ┆ … ┆ 1         ┆ 0.57      ┆ N         ┆ 3        │\n",
       "│ 23        ┆ 65500     ┆ RENT      ┆ 4.0       ┆ … ┆ 1         ┆ 0.53      ┆ N         ┆ 2        │\n",
       "│ 24        ┆ 54400     ┆ RENT      ┆ 8.0       ┆ … ┆ 1         ┆ 0.55      ┆ Y         ┆ 4        │\n",
       "└───────────┴───────────┴───────────┴───────────┴───┴───────────┴───────────┴───────────┴──────────┘"
      ]
     },
     "execution_count": 29,
     "metadata": {},
     "output_type": "execute_result"
    }
   ],
   "source": [
    "df.slice(2, 3)"
   ]
  },
  {
   "cell_type": "markdown",
   "id": "9dceb803",
   "metadata": {},
   "source": [
    "#### **Logical Subsets**\n",
    "\n",
    "You can select a subset of a DataFrame by using logical statements. In Python, `==` is how we test if a value is exactly equal to another value.\n"
   ]
  },
  {
   "cell_type": "code",
   "execution_count": null,
   "id": "2cd228d5",
   "metadata": {},
   "outputs": [
    {
     "data": {
      "text/html": [
       "<div><style>\n",
       ".dataframe > thead > tr,\n",
       ".dataframe > tbody > tr {\n",
       "  text-align: right;\n",
       "  white-space: pre-wrap;\n",
       "}\n",
       "</style>\n",
       "<small>shape: (5, 12)</small><table border=\"1\" class=\"dataframe\"><thead><tr><th>person_age</th><th>person_income</th><th>person_home_ownership</th><th>person_emp_length</th><th>loan_intent</th><th>loan_grade</th><th>loan_amnt</th><th>loan_int_rate</th><th>loan_status</th><th>loan_percent_income</th><th>cb_person_default_on_file</th><th>cb_person_cred_hist_length</th></tr><tr><td>i64</td><td>i64</td><td>str</td><td>f64</td><td>str</td><td>str</td><td>i64</td><td>f64</td><td>i64</td><td>f64</td><td>str</td><td>i64</td></tr></thead><tbody><tr><td>144</td><td>250000</td><td>&quot;RENT&quot;</td><td>4.0</td><td>&quot;VENTURE&quot;</td><td>&quot;C&quot;</td><td>4800</td><td>13.57</td><td>0</td><td>0.02</td><td>&quot;N&quot;</td><td>3</td></tr><tr><td>144</td><td>200000</td><td>&quot;MORTGAGE&quot;</td><td>4.0</td><td>&quot;EDUCATION&quot;</td><td>&quot;B&quot;</td><td>6000</td><td>11.86</td><td>0</td><td>0.03</td><td>&quot;N&quot;</td><td>2</td></tr><tr><td>123</td><td>80004</td><td>&quot;RENT&quot;</td><td>2.0</td><td>&quot;EDUCATION&quot;</td><td>&quot;B&quot;</td><td>20400</td><td>10.25</td><td>0</td><td>0.25</td><td>&quot;N&quot;</td><td>3</td></tr><tr><td>123</td><td>78000</td><td>&quot;RENT&quot;</td><td>7.0</td><td>&quot;VENTURE&quot;</td><td>&quot;B&quot;</td><td>20000</td><td>null</td><td>0</td><td>0.26</td><td>&quot;N&quot;</td><td>4</td></tr><tr><td>32</td><td>1200000</td><td>&quot;MORTGAGE&quot;</td><td>1.0</td><td>&quot;VENTURE&quot;</td><td>&quot;A&quot;</td><td>12000</td><td>7.51</td><td>0</td><td>0.01</td><td>&quot;N&quot;</td><td>8</td></tr></tbody></table></div>"
      ],
      "text/plain": [
       "shape: (5, 12)\n",
       "┌───────────┬───────────┬───────────┬───────────┬───┬───────────┬───────────┬───────────┬──────────┐\n",
       "│ person_ag ┆ person_in ┆ person_ho ┆ person_em ┆ … ┆ loan_stat ┆ loan_perc ┆ cb_person ┆ cb_perso │\n",
       "│ e         ┆ come      ┆ me_owners ┆ p_length  ┆   ┆ us        ┆ ent_incom ┆ _default_ ┆ n_cred_h │\n",
       "│ ---       ┆ ---       ┆ hip       ┆ ---       ┆   ┆ ---       ┆ e         ┆ on_file   ┆ ist_leng │\n",
       "│ i64       ┆ i64       ┆ ---       ┆ f64       ┆   ┆ i64       ┆ ---       ┆ ---       ┆ th       │\n",
       "│           ┆           ┆ str       ┆           ┆   ┆           ┆ f64       ┆ str       ┆ ---      │\n",
       "│           ┆           ┆           ┆           ┆   ┆           ┆           ┆           ┆ i64      │\n",
       "╞═══════════╪═══════════╪═══════════╪═══════════╪═══╪═══════════╪═══════════╪═══════════╪══════════╡\n",
       "│ 144       ┆ 250000    ┆ RENT      ┆ 4.0       ┆ … ┆ 0         ┆ 0.02      ┆ N         ┆ 3        │\n",
       "│ 144       ┆ 200000    ┆ MORTGAGE  ┆ 4.0       ┆ … ┆ 0         ┆ 0.03      ┆ N         ┆ 2        │\n",
       "│ 123       ┆ 80004     ┆ RENT      ┆ 2.0       ┆ … ┆ 0         ┆ 0.25      ┆ N         ┆ 3        │\n",
       "│ 123       ┆ 78000     ┆ RENT      ┆ 7.0       ┆ … ┆ 0         ┆ 0.26      ┆ N         ┆ 4        │\n",
       "│ 32        ┆ 1200000   ┆ MORTGAGE  ┆ 1.0       ┆ … ┆ 0         ┆ 0.01      ┆ N         ┆ 8        │\n",
       "└───────────┴───────────┴───────────┴───────────┴───┴───────────┴───────────┴───────────┴──────────┘"
      ]
     },
     "execution_count": 30,
     "metadata": {},
     "output_type": "execute_result"
    }
   ],
   "source": [
    "df.filter(pl.col(\"person_age\") > 30).head()"
   ]
  },
  {
   "cell_type": "markdown",
   "id": "3becad15",
   "metadata": {},
   "source": [
    "You can also combine multiple logical statements, as long as each statement is in parentheses. In Python, `|` means “or” and `&` means “and”."
   ]
  },
  {
   "cell_type": "code",
   "execution_count": null,
   "id": "f226364a",
   "metadata": {},
   "outputs": [
    {
     "data": {
      "text/html": [
       "<div><style>\n",
       ".dataframe > thead > tr,\n",
       ".dataframe > tbody > tr {\n",
       "  text-align: right;\n",
       "  white-space: pre-wrap;\n",
       "}\n",
       "</style>\n",
       "<small>shape: (5, 12)</small><table border=\"1\" class=\"dataframe\"><thead><tr><th>person_age</th><th>person_income</th><th>person_home_ownership</th><th>person_emp_length</th><th>loan_intent</th><th>loan_grade</th><th>loan_amnt</th><th>loan_int_rate</th><th>loan_status</th><th>loan_percent_income</th><th>cb_person_default_on_file</th><th>cb_person_cred_hist_length</th></tr><tr><td>i64</td><td>i64</td><td>str</td><td>f64</td><td>str</td><td>str</td><td>i64</td><td>f64</td><td>i64</td><td>f64</td><td>str</td><td>i64</td></tr></thead><tbody><tr><td>144</td><td>250000</td><td>&quot;RENT&quot;</td><td>4.0</td><td>&quot;VENTURE&quot;</td><td>&quot;C&quot;</td><td>4800</td><td>13.57</td><td>0</td><td>0.02</td><td>&quot;N&quot;</td><td>3</td></tr><tr><td>123</td><td>78000</td><td>&quot;RENT&quot;</td><td>7.0</td><td>&quot;VENTURE&quot;</td><td>&quot;B&quot;</td><td>20000</td><td>null</td><td>0</td><td>0.26</td><td>&quot;N&quot;</td><td>4</td></tr><tr><td>32</td><td>1200000</td><td>&quot;MORTGAGE&quot;</td><td>1.0</td><td>&quot;VENTURE&quot;</td><td>&quot;A&quot;</td><td>12000</td><td>7.51</td><td>0</td><td>0.01</td><td>&quot;N&quot;</td><td>8</td></tr><tr><td>34</td><td>120000</td><td>&quot;RENT&quot;</td><td>17.0</td><td>&quot;VENTURE&quot;</td><td>&quot;B&quot;</td><td>35000</td><td>10.59</td><td>0</td><td>0.29</td><td>&quot;N&quot;</td><td>6</td></tr><tr><td>33</td><td>350000</td><td>&quot;MORTGAGE&quot;</td><td>0.0</td><td>&quot;VENTURE&quot;</td><td>&quot;C&quot;</td><td>10000</td><td>14.65</td><td>0</td><td>0.03</td><td>&quot;Y&quot;</td><td>10</td></tr></tbody></table></div>"
      ],
      "text/plain": [
       "shape: (5, 12)\n",
       "┌───────────┬───────────┬───────────┬───────────┬───┬───────────┬───────────┬───────────┬──────────┐\n",
       "│ person_ag ┆ person_in ┆ person_ho ┆ person_em ┆ … ┆ loan_stat ┆ loan_perc ┆ cb_person ┆ cb_perso │\n",
       "│ e         ┆ come      ┆ me_owners ┆ p_length  ┆   ┆ us        ┆ ent_incom ┆ _default_ ┆ n_cred_h │\n",
       "│ ---       ┆ ---       ┆ hip       ┆ ---       ┆   ┆ ---       ┆ e         ┆ on_file   ┆ ist_leng │\n",
       "│ i64       ┆ i64       ┆ ---       ┆ f64       ┆   ┆ i64       ┆ ---       ┆ ---       ┆ th       │\n",
       "│           ┆           ┆ str       ┆           ┆   ┆           ┆ f64       ┆ str       ┆ ---      │\n",
       "│           ┆           ┆           ┆           ┆   ┆           ┆           ┆           ┆ i64      │\n",
       "╞═══════════╪═══════════╪═══════════╪═══════════╪═══╪═══════════╪═══════════╪═══════════╪══════════╡\n",
       "│ 144       ┆ 250000    ┆ RENT      ┆ 4.0       ┆ … ┆ 0         ┆ 0.02      ┆ N         ┆ 3        │\n",
       "│ 123       ┆ 78000     ┆ RENT      ┆ 7.0       ┆ … ┆ 0         ┆ 0.26      ┆ N         ┆ 4        │\n",
       "│ 32        ┆ 1200000   ┆ MORTGAGE  ┆ 1.0       ┆ … ┆ 0         ┆ 0.01      ┆ N         ┆ 8        │\n",
       "│ 34        ┆ 120000    ┆ RENT      ┆ 17.0      ┆ … ┆ 0         ┆ 0.29      ┆ N         ┆ 6        │\n",
       "│ 33        ┆ 350000    ┆ MORTGAGE  ┆ 0.0       ┆ … ┆ 0         ┆ 0.03      ┆ Y         ┆ 10       │\n",
       "└───────────┴───────────┴───────────┴───────────┴───┴───────────┴───────────┴───────────┴──────────┘"
      ]
     },
     "execution_count": 31,
     "metadata": {},
     "output_type": "execute_result"
    }
   ],
   "source": [
    "df.filter((pl.col(\"person_age\") > 30) & (pl.col(\"loan_intent\") == \"VENTURE\")).head()"
   ]
  },
  {
   "cell_type": "markdown",
   "id": "4b2fe5c9",
   "metadata": {},
   "source": [
    "We could use the `is_in` command to check that a column is one of a list of values."
   ]
  },
  {
   "cell_type": "code",
   "execution_count": null,
   "id": "ae5855a9",
   "metadata": {},
   "outputs": [
    {
     "data": {
      "text/html": [
       "<div><style>\n",
       ".dataframe > thead > tr,\n",
       ".dataframe > tbody > tr {\n",
       "  text-align: right;\n",
       "  white-space: pre-wrap;\n",
       "}\n",
       "</style>\n",
       "<small>shape: (5, 12)</small><table border=\"1\" class=\"dataframe\"><thead><tr><th>person_age</th><th>person_income</th><th>person_home_ownership</th><th>person_emp_length</th><th>loan_intent</th><th>loan_grade</th><th>loan_amnt</th><th>loan_int_rate</th><th>loan_status</th><th>loan_percent_income</th><th>cb_person_default_on_file</th><th>cb_person_cred_hist_length</th></tr><tr><td>i64</td><td>i64</td><td>str</td><td>f64</td><td>str</td><td>str</td><td>i64</td><td>f64</td><td>i64</td><td>f64</td><td>str</td><td>i64</td></tr></thead><tbody><tr><td>21</td><td>9600</td><td>&quot;OWN&quot;</td><td>5.0</td><td>&quot;EDUCATION&quot;</td><td>&quot;B&quot;</td><td>1000</td><td>11.14</td><td>0</td><td>0.1</td><td>&quot;N&quot;</td><td>2</td></tr><tr><td>25</td><td>9600</td><td>&quot;MORTGAGE&quot;</td><td>1.0</td><td>&quot;MEDICAL&quot;</td><td>&quot;C&quot;</td><td>5500</td><td>12.87</td><td>1</td><td>0.57</td><td>&quot;N&quot;</td><td>3</td></tr><tr><td>23</td><td>65500</td><td>&quot;RENT&quot;</td><td>4.0</td><td>&quot;MEDICAL&quot;</td><td>&quot;C&quot;</td><td>35000</td><td>15.23</td><td>1</td><td>0.53</td><td>&quot;N&quot;</td><td>2</td></tr><tr><td>24</td><td>54400</td><td>&quot;RENT&quot;</td><td>8.0</td><td>&quot;MEDICAL&quot;</td><td>&quot;C&quot;</td><td>35000</td><td>14.27</td><td>1</td><td>0.55</td><td>&quot;Y&quot;</td><td>4</td></tr><tr><td>26</td><td>77100</td><td>&quot;RENT&quot;</td><td>8.0</td><td>&quot;EDUCATION&quot;</td><td>&quot;B&quot;</td><td>35000</td><td>12.42</td><td>1</td><td>0.45</td><td>&quot;N&quot;</td><td>3</td></tr></tbody></table></div>"
      ],
      "text/plain": [
       "shape: (5, 12)\n",
       "┌───────────┬───────────┬───────────┬───────────┬───┬───────────┬───────────┬───────────┬──────────┐\n",
       "│ person_ag ┆ person_in ┆ person_ho ┆ person_em ┆ … ┆ loan_stat ┆ loan_perc ┆ cb_person ┆ cb_perso │\n",
       "│ e         ┆ come      ┆ me_owners ┆ p_length  ┆   ┆ us        ┆ ent_incom ┆ _default_ ┆ n_cred_h │\n",
       "│ ---       ┆ ---       ┆ hip       ┆ ---       ┆   ┆ ---       ┆ e         ┆ on_file   ┆ ist_leng │\n",
       "│ i64       ┆ i64       ┆ ---       ┆ f64       ┆   ┆ i64       ┆ ---       ┆ ---       ┆ th       │\n",
       "│           ┆           ┆ str       ┆           ┆   ┆           ┆ f64       ┆ str       ┆ ---      │\n",
       "│           ┆           ┆           ┆           ┆   ┆           ┆           ┆           ┆ i64      │\n",
       "╞═══════════╪═══════════╪═══════════╪═══════════╪═══╪═══════════╪═══════════╪═══════════╪══════════╡\n",
       "│ 21        ┆ 9600      ┆ OWN       ┆ 5.0       ┆ … ┆ 0         ┆ 0.1       ┆ N         ┆ 2        │\n",
       "│ 25        ┆ 9600      ┆ MORTGAGE  ┆ 1.0       ┆ … ┆ 1         ┆ 0.57      ┆ N         ┆ 3        │\n",
       "│ 23        ┆ 65500     ┆ RENT      ┆ 4.0       ┆ … ┆ 1         ┆ 0.53      ┆ N         ┆ 2        │\n",
       "│ 24        ┆ 54400     ┆ RENT      ┆ 8.0       ┆ … ┆ 1         ┆ 0.55      ┆ Y         ┆ 4        │\n",
       "│ 26        ┆ 77100     ┆ RENT      ┆ 8.0       ┆ … ┆ 1         ┆ 0.45      ┆ N         ┆ 3        │\n",
       "└───────────┴───────────┴───────────┴───────────┴───┴───────────┴───────────┴───────────┴──────────┘"
      ]
     },
     "execution_count": 32,
     "metadata": {},
     "output_type": "execute_result"
    }
   ],
   "source": [
    "df.filter(pl.col(\"loan_grade\").is_in([\"C\", \"B\"])).head()"
   ]
  },
  {
   "cell_type": "markdown",
   "id": "8fcb7ba2",
   "metadata": {},
   "source": [
    "#### **Setting Indices**\n",
    "\n",
    "When we select a subset of a DataFrame using logic, we end up with non-consecutive indices. This is inelegant and makes it hard to use `iloc()`. We can fix this using the method `reset_index()`. Note that the old indices have been moved into a new column called 'index'. Unless you need those values for something special, it’s probably better to use the keyword `drop=True`. If we use the keyword `inplace=True` we can just modify our existing DataFrame. You can also change the name of the index by setting a name to `names`."
   ]
  },
  {
   "cell_type": "code",
   "execution_count": null,
   "id": "0b4b696c",
   "metadata": {},
   "outputs": [
    {
     "data": {
      "text/html": [
       "<div><style>\n",
       ".dataframe > thead > tr,\n",
       ".dataframe > tbody > tr {\n",
       "  text-align: right;\n",
       "  white-space: pre-wrap;\n",
       "}\n",
       "</style>\n",
       "<small>shape: (5, 13)</small><table border=\"1\" class=\"dataframe\"><thead><tr><th>index</th><th>person_age</th><th>person_income</th><th>person_home_ownership</th><th>person_emp_length</th><th>loan_intent</th><th>loan_grade</th><th>loan_amnt</th><th>loan_int_rate</th><th>loan_status</th><th>loan_percent_income</th><th>cb_person_default_on_file</th><th>cb_person_cred_hist_length</th></tr><tr><td>u32</td><td>i64</td><td>i64</td><td>str</td><td>f64</td><td>str</td><td>str</td><td>i64</td><td>f64</td><td>i64</td><td>f64</td><td>str</td><td>i64</td></tr></thead><tbody><tr><td>0</td><td>22</td><td>59000</td><td>&quot;RENT&quot;</td><td>123.0</td><td>&quot;PERSONAL&quot;</td><td>&quot;D&quot;</td><td>35000</td><td>16.02</td><td>1</td><td>0.59</td><td>&quot;Y&quot;</td><td>3</td></tr><tr><td>1</td><td>21</td><td>9600</td><td>&quot;OWN&quot;</td><td>5.0</td><td>&quot;EDUCATION&quot;</td><td>&quot;B&quot;</td><td>1000</td><td>11.14</td><td>0</td><td>0.1</td><td>&quot;N&quot;</td><td>2</td></tr><tr><td>2</td><td>25</td><td>9600</td><td>&quot;MORTGAGE&quot;</td><td>1.0</td><td>&quot;MEDICAL&quot;</td><td>&quot;C&quot;</td><td>5500</td><td>12.87</td><td>1</td><td>0.57</td><td>&quot;N&quot;</td><td>3</td></tr><tr><td>3</td><td>23</td><td>65500</td><td>&quot;RENT&quot;</td><td>4.0</td><td>&quot;MEDICAL&quot;</td><td>&quot;C&quot;</td><td>35000</td><td>15.23</td><td>1</td><td>0.53</td><td>&quot;N&quot;</td><td>2</td></tr><tr><td>4</td><td>24</td><td>54400</td><td>&quot;RENT&quot;</td><td>8.0</td><td>&quot;MEDICAL&quot;</td><td>&quot;C&quot;</td><td>35000</td><td>14.27</td><td>1</td><td>0.55</td><td>&quot;Y&quot;</td><td>4</td></tr></tbody></table></div>"
      ],
      "text/plain": [
       "shape: (5, 13)\n",
       "┌───────┬────────────┬────────────┬────────────┬───┬───────────┬───────────┬───────────┬───────────┐\n",
       "│ index ┆ person_age ┆ person_inc ┆ person_hom ┆ … ┆ loan_stat ┆ loan_perc ┆ cb_person ┆ cb_person │\n",
       "│ ---   ┆ ---        ┆ ome        ┆ e_ownershi ┆   ┆ us        ┆ ent_incom ┆ _default_ ┆ _cred_his │\n",
       "│ u32   ┆ i64        ┆ ---        ┆ p          ┆   ┆ ---       ┆ e         ┆ on_file   ┆ t_length  │\n",
       "│       ┆            ┆ i64        ┆ ---        ┆   ┆ i64       ┆ ---       ┆ ---       ┆ ---       │\n",
       "│       ┆            ┆            ┆ str        ┆   ┆           ┆ f64       ┆ str       ┆ i64       │\n",
       "╞═══════╪════════════╪════════════╪════════════╪═══╪═══════════╪═══════════╪═══════════╪═══════════╡\n",
       "│ 0     ┆ 22         ┆ 59000      ┆ RENT       ┆ … ┆ 1         ┆ 0.59      ┆ Y         ┆ 3         │\n",
       "│ 1     ┆ 21         ┆ 9600       ┆ OWN        ┆ … ┆ 0         ┆ 0.1       ┆ N         ┆ 2         │\n",
       "│ 2     ┆ 25         ┆ 9600       ┆ MORTGAGE   ┆ … ┆ 1         ┆ 0.57      ┆ N         ┆ 3         │\n",
       "│ 3     ┆ 23         ┆ 65500      ┆ RENT       ┆ … ┆ 1         ┆ 0.53      ┆ N         ┆ 2         │\n",
       "│ 4     ┆ 24         ┆ 54400      ┆ RENT       ┆ … ┆ 1         ┆ 0.55      ┆ Y         ┆ 4         │\n",
       "└───────┴────────────┴────────────┴────────────┴───┴───────────┴───────────┴───────────┴───────────┘"
      ]
     },
     "execution_count": 34,
     "metadata": {},
     "output_type": "execute_result"
    }
   ],
   "source": [
    "df_reset = df.with_row_index(\"index\")\n",
    "df_reset.head()"
   ]
  },
  {
   "cell_type": "markdown",
   "id": "53d835cf",
   "metadata": {},
   "source": [
    "#### **Adding Columns**\n",
    "\n",
    "Sometimes, we want to add a column to an existing DataFrame. We might want to add new information or perform a calculation based on the data that we already have."
   ]
  },
  {
   "cell_type": "markdown",
   "id": "2bb5d036",
   "metadata": {},
   "source": [
    "One way that we can add a new column is by giving a list of the same length as the existing DataFrame."
   ]
  },
  {
   "cell_type": "code",
   "execution_count": null,
   "id": "ff9ec592",
   "metadata": {},
   "outputs": [],
   "source": [
    "df[\"List Column\"] = list(range(1, len(df) + 1))"
   ]
  },
  {
   "cell_type": "markdown",
   "id": "98bb1b4d",
   "metadata": {},
   "source": [
    "We can also add a new column that is the same for all rows in the DataFrame. "
   ]
  },
  {
   "cell_type": "code",
   "execution_count": null,
   "id": "ab52f705",
   "metadata": {},
   "outputs": [],
   "source": [
    "df = df.with_columns(pl.lit(True).alias(\"Constant Column\"))  # Adds column D with value 10"
   ]
  },
  {
   "cell_type": "markdown",
   "id": "585b59c9",
   "metadata": {},
   "source": [
    "Finally, you can add a new column by performing a function on the existing columns."
   ]
  },
  {
   "cell_type": "code",
   "execution_count": null,
   "id": "193fe990",
   "metadata": {},
   "outputs": [],
   "source": [
    "polars_df = df.with_columns(\n",
    "    (df[\"person_age\"] * 0.075).alias(\"Function Column\")  # A transformation based on other columns\n",
    ")"
   ]
  },
  {
   "cell_type": "markdown",
   "id": "2589adca",
   "metadata": {},
   "source": [
    "#### **Column Operations**\n",
    "\n",
    "Often, the column that we want to add is related to existing columns, but requires a calculation more complex than multiplication or addition. We can use the `apply` function to apply a function to every value in a particular column."
   ]
  },
  {
   "cell_type": "code",
   "execution_count": null,
   "id": "23644c58",
   "metadata": {},
   "outputs": [],
   "source": [
    "df = df.with_columns(pl.col(\"loan_intent\").str.to_lowercase().alias(\"Lowercase\"))"
   ]
  },
  {
   "cell_type": "markdown",
   "id": "4e00f12c",
   "metadata": {},
   "source": [
    "A lambda function is a way of defining a function in a single line of code. Usually, we would assign them to a variable. We can make our lambdas more complex by using a modified form of an if statement."
   ]
  },
  {
   "cell_type": "code",
   "execution_count": null,
   "id": "7cf7f4cd",
   "metadata": {},
   "outputs": [],
   "source": [
    "def myfunction(x):\n",
    "    if x > 40:\n",
    "        return 40 + (x - 40) * 1.50\n",
    "    else:\n",
    "        return x"
   ]
  },
  {
   "cell_type": "markdown",
   "id": "ff678a77",
   "metadata": {},
   "source": [
    "Below is a lambda function that does the same thing:"
   ]
  },
  {
   "cell_type": "code",
   "execution_count": null,
   "id": "ac4e1049",
   "metadata": {},
   "outputs": [],
   "source": [
    "myfunction = lambda x: 40 + (x - 40) * 1.50"
   ]
  },
  {
   "cell_type": "markdown",
   "id": "11968c1d",
   "metadata": {},
   "source": [
    "In general, the syntax for an if function in a lambda function is:\n",
    "\n",
    "```python\n",
    "lambda x: [OUTCOME IF TRUE] if [CONDITIONAL] else [OUTCOME IF FALSE]\n",
    "```"
   ]
  },
  {
   "cell_type": "markdown",
   "id": "34e86e9a",
   "metadata": {},
   "source": [
    "In Pandas, we often use lambda functions to perform complex operations on columns. "
   ]
  },
  {
   "cell_type": "code",
   "execution_count": null,
   "id": "7df40d32",
   "metadata": {},
   "outputs": [
    {
     "name": "stderr",
     "output_type": "stream",
     "text": [
      "C:\\Users\\mervedosa\\AppData\\Local\\Temp\\ipykernel_27960\\266569076.py:3: PolarsInefficientMapWarning: \n",
      "Expr.map_elements is significantly slower than the native expressions API.\n",
      "Only use if you absolutely CANNOT implement your logic otherwise.\n",
      "Replace this expression...\n",
      "  - pl.col(\"person_age\").map_elements(lambda x: ...)\n",
      "with this one instead:\n",
      "  + 40 + ((pl.col(\"person_age\") - 40) * 1.5)\n",
      "\n",
      "  .map_elements(myfunction)\n",
      "C:\\Users\\mervedosa\\AppData\\Local\\Temp\\ipykernel_27960\\266569076.py:1: MapWithoutReturnDtypeWarning: Calling `map_elements` without specifying `return_dtype` can lead to unpredictable results. Specify `return_dtype` to silence this warning.\n",
      "  df = df.with_columns(\n"
     ]
    }
   ],
   "source": [
    "df = df.with_columns(pl.col(\"person_age\").map_elements(myfunction).alias(\"Lambda Column\"))"
   ]
  },
  {
   "cell_type": "markdown",
   "id": "c498210e",
   "metadata": {},
   "source": [
    "#### **Row Operations**\n",
    "\n",
    "This Polars code uses `pl.when` and `pl.then`/`pl.otherwise` to mimic the conditional logic of your Pandas `lambda` function. This approach is significantly faster and more memory-efficient than using `apply` for large datasets because it operates on entire columns at once rather than row by row. Remember to replace the sample data with your actual data loading. This vectorized method is the recommended approach in Polars for optimal performance."
   ]
  },
  {
   "cell_type": "code",
   "execution_count": null,
   "id": "5ebd3c3b",
   "metadata": {},
   "outputs": [],
   "source": [
    "df = df.with_columns(\n",
    "    pl.when(pl.col(\"person_age\") > 60)\n",
    "    .then(pl.col(\"person_age\") + pl.col(\"person_income\"))\n",
    "    .otherwise(pl.col(\"person_income\") * 100)\n",
    "    .alias(\"Row Operation Column\")\n",
    ")"
   ]
  },
  {
   "cell_type": "markdown",
   "id": "a01405ed",
   "metadata": {},
   "source": [
    "No, you cannot directly use NumPy's `np.where` function within Polars. Polars has its own equivalent functionality built into its expression system, specifically the `pl.when().then().otherwise()` construct, as demonstrated in the previous examples. This is designed for better performance and integration with Polars' data structures."
   ]
  },
  {
   "cell_type": "markdown",
   "id": "bc17f7f0",
   "metadata": {},
   "source": [
    "#### **Renaming Columns**\n",
    "\n",
    "This code uses a lambda function within the rename method to convert each column name to lowercase. This is a concise and efficient way to perform this operation in Polars."
   ]
  },
  {
   "cell_type": "code",
   "execution_count": null,
   "id": "90139efd",
   "metadata": {},
   "outputs": [
    {
     "data": {
      "text/plain": [
       "['person_age',\n",
       " 'person_income',\n",
       " 'person_home_ownership',\n",
       " 'person_emp_length',\n",
       " 'loan_intent',\n",
       " 'loan_grade',\n",
       " 'loan_amnt',\n",
       " 'loan_int_rate',\n",
       " 'loan_status',\n",
       " 'loan_percent_income',\n",
       " 'cb_person_default_on_file',\n",
       " 'cb_person_cred_hist_length',\n",
       " 'constant column',\n",
       " 'lowercase',\n",
       " 'lambda column',\n",
       " 'row operation column']"
      ]
     },
     "execution_count": 59,
     "metadata": {},
     "output_type": "execute_result"
    }
   ],
   "source": [
    "# Rename columns to lowercase\n",
    "df = df.rename(lambda col_name: col_name.lower())\n",
    "df.columns"
   ]
  },
  {
   "cell_type": "markdown",
   "id": "28d05fd7",
   "metadata": {},
   "source": [
    "You also can rename individual columns by using the `.rename` method. Pass a dictionary like the one below to the `columns` keyword argument:"
   ]
  },
  {
   "cell_type": "code",
   "execution_count": null,
   "id": "9224a970",
   "metadata": {},
   "outputs": [
    {
     "data": {
      "text/plain": [
       "['age',\n",
       " 'income',\n",
       " 'person_home_ownership',\n",
       " 'person_emp_length',\n",
       " 'loan_intent',\n",
       " 'loan_grade',\n",
       " 'loan_amnt',\n",
       " 'loan_int_rate',\n",
       " 'loan_status',\n",
       " 'loan_percent_income',\n",
       " 'cb_person_default_on_file',\n",
       " 'cb_person_cred_hist_length',\n",
       " 'constant column',\n",
       " 'lowercase',\n",
       " 'lambda column',\n",
       " 'row operation column']"
      ]
     },
     "execution_count": 65,
     "metadata": {},
     "output_type": "execute_result"
    }
   ],
   "source": [
    "# Rename columns\n",
    "df = df.rename({\"person_age\": \"age\", \"person_income\": \"income\"})\n",
    "df.columns"
   ]
  },
  {
   "cell_type": "markdown",
   "id": "4728c5e7",
   "metadata": {},
   "source": [
    "### **Aggregation**\n",
    "\n",
    "#### **Group By**\n",
    "\n",
    "In general, we use the following syntax to calculate aggregates:\n",
    "\n",
    "```python\n",
    "df.groupby('column1').column2.measurement()\n",
    "```"
   ]
  },
  {
   "cell_type": "code",
   "execution_count": null,
   "id": "8f16d94c",
   "metadata": {},
   "outputs": [
    {
     "data": {
      "text/html": [
       "<div><style>\n",
       ".dataframe > thead > tr,\n",
       ".dataframe > tbody > tr {\n",
       "  text-align: right;\n",
       "  white-space: pre-wrap;\n",
       "}\n",
       "</style>\n",
       "<small>shape: (6, 2)</small><table border=\"1\" class=\"dataframe\"><thead><tr><th>loan_intent</th><th>age</th></tr><tr><td>str</td><td>f64</td></tr></thead><tbody><tr><td>&quot;DEBTCONSOLIDATION&quot;</td><td>27.606293</td></tr><tr><td>&quot;PERSONAL&quot;</td><td>28.208477</td></tr><tr><td>&quot;MEDICAL&quot;</td><td>27.998023</td></tr><tr><td>&quot;VENTURE&quot;</td><td>27.568456</td></tr><tr><td>&quot;HOMEIMPROVEMENT&quot;</td><td>29.066574</td></tr><tr><td>&quot;EDUCATION&quot;</td><td>26.588099</td></tr></tbody></table></div>"
      ],
      "text/plain": [
       "shape: (6, 2)\n",
       "┌───────────────────┬───────────┐\n",
       "│ loan_intent       ┆ age       │\n",
       "│ ---               ┆ ---       │\n",
       "│ str               ┆ f64       │\n",
       "╞═══════════════════╪═══════════╡\n",
       "│ DEBTCONSOLIDATION ┆ 27.606293 │\n",
       "│ PERSONAL          ┆ 28.208477 │\n",
       "│ MEDICAL           ┆ 27.998023 │\n",
       "│ VENTURE           ┆ 27.568456 │\n",
       "│ HOMEIMPROVEMENT   ┆ 29.066574 │\n",
       "│ EDUCATION         ┆ 26.588099 │\n",
       "└───────────────────┴───────────┘"
      ]
     },
     "execution_count": 66,
     "metadata": {},
     "output_type": "execute_result"
    }
   ],
   "source": [
    "df.group_by(\"loan_intent\").agg(pl.col(\"age\").mean())"
   ]
  },
  {
   "cell_type": "markdown",
   "id": "9069b9e4",
   "metadata": {},
   "source": [
    "Sometimes, the operation that you want to perform is more complicated than `mean` or `count`. In those cases, you can use the `apply` method and `lambda` functions, just like we did for individual column operations. Note that the input to our `lambda` function will always be a list of values."
   ]
  },
  {
   "cell_type": "code",
   "execution_count": null,
   "id": "c5c33fbc",
   "metadata": {},
   "outputs": [],
   "source": [
    "# Calculate the 75th percentile of income for each loan_intent group\n",
    "result = df.group_by(\"loan_intent\").agg(pl.col(\"income\").quantile(0.75))"
   ]
  },
  {
   "cell_type": "markdown",
   "id": "42da2be3",
   "metadata": {},
   "source": [
    "Sometimes, we want to group by more than one column. We can easily do this by passing a list of column names into the `groupby` method."
   ]
  },
  {
   "cell_type": "code",
   "execution_count": null,
   "id": "bd25cdae",
   "metadata": {},
   "outputs": [],
   "source": [
    "# Group by loan_intent and loan_status, calculate mean age\n",
    "result = df.group_by([\"loan_intent\", \"loan_status\"]).agg(pl.col(\"age\").mean())"
   ]
  },
  {
   "cell_type": "markdown",
   "id": "c6b7c5b4",
   "metadata": {},
   "source": [
    "We can also perform multiple aggregations on a single column."
   ]
  },
  {
   "cell_type": "code",
   "execution_count": null,
   "id": "0f45f4f2",
   "metadata": {},
   "outputs": [],
   "source": [
    "# Group by loan_intent and calculate mean, median, and standard deviation of income\n",
    "result = df.group_by(\"loan_intent\").agg(\n",
    "    [\n",
    "        pl.col(\"income\").mean().alias(\"mean_income\"),\n",
    "        pl.col(\"income\").median().alias(\"median_income\"),\n",
    "        pl.col(\"income\").std().alias(\"std_income\"),\n",
    "    ]\n",
    ")"
   ]
  },
  {
   "cell_type": "markdown",
   "id": "e8d33022",
   "metadata": {},
   "source": [
    "You can finally perform multiple aggregations on multiple grouping columns."
   ]
  },
  {
   "cell_type": "code",
   "execution_count": null,
   "id": "477cbfe8",
   "metadata": {},
   "outputs": [],
   "source": [
    "# Group and aggregate in Polars\n",
    "result = df.group_by([\"loan_intent\", \"loan_status\"]).agg(\n",
    "    [\n",
    "        pl.col(\"age\").mean().alias(\"mean_age\"),\n",
    "        pl.col(\"age\").median().alias(\"median_age\"),\n",
    "        pl.col(\"income\").mean().alias(\"mean_income\"),\n",
    "        pl.col(\"income\").median().alias(\"median_income\"),\n",
    "    ]\n",
    ")"
   ]
  },
  {
   "cell_type": "markdown",
   "id": "fd43495e",
   "metadata": {},
   "source": [
    "#### **Pivot Tables**\n",
    "\n",
    "When we perform a groupby across multiple columns, we often want to change how our data is stored. Reorganizing a table in this way is called pivoting. The new table is called a pivot table.\n",
    "\n",
    "```python\n",
    "df.pivot(columns='ColumnToPivot',\n",
    "         index='ColumnToBeRows',\n",
    "         values='ColumnToBeValues')\n",
    "```\n",
    "\n",
    "Just like with groupby, the output of a pivot command is a new DataFrame, but the indexing tends to be “weird”, so we usually follow up with `.reset_index()`."
   ]
  },
  {
   "cell_type": "code",
   "execution_count": null,
   "id": "b5c3db88",
   "metadata": {},
   "outputs": [
    {
     "data": {
      "text/html": [
       "<div><style>\n",
       ".dataframe > thead > tr,\n",
       ".dataframe > tbody > tr {\n",
       "  text-align: right;\n",
       "  white-space: pre-wrap;\n",
       "}\n",
       "</style>\n",
       "<small>shape: (2, 7)</small><table border=\"1\" class=\"dataframe\"><thead><tr><th>loan_status</th><th>VENTURE</th><th>DEBTCONSOLIDATION</th><th>EDUCATION</th><th>HOMEIMPROVEMENT</th><th>MEDICAL</th><th>PERSONAL</th></tr><tr><td>i64</td><td>f64</td><td>f64</td><td>f64</td><td>f64</td><td>f64</td><td>f64</td></tr></thead><tbody><tr><td>1</td><td>26.838253</td><td>27.709396</td><td>27.152115</td><td>27.671626</td><td>27.77483</td><td>27.361566</td></tr><tr><td>0</td><td>27.695402</td><td>27.565019</td><td>26.470797</td><td>29.559309</td><td>28.079326</td><td>28.41872</td></tr></tbody></table></div>"
      ],
      "text/plain": [
       "shape: (2, 7)\n",
       "┌─────────────┬───────────┬──────────────────┬───────────┬─────────────────┬───────────┬───────────┐\n",
       "│ loan_status ┆ VENTURE   ┆ DEBTCONSOLIDATIO ┆ EDUCATION ┆ HOMEIMPROVEMENT ┆ MEDICAL   ┆ PERSONAL  │\n",
       "│ ---         ┆ ---       ┆ N                ┆ ---       ┆ ---             ┆ ---       ┆ ---       │\n",
       "│ i64         ┆ f64       ┆ ---              ┆ f64       ┆ f64             ┆ f64       ┆ f64       │\n",
       "│             ┆           ┆ f64              ┆           ┆                 ┆           ┆           │\n",
       "╞═════════════╪═══════════╪══════════════════╪═══════════╪═════════════════╪═══════════╪═══════════╡\n",
       "│ 1           ┆ 26.838253 ┆ 27.709396        ┆ 27.152115 ┆ 27.671626       ┆ 27.77483  ┆ 27.361566 │\n",
       "│ 0           ┆ 27.695402 ┆ 27.565019        ┆ 26.470797 ┆ 29.559309       ┆ 28.079326 ┆ 28.41872  │\n",
       "└─────────────┴───────────┴──────────────────┴───────────┴─────────────────┴───────────┴───────────┘"
      ]
     },
     "execution_count": 78,
     "metadata": {},
     "output_type": "execute_result"
    }
   ],
   "source": [
    "# Efficient pivot in Polars\n",
    "df.group_by([\"loan_intent\", \"loan_status\"]).agg(pl.col(\"age\").mean()).pivot(\n",
    "    \"loan_intent\", index=\"loan_status\", values=\"age\"\n",
    ")"
   ]
  },
  {
   "cell_type": "markdown",
   "id": "564632f2",
   "metadata": {},
   "source": [
    "Alternatively, the grouping can be performed in the pivot table itself."
   ]
  },
  {
   "cell_type": "code",
   "execution_count": null,
   "id": "6d4a9124",
   "metadata": {},
   "outputs": [
    {
     "name": "stderr",
     "output_type": "stream",
     "text": [
      "C:\\Users\\mervedosa\\AppData\\Local\\Temp\\ipykernel_27960\\3344192038.py:1: DeprecationWarning: the argument `columns` for `DataFrame.pivot` is deprecated. It was renamed to `on` in version 1.0.0.\n",
      "  df.pivot(index=\"loan_intent\", columns=\"loan_status\", values=\"age\", aggregate_function='mean')\n"
     ]
    },
    {
     "data": {
      "text/html": [
       "<div><style>\n",
       ".dataframe > thead > tr,\n",
       ".dataframe > tbody > tr {\n",
       "  text-align: right;\n",
       "  white-space: pre-wrap;\n",
       "}\n",
       "</style>\n",
       "<small>shape: (6, 3)</small><table border=\"1\" class=\"dataframe\"><thead><tr><th>loan_intent</th><th>1</th><th>0</th></tr><tr><td>str</td><td>f64</td><td>f64</td></tr></thead><tbody><tr><td>&quot;PERSONAL&quot;</td><td>27.361566</td><td>28.41872</td></tr><tr><td>&quot;EDUCATION&quot;</td><td>27.152115</td><td>26.470797</td></tr><tr><td>&quot;MEDICAL&quot;</td><td>27.77483</td><td>28.079326</td></tr><tr><td>&quot;VENTURE&quot;</td><td>26.838253</td><td>27.695402</td></tr><tr><td>&quot;HOMEIMPROVEMENT&quot;</td><td>27.671626</td><td>29.559309</td></tr><tr><td>&quot;DEBTCONSOLIDATION&quot;</td><td>27.709396</td><td>27.565019</td></tr></tbody></table></div>"
      ],
      "text/plain": [
       "shape: (6, 3)\n",
       "┌───────────────────┬───────────┬───────────┐\n",
       "│ loan_intent       ┆ 1         ┆ 0         │\n",
       "│ ---               ┆ ---       ┆ ---       │\n",
       "│ str               ┆ f64       ┆ f64       │\n",
       "╞═══════════════════╪═══════════╪═══════════╡\n",
       "│ PERSONAL          ┆ 27.361566 ┆ 28.41872  │\n",
       "│ EDUCATION         ┆ 27.152115 ┆ 26.470797 │\n",
       "│ MEDICAL           ┆ 27.77483  ┆ 28.079326 │\n",
       "│ VENTURE           ┆ 26.838253 ┆ 27.695402 │\n",
       "│ HOMEIMPROVEMENT   ┆ 27.671626 ┆ 29.559309 │\n",
       "│ DEBTCONSOLIDATION ┆ 27.709396 ┆ 27.565019 │\n",
       "└───────────────────┴───────────┴───────────┘"
      ]
     },
     "execution_count": 81,
     "metadata": {},
     "output_type": "execute_result"
    }
   ],
   "source": [
    "df.pivot(index=\"loan_intent\", columns=\"loan_status\", values=\"age\", aggregate_function=\"mean\")"
   ]
  },
  {
   "cell_type": "markdown",
   "id": "338ba2ef",
   "metadata": {},
   "source": [
    "### **Multiple Tables**\n",
    "\n",
    "#### **Merging**\n",
    "\n",
    "The `.merge()` method looks for columns that are common between two DataFrames and then looks for rows where those column’s values are the same. It then combines the matching rows into a single row in a new table."
   ]
  },
  {
   "cell_type": "code",
   "execution_count": null,
   "id": "6630c8fa",
   "metadata": {},
   "outputs": [],
   "source": [
    "# Efficient merge in Polars\n",
    "merged_df = df.join(result, on=[\"loan_intent\", \"loan_status\"], how=\"left\")"
   ]
  },
  {
   "cell_type": "markdown",
   "id": "bf212ac8",
   "metadata": {},
   "source": [
    "#### **Specifying Join Columns**\n",
    "\n",
    "Because the join columns would mean something different in each table, our default merges would be wrong. One way that we could address this problem is to use `.rename()` to rename the columns for our merges.\n",
    "\n",
    "```python\n",
    "# Efficient merge in Polars\n",
    "merged_df = orders.join(customers.rename({\"id\": \"customer_id\"}), on=\"customer_id\", how=\"inner\")\n",
    "```\n",
    "\n",
    "If we don’t want to do that, we have another option. We could use the keywords `left_on` and `right_on` to specify which columns we want to perform the merge on.\n",
    "\n",
    "```python\n",
    "# Efficient merge in Polars\n",
    "merged = orders.join(customers, left_on=\"customer_id\", right_on=\"id\", how=\"inner\")\n",
    "```\n",
    "\n",
    "If we use this syntax, we’ll end up with two columns called `id`, one from the first table and one from the second. Pandas won’t let you have two columns with the same name, so it will change them to `id_x` and `id_y`."
   ]
  },
  {
   "cell_type": "markdown",
   "id": "2149a5ce",
   "metadata": {},
   "source": [
    "Polars' join method handles potential naming conflicts automatically by appending suffixes (usually `_x` and `_y`). If you need more control over suffixes, you can rename conflicting columns before performing the join, as shown in the commented-out section."
   ]
  },
  {
   "cell_type": "markdown",
   "id": "f91b7412",
   "metadata": {},
   "source": [
    "#### **Concatenation**\n",
    "\n",
    "Sometimes, a dataset is broken into multiple tables. For instance, data is often split into multiple CSV files so that each download is smaller.\n",
    "\n",
    "When we need to reconstruct a single DataFrame from multiple smaller DataFrames, we can use the method `pl.concat([df1, df2, df3, ...])`. This method only works if all of the columns are the same in all of the DataFrames.\n",
    "\n",
    "```python\n",
    "# Concatenate the two menus to form a new menu\n",
    "menu = pl.concat([bakery, ice_cream])\n",
    "```"
   ]
  }
 ],
 "metadata": {
  "kernelspec": {
   "display_name": "guide-repo",
   "language": "python",
   "name": "python3"
  },
  "language_info": {
   "codemirror_mode": {
    "name": "ipython",
    "version": 3
   },
   "file_extension": ".py",
   "mimetype": "text/x-python",
   "name": "python",
   "nbconvert_exporter": "python",
   "pygments_lexer": "ipython3",
   "version": "3.13.2"
  }
 },
 "nbformat": 4,
 "nbformat_minor": 5
}
